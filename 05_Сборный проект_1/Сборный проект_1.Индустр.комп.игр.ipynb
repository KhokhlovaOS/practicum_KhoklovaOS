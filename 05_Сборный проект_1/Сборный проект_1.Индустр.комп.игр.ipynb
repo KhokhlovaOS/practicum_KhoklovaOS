{
 "cells": [
  {
   "cell_type": "markdown",
   "metadata": {},
   "source": [
    "# Сборный проект.\n",
    "\n"
   ]
  },
  {
   "cell_type": "markdown",
   "metadata": {},
   "source": [
    "# Описание проекта:\n",
    "Вы работаете в интернет-магазине «Стримчик», который продаёт по всему миру компьютерные игры. Из открытых источников доступны исторические данные о продажах игр, оценки пользователей и экспертов, жанры и платформы (например, Xbox или PlayStation). Вам нужно выявить определяющие успешность игры закономерности. Это позволит сделать ставку на потенциально популярный продукт и спланировать рекламные кампании.\n",
    "Перед вами данные до 2016 года. Представим, что сейчас декабрь 2016 г., и вы планируете кампанию на 2017-й. Нужно отработать принцип работы с данными. Неважно, прогнозируете ли вы продажи на 2017 год по данным 2016-го или же 2027-й — по данным 2026 года.\n",
    "В наборе данных попадается аббревиатура ESRB (Entertainment Software Rating Board) — это ассоциация, определяющая возрастной рейтинг компьютерных игр. ESRB оценивает игровой контент и присваивает ему подходящую возрастную категорию, например, «Для взрослых», «Для детей младшего возраста» или «Для подростков»."
   ]
  },
  {
   "cell_type": "markdown",
   "metadata": {},
   "source": [
    "# 1. Открытие таблицы и изучение данных."
   ]
  },
  {
   "cell_type": "code",
   "execution_count": 1,
   "metadata": {},
   "outputs": [
    {
     "data": {
      "text/html": [
       "<div>\n",
       "<style scoped>\n",
       "    .dataframe tbody tr th:only-of-type {\n",
       "        vertical-align: middle;\n",
       "    }\n",
       "\n",
       "    .dataframe tbody tr th {\n",
       "        vertical-align: top;\n",
       "    }\n",
       "\n",
       "    .dataframe thead th {\n",
       "        text-align: right;\n",
       "    }\n",
       "</style>\n",
       "<table border=\"1\" class=\"dataframe\">\n",
       "  <thead>\n",
       "    <tr style=\"text-align: right;\">\n",
       "      <th></th>\n",
       "      <th>Name</th>\n",
       "      <th>Platform</th>\n",
       "      <th>Year_of_Release</th>\n",
       "      <th>Genre</th>\n",
       "      <th>NA_sales</th>\n",
       "      <th>EU_sales</th>\n",
       "      <th>JP_sales</th>\n",
       "      <th>Other_sales</th>\n",
       "      <th>Critic_Score</th>\n",
       "      <th>User_Score</th>\n",
       "      <th>Rating</th>\n",
       "    </tr>\n",
       "  </thead>\n",
       "  <tbody>\n",
       "    <tr>\n",
       "      <th>0</th>\n",
       "      <td>Wii Sports</td>\n",
       "      <td>Wii</td>\n",
       "      <td>2006.0</td>\n",
       "      <td>Sports</td>\n",
       "      <td>41.36</td>\n",
       "      <td>28.96</td>\n",
       "      <td>3.77</td>\n",
       "      <td>8.45</td>\n",
       "      <td>76.0</td>\n",
       "      <td>8</td>\n",
       "      <td>E</td>\n",
       "    </tr>\n",
       "    <tr>\n",
       "      <th>1</th>\n",
       "      <td>Super Mario Bros.</td>\n",
       "      <td>NES</td>\n",
       "      <td>1985.0</td>\n",
       "      <td>Platform</td>\n",
       "      <td>29.08</td>\n",
       "      <td>3.58</td>\n",
       "      <td>6.81</td>\n",
       "      <td>0.77</td>\n",
       "      <td>NaN</td>\n",
       "      <td>NaN</td>\n",
       "      <td>NaN</td>\n",
       "    </tr>\n",
       "    <tr>\n",
       "      <th>2</th>\n",
       "      <td>Mario Kart Wii</td>\n",
       "      <td>Wii</td>\n",
       "      <td>2008.0</td>\n",
       "      <td>Racing</td>\n",
       "      <td>15.68</td>\n",
       "      <td>12.76</td>\n",
       "      <td>3.79</td>\n",
       "      <td>3.29</td>\n",
       "      <td>82.0</td>\n",
       "      <td>8.3</td>\n",
       "      <td>E</td>\n",
       "    </tr>\n",
       "    <tr>\n",
       "      <th>3</th>\n",
       "      <td>Wii Sports Resort</td>\n",
       "      <td>Wii</td>\n",
       "      <td>2009.0</td>\n",
       "      <td>Sports</td>\n",
       "      <td>15.61</td>\n",
       "      <td>10.93</td>\n",
       "      <td>3.28</td>\n",
       "      <td>2.95</td>\n",
       "      <td>80.0</td>\n",
       "      <td>8</td>\n",
       "      <td>E</td>\n",
       "    </tr>\n",
       "    <tr>\n",
       "      <th>4</th>\n",
       "      <td>Pokemon Red/Pokemon Blue</td>\n",
       "      <td>GB</td>\n",
       "      <td>1996.0</td>\n",
       "      <td>Role-Playing</td>\n",
       "      <td>11.27</td>\n",
       "      <td>8.89</td>\n",
       "      <td>10.22</td>\n",
       "      <td>1.00</td>\n",
       "      <td>NaN</td>\n",
       "      <td>NaN</td>\n",
       "      <td>NaN</td>\n",
       "    </tr>\n",
       "    <tr>\n",
       "      <th>5</th>\n",
       "      <td>Tetris</td>\n",
       "      <td>GB</td>\n",
       "      <td>1989.0</td>\n",
       "      <td>Puzzle</td>\n",
       "      <td>23.20</td>\n",
       "      <td>2.26</td>\n",
       "      <td>4.22</td>\n",
       "      <td>0.58</td>\n",
       "      <td>NaN</td>\n",
       "      <td>NaN</td>\n",
       "      <td>NaN</td>\n",
       "    </tr>\n",
       "    <tr>\n",
       "      <th>6</th>\n",
       "      <td>New Super Mario Bros.</td>\n",
       "      <td>DS</td>\n",
       "      <td>2006.0</td>\n",
       "      <td>Platform</td>\n",
       "      <td>11.28</td>\n",
       "      <td>9.14</td>\n",
       "      <td>6.50</td>\n",
       "      <td>2.88</td>\n",
       "      <td>89.0</td>\n",
       "      <td>8.5</td>\n",
       "      <td>E</td>\n",
       "    </tr>\n",
       "    <tr>\n",
       "      <th>7</th>\n",
       "      <td>Wii Play</td>\n",
       "      <td>Wii</td>\n",
       "      <td>2006.0</td>\n",
       "      <td>Misc</td>\n",
       "      <td>13.96</td>\n",
       "      <td>9.18</td>\n",
       "      <td>2.93</td>\n",
       "      <td>2.84</td>\n",
       "      <td>58.0</td>\n",
       "      <td>6.6</td>\n",
       "      <td>E</td>\n",
       "    </tr>\n",
       "    <tr>\n",
       "      <th>8</th>\n",
       "      <td>New Super Mario Bros. Wii</td>\n",
       "      <td>Wii</td>\n",
       "      <td>2009.0</td>\n",
       "      <td>Platform</td>\n",
       "      <td>14.44</td>\n",
       "      <td>6.94</td>\n",
       "      <td>4.70</td>\n",
       "      <td>2.24</td>\n",
       "      <td>87.0</td>\n",
       "      <td>8.4</td>\n",
       "      <td>E</td>\n",
       "    </tr>\n",
       "    <tr>\n",
       "      <th>9</th>\n",
       "      <td>Duck Hunt</td>\n",
       "      <td>NES</td>\n",
       "      <td>1984.0</td>\n",
       "      <td>Shooter</td>\n",
       "      <td>26.93</td>\n",
       "      <td>0.63</td>\n",
       "      <td>0.28</td>\n",
       "      <td>0.47</td>\n",
       "      <td>NaN</td>\n",
       "      <td>NaN</td>\n",
       "      <td>NaN</td>\n",
       "    </tr>\n",
       "    <tr>\n",
       "      <th>10</th>\n",
       "      <td>Nintendogs</td>\n",
       "      <td>DS</td>\n",
       "      <td>2005.0</td>\n",
       "      <td>Simulation</td>\n",
       "      <td>9.05</td>\n",
       "      <td>10.95</td>\n",
       "      <td>1.93</td>\n",
       "      <td>2.74</td>\n",
       "      <td>NaN</td>\n",
       "      <td>NaN</td>\n",
       "      <td>NaN</td>\n",
       "    </tr>\n",
       "    <tr>\n",
       "      <th>11</th>\n",
       "      <td>Mario Kart DS</td>\n",
       "      <td>DS</td>\n",
       "      <td>2005.0</td>\n",
       "      <td>Racing</td>\n",
       "      <td>9.71</td>\n",
       "      <td>7.47</td>\n",
       "      <td>4.13</td>\n",
       "      <td>1.90</td>\n",
       "      <td>91.0</td>\n",
       "      <td>8.6</td>\n",
       "      <td>E</td>\n",
       "    </tr>\n",
       "    <tr>\n",
       "      <th>12</th>\n",
       "      <td>Pokemon Gold/Pokemon Silver</td>\n",
       "      <td>GB</td>\n",
       "      <td>1999.0</td>\n",
       "      <td>Role-Playing</td>\n",
       "      <td>9.00</td>\n",
       "      <td>6.18</td>\n",
       "      <td>7.20</td>\n",
       "      <td>0.71</td>\n",
       "      <td>NaN</td>\n",
       "      <td>NaN</td>\n",
       "      <td>NaN</td>\n",
       "    </tr>\n",
       "    <tr>\n",
       "      <th>13</th>\n",
       "      <td>Wii Fit</td>\n",
       "      <td>Wii</td>\n",
       "      <td>2007.0</td>\n",
       "      <td>Sports</td>\n",
       "      <td>8.92</td>\n",
       "      <td>8.03</td>\n",
       "      <td>3.60</td>\n",
       "      <td>2.15</td>\n",
       "      <td>80.0</td>\n",
       "      <td>7.7</td>\n",
       "      <td>E</td>\n",
       "    </tr>\n",
       "    <tr>\n",
       "      <th>14</th>\n",
       "      <td>Kinect Adventures!</td>\n",
       "      <td>X360</td>\n",
       "      <td>2010.0</td>\n",
       "      <td>Misc</td>\n",
       "      <td>15.00</td>\n",
       "      <td>4.89</td>\n",
       "      <td>0.24</td>\n",
       "      <td>1.69</td>\n",
       "      <td>61.0</td>\n",
       "      <td>6.3</td>\n",
       "      <td>E</td>\n",
       "    </tr>\n",
       "    <tr>\n",
       "      <th>15</th>\n",
       "      <td>Wii Fit Plus</td>\n",
       "      <td>Wii</td>\n",
       "      <td>2009.0</td>\n",
       "      <td>Sports</td>\n",
       "      <td>9.01</td>\n",
       "      <td>8.49</td>\n",
       "      <td>2.53</td>\n",
       "      <td>1.77</td>\n",
       "      <td>80.0</td>\n",
       "      <td>7.4</td>\n",
       "      <td>E</td>\n",
       "    </tr>\n",
       "    <tr>\n",
       "      <th>16</th>\n",
       "      <td>Grand Theft Auto V</td>\n",
       "      <td>PS3</td>\n",
       "      <td>2013.0</td>\n",
       "      <td>Action</td>\n",
       "      <td>7.02</td>\n",
       "      <td>9.09</td>\n",
       "      <td>0.98</td>\n",
       "      <td>3.96</td>\n",
       "      <td>97.0</td>\n",
       "      <td>8.2</td>\n",
       "      <td>M</td>\n",
       "    </tr>\n",
       "    <tr>\n",
       "      <th>17</th>\n",
       "      <td>Grand Theft Auto: San Andreas</td>\n",
       "      <td>PS2</td>\n",
       "      <td>2004.0</td>\n",
       "      <td>Action</td>\n",
       "      <td>9.43</td>\n",
       "      <td>0.40</td>\n",
       "      <td>0.41</td>\n",
       "      <td>10.57</td>\n",
       "      <td>95.0</td>\n",
       "      <td>9</td>\n",
       "      <td>M</td>\n",
       "    </tr>\n",
       "    <tr>\n",
       "      <th>18</th>\n",
       "      <td>Super Mario World</td>\n",
       "      <td>SNES</td>\n",
       "      <td>1990.0</td>\n",
       "      <td>Platform</td>\n",
       "      <td>12.78</td>\n",
       "      <td>3.75</td>\n",
       "      <td>3.54</td>\n",
       "      <td>0.55</td>\n",
       "      <td>NaN</td>\n",
       "      <td>NaN</td>\n",
       "      <td>NaN</td>\n",
       "    </tr>\n",
       "    <tr>\n",
       "      <th>19</th>\n",
       "      <td>Brain Age: Train Your Brain in Minutes a Day</td>\n",
       "      <td>DS</td>\n",
       "      <td>2005.0</td>\n",
       "      <td>Misc</td>\n",
       "      <td>4.74</td>\n",
       "      <td>9.20</td>\n",
       "      <td>4.16</td>\n",
       "      <td>2.04</td>\n",
       "      <td>77.0</td>\n",
       "      <td>7.9</td>\n",
       "      <td>E</td>\n",
       "    </tr>\n",
       "  </tbody>\n",
       "</table>\n",
       "</div>"
      ],
      "text/plain": [
       "                                            Name Platform  Year_of_Release  \\\n",
       "0                                     Wii Sports      Wii           2006.0   \n",
       "1                              Super Mario Bros.      NES           1985.0   \n",
       "2                                 Mario Kart Wii      Wii           2008.0   \n",
       "3                              Wii Sports Resort      Wii           2009.0   \n",
       "4                       Pokemon Red/Pokemon Blue       GB           1996.0   \n",
       "5                                         Tetris       GB           1989.0   \n",
       "6                          New Super Mario Bros.       DS           2006.0   \n",
       "7                                       Wii Play      Wii           2006.0   \n",
       "8                      New Super Mario Bros. Wii      Wii           2009.0   \n",
       "9                                      Duck Hunt      NES           1984.0   \n",
       "10                                    Nintendogs       DS           2005.0   \n",
       "11                                 Mario Kart DS       DS           2005.0   \n",
       "12                   Pokemon Gold/Pokemon Silver       GB           1999.0   \n",
       "13                                       Wii Fit      Wii           2007.0   \n",
       "14                            Kinect Adventures!     X360           2010.0   \n",
       "15                                  Wii Fit Plus      Wii           2009.0   \n",
       "16                            Grand Theft Auto V      PS3           2013.0   \n",
       "17                 Grand Theft Auto: San Andreas      PS2           2004.0   \n",
       "18                             Super Mario World     SNES           1990.0   \n",
       "19  Brain Age: Train Your Brain in Minutes a Day       DS           2005.0   \n",
       "\n",
       "           Genre  NA_sales  EU_sales  JP_sales  Other_sales  Critic_Score  \\\n",
       "0         Sports     41.36     28.96      3.77         8.45          76.0   \n",
       "1       Platform     29.08      3.58      6.81         0.77           NaN   \n",
       "2         Racing     15.68     12.76      3.79         3.29          82.0   \n",
       "3         Sports     15.61     10.93      3.28         2.95          80.0   \n",
       "4   Role-Playing     11.27      8.89     10.22         1.00           NaN   \n",
       "5         Puzzle     23.20      2.26      4.22         0.58           NaN   \n",
       "6       Platform     11.28      9.14      6.50         2.88          89.0   \n",
       "7           Misc     13.96      9.18      2.93         2.84          58.0   \n",
       "8       Platform     14.44      6.94      4.70         2.24          87.0   \n",
       "9        Shooter     26.93      0.63      0.28         0.47           NaN   \n",
       "10    Simulation      9.05     10.95      1.93         2.74           NaN   \n",
       "11        Racing      9.71      7.47      4.13         1.90          91.0   \n",
       "12  Role-Playing      9.00      6.18      7.20         0.71           NaN   \n",
       "13        Sports      8.92      8.03      3.60         2.15          80.0   \n",
       "14          Misc     15.00      4.89      0.24         1.69          61.0   \n",
       "15        Sports      9.01      8.49      2.53         1.77          80.0   \n",
       "16        Action      7.02      9.09      0.98         3.96          97.0   \n",
       "17        Action      9.43      0.40      0.41        10.57          95.0   \n",
       "18      Platform     12.78      3.75      3.54         0.55           NaN   \n",
       "19          Misc      4.74      9.20      4.16         2.04          77.0   \n",
       "\n",
       "   User_Score Rating  \n",
       "0           8      E  \n",
       "1         NaN    NaN  \n",
       "2         8.3      E  \n",
       "3           8      E  \n",
       "4         NaN    NaN  \n",
       "5         NaN    NaN  \n",
       "6         8.5      E  \n",
       "7         6.6      E  \n",
       "8         8.4      E  \n",
       "9         NaN    NaN  \n",
       "10        NaN    NaN  \n",
       "11        8.6      E  \n",
       "12        NaN    NaN  \n",
       "13        7.7      E  \n",
       "14        6.3      E  \n",
       "15        7.4      E  \n",
       "16        8.2      M  \n",
       "17          9      M  \n",
       "18        NaN    NaN  \n",
       "19        7.9      E  "
      ]
     },
     "metadata": {},
     "output_type": "display_data"
    }
   ],
   "source": [
    "import pandas as pd\n",
    "import matplotlib.pyplot as plt #библиотека для построения диаграмм\n",
    "import seaborn as sns\n",
    "from scipy import stats as st\n",
    "import numpy as np\n",
    "\n",
    "\n",
    "game = pd.read_csv('/datasets/games.csv')#вывод 20 cтрок таблицы на экран\n",
    "display(game.head(20))"
   ]
  },
  {
   "cell_type": "markdown",
   "metadata": {},
   "source": [
    "В столбце Years_of_Replase некорректно указаны данные, нужно приветси год к целому числу. Данные в столбцах Critic_Score b User_Score должны иметь целочисленные значения, так как это оценки. Также нужно приветси к нижннму регистру название столбцов, разобраться в пропусках  и типе данных в иаблице."
   ]
  },
  {
   "cell_type": "code",
   "execution_count": 2,
   "metadata": {},
   "outputs": [
    {
     "name": "stdout",
     "output_type": "stream",
     "text": [
      "<class 'pandas.core.frame.DataFrame'>\n",
      "RangeIndex: 16715 entries, 0 to 16714\n",
      "Data columns (total 11 columns):\n",
      " #   Column           Non-Null Count  Dtype  \n",
      "---  ------           --------------  -----  \n",
      " 0   Name             16713 non-null  object \n",
      " 1   Platform         16715 non-null  object \n",
      " 2   Year_of_Release  16446 non-null  float64\n",
      " 3   Genre            16713 non-null  object \n",
      " 4   NA_sales         16715 non-null  float64\n",
      " 5   EU_sales         16715 non-null  float64\n",
      " 6   JP_sales         16715 non-null  float64\n",
      " 7   Other_sales      16715 non-null  float64\n",
      " 8   Critic_Score     8137 non-null   float64\n",
      " 9   User_Score       10014 non-null  object \n",
      " 10  Rating           9949 non-null   object \n",
      "dtypes: float64(6), object(5)\n",
      "memory usage: 1.4+ MB\n",
      "Число дубликатов в таблице: 0\n"
     ]
    },
    {
     "data": {
      "text/plain": [
       "Name                  2\n",
       "Platform              0\n",
       "Year_of_Release     269\n",
       "Genre                 2\n",
       "NA_sales              0\n",
       "EU_sales              0\n",
       "JP_sales              0\n",
       "Other_sales           0\n",
       "Critic_Score       8578\n",
       "User_Score         6701\n",
       "Rating             6766\n",
       "dtype: int64"
      ]
     },
     "metadata": {},
     "output_type": "display_data"
    },
    {
     "data": {
      "text/html": [
       "<div>\n",
       "<style scoped>\n",
       "    .dataframe tbody tr th:only-of-type {\n",
       "        vertical-align: middle;\n",
       "    }\n",
       "\n",
       "    .dataframe tbody tr th {\n",
       "        vertical-align: top;\n",
       "    }\n",
       "\n",
       "    .dataframe thead th {\n",
       "        text-align: right;\n",
       "    }\n",
       "</style>\n",
       "<table border=\"1\" class=\"dataframe\">\n",
       "  <thead>\n",
       "    <tr style=\"text-align: right;\">\n",
       "      <th></th>\n",
       "      <th>Name</th>\n",
       "      <th>Platform</th>\n",
       "      <th>Year_of_Release</th>\n",
       "      <th>Genre</th>\n",
       "      <th>NA_sales</th>\n",
       "      <th>EU_sales</th>\n",
       "      <th>JP_sales</th>\n",
       "      <th>Other_sales</th>\n",
       "      <th>Critic_Score</th>\n",
       "      <th>User_Score</th>\n",
       "      <th>Rating</th>\n",
       "    </tr>\n",
       "  </thead>\n",
       "  <tbody>\n",
       "    <tr>\n",
       "      <th>659</th>\n",
       "      <td>NaN</td>\n",
       "      <td>GEN</td>\n",
       "      <td>1993.0</td>\n",
       "      <td>NaN</td>\n",
       "      <td>1.78</td>\n",
       "      <td>0.53</td>\n",
       "      <td>0.00</td>\n",
       "      <td>0.08</td>\n",
       "      <td>NaN</td>\n",
       "      <td>NaN</td>\n",
       "      <td>NaN</td>\n",
       "    </tr>\n",
       "    <tr>\n",
       "      <th>14244</th>\n",
       "      <td>NaN</td>\n",
       "      <td>GEN</td>\n",
       "      <td>1993.0</td>\n",
       "      <td>NaN</td>\n",
       "      <td>0.00</td>\n",
       "      <td>0.00</td>\n",
       "      <td>0.03</td>\n",
       "      <td>0.00</td>\n",
       "      <td>NaN</td>\n",
       "      <td>NaN</td>\n",
       "      <td>NaN</td>\n",
       "    </tr>\n",
       "  </tbody>\n",
       "</table>\n",
       "</div>"
      ],
      "text/plain": [
       "      Name Platform  Year_of_Release Genre  NA_sales  EU_sales  JP_sales  \\\n",
       "659    NaN      GEN           1993.0   NaN      1.78      0.53      0.00   \n",
       "14244  NaN      GEN           1993.0   NaN      0.00      0.00      0.03   \n",
       "\n",
       "       Other_sales  Critic_Score User_Score Rating  \n",
       "659           0.08           NaN        NaN    NaN  \n",
       "14244         0.00           NaN        NaN    NaN  "
      ]
     },
     "execution_count": 2,
     "metadata": {},
     "output_type": "execute_result"
    }
   ],
   "source": [
    "game.info() # общая информация о таблице\n",
    "game_duplic = game.duplicated().sum()\n",
    "\n",
    "print('Число дубликатов в таблице:', game_duplic) #поиск количества явных дубликатов в фрейме\n",
    "\n",
    "display(game.isna().sum()) # найдем пропущенные значения в столбцах\n",
    "game[game['Name'].isna()]# посмотрим пропуски по каждому столбцу где они встречаются\n",
    "\n"
   ]
  },
  {
   "cell_type": "code",
   "execution_count": 3,
   "metadata": {},
   "outputs": [
    {
     "data": {
      "text/html": [
       "<div>\n",
       "<style scoped>\n",
       "    .dataframe tbody tr th:only-of-type {\n",
       "        vertical-align: middle;\n",
       "    }\n",
       "\n",
       "    .dataframe tbody tr th {\n",
       "        vertical-align: top;\n",
       "    }\n",
       "\n",
       "    .dataframe thead th {\n",
       "        text-align: right;\n",
       "    }\n",
       "</style>\n",
       "<table border=\"1\" class=\"dataframe\">\n",
       "  <thead>\n",
       "    <tr style=\"text-align: right;\">\n",
       "      <th></th>\n",
       "      <th>Name</th>\n",
       "      <th>Platform</th>\n",
       "      <th>Year_of_Release</th>\n",
       "      <th>Genre</th>\n",
       "      <th>NA_sales</th>\n",
       "      <th>EU_sales</th>\n",
       "      <th>JP_sales</th>\n",
       "      <th>Other_sales</th>\n",
       "      <th>Critic_Score</th>\n",
       "      <th>User_Score</th>\n",
       "      <th>Rating</th>\n",
       "    </tr>\n",
       "  </thead>\n",
       "  <tbody>\n",
       "    <tr>\n",
       "      <th>659</th>\n",
       "      <td>NaN</td>\n",
       "      <td>GEN</td>\n",
       "      <td>1993.0</td>\n",
       "      <td>NaN</td>\n",
       "      <td>1.78</td>\n",
       "      <td>0.53</td>\n",
       "      <td>0.00</td>\n",
       "      <td>0.08</td>\n",
       "      <td>NaN</td>\n",
       "      <td>NaN</td>\n",
       "      <td>NaN</td>\n",
       "    </tr>\n",
       "    <tr>\n",
       "      <th>14244</th>\n",
       "      <td>NaN</td>\n",
       "      <td>GEN</td>\n",
       "      <td>1993.0</td>\n",
       "      <td>NaN</td>\n",
       "      <td>0.00</td>\n",
       "      <td>0.00</td>\n",
       "      <td>0.03</td>\n",
       "      <td>0.00</td>\n",
       "      <td>NaN</td>\n",
       "      <td>NaN</td>\n",
       "      <td>NaN</td>\n",
       "    </tr>\n",
       "  </tbody>\n",
       "</table>\n",
       "</div>"
      ],
      "text/plain": [
       "      Name Platform  Year_of_Release Genre  NA_sales  EU_sales  JP_sales  \\\n",
       "659    NaN      GEN           1993.0   NaN      1.78      0.53      0.00   \n",
       "14244  NaN      GEN           1993.0   NaN      0.00      0.00      0.03   \n",
       "\n",
       "       Other_sales  Critic_Score User_Score Rating  \n",
       "659           0.08           NaN        NaN    NaN  \n",
       "14244         0.00           NaN        NaN    NaN  "
      ]
     },
     "execution_count": 3,
     "metadata": {},
     "output_type": "execute_result"
    }
   ],
   "source": [
    "game[game['Genre'].isna()]"
   ]
  },
  {
   "cell_type": "code",
   "execution_count": 4,
   "metadata": {},
   "outputs": [
    {
     "data": {
      "text/html": [
       "<div>\n",
       "<style scoped>\n",
       "    .dataframe tbody tr th:only-of-type {\n",
       "        vertical-align: middle;\n",
       "    }\n",
       "\n",
       "    .dataframe tbody tr th {\n",
       "        vertical-align: top;\n",
       "    }\n",
       "\n",
       "    .dataframe thead th {\n",
       "        text-align: right;\n",
       "    }\n",
       "</style>\n",
       "<table border=\"1\" class=\"dataframe\">\n",
       "  <thead>\n",
       "    <tr style=\"text-align: right;\">\n",
       "      <th></th>\n",
       "      <th>Name</th>\n",
       "      <th>Platform</th>\n",
       "      <th>Year_of_Release</th>\n",
       "      <th>Genre</th>\n",
       "      <th>NA_sales</th>\n",
       "      <th>EU_sales</th>\n",
       "      <th>JP_sales</th>\n",
       "      <th>Other_sales</th>\n",
       "      <th>Critic_Score</th>\n",
       "      <th>User_Score</th>\n",
       "      <th>Rating</th>\n",
       "    </tr>\n",
       "  </thead>\n",
       "  <tbody>\n",
       "    <tr>\n",
       "      <th>183</th>\n",
       "      <td>Madden NFL 2004</td>\n",
       "      <td>PS2</td>\n",
       "      <td>NaN</td>\n",
       "      <td>Sports</td>\n",
       "      <td>4.26</td>\n",
       "      <td>0.26</td>\n",
       "      <td>0.01</td>\n",
       "      <td>0.71</td>\n",
       "      <td>94.0</td>\n",
       "      <td>8.5</td>\n",
       "      <td>E</td>\n",
       "    </tr>\n",
       "    <tr>\n",
       "      <th>377</th>\n",
       "      <td>FIFA Soccer 2004</td>\n",
       "      <td>PS2</td>\n",
       "      <td>NaN</td>\n",
       "      <td>Sports</td>\n",
       "      <td>0.59</td>\n",
       "      <td>2.36</td>\n",
       "      <td>0.04</td>\n",
       "      <td>0.51</td>\n",
       "      <td>84.0</td>\n",
       "      <td>6.4</td>\n",
       "      <td>E</td>\n",
       "    </tr>\n",
       "    <tr>\n",
       "      <th>456</th>\n",
       "      <td>LEGO Batman: The Videogame</td>\n",
       "      <td>Wii</td>\n",
       "      <td>NaN</td>\n",
       "      <td>Action</td>\n",
       "      <td>1.80</td>\n",
       "      <td>0.97</td>\n",
       "      <td>0.00</td>\n",
       "      <td>0.29</td>\n",
       "      <td>74.0</td>\n",
       "      <td>7.9</td>\n",
       "      <td>E10+</td>\n",
       "    </tr>\n",
       "    <tr>\n",
       "      <th>475</th>\n",
       "      <td>wwe Smackdown vs. Raw 2006</td>\n",
       "      <td>PS2</td>\n",
       "      <td>NaN</td>\n",
       "      <td>Fighting</td>\n",
       "      <td>1.57</td>\n",
       "      <td>1.02</td>\n",
       "      <td>0.00</td>\n",
       "      <td>0.41</td>\n",
       "      <td>NaN</td>\n",
       "      <td>NaN</td>\n",
       "      <td>NaN</td>\n",
       "    </tr>\n",
       "    <tr>\n",
       "      <th>609</th>\n",
       "      <td>Space Invaders</td>\n",
       "      <td>2600</td>\n",
       "      <td>NaN</td>\n",
       "      <td>Shooter</td>\n",
       "      <td>2.36</td>\n",
       "      <td>0.14</td>\n",
       "      <td>0.00</td>\n",
       "      <td>0.03</td>\n",
       "      <td>NaN</td>\n",
       "      <td>NaN</td>\n",
       "      <td>NaN</td>\n",
       "    </tr>\n",
       "    <tr>\n",
       "      <th>...</th>\n",
       "      <td>...</td>\n",
       "      <td>...</td>\n",
       "      <td>...</td>\n",
       "      <td>...</td>\n",
       "      <td>...</td>\n",
       "      <td>...</td>\n",
       "      <td>...</td>\n",
       "      <td>...</td>\n",
       "      <td>...</td>\n",
       "      <td>...</td>\n",
       "      <td>...</td>\n",
       "    </tr>\n",
       "    <tr>\n",
       "      <th>16373</th>\n",
       "      <td>PDC World Championship Darts 2008</td>\n",
       "      <td>PSP</td>\n",
       "      <td>NaN</td>\n",
       "      <td>Sports</td>\n",
       "      <td>0.01</td>\n",
       "      <td>0.00</td>\n",
       "      <td>0.00</td>\n",
       "      <td>0.00</td>\n",
       "      <td>43.0</td>\n",
       "      <td>tbd</td>\n",
       "      <td>E10+</td>\n",
       "    </tr>\n",
       "    <tr>\n",
       "      <th>16405</th>\n",
       "      <td>Freaky Flyers</td>\n",
       "      <td>GC</td>\n",
       "      <td>NaN</td>\n",
       "      <td>Racing</td>\n",
       "      <td>0.01</td>\n",
       "      <td>0.00</td>\n",
       "      <td>0.00</td>\n",
       "      <td>0.00</td>\n",
       "      <td>69.0</td>\n",
       "      <td>6.5</td>\n",
       "      <td>T</td>\n",
       "    </tr>\n",
       "    <tr>\n",
       "      <th>16448</th>\n",
       "      <td>Inversion</td>\n",
       "      <td>PC</td>\n",
       "      <td>NaN</td>\n",
       "      <td>Shooter</td>\n",
       "      <td>0.01</td>\n",
       "      <td>0.00</td>\n",
       "      <td>0.00</td>\n",
       "      <td>0.00</td>\n",
       "      <td>59.0</td>\n",
       "      <td>6.7</td>\n",
       "      <td>M</td>\n",
       "    </tr>\n",
       "    <tr>\n",
       "      <th>16458</th>\n",
       "      <td>Hakuouki: Shinsengumi Kitan</td>\n",
       "      <td>PS3</td>\n",
       "      <td>NaN</td>\n",
       "      <td>Adventure</td>\n",
       "      <td>0.01</td>\n",
       "      <td>0.00</td>\n",
       "      <td>0.00</td>\n",
       "      <td>0.00</td>\n",
       "      <td>NaN</td>\n",
       "      <td>NaN</td>\n",
       "      <td>NaN</td>\n",
       "    </tr>\n",
       "    <tr>\n",
       "      <th>16522</th>\n",
       "      <td>Virtua Quest</td>\n",
       "      <td>GC</td>\n",
       "      <td>NaN</td>\n",
       "      <td>Role-Playing</td>\n",
       "      <td>0.01</td>\n",
       "      <td>0.00</td>\n",
       "      <td>0.00</td>\n",
       "      <td>0.00</td>\n",
       "      <td>55.0</td>\n",
       "      <td>5.5</td>\n",
       "      <td>T</td>\n",
       "    </tr>\n",
       "  </tbody>\n",
       "</table>\n",
       "<p>269 rows × 11 columns</p>\n",
       "</div>"
      ],
      "text/plain": [
       "                                    Name Platform  Year_of_Release  \\\n",
       "183                      Madden NFL 2004      PS2              NaN   \n",
       "377                     FIFA Soccer 2004      PS2              NaN   \n",
       "456           LEGO Batman: The Videogame      Wii              NaN   \n",
       "475           wwe Smackdown vs. Raw 2006      PS2              NaN   \n",
       "609                       Space Invaders     2600              NaN   \n",
       "...                                  ...      ...              ...   \n",
       "16373  PDC World Championship Darts 2008      PSP              NaN   \n",
       "16405                      Freaky Flyers       GC              NaN   \n",
       "16448                          Inversion       PC              NaN   \n",
       "16458        Hakuouki: Shinsengumi Kitan      PS3              NaN   \n",
       "16522                       Virtua Quest       GC              NaN   \n",
       "\n",
       "              Genre  NA_sales  EU_sales  JP_sales  Other_sales  Critic_Score  \\\n",
       "183          Sports      4.26      0.26      0.01         0.71          94.0   \n",
       "377          Sports      0.59      2.36      0.04         0.51          84.0   \n",
       "456          Action      1.80      0.97      0.00         0.29          74.0   \n",
       "475        Fighting      1.57      1.02      0.00         0.41           NaN   \n",
       "609         Shooter      2.36      0.14      0.00         0.03           NaN   \n",
       "...             ...       ...       ...       ...          ...           ...   \n",
       "16373        Sports      0.01      0.00      0.00         0.00          43.0   \n",
       "16405        Racing      0.01      0.00      0.00         0.00          69.0   \n",
       "16448       Shooter      0.01      0.00      0.00         0.00          59.0   \n",
       "16458     Adventure      0.01      0.00      0.00         0.00           NaN   \n",
       "16522  Role-Playing      0.01      0.00      0.00         0.00          55.0   \n",
       "\n",
       "      User_Score Rating  \n",
       "183          8.5      E  \n",
       "377          6.4      E  \n",
       "456          7.9   E10+  \n",
       "475          NaN    NaN  \n",
       "609          NaN    NaN  \n",
       "...          ...    ...  \n",
       "16373        tbd   E10+  \n",
       "16405        6.5      T  \n",
       "16448        6.7      M  \n",
       "16458        NaN    NaN  \n",
       "16522        5.5      T  \n",
       "\n",
       "[269 rows x 11 columns]"
      ]
     },
     "execution_count": 4,
     "metadata": {},
     "output_type": "execute_result"
    }
   ],
   "source": [
    "game[game['Year_of_Release'].isna()]"
   ]
  },
  {
   "cell_type": "code",
   "execution_count": 5,
   "metadata": {},
   "outputs": [
    {
     "data": {
      "text/html": [
       "<div>\n",
       "<style scoped>\n",
       "    .dataframe tbody tr th:only-of-type {\n",
       "        vertical-align: middle;\n",
       "    }\n",
       "\n",
       "    .dataframe tbody tr th {\n",
       "        vertical-align: top;\n",
       "    }\n",
       "\n",
       "    .dataframe thead th {\n",
       "        text-align: right;\n",
       "    }\n",
       "</style>\n",
       "<table border=\"1\" class=\"dataframe\">\n",
       "  <thead>\n",
       "    <tr style=\"text-align: right;\">\n",
       "      <th></th>\n",
       "      <th>Name</th>\n",
       "      <th>Platform</th>\n",
       "      <th>Year_of_Release</th>\n",
       "      <th>Genre</th>\n",
       "      <th>NA_sales</th>\n",
       "      <th>EU_sales</th>\n",
       "      <th>JP_sales</th>\n",
       "      <th>Other_sales</th>\n",
       "      <th>Critic_Score</th>\n",
       "      <th>User_Score</th>\n",
       "      <th>Rating</th>\n",
       "    </tr>\n",
       "  </thead>\n",
       "  <tbody>\n",
       "    <tr>\n",
       "      <th>1</th>\n",
       "      <td>Super Mario Bros.</td>\n",
       "      <td>NES</td>\n",
       "      <td>1985.0</td>\n",
       "      <td>Platform</td>\n",
       "      <td>29.08</td>\n",
       "      <td>3.58</td>\n",
       "      <td>6.81</td>\n",
       "      <td>0.77</td>\n",
       "      <td>NaN</td>\n",
       "      <td>NaN</td>\n",
       "      <td>NaN</td>\n",
       "    </tr>\n",
       "    <tr>\n",
       "      <th>4</th>\n",
       "      <td>Pokemon Red/Pokemon Blue</td>\n",
       "      <td>GB</td>\n",
       "      <td>1996.0</td>\n",
       "      <td>Role-Playing</td>\n",
       "      <td>11.27</td>\n",
       "      <td>8.89</td>\n",
       "      <td>10.22</td>\n",
       "      <td>1.00</td>\n",
       "      <td>NaN</td>\n",
       "      <td>NaN</td>\n",
       "      <td>NaN</td>\n",
       "    </tr>\n",
       "    <tr>\n",
       "      <th>5</th>\n",
       "      <td>Tetris</td>\n",
       "      <td>GB</td>\n",
       "      <td>1989.0</td>\n",
       "      <td>Puzzle</td>\n",
       "      <td>23.20</td>\n",
       "      <td>2.26</td>\n",
       "      <td>4.22</td>\n",
       "      <td>0.58</td>\n",
       "      <td>NaN</td>\n",
       "      <td>NaN</td>\n",
       "      <td>NaN</td>\n",
       "    </tr>\n",
       "    <tr>\n",
       "      <th>9</th>\n",
       "      <td>Duck Hunt</td>\n",
       "      <td>NES</td>\n",
       "      <td>1984.0</td>\n",
       "      <td>Shooter</td>\n",
       "      <td>26.93</td>\n",
       "      <td>0.63</td>\n",
       "      <td>0.28</td>\n",
       "      <td>0.47</td>\n",
       "      <td>NaN</td>\n",
       "      <td>NaN</td>\n",
       "      <td>NaN</td>\n",
       "    </tr>\n",
       "    <tr>\n",
       "      <th>10</th>\n",
       "      <td>Nintendogs</td>\n",
       "      <td>DS</td>\n",
       "      <td>2005.0</td>\n",
       "      <td>Simulation</td>\n",
       "      <td>9.05</td>\n",
       "      <td>10.95</td>\n",
       "      <td>1.93</td>\n",
       "      <td>2.74</td>\n",
       "      <td>NaN</td>\n",
       "      <td>NaN</td>\n",
       "      <td>NaN</td>\n",
       "    </tr>\n",
       "    <tr>\n",
       "      <th>...</th>\n",
       "      <td>...</td>\n",
       "      <td>...</td>\n",
       "      <td>...</td>\n",
       "      <td>...</td>\n",
       "      <td>...</td>\n",
       "      <td>...</td>\n",
       "      <td>...</td>\n",
       "      <td>...</td>\n",
       "      <td>...</td>\n",
       "      <td>...</td>\n",
       "      <td>...</td>\n",
       "    </tr>\n",
       "    <tr>\n",
       "      <th>16710</th>\n",
       "      <td>Samurai Warriors: Sanada Maru</td>\n",
       "      <td>PS3</td>\n",
       "      <td>2016.0</td>\n",
       "      <td>Action</td>\n",
       "      <td>0.00</td>\n",
       "      <td>0.00</td>\n",
       "      <td>0.01</td>\n",
       "      <td>0.00</td>\n",
       "      <td>NaN</td>\n",
       "      <td>NaN</td>\n",
       "      <td>NaN</td>\n",
       "    </tr>\n",
       "    <tr>\n",
       "      <th>16711</th>\n",
       "      <td>LMA Manager 2007</td>\n",
       "      <td>X360</td>\n",
       "      <td>2006.0</td>\n",
       "      <td>Sports</td>\n",
       "      <td>0.00</td>\n",
       "      <td>0.01</td>\n",
       "      <td>0.00</td>\n",
       "      <td>0.00</td>\n",
       "      <td>NaN</td>\n",
       "      <td>NaN</td>\n",
       "      <td>NaN</td>\n",
       "    </tr>\n",
       "    <tr>\n",
       "      <th>16712</th>\n",
       "      <td>Haitaka no Psychedelica</td>\n",
       "      <td>PSV</td>\n",
       "      <td>2016.0</td>\n",
       "      <td>Adventure</td>\n",
       "      <td>0.00</td>\n",
       "      <td>0.00</td>\n",
       "      <td>0.01</td>\n",
       "      <td>0.00</td>\n",
       "      <td>NaN</td>\n",
       "      <td>NaN</td>\n",
       "      <td>NaN</td>\n",
       "    </tr>\n",
       "    <tr>\n",
       "      <th>16713</th>\n",
       "      <td>Spirits &amp; Spells</td>\n",
       "      <td>GBA</td>\n",
       "      <td>2003.0</td>\n",
       "      <td>Platform</td>\n",
       "      <td>0.01</td>\n",
       "      <td>0.00</td>\n",
       "      <td>0.00</td>\n",
       "      <td>0.00</td>\n",
       "      <td>NaN</td>\n",
       "      <td>NaN</td>\n",
       "      <td>NaN</td>\n",
       "    </tr>\n",
       "    <tr>\n",
       "      <th>16714</th>\n",
       "      <td>Winning Post 8 2016</td>\n",
       "      <td>PSV</td>\n",
       "      <td>2016.0</td>\n",
       "      <td>Simulation</td>\n",
       "      <td>0.00</td>\n",
       "      <td>0.00</td>\n",
       "      <td>0.01</td>\n",
       "      <td>0.00</td>\n",
       "      <td>NaN</td>\n",
       "      <td>NaN</td>\n",
       "      <td>NaN</td>\n",
       "    </tr>\n",
       "  </tbody>\n",
       "</table>\n",
       "<p>8578 rows × 11 columns</p>\n",
       "</div>"
      ],
      "text/plain": [
       "                                Name Platform  Year_of_Release         Genre  \\\n",
       "1                  Super Mario Bros.      NES           1985.0      Platform   \n",
       "4           Pokemon Red/Pokemon Blue       GB           1996.0  Role-Playing   \n",
       "5                             Tetris       GB           1989.0        Puzzle   \n",
       "9                          Duck Hunt      NES           1984.0       Shooter   \n",
       "10                        Nintendogs       DS           2005.0    Simulation   \n",
       "...                              ...      ...              ...           ...   \n",
       "16710  Samurai Warriors: Sanada Maru      PS3           2016.0        Action   \n",
       "16711               LMA Manager 2007     X360           2006.0        Sports   \n",
       "16712        Haitaka no Psychedelica      PSV           2016.0     Adventure   \n",
       "16713               Spirits & Spells      GBA           2003.0      Platform   \n",
       "16714            Winning Post 8 2016      PSV           2016.0    Simulation   \n",
       "\n",
       "       NA_sales  EU_sales  JP_sales  Other_sales  Critic_Score User_Score  \\\n",
       "1         29.08      3.58      6.81         0.77           NaN        NaN   \n",
       "4         11.27      8.89     10.22         1.00           NaN        NaN   \n",
       "5         23.20      2.26      4.22         0.58           NaN        NaN   \n",
       "9         26.93      0.63      0.28         0.47           NaN        NaN   \n",
       "10         9.05     10.95      1.93         2.74           NaN        NaN   \n",
       "...         ...       ...       ...          ...           ...        ...   \n",
       "16710      0.00      0.00      0.01         0.00           NaN        NaN   \n",
       "16711      0.00      0.01      0.00         0.00           NaN        NaN   \n",
       "16712      0.00      0.00      0.01         0.00           NaN        NaN   \n",
       "16713      0.01      0.00      0.00         0.00           NaN        NaN   \n",
       "16714      0.00      0.00      0.01         0.00           NaN        NaN   \n",
       "\n",
       "      Rating  \n",
       "1        NaN  \n",
       "4        NaN  \n",
       "5        NaN  \n",
       "9        NaN  \n",
       "10       NaN  \n",
       "...      ...  \n",
       "16710    NaN  \n",
       "16711    NaN  \n",
       "16712    NaN  \n",
       "16713    NaN  \n",
       "16714    NaN  \n",
       "\n",
       "[8578 rows x 11 columns]"
      ]
     },
     "execution_count": 5,
     "metadata": {},
     "output_type": "execute_result"
    }
   ],
   "source": [
    "game[game['Critic_Score'].isna()]"
   ]
  },
  {
   "cell_type": "code",
   "execution_count": 6,
   "metadata": {},
   "outputs": [
    {
     "data": {
      "text/html": [
       "<div>\n",
       "<style scoped>\n",
       "    .dataframe tbody tr th:only-of-type {\n",
       "        vertical-align: middle;\n",
       "    }\n",
       "\n",
       "    .dataframe tbody tr th {\n",
       "        vertical-align: top;\n",
       "    }\n",
       "\n",
       "    .dataframe thead th {\n",
       "        text-align: right;\n",
       "    }\n",
       "</style>\n",
       "<table border=\"1\" class=\"dataframe\">\n",
       "  <thead>\n",
       "    <tr style=\"text-align: right;\">\n",
       "      <th></th>\n",
       "      <th>Name</th>\n",
       "      <th>Platform</th>\n",
       "      <th>Year_of_Release</th>\n",
       "      <th>Genre</th>\n",
       "      <th>NA_sales</th>\n",
       "      <th>EU_sales</th>\n",
       "      <th>JP_sales</th>\n",
       "      <th>Other_sales</th>\n",
       "      <th>Critic_Score</th>\n",
       "      <th>User_Score</th>\n",
       "      <th>Rating</th>\n",
       "    </tr>\n",
       "  </thead>\n",
       "  <tbody>\n",
       "    <tr>\n",
       "      <th>1</th>\n",
       "      <td>Super Mario Bros.</td>\n",
       "      <td>NES</td>\n",
       "      <td>1985.0</td>\n",
       "      <td>Platform</td>\n",
       "      <td>29.08</td>\n",
       "      <td>3.58</td>\n",
       "      <td>6.81</td>\n",
       "      <td>0.77</td>\n",
       "      <td>NaN</td>\n",
       "      <td>NaN</td>\n",
       "      <td>NaN</td>\n",
       "    </tr>\n",
       "    <tr>\n",
       "      <th>4</th>\n",
       "      <td>Pokemon Red/Pokemon Blue</td>\n",
       "      <td>GB</td>\n",
       "      <td>1996.0</td>\n",
       "      <td>Role-Playing</td>\n",
       "      <td>11.27</td>\n",
       "      <td>8.89</td>\n",
       "      <td>10.22</td>\n",
       "      <td>1.00</td>\n",
       "      <td>NaN</td>\n",
       "      <td>NaN</td>\n",
       "      <td>NaN</td>\n",
       "    </tr>\n",
       "    <tr>\n",
       "      <th>5</th>\n",
       "      <td>Tetris</td>\n",
       "      <td>GB</td>\n",
       "      <td>1989.0</td>\n",
       "      <td>Puzzle</td>\n",
       "      <td>23.20</td>\n",
       "      <td>2.26</td>\n",
       "      <td>4.22</td>\n",
       "      <td>0.58</td>\n",
       "      <td>NaN</td>\n",
       "      <td>NaN</td>\n",
       "      <td>NaN</td>\n",
       "    </tr>\n",
       "    <tr>\n",
       "      <th>9</th>\n",
       "      <td>Duck Hunt</td>\n",
       "      <td>NES</td>\n",
       "      <td>1984.0</td>\n",
       "      <td>Shooter</td>\n",
       "      <td>26.93</td>\n",
       "      <td>0.63</td>\n",
       "      <td>0.28</td>\n",
       "      <td>0.47</td>\n",
       "      <td>NaN</td>\n",
       "      <td>NaN</td>\n",
       "      <td>NaN</td>\n",
       "    </tr>\n",
       "    <tr>\n",
       "      <th>10</th>\n",
       "      <td>Nintendogs</td>\n",
       "      <td>DS</td>\n",
       "      <td>2005.0</td>\n",
       "      <td>Simulation</td>\n",
       "      <td>9.05</td>\n",
       "      <td>10.95</td>\n",
       "      <td>1.93</td>\n",
       "      <td>2.74</td>\n",
       "      <td>NaN</td>\n",
       "      <td>NaN</td>\n",
       "      <td>NaN</td>\n",
       "    </tr>\n",
       "    <tr>\n",
       "      <th>...</th>\n",
       "      <td>...</td>\n",
       "      <td>...</td>\n",
       "      <td>...</td>\n",
       "      <td>...</td>\n",
       "      <td>...</td>\n",
       "      <td>...</td>\n",
       "      <td>...</td>\n",
       "      <td>...</td>\n",
       "      <td>...</td>\n",
       "      <td>...</td>\n",
       "      <td>...</td>\n",
       "    </tr>\n",
       "    <tr>\n",
       "      <th>16710</th>\n",
       "      <td>Samurai Warriors: Sanada Maru</td>\n",
       "      <td>PS3</td>\n",
       "      <td>2016.0</td>\n",
       "      <td>Action</td>\n",
       "      <td>0.00</td>\n",
       "      <td>0.00</td>\n",
       "      <td>0.01</td>\n",
       "      <td>0.00</td>\n",
       "      <td>NaN</td>\n",
       "      <td>NaN</td>\n",
       "      <td>NaN</td>\n",
       "    </tr>\n",
       "    <tr>\n",
       "      <th>16711</th>\n",
       "      <td>LMA Manager 2007</td>\n",
       "      <td>X360</td>\n",
       "      <td>2006.0</td>\n",
       "      <td>Sports</td>\n",
       "      <td>0.00</td>\n",
       "      <td>0.01</td>\n",
       "      <td>0.00</td>\n",
       "      <td>0.00</td>\n",
       "      <td>NaN</td>\n",
       "      <td>NaN</td>\n",
       "      <td>NaN</td>\n",
       "    </tr>\n",
       "    <tr>\n",
       "      <th>16712</th>\n",
       "      <td>Haitaka no Psychedelica</td>\n",
       "      <td>PSV</td>\n",
       "      <td>2016.0</td>\n",
       "      <td>Adventure</td>\n",
       "      <td>0.00</td>\n",
       "      <td>0.00</td>\n",
       "      <td>0.01</td>\n",
       "      <td>0.00</td>\n",
       "      <td>NaN</td>\n",
       "      <td>NaN</td>\n",
       "      <td>NaN</td>\n",
       "    </tr>\n",
       "    <tr>\n",
       "      <th>16713</th>\n",
       "      <td>Spirits &amp; Spells</td>\n",
       "      <td>GBA</td>\n",
       "      <td>2003.0</td>\n",
       "      <td>Platform</td>\n",
       "      <td>0.01</td>\n",
       "      <td>0.00</td>\n",
       "      <td>0.00</td>\n",
       "      <td>0.00</td>\n",
       "      <td>NaN</td>\n",
       "      <td>NaN</td>\n",
       "      <td>NaN</td>\n",
       "    </tr>\n",
       "    <tr>\n",
       "      <th>16714</th>\n",
       "      <td>Winning Post 8 2016</td>\n",
       "      <td>PSV</td>\n",
       "      <td>2016.0</td>\n",
       "      <td>Simulation</td>\n",
       "      <td>0.00</td>\n",
       "      <td>0.00</td>\n",
       "      <td>0.01</td>\n",
       "      <td>0.00</td>\n",
       "      <td>NaN</td>\n",
       "      <td>NaN</td>\n",
       "      <td>NaN</td>\n",
       "    </tr>\n",
       "  </tbody>\n",
       "</table>\n",
       "<p>6701 rows × 11 columns</p>\n",
       "</div>"
      ],
      "text/plain": [
       "                                Name Platform  Year_of_Release         Genre  \\\n",
       "1                  Super Mario Bros.      NES           1985.0      Platform   \n",
       "4           Pokemon Red/Pokemon Blue       GB           1996.0  Role-Playing   \n",
       "5                             Tetris       GB           1989.0        Puzzle   \n",
       "9                          Duck Hunt      NES           1984.0       Shooter   \n",
       "10                        Nintendogs       DS           2005.0    Simulation   \n",
       "...                              ...      ...              ...           ...   \n",
       "16710  Samurai Warriors: Sanada Maru      PS3           2016.0        Action   \n",
       "16711               LMA Manager 2007     X360           2006.0        Sports   \n",
       "16712        Haitaka no Psychedelica      PSV           2016.0     Adventure   \n",
       "16713               Spirits & Spells      GBA           2003.0      Platform   \n",
       "16714            Winning Post 8 2016      PSV           2016.0    Simulation   \n",
       "\n",
       "       NA_sales  EU_sales  JP_sales  Other_sales  Critic_Score User_Score  \\\n",
       "1         29.08      3.58      6.81         0.77           NaN        NaN   \n",
       "4         11.27      8.89     10.22         1.00           NaN        NaN   \n",
       "5         23.20      2.26      4.22         0.58           NaN        NaN   \n",
       "9         26.93      0.63      0.28         0.47           NaN        NaN   \n",
       "10         9.05     10.95      1.93         2.74           NaN        NaN   \n",
       "...         ...       ...       ...          ...           ...        ...   \n",
       "16710      0.00      0.00      0.01         0.00           NaN        NaN   \n",
       "16711      0.00      0.01      0.00         0.00           NaN        NaN   \n",
       "16712      0.00      0.00      0.01         0.00           NaN        NaN   \n",
       "16713      0.01      0.00      0.00         0.00           NaN        NaN   \n",
       "16714      0.00      0.00      0.01         0.00           NaN        NaN   \n",
       "\n",
       "      Rating  \n",
       "1        NaN  \n",
       "4        NaN  \n",
       "5        NaN  \n",
       "9        NaN  \n",
       "10       NaN  \n",
       "...      ...  \n",
       "16710    NaN  \n",
       "16711    NaN  \n",
       "16712    NaN  \n",
       "16713    NaN  \n",
       "16714    NaN  \n",
       "\n",
       "[6701 rows x 11 columns]"
      ]
     },
     "execution_count": 6,
     "metadata": {},
     "output_type": "execute_result"
    }
   ],
   "source": [
    "game[game['User_Score'].isna()]"
   ]
  },
  {
   "cell_type": "code",
   "execution_count": 7,
   "metadata": {},
   "outputs": [
    {
     "data": {
      "text/html": [
       "<div>\n",
       "<style scoped>\n",
       "    .dataframe tbody tr th:only-of-type {\n",
       "        vertical-align: middle;\n",
       "    }\n",
       "\n",
       "    .dataframe tbody tr th {\n",
       "        vertical-align: top;\n",
       "    }\n",
       "\n",
       "    .dataframe thead th {\n",
       "        text-align: right;\n",
       "    }\n",
       "</style>\n",
       "<table border=\"1\" class=\"dataframe\">\n",
       "  <thead>\n",
       "    <tr style=\"text-align: right;\">\n",
       "      <th></th>\n",
       "      <th>Name</th>\n",
       "      <th>Platform</th>\n",
       "      <th>Year_of_Release</th>\n",
       "      <th>Genre</th>\n",
       "      <th>NA_sales</th>\n",
       "      <th>EU_sales</th>\n",
       "      <th>JP_sales</th>\n",
       "      <th>Other_sales</th>\n",
       "      <th>Critic_Score</th>\n",
       "      <th>User_Score</th>\n",
       "      <th>Rating</th>\n",
       "    </tr>\n",
       "  </thead>\n",
       "  <tbody>\n",
       "    <tr>\n",
       "      <th>1</th>\n",
       "      <td>Super Mario Bros.</td>\n",
       "      <td>NES</td>\n",
       "      <td>1985.0</td>\n",
       "      <td>Platform</td>\n",
       "      <td>29.08</td>\n",
       "      <td>3.58</td>\n",
       "      <td>6.81</td>\n",
       "      <td>0.77</td>\n",
       "      <td>NaN</td>\n",
       "      <td>NaN</td>\n",
       "      <td>NaN</td>\n",
       "    </tr>\n",
       "    <tr>\n",
       "      <th>4</th>\n",
       "      <td>Pokemon Red/Pokemon Blue</td>\n",
       "      <td>GB</td>\n",
       "      <td>1996.0</td>\n",
       "      <td>Role-Playing</td>\n",
       "      <td>11.27</td>\n",
       "      <td>8.89</td>\n",
       "      <td>10.22</td>\n",
       "      <td>1.00</td>\n",
       "      <td>NaN</td>\n",
       "      <td>NaN</td>\n",
       "      <td>NaN</td>\n",
       "    </tr>\n",
       "    <tr>\n",
       "      <th>5</th>\n",
       "      <td>Tetris</td>\n",
       "      <td>GB</td>\n",
       "      <td>1989.0</td>\n",
       "      <td>Puzzle</td>\n",
       "      <td>23.20</td>\n",
       "      <td>2.26</td>\n",
       "      <td>4.22</td>\n",
       "      <td>0.58</td>\n",
       "      <td>NaN</td>\n",
       "      <td>NaN</td>\n",
       "      <td>NaN</td>\n",
       "    </tr>\n",
       "    <tr>\n",
       "      <th>9</th>\n",
       "      <td>Duck Hunt</td>\n",
       "      <td>NES</td>\n",
       "      <td>1984.0</td>\n",
       "      <td>Shooter</td>\n",
       "      <td>26.93</td>\n",
       "      <td>0.63</td>\n",
       "      <td>0.28</td>\n",
       "      <td>0.47</td>\n",
       "      <td>NaN</td>\n",
       "      <td>NaN</td>\n",
       "      <td>NaN</td>\n",
       "    </tr>\n",
       "    <tr>\n",
       "      <th>10</th>\n",
       "      <td>Nintendogs</td>\n",
       "      <td>DS</td>\n",
       "      <td>2005.0</td>\n",
       "      <td>Simulation</td>\n",
       "      <td>9.05</td>\n",
       "      <td>10.95</td>\n",
       "      <td>1.93</td>\n",
       "      <td>2.74</td>\n",
       "      <td>NaN</td>\n",
       "      <td>NaN</td>\n",
       "      <td>NaN</td>\n",
       "    </tr>\n",
       "    <tr>\n",
       "      <th>...</th>\n",
       "      <td>...</td>\n",
       "      <td>...</td>\n",
       "      <td>...</td>\n",
       "      <td>...</td>\n",
       "      <td>...</td>\n",
       "      <td>...</td>\n",
       "      <td>...</td>\n",
       "      <td>...</td>\n",
       "      <td>...</td>\n",
       "      <td>...</td>\n",
       "      <td>...</td>\n",
       "    </tr>\n",
       "    <tr>\n",
       "      <th>16710</th>\n",
       "      <td>Samurai Warriors: Sanada Maru</td>\n",
       "      <td>PS3</td>\n",
       "      <td>2016.0</td>\n",
       "      <td>Action</td>\n",
       "      <td>0.00</td>\n",
       "      <td>0.00</td>\n",
       "      <td>0.01</td>\n",
       "      <td>0.00</td>\n",
       "      <td>NaN</td>\n",
       "      <td>NaN</td>\n",
       "      <td>NaN</td>\n",
       "    </tr>\n",
       "    <tr>\n",
       "      <th>16711</th>\n",
       "      <td>LMA Manager 2007</td>\n",
       "      <td>X360</td>\n",
       "      <td>2006.0</td>\n",
       "      <td>Sports</td>\n",
       "      <td>0.00</td>\n",
       "      <td>0.01</td>\n",
       "      <td>0.00</td>\n",
       "      <td>0.00</td>\n",
       "      <td>NaN</td>\n",
       "      <td>NaN</td>\n",
       "      <td>NaN</td>\n",
       "    </tr>\n",
       "    <tr>\n",
       "      <th>16712</th>\n",
       "      <td>Haitaka no Psychedelica</td>\n",
       "      <td>PSV</td>\n",
       "      <td>2016.0</td>\n",
       "      <td>Adventure</td>\n",
       "      <td>0.00</td>\n",
       "      <td>0.00</td>\n",
       "      <td>0.01</td>\n",
       "      <td>0.00</td>\n",
       "      <td>NaN</td>\n",
       "      <td>NaN</td>\n",
       "      <td>NaN</td>\n",
       "    </tr>\n",
       "    <tr>\n",
       "      <th>16713</th>\n",
       "      <td>Spirits &amp; Spells</td>\n",
       "      <td>GBA</td>\n",
       "      <td>2003.0</td>\n",
       "      <td>Platform</td>\n",
       "      <td>0.01</td>\n",
       "      <td>0.00</td>\n",
       "      <td>0.00</td>\n",
       "      <td>0.00</td>\n",
       "      <td>NaN</td>\n",
       "      <td>NaN</td>\n",
       "      <td>NaN</td>\n",
       "    </tr>\n",
       "    <tr>\n",
       "      <th>16714</th>\n",
       "      <td>Winning Post 8 2016</td>\n",
       "      <td>PSV</td>\n",
       "      <td>2016.0</td>\n",
       "      <td>Simulation</td>\n",
       "      <td>0.00</td>\n",
       "      <td>0.00</td>\n",
       "      <td>0.01</td>\n",
       "      <td>0.00</td>\n",
       "      <td>NaN</td>\n",
       "      <td>NaN</td>\n",
       "      <td>NaN</td>\n",
       "    </tr>\n",
       "  </tbody>\n",
       "</table>\n",
       "<p>6766 rows × 11 columns</p>\n",
       "</div>"
      ],
      "text/plain": [
       "                                Name Platform  Year_of_Release         Genre  \\\n",
       "1                  Super Mario Bros.      NES           1985.0      Platform   \n",
       "4           Pokemon Red/Pokemon Blue       GB           1996.0  Role-Playing   \n",
       "5                             Tetris       GB           1989.0        Puzzle   \n",
       "9                          Duck Hunt      NES           1984.0       Shooter   \n",
       "10                        Nintendogs       DS           2005.0    Simulation   \n",
       "...                              ...      ...              ...           ...   \n",
       "16710  Samurai Warriors: Sanada Maru      PS3           2016.0        Action   \n",
       "16711               LMA Manager 2007     X360           2006.0        Sports   \n",
       "16712        Haitaka no Psychedelica      PSV           2016.0     Adventure   \n",
       "16713               Spirits & Spells      GBA           2003.0      Platform   \n",
       "16714            Winning Post 8 2016      PSV           2016.0    Simulation   \n",
       "\n",
       "       NA_sales  EU_sales  JP_sales  Other_sales  Critic_Score User_Score  \\\n",
       "1         29.08      3.58      6.81         0.77           NaN        NaN   \n",
       "4         11.27      8.89     10.22         1.00           NaN        NaN   \n",
       "5         23.20      2.26      4.22         0.58           NaN        NaN   \n",
       "9         26.93      0.63      0.28         0.47           NaN        NaN   \n",
       "10         9.05     10.95      1.93         2.74           NaN        NaN   \n",
       "...         ...       ...       ...          ...           ...        ...   \n",
       "16710      0.00      0.00      0.01         0.00           NaN        NaN   \n",
       "16711      0.00      0.01      0.00         0.00           NaN        NaN   \n",
       "16712      0.00      0.00      0.01         0.00           NaN        NaN   \n",
       "16713      0.01      0.00      0.00         0.00           NaN        NaN   \n",
       "16714      0.00      0.00      0.01         0.00           NaN        NaN   \n",
       "\n",
       "      Rating  \n",
       "1        NaN  \n",
       "4        NaN  \n",
       "5        NaN  \n",
       "9        NaN  \n",
       "10       NaN  \n",
       "...      ...  \n",
       "16710    NaN  \n",
       "16711    NaN  \n",
       "16712    NaN  \n",
       "16713    NaN  \n",
       "16714    NaN  \n",
       "\n",
       "[6766 rows x 11 columns]"
      ]
     },
     "execution_count": 7,
     "metadata": {},
     "output_type": "execute_result"
    }
   ],
   "source": [
    "game[game['Rating'].isna()]"
   ]
  },
  {
   "cell_type": "markdown",
   "metadata": {},
   "source": [
    "Вывод:\n",
    "В таблице 16715 строк,  при этом есть строки в которых некорректные типы данных, их нужно изменить.\n",
    "В столбцах Name и Genre присутствуют пару строк с пропусками, видно, что это одни и теже игры.\n",
    "Также В трех последних столбцах большое количество пропущенных значений, нужно разобраться в причине пропусков, они не случайны.\n",
    "Пропуски в столбце Year_of_Release образованы потомк что скорее всего данные просто отсутвуют.\n",
    "Название столбцов фрейма нужно приветси к нижнему регистру. \n",
    "Явные дубликаты в таблице отсутствуют."
   ]
  },
  {
   "cell_type": "markdown",
   "metadata": {},
   "source": [
    "# 2. Подготовка данных."
   ]
  },
  {
   "cell_type": "code",
   "execution_count": 8,
   "metadata": {},
   "outputs": [
    {
     "name": "stdout",
     "output_type": "stream",
     "text": [
      "Index(['name', 'platform', 'year_of_release', 'genre', 'na_sales', 'eu_sales',\n",
      "       'jp_sales', 'other_sales', 'critic_score', 'user_score', 'rating'],\n",
      "      dtype='object')\n"
     ]
    }
   ],
   "source": [
    "game = game.rename(columns={'Name': 'name','Platform':'platform', 'Year_of_Release':'year_of_release', 'Genre': 'genre', 'NA_sales': 'na_sales', 'EU_sales': 'eu_sales', 'JP_sales': 'jp_sales', 'Other_sales': 'other_sales', 'Critic_Score': 'critic_score', 'User_Score': 'user_score', 'Rating': 'rating'})\n",
    "print(game.columns) #приведем название столбцов к нижнему регистру и проверим произведенные изменения."
   ]
  },
  {
   "cell_type": "code",
   "execution_count": 9,
   "metadata": {},
   "outputs": [
    {
     "data": {
      "text/plain": [
       "name                  0\n",
       "platform              0\n",
       "year_of_release       0\n",
       "genre                 0\n",
       "na_sales              0\n",
       "eu_sales              0\n",
       "jp_sales              0\n",
       "other_sales           0\n",
       "critic_score       8461\n",
       "user_score         6605\n",
       "rating             6676\n",
       "dtype: int64"
      ]
     },
     "metadata": {},
     "output_type": "display_data"
    },
    {
     "name": "stdout",
     "output_type": "stream",
     "text": [
      "<class 'pandas.core.frame.DataFrame'>\n",
      "Int64Index: 16444 entries, 0 to 16714\n",
      "Data columns (total 11 columns):\n",
      " #   Column           Non-Null Count  Dtype  \n",
      "---  ------           --------------  -----  \n",
      " 0   name             16444 non-null  object \n",
      " 1   platform         16444 non-null  object \n",
      " 2   year_of_release  16444 non-null  int64  \n",
      " 3   genre            16444 non-null  object \n",
      " 4   na_sales         16444 non-null  float64\n",
      " 5   eu_sales         16444 non-null  float64\n",
      " 6   jp_sales         16444 non-null  float64\n",
      " 7   other_sales      16444 non-null  float64\n",
      " 8   critic_score     7983 non-null   float64\n",
      " 9   user_score       9839 non-null   object \n",
      " 10  rating           9768 non-null   object \n",
      "dtypes: float64(5), int64(1), object(5)\n",
      "memory usage: 1.5+ MB\n"
     ]
    }
   ],
   "source": [
    "game = game.dropna(subset = ['name']) \n",
    "\n",
    "game = game.dropna(subset = ['year_of_release']) \n",
    "game['year_of_release'] = game['year_of_release'].astype('int')\n",
    "\n",
    "display(game.isna().sum()) # проверим количество пропусков после замены\n",
    "game.info() # проверка изменения типа данных и корректного количества строк"
   ]
  },
  {
   "cell_type": "markdown",
   "metadata": {},
   "source": [
    "Удалим строки с пропусками из столбца name их всего 2, автоматически убрались пропуски из столца genre, так как данные представлены о тех же играх.Причина отсутвия года непонятна, количество строк с пропущенными значениями в данном столбце примерно 1.5% от общего количество, на анализ данных удаление строк не повлияет. При этом, игры без года создания не нужны для анализа данных.\n",
    "\n",
    "Чтобы не потерять важные данные в столбце year_of_release, заменим пропуски на 0 и сразу произведем замену типа данных на целое число,так как это год выпуска.\n"
   ]
  },
  {
   "cell_type": "code",
   "execution_count": 10,
   "metadata": {},
   "outputs": [
    {
     "data": {
      "text/plain": [
       "count    7983.000000\n",
       "mean       68.994363\n",
       "std        13.920060\n",
       "min        13.000000\n",
       "25%        60.000000\n",
       "50%        71.000000\n",
       "75%        79.000000\n",
       "max        98.000000\n",
       "Name: critic_score, dtype: float64"
      ]
     },
     "metadata": {},
     "output_type": "display_data"
    },
    {
     "name": "stdout",
     "output_type": "stream",
     "text": [
      "                 year_of_release  na_sales  eu_sales  jp_sales  other_sales  \\\n",
      "year_of_release         1.000000 -0.092326  0.004045 -0.168477     0.037821   \n",
      "na_sales               -0.092326  1.000000  0.766546  0.451162     0.638479   \n",
      "eu_sales                0.004045  0.766546  1.000000  0.435894     0.722679   \n",
      "jp_sales               -0.168477  0.451162  0.435894  1.000000     0.291562   \n",
      "other_sales             0.037821  0.638479  0.722679  0.291562     1.000000   \n",
      "critic_score            0.011411  0.240083  0.221276  0.153474     0.198410   \n",
      "\n",
      "                 critic_score  \n",
      "year_of_release      0.011411  \n",
      "na_sales             0.240083  \n",
      "eu_sales             0.221276  \n",
      "jp_sales             0.153474  \n",
      "other_sales          0.198410  \n",
      "critic_score         1.000000  \n"
     ]
    },
    {
     "data": {
      "text/plain": [
       "name                  0\n",
       "platform              0\n",
       "year_of_release       0\n",
       "genre                 0\n",
       "na_sales              0\n",
       "eu_sales              0\n",
       "jp_sales              0\n",
       "other_sales           0\n",
       "critic_score       8461\n",
       "user_score         6605\n",
       "rating             6676\n",
       "dtype: int64"
      ]
     },
     "metadata": {},
     "output_type": "display_data"
    },
    {
     "name": "stdout",
     "output_type": "stream",
     "text": [
      "<class 'pandas.core.frame.DataFrame'>\n",
      "Int64Index: 16444 entries, 0 to 16714\n",
      "Data columns (total 11 columns):\n",
      " #   Column           Non-Null Count  Dtype  \n",
      "---  ------           --------------  -----  \n",
      " 0   name             16444 non-null  object \n",
      " 1   platform         16444 non-null  object \n",
      " 2   year_of_release  16444 non-null  int64  \n",
      " 3   genre            16444 non-null  object \n",
      " 4   na_sales         16444 non-null  float64\n",
      " 5   eu_sales         16444 non-null  float64\n",
      " 6   jp_sales         16444 non-null  float64\n",
      " 7   other_sales      16444 non-null  float64\n",
      " 8   critic_score     7983 non-null   float64\n",
      " 9   user_score       9839 non-null   object \n",
      " 10  rating           9768 non-null   object \n",
      "dtypes: float64(5), int64(1), object(5)\n",
      "memory usage: 1.5+ MB\n"
     ]
    }
   ],
   "source": [
    "display(game['critic_score'].describe())\n",
    "print(game.corr())\n",
    "\n",
    "\n",
    "\n",
    "display(game.isna().sum())\n",
    "game.info()"
   ]
  },
  {
   "cell_type": "markdown",
   "metadata": {},
   "source": [
    "Посмотрим среднее и степень разброса относительно среднего для понимания чем заменять пропуски в столбце, посмотрим какая зависимость мужду параметрами датафрейма.\n",
    "\n",
    "Получилось, что самая сильная взаимосвязь между оценкой критиков и пользовательской оценкой, нам  это ничего не дает, Оставим их."
   ]
  },
  {
   "cell_type": "code",
   "execution_count": 11,
   "metadata": {},
   "outputs": [
    {
     "name": "stdout",
     "output_type": "stream",
     "text": [
      "<class 'pandas.core.frame.DataFrame'>\n",
      "Int64Index: 16444 entries, 0 to 16714\n",
      "Data columns (total 11 columns):\n",
      " #   Column           Non-Null Count  Dtype  \n",
      "---  ------           --------------  -----  \n",
      " 0   name             16444 non-null  object \n",
      " 1   platform         16444 non-null  object \n",
      " 2   year_of_release  16444 non-null  int64  \n",
      " 3   genre            16444 non-null  object \n",
      " 4   na_sales         16444 non-null  float64\n",
      " 5   eu_sales         16444 non-null  float64\n",
      " 6   jp_sales         16444 non-null  float64\n",
      " 7   other_sales      16444 non-null  float64\n",
      " 8   critic_score     7983 non-null   float64\n",
      " 9   user_score       7463 non-null   float64\n",
      " 10  rating           9768 non-null   object \n",
      "dtypes: float64(6), int64(1), object(4)\n",
      "memory usage: 1.5+ MB\n"
     ]
    },
    {
     "data": {
      "text/html": [
       "<div>\n",
       "<style scoped>\n",
       "    .dataframe tbody tr th:only-of-type {\n",
       "        vertical-align: middle;\n",
       "    }\n",
       "\n",
       "    .dataframe tbody tr th {\n",
       "        vertical-align: top;\n",
       "    }\n",
       "\n",
       "    .dataframe thead th {\n",
       "        text-align: right;\n",
       "    }\n",
       "</style>\n",
       "<table border=\"1\" class=\"dataframe\">\n",
       "  <thead>\n",
       "    <tr style=\"text-align: right;\">\n",
       "      <th></th>\n",
       "      <th>name</th>\n",
       "      <th>platform</th>\n",
       "      <th>year_of_release</th>\n",
       "      <th>genre</th>\n",
       "      <th>na_sales</th>\n",
       "      <th>eu_sales</th>\n",
       "      <th>jp_sales</th>\n",
       "      <th>other_sales</th>\n",
       "      <th>critic_score</th>\n",
       "      <th>user_score</th>\n",
       "      <th>rating</th>\n",
       "    </tr>\n",
       "  </thead>\n",
       "  <tbody>\n",
       "    <tr>\n",
       "      <th>0</th>\n",
       "      <td>Wii Sports</td>\n",
       "      <td>Wii</td>\n",
       "      <td>2006</td>\n",
       "      <td>Sports</td>\n",
       "      <td>41.36</td>\n",
       "      <td>28.96</td>\n",
       "      <td>3.77</td>\n",
       "      <td>8.45</td>\n",
       "      <td>76.0</td>\n",
       "      <td>8.0</td>\n",
       "      <td>E</td>\n",
       "    </tr>\n",
       "    <tr>\n",
       "      <th>1</th>\n",
       "      <td>Super Mario Bros.</td>\n",
       "      <td>NES</td>\n",
       "      <td>1985</td>\n",
       "      <td>Platform</td>\n",
       "      <td>29.08</td>\n",
       "      <td>3.58</td>\n",
       "      <td>6.81</td>\n",
       "      <td>0.77</td>\n",
       "      <td>NaN</td>\n",
       "      <td>NaN</td>\n",
       "      <td>NaN</td>\n",
       "    </tr>\n",
       "    <tr>\n",
       "      <th>2</th>\n",
       "      <td>Mario Kart Wii</td>\n",
       "      <td>Wii</td>\n",
       "      <td>2008</td>\n",
       "      <td>Racing</td>\n",
       "      <td>15.68</td>\n",
       "      <td>12.76</td>\n",
       "      <td>3.79</td>\n",
       "      <td>3.29</td>\n",
       "      <td>82.0</td>\n",
       "      <td>8.3</td>\n",
       "      <td>E</td>\n",
       "    </tr>\n",
       "    <tr>\n",
       "      <th>3</th>\n",
       "      <td>Wii Sports Resort</td>\n",
       "      <td>Wii</td>\n",
       "      <td>2009</td>\n",
       "      <td>Sports</td>\n",
       "      <td>15.61</td>\n",
       "      <td>10.93</td>\n",
       "      <td>3.28</td>\n",
       "      <td>2.95</td>\n",
       "      <td>80.0</td>\n",
       "      <td>8.0</td>\n",
       "      <td>E</td>\n",
       "    </tr>\n",
       "    <tr>\n",
       "      <th>4</th>\n",
       "      <td>Pokemon Red/Pokemon Blue</td>\n",
       "      <td>GB</td>\n",
       "      <td>1996</td>\n",
       "      <td>Role-Playing</td>\n",
       "      <td>11.27</td>\n",
       "      <td>8.89</td>\n",
       "      <td>10.22</td>\n",
       "      <td>1.00</td>\n",
       "      <td>NaN</td>\n",
       "      <td>NaN</td>\n",
       "      <td>NaN</td>\n",
       "    </tr>\n",
       "    <tr>\n",
       "      <th>5</th>\n",
       "      <td>Tetris</td>\n",
       "      <td>GB</td>\n",
       "      <td>1989</td>\n",
       "      <td>Puzzle</td>\n",
       "      <td>23.20</td>\n",
       "      <td>2.26</td>\n",
       "      <td>4.22</td>\n",
       "      <td>0.58</td>\n",
       "      <td>NaN</td>\n",
       "      <td>NaN</td>\n",
       "      <td>NaN</td>\n",
       "    </tr>\n",
       "    <tr>\n",
       "      <th>6</th>\n",
       "      <td>New Super Mario Bros.</td>\n",
       "      <td>DS</td>\n",
       "      <td>2006</td>\n",
       "      <td>Platform</td>\n",
       "      <td>11.28</td>\n",
       "      <td>9.14</td>\n",
       "      <td>6.50</td>\n",
       "      <td>2.88</td>\n",
       "      <td>89.0</td>\n",
       "      <td>8.5</td>\n",
       "      <td>E</td>\n",
       "    </tr>\n",
       "    <tr>\n",
       "      <th>7</th>\n",
       "      <td>Wii Play</td>\n",
       "      <td>Wii</td>\n",
       "      <td>2006</td>\n",
       "      <td>Misc</td>\n",
       "      <td>13.96</td>\n",
       "      <td>9.18</td>\n",
       "      <td>2.93</td>\n",
       "      <td>2.84</td>\n",
       "      <td>58.0</td>\n",
       "      <td>6.6</td>\n",
       "      <td>E</td>\n",
       "    </tr>\n",
       "    <tr>\n",
       "      <th>8</th>\n",
       "      <td>New Super Mario Bros. Wii</td>\n",
       "      <td>Wii</td>\n",
       "      <td>2009</td>\n",
       "      <td>Platform</td>\n",
       "      <td>14.44</td>\n",
       "      <td>6.94</td>\n",
       "      <td>4.70</td>\n",
       "      <td>2.24</td>\n",
       "      <td>87.0</td>\n",
       "      <td>8.4</td>\n",
       "      <td>E</td>\n",
       "    </tr>\n",
       "    <tr>\n",
       "      <th>9</th>\n",
       "      <td>Duck Hunt</td>\n",
       "      <td>NES</td>\n",
       "      <td>1984</td>\n",
       "      <td>Shooter</td>\n",
       "      <td>26.93</td>\n",
       "      <td>0.63</td>\n",
       "      <td>0.28</td>\n",
       "      <td>0.47</td>\n",
       "      <td>NaN</td>\n",
       "      <td>NaN</td>\n",
       "      <td>NaN</td>\n",
       "    </tr>\n",
       "    <tr>\n",
       "      <th>10</th>\n",
       "      <td>Nintendogs</td>\n",
       "      <td>DS</td>\n",
       "      <td>2005</td>\n",
       "      <td>Simulation</td>\n",
       "      <td>9.05</td>\n",
       "      <td>10.95</td>\n",
       "      <td>1.93</td>\n",
       "      <td>2.74</td>\n",
       "      <td>NaN</td>\n",
       "      <td>NaN</td>\n",
       "      <td>NaN</td>\n",
       "    </tr>\n",
       "    <tr>\n",
       "      <th>11</th>\n",
       "      <td>Mario Kart DS</td>\n",
       "      <td>DS</td>\n",
       "      <td>2005</td>\n",
       "      <td>Racing</td>\n",
       "      <td>9.71</td>\n",
       "      <td>7.47</td>\n",
       "      <td>4.13</td>\n",
       "      <td>1.90</td>\n",
       "      <td>91.0</td>\n",
       "      <td>8.6</td>\n",
       "      <td>E</td>\n",
       "    </tr>\n",
       "    <tr>\n",
       "      <th>12</th>\n",
       "      <td>Pokemon Gold/Pokemon Silver</td>\n",
       "      <td>GB</td>\n",
       "      <td>1999</td>\n",
       "      <td>Role-Playing</td>\n",
       "      <td>9.00</td>\n",
       "      <td>6.18</td>\n",
       "      <td>7.20</td>\n",
       "      <td>0.71</td>\n",
       "      <td>NaN</td>\n",
       "      <td>NaN</td>\n",
       "      <td>NaN</td>\n",
       "    </tr>\n",
       "    <tr>\n",
       "      <th>13</th>\n",
       "      <td>Wii Fit</td>\n",
       "      <td>Wii</td>\n",
       "      <td>2007</td>\n",
       "      <td>Sports</td>\n",
       "      <td>8.92</td>\n",
       "      <td>8.03</td>\n",
       "      <td>3.60</td>\n",
       "      <td>2.15</td>\n",
       "      <td>80.0</td>\n",
       "      <td>7.7</td>\n",
       "      <td>E</td>\n",
       "    </tr>\n",
       "    <tr>\n",
       "      <th>14</th>\n",
       "      <td>Kinect Adventures!</td>\n",
       "      <td>X360</td>\n",
       "      <td>2010</td>\n",
       "      <td>Misc</td>\n",
       "      <td>15.00</td>\n",
       "      <td>4.89</td>\n",
       "      <td>0.24</td>\n",
       "      <td>1.69</td>\n",
       "      <td>61.0</td>\n",
       "      <td>6.3</td>\n",
       "      <td>E</td>\n",
       "    </tr>\n",
       "    <tr>\n",
       "      <th>15</th>\n",
       "      <td>Wii Fit Plus</td>\n",
       "      <td>Wii</td>\n",
       "      <td>2009</td>\n",
       "      <td>Sports</td>\n",
       "      <td>9.01</td>\n",
       "      <td>8.49</td>\n",
       "      <td>2.53</td>\n",
       "      <td>1.77</td>\n",
       "      <td>80.0</td>\n",
       "      <td>7.4</td>\n",
       "      <td>E</td>\n",
       "    </tr>\n",
       "    <tr>\n",
       "      <th>16</th>\n",
       "      <td>Grand Theft Auto V</td>\n",
       "      <td>PS3</td>\n",
       "      <td>2013</td>\n",
       "      <td>Action</td>\n",
       "      <td>7.02</td>\n",
       "      <td>9.09</td>\n",
       "      <td>0.98</td>\n",
       "      <td>3.96</td>\n",
       "      <td>97.0</td>\n",
       "      <td>8.2</td>\n",
       "      <td>M</td>\n",
       "    </tr>\n",
       "    <tr>\n",
       "      <th>17</th>\n",
       "      <td>Grand Theft Auto: San Andreas</td>\n",
       "      <td>PS2</td>\n",
       "      <td>2004</td>\n",
       "      <td>Action</td>\n",
       "      <td>9.43</td>\n",
       "      <td>0.40</td>\n",
       "      <td>0.41</td>\n",
       "      <td>10.57</td>\n",
       "      <td>95.0</td>\n",
       "      <td>9.0</td>\n",
       "      <td>M</td>\n",
       "    </tr>\n",
       "    <tr>\n",
       "      <th>18</th>\n",
       "      <td>Super Mario World</td>\n",
       "      <td>SNES</td>\n",
       "      <td>1990</td>\n",
       "      <td>Platform</td>\n",
       "      <td>12.78</td>\n",
       "      <td>3.75</td>\n",
       "      <td>3.54</td>\n",
       "      <td>0.55</td>\n",
       "      <td>NaN</td>\n",
       "      <td>NaN</td>\n",
       "      <td>NaN</td>\n",
       "    </tr>\n",
       "    <tr>\n",
       "      <th>19</th>\n",
       "      <td>Brain Age: Train Your Brain in Minutes a Day</td>\n",
       "      <td>DS</td>\n",
       "      <td>2005</td>\n",
       "      <td>Misc</td>\n",
       "      <td>4.74</td>\n",
       "      <td>9.20</td>\n",
       "      <td>4.16</td>\n",
       "      <td>2.04</td>\n",
       "      <td>77.0</td>\n",
       "      <td>7.9</td>\n",
       "      <td>E</td>\n",
       "    </tr>\n",
       "  </tbody>\n",
       "</table>\n",
       "</div>"
      ],
      "text/plain": [
       "                                            name platform  year_of_release  \\\n",
       "0                                     Wii Sports      Wii             2006   \n",
       "1                              Super Mario Bros.      NES             1985   \n",
       "2                                 Mario Kart Wii      Wii             2008   \n",
       "3                              Wii Sports Resort      Wii             2009   \n",
       "4                       Pokemon Red/Pokemon Blue       GB             1996   \n",
       "5                                         Tetris       GB             1989   \n",
       "6                          New Super Mario Bros.       DS             2006   \n",
       "7                                       Wii Play      Wii             2006   \n",
       "8                      New Super Mario Bros. Wii      Wii             2009   \n",
       "9                                      Duck Hunt      NES             1984   \n",
       "10                                    Nintendogs       DS             2005   \n",
       "11                                 Mario Kart DS       DS             2005   \n",
       "12                   Pokemon Gold/Pokemon Silver       GB             1999   \n",
       "13                                       Wii Fit      Wii             2007   \n",
       "14                            Kinect Adventures!     X360             2010   \n",
       "15                                  Wii Fit Plus      Wii             2009   \n",
       "16                            Grand Theft Auto V      PS3             2013   \n",
       "17                 Grand Theft Auto: San Andreas      PS2             2004   \n",
       "18                             Super Mario World     SNES             1990   \n",
       "19  Brain Age: Train Your Brain in Minutes a Day       DS             2005   \n",
       "\n",
       "           genre  na_sales  eu_sales  jp_sales  other_sales  critic_score  \\\n",
       "0         Sports     41.36     28.96      3.77         8.45          76.0   \n",
       "1       Platform     29.08      3.58      6.81         0.77           NaN   \n",
       "2         Racing     15.68     12.76      3.79         3.29          82.0   \n",
       "3         Sports     15.61     10.93      3.28         2.95          80.0   \n",
       "4   Role-Playing     11.27      8.89     10.22         1.00           NaN   \n",
       "5         Puzzle     23.20      2.26      4.22         0.58           NaN   \n",
       "6       Platform     11.28      9.14      6.50         2.88          89.0   \n",
       "7           Misc     13.96      9.18      2.93         2.84          58.0   \n",
       "8       Platform     14.44      6.94      4.70         2.24          87.0   \n",
       "9        Shooter     26.93      0.63      0.28         0.47           NaN   \n",
       "10    Simulation      9.05     10.95      1.93         2.74           NaN   \n",
       "11        Racing      9.71      7.47      4.13         1.90          91.0   \n",
       "12  Role-Playing      9.00      6.18      7.20         0.71           NaN   \n",
       "13        Sports      8.92      8.03      3.60         2.15          80.0   \n",
       "14          Misc     15.00      4.89      0.24         1.69          61.0   \n",
       "15        Sports      9.01      8.49      2.53         1.77          80.0   \n",
       "16        Action      7.02      9.09      0.98         3.96          97.0   \n",
       "17        Action      9.43      0.40      0.41        10.57          95.0   \n",
       "18      Platform     12.78      3.75      3.54         0.55           NaN   \n",
       "19          Misc      4.74      9.20      4.16         2.04          77.0   \n",
       "\n",
       "    user_score rating  \n",
       "0          8.0      E  \n",
       "1          NaN    NaN  \n",
       "2          8.3      E  \n",
       "3          8.0      E  \n",
       "4          NaN    NaN  \n",
       "5          NaN    NaN  \n",
       "6          8.5      E  \n",
       "7          6.6      E  \n",
       "8          8.4      E  \n",
       "9          NaN    NaN  \n",
       "10         NaN    NaN  \n",
       "11         8.6      E  \n",
       "12         NaN    NaN  \n",
       "13         7.7      E  \n",
       "14         6.3      E  \n",
       "15         7.4      E  \n",
       "16         8.2      M  \n",
       "17         9.0      M  \n",
       "18         NaN    NaN  \n",
       "19         7.9      E  "
      ]
     },
     "metadata": {},
     "output_type": "display_data"
    }
   ],
   "source": [
    "\n",
    "game['user_score'].unique() \n",
    "game['user_score'] = pd.to_numeric(game['user_score'],errors ='coerce') \n",
    "\n",
    "game['user_score'] = game['user_score'].round(1) \n",
    "game.loc[:,'user_score']\n",
    "\n",
    "\n",
    "game.info()\n",
    "display(game.head(20))"
   ]
  },
  {
   "cell_type": "markdown",
   "metadata": {},
   "source": [
    "Вперечне значений столбца user_score присутствуют пропуски, а также значение tbd.Полное наименование To Be Determined (будет определено), соответсвенно данных по играм с данным статусом еще нет, следовательно tbd можно заменить на NaN.\n",
    "Ссделаем замену типа данных на int,все некорректные значения будут заменены на NaN.Округлим значение в столбце user_score до 1 знака после запятой. Пропущеные значения в столбце оставляем, так как их много, проверм прошла ли совершенная замена."
   ]
  },
  {
   "cell_type": "code",
   "execution_count": 12,
   "metadata": {},
   "outputs": [
    {
     "data": {
      "text/html": [
       "<div>\n",
       "<style scoped>\n",
       "    .dataframe tbody tr th:only-of-type {\n",
       "        vertical-align: middle;\n",
       "    }\n",
       "\n",
       "    .dataframe tbody tr th {\n",
       "        vertical-align: top;\n",
       "    }\n",
       "\n",
       "    .dataframe thead th {\n",
       "        text-align: right;\n",
       "    }\n",
       "</style>\n",
       "<table border=\"1\" class=\"dataframe\">\n",
       "  <thead>\n",
       "    <tr style=\"text-align: right;\">\n",
       "      <th></th>\n",
       "      <th>name</th>\n",
       "      <th>platform</th>\n",
       "      <th>year_of_release</th>\n",
       "      <th>genre</th>\n",
       "      <th>na_sales</th>\n",
       "      <th>eu_sales</th>\n",
       "      <th>jp_sales</th>\n",
       "      <th>other_sales</th>\n",
       "      <th>critic_score</th>\n",
       "      <th>user_score</th>\n",
       "      <th>rating</th>\n",
       "    </tr>\n",
       "  </thead>\n",
       "  <tbody>\n",
       "    <tr>\n",
       "      <th>16695</th>\n",
       "      <td>Planet Monsters</td>\n",
       "      <td>GBA</td>\n",
       "      <td>2001</td>\n",
       "      <td>Action</td>\n",
       "      <td>0.01</td>\n",
       "      <td>0.00</td>\n",
       "      <td>0.00</td>\n",
       "      <td>0.0</td>\n",
       "      <td>67.0</td>\n",
       "      <td>NaN</td>\n",
       "      <td>E</td>\n",
       "    </tr>\n",
       "    <tr>\n",
       "      <th>16696</th>\n",
       "      <td>Breach</td>\n",
       "      <td>PC</td>\n",
       "      <td>2011</td>\n",
       "      <td>Shooter</td>\n",
       "      <td>0.01</td>\n",
       "      <td>0.00</td>\n",
       "      <td>0.00</td>\n",
       "      <td>0.0</td>\n",
       "      <td>61.0</td>\n",
       "      <td>5.8</td>\n",
       "      <td>T</td>\n",
       "    </tr>\n",
       "    <tr>\n",
       "      <th>16697</th>\n",
       "      <td>Bust-A-Move 3000</td>\n",
       "      <td>GC</td>\n",
       "      <td>2003</td>\n",
       "      <td>Puzzle</td>\n",
       "      <td>0.01</td>\n",
       "      <td>0.00</td>\n",
       "      <td>0.00</td>\n",
       "      <td>0.0</td>\n",
       "      <td>53.0</td>\n",
       "      <td>NaN</td>\n",
       "      <td>E</td>\n",
       "    </tr>\n",
       "    <tr>\n",
       "      <th>16698</th>\n",
       "      <td>Mega Brain Boost</td>\n",
       "      <td>DS</td>\n",
       "      <td>2008</td>\n",
       "      <td>Puzzle</td>\n",
       "      <td>0.01</td>\n",
       "      <td>0.00</td>\n",
       "      <td>0.00</td>\n",
       "      <td>0.0</td>\n",
       "      <td>48.0</td>\n",
       "      <td>NaN</td>\n",
       "      <td>E</td>\n",
       "    </tr>\n",
       "    <tr>\n",
       "      <th>16699</th>\n",
       "      <td>The Longest 5 Minutes</td>\n",
       "      <td>PSV</td>\n",
       "      <td>2016</td>\n",
       "      <td>Action</td>\n",
       "      <td>0.00</td>\n",
       "      <td>0.00</td>\n",
       "      <td>0.01</td>\n",
       "      <td>0.0</td>\n",
       "      <td>NaN</td>\n",
       "      <td>NaN</td>\n",
       "      <td>NaN</td>\n",
       "    </tr>\n",
       "    <tr>\n",
       "      <th>16700</th>\n",
       "      <td>Mezase!! Tsuri Master DS</td>\n",
       "      <td>DS</td>\n",
       "      <td>2009</td>\n",
       "      <td>Sports</td>\n",
       "      <td>0.00</td>\n",
       "      <td>0.00</td>\n",
       "      <td>0.01</td>\n",
       "      <td>0.0</td>\n",
       "      <td>NaN</td>\n",
       "      <td>NaN</td>\n",
       "      <td>NaN</td>\n",
       "    </tr>\n",
       "    <tr>\n",
       "      <th>16701</th>\n",
       "      <td>Eiyuu Densetsu: Sora no Kiseki Material Collec...</td>\n",
       "      <td>PSP</td>\n",
       "      <td>2007</td>\n",
       "      <td>Role-Playing</td>\n",
       "      <td>0.00</td>\n",
       "      <td>0.00</td>\n",
       "      <td>0.01</td>\n",
       "      <td>0.0</td>\n",
       "      <td>NaN</td>\n",
       "      <td>NaN</td>\n",
       "      <td>NaN</td>\n",
       "    </tr>\n",
       "    <tr>\n",
       "      <th>16702</th>\n",
       "      <td>STORM: Frontline Nation</td>\n",
       "      <td>PC</td>\n",
       "      <td>2011</td>\n",
       "      <td>Strategy</td>\n",
       "      <td>0.00</td>\n",
       "      <td>0.01</td>\n",
       "      <td>0.00</td>\n",
       "      <td>0.0</td>\n",
       "      <td>60.0</td>\n",
       "      <td>7.2</td>\n",
       "      <td>E10+</td>\n",
       "    </tr>\n",
       "    <tr>\n",
       "      <th>16703</th>\n",
       "      <td>Strawberry Nauts</td>\n",
       "      <td>PSV</td>\n",
       "      <td>2016</td>\n",
       "      <td>Adventure</td>\n",
       "      <td>0.00</td>\n",
       "      <td>0.00</td>\n",
       "      <td>0.01</td>\n",
       "      <td>0.0</td>\n",
       "      <td>NaN</td>\n",
       "      <td>NaN</td>\n",
       "      <td>NaN</td>\n",
       "    </tr>\n",
       "    <tr>\n",
       "      <th>16704</th>\n",
       "      <td>Plushees</td>\n",
       "      <td>DS</td>\n",
       "      <td>2008</td>\n",
       "      <td>Simulation</td>\n",
       "      <td>0.01</td>\n",
       "      <td>0.00</td>\n",
       "      <td>0.00</td>\n",
       "      <td>0.0</td>\n",
       "      <td>NaN</td>\n",
       "      <td>NaN</td>\n",
       "      <td>E</td>\n",
       "    </tr>\n",
       "    <tr>\n",
       "      <th>16705</th>\n",
       "      <td>15 Days</td>\n",
       "      <td>PC</td>\n",
       "      <td>2009</td>\n",
       "      <td>Adventure</td>\n",
       "      <td>0.00</td>\n",
       "      <td>0.01</td>\n",
       "      <td>0.00</td>\n",
       "      <td>0.0</td>\n",
       "      <td>63.0</td>\n",
       "      <td>5.8</td>\n",
       "      <td>NaN</td>\n",
       "    </tr>\n",
       "    <tr>\n",
       "      <th>16706</th>\n",
       "      <td>Men in Black II: Alien Escape</td>\n",
       "      <td>GC</td>\n",
       "      <td>2003</td>\n",
       "      <td>Shooter</td>\n",
       "      <td>0.01</td>\n",
       "      <td>0.00</td>\n",
       "      <td>0.00</td>\n",
       "      <td>0.0</td>\n",
       "      <td>NaN</td>\n",
       "      <td>NaN</td>\n",
       "      <td>T</td>\n",
       "    </tr>\n",
       "    <tr>\n",
       "      <th>16707</th>\n",
       "      <td>Aiyoku no Eustia</td>\n",
       "      <td>PSV</td>\n",
       "      <td>2014</td>\n",
       "      <td>Misc</td>\n",
       "      <td>0.00</td>\n",
       "      <td>0.00</td>\n",
       "      <td>0.01</td>\n",
       "      <td>0.0</td>\n",
       "      <td>NaN</td>\n",
       "      <td>NaN</td>\n",
       "      <td>NaN</td>\n",
       "    </tr>\n",
       "    <tr>\n",
       "      <th>16708</th>\n",
       "      <td>Woody Woodpecker in Crazy Castle 5</td>\n",
       "      <td>GBA</td>\n",
       "      <td>2002</td>\n",
       "      <td>Platform</td>\n",
       "      <td>0.01</td>\n",
       "      <td>0.00</td>\n",
       "      <td>0.00</td>\n",
       "      <td>0.0</td>\n",
       "      <td>NaN</td>\n",
       "      <td>NaN</td>\n",
       "      <td>NaN</td>\n",
       "    </tr>\n",
       "    <tr>\n",
       "      <th>16709</th>\n",
       "      <td>SCORE International Baja 1000: The Official Game</td>\n",
       "      <td>PS2</td>\n",
       "      <td>2008</td>\n",
       "      <td>Racing</td>\n",
       "      <td>0.00</td>\n",
       "      <td>0.00</td>\n",
       "      <td>0.00</td>\n",
       "      <td>0.0</td>\n",
       "      <td>NaN</td>\n",
       "      <td>NaN</td>\n",
       "      <td>NaN</td>\n",
       "    </tr>\n",
       "    <tr>\n",
       "      <th>16710</th>\n",
       "      <td>Samurai Warriors: Sanada Maru</td>\n",
       "      <td>PS3</td>\n",
       "      <td>2016</td>\n",
       "      <td>Action</td>\n",
       "      <td>0.00</td>\n",
       "      <td>0.00</td>\n",
       "      <td>0.01</td>\n",
       "      <td>0.0</td>\n",
       "      <td>NaN</td>\n",
       "      <td>NaN</td>\n",
       "      <td>NaN</td>\n",
       "    </tr>\n",
       "    <tr>\n",
       "      <th>16711</th>\n",
       "      <td>LMA Manager 2007</td>\n",
       "      <td>X360</td>\n",
       "      <td>2006</td>\n",
       "      <td>Sports</td>\n",
       "      <td>0.00</td>\n",
       "      <td>0.01</td>\n",
       "      <td>0.00</td>\n",
       "      <td>0.0</td>\n",
       "      <td>NaN</td>\n",
       "      <td>NaN</td>\n",
       "      <td>NaN</td>\n",
       "    </tr>\n",
       "    <tr>\n",
       "      <th>16712</th>\n",
       "      <td>Haitaka no Psychedelica</td>\n",
       "      <td>PSV</td>\n",
       "      <td>2016</td>\n",
       "      <td>Adventure</td>\n",
       "      <td>0.00</td>\n",
       "      <td>0.00</td>\n",
       "      <td>0.01</td>\n",
       "      <td>0.0</td>\n",
       "      <td>NaN</td>\n",
       "      <td>NaN</td>\n",
       "      <td>NaN</td>\n",
       "    </tr>\n",
       "    <tr>\n",
       "      <th>16713</th>\n",
       "      <td>Spirits &amp; Spells</td>\n",
       "      <td>GBA</td>\n",
       "      <td>2003</td>\n",
       "      <td>Platform</td>\n",
       "      <td>0.01</td>\n",
       "      <td>0.00</td>\n",
       "      <td>0.00</td>\n",
       "      <td>0.0</td>\n",
       "      <td>NaN</td>\n",
       "      <td>NaN</td>\n",
       "      <td>NaN</td>\n",
       "    </tr>\n",
       "    <tr>\n",
       "      <th>16714</th>\n",
       "      <td>Winning Post 8 2016</td>\n",
       "      <td>PSV</td>\n",
       "      <td>2016</td>\n",
       "      <td>Simulation</td>\n",
       "      <td>0.00</td>\n",
       "      <td>0.00</td>\n",
       "      <td>0.01</td>\n",
       "      <td>0.0</td>\n",
       "      <td>NaN</td>\n",
       "      <td>NaN</td>\n",
       "      <td>NaN</td>\n",
       "    </tr>\n",
       "  </tbody>\n",
       "</table>\n",
       "</div>"
      ],
      "text/plain": [
       "                                                    name platform  \\\n",
       "16695                                    Planet Monsters      GBA   \n",
       "16696                                             Breach       PC   \n",
       "16697                                   Bust-A-Move 3000       GC   \n",
       "16698                                   Mega Brain Boost       DS   \n",
       "16699                              The Longest 5 Minutes      PSV   \n",
       "16700                           Mezase!! Tsuri Master DS       DS   \n",
       "16701  Eiyuu Densetsu: Sora no Kiseki Material Collec...      PSP   \n",
       "16702                            STORM: Frontline Nation       PC   \n",
       "16703                                   Strawberry Nauts      PSV   \n",
       "16704                                           Plushees       DS   \n",
       "16705                                            15 Days       PC   \n",
       "16706                      Men in Black II: Alien Escape       GC   \n",
       "16707                                   Aiyoku no Eustia      PSV   \n",
       "16708                 Woody Woodpecker in Crazy Castle 5      GBA   \n",
       "16709   SCORE International Baja 1000: The Official Game      PS2   \n",
       "16710                      Samurai Warriors: Sanada Maru      PS3   \n",
       "16711                                   LMA Manager 2007     X360   \n",
       "16712                            Haitaka no Psychedelica      PSV   \n",
       "16713                                   Spirits & Spells      GBA   \n",
       "16714                                Winning Post 8 2016      PSV   \n",
       "\n",
       "       year_of_release         genre  na_sales  eu_sales  jp_sales  \\\n",
       "16695             2001        Action      0.01      0.00      0.00   \n",
       "16696             2011       Shooter      0.01      0.00      0.00   \n",
       "16697             2003        Puzzle      0.01      0.00      0.00   \n",
       "16698             2008        Puzzle      0.01      0.00      0.00   \n",
       "16699             2016        Action      0.00      0.00      0.01   \n",
       "16700             2009        Sports      0.00      0.00      0.01   \n",
       "16701             2007  Role-Playing      0.00      0.00      0.01   \n",
       "16702             2011      Strategy      0.00      0.01      0.00   \n",
       "16703             2016     Adventure      0.00      0.00      0.01   \n",
       "16704             2008    Simulation      0.01      0.00      0.00   \n",
       "16705             2009     Adventure      0.00      0.01      0.00   \n",
       "16706             2003       Shooter      0.01      0.00      0.00   \n",
       "16707             2014          Misc      0.00      0.00      0.01   \n",
       "16708             2002      Platform      0.01      0.00      0.00   \n",
       "16709             2008        Racing      0.00      0.00      0.00   \n",
       "16710             2016        Action      0.00      0.00      0.01   \n",
       "16711             2006        Sports      0.00      0.01      0.00   \n",
       "16712             2016     Adventure      0.00      0.00      0.01   \n",
       "16713             2003      Platform      0.01      0.00      0.00   \n",
       "16714             2016    Simulation      0.00      0.00      0.01   \n",
       "\n",
       "       other_sales  critic_score  user_score rating  \n",
       "16695          0.0          67.0         NaN      E  \n",
       "16696          0.0          61.0         5.8      T  \n",
       "16697          0.0          53.0         NaN      E  \n",
       "16698          0.0          48.0         NaN      E  \n",
       "16699          0.0           NaN         NaN    NaN  \n",
       "16700          0.0           NaN         NaN    NaN  \n",
       "16701          0.0           NaN         NaN    NaN  \n",
       "16702          0.0          60.0         7.2   E10+  \n",
       "16703          0.0           NaN         NaN    NaN  \n",
       "16704          0.0           NaN         NaN      E  \n",
       "16705          0.0          63.0         5.8    NaN  \n",
       "16706          0.0           NaN         NaN      T  \n",
       "16707          0.0           NaN         NaN    NaN  \n",
       "16708          0.0           NaN         NaN    NaN  \n",
       "16709          0.0           NaN         NaN    NaN  \n",
       "16710          0.0           NaN         NaN    NaN  \n",
       "16711          0.0           NaN         NaN    NaN  \n",
       "16712          0.0           NaN         NaN    NaN  \n",
       "16713          0.0           NaN         NaN    NaN  \n",
       "16714          0.0           NaN         NaN    NaN  "
      ]
     },
     "metadata": {},
     "output_type": "display_data"
    },
    {
     "name": "stdout",
     "output_type": "stream",
     "text": [
      "['E' nan 'M' 'T' 'E10+' 'K-A' 'AO' 'EC' 'RP']\n"
     ]
    }
   ],
   "source": [
    "# можно попробовать найти закономерность между рэйтингом и другими параметрами игры, чтобы на основе этих данных восстановить значения рейтинга.\n",
    "display(game.tail(20))\n",
    "print(game['rating'].unique()) #просмотр всех значений рейтинга"
   ]
  },
  {
   "cell_type": "code",
   "execution_count": 13,
   "metadata": {},
   "outputs": [
    {
     "name": "stdout",
     "output_type": "stream",
     "text": [
      "Популярные оценки для жанра: Sports\n",
      "E       1162\n",
      "T        195\n",
      "E10+     105\n",
      "M         16\n",
      "Name: rating, dtype: int64\n",
      "Популярные оценки для жанра: Platform\n",
      "E       354\n",
      "E10+    141\n",
      "T        63\n",
      "M         3\n",
      "Name: rating, dtype: int64\n",
      "Популярные оценки для жанра: Racing\n",
      "E       576\n",
      "T       167\n",
      "E10+     95\n",
      "M        18\n",
      "Name: rating, dtype: int64\n",
      "Популярные оценки для жанра: Role-Playing\n",
      "T       415\n",
      "M       161\n",
      "E10+    111\n",
      "E        83\n",
      "Name: rating, dtype: int64\n",
      "Популярные оценки для жанра: Puzzle\n",
      "E       284\n",
      "E10+     42\n",
      "T        10\n",
      "Name: rating, dtype: int64\n",
      "Популярные оценки для жанра: Misc\n",
      "E       449\n",
      "T       228\n",
      "E10+    166\n",
      "M        13\n",
      "EC        5\n",
      "K-A       1\n",
      "Name: rating, dtype: int64\n",
      "Популярные оценки для жанра: Shooter\n",
      "M       553\n",
      "T       340\n",
      "E10+     56\n",
      "E        47\n",
      "Name: rating, dtype: int64\n",
      "Популярные оценки для жанра: Simulation\n",
      "E       321\n",
      "T       186\n",
      "E10+     47\n",
      "M         5\n",
      "Name: rating, dtype: int64\n",
      "Популярные оценки для жанра: Action\n",
      "T       670\n",
      "M       596\n",
      "E10+    468\n",
      "E       410\n",
      "EC        1\n",
      "AO        1\n",
      "Name: rating, dtype: int64\n",
      "Популярные оценки для жанра: Fighting\n",
      "T       357\n",
      "M        48\n",
      "E10+     19\n",
      "E         8\n",
      "Name: rating, dtype: int64\n",
      "Популярные оценки для жанра: Adventure\n",
      "E       159\n",
      "T       114\n",
      "M        98\n",
      "E10+     67\n",
      "EC        2\n",
      "Name: rating, dtype: int64\n",
      "Популярные оценки для жанра: Strategy\n",
      "T       160\n",
      "E10+     76\n",
      "E        68\n",
      "M        25\n",
      "K-A       2\n",
      "RP        1\n",
      "Name: rating, dtype: int64\n"
     ]
    }
   ],
   "source": [
    "game['rating'].value_counts()\n",
    "\n",
    "genre_list = game['genre'].unique()\n",
    "for genre in genre_list:\n",
    "    print('Популярные оценки для жанра:', genre)\n",
    "    rating_value_counts =game[game['genre'] == genre]['rating'].value_counts()\n",
    "    print(rating_value_counts)\n",
    "    #увидели какие рейтинги являются самыми популярными для каждого жанра.\n",
    "    "
   ]
  },
  {
   "cell_type": "markdown",
   "metadata": {},
   "source": [
    "Расшифровка рейтнгов в столбце rating:\n",
    "\n",
    "EC» («Early childhood») — «Для детей младшего возраста».\n",
    "«E» («Everyone») — «Для всех»\n",
    "«E10+» («Everyone 10 and older») — «Для всех от 10 лет и старше»\n",
    "«T» («Teen») — «Подросткам»\n",
    "«M» («Mature») — «Для взрослых»\n",
    "«AO» («Adults Only 18+») — «Только для взрослых»\n",
    "«RP» («Rating Pending») — «Рейтинг ожидается»\n",
    "K-A - старый вариант маркировки E (for everyone)\n",
    "\n",
    "Пропуски в рейтинге можно охарактеризовать как случайные.Для того, чтобы они не мешали дальнейшим расчетам, заменим пропуски на пустоту ''"
   ]
  },
  {
   "cell_type": "code",
   "execution_count": 14,
   "metadata": {},
   "outputs": [],
   "source": [
    "# сделаем замену Nan на пустоту в колонке рейтнг\n",
    "game['rating'] = game['rating'].fillna('')\n",
    "# в названиях рейтингов есть несколько дублирцющих друг друга названий, их нужно объединить \n",
    "game.loc[game['rating'] == 'RP', 'rating'] = ' ' #сделаем замену на пустоту, так как статус рейтинг находится в ожидании RP - это отсутвие рейтинга\n",
    "game.loc[game['rating'] =='K-A', 'rating'] = 'E'\n",
    "game.loc[game['rating'] == 'AO', 'rating'] = 'M'\n",
    "\n",
    "\n"
   ]
  },
  {
   "cell_type": "code",
   "execution_count": 15,
   "metadata": {},
   "outputs": [
    {
     "name": "stdout",
     "output_type": "stream",
     "text": [
      "<class 'pandas.core.frame.DataFrame'>\n",
      "Int64Index: 16444 entries, 0 to 16714\n",
      "Data columns (total 11 columns):\n",
      " #   Column           Non-Null Count  Dtype  \n",
      "---  ------           --------------  -----  \n",
      " 0   name             16444 non-null  object \n",
      " 1   platform         16444 non-null  object \n",
      " 2   year_of_release  16444 non-null  int64  \n",
      " 3   genre            16444 non-null  object \n",
      " 4   na_sales         16444 non-null  float64\n",
      " 5   eu_sales         16444 non-null  float64\n",
      " 6   jp_sales         16444 non-null  float64\n",
      " 7   other_sales      16444 non-null  float64\n",
      " 8   critic_score     7983 non-null   float64\n",
      " 9   user_score       7463 non-null   float64\n",
      " 10  rating           16444 non-null  object \n",
      "dtypes: float64(6), int64(1), object(4)\n",
      "memory usage: 1.5+ MB\n"
     ]
    },
    {
     "data": {
      "text/plain": [
       "        6676\n",
       "E       3924\n",
       "T       2905\n",
       "M       1537\n",
       "E10+    1393\n",
       "EC         8\n",
       "           1\n",
       "Name: rating, dtype: int64"
      ]
     },
     "execution_count": 15,
     "metadata": {},
     "output_type": "execute_result"
    }
   ],
   "source": [
    "game.info()\n",
    "game['rating'].value_counts()\n"
   ]
  },
  {
   "cell_type": "markdown",
   "metadata": {},
   "source": [
    "Вывод:\n",
    "Таким образом, в столбце rating убрали задвоение информации, а также заменили пропуски на отсутствие значения, так как скорее всего данные просто не были представлены издателями игр.\n"
   ]
  },
  {
   "cell_type": "code",
   "execution_count": 16,
   "metadata": {},
   "outputs": [
    {
     "data": {
      "text/html": [
       "<div>\n",
       "<style scoped>\n",
       "    .dataframe tbody tr th:only-of-type {\n",
       "        vertical-align: middle;\n",
       "    }\n",
       "\n",
       "    .dataframe tbody tr th {\n",
       "        vertical-align: top;\n",
       "    }\n",
       "\n",
       "    .dataframe thead th {\n",
       "        text-align: right;\n",
       "    }\n",
       "</style>\n",
       "<table border=\"1\" class=\"dataframe\">\n",
       "  <thead>\n",
       "    <tr style=\"text-align: right;\">\n",
       "      <th></th>\n",
       "      <th>name</th>\n",
       "      <th>platform</th>\n",
       "      <th>year_of_release</th>\n",
       "      <th>genre</th>\n",
       "      <th>na_sales</th>\n",
       "      <th>eu_sales</th>\n",
       "      <th>jp_sales</th>\n",
       "      <th>other_sales</th>\n",
       "      <th>critic_score</th>\n",
       "      <th>user_score</th>\n",
       "      <th>rating</th>\n",
       "      <th>world_sales</th>\n",
       "    </tr>\n",
       "  </thead>\n",
       "  <tbody>\n",
       "    <tr>\n",
       "      <th>0</th>\n",
       "      <td>Wii Sports</td>\n",
       "      <td>Wii</td>\n",
       "      <td>2006</td>\n",
       "      <td>Sports</td>\n",
       "      <td>41.36</td>\n",
       "      <td>28.96</td>\n",
       "      <td>3.77</td>\n",
       "      <td>8.45</td>\n",
       "      <td>76.0</td>\n",
       "      <td>8.0</td>\n",
       "      <td>E</td>\n",
       "      <td>82.54</td>\n",
       "    </tr>\n",
       "    <tr>\n",
       "      <th>1</th>\n",
       "      <td>Super Mario Bros.</td>\n",
       "      <td>NES</td>\n",
       "      <td>1985</td>\n",
       "      <td>Platform</td>\n",
       "      <td>29.08</td>\n",
       "      <td>3.58</td>\n",
       "      <td>6.81</td>\n",
       "      <td>0.77</td>\n",
       "      <td>NaN</td>\n",
       "      <td>NaN</td>\n",
       "      <td></td>\n",
       "      <td>40.24</td>\n",
       "    </tr>\n",
       "    <tr>\n",
       "      <th>2</th>\n",
       "      <td>Mario Kart Wii</td>\n",
       "      <td>Wii</td>\n",
       "      <td>2008</td>\n",
       "      <td>Racing</td>\n",
       "      <td>15.68</td>\n",
       "      <td>12.76</td>\n",
       "      <td>3.79</td>\n",
       "      <td>3.29</td>\n",
       "      <td>82.0</td>\n",
       "      <td>8.3</td>\n",
       "      <td>E</td>\n",
       "      <td>35.52</td>\n",
       "    </tr>\n",
       "    <tr>\n",
       "      <th>3</th>\n",
       "      <td>Wii Sports Resort</td>\n",
       "      <td>Wii</td>\n",
       "      <td>2009</td>\n",
       "      <td>Sports</td>\n",
       "      <td>15.61</td>\n",
       "      <td>10.93</td>\n",
       "      <td>3.28</td>\n",
       "      <td>2.95</td>\n",
       "      <td>80.0</td>\n",
       "      <td>8.0</td>\n",
       "      <td>E</td>\n",
       "      <td>32.77</td>\n",
       "    </tr>\n",
       "    <tr>\n",
       "      <th>4</th>\n",
       "      <td>Pokemon Red/Pokemon Blue</td>\n",
       "      <td>GB</td>\n",
       "      <td>1996</td>\n",
       "      <td>Role-Playing</td>\n",
       "      <td>11.27</td>\n",
       "      <td>8.89</td>\n",
       "      <td>10.22</td>\n",
       "      <td>1.00</td>\n",
       "      <td>NaN</td>\n",
       "      <td>NaN</td>\n",
       "      <td></td>\n",
       "      <td>31.38</td>\n",
       "    </tr>\n",
       "  </tbody>\n",
       "</table>\n",
       "</div>"
      ],
      "text/plain": [
       "                       name platform  year_of_release         genre  na_sales  \\\n",
       "0                Wii Sports      Wii             2006        Sports     41.36   \n",
       "1         Super Mario Bros.      NES             1985      Platform     29.08   \n",
       "2            Mario Kart Wii      Wii             2008        Racing     15.68   \n",
       "3         Wii Sports Resort      Wii             2009        Sports     15.61   \n",
       "4  Pokemon Red/Pokemon Blue       GB             1996  Role-Playing     11.27   \n",
       "\n",
       "   eu_sales  jp_sales  other_sales  critic_score  user_score rating  \\\n",
       "0     28.96      3.77         8.45          76.0         8.0      E   \n",
       "1      3.58      6.81         0.77           NaN         NaN          \n",
       "2     12.76      3.79         3.29          82.0         8.3      E   \n",
       "3     10.93      3.28         2.95          80.0         8.0      E   \n",
       "4      8.89     10.22         1.00           NaN         NaN          \n",
       "\n",
       "   world_sales  \n",
       "0        82.54  \n",
       "1        40.24  \n",
       "2        35.52  \n",
       "3        32.77  \n",
       "4        31.38  "
      ]
     },
     "metadata": {},
     "output_type": "display_data"
    }
   ],
   "source": [
    "game['world_sales'] = game.loc[:, 'na_sales': 'other_sales'].sum(axis = 1)\n",
    "display(game.head()) #проверили добавление столбца world_sales"
   ]
  },
  {
   "cell_type": "markdown",
   "metadata": {},
   "source": [
    "# 3. Исследовательский анализ данных\n"
   ]
  },
  {
   "cell_type": "code",
   "execution_count": 17,
   "metadata": {},
   "outputs": [
    {
     "data": {
      "text/html": [
       "<div>\n",
       "<style scoped>\n",
       "    .dataframe tbody tr th:only-of-type {\n",
       "        vertical-align: middle;\n",
       "    }\n",
       "\n",
       "    .dataframe tbody tr th {\n",
       "        vertical-align: top;\n",
       "    }\n",
       "\n",
       "    .dataframe thead th {\n",
       "        text-align: right;\n",
       "    }\n",
       "</style>\n",
       "<table border=\"1\" class=\"dataframe\">\n",
       "  <thead>\n",
       "    <tr style=\"text-align: right;\">\n",
       "      <th></th>\n",
       "      <th>game_count</th>\n",
       "    </tr>\n",
       "    <tr>\n",
       "      <th>year_of_release</th>\n",
       "      <th></th>\n",
       "    </tr>\n",
       "  </thead>\n",
       "  <tbody>\n",
       "    <tr>\n",
       "      <th>1980</th>\n",
       "      <td>9</td>\n",
       "    </tr>\n",
       "    <tr>\n",
       "      <th>1981</th>\n",
       "      <td>46</td>\n",
       "    </tr>\n",
       "    <tr>\n",
       "      <th>1982</th>\n",
       "      <td>36</td>\n",
       "    </tr>\n",
       "    <tr>\n",
       "      <th>1983</th>\n",
       "      <td>17</td>\n",
       "    </tr>\n",
       "    <tr>\n",
       "      <th>1984</th>\n",
       "      <td>14</td>\n",
       "    </tr>\n",
       "    <tr>\n",
       "      <th>1985</th>\n",
       "      <td>14</td>\n",
       "    </tr>\n",
       "    <tr>\n",
       "      <th>1986</th>\n",
       "      <td>21</td>\n",
       "    </tr>\n",
       "    <tr>\n",
       "      <th>1987</th>\n",
       "      <td>16</td>\n",
       "    </tr>\n",
       "    <tr>\n",
       "      <th>1988</th>\n",
       "      <td>15</td>\n",
       "    </tr>\n",
       "    <tr>\n",
       "      <th>1989</th>\n",
       "      <td>17</td>\n",
       "    </tr>\n",
       "    <tr>\n",
       "      <th>1990</th>\n",
       "      <td>16</td>\n",
       "    </tr>\n",
       "    <tr>\n",
       "      <th>1991</th>\n",
       "      <td>41</td>\n",
       "    </tr>\n",
       "    <tr>\n",
       "      <th>1992</th>\n",
       "      <td>43</td>\n",
       "    </tr>\n",
       "    <tr>\n",
       "      <th>1993</th>\n",
       "      <td>60</td>\n",
       "    </tr>\n",
       "    <tr>\n",
       "      <th>1994</th>\n",
       "      <td>121</td>\n",
       "    </tr>\n",
       "    <tr>\n",
       "      <th>1995</th>\n",
       "      <td>219</td>\n",
       "    </tr>\n",
       "    <tr>\n",
       "      <th>1996</th>\n",
       "      <td>263</td>\n",
       "    </tr>\n",
       "    <tr>\n",
       "      <th>1997</th>\n",
       "      <td>289</td>\n",
       "    </tr>\n",
       "    <tr>\n",
       "      <th>1998</th>\n",
       "      <td>379</td>\n",
       "    </tr>\n",
       "    <tr>\n",
       "      <th>1999</th>\n",
       "      <td>338</td>\n",
       "    </tr>\n",
       "    <tr>\n",
       "      <th>2000</th>\n",
       "      <td>350</td>\n",
       "    </tr>\n",
       "    <tr>\n",
       "      <th>2001</th>\n",
       "      <td>482</td>\n",
       "    </tr>\n",
       "    <tr>\n",
       "      <th>2002</th>\n",
       "      <td>829</td>\n",
       "    </tr>\n",
       "    <tr>\n",
       "      <th>2003</th>\n",
       "      <td>775</td>\n",
       "    </tr>\n",
       "    <tr>\n",
       "      <th>2004</th>\n",
       "      <td>762</td>\n",
       "    </tr>\n",
       "    <tr>\n",
       "      <th>2005</th>\n",
       "      <td>939</td>\n",
       "    </tr>\n",
       "    <tr>\n",
       "      <th>2006</th>\n",
       "      <td>1006</td>\n",
       "    </tr>\n",
       "    <tr>\n",
       "      <th>2007</th>\n",
       "      <td>1197</td>\n",
       "    </tr>\n",
       "    <tr>\n",
       "      <th>2008</th>\n",
       "      <td>1427</td>\n",
       "    </tr>\n",
       "    <tr>\n",
       "      <th>2009</th>\n",
       "      <td>1426</td>\n",
       "    </tr>\n",
       "    <tr>\n",
       "      <th>2010</th>\n",
       "      <td>1255</td>\n",
       "    </tr>\n",
       "    <tr>\n",
       "      <th>2011</th>\n",
       "      <td>1136</td>\n",
       "    </tr>\n",
       "    <tr>\n",
       "      <th>2012</th>\n",
       "      <td>653</td>\n",
       "    </tr>\n",
       "    <tr>\n",
       "      <th>2013</th>\n",
       "      <td>544</td>\n",
       "    </tr>\n",
       "    <tr>\n",
       "      <th>2014</th>\n",
       "      <td>581</td>\n",
       "    </tr>\n",
       "    <tr>\n",
       "      <th>2015</th>\n",
       "      <td>606</td>\n",
       "    </tr>\n",
       "    <tr>\n",
       "      <th>2016</th>\n",
       "      <td>502</td>\n",
       "    </tr>\n",
       "  </tbody>\n",
       "</table>\n",
       "</div>"
      ],
      "text/plain": [
       "                 game_count\n",
       "year_of_release            \n",
       "1980                      9\n",
       "1981                     46\n",
       "1982                     36\n",
       "1983                     17\n",
       "1984                     14\n",
       "1985                     14\n",
       "1986                     21\n",
       "1987                     16\n",
       "1988                     15\n",
       "1989                     17\n",
       "1990                     16\n",
       "1991                     41\n",
       "1992                     43\n",
       "1993                     60\n",
       "1994                    121\n",
       "1995                    219\n",
       "1996                    263\n",
       "1997                    289\n",
       "1998                    379\n",
       "1999                    338\n",
       "2000                    350\n",
       "2001                    482\n",
       "2002                    829\n",
       "2003                    775\n",
       "2004                    762\n",
       "2005                    939\n",
       "2006                   1006\n",
       "2007                   1197\n",
       "2008                   1427\n",
       "2009                   1426\n",
       "2010                   1255\n",
       "2011                   1136\n",
       "2012                    653\n",
       "2013                    544\n",
       "2014                    581\n",
       "2015                    606\n",
       "2016                    502"
      ]
     },
     "metadata": {},
     "output_type": "display_data"
    },
    {
     "data": {
      "image/png": "[encoded data removed]",
      "text/plain": [
       "<Figure size 432x288 with 1 Axes>"
      ]
     },
     "metadata": {
      "needs_background": "light"
     },
     "output_type": "display_data"
    },
    {
     "data": {
      "image/png": "[encoded data removed]",
      "text/plain": [
       "<Figure size 432x288 with 1 Axes>"
      ]
     },
     "metadata": {
      "needs_background": "light"
     },
     "output_type": "display_data"
    }
   ],
   "source": [
    "#посмотрим сколько игр выпускалось в разыне годы.\n",
    "game['year_of_release'].value_counts() #самый популярный год для выпуска игр - 2008 и 2009. Посмотрим как игры продавались по годам \n",
    "\n",
    "game_year_pivot_table = pd.pivot_table(game, index='year_of_release', values='name', aggfunc='count') # выведим сводную таблицу на сновании которйо построим график\n",
    "game_year_pivot_table.columns = ['game_count']\n",
    "display(game_year_pivot_table)\n",
    "#построим график для наглядности\n",
    "game_year_pivot_table.plot(title = 'Динамика выпуска игр по годам', xlabel = 'year_of_release', ylabel = 'game_count', grid = True)\n",
    "game_sales_pivot_table = pd.pivot_table(game, index = 'year_of_release', values = 'world_sales', aggfunc = 'sum').plot(title = 'Динамика продаж', xlabel = 'год', ylabel = 'продажи', grid = True) #динамика продаж по годам"
   ]
  },
  {
   "cell_type": "markdown",
   "metadata": {},
   "source": [
    "Вывод: по графику видно, что в период с 1980 до начала 2000-х выпускалось очень мало игр, все-таки это тесяно связано с научно-техническим прогрессом в области компьютерной техники, поэтому уровень продаж в этот период не существенный, игроков мало, оценки малочислены. Технологичсекий скачок в 2000-х годах стал драйвером для популиризации компьютерных игр, к 2008 года выпуск достиг максимального значения. После 2008 года наблюдается резкий спад по количеству выпущенных игр, возможно это связано с усложнением самого продутка, что начало требовать большего количества лет на разработки, так же след. технологический скачок привел к появлению других устройств более компактных, чем копьютеры, что также повлияло на количество выпусков и соответсвенро количество продаж игр. График динамики продаж повторяет тренд графика выпуска компьютерных игр.\n",
    "Таким образом, считаю, что данные за период до 2000 года неважен, так как выборка по компьютерным играм в тот период была небольшая ,успешность игр за этот период оценить сложно."
   ]
  },
  {
   "cell_type": "code",
   "execution_count": 18,
   "metadata": {},
   "outputs": [
    {
     "data": {
      "text/html": [
       "<div>\n",
       "<style scoped>\n",
       "    .dataframe tbody tr th:only-of-type {\n",
       "        vertical-align: middle;\n",
       "    }\n",
       "\n",
       "    .dataframe tbody tr th {\n",
       "        vertical-align: top;\n",
       "    }\n",
       "\n",
       "    .dataframe thead th {\n",
       "        text-align: right;\n",
       "    }\n",
       "</style>\n",
       "<table border=\"1\" class=\"dataframe\">\n",
       "  <thead>\n",
       "    <tr style=\"text-align: right;\">\n",
       "      <th></th>\n",
       "      <th>world_sales</th>\n",
       "    </tr>\n",
       "    <tr>\n",
       "      <th>platform</th>\n",
       "      <th></th>\n",
       "    </tr>\n",
       "  </thead>\n",
       "  <tbody>\n",
       "    <tr>\n",
       "      <th>PS2</th>\n",
       "      <td>1233.56</td>\n",
       "    </tr>\n",
       "    <tr>\n",
       "      <th>X360</th>\n",
       "      <td>961.24</td>\n",
       "    </tr>\n",
       "    <tr>\n",
       "      <th>PS3</th>\n",
       "      <td>931.34</td>\n",
       "    </tr>\n",
       "    <tr>\n",
       "      <th>Wii</th>\n",
       "      <td>891.18</td>\n",
       "    </tr>\n",
       "    <tr>\n",
       "      <th>DS</th>\n",
       "      <td>802.78</td>\n",
       "    </tr>\n",
       "    <tr>\n",
       "      <th>PS</th>\n",
       "      <td>727.58</td>\n",
       "    </tr>\n",
       "    <tr>\n",
       "      <th>PS4</th>\n",
       "      <td>314.14</td>\n",
       "    </tr>\n",
       "    <tr>\n",
       "      <th>GBA</th>\n",
       "      <td>312.88</td>\n",
       "    </tr>\n",
       "    <tr>\n",
       "      <th>PSP</th>\n",
       "      <td>289.53</td>\n",
       "    </tr>\n",
       "    <tr>\n",
       "      <th>3DS</th>\n",
       "      <td>257.81</td>\n",
       "    </tr>\n",
       "  </tbody>\n",
       "</table>\n",
       "</div>"
      ],
      "text/plain": [
       "          world_sales\n",
       "platform             \n",
       "PS2           1233.56\n",
       "X360           961.24\n",
       "PS3            931.34\n",
       "Wii            891.18\n",
       "DS             802.78\n",
       "PS             727.58\n",
       "PS4            314.14\n",
       "GBA            312.88\n",
       "PSP            289.53\n",
       "3DS            257.81"
      ]
     },
     "metadata": {},
     "output_type": "display_data"
    },
    {
     "name": "stdout",
     "output_type": "stream",
     "text": [
      "                          world_sales\n",
      "platform year_of_release             \n",
      "DS       1985                    0.02\n",
      "         2004                   17.27\n",
      "         2005                  130.14\n",
      "         2006                  119.81\n",
      "         2007                  146.94\n",
      "...                               ...\n",
      "X360     2012                   99.74\n",
      "         2013                   88.58\n",
      "         2014                   34.74\n",
      "         2015                   11.96\n",
      "         2016                    1.52\n",
      "\n",
      "[67 rows x 1 columns]\n",
      "PS2\n"
     ]
    },
    {
     "data": {
      "image/png": "[encoded data removed]",
      "text/plain": [
       "<Figure size 432x288 with 1 Axes>"
      ]
     },
     "metadata": {
      "needs_background": "light"
     },
     "output_type": "display_data"
    },
    {
     "name": "stdout",
     "output_type": "stream",
     "text": [
      "X360\n"
     ]
    },
    {
     "data": {
      "image/png": "[encoded data removed]",
      "text/plain": [
       "<Figure size 432x288 with 1 Axes>"
      ]
     },
     "metadata": {
      "needs_background": "light"
     },
     "output_type": "display_data"
    },
    {
     "name": "stdout",
     "output_type": "stream",
     "text": [
      "PS3\n"
     ]
    },
    {
     "data": {
      "image/png": "[encoded data removed]",
      "text/plain": [
       "<Figure size 432x288 with 1 Axes>"
      ]
     },
     "metadata": {
      "needs_background": "light"
     },
     "output_type": "display_data"
    },
    {
     "name": "stdout",
     "output_type": "stream",
     "text": [
      "Wii\n"
     ]
    },
    {
     "data": {
      "image/png": "[encoded data removed]",
      "text/plain": [
       "<Figure size 432x288 with 1 Axes>"
      ]
     },
     "metadata": {
      "needs_background": "light"
     },
     "output_type": "display_data"
    },
    {
     "name": "stdout",
     "output_type": "stream",
     "text": [
      "DS\n"
     ]
    },
    {
     "data": {
      "image/png": "[encoded data removed]",
      "text/plain": [
       "<Figure size 432x288 with 1 Axes>"
      ]
     },
     "metadata": {
      "needs_background": "light"
     },
     "output_type": "display_data"
    },
    {
     "name": "stdout",
     "output_type": "stream",
     "text": [
      "PS\n"
     ]
    },
    {
     "data": {
      "image/png": "[encoded data removed]",
      "text/plain": [
       "<Figure size 432x288 with 1 Axes>"
      ]
     },
     "metadata": {
      "needs_background": "light"
     },
     "output_type": "display_data"
    }
   ],
   "source": [
    "#найдем динамику продаж по платформам\n",
    "\n",
    "game_platform_pivot_table = pd.pivot_table(game, index = 'platform', values = 'world_sales', aggfunc = 'sum').sort_values('world_sales', ascending = False)\n",
    "display(game_platform_pivot_table.head(10)) # выберем платформы в которых самые высокие продажи\n",
    "#посмотрим распределение по годам для кадой платформы\n",
    "game_platform_sales_pivot_table = pd.pivot_table(game.query('platform in [\"PS2\",\"X360\",\"PS3\",\"Wii\",\"DS\",\"PS\"]') ,index=['platform','year_of_release'], values='world_sales', aggfunc='sum')\n",
    "print(game_platform_sales_pivot_table)\n",
    "#напишем цикл для построения графика распределения продаж по годам в рамках каждой платформы из 6 самых популярных по продажам\n",
    "for element in game_platform_pivot_table.index[:6]:\n",
    "    print(element)\n",
    "    game.query('platform == @element').pivot_table(index='year_of_release', values='world_sales', aggfunc='sum').plot(kind='bar')\n",
    "    \n",
    "    plt.show()\n",
    "    "
   ]
  },
  {
   "cell_type": "markdown",
   "metadata": {},
   "source": [
    "Вывод: среди всех платформ выделяются первые 6 платформ с наибольшим объемом продаж. Самые большие продажи были отмечены на платформе PS2.\n",
    "    По графикам распределения продаж также видно, что платформы примерно в течение первых 4-5 лет наращивают объемы продаж, достигнув пика, продажи резко падают вниз. Так к примеру, самая популярная платформа PS2 наращивала продажи с 2001 по 2004 год, а к 2011 году продажи упали практически 0.То есть за 7 лет платформа исчезла.Поэтоиу для самым популярных платформ из списка срок существования 8-12 лет (можно посмотреть смену платформ по популярной платворме PS). На примере платформы PS можно сказать, что она просуществовала с 1994 по 2003 год - 9 лет, новая платформа PS2 появилась спустя 7 лет. Получается, что при появлении игра может 2-3 года существовать на сторой платформе. Все платформы, обладающие максимальными продажами либо перестали существовать, либо заканчивают свое существование (платформа PS3)."
   ]
  },
  {
   "cell_type": "markdown",
   "metadata": {},
   "source": [
    "Для выбора актуального периода исследования стоит ориентоваться на самую популярную платформу PS. Посмотрим, данные по платформе PS4"
   ]
  },
  {
   "cell_type": "code",
   "execution_count": 19,
   "metadata": {},
   "outputs": [
    {
     "name": "stdout",
     "output_type": "stream",
     "text": [
      "                          world_sales\n",
      "platform year_of_release             \n",
      "PS4      2013                   25.99\n",
      "         2014                  100.00\n",
      "         2015                  118.90\n",
      "         2016                   69.25\n"
     ]
    }
   ],
   "source": [
    "game_platform_sales_pivot_table = pd.pivot_table(game.query('platform == \"PS4\"') ,index=['platform','year_of_release'], values='world_sales', aggfunc='sum')\n",
    "print(game_platform_sales_pivot_table)"
   ]
  },
  {
   "cell_type": "markdown",
   "metadata": {},
   "source": [
    "По данным самой популярной платформы, видно, что следующая платформа PS4 была запущена в 2013 году за три года до исчезнования платформы PS3. На текущий момент платформа PS4 существует уже 4 года, по анализу популрных платформ ранее мы видели, что пик продаж приходится на 5-6 год от начала заупска. Возможно 2017 год может стать пиковым по продажам, так же учитывая тот факт, что плптформа PS3 закончит свое действие , будет только PS4, а игры , которые начали разрабатываться в 2013 году скорее всего в 2017 году будут выпущены. Также не стоит расмматривать тот период в котором развиваются текущие платформы, самые успешные платформы по уровню продаж за весь период, на текущий момент перестали существовать.\n",
    "Исходя с данных соображений считаю целесообразным ориентироваться на актуальный период для прогнозирования с 2013 по 2016 год вкл."
   ]
  },
  {
   "cell_type": "code",
   "execution_count": 20,
   "metadata": {},
   "outputs": [
    {
     "data": {
      "text/html": [
       "<div>\n",
       "<style scoped>\n",
       "    .dataframe tbody tr th:only-of-type {\n",
       "        vertical-align: middle;\n",
       "    }\n",
       "\n",
       "    .dataframe tbody tr th {\n",
       "        vertical-align: top;\n",
       "    }\n",
       "\n",
       "    .dataframe thead th {\n",
       "        text-align: right;\n",
       "    }\n",
       "</style>\n",
       "<table border=\"1\" class=\"dataframe\">\n",
       "  <thead>\n",
       "    <tr style=\"text-align: right;\">\n",
       "      <th></th>\n",
       "      <th>name</th>\n",
       "      <th>platform</th>\n",
       "      <th>year_of_release</th>\n",
       "      <th>genre</th>\n",
       "      <th>na_sales</th>\n",
       "      <th>eu_sales</th>\n",
       "      <th>jp_sales</th>\n",
       "      <th>other_sales</th>\n",
       "      <th>critic_score</th>\n",
       "      <th>user_score</th>\n",
       "      <th>rating</th>\n",
       "      <th>world_sales</th>\n",
       "    </tr>\n",
       "  </thead>\n",
       "  <tbody>\n",
       "    <tr>\n",
       "      <th>16</th>\n",
       "      <td>Grand Theft Auto V</td>\n",
       "      <td>PS3</td>\n",
       "      <td>2013</td>\n",
       "      <td>Action</td>\n",
       "      <td>7.02</td>\n",
       "      <td>9.09</td>\n",
       "      <td>0.98</td>\n",
       "      <td>3.96</td>\n",
       "      <td>97.0</td>\n",
       "      <td>8.2</td>\n",
       "      <td>M</td>\n",
       "      <td>21.05</td>\n",
       "    </tr>\n",
       "    <tr>\n",
       "      <th>23</th>\n",
       "      <td>Grand Theft Auto V</td>\n",
       "      <td>X360</td>\n",
       "      <td>2013</td>\n",
       "      <td>Action</td>\n",
       "      <td>9.66</td>\n",
       "      <td>5.14</td>\n",
       "      <td>0.06</td>\n",
       "      <td>1.41</td>\n",
       "      <td>97.0</td>\n",
       "      <td>8.1</td>\n",
       "      <td>M</td>\n",
       "      <td>16.27</td>\n",
       "    </tr>\n",
       "    <tr>\n",
       "      <th>31</th>\n",
       "      <td>Call of Duty: Black Ops 3</td>\n",
       "      <td>PS4</td>\n",
       "      <td>2015</td>\n",
       "      <td>Shooter</td>\n",
       "      <td>6.03</td>\n",
       "      <td>5.86</td>\n",
       "      <td>0.36</td>\n",
       "      <td>2.38</td>\n",
       "      <td>NaN</td>\n",
       "      <td>NaN</td>\n",
       "      <td></td>\n",
       "      <td>14.63</td>\n",
       "    </tr>\n",
       "    <tr>\n",
       "      <th>33</th>\n",
       "      <td>Pokemon X/Pokemon Y</td>\n",
       "      <td>3DS</td>\n",
       "      <td>2013</td>\n",
       "      <td>Role-Playing</td>\n",
       "      <td>5.28</td>\n",
       "      <td>4.19</td>\n",
       "      <td>4.35</td>\n",
       "      <td>0.78</td>\n",
       "      <td>NaN</td>\n",
       "      <td>NaN</td>\n",
       "      <td></td>\n",
       "      <td>14.60</td>\n",
       "    </tr>\n",
       "    <tr>\n",
       "      <th>42</th>\n",
       "      <td>Grand Theft Auto V</td>\n",
       "      <td>PS4</td>\n",
       "      <td>2014</td>\n",
       "      <td>Action</td>\n",
       "      <td>3.96</td>\n",
       "      <td>6.31</td>\n",
       "      <td>0.38</td>\n",
       "      <td>1.97</td>\n",
       "      <td>97.0</td>\n",
       "      <td>8.3</td>\n",
       "      <td>M</td>\n",
       "      <td>12.62</td>\n",
       "    </tr>\n",
       "    <tr>\n",
       "      <th>...</th>\n",
       "      <td>...</td>\n",
       "      <td>...</td>\n",
       "      <td>...</td>\n",
       "      <td>...</td>\n",
       "      <td>...</td>\n",
       "      <td>...</td>\n",
       "      <td>...</td>\n",
       "      <td>...</td>\n",
       "      <td>...</td>\n",
       "      <td>...</td>\n",
       "      <td>...</td>\n",
       "      <td>...</td>\n",
       "    </tr>\n",
       "    <tr>\n",
       "      <th>16703</th>\n",
       "      <td>Strawberry Nauts</td>\n",
       "      <td>PSV</td>\n",
       "      <td>2016</td>\n",
       "      <td>Adventure</td>\n",
       "      <td>0.00</td>\n",
       "      <td>0.00</td>\n",
       "      <td>0.01</td>\n",
       "      <td>0.00</td>\n",
       "      <td>NaN</td>\n",
       "      <td>NaN</td>\n",
       "      <td></td>\n",
       "      <td>0.01</td>\n",
       "    </tr>\n",
       "    <tr>\n",
       "      <th>16707</th>\n",
       "      <td>Aiyoku no Eustia</td>\n",
       "      <td>PSV</td>\n",
       "      <td>2014</td>\n",
       "      <td>Misc</td>\n",
       "      <td>0.00</td>\n",
       "      <td>0.00</td>\n",
       "      <td>0.01</td>\n",
       "      <td>0.00</td>\n",
       "      <td>NaN</td>\n",
       "      <td>NaN</td>\n",
       "      <td></td>\n",
       "      <td>0.01</td>\n",
       "    </tr>\n",
       "    <tr>\n",
       "      <th>16710</th>\n",
       "      <td>Samurai Warriors: Sanada Maru</td>\n",
       "      <td>PS3</td>\n",
       "      <td>2016</td>\n",
       "      <td>Action</td>\n",
       "      <td>0.00</td>\n",
       "      <td>0.00</td>\n",
       "      <td>0.01</td>\n",
       "      <td>0.00</td>\n",
       "      <td>NaN</td>\n",
       "      <td>NaN</td>\n",
       "      <td></td>\n",
       "      <td>0.01</td>\n",
       "    </tr>\n",
       "    <tr>\n",
       "      <th>16712</th>\n",
       "      <td>Haitaka no Psychedelica</td>\n",
       "      <td>PSV</td>\n",
       "      <td>2016</td>\n",
       "      <td>Adventure</td>\n",
       "      <td>0.00</td>\n",
       "      <td>0.00</td>\n",
       "      <td>0.01</td>\n",
       "      <td>0.00</td>\n",
       "      <td>NaN</td>\n",
       "      <td>NaN</td>\n",
       "      <td></td>\n",
       "      <td>0.01</td>\n",
       "    </tr>\n",
       "    <tr>\n",
       "      <th>16714</th>\n",
       "      <td>Winning Post 8 2016</td>\n",
       "      <td>PSV</td>\n",
       "      <td>2016</td>\n",
       "      <td>Simulation</td>\n",
       "      <td>0.00</td>\n",
       "      <td>0.00</td>\n",
       "      <td>0.01</td>\n",
       "      <td>0.00</td>\n",
       "      <td>NaN</td>\n",
       "      <td>NaN</td>\n",
       "      <td></td>\n",
       "      <td>0.01</td>\n",
       "    </tr>\n",
       "  </tbody>\n",
       "</table>\n",
       "<p>2233 rows × 12 columns</p>\n",
       "</div>"
      ],
      "text/plain": [
       "                                name platform  year_of_release         genre  \\\n",
       "16                Grand Theft Auto V      PS3             2013        Action   \n",
       "23                Grand Theft Auto V     X360             2013        Action   \n",
       "31         Call of Duty: Black Ops 3      PS4             2015       Shooter   \n",
       "33               Pokemon X/Pokemon Y      3DS             2013  Role-Playing   \n",
       "42                Grand Theft Auto V      PS4             2014        Action   \n",
       "...                              ...      ...              ...           ...   \n",
       "16703               Strawberry Nauts      PSV             2016     Adventure   \n",
       "16707               Aiyoku no Eustia      PSV             2014          Misc   \n",
       "16710  Samurai Warriors: Sanada Maru      PS3             2016        Action   \n",
       "16712        Haitaka no Psychedelica      PSV             2016     Adventure   \n",
       "16714            Winning Post 8 2016      PSV             2016    Simulation   \n",
       "\n",
       "       na_sales  eu_sales  jp_sales  other_sales  critic_score  user_score  \\\n",
       "16         7.02      9.09      0.98         3.96          97.0         8.2   \n",
       "23         9.66      5.14      0.06         1.41          97.0         8.1   \n",
       "31         6.03      5.86      0.36         2.38           NaN         NaN   \n",
       "33         5.28      4.19      4.35         0.78           NaN         NaN   \n",
       "42         3.96      6.31      0.38         1.97          97.0         8.3   \n",
       "...         ...       ...       ...          ...           ...         ...   \n",
       "16703      0.00      0.00      0.01         0.00           NaN         NaN   \n",
       "16707      0.00      0.00      0.01         0.00           NaN         NaN   \n",
       "16710      0.00      0.00      0.01         0.00           NaN         NaN   \n",
       "16712      0.00      0.00      0.01         0.00           NaN         NaN   \n",
       "16714      0.00      0.00      0.01         0.00           NaN         NaN   \n",
       "\n",
       "      rating  world_sales  \n",
       "16         M        21.05  \n",
       "23         M        16.27  \n",
       "31                  14.63  \n",
       "33                  14.60  \n",
       "42         M        12.62  \n",
       "...      ...          ...  \n",
       "16703                0.01  \n",
       "16707                0.01  \n",
       "16710                0.01  \n",
       "16712                0.01  \n",
       "16714                0.01  \n",
       "\n",
       "[2233 rows x 12 columns]"
      ]
     },
     "metadata": {},
     "output_type": "display_data"
    },
    {
     "name": "stdout",
     "output_type": "stream",
     "text": [
      "<class 'pandas.core.frame.DataFrame'>\n",
      "Int64Index: 2233 entries, 16 to 16714\n",
      "Data columns (total 12 columns):\n",
      " #   Column           Non-Null Count  Dtype  \n",
      "---  ------           --------------  -----  \n",
      " 0   name             2233 non-null   object \n",
      " 1   platform         2233 non-null   object \n",
      " 2   year_of_release  2233 non-null   int64  \n",
      " 3   genre            2233 non-null   object \n",
      " 4   na_sales         2233 non-null   float64\n",
      " 5   eu_sales         2233 non-null   float64\n",
      " 6   jp_sales         2233 non-null   float64\n",
      " 7   other_sales      2233 non-null   float64\n",
      " 8   critic_score     991 non-null    float64\n",
      " 9   user_score       1192 non-null   float64\n",
      " 10  rating           2233 non-null   object \n",
      " 11  world_sales      2233 non-null   float64\n",
      "dtypes: float64(7), int64(1), object(4)\n",
      "memory usage: 226.8+ KB\n"
     ]
    }
   ],
   "source": [
    "#Выведем на экран данные по фрему за период с 2013-2016 год.\n",
    "actual_game = game.query('year_of_release > 2012')\n",
    "display(actual_game)\n",
    "actual_game.info()"
   ]
  },
  {
   "cell_type": "code",
   "execution_count": 21,
   "metadata": {},
   "outputs": [
    {
     "data": {
      "text/html": [
       "<div>\n",
       "<style scoped>\n",
       "    .dataframe tbody tr th:only-of-type {\n",
       "        vertical-align: middle;\n",
       "    }\n",
       "\n",
       "    .dataframe tbody tr th {\n",
       "        vertical-align: top;\n",
       "    }\n",
       "\n",
       "    .dataframe thead th {\n",
       "        text-align: right;\n",
       "    }\n",
       "</style>\n",
       "<table border=\"1\" class=\"dataframe\">\n",
       "  <thead>\n",
       "    <tr style=\"text-align: right;\">\n",
       "      <th></th>\n",
       "      <th>world_sales</th>\n",
       "    </tr>\n",
       "    <tr>\n",
       "      <th>platform</th>\n",
       "      <th></th>\n",
       "    </tr>\n",
       "  </thead>\n",
       "  <tbody>\n",
       "    <tr>\n",
       "      <th>PS4</th>\n",
       "      <td>314.14</td>\n",
       "    </tr>\n",
       "    <tr>\n",
       "      <th>PS3</th>\n",
       "      <td>181.43</td>\n",
       "    </tr>\n",
       "    <tr>\n",
       "      <th>XOne</th>\n",
       "      <td>159.32</td>\n",
       "    </tr>\n",
       "    <tr>\n",
       "      <th>3DS</th>\n",
       "      <td>143.25</td>\n",
       "    </tr>\n",
       "    <tr>\n",
       "      <th>X360</th>\n",
       "      <td>136.80</td>\n",
       "    </tr>\n",
       "    <tr>\n",
       "      <th>WiiU</th>\n",
       "      <td>64.63</td>\n",
       "    </tr>\n",
       "    <tr>\n",
       "      <th>PC</th>\n",
       "      <td>39.43</td>\n",
       "    </tr>\n",
       "    <tr>\n",
       "      <th>PSV</th>\n",
       "      <td>32.99</td>\n",
       "    </tr>\n",
       "    <tr>\n",
       "      <th>Wii</th>\n",
       "      <td>13.66</td>\n",
       "    </tr>\n",
       "    <tr>\n",
       "      <th>PSP</th>\n",
       "      <td>3.50</td>\n",
       "    </tr>\n",
       "    <tr>\n",
       "      <th>DS</th>\n",
       "      <td>1.54</td>\n",
       "    </tr>\n",
       "  </tbody>\n",
       "</table>\n",
       "</div>"
      ],
      "text/plain": [
       "          world_sales\n",
       "platform             \n",
       "PS4            314.14\n",
       "PS3            181.43\n",
       "XOne           159.32\n",
       "3DS            143.25\n",
       "X360           136.80\n",
       "WiiU            64.63\n",
       "PC              39.43\n",
       "PSV             32.99\n",
       "Wii             13.66\n",
       "PSP              3.50\n",
       "DS               1.54"
      ]
     },
     "metadata": {},
     "output_type": "display_data"
    },
    {
     "name": "stdout",
     "output_type": "stream",
     "text": [
      "PS4\n"
     ]
    },
    {
     "data": {
      "image/png": "[encoded data removed]",
      "text/plain": [
       "<Figure size 432x288 with 1 Axes>"
      ]
     },
     "metadata": {
      "needs_background": "light"
     },
     "output_type": "display_data"
    },
    {
     "data": {
      "image/png": "[encoded data removed]",
      "text/plain": [
       "<Figure size 432x288 with 1 Axes>"
      ]
     },
     "metadata": {
      "needs_background": "light"
     },
     "output_type": "display_data"
    },
    {
     "name": "stdout",
     "output_type": "stream",
     "text": [
      "PS3\n"
     ]
    },
    {
     "data": {
      "image/png": "[encoded data removed]",
      "text/plain": [
       "<Figure size 432x288 with 1 Axes>"
      ]
     },
     "metadata": {
      "needs_background": "light"
     },
     "output_type": "display_data"
    },
    {
     "name": "stdout",
     "output_type": "stream",
     "text": [
      "XOne\n"
     ]
    },
    {
     "data": {
      "image/png": "[encoded data removed]",
      "text/plain": [
       "<Figure size 432x288 with 1 Axes>"
      ]
     },
     "metadata": {
      "needs_background": "light"
     },
     "output_type": "display_data"
    },
    {
     "name": "stdout",
     "output_type": "stream",
     "text": [
      "3DS\n"
     ]
    },
    {
     "data": {
      "image/png": "[encoded data removed]",
      "text/plain": [
       "<Figure size 432x288 with 1 Axes>"
      ]
     },
     "metadata": {
      "needs_background": "light"
     },
     "output_type": "display_data"
    },
    {
     "name": "stdout",
     "output_type": "stream",
     "text": [
      "X360\n"
     ]
    },
    {
     "data": {
      "image/png": "[encoded data removed]",
      "text/plain": [
       "<Figure size 432x288 with 1 Axes>"
      ]
     },
     "metadata": {
      "needs_background": "light"
     },
     "output_type": "display_data"
    },
    {
     "name": "stdout",
     "output_type": "stream",
     "text": [
      "WiiU\n"
     ]
    },
    {
     "data": {
      "image/png": "[encoded data removed]",
      "text/plain": [
       "<Figure size 432x288 with 1 Axes>"
      ]
     },
     "metadata": {
      "needs_background": "light"
     },
     "output_type": "display_data"
    }
   ],
   "source": [
    "actual_sales_pivot_table = pd.pivot_table(actual_game, index ='platform', values = 'world_sales', aggfunc = 'sum').sort_values('world_sales', ascending = False)\n",
    "display(actual_sales_pivot_table) # самые высокие продажи имеет платформа PS4, 5-ку лидирующих платформ с точки зрения продаж замыкает платформа -X360\n",
    "actual_sales_pivot_table.plot(kind ='bar') #наглядное представление.\n",
    "#посмотрим на динамику продаж по 5 самым популярным платформам в течение рассматриваемого периода. Используем цмкл\n",
    "\n",
    "for platform in actual_sales_pivot_table.index[:6]:\n",
    "    print(platform)\n",
    "    actual_game.query('platform == @platform').pivot_table(index='year_of_release', values='world_sales', aggfunc='sum').plot(kind='bar')\n",
    "    \n",
    "    plt.show()\n",
    "\n",
    "\n",
    "    "
   ]
  },
  {
   "cell_type": "markdown",
   "metadata": {},
   "source": [
    "Как видно из графиков, по лидирующей платформе PS4 с 2013 по 2015 гг. отмечен рост продаж, в 2016 - падение, такая же тенденция отмечена и у второй по объемам продаж платформы -XOne. Остальные платформы сильно отстают по продажам и показывают стабильно стагнирующую тенденцию за период с 2013 по 2016 г. Среди самых успешных платформ можно выделить: PS4, Xone, WiiU. По графикам видно, что в 2016 году несмотря на снижение продаж они еще находятся на хорошем уровне, что говорит о том, что в 2017 году платформы не исчезнут.\n"
   ]
  },
  {
   "cell_type": "code",
   "execution_count": 22,
   "metadata": {},
   "outputs": [
    {
     "data": {
      "text/plain": [
       "count    392.000000\n",
       "mean       0.801378\n",
       "std        1.609456\n",
       "min        0.010000\n",
       "25%        0.060000\n",
       "50%        0.200000\n",
       "75%        0.730000\n",
       "max       14.630000\n",
       "Name: world_sales, dtype: float64"
      ]
     },
     "execution_count": 22,
     "metadata": {},
     "output_type": "execute_result"
    },
    {
     "data": {
      "image/png": "[encoded data removed]",
      "text/plain": [
       "<Figure size 432x288 with 1 Axes>"
      ]
     },
     "metadata": {
      "needs_background": "light"
     },
     "output_type": "display_data"
    }
   ],
   "source": [
    "#постороим ящик с усами по трем самым перспективным платформам:PS4, Xone, WiiU, PS3\n",
    "ps4_actual_game = actual_game.query('platform ==\"PS4\"')\n",
    "ps4_actual_game.boxplot(column = 'world_sales')\n",
    "plt.ylim(-2, 3)\n",
    "\n",
    "\n",
    "ps4_actual_game['world_sales'].describe()"
   ]
  },
  {
   "cell_type": "code",
   "execution_count": 23,
   "metadata": {},
   "outputs": [
    {
     "data": {
      "text/plain": [
       "count    247.000000\n",
       "mean       0.645020\n",
       "std        1.036139\n",
       "min        0.010000\n",
       "25%        0.060000\n",
       "50%        0.220000\n",
       "75%        0.685000\n",
       "max        7.390000\n",
       "Name: world_sales, dtype: float64"
      ]
     },
     "execution_count": 23,
     "metadata": {},
     "output_type": "execute_result"
    },
    {
     "data": {
      "image/png": "[encoded data removed]",
      "text/plain": [
       "<Figure size 432x288 with 1 Axes>"
      ]
     },
     "metadata": {
      "needs_background": "light"
     },
     "output_type": "display_data"
    }
   ],
   "source": [
    "xone_actual_game = actual_game.query('platform ==\"XOne\"')\n",
    "xone_actual_game.boxplot(column = 'world_sales')\n",
    "plt.ylim(-2, 3)\n",
    "xone_actual_game['world_sales'].describe()"
   ]
  },
  {
   "cell_type": "code",
   "execution_count": 24,
   "metadata": {},
   "outputs": [
    {
     "data": {
      "text/plain": [
       "count    115.000000\n",
       "mean       0.562000\n",
       "std        1.038778\n",
       "min        0.010000\n",
       "25%        0.060000\n",
       "50%        0.200000\n",
       "75%        0.595000\n",
       "max        7.090000\n",
       "Name: world_sales, dtype: float64"
      ]
     },
     "execution_count": 24,
     "metadata": {},
     "output_type": "execute_result"
    },
    {
     "data": {
      "image/png": "[encoded data removed]",
      "text/plain": [
       "<Figure size 432x288 with 1 Axes>"
      ]
     },
     "metadata": {
      "needs_background": "light"
     },
     "output_type": "display_data"
    }
   ],
   "source": [
    "wii_actual_game = actual_game.query('platform ==\"WiiU\"')\n",
    "wii_actual_game.boxplot(column = 'world_sales')\n",
    "plt.ylim(-2, 3)\n",
    "wii_actual_game['world_sales'].describe()"
   ]
  },
  {
   "cell_type": "code",
   "execution_count": 25,
   "metadata": {},
   "outputs": [
    {
     "data": {
      "text/plain": [
       "count    345.000000\n",
       "mean       0.525884\n",
       "std        1.451939\n",
       "min        0.010000\n",
       "25%        0.040000\n",
       "50%        0.150000\n",
       "75%        0.510000\n",
       "max       21.050000\n",
       "Name: world_sales, dtype: float64"
      ]
     },
     "execution_count": 25,
     "metadata": {},
     "output_type": "execute_result"
    },
    {
     "data": {
      "image/png": "[encoded data removed]",
      "text/plain": [
       "<Figure size 432x288 with 1 Axes>"
      ]
     },
     "metadata": {
      "needs_background": "light"
     },
     "output_type": "display_data"
    }
   ],
   "source": [
    "ps3_actual_game = actual_game.query('platform ==\"PS3\"')\n",
    "ps3_actual_game.boxplot(column = 'world_sales')\n",
    "plt.ylim(-2, 3)\n",
    "\n",
    "\n",
    "ps3_actual_game['world_sales'].describe()"
   ]
  },
  {
   "cell_type": "code",
   "execution_count": 26,
   "metadata": {},
   "outputs": [
    {
     "data": {
      "image/png": "[encoded data removed]",
      "text/plain": [
       "<Figure size 1296x504 with 1 Axes>"
      ]
     },
     "metadata": {
      "needs_background": "light"
     },
     "output_type": "display_data"
    }
   ],
   "source": [
    "\n",
    "plt.figure(figsize=(18, 7))\n",
    "sns.boxplot(data = actual_game, x = 'platform', y = 'world_sales')\n",
    "plt.ylim(-2, 20)\n",
    "plt.show()\n"
   ]
  },
  {
   "cell_type": "code",
   "execution_count": 27,
   "metadata": {},
   "outputs": [
    {
     "data": {
      "image/png": "[encoded data removed]",
      "text/plain": [
       "<Figure size 1440x648 with 1 Axes>"
      ]
     },
     "metadata": {
      "needs_background": "light"
     },
     "output_type": "display_data"
    }
   ],
   "source": [
    "plt.figure(figsize=(20, 9))\n",
    "sns.boxplot(data = actual_game, x = 'platform', y = 'world_sales')\n",
    "plt.ylim(-1, 2)\n",
    "plt.show()"
   ]
  },
  {
   "cell_type": "markdown",
   "metadata": {},
   "source": [
    "Вывод: по диаграммам размаха видно, что основная доля продаж по всем платформам попадает в интервал до 1 млн. проданных копий, распределение продаж по всем платформам очень схоже.При этом, медианное (большее) значение по каждой платформе находится в промежутке от 0,1 до 0,3 млн. копий.Видно, что медиана по всем платформам бльше тяготеет к первому квартилю,то есть значения , которые отсекает верхний ус встречаются не часто. \n",
    "    Относительно самых популярных платформ, основной пул продаж приходится на 1 млн. копий, медианное значение находится на уровне 0,1-0,2 млн.копий(о есть в этот интервал попадают большинство значений продаж игр).По графикам видно, что есть слишком большие выбросы, так для платформы PS4 есть игры по которым продажи на уровне 14,6 млн. копий."
   ]
  },
  {
   "cell_type": "markdown",
   "metadata": {},
   "source": [
    "# Влияние отзывов поситителей и оценки критиков на мировые продажи"
   ]
  },
  {
   "cell_type": "code",
   "execution_count": 28,
   "metadata": {},
   "outputs": [
    {
     "data": {
      "text/html": [
       "<div>\n",
       "<style scoped>\n",
       "    .dataframe tbody tr th:only-of-type {\n",
       "        vertical-align: middle;\n",
       "    }\n",
       "\n",
       "    .dataframe tbody tr th {\n",
       "        vertical-align: top;\n",
       "    }\n",
       "\n",
       "    .dataframe thead th {\n",
       "        text-align: right;\n",
       "    }\n",
       "</style>\n",
       "<table border=\"1\" class=\"dataframe\">\n",
       "  <thead>\n",
       "    <tr style=\"text-align: right;\">\n",
       "      <th></th>\n",
       "      <th>world_sales</th>\n",
       "      <th>user_score</th>\n",
       "      <th>critic_score</th>\n",
       "    </tr>\n",
       "  </thead>\n",
       "  <tbody>\n",
       "    <tr>\n",
       "      <th>31</th>\n",
       "      <td>14.63</td>\n",
       "      <td>NaN</td>\n",
       "      <td>NaN</td>\n",
       "    </tr>\n",
       "    <tr>\n",
       "      <th>42</th>\n",
       "      <td>12.62</td>\n",
       "      <td>8.3</td>\n",
       "      <td>97.0</td>\n",
       "    </tr>\n",
       "    <tr>\n",
       "      <th>77</th>\n",
       "      <td>8.58</td>\n",
       "      <td>4.3</td>\n",
       "      <td>82.0</td>\n",
       "    </tr>\n",
       "    <tr>\n",
       "      <th>87</th>\n",
       "      <td>7.98</td>\n",
       "      <td>NaN</td>\n",
       "      <td>NaN</td>\n",
       "    </tr>\n",
       "    <tr>\n",
       "      <th>92</th>\n",
       "      <td>7.66</td>\n",
       "      <td>5.7</td>\n",
       "      <td>83.0</td>\n",
       "    </tr>\n",
       "    <tr>\n",
       "      <th>...</th>\n",
       "      <td>...</td>\n",
       "      <td>...</td>\n",
       "      <td>...</td>\n",
       "    </tr>\n",
       "    <tr>\n",
       "      <th>16500</th>\n",
       "      <td>0.01</td>\n",
       "      <td>7.5</td>\n",
       "      <td>69.0</td>\n",
       "    </tr>\n",
       "    <tr>\n",
       "      <th>16503</th>\n",
       "      <td>0.01</td>\n",
       "      <td>NaN</td>\n",
       "      <td>NaN</td>\n",
       "    </tr>\n",
       "    <tr>\n",
       "      <th>16526</th>\n",
       "      <td>0.01</td>\n",
       "      <td>7.9</td>\n",
       "      <td>61.0</td>\n",
       "    </tr>\n",
       "    <tr>\n",
       "      <th>16530</th>\n",
       "      <td>0.01</td>\n",
       "      <td>5.5</td>\n",
       "      <td>51.0</td>\n",
       "    </tr>\n",
       "    <tr>\n",
       "      <th>16585</th>\n",
       "      <td>0.01</td>\n",
       "      <td>NaN</td>\n",
       "      <td>NaN</td>\n",
       "    </tr>\n",
       "  </tbody>\n",
       "</table>\n",
       "<p>392 rows × 3 columns</p>\n",
       "</div>"
      ],
      "text/plain": [
       "       world_sales  user_score  critic_score\n",
       "31           14.63         NaN           NaN\n",
       "42           12.62         8.3          97.0\n",
       "77            8.58         4.3          82.0\n",
       "87            7.98         NaN           NaN\n",
       "92            7.66         5.7          83.0\n",
       "...            ...         ...           ...\n",
       "16500         0.01         7.5          69.0\n",
       "16503         0.01         NaN           NaN\n",
       "16526         0.01         7.9          61.0\n",
       "16530         0.01         5.5          51.0\n",
       "16585         0.01         NaN           NaN\n",
       "\n",
       "[392 rows x 3 columns]"
      ]
     },
     "metadata": {},
     "output_type": "display_data"
    },
    {
     "data": {
      "text/html": [
       "<div>\n",
       "<style scoped>\n",
       "    .dataframe tbody tr th:only-of-type {\n",
       "        vertical-align: middle;\n",
       "    }\n",
       "\n",
       "    .dataframe tbody tr th {\n",
       "        vertical-align: top;\n",
       "    }\n",
       "\n",
       "    .dataframe thead th {\n",
       "        text-align: right;\n",
       "    }\n",
       "</style>\n",
       "<table border=\"1\" class=\"dataframe\">\n",
       "  <thead>\n",
       "    <tr style=\"text-align: right;\">\n",
       "      <th></th>\n",
       "      <th>world_sales</th>\n",
       "      <th>user_score</th>\n",
       "      <th>critic_score</th>\n",
       "    </tr>\n",
       "  </thead>\n",
       "  <tbody>\n",
       "    <tr>\n",
       "      <th>world_sales</th>\n",
       "      <td>1.000000</td>\n",
       "      <td>-0.031957</td>\n",
       "      <td>0.406568</td>\n",
       "    </tr>\n",
       "    <tr>\n",
       "      <th>user_score</th>\n",
       "      <td>-0.031957</td>\n",
       "      <td>1.000000</td>\n",
       "      <td>0.557654</td>\n",
       "    </tr>\n",
       "    <tr>\n",
       "      <th>critic_score</th>\n",
       "      <td>0.406568</td>\n",
       "      <td>0.557654</td>\n",
       "      <td>1.000000</td>\n",
       "    </tr>\n",
       "  </tbody>\n",
       "</table>\n",
       "</div>"
      ],
      "text/plain": [
       "              world_sales  user_score  critic_score\n",
       "world_sales      1.000000   -0.031957      0.406568\n",
       "user_score      -0.031957    1.000000      0.557654\n",
       "critic_score     0.406568    0.557654      1.000000"
      ]
     },
     "execution_count": 28,
     "metadata": {},
     "output_type": "execute_result"
    },
    {
     "data": {
      "image/png": "[encoded data removed]",
      "text/plain": [
       "<Figure size 432x288 with 1 Axes>"
      ]
     },
     "metadata": {
      "needs_background": "light"
     },
     "output_type": "display_data"
    },
    {
     "data": {
      "image/png": "[encoded data removed]",
      "text/plain": [
       "<Figure size 432x288 with 1 Axes>"
      ]
     },
     "metadata": {
      "needs_background": "light"
     },
     "output_type": "display_data"
    }
   ],
   "source": [
    "actual_game_PS4 = actual_game.query('platform == \"PS4\"')\n",
    "actual_game_PS4.plot(x='user_score', y='world_sales', kind='scatter', alpha = 0.5) # для оценки влияния построим диаграмму рассеивания используя сводную таблицу для сортировки данных в рамках одной платформы\n",
    "\n",
    "actual_game_PS4.plot(x='critic_score', y='world_sales', kind='scatter', alpha = 0.5)\n",
    "\n",
    "actual_game_PS4_new = actual_game_PS4.loc[:,['world_sales', 'user_score', 'critic_score']]\n",
    "display(actual_game_PS4_new)# для расчета коэффициента корреляции\n",
    "actual_game_PS4_new.corr()\n"
   ]
  },
  {
   "cell_type": "markdown",
   "metadata": {},
   "source": [
    "Вывод: по диаграмме размаха видно, что основная часть игр, объем продаж по которым попадает в межквартальный размах, самые частые объемы продаж, оценки как игроков, так и критиков по этим играм достаточно высокие. При этом видно,по диаграмме user есть игры с высокими продажами, но низким рейтингом и наоборот, что говорит об сомнительной зависимости между парметрами продажи и оценка игроков. Об этом говорит коэффициент  корреляции = -0.03(связь обратная очень слабая) \n",
    "    \n",
    "Что качается зависимости между продажами и оценкой критиков она положительная , коэф коррел. = 0.4 (присутствует). Также важно отметить, что на оценку пользователей влияет мнение кретиков. Коэф. коррелиции между параметрами = 0.55. Чем выше оценка критика, тем выше оценка игрока."
   ]
  },
  {
   "cell_type": "code",
   "execution_count": 29,
   "metadata": {},
   "outputs": [
    {
     "data": {
      "text/html": [
       "<div>\n",
       "<style scoped>\n",
       "    .dataframe tbody tr th:only-of-type {\n",
       "        vertical-align: middle;\n",
       "    }\n",
       "\n",
       "    .dataframe tbody tr th {\n",
       "        vertical-align: top;\n",
       "    }\n",
       "\n",
       "    .dataframe thead th {\n",
       "        text-align: right;\n",
       "    }\n",
       "</style>\n",
       "<table border=\"1\" class=\"dataframe\">\n",
       "  <thead>\n",
       "    <tr style=\"text-align: right;\">\n",
       "      <th></th>\n",
       "      <th>world_sales</th>\n",
       "      <th>user_score</th>\n",
       "      <th>critic_score</th>\n",
       "    </tr>\n",
       "  </thead>\n",
       "  <tbody>\n",
       "    <tr>\n",
       "      <th>16</th>\n",
       "      <td>21.05</td>\n",
       "      <td>8.2</td>\n",
       "      <td>97.0</td>\n",
       "    </tr>\n",
       "    <tr>\n",
       "      <th>69</th>\n",
       "      <td>9.36</td>\n",
       "      <td>2.6</td>\n",
       "      <td>71.0</td>\n",
       "    </tr>\n",
       "    <tr>\n",
       "      <th>126</th>\n",
       "      <td>6.46</td>\n",
       "      <td>4.3</td>\n",
       "      <td>86.0</td>\n",
       "    </tr>\n",
       "    <tr>\n",
       "      <th>149</th>\n",
       "      <td>5.86</td>\n",
       "      <td>9.1</td>\n",
       "      <td>95.0</td>\n",
       "    </tr>\n",
       "    <tr>\n",
       "      <th>180</th>\n",
       "      <td>5.27</td>\n",
       "      <td>NaN</td>\n",
       "      <td>NaN</td>\n",
       "    </tr>\n",
       "    <tr>\n",
       "      <th>...</th>\n",
       "      <td>...</td>\n",
       "      <td>...</td>\n",
       "      <td>...</td>\n",
       "    </tr>\n",
       "    <tr>\n",
       "      <th>16558</th>\n",
       "      <td>0.01</td>\n",
       "      <td>NaN</td>\n",
       "      <td>NaN</td>\n",
       "    </tr>\n",
       "    <tr>\n",
       "      <th>16638</th>\n",
       "      <td>0.01</td>\n",
       "      <td>NaN</td>\n",
       "      <td>NaN</td>\n",
       "    </tr>\n",
       "    <tr>\n",
       "      <th>16674</th>\n",
       "      <td>0.01</td>\n",
       "      <td>NaN</td>\n",
       "      <td>NaN</td>\n",
       "    </tr>\n",
       "    <tr>\n",
       "      <th>16691</th>\n",
       "      <td>0.01</td>\n",
       "      <td>NaN</td>\n",
       "      <td>NaN</td>\n",
       "    </tr>\n",
       "    <tr>\n",
       "      <th>16710</th>\n",
       "      <td>0.01</td>\n",
       "      <td>NaN</td>\n",
       "      <td>NaN</td>\n",
       "    </tr>\n",
       "  </tbody>\n",
       "</table>\n",
       "<p>345 rows × 3 columns</p>\n",
       "</div>"
      ],
      "text/plain": [
       "       world_sales  user_score  critic_score\n",
       "16           21.05         8.2          97.0\n",
       "69            9.36         2.6          71.0\n",
       "126           6.46         4.3          86.0\n",
       "149           5.86         9.1          95.0\n",
       "180           5.27         NaN           NaN\n",
       "...            ...         ...           ...\n",
       "16558         0.01         NaN           NaN\n",
       "16638         0.01         NaN           NaN\n",
       "16674         0.01         NaN           NaN\n",
       "16691         0.01         NaN           NaN\n",
       "16710         0.01         NaN           NaN\n",
       "\n",
       "[345 rows x 3 columns]"
      ]
     },
     "metadata": {},
     "output_type": "display_data"
    },
    {
     "data": {
      "text/html": [
       "<div>\n",
       "<style scoped>\n",
       "    .dataframe tbody tr th:only-of-type {\n",
       "        vertical-align: middle;\n",
       "    }\n",
       "\n",
       "    .dataframe tbody tr th {\n",
       "        vertical-align: top;\n",
       "    }\n",
       "\n",
       "    .dataframe thead th {\n",
       "        text-align: right;\n",
       "    }\n",
       "</style>\n",
       "<table border=\"1\" class=\"dataframe\">\n",
       "  <thead>\n",
       "    <tr style=\"text-align: right;\">\n",
       "      <th></th>\n",
       "      <th>world_sales</th>\n",
       "      <th>user_score</th>\n",
       "      <th>critic_score</th>\n",
       "    </tr>\n",
       "  </thead>\n",
       "  <tbody>\n",
       "    <tr>\n",
       "      <th>world_sales</th>\n",
       "      <td>1.000000</td>\n",
       "      <td>0.002394</td>\n",
       "      <td>0.334285</td>\n",
       "    </tr>\n",
       "    <tr>\n",
       "      <th>user_score</th>\n",
       "      <td>0.002394</td>\n",
       "      <td>1.000000</td>\n",
       "      <td>0.599920</td>\n",
       "    </tr>\n",
       "    <tr>\n",
       "      <th>critic_score</th>\n",
       "      <td>0.334285</td>\n",
       "      <td>0.599920</td>\n",
       "      <td>1.000000</td>\n",
       "    </tr>\n",
       "  </tbody>\n",
       "</table>\n",
       "</div>"
      ],
      "text/plain": [
       "              world_sales  user_score  critic_score\n",
       "world_sales      1.000000    0.002394      0.334285\n",
       "user_score       0.002394    1.000000      0.599920\n",
       "critic_score     0.334285    0.599920      1.000000"
      ]
     },
     "execution_count": 29,
     "metadata": {},
     "output_type": "execute_result"
    },
    {
     "data": {
      "image/png": "[encoded data removed]",
      "text/plain": [
       "<Figure size 432x288 with 1 Axes>"
      ]
     },
     "metadata": {
      "needs_background": "light"
     },
     "output_type": "display_data"
    },
    {
     "data": {
      "image/png": "[encoded data removed]",
      "text/plain": [
       "<Figure size 432x288 with 1 Axes>"
      ]
     },
     "metadata": {
      "needs_background": "light"
     },
     "output_type": "display_data"
    }
   ],
   "source": [
    "#аналогичная оценка предыдущей по платформе PS3\n",
    "actual_game_PS3 = actual_game.query('platform == \"PS3\"')\n",
    "actual_game_PS3.plot(x='user_score', y='world_sales', kind='scatter', alpha = 0.5) # для оценки влияния построим диаграмму рассеивания используя сводную таблицу для сортировки данных в рамках одной платформы\n",
    "\n",
    "actual_game_PS3.plot(x='critic_score', y='world_sales', kind='scatter', alpha = 0.5)\n",
    "\n",
    "actual_game_PS3_new = actual_game_PS3.loc[:,['world_sales', 'user_score', 'critic_score']]\n",
    "display(actual_game_PS3_new)# для расчета коэффициента корреляции\n",
    "actual_game_PS3_new.corr()\n"
   ]
  },
  {
   "cell_type": "code",
   "execution_count": 30,
   "metadata": {},
   "outputs": [
    {
     "data": {
      "text/html": [
       "<div>\n",
       "<style scoped>\n",
       "    .dataframe tbody tr th:only-of-type {\n",
       "        vertical-align: middle;\n",
       "    }\n",
       "\n",
       "    .dataframe tbody tr th {\n",
       "        vertical-align: top;\n",
       "    }\n",
       "\n",
       "    .dataframe thead th {\n",
       "        text-align: right;\n",
       "    }\n",
       "</style>\n",
       "<table border=\"1\" class=\"dataframe\">\n",
       "  <thead>\n",
       "    <tr style=\"text-align: right;\">\n",
       "      <th></th>\n",
       "      <th>world_sales</th>\n",
       "      <th>user_score</th>\n",
       "      <th>critic_score</th>\n",
       "    </tr>\n",
       "  </thead>\n",
       "  <tbody>\n",
       "    <tr>\n",
       "      <th>99</th>\n",
       "      <td>7.39</td>\n",
       "      <td>NaN</td>\n",
       "      <td>NaN</td>\n",
       "    </tr>\n",
       "    <tr>\n",
       "      <th>165</th>\n",
       "      <td>5.47</td>\n",
       "      <td>7.9</td>\n",
       "      <td>97.0</td>\n",
       "    </tr>\n",
       "    <tr>\n",
       "      <th>179</th>\n",
       "      <td>5.26</td>\n",
       "      <td>5.4</td>\n",
       "      <td>81.0</td>\n",
       "    </tr>\n",
       "    <tr>\n",
       "      <th>242</th>\n",
       "      <td>4.49</td>\n",
       "      <td>6.4</td>\n",
       "      <td>84.0</td>\n",
       "    </tr>\n",
       "    <tr>\n",
       "      <th>270</th>\n",
       "      <td>4.22</td>\n",
       "      <td>6.2</td>\n",
       "      <td>88.0</td>\n",
       "    </tr>\n",
       "    <tr>\n",
       "      <th>...</th>\n",
       "      <td>...</td>\n",
       "      <td>...</td>\n",
       "      <td>...</td>\n",
       "    </tr>\n",
       "    <tr>\n",
       "      <th>16630</th>\n",
       "      <td>0.01</td>\n",
       "      <td>8.2</td>\n",
       "      <td>63.0</td>\n",
       "    </tr>\n",
       "    <tr>\n",
       "      <th>16643</th>\n",
       "      <td>0.01</td>\n",
       "      <td>6.6</td>\n",
       "      <td>NaN</td>\n",
       "    </tr>\n",
       "    <tr>\n",
       "      <th>16645</th>\n",
       "      <td>0.01</td>\n",
       "      <td>NaN</td>\n",
       "      <td>NaN</td>\n",
       "    </tr>\n",
       "    <tr>\n",
       "      <th>16660</th>\n",
       "      <td>0.01</td>\n",
       "      <td>6.7</td>\n",
       "      <td>74.0</td>\n",
       "    </tr>\n",
       "    <tr>\n",
       "      <th>16672</th>\n",
       "      <td>0.01</td>\n",
       "      <td>NaN</td>\n",
       "      <td>NaN</td>\n",
       "    </tr>\n",
       "  </tbody>\n",
       "</table>\n",
       "<p>247 rows × 3 columns</p>\n",
       "</div>"
      ],
      "text/plain": [
       "       world_sales  user_score  critic_score\n",
       "99            7.39         NaN           NaN\n",
       "165           5.47         7.9          97.0\n",
       "179           5.26         5.4          81.0\n",
       "242           4.49         6.4          84.0\n",
       "270           4.22         6.2          88.0\n",
       "...            ...         ...           ...\n",
       "16630         0.01         8.2          63.0\n",
       "16643         0.01         6.6           NaN\n",
       "16645         0.01         NaN           NaN\n",
       "16660         0.01         6.7          74.0\n",
       "16672         0.01         NaN           NaN\n",
       "\n",
       "[247 rows x 3 columns]"
      ]
     },
     "metadata": {},
     "output_type": "display_data"
    },
    {
     "data": {
      "text/html": [
       "<div>\n",
       "<style scoped>\n",
       "    .dataframe tbody tr th:only-of-type {\n",
       "        vertical-align: middle;\n",
       "    }\n",
       "\n",
       "    .dataframe tbody tr th {\n",
       "        vertical-align: top;\n",
       "    }\n",
       "\n",
       "    .dataframe thead th {\n",
       "        text-align: right;\n",
       "    }\n",
       "</style>\n",
       "<table border=\"1\" class=\"dataframe\">\n",
       "  <thead>\n",
       "    <tr style=\"text-align: right;\">\n",
       "      <th></th>\n",
       "      <th>world_sales</th>\n",
       "      <th>user_score</th>\n",
       "      <th>critic_score</th>\n",
       "    </tr>\n",
       "  </thead>\n",
       "  <tbody>\n",
       "    <tr>\n",
       "      <th>world_sales</th>\n",
       "      <td>1.000000</td>\n",
       "      <td>-0.068925</td>\n",
       "      <td>0.416998</td>\n",
       "    </tr>\n",
       "    <tr>\n",
       "      <th>user_score</th>\n",
       "      <td>-0.068925</td>\n",
       "      <td>1.000000</td>\n",
       "      <td>0.472462</td>\n",
       "    </tr>\n",
       "    <tr>\n",
       "      <th>critic_score</th>\n",
       "      <td>0.416998</td>\n",
       "      <td>0.472462</td>\n",
       "      <td>1.000000</td>\n",
       "    </tr>\n",
       "  </tbody>\n",
       "</table>\n",
       "</div>"
      ],
      "text/plain": [
       "              world_sales  user_score  critic_score\n",
       "world_sales      1.000000   -0.068925      0.416998\n",
       "user_score      -0.068925    1.000000      0.472462\n",
       "critic_score     0.416998    0.472462      1.000000"
      ]
     },
     "execution_count": 30,
     "metadata": {},
     "output_type": "execute_result"
    },
    {
     "data": {
      "image/png": "[encoded data removed]",
      "text/plain": [
       "<Figure size 432x288 with 1 Axes>"
      ]
     },
     "metadata": {
      "needs_background": "light"
     },
     "output_type": "display_data"
    },
    {
     "data": {
      "image/png": "[encoded data removed]",
      "text/plain": [
       "<Figure size 432x288 with 1 Axes>"
      ]
     },
     "metadata": {
      "needs_background": "light"
     },
     "output_type": "display_data"
    }
   ],
   "source": [
    "actual_game_xone = actual_game.query('platform == \"XOne\"')\n",
    "actual_game_xone.plot(x='user_score', y='world_sales', kind='scatter', alpha = 0.5) # для оценки влияния построим диаграмму рассеивания используя сводную таблицу для сортировки данных в рамках одной платформы\n",
    "\n",
    "actual_game_xone.plot(x='critic_score', y='world_sales', kind='scatter', alpha = 0.5)\n",
    "\n",
    "actual_game_xone_new = actual_game_xone.loc[:,['world_sales', 'user_score', 'critic_score']]\n",
    "display(actual_game_xone_new)# для расчета коэффициента корреляции\n",
    "actual_game_xone_new.corr()\n"
   ]
  },
  {
   "cell_type": "code",
   "execution_count": 31,
   "metadata": {},
   "outputs": [
    {
     "data": {
      "text/html": [
       "<div>\n",
       "<style scoped>\n",
       "    .dataframe tbody tr th:only-of-type {\n",
       "        vertical-align: middle;\n",
       "    }\n",
       "\n",
       "    .dataframe tbody tr th {\n",
       "        vertical-align: top;\n",
       "    }\n",
       "\n",
       "    .dataframe thead th {\n",
       "        text-align: right;\n",
       "    }\n",
       "</style>\n",
       "<table border=\"1\" class=\"dataframe\">\n",
       "  <thead>\n",
       "    <tr style=\"text-align: right;\">\n",
       "      <th></th>\n",
       "      <th>world_sales</th>\n",
       "      <th>user_score</th>\n",
       "      <th>critic_score</th>\n",
       "    </tr>\n",
       "  </thead>\n",
       "  <tbody>\n",
       "    <tr>\n",
       "      <th>33</th>\n",
       "      <td>14.60</td>\n",
       "      <td>NaN</td>\n",
       "      <td>NaN</td>\n",
       "    </tr>\n",
       "    <tr>\n",
       "      <th>47</th>\n",
       "      <td>11.68</td>\n",
       "      <td>NaN</td>\n",
       "      <td>NaN</td>\n",
       "    </tr>\n",
       "    <tr>\n",
       "      <th>96</th>\n",
       "      <td>7.55</td>\n",
       "      <td>NaN</td>\n",
       "      <td>NaN</td>\n",
       "    </tr>\n",
       "    <tr>\n",
       "      <th>108</th>\n",
       "      <td>7.14</td>\n",
       "      <td>NaN</td>\n",
       "      <td>NaN</td>\n",
       "    </tr>\n",
       "    <tr>\n",
       "      <th>184</th>\n",
       "      <td>5.22</td>\n",
       "      <td>NaN</td>\n",
       "      <td>NaN</td>\n",
       "    </tr>\n",
       "    <tr>\n",
       "      <th>...</th>\n",
       "      <td>...</td>\n",
       "      <td>...</td>\n",
       "      <td>...</td>\n",
       "    </tr>\n",
       "    <tr>\n",
       "      <th>16608</th>\n",
       "      <td>0.01</td>\n",
       "      <td>NaN</td>\n",
       "      <td>NaN</td>\n",
       "    </tr>\n",
       "    <tr>\n",
       "      <th>16610</th>\n",
       "      <td>0.01</td>\n",
       "      <td>NaN</td>\n",
       "      <td>NaN</td>\n",
       "    </tr>\n",
       "    <tr>\n",
       "      <th>16648</th>\n",
       "      <td>0.01</td>\n",
       "      <td>NaN</td>\n",
       "      <td>NaN</td>\n",
       "    </tr>\n",
       "    <tr>\n",
       "      <th>16668</th>\n",
       "      <td>0.01</td>\n",
       "      <td>NaN</td>\n",
       "      <td>NaN</td>\n",
       "    </tr>\n",
       "    <tr>\n",
       "      <th>16677</th>\n",
       "      <td>0.01</td>\n",
       "      <td>NaN</td>\n",
       "      <td>NaN</td>\n",
       "    </tr>\n",
       "  </tbody>\n",
       "</table>\n",
       "<p>303 rows × 3 columns</p>\n",
       "</div>"
      ],
      "text/plain": [
       "       world_sales  user_score  critic_score\n",
       "33           14.60         NaN           NaN\n",
       "47           11.68         NaN           NaN\n",
       "96            7.55         NaN           NaN\n",
       "108           7.14         NaN           NaN\n",
       "184           5.22         NaN           NaN\n",
       "...            ...         ...           ...\n",
       "16608         0.01         NaN           NaN\n",
       "16610         0.01         NaN           NaN\n",
       "16648         0.01         NaN           NaN\n",
       "16668         0.01         NaN           NaN\n",
       "16677         0.01         NaN           NaN\n",
       "\n",
       "[303 rows x 3 columns]"
      ]
     },
     "metadata": {},
     "output_type": "display_data"
    },
    {
     "data": {
      "text/html": [
       "<div>\n",
       "<style scoped>\n",
       "    .dataframe tbody tr th:only-of-type {\n",
       "        vertical-align: middle;\n",
       "    }\n",
       "\n",
       "    .dataframe tbody tr th {\n",
       "        vertical-align: top;\n",
       "    }\n",
       "\n",
       "    .dataframe thead th {\n",
       "        text-align: right;\n",
       "    }\n",
       "</style>\n",
       "<table border=\"1\" class=\"dataframe\">\n",
       "  <thead>\n",
       "    <tr style=\"text-align: right;\">\n",
       "      <th></th>\n",
       "      <th>world_sales</th>\n",
       "      <th>user_score</th>\n",
       "      <th>critic_score</th>\n",
       "    </tr>\n",
       "  </thead>\n",
       "  <tbody>\n",
       "    <tr>\n",
       "      <th>world_sales</th>\n",
       "      <td>1.000000</td>\n",
       "      <td>0.241504</td>\n",
       "      <td>0.357057</td>\n",
       "    </tr>\n",
       "    <tr>\n",
       "      <th>user_score</th>\n",
       "      <td>0.241504</td>\n",
       "      <td>1.000000</td>\n",
       "      <td>0.769536</td>\n",
       "    </tr>\n",
       "    <tr>\n",
       "      <th>critic_score</th>\n",
       "      <td>0.357057</td>\n",
       "      <td>0.769536</td>\n",
       "      <td>1.000000</td>\n",
       "    </tr>\n",
       "  </tbody>\n",
       "</table>\n",
       "</div>"
      ],
      "text/plain": [
       "              world_sales  user_score  critic_score\n",
       "world_sales      1.000000    0.241504      0.357057\n",
       "user_score       0.241504    1.000000      0.769536\n",
       "critic_score     0.357057    0.769536      1.000000"
      ]
     },
     "execution_count": 31,
     "metadata": {},
     "output_type": "execute_result"
    },
    {
     "data": {
      "image/png": "[encoded data removed]",
      "text/plain": [
       "<Figure size 432x288 with 1 Axes>"
      ]
     },
     "metadata": {
      "needs_background": "light"
     },
     "output_type": "display_data"
    },
    {
     "data": {
      "image/png": "[encoded data removed]",
      "text/plain": [
       "<Figure size 432x288 with 1 Axes>"
      ]
     },
     "metadata": {
      "needs_background": "light"
     },
     "output_type": "display_data"
    }
   ],
   "source": [
    "actual_game_3ds = actual_game.query('platform == \"3DS\"')\n",
    "actual_game_3ds.plot(x='user_score', y='world_sales', kind='scatter', alpha = 0.5) # для оценки влияния построим диаграмму рассеивания используя сводную таблицу для сортировки данных в рамках одной платформы\n",
    "\n",
    "actual_game_3ds.plot(x='critic_score', y='world_sales', kind='scatter', alpha = 0.5)\n",
    "\n",
    "actual_game_3ds_new = actual_game_3ds.loc[:,['world_sales', 'user_score', 'critic_score']]\n",
    "display(actual_game_3ds_new)# для расчета коэффициента корреляции\n",
    "actual_game_3ds_new.corr()"
   ]
  },
  {
   "cell_type": "code",
   "execution_count": 32,
   "metadata": {},
   "outputs": [
    {
     "data": {
      "text/html": [
       "<div>\n",
       "<style scoped>\n",
       "    .dataframe tbody tr th:only-of-type {\n",
       "        vertical-align: middle;\n",
       "    }\n",
       "\n",
       "    .dataframe tbody tr th {\n",
       "        vertical-align: top;\n",
       "    }\n",
       "\n",
       "    .dataframe thead th {\n",
       "        text-align: right;\n",
       "    }\n",
       "</style>\n",
       "<table border=\"1\" class=\"dataframe\">\n",
       "  <thead>\n",
       "    <tr style=\"text-align: right;\">\n",
       "      <th></th>\n",
       "      <th>world_sales</th>\n",
       "      <th>user_score</th>\n",
       "      <th>critic_score</th>\n",
       "    </tr>\n",
       "  </thead>\n",
       "  <tbody>\n",
       "    <tr>\n",
       "      <th>23</th>\n",
       "      <td>16.27</td>\n",
       "      <td>8.1</td>\n",
       "      <td>97.0</td>\n",
       "    </tr>\n",
       "    <tr>\n",
       "      <th>60</th>\n",
       "      <td>10.24</td>\n",
       "      <td>2.6</td>\n",
       "      <td>73.0</td>\n",
       "    </tr>\n",
       "    <tr>\n",
       "      <th>72</th>\n",
       "      <td>9.18</td>\n",
       "      <td>NaN</td>\n",
       "      <td>NaN</td>\n",
       "    </tr>\n",
       "    <tr>\n",
       "      <th>263</th>\n",
       "      <td>4.28</td>\n",
       "      <td>4.9</td>\n",
       "      <td>NaN</td>\n",
       "    </tr>\n",
       "    <tr>\n",
       "      <th>271</th>\n",
       "      <td>4.22</td>\n",
       "      <td>4.2</td>\n",
       "      <td>84.0</td>\n",
       "    </tr>\n",
       "    <tr>\n",
       "      <th>...</th>\n",
       "      <td>...</td>\n",
       "      <td>...</td>\n",
       "      <td>...</td>\n",
       "    </tr>\n",
       "    <tr>\n",
       "      <th>16301</th>\n",
       "      <td>0.01</td>\n",
       "      <td>NaN</td>\n",
       "      <td>NaN</td>\n",
       "    </tr>\n",
       "    <tr>\n",
       "      <th>16450</th>\n",
       "      <td>0.01</td>\n",
       "      <td>4.5</td>\n",
       "      <td>NaN</td>\n",
       "    </tr>\n",
       "    <tr>\n",
       "      <th>16460</th>\n",
       "      <td>0.01</td>\n",
       "      <td>6.2</td>\n",
       "      <td>NaN</td>\n",
       "    </tr>\n",
       "    <tr>\n",
       "      <th>16491</th>\n",
       "      <td>0.01</td>\n",
       "      <td>NaN</td>\n",
       "      <td>NaN</td>\n",
       "    </tr>\n",
       "    <tr>\n",
       "      <th>16654</th>\n",
       "      <td>0.01</td>\n",
       "      <td>5.1</td>\n",
       "      <td>NaN</td>\n",
       "    </tr>\n",
       "  </tbody>\n",
       "</table>\n",
       "<p>186 rows × 3 columns</p>\n",
       "</div>"
      ],
      "text/plain": [
       "       world_sales  user_score  critic_score\n",
       "23           16.27         8.1          97.0\n",
       "60           10.24         2.6          73.0\n",
       "72            9.18         NaN           NaN\n",
       "263           4.28         4.9           NaN\n",
       "271           4.22         4.2          84.0\n",
       "...            ...         ...           ...\n",
       "16301         0.01         NaN           NaN\n",
       "16450         0.01         4.5           NaN\n",
       "16460         0.01         6.2           NaN\n",
       "16491         0.01         NaN           NaN\n",
       "16654         0.01         5.1           NaN\n",
       "\n",
       "[186 rows x 3 columns]"
      ]
     },
     "metadata": {},
     "output_type": "display_data"
    },
    {
     "data": {
      "text/html": [
       "<div>\n",
       "<style scoped>\n",
       "    .dataframe tbody tr th:only-of-type {\n",
       "        vertical-align: middle;\n",
       "    }\n",
       "\n",
       "    .dataframe tbody tr th {\n",
       "        vertical-align: top;\n",
       "    }\n",
       "\n",
       "    .dataframe thead th {\n",
       "        text-align: right;\n",
       "    }\n",
       "</style>\n",
       "<table border=\"1\" class=\"dataframe\">\n",
       "  <thead>\n",
       "    <tr style=\"text-align: right;\">\n",
       "      <th></th>\n",
       "      <th>world_sales</th>\n",
       "      <th>user_score</th>\n",
       "      <th>critic_score</th>\n",
       "    </tr>\n",
       "  </thead>\n",
       "  <tbody>\n",
       "    <tr>\n",
       "      <th>world_sales</th>\n",
       "      <td>1.000000</td>\n",
       "      <td>-0.011742</td>\n",
       "      <td>0.350345</td>\n",
       "    </tr>\n",
       "    <tr>\n",
       "      <th>user_score</th>\n",
       "      <td>-0.011742</td>\n",
       "      <td>1.000000</td>\n",
       "      <td>0.520946</td>\n",
       "    </tr>\n",
       "    <tr>\n",
       "      <th>critic_score</th>\n",
       "      <td>0.350345</td>\n",
       "      <td>0.520946</td>\n",
       "      <td>1.000000</td>\n",
       "    </tr>\n",
       "  </tbody>\n",
       "</table>\n",
       "</div>"
      ],
      "text/plain": [
       "              world_sales  user_score  critic_score\n",
       "world_sales      1.000000   -0.011742      0.350345\n",
       "user_score      -0.011742    1.000000      0.520946\n",
       "critic_score     0.350345    0.520946      1.000000"
      ]
     },
     "execution_count": 32,
     "metadata": {},
     "output_type": "execute_result"
    },
    {
     "data": {
      "image/png": "[encoded data removed]",
      "text/plain": [
       "<Figure size 432x288 with 1 Axes>"
      ]
     },
     "metadata": {
      "needs_background": "light"
     },
     "output_type": "display_data"
    },
    {
     "data": {
      "image/png": "[encoded data removed]",
      "text/plain": [
       "<Figure size 432x288 with 1 Axes>"
      ]
     },
     "metadata": {
      "needs_background": "light"
     },
     "output_type": "display_data"
    }
   ],
   "source": [
    "actual_game_x360 = actual_game.query('platform == \"X360\"')\n",
    "actual_game_x360.plot(x='user_score', y='world_sales', kind='scatter', alpha = 0.5) # для оценки влияния построим диаграмму рассеивания используя сводную таблицу для сортировки данных в рамках одной платформы\n",
    "\n",
    "actual_game_x360.plot(x='critic_score', y='world_sales', kind='scatter', alpha = 0.5)\n",
    "\n",
    "actual_game_x360_new = actual_game_x360.loc[:,['world_sales', 'user_score', 'critic_score']]\n",
    "display(actual_game_x360_new)# для расчета коэффициента корреляции\n",
    "actual_game_x360_new.corr()"
   ]
  },
  {
   "cell_type": "markdown",
   "metadata": {},
   "source": [
    "Вывод: что касается остальных популярных платформ, то, взаимосвязь между объемом продаж и оценками игроков и критиков похожа. Выделяется платформа 3DS тем что коэф. корреляции между объемом продаж и оценками игроков существенно положительный - 0,35. Существует положительная зависимость объема продаж как от оценок игроков, так и оценок критикиво, при этом оценки игроков очень существенно зависят от оценок критиков. Возможно степень вовлеченности игков на данной платформе больше: оценки собираются чаще и лучше. Ведется хорошее взаимодействие с играками относительно обратной связи, возможно сами игры достаточно интереснф игракам, данный интерес попуждает давать обратную связть относительно игры больше и лучше."
   ]
  },
  {
   "cell_type": "code",
   "execution_count": 33,
   "metadata": {},
   "outputs": [
    {
     "data": {
      "text/html": [
       "<div>\n",
       "<style scoped>\n",
       "    .dataframe tbody tr th:only-of-type {\n",
       "        vertical-align: middle;\n",
       "    }\n",
       "\n",
       "    .dataframe tbody tr th {\n",
       "        vertical-align: top;\n",
       "    }\n",
       "\n",
       "    .dataframe thead th {\n",
       "        text-align: right;\n",
       "    }\n",
       "</style>\n",
       "<table border=\"1\" class=\"dataframe\">\n",
       "  <thead>\n",
       "    <tr style=\"text-align: right;\">\n",
       "      <th></th>\n",
       "      <th>world_sales</th>\n",
       "    </tr>\n",
       "    <tr>\n",
       "      <th>genre</th>\n",
       "      <th></th>\n",
       "    </tr>\n",
       "  </thead>\n",
       "  <tbody>\n",
       "    <tr>\n",
       "      <th>Action</th>\n",
       "      <td>321.87</td>\n",
       "    </tr>\n",
       "    <tr>\n",
       "      <th>Shooter</th>\n",
       "      <td>232.98</td>\n",
       "    </tr>\n",
       "    <tr>\n",
       "      <th>Sports</th>\n",
       "      <td>150.65</td>\n",
       "    </tr>\n",
       "    <tr>\n",
       "      <th>Role-Playing</th>\n",
       "      <td>145.89</td>\n",
       "    </tr>\n",
       "    <tr>\n",
       "      <th>Misc</th>\n",
       "      <td>62.82</td>\n",
       "    </tr>\n",
       "    <tr>\n",
       "      <th>Platform</th>\n",
       "      <td>42.63</td>\n",
       "    </tr>\n",
       "    <tr>\n",
       "      <th>Racing</th>\n",
       "      <td>39.89</td>\n",
       "    </tr>\n",
       "    <tr>\n",
       "      <th>Fighting</th>\n",
       "      <td>35.31</td>\n",
       "    </tr>\n",
       "    <tr>\n",
       "      <th>Adventure</th>\n",
       "      <td>23.64</td>\n",
       "    </tr>\n",
       "    <tr>\n",
       "      <th>Simulation</th>\n",
       "      <td>21.76</td>\n",
       "    </tr>\n",
       "    <tr>\n",
       "      <th>Strategy</th>\n",
       "      <td>10.08</td>\n",
       "    </tr>\n",
       "    <tr>\n",
       "      <th>Puzzle</th>\n",
       "      <td>3.17</td>\n",
       "    </tr>\n",
       "  </tbody>\n",
       "</table>\n",
       "</div>"
      ],
      "text/plain": [
       "              world_sales\n",
       "genre                    \n",
       "Action             321.87\n",
       "Shooter            232.98\n",
       "Sports             150.65\n",
       "Role-Playing       145.89\n",
       "Misc                62.82\n",
       "Platform            42.63\n",
       "Racing              39.89\n",
       "Fighting            35.31\n",
       "Adventure           23.64\n",
       "Simulation          21.76\n",
       "Strategy            10.08\n",
       "Puzzle               3.17"
      ]
     },
     "metadata": {},
     "output_type": "display_data"
    },
    {
     "data": {
      "text/plain": [
       "<AxesSubplot:xlabel='genre'>"
      ]
     },
     "execution_count": 33,
     "metadata": {},
     "output_type": "execute_result"
    },
    {
     "data": {
      "image/png": "[encoded data removed]",
      "text/plain": [
       "<Figure size 432x288 with 1 Axes>"
      ]
     },
     "metadata": {
      "needs_background": "light"
     },
     "output_type": "display_data"
    }
   ],
   "source": [
    "#общее распределение игр по жанрам\n",
    "actual_game_genre = actual_game.pivot_table(index = 'genre', values = 'world_sales', aggfunc = 'sum').sort_values('world_sales', ascending = False)\n",
    "display(actual_game_genre)\n",
    "actual_game_genre.plot(kind = 'bar')\n"
   ]
  },
  {
   "cell_type": "code",
   "execution_count": 34,
   "metadata": {},
   "outputs": [
    {
     "data": {
      "image/png": "[encoded data removed]",
      "text/plain": [
       "<Figure size 1080x576 with 1 Axes>"
      ]
     },
     "metadata": {
      "needs_background": "light"
     },
     "output_type": "display_data"
    }
   ],
   "source": [
    "plt.figure(figsize=(15, 8))\n",
    "sns.boxplot(data = actual_game, y = 'world_sales', x='genre')\n",
    "\n",
    "plt.ylim(0, 5)\n",
    "\n",
    "plt.show()"
   ]
  },
  {
   "cell_type": "markdown",
   "metadata": {},
   "source": [
    "Вывод: самые популярные жанры игр Action и Shoooter, самые не популярные - Puzzle. Спортивные и ролевые игры также достаточно популярны. Что касается распределения продаж по жанрам, то жанр Shooter имеет самое высокое значение медианы продаж. Межквартальный размах самый большой.Неплохие результаты  по продажам также показывают и  жанры sports, platform. \n",
    "    Рассматриваемые жанры являются популярными учитывая то, что игрокам больше нравятся динамически игры, в которых можно развивать какие-либо навыки, проходить куровни сложности, завоевывать или достигать какую-либо цель. Также к примеру спортивные игры предполагают участие нескольких игроков, то есть совместные игры тоже популярны."
   ]
  },
  {
   "cell_type": "markdown",
   "metadata": {},
   "source": [
    "# 4. Портрет пользователя каждого региона"
   ]
  },
  {
   "cell_type": "code",
   "execution_count": 35,
   "metadata": {},
   "outputs": [
    {
     "data": {
      "text/html": [
       "<div>\n",
       "<style scoped>\n",
       "    .dataframe tbody tr th:only-of-type {\n",
       "        vertical-align: middle;\n",
       "    }\n",
       "\n",
       "    .dataframe tbody tr th {\n",
       "        vertical-align: top;\n",
       "    }\n",
       "\n",
       "    .dataframe thead th {\n",
       "        text-align: right;\n",
       "    }\n",
       "</style>\n",
       "<table border=\"1\" class=\"dataframe\">\n",
       "  <thead>\n",
       "    <tr style=\"text-align: right;\">\n",
       "      <th></th>\n",
       "      <th>na_sales</th>\n",
       "    </tr>\n",
       "    <tr>\n",
       "      <th>platform</th>\n",
       "      <th></th>\n",
       "    </tr>\n",
       "  </thead>\n",
       "  <tbody>\n",
       "    <tr>\n",
       "      <th>PS4</th>\n",
       "      <td>108.74</td>\n",
       "    </tr>\n",
       "    <tr>\n",
       "      <th>XOne</th>\n",
       "      <td>93.12</td>\n",
       "    </tr>\n",
       "    <tr>\n",
       "      <th>X360</th>\n",
       "      <td>81.66</td>\n",
       "    </tr>\n",
       "    <tr>\n",
       "      <th>PS3</th>\n",
       "      <td>63.50</td>\n",
       "    </tr>\n",
       "    <tr>\n",
       "      <th>3DS</th>\n",
       "      <td>38.20</td>\n",
       "    </tr>\n",
       "    <tr>\n",
       "      <th>WiiU</th>\n",
       "      <td>29.21</td>\n",
       "    </tr>\n",
       "    <tr>\n",
       "      <th>PC</th>\n",
       "      <td>11.11</td>\n",
       "    </tr>\n",
       "    <tr>\n",
       "      <th>Wii</th>\n",
       "      <td>6.56</td>\n",
       "    </tr>\n",
       "    <tr>\n",
       "      <th>PSV</th>\n",
       "      <td>5.04</td>\n",
       "    </tr>\n",
       "    <tr>\n",
       "      <th>DS</th>\n",
       "      <td>0.57</td>\n",
       "    </tr>\n",
       "    <tr>\n",
       "      <th>PSP</th>\n",
       "      <td>0.00</td>\n",
       "    </tr>\n",
       "  </tbody>\n",
       "</table>\n",
       "</div>"
      ],
      "text/plain": [
       "          na_sales\n",
       "platform          \n",
       "PS4         108.74\n",
       "XOne         93.12\n",
       "X360         81.66\n",
       "PS3          63.50\n",
       "3DS          38.20\n",
       "WiiU         29.21\n",
       "PC           11.11\n",
       "Wii           6.56\n",
       "PSV           5.04\n",
       "DS            0.57\n",
       "PSP           0.00"
      ]
     },
     "metadata": {},
     "output_type": "display_data"
    }
   ],
   "source": [
    "actual_game_na_sales =  pd.pivot_table(actual_game, index='platform', values='na_sales',aggfunc='sum').sort_values('na_sales', ascending=False)\n",
    "display(actual_game_na_sales) # выведем на экран таблицу самых популярных платформ в каждом регионе"
   ]
  },
  {
   "cell_type": "code",
   "execution_count": 36,
   "metadata": {},
   "outputs": [
    {
     "data": {
      "text/html": [
       "<div>\n",
       "<style scoped>\n",
       "    .dataframe tbody tr th:only-of-type {\n",
       "        vertical-align: middle;\n",
       "    }\n",
       "\n",
       "    .dataframe tbody tr th {\n",
       "        vertical-align: top;\n",
       "    }\n",
       "\n",
       "    .dataframe thead th {\n",
       "        text-align: right;\n",
       "    }\n",
       "</style>\n",
       "<table border=\"1\" class=\"dataframe\">\n",
       "  <thead>\n",
       "    <tr style=\"text-align: right;\">\n",
       "      <th></th>\n",
       "      <th>jp_sales</th>\n",
       "    </tr>\n",
       "    <tr>\n",
       "      <th>platform</th>\n",
       "      <th></th>\n",
       "    </tr>\n",
       "  </thead>\n",
       "  <tbody>\n",
       "    <tr>\n",
       "      <th>3DS</th>\n",
       "      <td>67.81</td>\n",
       "    </tr>\n",
       "    <tr>\n",
       "      <th>PS3</th>\n",
       "      <td>23.35</td>\n",
       "    </tr>\n",
       "    <tr>\n",
       "      <th>PSV</th>\n",
       "      <td>18.59</td>\n",
       "    </tr>\n",
       "    <tr>\n",
       "      <th>PS4</th>\n",
       "      <td>15.96</td>\n",
       "    </tr>\n",
       "    <tr>\n",
       "      <th>WiiU</th>\n",
       "      <td>10.88</td>\n",
       "    </tr>\n",
       "    <tr>\n",
       "      <th>PSP</th>\n",
       "      <td>3.29</td>\n",
       "    </tr>\n",
       "    <tr>\n",
       "      <th>X360</th>\n",
       "      <td>0.51</td>\n",
       "    </tr>\n",
       "    <tr>\n",
       "      <th>XOne</th>\n",
       "      <td>0.34</td>\n",
       "    </tr>\n",
       "    <tr>\n",
       "      <th>Wii</th>\n",
       "      <td>0.05</td>\n",
       "    </tr>\n",
       "    <tr>\n",
       "      <th>DS</th>\n",
       "      <td>0.00</td>\n",
       "    </tr>\n",
       "    <tr>\n",
       "      <th>PC</th>\n",
       "      <td>0.00</td>\n",
       "    </tr>\n",
       "  </tbody>\n",
       "</table>\n",
       "</div>"
      ],
      "text/plain": [
       "          jp_sales\n",
       "platform          \n",
       "3DS          67.81\n",
       "PS3          23.35\n",
       "PSV          18.59\n",
       "PS4          15.96\n",
       "WiiU         10.88\n",
       "PSP           3.29\n",
       "X360          0.51\n",
       "XOne          0.34\n",
       "Wii           0.05\n",
       "DS            0.00\n",
       "PC            0.00"
      ]
     },
     "metadata": {},
     "output_type": "display_data"
    }
   ],
   "source": [
    "actual_game_jp_sales =  pd.pivot_table(actual_game, index='platform', values='jp_sales',aggfunc='sum').sort_values('jp_sales', ascending=False)\n",
    "display(actual_game_jp_sales)"
   ]
  },
  {
   "cell_type": "code",
   "execution_count": 37,
   "metadata": {},
   "outputs": [
    {
     "data": {
      "text/html": [
       "<div>\n",
       "<style scoped>\n",
       "    .dataframe tbody tr th:only-of-type {\n",
       "        vertical-align: middle;\n",
       "    }\n",
       "\n",
       "    .dataframe tbody tr th {\n",
       "        vertical-align: top;\n",
       "    }\n",
       "\n",
       "    .dataframe thead th {\n",
       "        text-align: right;\n",
       "    }\n",
       "</style>\n",
       "<table border=\"1\" class=\"dataframe\">\n",
       "  <thead>\n",
       "    <tr style=\"text-align: right;\">\n",
       "      <th></th>\n",
       "      <th>eu_sales</th>\n",
       "    </tr>\n",
       "    <tr>\n",
       "      <th>platform</th>\n",
       "      <th></th>\n",
       "    </tr>\n",
       "  </thead>\n",
       "  <tbody>\n",
       "    <tr>\n",
       "      <th>PS4</th>\n",
       "      <td>141.09</td>\n",
       "    </tr>\n",
       "    <tr>\n",
       "      <th>PS3</th>\n",
       "      <td>67.81</td>\n",
       "    </tr>\n",
       "    <tr>\n",
       "      <th>XOne</th>\n",
       "      <td>51.59</td>\n",
       "    </tr>\n",
       "    <tr>\n",
       "      <th>X360</th>\n",
       "      <td>42.52</td>\n",
       "    </tr>\n",
       "    <tr>\n",
       "      <th>3DS</th>\n",
       "      <td>30.96</td>\n",
       "    </tr>\n",
       "    <tr>\n",
       "      <th>PC</th>\n",
       "      <td>25.36</td>\n",
       "    </tr>\n",
       "    <tr>\n",
       "      <th>WiiU</th>\n",
       "      <td>19.85</td>\n",
       "    </tr>\n",
       "    <tr>\n",
       "      <th>PSV</th>\n",
       "      <td>6.10</td>\n",
       "    </tr>\n",
       "    <tr>\n",
       "      <th>Wii</th>\n",
       "      <td>5.93</td>\n",
       "    </tr>\n",
       "    <tr>\n",
       "      <th>DS</th>\n",
       "      <td>0.85</td>\n",
       "    </tr>\n",
       "    <tr>\n",
       "      <th>PSP</th>\n",
       "      <td>0.17</td>\n",
       "    </tr>\n",
       "  </tbody>\n",
       "</table>\n",
       "</div>"
      ],
      "text/plain": [
       "          eu_sales\n",
       "platform          \n",
       "PS4         141.09\n",
       "PS3          67.81\n",
       "XOne         51.59\n",
       "X360         42.52\n",
       "3DS          30.96\n",
       "PC           25.36\n",
       "WiiU         19.85\n",
       "PSV           6.10\n",
       "Wii           5.93\n",
       "DS            0.85\n",
       "PSP           0.17"
      ]
     },
     "metadata": {},
     "output_type": "display_data"
    }
   ],
   "source": [
    "actual_game_eu_sales =  pd.pivot_table(actual_game, index='platform', values='eu_sales',aggfunc='sum').sort_values('eu_sales', ascending = False)\n",
    "\n",
    "display(actual_game_eu_sales)"
   ]
  },
  {
   "cell_type": "code",
   "execution_count": 38,
   "metadata": {},
   "outputs": [
    {
     "data": {
      "text/html": [
       "<div>\n",
       "<style scoped>\n",
       "    .dataframe tbody tr th:only-of-type {\n",
       "        vertical-align: middle;\n",
       "    }\n",
       "\n",
       "    .dataframe tbody tr th {\n",
       "        vertical-align: top;\n",
       "    }\n",
       "\n",
       "    .dataframe thead th {\n",
       "        text-align: right;\n",
       "    }\n",
       "</style>\n",
       "<table border=\"1\" class=\"dataframe\">\n",
       "  <thead>\n",
       "    <tr style=\"text-align: right;\">\n",
       "      <th></th>\n",
       "      <th>platform</th>\n",
       "      <th>na_sales</th>\n",
       "    </tr>\n",
       "  </thead>\n",
       "  <tbody>\n",
       "    <tr>\n",
       "      <th>0</th>\n",
       "      <td>PS4</td>\n",
       "      <td>108.74</td>\n",
       "    </tr>\n",
       "    <tr>\n",
       "      <th>1</th>\n",
       "      <td>XOne</td>\n",
       "      <td>93.12</td>\n",
       "    </tr>\n",
       "    <tr>\n",
       "      <th>2</th>\n",
       "      <td>X360</td>\n",
       "      <td>81.66</td>\n",
       "    </tr>\n",
       "    <tr>\n",
       "      <th>3</th>\n",
       "      <td>PS3</td>\n",
       "      <td>63.50</td>\n",
       "    </tr>\n",
       "    <tr>\n",
       "      <th>4</th>\n",
       "      <td>3DS</td>\n",
       "      <td>38.20</td>\n",
       "    </tr>\n",
       "    <tr>\n",
       "      <th>5</th>\n",
       "      <td>WiiU</td>\n",
       "      <td>29.21</td>\n",
       "    </tr>\n",
       "    <tr>\n",
       "      <th>6</th>\n",
       "      <td>PC</td>\n",
       "      <td>11.11</td>\n",
       "    </tr>\n",
       "    <tr>\n",
       "      <th>7</th>\n",
       "      <td>Wii</td>\n",
       "      <td>6.56</td>\n",
       "    </tr>\n",
       "    <tr>\n",
       "      <th>8</th>\n",
       "      <td>PSV</td>\n",
       "      <td>5.04</td>\n",
       "    </tr>\n",
       "    <tr>\n",
       "      <th>9</th>\n",
       "      <td>DS</td>\n",
       "      <td>0.57</td>\n",
       "    </tr>\n",
       "    <tr>\n",
       "      <th>10</th>\n",
       "      <td>PSP</td>\n",
       "      <td>0.00</td>\n",
       "    </tr>\n",
       "  </tbody>\n",
       "</table>\n",
       "</div>"
      ],
      "text/plain": [
       "   platform  na_sales\n",
       "0       PS4    108.74\n",
       "1      XOne     93.12\n",
       "2      X360     81.66\n",
       "3       PS3     63.50\n",
       "4       3DS     38.20\n",
       "5      WiiU     29.21\n",
       "6        PC     11.11\n",
       "7       Wii      6.56\n",
       "8       PSV      5.04\n",
       "9        DS      0.57\n",
       "10      PSP      0.00"
      ]
     },
     "metadata": {},
     "output_type": "display_data"
    },
    {
     "data": {
      "text/plain": [
       "<BarContainer object of 11 artists>"
      ]
     },
     "execution_count": 38,
     "metadata": {},
     "output_type": "execute_result"
    },
    {
     "data": {
      "image/png": "[encoded data removed]",
      "text/plain": [
       "<Figure size 1080x360 with 3 Axes>"
      ]
     },
     "metadata": {
      "needs_background": "light"
     },
     "output_type": "display_data"
    }
   ],
   "source": [
    "\n",
    "fig, axs = plt.subplots(1, 3, figsize=(15, 5))\n",
    "\n",
    "actual_game_na_sales =  pd.pivot_table(actual_game, index='platform', values='na_sales',aggfunc='sum').sort_values('na_sales', ascending=False).reset_index()\n",
    " \n",
    "actual_game_jp_sales =  pd.pivot_table(actual_game, index='platform', values='jp_sales',aggfunc='sum').sort_values('jp_sales', ascending=False).reset_index()\n",
    " \n",
    "actual_game_eu_sales =  pd.pivot_table(actual_game, index='platform', values='eu_sales',aggfunc='sum').sort_values('eu_sales', ascending = False).reset_index()\n",
    "\n",
    "display(actual_game_na_sales)\n",
    "axs[0].bar(actual_game_na_sales['platform'], actual_game_na_sales['na_sales'])\n",
    "axs[1].bar(actual_game_jp_sales['platform'], actual_game_jp_sales['jp_sales'])\n",
    "axs[2].bar(actual_game_eu_sales['platform'], actual_game_eu_sales['eu_sales'])\n",
    "\n"
   ]
  },
  {
   "cell_type": "markdown",
   "metadata": {},
   "source": [
    "Вывод:\n",
    "    Самые популярные платформы (топ-5) среди регионов:\n",
    "        Америка:PS4, XOne,X360, PS3,3DS\n",
    "        Европейский рынок:PS4, PS3, XOne,X360,3DS\n",
    "        Япония:3DS, PS3, PSV, PS4,WiiU\n",
    "Разница между регионами в предпочтении платформ обусловлено прежде всего масштабом присутствия той или иной компании в регионе и родиной самой компании-производителя. Самые известные платформы принадлежащие компании Sony популярны на всех континентах, так как сама компания Sony общепризнаный мировой бренд. \n",
    "на втром месте по узнаваемости идет платформа XOne компании Microsoft,она наиболее популярна в стране производителя -США. Платформа 3DS - Японского производителя Nintendo, логично, что наибольшую популярность платформа достигла в Японии.\n",
    "Так же важно ометить, что платформы PS одни из самых старых, первые PS появились в 1994 году, за многие годы компания Sony добилась мирового признания.\n",
    "По американскому рынку видно , что разница в продажах  между платформами Sony и Microsoft незначительная, скорее данные производители составляют другу серьезную конкуренцию.Европейский рынок в этом отношении достаточно спокоен, в нем нет крупных локальных производителей, поэтому они чаще всего выбирают платформу мирового бренда Sony, несколько десятилетий зарекомендовавшего себя на рынке."
   ]
  },
  {
   "cell_type": "code",
   "execution_count": 39,
   "metadata": {},
   "outputs": [
    {
     "data": {
      "text/html": [
       "<div>\n",
       "<style scoped>\n",
       "    .dataframe tbody tr th:only-of-type {\n",
       "        vertical-align: middle;\n",
       "    }\n",
       "\n",
       "    .dataframe tbody tr th {\n",
       "        vertical-align: top;\n",
       "    }\n",
       "\n",
       "    .dataframe thead th {\n",
       "        text-align: right;\n",
       "    }\n",
       "</style>\n",
       "<table border=\"1\" class=\"dataframe\">\n",
       "  <thead>\n",
       "    <tr style=\"text-align: right;\">\n",
       "      <th></th>\n",
       "      <th>na_sales</th>\n",
       "    </tr>\n",
       "    <tr>\n",
       "      <th>genre</th>\n",
       "      <th></th>\n",
       "    </tr>\n",
       "  </thead>\n",
       "  <tbody>\n",
       "    <tr>\n",
       "      <th>Action</th>\n",
       "      <td>126.05</td>\n",
       "    </tr>\n",
       "    <tr>\n",
       "      <th>Shooter</th>\n",
       "      <td>109.74</td>\n",
       "    </tr>\n",
       "    <tr>\n",
       "      <th>Sports</th>\n",
       "      <td>65.27</td>\n",
       "    </tr>\n",
       "    <tr>\n",
       "      <th>Role-Playing</th>\n",
       "      <td>46.40</td>\n",
       "    </tr>\n",
       "    <tr>\n",
       "      <th>Misc</th>\n",
       "      <td>27.49</td>\n",
       "    </tr>\n",
       "    <tr>\n",
       "      <th>Platform</th>\n",
       "      <td>18.14</td>\n",
       "    </tr>\n",
       "    <tr>\n",
       "      <th>Fighting</th>\n",
       "      <td>15.55</td>\n",
       "    </tr>\n",
       "    <tr>\n",
       "      <th>Racing</th>\n",
       "      <td>12.96</td>\n",
       "    </tr>\n",
       "    <tr>\n",
       "      <th>Adventure</th>\n",
       "      <td>7.14</td>\n",
       "    </tr>\n",
       "    <tr>\n",
       "      <th>Simulation</th>\n",
       "      <td>4.86</td>\n",
       "    </tr>\n",
       "    <tr>\n",
       "      <th>Strategy</th>\n",
       "      <td>3.28</td>\n",
       "    </tr>\n",
       "    <tr>\n",
       "      <th>Puzzle</th>\n",
       "      <td>0.83</td>\n",
       "    </tr>\n",
       "  </tbody>\n",
       "</table>\n",
       "</div>"
      ],
      "text/plain": [
       "              na_sales\n",
       "genre                 \n",
       "Action          126.05\n",
       "Shooter         109.74\n",
       "Sports           65.27\n",
       "Role-Playing     46.40\n",
       "Misc             27.49\n",
       "Platform         18.14\n",
       "Fighting         15.55\n",
       "Racing           12.96\n",
       "Adventure         7.14\n",
       "Simulation        4.86\n",
       "Strategy          3.28\n",
       "Puzzle            0.83"
      ]
     },
     "metadata": {},
     "output_type": "display_data"
    }
   ],
   "source": [
    "actual_game_na_genre =  pd.pivot_table(actual_game, index='genre', values='na_sales',aggfunc='sum').sort_values('na_sales', ascending=False)\n",
    "display(actual_game_na_genre) # выводим данные по самым популярным жанрам в каждом регионе"
   ]
  },
  {
   "cell_type": "code",
   "execution_count": 40,
   "metadata": {},
   "outputs": [
    {
     "data": {
      "text/html": [
       "<div>\n",
       "<style scoped>\n",
       "    .dataframe tbody tr th:only-of-type {\n",
       "        vertical-align: middle;\n",
       "    }\n",
       "\n",
       "    .dataframe tbody tr th {\n",
       "        vertical-align: top;\n",
       "    }\n",
       "\n",
       "    .dataframe thead th {\n",
       "        text-align: right;\n",
       "    }\n",
       "</style>\n",
       "<table border=\"1\" class=\"dataframe\">\n",
       "  <thead>\n",
       "    <tr style=\"text-align: right;\">\n",
       "      <th></th>\n",
       "      <th>eu_sales</th>\n",
       "    </tr>\n",
       "    <tr>\n",
       "      <th>genre</th>\n",
       "      <th></th>\n",
       "    </tr>\n",
       "  </thead>\n",
       "  <tbody>\n",
       "    <tr>\n",
       "      <th>Action</th>\n",
       "      <td>118.13</td>\n",
       "    </tr>\n",
       "    <tr>\n",
       "      <th>Shooter</th>\n",
       "      <td>87.86</td>\n",
       "    </tr>\n",
       "    <tr>\n",
       "      <th>Sports</th>\n",
       "      <td>60.52</td>\n",
       "    </tr>\n",
       "    <tr>\n",
       "      <th>Role-Playing</th>\n",
       "      <td>36.97</td>\n",
       "    </tr>\n",
       "    <tr>\n",
       "      <th>Racing</th>\n",
       "      <td>20.19</td>\n",
       "    </tr>\n",
       "    <tr>\n",
       "      <th>Misc</th>\n",
       "      <td>20.04</td>\n",
       "    </tr>\n",
       "    <tr>\n",
       "      <th>Platform</th>\n",
       "      <td>15.58</td>\n",
       "    </tr>\n",
       "    <tr>\n",
       "      <th>Simulation</th>\n",
       "      <td>10.92</td>\n",
       "    </tr>\n",
       "    <tr>\n",
       "      <th>Fighting</th>\n",
       "      <td>8.55</td>\n",
       "    </tr>\n",
       "    <tr>\n",
       "      <th>Adventure</th>\n",
       "      <td>8.25</td>\n",
       "    </tr>\n",
       "    <tr>\n",
       "      <th>Strategy</th>\n",
       "      <td>4.22</td>\n",
       "    </tr>\n",
       "    <tr>\n",
       "      <th>Puzzle</th>\n",
       "      <td>1.00</td>\n",
       "    </tr>\n",
       "  </tbody>\n",
       "</table>\n",
       "</div>"
      ],
      "text/plain": [
       "              eu_sales\n",
       "genre                 \n",
       "Action          118.13\n",
       "Shooter          87.86\n",
       "Sports           60.52\n",
       "Role-Playing     36.97\n",
       "Racing           20.19\n",
       "Misc             20.04\n",
       "Platform         15.58\n",
       "Simulation       10.92\n",
       "Fighting          8.55\n",
       "Adventure         8.25\n",
       "Strategy          4.22\n",
       "Puzzle            1.00"
      ]
     },
     "metadata": {},
     "output_type": "display_data"
    }
   ],
   "source": [
    "actual_game_eu_genre =  pd.pivot_table(actual_game, index='genre', values='eu_sales',aggfunc='sum').sort_values('eu_sales', ascending=False)\n",
    "display(actual_game_eu_genre) "
   ]
  },
  {
   "cell_type": "code",
   "execution_count": 41,
   "metadata": {},
   "outputs": [
    {
     "data": {
      "text/html": [
       "<div>\n",
       "<style scoped>\n",
       "    .dataframe tbody tr th:only-of-type {\n",
       "        vertical-align: middle;\n",
       "    }\n",
       "\n",
       "    .dataframe tbody tr th {\n",
       "        vertical-align: top;\n",
       "    }\n",
       "\n",
       "    .dataframe thead th {\n",
       "        text-align: right;\n",
       "    }\n",
       "</style>\n",
       "<table border=\"1\" class=\"dataframe\">\n",
       "  <thead>\n",
       "    <tr style=\"text-align: right;\">\n",
       "      <th></th>\n",
       "      <th>jp_sales</th>\n",
       "    </tr>\n",
       "    <tr>\n",
       "      <th>genre</th>\n",
       "      <th></th>\n",
       "    </tr>\n",
       "  </thead>\n",
       "  <tbody>\n",
       "    <tr>\n",
       "      <th>Role-Playing</th>\n",
       "      <td>51.04</td>\n",
       "    </tr>\n",
       "    <tr>\n",
       "      <th>Action</th>\n",
       "      <td>40.49</td>\n",
       "    </tr>\n",
       "    <tr>\n",
       "      <th>Misc</th>\n",
       "      <td>9.20</td>\n",
       "    </tr>\n",
       "    <tr>\n",
       "      <th>Fighting</th>\n",
       "      <td>7.65</td>\n",
       "    </tr>\n",
       "    <tr>\n",
       "      <th>Shooter</th>\n",
       "      <td>6.61</td>\n",
       "    </tr>\n",
       "    <tr>\n",
       "      <th>Adventure</th>\n",
       "      <td>5.82</td>\n",
       "    </tr>\n",
       "    <tr>\n",
       "      <th>Sports</th>\n",
       "      <td>5.41</td>\n",
       "    </tr>\n",
       "    <tr>\n",
       "      <th>Platform</th>\n",
       "      <td>4.79</td>\n",
       "    </tr>\n",
       "    <tr>\n",
       "      <th>Simulation</th>\n",
       "      <td>4.52</td>\n",
       "    </tr>\n",
       "    <tr>\n",
       "      <th>Racing</th>\n",
       "      <td>2.30</td>\n",
       "    </tr>\n",
       "    <tr>\n",
       "      <th>Strategy</th>\n",
       "      <td>1.77</td>\n",
       "    </tr>\n",
       "    <tr>\n",
       "      <th>Puzzle</th>\n",
       "      <td>1.18</td>\n",
       "    </tr>\n",
       "  </tbody>\n",
       "</table>\n",
       "</div>"
      ],
      "text/plain": [
       "              jp_sales\n",
       "genre                 \n",
       "Role-Playing     51.04\n",
       "Action           40.49\n",
       "Misc              9.20\n",
       "Fighting          7.65\n",
       "Shooter           6.61\n",
       "Adventure         5.82\n",
       "Sports            5.41\n",
       "Platform          4.79\n",
       "Simulation        4.52\n",
       "Racing            2.30\n",
       "Strategy          1.77\n",
       "Puzzle            1.18"
      ]
     },
     "metadata": {},
     "output_type": "display_data"
    }
   ],
   "source": [
    "actual_game_jp_genre =  pd.pivot_table(actual_game, index='genre', values='jp_sales',aggfunc='sum').sort_values('jp_sales', ascending=False)\n",
    "display(actual_game_jp_genre) "
   ]
  },
  {
   "cell_type": "code",
   "execution_count": 42,
   "metadata": {},
   "outputs": [
    {
     "data": {
      "text/html": [
       "<div>\n",
       "<style scoped>\n",
       "    .dataframe tbody tr th:only-of-type {\n",
       "        vertical-align: middle;\n",
       "    }\n",
       "\n",
       "    .dataframe tbody tr th {\n",
       "        vertical-align: top;\n",
       "    }\n",
       "\n",
       "    .dataframe thead th {\n",
       "        text-align: right;\n",
       "    }\n",
       "</style>\n",
       "<table border=\"1\" class=\"dataframe\">\n",
       "  <thead>\n",
       "    <tr style=\"text-align: right;\">\n",
       "      <th></th>\n",
       "      <th>genre</th>\n",
       "      <th>na_sales</th>\n",
       "    </tr>\n",
       "  </thead>\n",
       "  <tbody>\n",
       "    <tr>\n",
       "      <th>0</th>\n",
       "      <td>Action</td>\n",
       "      <td>126.05</td>\n",
       "    </tr>\n",
       "    <tr>\n",
       "      <th>1</th>\n",
       "      <td>Shooter</td>\n",
       "      <td>109.74</td>\n",
       "    </tr>\n",
       "    <tr>\n",
       "      <th>2</th>\n",
       "      <td>Sports</td>\n",
       "      <td>65.27</td>\n",
       "    </tr>\n",
       "    <tr>\n",
       "      <th>3</th>\n",
       "      <td>Role-Playing</td>\n",
       "      <td>46.40</td>\n",
       "    </tr>\n",
       "    <tr>\n",
       "      <th>4</th>\n",
       "      <td>Misc</td>\n",
       "      <td>27.49</td>\n",
       "    </tr>\n",
       "    <tr>\n",
       "      <th>5</th>\n",
       "      <td>Platform</td>\n",
       "      <td>18.14</td>\n",
       "    </tr>\n",
       "    <tr>\n",
       "      <th>6</th>\n",
       "      <td>Fighting</td>\n",
       "      <td>15.55</td>\n",
       "    </tr>\n",
       "    <tr>\n",
       "      <th>7</th>\n",
       "      <td>Racing</td>\n",
       "      <td>12.96</td>\n",
       "    </tr>\n",
       "    <tr>\n",
       "      <th>8</th>\n",
       "      <td>Adventure</td>\n",
       "      <td>7.14</td>\n",
       "    </tr>\n",
       "    <tr>\n",
       "      <th>9</th>\n",
       "      <td>Simulation</td>\n",
       "      <td>4.86</td>\n",
       "    </tr>\n",
       "    <tr>\n",
       "      <th>10</th>\n",
       "      <td>Strategy</td>\n",
       "      <td>3.28</td>\n",
       "    </tr>\n",
       "    <tr>\n",
       "      <th>11</th>\n",
       "      <td>Puzzle</td>\n",
       "      <td>0.83</td>\n",
       "    </tr>\n",
       "  </tbody>\n",
       "</table>\n",
       "</div>"
      ],
      "text/plain": [
       "           genre  na_sales\n",
       "0         Action    126.05\n",
       "1        Shooter    109.74\n",
       "2         Sports     65.27\n",
       "3   Role-Playing     46.40\n",
       "4           Misc     27.49\n",
       "5       Platform     18.14\n",
       "6       Fighting     15.55\n",
       "7         Racing     12.96\n",
       "8      Adventure      7.14\n",
       "9     Simulation      4.86\n",
       "10      Strategy      3.28\n",
       "11        Puzzle      0.83"
      ]
     },
     "metadata": {},
     "output_type": "display_data"
    },
    {
     "data": {
      "text/plain": [
       "<BarContainer object of 12 artists>"
      ]
     },
     "execution_count": 42,
     "metadata": {},
     "output_type": "execute_result"
    },
    {
     "data": {
      "image/png": "[encoded data removed]",
      "text/plain": [
       "<Figure size 2160x360 with 3 Axes>"
      ]
     },
     "metadata": {
      "needs_background": "light"
     },
     "output_type": "display_data"
    }
   ],
   "source": [
    "fig, axs = plt.subplots(1, 3, figsize=(30, 5))\n",
    "\n",
    "actual_game_na_genre =  pd.pivot_table(actual_game, index='genre', values='na_sales',aggfunc='sum').sort_values('na_sales', ascending=False).reset_index()\n",
    " \n",
    "actual_game_eu_genre =  pd.pivot_table(actual_game, index='genre', values='eu_sales',aggfunc='sum').sort_values('eu_sales', ascending=False).reset_index()\n",
    " \n",
    "actual_game_jp_genre =  pd.pivot_table(actual_game, index='genre', values='jp_sales',aggfunc='sum').sort_values('jp_sales', ascending = False).reset_index()\n",
    "\n",
    "display(actual_game_na_genre)\n",
    "\n",
    "axs[0].bar(actual_game_na_genre['genre'], actual_game_na_genre['na_sales'])\n",
    "axs[1].bar(actual_game_jp_genre['genre'], actual_game_jp_genre['jp_sales'])\n",
    "axs[2].bar(actual_game_eu_genre['genre'], actual_game_eu_genre['eu_sales'])\n",
    "\n"
   ]
  },
  {
   "cell_type": "markdown",
   "metadata": {},
   "source": [
    "Вывод: по американскому и европейскому самые популярные жанры являются одинаковыми :Action, Shooter, sports, role-playing,racing или misc. При этом, даже объемы продаж в каждом жанре примерно одинаковы по двум регионам. Японская аудиттория предпочитает игры следующих жанров: role-playing, action,misc,fighting. \n",
    "            Значительное отличие от западных игроков обусловлено прежде всего культурой региона, японскую аудиторию больше привлекают игры с более сложным сюжетом, сюжет заточен создания чего-либо. Однако, можно отметить что жанр action популярен в каждом регионе"
   ]
  },
  {
   "cell_type": "code",
   "execution_count": 43,
   "metadata": {},
   "outputs": [
    {
     "data": {
      "text/html": [
       "<div>\n",
       "<style scoped>\n",
       "    .dataframe tbody tr th:only-of-type {\n",
       "        vertical-align: middle;\n",
       "    }\n",
       "\n",
       "    .dataframe tbody tr th {\n",
       "        vertical-align: top;\n",
       "    }\n",
       "\n",
       "    .dataframe thead th {\n",
       "        text-align: right;\n",
       "    }\n",
       "</style>\n",
       "<table border=\"1\" class=\"dataframe\">\n",
       "  <thead>\n",
       "    <tr style=\"text-align: right;\">\n",
       "      <th></th>\n",
       "      <th>na_sales</th>\n",
       "    </tr>\n",
       "    <tr>\n",
       "      <th>rating</th>\n",
       "      <th></th>\n",
       "    </tr>\n",
       "  </thead>\n",
       "  <tbody>\n",
       "    <tr>\n",
       "      <th>M</th>\n",
       "      <td>165.21</td>\n",
       "    </tr>\n",
       "    <tr>\n",
       "      <th></th>\n",
       "      <td>89.42</td>\n",
       "    </tr>\n",
       "    <tr>\n",
       "      <th>E</th>\n",
       "      <td>79.05</td>\n",
       "    </tr>\n",
       "    <tr>\n",
       "      <th>E10+</th>\n",
       "      <td>54.24</td>\n",
       "    </tr>\n",
       "    <tr>\n",
       "      <th>T</th>\n",
       "      <td>49.79</td>\n",
       "    </tr>\n",
       "  </tbody>\n",
       "</table>\n",
       "</div>"
      ],
      "text/plain": [
       "        na_sales\n",
       "rating          \n",
       "M         165.21\n",
       "           89.42\n",
       "E          79.05\n",
       "E10+       54.24\n",
       "T          49.79"
      ]
     },
     "metadata": {},
     "output_type": "display_data"
    }
   ],
   "source": [
    "#посмотрим влияние рейтинга на продажи по каждои=му региону\n",
    "na_rating_actual_game = pd.pivot_table(actual_game, index='rating', values='na_sales',aggfunc='sum').sort_values('na_sales', ascending=False)\n",
    "display(na_rating_actual_game)"
   ]
  },
  {
   "cell_type": "code",
   "execution_count": 44,
   "metadata": {},
   "outputs": [
    {
     "data": {
      "text/html": [
       "<div>\n",
       "<style scoped>\n",
       "    .dataframe tbody tr th:only-of-type {\n",
       "        vertical-align: middle;\n",
       "    }\n",
       "\n",
       "    .dataframe tbody tr th {\n",
       "        vertical-align: top;\n",
       "    }\n",
       "\n",
       "    .dataframe thead th {\n",
       "        text-align: right;\n",
       "    }\n",
       "</style>\n",
       "<table border=\"1\" class=\"dataframe\">\n",
       "  <thead>\n",
       "    <tr style=\"text-align: right;\">\n",
       "      <th></th>\n",
       "      <th>eu_sales</th>\n",
       "    </tr>\n",
       "    <tr>\n",
       "      <th>rating</th>\n",
       "      <th></th>\n",
       "    </tr>\n",
       "  </thead>\n",
       "  <tbody>\n",
       "    <tr>\n",
       "      <th>M</th>\n",
       "      <td>145.32</td>\n",
       "    </tr>\n",
       "    <tr>\n",
       "      <th>E</th>\n",
       "      <td>83.36</td>\n",
       "    </tr>\n",
       "    <tr>\n",
       "      <th></th>\n",
       "      <td>78.91</td>\n",
       "    </tr>\n",
       "    <tr>\n",
       "      <th>E10+</th>\n",
       "      <td>42.69</td>\n",
       "    </tr>\n",
       "    <tr>\n",
       "      <th>T</th>\n",
       "      <td>41.95</td>\n",
       "    </tr>\n",
       "  </tbody>\n",
       "</table>\n",
       "</div>"
      ],
      "text/plain": [
       "        eu_sales\n",
       "rating          \n",
       "M         145.32\n",
       "E          83.36\n",
       "           78.91\n",
       "E10+       42.69\n",
       "T          41.95"
      ]
     },
     "metadata": {},
     "output_type": "display_data"
    }
   ],
   "source": [
    "eu_rating_actual_game = pd.pivot_table(actual_game, index='rating', values='eu_sales',aggfunc='sum').sort_values('eu_sales', ascending=False)\n",
    "display(eu_rating_actual_game)"
   ]
  },
  {
   "cell_type": "code",
   "execution_count": 45,
   "metadata": {},
   "outputs": [
    {
     "data": {
      "text/html": [
       "<div>\n",
       "<style scoped>\n",
       "    .dataframe tbody tr th:only-of-type {\n",
       "        vertical-align: middle;\n",
       "    }\n",
       "\n",
       "    .dataframe tbody tr th {\n",
       "        vertical-align: top;\n",
       "    }\n",
       "\n",
       "    .dataframe thead th {\n",
       "        text-align: right;\n",
       "    }\n",
       "</style>\n",
       "<table border=\"1\" class=\"dataframe\">\n",
       "  <thead>\n",
       "    <tr style=\"text-align: right;\">\n",
       "      <th></th>\n",
       "      <th>jp_sales</th>\n",
       "    </tr>\n",
       "    <tr>\n",
       "      <th>rating</th>\n",
       "      <th></th>\n",
       "    </tr>\n",
       "  </thead>\n",
       "  <tbody>\n",
       "    <tr>\n",
       "      <th></th>\n",
       "      <td>85.05</td>\n",
       "    </tr>\n",
       "    <tr>\n",
       "      <th>T</th>\n",
       "      <td>20.59</td>\n",
       "    </tr>\n",
       "    <tr>\n",
       "      <th>E</th>\n",
       "      <td>15.14</td>\n",
       "    </tr>\n",
       "    <tr>\n",
       "      <th>M</th>\n",
       "      <td>14.11</td>\n",
       "    </tr>\n",
       "    <tr>\n",
       "      <th>E10+</th>\n",
       "      <td>5.89</td>\n",
       "    </tr>\n",
       "  </tbody>\n",
       "</table>\n",
       "</div>"
      ],
      "text/plain": [
       "        jp_sales\n",
       "rating          \n",
       "           85.05\n",
       "T          20.59\n",
       "E          15.14\n",
       "M          14.11\n",
       "E10+        5.89"
      ]
     },
     "metadata": {},
     "output_type": "display_data"
    },
    {
     "data": {
      "text/html": [
       "<div>\n",
       "<style scoped>\n",
       "    .dataframe tbody tr th:only-of-type {\n",
       "        vertical-align: middle;\n",
       "    }\n",
       "\n",
       "    .dataframe tbody tr th {\n",
       "        vertical-align: top;\n",
       "    }\n",
       "\n",
       "    .dataframe thead th {\n",
       "        text-align: right;\n",
       "    }\n",
       "</style>\n",
       "<table border=\"1\" class=\"dataframe\">\n",
       "  <thead>\n",
       "    <tr style=\"text-align: right;\">\n",
       "      <th></th>\n",
       "      <th>eu_sales</th>\n",
       "      <th>jp_sales</th>\n",
       "      <th>na_sales</th>\n",
       "    </tr>\n",
       "    <tr>\n",
       "      <th>rating</th>\n",
       "      <th></th>\n",
       "      <th></th>\n",
       "      <th></th>\n",
       "    </tr>\n",
       "  </thead>\n",
       "  <tbody>\n",
       "    <tr>\n",
       "      <th></th>\n",
       "      <td>78.91</td>\n",
       "      <td>85.05</td>\n",
       "      <td>89.42</td>\n",
       "    </tr>\n",
       "    <tr>\n",
       "      <th>E</th>\n",
       "      <td>83.36</td>\n",
       "      <td>15.14</td>\n",
       "      <td>79.05</td>\n",
       "    </tr>\n",
       "    <tr>\n",
       "      <th>E10+</th>\n",
       "      <td>42.69</td>\n",
       "      <td>5.89</td>\n",
       "      <td>54.24</td>\n",
       "    </tr>\n",
       "    <tr>\n",
       "      <th>M</th>\n",
       "      <td>145.32</td>\n",
       "      <td>14.11</td>\n",
       "      <td>165.21</td>\n",
       "    </tr>\n",
       "    <tr>\n",
       "      <th>T</th>\n",
       "      <td>41.95</td>\n",
       "      <td>20.59</td>\n",
       "      <td>49.79</td>\n",
       "    </tr>\n",
       "  </tbody>\n",
       "</table>\n",
       "</div>"
      ],
      "text/plain": [
       "        eu_sales  jp_sales  na_sales\n",
       "rating                              \n",
       "           78.91     85.05     89.42\n",
       "E          83.36     15.14     79.05\n",
       "E10+       42.69      5.89     54.24\n",
       "M         145.32     14.11    165.21\n",
       "T          41.95     20.59     49.79"
      ]
     },
     "execution_count": 45,
     "metadata": {},
     "output_type": "execute_result"
    }
   ],
   "source": [
    "jp_rating_actual_game = pd.pivot_table(actual_game, index='rating', values='jp_sales',aggfunc='sum').sort_values('jp_sales', ascending=False)\n",
    "display(jp_rating_actual_game)\n",
    "\n",
    "ESRB = actual_game.pivot_table(index = 'rating', values = ['eu_sales','jp_sales','na_sales'], aggfunc = 'sum')\n",
    "ESRB"
   ]
  },
  {
   "cell_type": "code",
   "execution_count": 46,
   "metadata": {},
   "outputs": [
    {
     "data": {
      "text/plain": [
       "<AxesSubplot:ylabel='sum'>"
      ]
     },
     "execution_count": 46,
     "metadata": {},
     "output_type": "execute_result"
    },
    {
     "data": {
      "image/png": "[encoded data removed]",
      "text/plain": [
       "<Figure size 576x576 with 1 Axes>"
      ]
     },
     "metadata": {},
     "output_type": "display_data"
    }
   ],
   "source": [
    "jp_rating_actual_game.columns = ['sum']\n",
    "jp_rating_actual_game.plot(y = 'sum', kind = 'pie', figsize = (8,8))"
   ]
  },
  {
   "cell_type": "code",
   "execution_count": 47,
   "metadata": {},
   "outputs": [
    {
     "data": {
      "text/plain": [
       "<AxesSubplot:ylabel='sum'>"
      ]
     },
     "execution_count": 47,
     "metadata": {},
     "output_type": "execute_result"
    },
    {
     "data": {
      "image/png": "[encoded data removed]",
      "text/plain": [
       "<Figure size 576x576 with 1 Axes>"
      ]
     },
     "metadata": {},
     "output_type": "display_data"
    }
   ],
   "source": [
    "eu_rating_actual_game.columns = ['sum']\n",
    "eu_rating_actual_game.plot(y = 'sum', kind = 'pie', figsize = (8,8))"
   ]
  },
  {
   "cell_type": "code",
   "execution_count": 48,
   "metadata": {},
   "outputs": [
    {
     "data": {
      "text/plain": [
       "<AxesSubplot:ylabel='sum'>"
      ]
     },
     "execution_count": 48,
     "metadata": {},
     "output_type": "execute_result"
    },
    {
     "data": {
      "image/png": "[encoded data removed]",
      "text/plain": [
       "<Figure size 576x576 with 1 Axes>"
      ]
     },
     "metadata": {},
     "output_type": "display_data"
    }
   ],
   "source": [
    "na_rating_actual_game.columns = ['sum']\n",
    "na_rating_actual_game.plot(y = 'sum', kind = 'pie', figsize = (8,8))\n"
   ]
  },
  {
   "cell_type": "code",
   "execution_count": 49,
   "metadata": {},
   "outputs": [
    {
     "data": {
      "text/html": [
       "<div>\n",
       "<style scoped>\n",
       "    .dataframe tbody tr th:only-of-type {\n",
       "        vertical-align: middle;\n",
       "    }\n",
       "\n",
       "    .dataframe tbody tr th {\n",
       "        vertical-align: top;\n",
       "    }\n",
       "\n",
       "    .dataframe thead th {\n",
       "        text-align: right;\n",
       "    }\n",
       "</style>\n",
       "<table border=\"1\" class=\"dataframe\">\n",
       "  <thead>\n",
       "    <tr style=\"text-align: right;\">\n",
       "      <th></th>\n",
       "      <th>rating</th>\n",
       "      <th>jp_sales</th>\n",
       "    </tr>\n",
       "  </thead>\n",
       "  <tbody>\n",
       "    <tr>\n",
       "      <th>0</th>\n",
       "      <td></td>\n",
       "      <td>85.05</td>\n",
       "    </tr>\n",
       "    <tr>\n",
       "      <th>1</th>\n",
       "      <td>T</td>\n",
       "      <td>20.59</td>\n",
       "    </tr>\n",
       "    <tr>\n",
       "      <th>2</th>\n",
       "      <td>E</td>\n",
       "      <td>15.14</td>\n",
       "    </tr>\n",
       "    <tr>\n",
       "      <th>3</th>\n",
       "      <td>M</td>\n",
       "      <td>14.11</td>\n",
       "    </tr>\n",
       "    <tr>\n",
       "      <th>4</th>\n",
       "      <td>E10+</td>\n",
       "      <td>5.89</td>\n",
       "    </tr>\n",
       "  </tbody>\n",
       "</table>\n",
       "</div>"
      ],
      "text/plain": [
       "  rating  jp_sales\n",
       "0            85.05\n",
       "1      T     20.59\n",
       "2      E     15.14\n",
       "3      M     14.11\n",
       "4   E10+      5.89"
      ]
     },
     "metadata": {},
     "output_type": "display_data"
    },
    {
     "data": {
      "text/plain": [
       "([<matplotlib.patches.Wedge at 0x7f85f57405e0>,\n",
       "  <matplotlib.patches.Wedge at 0x7f85f5740ac0>,\n",
       "  <matplotlib.patches.Wedge at 0x7f85f5740f40>,\n",
       "  <matplotlib.patches.Wedge at 0x7f85f5755400>,\n",
       "  <matplotlib.patches.Wedge at 0x7f85f5755880>],\n",
       " [Text(0.4131438418447951, 1.019466608548668, 'M'),\n",
       "  Text(-1.0909647035351955, 0.14069831427690727, ''),\n",
       "  Text(-0.5175808243265353, -0.9706235574564757, 'E'),\n",
       "  Text(0.49501278181476677, -0.9823249695696462, 'E10+'),\n",
       "  Text(1.030506132700097, -0.38478189986990013, 'T')])"
      ]
     },
     "execution_count": 49,
     "metadata": {},
     "output_type": "execute_result"
    },
    {
     "data": {
      "image/png": "[encoded data removed]",
      "text/plain": [
       "<Figure size 1080x360 with 3 Axes>"
      ]
     },
     "metadata": {},
     "output_type": "display_data"
    }
   ],
   "source": [
    "fig, axs = plt.subplots(1, 3, figsize=(15, 5))\n",
    "fig.suptitle('Самые популярные рейтинги в регионах')\n",
    "\n",
    "jp_rating_actual_game = pd.pivot_table(actual_game, index='rating', values='jp_sales',aggfunc='sum').sort_values('jp_sales', ascending=False).reset_index()\n",
    "na_rating_actual_game = pd.pivot_table(actual_game, index='rating', values='na_sales',aggfunc='sum').sort_values('na_sales', ascending=False).reset_index()\n",
    "eu_rating_actual_game = pd.pivot_table(actual_game, index='rating', values='eu_sales',aggfunc='sum').sort_values('eu_sales', ascending=False).reset_index()\n",
    "\n",
    "display(jp_rating_actual_game)\n",
    "\n",
    "axs[0].pie(jp_rating_actual_game['jp_sales'], labels = jp_rating_actual_game ['rating'])\n",
    "\n",
    "\n",
    "axs[1].pie(eu_rating_actual_game['eu_sales'], labels = eu_rating_actual_game ['rating'])\n",
    "\n",
    "\n",
    "axs[2].pie(na_rating_actual_game['na_sales'], labels = na_rating_actual_game ['rating'])\n",
    "\n"
   ]
  },
  {
   "cell_type": "markdown",
   "metadata": {},
   "source": [
    "Вывод:\n",
    "    Говоря о поппулярности игр в соответсиви с рейтингом ESRB важно отметить, что на американком и европейском рынках самыми популярными являются игры для взрослых -M 'Mature', на втором месте по популярности расположены игры для всех категорий игроков - универсальные. \n",
    "    Японский рынок координально отличается от американского и европейского, большую долю популярных игр занимают игры без рейтинга. Учитывая, что рейтинг ERSB присваивается американскими компаниями, то скорее всего игры без рейтинга-это те игры, которые произведены именно в Японии.В Японии есть своя система оценивания - CERO. Популярность игр без рейтинга говорит о том, что все-таки японцы предпочитают именно локальный продукт, то есть там он особенным обрузом популеризируется.\n",
    "    \n"
   ]
  },
  {
   "cell_type": "markdown",
   "metadata": {},
   "source": [
    "# Итоговый вываод по 4-му шагу\n"
   ]
  },
  {
   "cell_type": "markdown",
   "metadata": {},
   "source": [
    "Проанализировав данные по регионам можно сформировать портрет игроков для каждого региона:\n",
    "    1.американский игрок возраста 18+ предпочитает платформы разрабодчиков Microsoft и Sony, игры в рамках домашней обстановки Самыми привлекательными жанрами ждля него являются жанры Action и Shooter.\n",
    "\n",
    "    2. европейский игрок возраста 18+, предпочитает платформу PS разработчика Sony, игры в рамках домашней обстановки. Самыми привлекательными жанрами для себя, европейский игрок выбирает жанры Action и Shooter.\n",
    "    3. Японский игрок возраста 14 лет (подросток), предпочитает локальную платформу, произведенную в Японии, самыми привлекательными жанрами для себя выбирает RPG и Action. Скорее всего предпочитает игры в каком-то игровом пространстве, коллективнфе игры."
   ]
  },
  {
   "cell_type": "markdown",
   "metadata": {},
   "source": [
    "# 5.Проверка гипотиз"
   ]
  },
  {
   "cell_type": "markdown",
   "metadata": {},
   "source": [
    "\n",
    "Определим гипотезы H0 и H1:\n",
    "гтпотеза H0: средние пользоватеьские рейтинги платформ XOne и PC равны, \n",
    "гипотеза H1 (альтернативная): средние пользоватеьские рейтинги платформ XOne и PC не равны\n",
    "\n",
    "В данном случае мы будеи проверять равенство средних двух гениральных совокупностей ирг платформ PC и XOne .\n",
    "Так как мы рассматриваем две генеральные сосокупности и будем сравнивать средние значения выборка, взятых из этих ген. совокупностей, то будем использовать метод scipy.stats.ttest_ind "
   ]
  },
  {
   "cell_type": "code",
   "execution_count": 50,
   "metadata": {},
   "outputs": [
    {
     "name": "stdout",
     "output_type": "stream",
     "text": [
      "p-значение: 0.1475959401343032\n",
      "Не получилось отвергнуть нулевую гипотезу\n"
     ]
    }
   ],
   "source": [
    "\n",
    "alpha = 0.01 #критический уровень статистической значимости 1%, если p-value меньше этого значения, то гпотезу отвергаем\n",
    "\n",
    "results = st.ttest_ind(actual_game.query('platform == \"PC\"')['user_score'],\n",
    "    actual_game.query('platform == \"XOne\"')['user_score'], \n",
    "    equal_var = False, nan_policy='omit')\n",
    "\n",
    "print('p-значение:', results.pvalue)\n",
    "\n",
    "if results.pvalue < alpha:\n",
    "    print(\"Отвергаем нулевую гипотезу\")\n",
    "else:\n",
    "    print(\"Не получилось отвергнуть нулевую гипотезу\") "
   ]
  },
  {
   "cell_type": "code",
   "execution_count": 51,
   "metadata": {},
   "outputs": [
    {
     "name": "stdout",
     "output_type": "stream",
     "text": [
      "Средний пользовательский рейтинг платформ XOne 6.521428571428572\n",
      "Средний пользовательский рейтинг платформ PC 6.269677419354839\n"
     ]
    }
   ],
   "source": [
    "#найдем средние рейтинги для каждой платформы вручную.\n",
    "print('Средний пользовательский рейтинг платформ XOne', actual_game.query('platform == \"XOne\"')['user_score'].mean())\n",
    "print('Средний пользовательский рейтинг платформ PC', actual_game.query('platform == \"PC\"')['user_score'].mean())"
   ]
  },
  {
   "cell_type": "markdown",
   "metadata": {},
   "source": [
    "Вывод: действительно рейтинги очень близки по своим значениям, то есть у нас нет оснований полагать, что разница между значениями средних рейтингов является статистически значимой. Вероятность случайно получить такое различие между рейтингами равна 14,7%"
   ]
  },
  {
   "cell_type": "markdown",
   "metadata": {},
   "source": [
    "# Проверяем гипотезу от том, что средние рейтинги жанров Action и Sports не одинаковые"
   ]
  },
  {
   "cell_type": "markdown",
   "metadata": {},
   "source": [
    "Определим гипотезы H0 и H1:\n",
    "гтпотеза H0: средние пользоватеьские рейтинги по жанрам Action и Sports - равны, \n",
    "гипотеза H1 (альтернативная): средние пользоватеьские рейтинги по жанрам Action и Sports не равны\n",
    "\n",
    "В данном случае мы будеи проверять равенство средних двух гениральных совокупностей игр жанров Action и Sports."
   ]
  },
  {
   "cell_type": "code",
   "execution_count": 52,
   "metadata": {},
   "outputs": [
    {
     "name": "stdout",
     "output_type": "stream",
     "text": [
      "p-значение: 1.4460039700703482e-20\n",
      "Отвергаем нулевую гипотезу\n",
      "Средний пользовательский рейтинг жанра Action 6.837532133676093\n",
      "Средний пользовательский рейтинг жанра Sports 5.238124999999999\n"
     ]
    }
   ],
   "source": [
    "alpha = 0.01 #критический уровень статистической значимости 1%, если p-value меньше этого значения, то гпотезу отвергаем\n",
    "results = st.ttest_ind(actual_game.query('genre == \"Action\"')['user_score'],\n",
    "    actual_game.query('genre == \"Sports\"')['user_score'], \n",
    "    equal_var = False, nan_policy='omit')\n",
    "\n",
    "print('p-значение:', results.pvalue)\n",
    "\n",
    "if results.pvalue < alpha:\n",
    "    print(\"Отвергаем нулевую гипотезу\")\n",
    "else:\n",
    "    print(\"Не получилось отвергнуть нулевую гипотезу\") \n",
    "    \n",
    "    \n",
    "print('Средний пользовательский рейтинг жанра Action', actual_game.query('genre == \"Action\"')['user_score'].mean())\n",
    "print('Средний пользовательский рейтинг жанра Sports', actual_game.query('genre == \"Sports\"')['user_score'].mean())  "
   ]
  },
  {
   "cell_type": "markdown",
   "metadata": {},
   "source": [
    "Вывод: Действительно рейтинги являются статистически значимо различными, поэтому гипотезу H0 о равенстве средних рейтингов смело можно отвергнуть."
   ]
  },
  {
   "cell_type": "markdown",
   "metadata": {},
   "source": [
    "# 6. Общий вывод по проекту"
   ]
  },
  {
   "cell_type": "markdown",
   "metadata": {},
   "source": [
    "Была произведена: работа по приведению названий столбцов к нижнему регистру, по приобразованию данных в нужные типы данных. Так же мной была предоставлена информация, почему необходимо было заменить типы данных в некоторых столбцах. \n",
    "Далее были обработаны пропуски данных, там, где это было воозможно. По значению 'tbd' также была проведена необходимая обратока. Был сформирован отедьный столбец с суммарными продажами по всем регионам. \n",
    "\n",
    "Самыми топовыми платформами по объему продаж игр были:\n",
    "\n",
    "PS2,\n",
    "X360,\n",
    "PS3,\n",
    "Wii,\n",
    "DS,\n",
    "PS.\n",
    "\n",
    "Срок существования платформы от 8 до 12 лет.\n",
    "\n",
    "Из проведенного анализа можно сделать вывод, что объем продаж игр зависит от следующих парметров: наименование платформы, жанр игры, рейтинг ESRB:\n",
    "\n",
    "Самыми популярными платформами в мире являются платформы разработчиков - Sony и Microsoft. Популярность той или иной платформы в регионах, кроме силы бренда компании-разрабодчика, в большей степени зависит от того, где эта платформа разрабатывалась. Так для американцев в приоритете платформы, разработанные Microsoft, для европейцев в связи с отсутвием локального разработчика - платформы фирмы Sony, для японцев - локальные платформы типа 3DS.\n",
    "\n",
    "Анализ влияния отзыв игроков и оценки критиков на мировые продажи показал:\n",
    "Оценка зависимости с  точки знения продаж PS4 можно отметить:\n",
    "- в основном, игры с хорошими продажами имеют хорошие оценки игроков и достаточно высокие оценки критиков, при этом говоря о зависимости оценок игроков и уровнем продаж, можно сказать, что есть игры которые имеют высокие продажи, но при этом низкие оценки игроков, поэтому зависимость объема продаж компьютерных игр от оценок игр можно исключить;\n",
    "- зависимость между уровнем продаж и оценкой критиков существует, она положительная, коэффициент корреляции = 0,4\n",
    "- прослеживается существенная зависимость между оценкой игроков и оценкой критиков. Чем выше оценка критика, тем выше оценка игрока конкретной игры. (коэф. корреляции =0.55)\n",
    "\n",
    "Остальные популярные платформы:\n",
    "\n",
    "что касается остальных популярных платформ, то, взаимосвязь между объемом продаж и оценками игроков и критиков похожа на платформц PS4\n",
    "\n",
    "Выделяется платформа 3DS тем что коэф. корреляции между объемом продаж и оценками игроков существенно положительный (0,35). Существует положительная зависимость объема продаж как от оценок игроков, так и оценок критикиво, при этом оценки игроков очень существенно зависят от оценок критиков. Возможно степень вовлеченности игков на данной платформе намного больше: оценки собираются чаще и лучше. Ведется хорошее взаимодействие с играками относительно обратной связи, возможно сами игры достаточно интереснф игракам, данный интерес попуждает давать обратную связть относительно игры больше и лучше.\n",
    "\n",
    "Американские игроки и европейские схожи в соих вкусовых предпочтениях относительно жанров игр. В их регионах одинаково популярны жанры Action и Shooter. Японские игроки предпочитают в большей степени жанр Role-Playing. Однако жанр action популярен в каждом регионе.\n",
    "\n",
    "Самыми продаваемыми играми в америке и европе являются игры для взрослых и игры для любого возраста, японии самыми популярными играми, я вляются игры локального производства, которые не оцениваются рейтингом ERBS (американской рейтинговой системы игр), на втором месте по популярности выступают игры для тинейджеров.\n",
    "\n",
    "Игроки отдают предпочтения платформам, рарабодчики которых достаточно давно присутствуют на рынке. За многие годы присутвия на рынке эти компании собрали свою аудиторию, меено для них они разрабатывают соответсвующие игры , совершентсвуют продукт. Такие компании можно назвать мастодонты индустрии компьютерных игр. \n",
    "\n",
    "\n",
    "Основные принципы для компании на 2017 год:\n",
    "\n",
    "- будут продаваться игры на относительно свежих платформам, таких как PS4, XOne, 3DS\n",
    "- игроки будут покупать игры наиболее полюбившихся жанров , таких как :Action, Shooter, Sports\n",
    "- игры должны учитывать основной возрастной сегмент игроков: наиболее продаваемые игры 18+, либо универсальные, для всех возрастов\n",
    "- игра должны быть максимально адаптирована для нескольких устройств, кроме игровых приставок, также на PC.\n",
    "\n",
    "\n",
    "\n"
   ]
  }
 ],
 "metadata": {
  "ExecuteTimeLog": [
   {
    "duration": 862,
    "start_time": "2022-12-12T10:12:10.842Z"
   },
   {
    "duration": 204,
    "start_time": "2022-12-12T10:12:28.542Z"
   },
   {
    "duration": 51,
    "start_time": "2022-12-12T10:12:31.715Z"
   },
   {
    "duration": 82,
    "start_time": "2022-12-12T10:12:48.304Z"
   },
   {
    "duration": 68,
    "start_time": "2022-12-12T10:15:52.690Z"
   },
   {
    "duration": 77,
    "start_time": "2022-12-12T10:15:56.883Z"
   },
   {
    "duration": 8,
    "start_time": "2022-12-12T10:28:09.689Z"
   },
   {
    "duration": 28,
    "start_time": "2022-12-12T10:28:38.160Z"
   },
   {
    "duration": 28,
    "start_time": "2022-12-12T10:28:56.865Z"
   },
   {
    "duration": 9,
    "start_time": "2022-12-12T10:45:57.656Z"
   },
   {
    "duration": 81,
    "start_time": "2022-12-12T10:46:18.879Z"
   },
   {
    "duration": 88,
    "start_time": "2022-12-12T10:46:22.879Z"
   },
   {
    "duration": 5,
    "start_time": "2022-12-12T10:46:29.735Z"
   },
   {
    "duration": 12,
    "start_time": "2022-12-12T10:46:33.288Z"
   },
   {
    "duration": 5,
    "start_time": "2022-12-12T10:46:44.685Z"
   },
   {
    "duration": 30,
    "start_time": "2022-12-12T10:49:50.364Z"
   },
   {
    "duration": 1116,
    "start_time": "2022-12-12T10:59:33.226Z"
   },
   {
    "duration": 12,
    "start_time": "2022-12-12T10:59:56.531Z"
   },
   {
    "duration": 13,
    "start_time": "2022-12-12T11:05:40.664Z"
   },
   {
    "duration": 17,
    "start_time": "2022-12-12T11:06:08.223Z"
   },
   {
    "duration": 29,
    "start_time": "2022-12-12T11:06:24.852Z"
   },
   {
    "duration": 22,
    "start_time": "2022-12-12T11:08:06.255Z"
   },
   {
    "duration": 65,
    "start_time": "2022-12-12T11:08:18.033Z"
   },
   {
    "duration": 30,
    "start_time": "2022-12-12T11:08:18.100Z"
   },
   {
    "duration": 4,
    "start_time": "2022-12-12T11:08:18.132Z"
   },
   {
    "duration": 41,
    "start_time": "2022-12-12T11:08:18.138Z"
   },
   {
    "duration": 22,
    "start_time": "2022-12-12T11:08:21.352Z"
   },
   {
    "duration": 63,
    "start_time": "2022-12-12T11:08:33.809Z"
   },
   {
    "duration": 30,
    "start_time": "2022-12-12T11:08:34.916Z"
   },
   {
    "duration": 6,
    "start_time": "2022-12-12T11:08:36.536Z"
   },
   {
    "duration": 24,
    "start_time": "2022-12-12T11:08:38.303Z"
   },
   {
    "duration": 23,
    "start_time": "2022-12-12T11:08:45.330Z"
   },
   {
    "duration": 23,
    "start_time": "2022-12-12T11:08:59.995Z"
   },
   {
    "duration": 62,
    "start_time": "2022-12-12T11:11:14.661Z"
   },
   {
    "duration": 30,
    "start_time": "2022-12-12T11:11:16.541Z"
   },
   {
    "duration": 5,
    "start_time": "2022-12-12T11:11:22.151Z"
   },
   {
    "duration": 22,
    "start_time": "2022-12-12T11:11:24.336Z"
   },
   {
    "duration": 31,
    "start_time": "2022-12-12T11:15:25.738Z"
   },
   {
    "duration": 24,
    "start_time": "2022-12-12T11:15:56.114Z"
   },
   {
    "duration": 9,
    "start_time": "2022-12-12T11:26:09.788Z"
   },
   {
    "duration": 9,
    "start_time": "2022-12-12T11:27:11.527Z"
   },
   {
    "duration": 9,
    "start_time": "2022-12-12T11:27:15.074Z"
   },
   {
    "duration": 11,
    "start_time": "2022-12-12T11:35:06.278Z"
   },
   {
    "duration": 14,
    "start_time": "2022-12-12T11:36:19.362Z"
   },
   {
    "duration": 22,
    "start_time": "2022-12-12T11:36:29.009Z"
   },
   {
    "duration": 27,
    "start_time": "2022-12-12T11:37:09.888Z"
   },
   {
    "duration": 8,
    "start_time": "2022-12-12T11:38:09.051Z"
   },
   {
    "duration": 26,
    "start_time": "2022-12-12T11:39:43.610Z"
   },
   {
    "duration": 16,
    "start_time": "2022-12-12T11:41:27.465Z"
   },
   {
    "duration": 15,
    "start_time": "2022-12-12T11:42:03.107Z"
   },
   {
    "duration": 292,
    "start_time": "2022-12-12T11:42:49.639Z"
   },
   {
    "duration": 293,
    "start_time": "2022-12-12T11:48:28.825Z"
   },
   {
    "duration": 4,
    "start_time": "2022-12-12T11:48:46.895Z"
   },
   {
    "duration": 293,
    "start_time": "2022-12-12T11:49:52.335Z"
   },
   {
    "duration": 53,
    "start_time": "2022-12-12T17:24:52.907Z"
   },
   {
    "duration": 6,
    "start_time": "2022-12-12T17:25:06.862Z"
   },
   {
    "duration": 1087,
    "start_time": "2022-12-12T17:25:17.094Z"
   },
   {
    "duration": 39,
    "start_time": "2022-12-12T17:25:18.190Z"
   },
   {
    "duration": 7,
    "start_time": "2022-12-12T17:25:18.923Z"
   },
   {
    "duration": 39,
    "start_time": "2022-12-12T17:25:19.398Z"
   },
   {
    "duration": 32,
    "start_time": "2022-12-12T17:25:19.825Z"
   },
   {
    "duration": 52,
    "start_time": "2022-12-12T17:25:20.264Z"
   },
   {
    "duration": 29,
    "start_time": "2022-12-12T17:25:20.725Z"
   },
   {
    "duration": 373,
    "start_time": "2022-12-12T17:25:29.496Z"
   },
   {
    "duration": 350,
    "start_time": "2022-12-12T17:26:23.489Z"
   },
   {
    "duration": 220,
    "start_time": "2022-12-12T17:27:08.899Z"
   },
   {
    "duration": 383,
    "start_time": "2022-12-12T17:29:11.249Z"
   },
   {
    "duration": 5,
    "start_time": "2022-12-12T17:29:26.044Z"
   },
   {
    "duration": 202,
    "start_time": "2022-12-12T17:29:40.326Z"
   },
   {
    "duration": 26,
    "start_time": "2022-12-12T17:31:50.678Z"
   },
   {
    "duration": 5,
    "start_time": "2022-12-12T17:32:00.476Z"
   },
   {
    "duration": 4,
    "start_time": "2022-12-12T17:32:06.124Z"
   },
   {
    "duration": 14,
    "start_time": "2022-12-12T17:32:33.705Z"
   },
   {
    "duration": 15,
    "start_time": "2022-12-12T17:33:08.639Z"
   },
   {
    "duration": 20,
    "start_time": "2022-12-12T17:33:13.902Z"
   },
   {
    "duration": 23,
    "start_time": "2022-12-12T17:33:38.266Z"
   },
   {
    "duration": 17,
    "start_time": "2022-12-12T17:37:57.313Z"
   },
   {
    "duration": 17,
    "start_time": "2022-12-12T17:38:46.246Z"
   },
   {
    "duration": 25,
    "start_time": "2022-12-12T17:44:38.407Z"
   },
   {
    "duration": 23,
    "start_time": "2022-12-12T17:46:43.947Z"
   },
   {
    "duration": 15,
    "start_time": "2022-12-12T17:49:48.089Z"
   },
   {
    "duration": 5,
    "start_time": "2022-12-12T17:50:12.753Z"
   },
   {
    "duration": 80,
    "start_time": "2022-12-12T17:50:44.440Z"
   },
   {
    "duration": 51,
    "start_time": "2022-12-12T17:50:45.974Z"
   },
   {
    "duration": 7,
    "start_time": "2022-12-12T17:50:47.293Z"
   },
   {
    "duration": 30,
    "start_time": "2022-12-12T17:50:47.892Z"
   },
   {
    "duration": 44,
    "start_time": "2022-12-12T17:50:48.570Z"
   },
   {
    "duration": 7,
    "start_time": "2022-12-12T17:50:49.301Z"
   },
   {
    "duration": 10,
    "start_time": "2022-12-12T17:50:52.929Z"
   },
   {
    "duration": 15,
    "start_time": "2022-12-12T17:51:23.204Z"
   },
   {
    "duration": 7,
    "start_time": "2022-12-12T17:54:28.325Z"
   },
   {
    "duration": 68,
    "start_time": "2022-12-12T19:26:12.902Z"
   },
   {
    "duration": 624,
    "start_time": "2022-12-12T19:32:52.449Z"
   },
   {
    "duration": 46,
    "start_time": "2022-12-12T19:35:55.955Z"
   },
   {
    "duration": 22,
    "start_time": "2022-12-12T19:37:59.661Z"
   },
   {
    "duration": 730,
    "start_time": "2022-12-12T19:38:57.152Z"
   },
   {
    "duration": 23,
    "start_time": "2022-12-12T19:39:08.053Z"
   },
   {
    "duration": 25,
    "start_time": "2022-12-12T19:40:11.110Z"
   },
   {
    "duration": 22,
    "start_time": "2022-12-12T19:40:35.200Z"
   },
   {
    "duration": 11,
    "start_time": "2022-12-12T19:48:00.742Z"
   },
   {
    "duration": 14,
    "start_time": "2022-12-12T19:48:34.738Z"
   },
   {
    "duration": 12,
    "start_time": "2022-12-12T19:57:47.937Z"
   },
   {
    "duration": 9,
    "start_time": "2022-12-12T19:58:04.723Z"
   },
   {
    "duration": 25,
    "start_time": "2022-12-12T19:58:06.865Z"
   },
   {
    "duration": 26,
    "start_time": "2022-12-12T19:58:32.683Z"
   },
   {
    "duration": 25,
    "start_time": "2022-12-12T19:58:44.220Z"
   },
   {
    "duration": 26,
    "start_time": "2022-12-12T20:00:35.811Z"
   },
   {
    "duration": 34,
    "start_time": "2022-12-12T20:01:40.695Z"
   },
   {
    "duration": 11,
    "start_time": "2022-12-12T20:07:02.795Z"
   },
   {
    "duration": 6,
    "start_time": "2022-12-12T20:10:46.618Z"
   },
   {
    "duration": 20,
    "start_time": "2022-12-12T20:11:27.663Z"
   },
   {
    "duration": 5,
    "start_time": "2022-12-12T20:11:43.590Z"
   },
   {
    "duration": 554,
    "start_time": "2022-12-12T20:13:53.123Z"
   },
   {
    "duration": 402,
    "start_time": "2022-12-12T20:14:05.723Z"
   },
   {
    "duration": 24,
    "start_time": "2022-12-12T20:14:11.276Z"
   },
   {
    "duration": 343,
    "start_time": "2022-12-12T20:15:52.528Z"
   },
   {
    "duration": 18,
    "start_time": "2022-12-12T20:17:44.776Z"
   },
   {
    "duration": 28,
    "start_time": "2022-12-12T20:21:15.087Z"
   },
   {
    "duration": 9,
    "start_time": "2022-12-12T20:22:37.137Z"
   },
   {
    "duration": 10,
    "start_time": "2022-12-12T20:23:01.062Z"
   },
   {
    "duration": 9,
    "start_time": "2022-12-12T20:23:21.433Z"
   },
   {
    "duration": 10,
    "start_time": "2022-12-12T20:23:26.757Z"
   },
   {
    "duration": 29,
    "start_time": "2022-12-12T20:23:31.136Z"
   },
   {
    "duration": 10,
    "start_time": "2022-12-12T20:23:34.905Z"
   },
   {
    "duration": 67,
    "start_time": "2022-12-12T20:23:56.491Z"
   },
   {
    "duration": 45,
    "start_time": "2022-12-12T20:23:57.960Z"
   },
   {
    "duration": 15,
    "start_time": "2022-12-12T20:23:58.498Z"
   },
   {
    "duration": 23,
    "start_time": "2022-12-12T20:23:59.077Z"
   },
   {
    "duration": 23,
    "start_time": "2022-12-12T20:23:59.585Z"
   },
   {
    "duration": 24,
    "start_time": "2022-12-12T20:24:00.104Z"
   },
   {
    "duration": 24,
    "start_time": "2022-12-12T20:24:00.654Z"
   },
   {
    "duration": 8,
    "start_time": "2022-12-12T20:24:03.849Z"
   },
   {
    "duration": 27,
    "start_time": "2022-12-12T20:24:06.252Z"
   },
   {
    "duration": 29,
    "start_time": "2022-12-12T20:24:09.333Z"
   },
   {
    "duration": 14,
    "start_time": "2022-12-12T20:24:14.513Z"
   },
   {
    "duration": 15,
    "start_time": "2022-12-12T20:25:28.840Z"
   },
   {
    "duration": 27,
    "start_time": "2022-12-12T20:38:21.499Z"
   },
   {
    "duration": 67,
    "start_time": "2022-12-12T20:38:34.819Z"
   },
   {
    "duration": 44,
    "start_time": "2022-12-12T20:38:36.463Z"
   },
   {
    "duration": 15,
    "start_time": "2022-12-12T20:38:36.991Z"
   },
   {
    "duration": 21,
    "start_time": "2022-12-12T20:38:37.532Z"
   },
   {
    "duration": 22,
    "start_time": "2022-12-12T20:38:38.049Z"
   },
   {
    "duration": 26,
    "start_time": "2022-12-12T20:38:38.600Z"
   },
   {
    "duration": 24,
    "start_time": "2022-12-12T20:38:39.136Z"
   },
   {
    "duration": 7,
    "start_time": "2022-12-12T20:38:40.932Z"
   },
   {
    "duration": 30,
    "start_time": "2022-12-12T20:38:41.593Z"
   },
   {
    "duration": 28,
    "start_time": "2022-12-12T20:38:42.370Z"
   },
   {
    "duration": 23,
    "start_time": "2022-12-12T20:38:45.441Z"
   },
   {
    "duration": 11,
    "start_time": "2022-12-12T20:38:47.856Z"
   },
   {
    "duration": 950,
    "start_time": "2022-12-12T20:50:04.920Z"
   },
   {
    "duration": 16,
    "start_time": "2022-12-12T20:50:15.478Z"
   },
   {
    "duration": 1220,
    "start_time": "2022-12-12T20:50:16.225Z"
   },
   {
    "duration": 23,
    "start_time": "2022-12-12T20:50:28.568Z"
   },
   {
    "duration": 18,
    "start_time": "2022-12-12T20:51:43.191Z"
   },
   {
    "duration": 21,
    "start_time": "2022-12-12T20:52:03.289Z"
   },
   {
    "duration": 742,
    "start_time": "2022-12-12T20:52:53.947Z"
   },
   {
    "duration": 812,
    "start_time": "2022-12-12T20:53:12.230Z"
   },
   {
    "duration": 4,
    "start_time": "2022-12-12T20:53:19.166Z"
   },
   {
    "duration": 21,
    "start_time": "2022-12-12T20:53:56.014Z"
   },
   {
    "duration": 4,
    "start_time": "2022-12-12T21:02:43.802Z"
   },
   {
    "duration": 12,
    "start_time": "2022-12-12T21:04:44.339Z"
   },
   {
    "duration": 39,
    "start_time": "2022-12-12T21:05:14.911Z"
   },
   {
    "duration": 43,
    "start_time": "2022-12-12T21:08:31.046Z"
   },
   {
    "duration": 54,
    "start_time": "2022-12-12T21:08:48.341Z"
   },
   {
    "duration": 45,
    "start_time": "2022-12-12T21:09:06.104Z"
   },
   {
    "duration": 69,
    "start_time": "2022-12-12T21:09:29.292Z"
   },
   {
    "duration": 49,
    "start_time": "2022-12-12T21:09:30.535Z"
   },
   {
    "duration": 15,
    "start_time": "2022-12-12T21:09:30.714Z"
   },
   {
    "duration": 23,
    "start_time": "2022-12-12T21:09:31.213Z"
   },
   {
    "duration": 22,
    "start_time": "2022-12-12T21:09:31.746Z"
   },
   {
    "duration": 23,
    "start_time": "2022-12-12T21:09:32.266Z"
   },
   {
    "duration": 22,
    "start_time": "2022-12-12T21:09:32.820Z"
   },
   {
    "duration": 7,
    "start_time": "2022-12-12T21:09:34.465Z"
   },
   {
    "duration": 29,
    "start_time": "2022-12-12T21:09:35.284Z"
   },
   {
    "duration": 31,
    "start_time": "2022-12-12T21:09:36.248Z"
   },
   {
    "duration": 22,
    "start_time": "2022-12-12T21:09:36.937Z"
   },
   {
    "duration": 21,
    "start_time": "2022-12-12T21:09:37.731Z"
   },
   {
    "duration": 40,
    "start_time": "2022-12-12T21:09:38.559Z"
   },
   {
    "duration": 44,
    "start_time": "2022-12-13T08:44:36.022Z"
   },
   {
    "duration": 1292,
    "start_time": "2022-12-13T08:44:43.283Z"
   },
   {
    "duration": 48,
    "start_time": "2022-12-13T08:44:44.577Z"
   },
   {
    "duration": 12,
    "start_time": "2022-12-13T08:44:44.626Z"
   },
   {
    "duration": 19,
    "start_time": "2022-12-13T08:44:44.980Z"
   },
   {
    "duration": 18,
    "start_time": "2022-12-13T08:44:45.537Z"
   },
   {
    "duration": 21,
    "start_time": "2022-12-13T08:44:45.908Z"
   },
   {
    "duration": 21,
    "start_time": "2022-12-13T08:44:46.333Z"
   },
   {
    "duration": 7,
    "start_time": "2022-12-13T08:44:49.882Z"
   },
   {
    "duration": 27,
    "start_time": "2022-12-13T08:44:50.429Z"
   },
   {
    "duration": 26,
    "start_time": "2022-12-13T08:44:51.089Z"
   },
   {
    "duration": 18,
    "start_time": "2022-12-13T08:44:51.727Z"
   },
   {
    "duration": 20,
    "start_time": "2022-12-13T08:44:53.317Z"
   },
   {
    "duration": 6,
    "start_time": "2022-12-13T08:44:54.411Z"
   },
   {
    "duration": 4,
    "start_time": "2022-12-13T09:00:38.126Z"
   },
   {
    "duration": 67,
    "start_time": "2022-12-13T09:07:27.820Z"
   },
   {
    "duration": 9,
    "start_time": "2022-12-13T09:07:39.204Z"
   },
   {
    "duration": 12,
    "start_time": "2022-12-13T09:09:07.564Z"
   },
   {
    "duration": 18,
    "start_time": "2022-12-13T09:09:32.978Z"
   },
   {
    "duration": 56,
    "start_time": "2022-12-13T12:52:33.233Z"
   },
   {
    "duration": 1413,
    "start_time": "2022-12-13T12:52:39.743Z"
   },
   {
    "duration": 43,
    "start_time": "2022-12-13T12:52:41.158Z"
   },
   {
    "duration": 14,
    "start_time": "2022-12-13T12:52:41.242Z"
   },
   {
    "duration": 21,
    "start_time": "2022-12-13T12:52:41.646Z"
   },
   {
    "duration": 24,
    "start_time": "2022-12-13T12:52:42.039Z"
   },
   {
    "duration": 25,
    "start_time": "2022-12-13T12:52:42.427Z"
   },
   {
    "duration": 27,
    "start_time": "2022-12-13T12:52:42.777Z"
   },
   {
    "duration": 6,
    "start_time": "2022-12-13T12:52:43.869Z"
   },
   {
    "duration": 39,
    "start_time": "2022-12-13T12:52:44.229Z"
   },
   {
    "duration": 31,
    "start_time": "2022-12-13T12:52:44.616Z"
   },
   {
    "duration": 21,
    "start_time": "2022-12-13T12:52:45.005Z"
   },
   {
    "duration": 20,
    "start_time": "2022-12-13T12:52:45.399Z"
   },
   {
    "duration": 6,
    "start_time": "2022-12-13T12:52:45.806Z"
   },
   {
    "duration": 10,
    "start_time": "2022-12-13T12:52:46.768Z"
   },
   {
    "duration": 17,
    "start_time": "2022-12-13T12:52:47.302Z"
   },
   {
    "duration": 5,
    "start_time": "2022-12-13T12:52:48.921Z"
   },
   {
    "duration": 8,
    "start_time": "2022-12-13T12:53:42.217Z"
   },
   {
    "duration": 21,
    "start_time": "2022-12-13T12:54:01.100Z"
   },
   {
    "duration": 28,
    "start_time": "2022-12-13T13:05:52.622Z"
   },
   {
    "duration": 36,
    "start_time": "2022-12-13T13:09:06.178Z"
   },
   {
    "duration": 18,
    "start_time": "2022-12-13T13:25:58.996Z"
   },
   {
    "duration": 40,
    "start_time": "2022-12-13T13:26:32.431Z"
   },
   {
    "duration": 62,
    "start_time": "2022-12-14T11:43:18.205Z"
   },
   {
    "duration": 1518,
    "start_time": "2022-12-14T11:43:25.939Z"
   },
   {
    "duration": 43,
    "start_time": "2022-12-14T11:43:27.459Z"
   },
   {
    "duration": 12,
    "start_time": "2022-12-14T11:43:27.504Z"
   },
   {
    "duration": 22,
    "start_time": "2022-12-14T11:43:27.631Z"
   },
   {
    "duration": 22,
    "start_time": "2022-12-14T11:43:28.044Z"
   },
   {
    "duration": 25,
    "start_time": "2022-12-14T11:43:28.389Z"
   },
   {
    "duration": 20,
    "start_time": "2022-12-14T11:43:28.761Z"
   },
   {
    "duration": 7,
    "start_time": "2022-12-14T11:43:29.911Z"
   },
   {
    "duration": 32,
    "start_time": "2022-12-14T11:43:30.284Z"
   },
   {
    "duration": 36,
    "start_time": "2022-12-14T11:43:30.674Z"
   },
   {
    "duration": 36,
    "start_time": "2022-12-14T11:43:31.129Z"
   },
   {
    "duration": 20,
    "start_time": "2022-12-14T11:43:31.542Z"
   },
   {
    "duration": 9,
    "start_time": "2022-12-14T11:43:32.014Z"
   },
   {
    "duration": 12,
    "start_time": "2022-12-14T11:43:32.979Z"
   },
   {
    "duration": 18,
    "start_time": "2022-12-14T11:43:33.442Z"
   },
   {
    "duration": 16,
    "start_time": "2022-12-14T11:43:34.279Z"
   },
   {
    "duration": 6,
    "start_time": "2022-12-14T11:43:35.455Z"
   },
   {
    "duration": 12,
    "start_time": "2022-12-14T11:57:53.186Z"
   },
   {
    "duration": 14,
    "start_time": "2022-12-14T11:57:57.536Z"
   },
   {
    "duration": 74,
    "start_time": "2022-12-14T11:58:20.934Z"
   },
   {
    "duration": 14,
    "start_time": "2022-12-14T11:58:34.748Z"
   },
   {
    "duration": 56,
    "start_time": "2022-12-14T12:01:34.745Z"
   },
   {
    "duration": 53,
    "start_time": "2022-12-14T12:01:41.633Z"
   },
   {
    "duration": 45,
    "start_time": "2022-12-14T12:02:06.005Z"
   },
   {
    "duration": 73,
    "start_time": "2022-12-14T12:02:37.357Z"
   },
   {
    "duration": 48,
    "start_time": "2022-12-14T12:07:35.516Z"
   },
   {
    "duration": 743,
    "start_time": "2022-12-14T12:07:47.515Z"
   },
   {
    "duration": 12,
    "start_time": "2022-12-14T12:08:12.395Z"
   },
   {
    "duration": 15,
    "start_time": "2022-12-14T12:08:31.840Z"
   },
   {
    "duration": 780,
    "start_time": "2022-12-14T12:22:08.036Z"
   },
   {
    "duration": 793,
    "start_time": "2022-12-14T12:23:51.838Z"
   },
   {
    "duration": 215,
    "start_time": "2022-12-14T12:24:42.562Z"
   },
   {
    "duration": 176,
    "start_time": "2022-12-14T12:43:27.071Z"
   },
   {
    "duration": 174,
    "start_time": "2022-12-14T12:43:45.483Z"
   },
   {
    "duration": 328,
    "start_time": "2022-12-14T12:44:23.757Z"
   },
   {
    "duration": 331,
    "start_time": "2022-12-14T12:50:42.430Z"
   },
   {
    "duration": 88,
    "start_time": "2022-12-14T14:31:14.904Z"
   },
   {
    "duration": 221,
    "start_time": "2022-12-14T14:32:45.292Z"
   },
   {
    "duration": 149,
    "start_time": "2022-12-14T14:37:47.233Z"
   },
   {
    "duration": 146,
    "start_time": "2022-12-14T14:38:12.730Z"
   },
   {
    "duration": 10,
    "start_time": "2022-12-14T14:38:25.147Z"
   },
   {
    "duration": 168,
    "start_time": "2022-12-14T14:39:59.583Z"
   },
   {
    "duration": 16,
    "start_time": "2022-12-14T14:43:19.636Z"
   },
   {
    "duration": 15,
    "start_time": "2022-12-14T14:43:32.096Z"
   },
   {
    "duration": 175,
    "start_time": "2022-12-14T14:44:08.003Z"
   },
   {
    "duration": 415,
    "start_time": "2022-12-14T15:04:23.800Z"
   },
   {
    "duration": 385,
    "start_time": "2022-12-14T15:08:50.593Z"
   },
   {
    "duration": 496,
    "start_time": "2022-12-14T15:09:36.181Z"
   },
   {
    "duration": 869,
    "start_time": "2022-12-14T15:10:57.836Z"
   },
   {
    "duration": 423,
    "start_time": "2022-12-14T15:11:07.693Z"
   },
   {
    "duration": 364,
    "start_time": "2022-12-14T15:13:11.533Z"
   },
   {
    "duration": 258,
    "start_time": "2022-12-14T15:15:43.613Z"
   },
   {
    "duration": 236,
    "start_time": "2022-12-14T15:21:32.947Z"
   },
   {
    "duration": 248,
    "start_time": "2022-12-14T15:21:51.153Z"
   },
   {
    "duration": 313,
    "start_time": "2022-12-14T15:23:46.211Z"
   },
   {
    "duration": 264,
    "start_time": "2022-12-14T15:23:55.727Z"
   },
   {
    "duration": 41,
    "start_time": "2022-12-14T15:50:27.755Z"
   },
   {
    "duration": 3067,
    "start_time": "2022-12-14T16:16:51.531Z"
   },
   {
    "duration": 71,
    "start_time": "2022-12-14T16:17:22.411Z"
   },
   {
    "duration": 43,
    "start_time": "2022-12-14T16:17:23.258Z"
   },
   {
    "duration": 13,
    "start_time": "2022-12-14T16:17:23.660Z"
   },
   {
    "duration": 30,
    "start_time": "2022-12-14T16:17:24.075Z"
   },
   {
    "duration": 29,
    "start_time": "2022-12-14T16:17:24.451Z"
   },
   {
    "duration": 28,
    "start_time": "2022-12-14T16:17:24.838Z"
   },
   {
    "duration": 31,
    "start_time": "2022-12-14T16:17:25.241Z"
   },
   {
    "duration": 11,
    "start_time": "2022-12-14T16:17:26.376Z"
   },
   {
    "duration": 30,
    "start_time": "2022-12-14T16:17:26.769Z"
   },
   {
    "duration": 36,
    "start_time": "2022-12-14T16:17:27.177Z"
   },
   {
    "duration": 42,
    "start_time": "2022-12-14T16:17:27.625Z"
   },
   {
    "duration": 20,
    "start_time": "2022-12-14T16:17:28.019Z"
   },
   {
    "duration": 7,
    "start_time": "2022-12-14T16:17:28.447Z"
   },
   {
    "duration": 15,
    "start_time": "2022-12-14T16:17:29.330Z"
   },
   {
    "duration": 27,
    "start_time": "2022-12-14T16:17:29.761Z"
   },
   {
    "duration": 21,
    "start_time": "2022-12-14T16:17:30.575Z"
   },
   {
    "duration": 327,
    "start_time": "2022-12-14T16:17:31.527Z"
   },
   {
    "duration": 3013,
    "start_time": "2022-12-14T16:17:32.612Z"
   },
   {
    "duration": 37,
    "start_time": "2022-12-14T16:17:49.280Z"
   },
   {
    "duration": 22,
    "start_time": "2022-12-14T16:18:40.712Z"
   },
   {
    "duration": 27,
    "start_time": "2022-12-14T16:19:08.249Z"
   },
   {
    "duration": 28,
    "start_time": "2022-12-14T16:20:25.324Z"
   },
   {
    "duration": 29,
    "start_time": "2022-12-14T16:20:55.527Z"
   },
   {
    "duration": 29,
    "start_time": "2022-12-14T16:21:58.346Z"
   },
   {
    "duration": 30,
    "start_time": "2022-12-14T16:24:22.401Z"
   },
   {
    "duration": 63,
    "start_time": "2022-12-14T16:28:47.358Z"
   },
   {
    "duration": 5,
    "start_time": "2022-12-14T16:29:08.846Z"
   },
   {
    "duration": 26,
    "start_time": "2022-12-14T16:29:51.949Z"
   },
   {
    "duration": 17,
    "start_time": "2022-12-14T16:30:33.323Z"
   },
   {
    "duration": 22,
    "start_time": "2022-12-14T16:30:45.015Z"
   },
   {
    "duration": 32,
    "start_time": "2022-12-14T16:31:36.620Z"
   },
   {
    "duration": 28,
    "start_time": "2022-12-14T16:32:26.090Z"
   },
   {
    "duration": 65,
    "start_time": "2022-12-14T16:33:47.165Z"
   },
   {
    "duration": 29,
    "start_time": "2022-12-14T16:36:51.350Z"
   },
   {
    "duration": 64,
    "start_time": "2022-12-14T16:47:36.899Z"
   },
   {
    "duration": 101,
    "start_time": "2022-12-14T16:47:58.377Z"
   },
   {
    "duration": 255,
    "start_time": "2022-12-14T16:48:17.701Z"
   },
   {
    "duration": 35,
    "start_time": "2022-12-14T16:49:16.510Z"
   },
   {
    "duration": 1117,
    "start_time": "2022-12-14T16:49:35.299Z"
   },
   {
    "duration": 66,
    "start_time": "2022-12-14T16:49:39.441Z"
   },
   {
    "duration": 41,
    "start_time": "2022-12-14T16:49:40.452Z"
   },
   {
    "duration": 13,
    "start_time": "2022-12-14T16:49:40.817Z"
   },
   {
    "duration": 21,
    "start_time": "2022-12-14T16:49:41.257Z"
   },
   {
    "duration": 19,
    "start_time": "2022-12-14T16:49:41.651Z"
   },
   {
    "duration": 25,
    "start_time": "2022-12-14T16:49:42.001Z"
   },
   {
    "duration": 20,
    "start_time": "2022-12-14T16:49:42.367Z"
   },
   {
    "duration": 7,
    "start_time": "2022-12-14T16:49:43.440Z"
   },
   {
    "duration": 34,
    "start_time": "2022-12-14T16:49:43.786Z"
   },
   {
    "duration": 51,
    "start_time": "2022-12-14T16:49:44.142Z"
   },
   {
    "duration": 37,
    "start_time": "2022-12-14T16:49:44.682Z"
   },
   {
    "duration": 21,
    "start_time": "2022-12-14T16:49:45.094Z"
   },
   {
    "duration": 6,
    "start_time": "2022-12-14T16:49:45.520Z"
   },
   {
    "duration": 10,
    "start_time": "2022-12-14T16:49:46.626Z"
   },
   {
    "duration": 18,
    "start_time": "2022-12-14T16:49:47.252Z"
   },
   {
    "duration": 20,
    "start_time": "2022-12-14T16:49:49.642Z"
   },
   {
    "duration": 327,
    "start_time": "2022-12-14T16:49:51.390Z"
   },
   {
    "duration": 993,
    "start_time": "2022-12-14T16:49:53.240Z"
   },
   {
    "duration": 61,
    "start_time": "2022-12-14T16:57:16.543Z"
   },
   {
    "duration": 33,
    "start_time": "2022-12-14T16:57:33.128Z"
   },
   {
    "duration": 35,
    "start_time": "2022-12-14T16:59:40.217Z"
   },
   {
    "duration": 45,
    "start_time": "2022-12-14T17:00:34.413Z"
   },
   {
    "duration": 925,
    "start_time": "2022-12-14T17:00:53.846Z"
   },
   {
    "duration": 913,
    "start_time": "2022-12-14T17:03:42.181Z"
   },
   {
    "duration": 1204,
    "start_time": "2022-12-14T17:04:22.459Z"
   },
   {
    "duration": 1073,
    "start_time": "2022-12-14T17:04:30.903Z"
   },
   {
    "duration": 1842,
    "start_time": "2022-12-14T19:32:33.518Z"
   },
   {
    "duration": 63,
    "start_time": "2022-12-14T19:32:35.363Z"
   },
   {
    "duration": 26,
    "start_time": "2022-12-14T19:32:35.428Z"
   },
   {
    "duration": 32,
    "start_time": "2022-12-14T19:32:35.457Z"
   },
   {
    "duration": 30,
    "start_time": "2022-12-14T19:32:35.491Z"
   },
   {
    "duration": 46,
    "start_time": "2022-12-14T19:32:35.523Z"
   },
   {
    "duration": 31,
    "start_time": "2022-12-14T19:32:35.757Z"
   },
   {
    "duration": 8,
    "start_time": "2022-12-14T19:32:36.845Z"
   },
   {
    "duration": 41,
    "start_time": "2022-12-14T19:32:37.271Z"
   },
   {
    "duration": 56,
    "start_time": "2022-12-14T19:32:37.724Z"
   },
   {
    "duration": 52,
    "start_time": "2022-12-14T19:32:38.148Z"
   },
   {
    "duration": 25,
    "start_time": "2022-12-14T19:32:38.670Z"
   },
   {
    "duration": 9,
    "start_time": "2022-12-14T19:32:39.156Z"
   },
   {
    "duration": 15,
    "start_time": "2022-12-14T19:32:40.257Z"
   },
   {
    "duration": 31,
    "start_time": "2022-12-14T19:32:40.788Z"
   },
   {
    "duration": 24,
    "start_time": "2022-12-14T19:32:41.872Z"
   },
   {
    "duration": 421,
    "start_time": "2022-12-14T19:32:42.932Z"
   },
   {
    "duration": 1338,
    "start_time": "2022-12-14T19:32:44.470Z"
   },
   {
    "duration": 17,
    "start_time": "2022-12-14T20:05:09.017Z"
   },
   {
    "duration": 6,
    "start_time": "2022-12-14T20:25:21.746Z"
   },
   {
    "duration": 27,
    "start_time": "2022-12-14T20:25:40.676Z"
   },
   {
    "duration": 32,
    "start_time": "2022-12-14T20:26:39.883Z"
   },
   {
    "duration": 97,
    "start_time": "2022-12-14T20:32:16.159Z"
   },
   {
    "duration": 23,
    "start_time": "2022-12-14T20:32:44.450Z"
   },
   {
    "duration": 126,
    "start_time": "2022-12-14T20:33:22.913Z"
   },
   {
    "duration": 21,
    "start_time": "2022-12-14T20:34:00.821Z"
   },
   {
    "duration": 18,
    "start_time": "2022-12-14T20:34:56.929Z"
   },
   {
    "duration": 73,
    "start_time": "2022-12-14T20:47:26.658Z"
   },
   {
    "duration": 75,
    "start_time": "2022-12-14T20:48:02.050Z"
   },
   {
    "duration": 25,
    "start_time": "2022-12-14T20:48:34.263Z"
   },
   {
    "duration": 215,
    "start_time": "2022-12-14T20:51:20.166Z"
   },
   {
    "duration": 249,
    "start_time": "2022-12-14T20:55:09.341Z"
   },
   {
    "duration": 225,
    "start_time": "2022-12-14T20:55:47.433Z"
   },
   {
    "duration": 203,
    "start_time": "2022-12-14T20:57:44.674Z"
   },
   {
    "duration": 1957,
    "start_time": "2022-12-14T20:59:59.673Z"
   },
   {
    "duration": 258,
    "start_time": "2022-12-14T21:11:55.764Z"
   },
   {
    "duration": 1429,
    "start_time": "2022-12-14T21:12:09.931Z"
   },
   {
    "duration": 126,
    "start_time": "2022-12-14T21:26:18.940Z"
   },
   {
    "duration": 104,
    "start_time": "2022-12-14T21:27:42.028Z"
   },
   {
    "duration": 123,
    "start_time": "2022-12-14T21:32:09.370Z"
   },
   {
    "duration": 154,
    "start_time": "2022-12-14T21:32:32.912Z"
   },
   {
    "duration": 142,
    "start_time": "2022-12-14T21:32:39.858Z"
   },
   {
    "duration": 117,
    "start_time": "2022-12-14T21:33:35.710Z"
   },
   {
    "duration": 131,
    "start_time": "2022-12-14T21:36:19.431Z"
   },
   {
    "duration": 121,
    "start_time": "2022-12-14T21:36:34.764Z"
   },
   {
    "duration": 1536,
    "start_time": "2022-12-15T19:24:22.941Z"
   },
   {
    "duration": 40,
    "start_time": "2022-12-15T19:24:24.479Z"
   },
   {
    "duration": 12,
    "start_time": "2022-12-15T19:24:24.521Z"
   },
   {
    "duration": 46,
    "start_time": "2022-12-15T19:24:24.535Z"
   },
   {
    "duration": 47,
    "start_time": "2022-12-15T19:24:24.583Z"
   },
   {
    "duration": 20,
    "start_time": "2022-12-15T19:24:24.952Z"
   },
   {
    "duration": 23,
    "start_time": "2022-12-15T19:24:25.149Z"
   },
   {
    "duration": 6,
    "start_time": "2022-12-15T19:24:26.600Z"
   },
   {
    "duration": 32,
    "start_time": "2022-12-15T19:24:28.204Z"
   },
   {
    "duration": 30,
    "start_time": "2022-12-15T19:24:29.171Z"
   },
   {
    "duration": 38,
    "start_time": "2022-12-15T19:24:30.002Z"
   },
   {
    "duration": 20,
    "start_time": "2022-12-15T19:24:33.618Z"
   },
   {
    "duration": 7,
    "start_time": "2022-12-15T19:24:34.431Z"
   },
   {
    "duration": 10,
    "start_time": "2022-12-15T19:24:43.208Z"
   },
   {
    "duration": 17,
    "start_time": "2022-12-15T19:24:44.371Z"
   },
   {
    "duration": 17,
    "start_time": "2022-12-15T19:24:46.310Z"
   },
   {
    "duration": 331,
    "start_time": "2022-12-15T19:24:48.071Z"
   },
   {
    "duration": 1172,
    "start_time": "2022-12-15T19:24:49.723Z"
   },
   {
    "duration": 14,
    "start_time": "2022-12-15T19:24:56.505Z"
   },
   {
    "duration": 72,
    "start_time": "2022-12-15T19:25:00.829Z"
   },
   {
    "duration": 33,
    "start_time": "2022-12-15T19:25:03.176Z"
   },
   {
    "duration": 1025,
    "start_time": "2022-12-15T19:25:04.304Z"
   },
   {
    "duration": 110,
    "start_time": "2022-12-15T19:25:30.356Z"
   },
   {
    "duration": 93,
    "start_time": "2022-12-15T19:40:54.288Z"
   },
   {
    "duration": 91,
    "start_time": "2022-12-15T19:46:13.899Z"
   },
   {
    "duration": 94,
    "start_time": "2022-12-15T19:46:40.566Z"
   },
   {
    "duration": 187,
    "start_time": "2022-12-15T19:50:06.093Z"
   },
   {
    "duration": 176,
    "start_time": "2022-12-15T19:53:15.366Z"
   },
   {
    "duration": 228,
    "start_time": "2022-12-15T20:01:25.759Z"
   },
   {
    "duration": 215,
    "start_time": "2022-12-15T20:01:49.235Z"
   },
   {
    "duration": 256,
    "start_time": "2022-12-15T20:02:34.118Z"
   },
   {
    "duration": 217,
    "start_time": "2022-12-15T20:02:52.090Z"
   },
   {
    "duration": 234,
    "start_time": "2022-12-15T20:03:01.692Z"
   },
   {
    "duration": 338,
    "start_time": "2022-12-15T20:03:40.398Z"
   },
   {
    "duration": 264,
    "start_time": "2022-12-15T20:04:01.168Z"
   },
   {
    "duration": 244,
    "start_time": "2022-12-15T20:04:12.310Z"
   },
   {
    "duration": 268,
    "start_time": "2022-12-15T20:05:09.482Z"
   },
   {
    "duration": 258,
    "start_time": "2022-12-15T20:05:51.882Z"
   },
   {
    "duration": 13,
    "start_time": "2022-12-15T20:06:26.413Z"
   },
   {
    "duration": 18,
    "start_time": "2022-12-15T20:07:19.915Z"
   },
   {
    "duration": 11,
    "start_time": "2022-12-15T20:09:33.681Z"
   },
   {
    "duration": 16,
    "start_time": "2022-12-15T20:09:43.037Z"
   },
   {
    "duration": 351,
    "start_time": "2022-12-15T20:10:00.272Z"
   },
   {
    "duration": 255,
    "start_time": "2022-12-15T20:10:09.955Z"
   },
   {
    "duration": 269,
    "start_time": "2022-12-15T20:12:21.493Z"
   },
   {
    "duration": 216,
    "start_time": "2022-12-15T20:13:16.435Z"
   },
   {
    "duration": 187,
    "start_time": "2022-12-15T20:13:25.850Z"
   },
   {
    "duration": 335,
    "start_time": "2022-12-15T20:13:38.844Z"
   },
   {
    "duration": 284,
    "start_time": "2022-12-15T20:14:04.028Z"
   },
   {
    "duration": 182,
    "start_time": "2022-12-15T20:14:56.251Z"
   },
   {
    "duration": 268,
    "start_time": "2022-12-15T20:15:55.664Z"
   },
   {
    "duration": 226,
    "start_time": "2022-12-15T20:16:04.973Z"
   },
   {
    "duration": 271,
    "start_time": "2022-12-15T20:16:15.434Z"
   },
   {
    "duration": 367,
    "start_time": "2022-12-15T20:16:25.101Z"
   },
   {
    "duration": 94,
    "start_time": "2022-12-15T20:22:32.279Z"
   },
   {
    "duration": 93,
    "start_time": "2022-12-15T20:22:36.148Z"
   },
   {
    "duration": 95,
    "start_time": "2022-12-15T20:22:45.489Z"
   },
   {
    "duration": 99,
    "start_time": "2022-12-15T20:22:50.375Z"
   },
   {
    "duration": 104,
    "start_time": "2022-12-15T20:22:57.774Z"
   },
   {
    "duration": 205,
    "start_time": "2022-12-15T20:23:05.238Z"
   },
   {
    "duration": 102,
    "start_time": "2022-12-15T20:23:26.980Z"
   },
   {
    "duration": 92,
    "start_time": "2022-12-15T20:23:35.316Z"
   },
   {
    "duration": 92,
    "start_time": "2022-12-15T20:23:53.579Z"
   },
   {
    "duration": 91,
    "start_time": "2022-12-15T20:24:09.958Z"
   },
   {
    "duration": 92,
    "start_time": "2022-12-15T20:28:43.476Z"
   },
   {
    "duration": 112,
    "start_time": "2022-12-15T20:43:35.070Z"
   },
   {
    "duration": 98,
    "start_time": "2022-12-15T20:43:35.662Z"
   },
   {
    "duration": 103,
    "start_time": "2022-12-15T20:43:36.119Z"
   },
   {
    "duration": 255,
    "start_time": "2022-12-15T20:43:36.562Z"
   },
   {
    "duration": 275,
    "start_time": "2022-12-15T20:43:37.072Z"
   },
   {
    "duration": 127,
    "start_time": "2022-12-15T20:48:04.316Z"
   },
   {
    "duration": 9,
    "start_time": "2022-12-15T20:54:19.023Z"
   },
   {
    "duration": 19,
    "start_time": "2022-12-15T20:54:33.562Z"
   },
   {
    "duration": 20,
    "start_time": "2022-12-15T20:54:52.265Z"
   },
   {
    "duration": 136,
    "start_time": "2022-12-15T20:54:56.948Z"
   },
   {
    "duration": 72,
    "start_time": "2022-12-15T21:14:01.603Z"
   },
   {
    "duration": 73,
    "start_time": "2022-12-15T21:15:21.037Z"
   },
   {
    "duration": 149,
    "start_time": "2022-12-15T21:16:26.094Z"
   },
   {
    "duration": 152,
    "start_time": "2022-12-15T21:18:22.423Z"
   },
   {
    "duration": 163,
    "start_time": "2022-12-15T21:20:41.630Z"
   },
   {
    "duration": 424,
    "start_time": "2022-12-15T21:26:27.100Z"
   },
   {
    "duration": 308,
    "start_time": "2022-12-15T21:46:04.856Z"
   },
   {
    "duration": 269,
    "start_time": "2022-12-15T21:46:16.481Z"
   },
   {
    "duration": 288,
    "start_time": "2022-12-15T21:46:51.665Z"
   },
   {
    "duration": 234,
    "start_time": "2022-12-15T21:50:52.605Z"
   },
   {
    "duration": 1617,
    "start_time": "2022-12-16T19:56:40.474Z"
   },
   {
    "duration": 45,
    "start_time": "2022-12-16T19:56:42.093Z"
   },
   {
    "duration": 19,
    "start_time": "2022-12-16T19:56:42.140Z"
   },
   {
    "duration": 28,
    "start_time": "2022-12-16T19:56:42.161Z"
   },
   {
    "duration": 21,
    "start_time": "2022-12-16T19:56:42.317Z"
   },
   {
    "duration": 23,
    "start_time": "2022-12-16T19:56:42.689Z"
   },
   {
    "duration": 20,
    "start_time": "2022-12-16T19:56:43.053Z"
   },
   {
    "duration": 6,
    "start_time": "2022-12-16T19:56:44.363Z"
   },
   {
    "duration": 31,
    "start_time": "2022-12-16T19:56:44.734Z"
   },
   {
    "duration": 33,
    "start_time": "2022-12-16T19:56:45.138Z"
   },
   {
    "duration": 39,
    "start_time": "2022-12-16T19:56:45.577Z"
   },
   {
    "duration": 21,
    "start_time": "2022-12-16T19:56:45.983Z"
   },
   {
    "duration": 6,
    "start_time": "2022-12-16T19:56:46.385Z"
   },
   {
    "duration": 13,
    "start_time": "2022-12-16T19:56:47.395Z"
   },
   {
    "duration": 18,
    "start_time": "2022-12-16T19:56:47.795Z"
   },
   {
    "duration": 23,
    "start_time": "2022-12-16T19:56:48.563Z"
   },
   {
    "duration": 417,
    "start_time": "2022-12-16T19:56:49.379Z"
   },
   {
    "duration": 1127,
    "start_time": "2022-12-16T19:56:50.215Z"
   },
   {
    "duration": 15,
    "start_time": "2022-12-16T19:56:51.659Z"
   },
   {
    "duration": 33,
    "start_time": "2022-12-16T19:56:52.571Z"
   },
   {
    "duration": 1100,
    "start_time": "2022-12-16T19:56:53.175Z"
   },
   {
    "duration": 116,
    "start_time": "2022-12-16T19:56:54.277Z"
   },
   {
    "duration": 98,
    "start_time": "2022-12-16T19:56:54.935Z"
   },
   {
    "duration": 109,
    "start_time": "2022-12-16T19:56:55.343Z"
   },
   {
    "duration": 103,
    "start_time": "2022-12-16T19:56:55.938Z"
   },
   {
    "duration": 387,
    "start_time": "2022-12-16T19:56:56.407Z"
   },
   {
    "duration": 281,
    "start_time": "2022-12-16T19:56:57.438Z"
   },
   {
    "duration": 370,
    "start_time": "2022-12-16T20:16:19.615Z"
   },
   {
    "duration": 262,
    "start_time": "2022-12-16T20:16:21.369Z"
   },
   {
    "duration": 320,
    "start_time": "2022-12-16T20:16:21.847Z"
   },
   {
    "duration": 278,
    "start_time": "2022-12-16T20:16:22.258Z"
   },
   {
    "duration": 324,
    "start_time": "2022-12-16T20:16:22.697Z"
   },
   {
    "duration": 189,
    "start_time": "2022-12-16T20:16:24.296Z"
   },
   {
    "duration": 286,
    "start_time": "2022-12-16T20:16:25.764Z"
   },
   {
    "duration": 4,
    "start_time": "2022-12-16T20:59:04.150Z"
   },
   {
    "duration": 5,
    "start_time": "2022-12-16T20:59:28.039Z"
   },
   {
    "duration": 5,
    "start_time": "2022-12-16T20:59:39.915Z"
   },
   {
    "duration": 15,
    "start_time": "2022-12-16T21:02:47.295Z"
   },
   {
    "duration": 117,
    "start_time": "2022-12-16T21:05:01.406Z"
   },
   {
    "duration": 16,
    "start_time": "2022-12-16T21:05:13.780Z"
   },
   {
    "duration": 15,
    "start_time": "2022-12-16T21:07:11.625Z"
   },
   {
    "duration": 15,
    "start_time": "2022-12-16T21:07:27.097Z"
   },
   {
    "duration": 162,
    "start_time": "2022-12-16T21:42:54.480Z"
   },
   {
    "duration": 16,
    "start_time": "2022-12-16T21:46:07.348Z"
   },
   {
    "duration": 19,
    "start_time": "2022-12-16T21:46:11.523Z"
   },
   {
    "duration": 16,
    "start_time": "2022-12-16T21:46:13.365Z"
   },
   {
    "duration": 14,
    "start_time": "2022-12-16T21:59:22.874Z"
   },
   {
    "duration": 14,
    "start_time": "2022-12-16T22:00:58.584Z"
   },
   {
    "duration": 15,
    "start_time": "2022-12-16T22:01:46.526Z"
   },
   {
    "duration": 18,
    "start_time": "2022-12-16T22:04:05.971Z"
   },
   {
    "duration": 14,
    "start_time": "2022-12-16T22:04:22.999Z"
   },
   {
    "duration": 11,
    "start_time": "2022-12-16T22:18:46.939Z"
   },
   {
    "duration": 42,
    "start_time": "2022-12-16T22:18:59.404Z"
   },
   {
    "duration": 40,
    "start_time": "2022-12-16T22:20:32.479Z"
   },
   {
    "duration": 1289,
    "start_time": "2022-12-17T12:31:05.550Z"
   },
   {
    "duration": 39,
    "start_time": "2022-12-17T12:31:07.064Z"
   },
   {
    "duration": 14,
    "start_time": "2022-12-17T12:31:07.598Z"
   },
   {
    "duration": 21,
    "start_time": "2022-12-17T12:31:08.140Z"
   },
   {
    "duration": 20,
    "start_time": "2022-12-17T12:31:08.593Z"
   },
   {
    "duration": 20,
    "start_time": "2022-12-17T12:31:09.122Z"
   },
   {
    "duration": 20,
    "start_time": "2022-12-17T12:31:09.600Z"
   },
   {
    "duration": 6,
    "start_time": "2022-12-17T12:31:12.340Z"
   },
   {
    "duration": 37,
    "start_time": "2022-12-17T12:31:12.798Z"
   },
   {
    "duration": 40,
    "start_time": "2022-12-17T12:31:13.334Z"
   },
   {
    "duration": 34,
    "start_time": "2022-12-17T12:31:16.100Z"
   },
   {
    "duration": 19,
    "start_time": "2022-12-17T12:31:17.145Z"
   },
   {
    "duration": 45,
    "start_time": "2022-12-17T12:31:20.633Z"
   },
   {
    "duration": 8,
    "start_time": "2022-12-17T12:41:13.494Z"
   },
   {
    "duration": 7,
    "start_time": "2022-12-17T12:41:17.457Z"
   },
   {
    "duration": 11,
    "start_time": "2022-12-17T12:41:31.850Z"
   },
   {
    "duration": 37,
    "start_time": "2022-12-17T12:42:08.506Z"
   },
   {
    "duration": 10,
    "start_time": "2022-12-17T12:42:11.169Z"
   },
   {
    "duration": 10,
    "start_time": "2022-12-17T12:42:51.695Z"
   },
   {
    "duration": 63,
    "start_time": "2022-12-17T12:42:56.060Z"
   },
   {
    "duration": 51,
    "start_time": "2022-12-17T12:42:56.883Z"
   },
   {
    "duration": 14,
    "start_time": "2022-12-17T12:42:57.269Z"
   },
   {
    "duration": 26,
    "start_time": "2022-12-17T12:42:57.638Z"
   },
   {
    "duration": 25,
    "start_time": "2022-12-17T12:42:58.015Z"
   },
   {
    "duration": 21,
    "start_time": "2022-12-17T12:42:58.414Z"
   },
   {
    "duration": 20,
    "start_time": "2022-12-17T12:42:58.948Z"
   },
   {
    "duration": 5,
    "start_time": "2022-12-17T12:43:01.131Z"
   },
   {
    "duration": 28,
    "start_time": "2022-12-17T12:43:01.806Z"
   },
   {
    "duration": 33,
    "start_time": "2022-12-17T12:43:02.619Z"
   },
   {
    "duration": 34,
    "start_time": "2022-12-17T12:43:04.318Z"
   },
   {
    "duration": 27,
    "start_time": "2022-12-17T12:43:05.537Z"
   },
   {
    "duration": 36,
    "start_time": "2022-12-17T12:43:06.395Z"
   },
   {
    "duration": 13,
    "start_time": "2022-12-17T12:43:09.067Z"
   },
   {
    "duration": 44,
    "start_time": "2022-12-17T12:44:11.710Z"
   },
   {
    "duration": 11,
    "start_time": "2022-12-17T12:44:16.393Z"
   },
   {
    "duration": 115,
    "start_time": "2022-12-17T12:44:55.336Z"
   },
   {
    "duration": 12,
    "start_time": "2022-12-17T12:45:11.934Z"
   },
   {
    "duration": 26,
    "start_time": "2022-12-17T12:45:37.964Z"
   },
   {
    "duration": 28,
    "start_time": "2022-12-17T12:46:49.719Z"
   },
   {
    "duration": 12,
    "start_time": "2022-12-17T12:47:03.658Z"
   },
   {
    "duration": 20,
    "start_time": "2022-12-17T12:47:21.053Z"
   },
   {
    "duration": 60,
    "start_time": "2022-12-17T12:48:17.893Z"
   },
   {
    "duration": 14,
    "start_time": "2022-12-17T12:48:30.718Z"
   },
   {
    "duration": 11,
    "start_time": "2022-12-17T12:49:58.997Z"
   },
   {
    "duration": 13,
    "start_time": "2022-12-17T12:50:20.080Z"
   },
   {
    "duration": 65,
    "start_time": "2022-12-17T12:50:30.760Z"
   },
   {
    "duration": 41,
    "start_time": "2022-12-17T12:50:30.827Z"
   },
   {
    "duration": 12,
    "start_time": "2022-12-17T12:50:30.870Z"
   },
   {
    "duration": 26,
    "start_time": "2022-12-17T12:50:31.156Z"
   },
   {
    "duration": 21,
    "start_time": "2022-12-17T12:50:31.562Z"
   },
   {
    "duration": 22,
    "start_time": "2022-12-17T12:50:31.974Z"
   },
   {
    "duration": 23,
    "start_time": "2022-12-17T12:50:32.203Z"
   },
   {
    "duration": 5,
    "start_time": "2022-12-17T12:50:33.953Z"
   },
   {
    "duration": 37,
    "start_time": "2022-12-17T12:50:34.544Z"
   },
   {
    "duration": 29,
    "start_time": "2022-12-17T12:50:43.328Z"
   },
   {
    "duration": 33,
    "start_time": "2022-12-17T12:50:44.223Z"
   },
   {
    "duration": 20,
    "start_time": "2022-12-17T12:50:45.121Z"
   },
   {
    "duration": 42,
    "start_time": "2022-12-17T12:50:45.838Z"
   },
   {
    "duration": 11,
    "start_time": "2022-12-17T12:50:48.269Z"
   },
   {
    "duration": 9,
    "start_time": "2022-12-17T12:51:22.244Z"
   },
   {
    "duration": 17,
    "start_time": "2022-12-17T12:52:13.008Z"
   },
   {
    "duration": 2,
    "start_time": "2022-12-17T12:52:28.440Z"
   },
   {
    "duration": 24,
    "start_time": "2022-12-17T12:52:29.976Z"
   },
   {
    "duration": 20,
    "start_time": "2022-12-17T12:52:38.094Z"
   },
   {
    "duration": 19,
    "start_time": "2022-12-17T12:52:42.632Z"
   },
   {
    "duration": 67,
    "start_time": "2022-12-17T12:52:50.319Z"
   },
   {
    "duration": 60,
    "start_time": "2022-12-17T12:52:51.199Z"
   },
   {
    "duration": 22,
    "start_time": "2022-12-17T12:52:51.594Z"
   },
   {
    "duration": 30,
    "start_time": "2022-12-17T12:52:51.992Z"
   },
   {
    "duration": 43,
    "start_time": "2022-12-17T12:52:52.413Z"
   },
   {
    "duration": 31,
    "start_time": "2022-12-17T12:52:52.829Z"
   },
   {
    "duration": 30,
    "start_time": "2022-12-17T12:52:53.242Z"
   },
   {
    "duration": 8,
    "start_time": "2022-12-17T12:52:54.574Z"
   },
   {
    "duration": 29,
    "start_time": "2022-12-17T12:52:55.037Z"
   },
   {
    "duration": 45,
    "start_time": "2022-12-17T12:52:55.492Z"
   },
   {
    "duration": 51,
    "start_time": "2022-12-17T12:52:55.918Z"
   },
   {
    "duration": 22,
    "start_time": "2022-12-17T12:52:56.705Z"
   },
   {
    "duration": 54,
    "start_time": "2022-12-17T12:52:56.940Z"
   },
   {
    "duration": 2,
    "start_time": "2022-12-17T12:52:57.651Z"
   },
   {
    "duration": 16,
    "start_time": "2022-12-17T12:52:59.509Z"
   },
   {
    "duration": 14,
    "start_time": "2022-12-17T12:53:09.491Z"
   },
   {
    "duration": 10,
    "start_time": "2022-12-17T12:53:12.800Z"
   },
   {
    "duration": 17,
    "start_time": "2022-12-17T12:53:17.844Z"
   },
   {
    "duration": 18,
    "start_time": "2022-12-17T12:53:40.518Z"
   },
   {
    "duration": 35,
    "start_time": "2022-12-17T12:53:46.527Z"
   },
   {
    "duration": 18,
    "start_time": "2022-12-17T12:54:18.050Z"
   },
   {
    "duration": 9,
    "start_time": "2022-12-17T13:04:10.436Z"
   },
   {
    "duration": 16,
    "start_time": "2022-12-17T13:04:12.040Z"
   },
   {
    "duration": 17,
    "start_time": "2022-12-17T13:04:18.503Z"
   },
   {
    "duration": 330,
    "start_time": "2022-12-17T13:04:19.251Z"
   },
   {
    "duration": 995,
    "start_time": "2022-12-17T13:04:20.010Z"
   },
   {
    "duration": 16,
    "start_time": "2022-12-17T13:04:21.211Z"
   },
   {
    "duration": 30,
    "start_time": "2022-12-17T13:04:22.032Z"
   },
   {
    "duration": 982,
    "start_time": "2022-12-17T13:04:22.523Z"
   },
   {
    "duration": 92,
    "start_time": "2022-12-17T13:04:23.554Z"
   },
   {
    "duration": 93,
    "start_time": "2022-12-17T13:04:24.069Z"
   },
   {
    "duration": 99,
    "start_time": "2022-12-17T13:04:24.570Z"
   },
   {
    "duration": 99,
    "start_time": "2022-12-17T13:04:25.096Z"
   },
   {
    "duration": 337,
    "start_time": "2022-12-17T13:04:25.593Z"
   },
   {
    "duration": 264,
    "start_time": "2022-12-17T13:04:26.094Z"
   },
   {
    "duration": 267,
    "start_time": "2022-12-17T13:04:29.328Z"
   },
   {
    "duration": 269,
    "start_time": "2022-12-17T13:04:31.417Z"
   },
   {
    "duration": 276,
    "start_time": "2022-12-17T13:04:31.834Z"
   },
   {
    "duration": 264,
    "start_time": "2022-12-17T13:04:32.261Z"
   },
   {
    "duration": 304,
    "start_time": "2022-12-17T13:04:32.679Z"
   },
   {
    "duration": 175,
    "start_time": "2022-12-17T13:04:33.474Z"
   },
   {
    "duration": 268,
    "start_time": "2022-12-17T13:04:33.896Z"
   },
   {
    "duration": 14,
    "start_time": "2022-12-17T13:04:35.914Z"
   },
   {
    "duration": 20,
    "start_time": "2022-12-17T13:04:36.586Z"
   },
   {
    "duration": 14,
    "start_time": "2022-12-17T13:04:37.118Z"
   },
   {
    "duration": 13,
    "start_time": "2022-12-17T13:04:38.223Z"
   },
   {
    "duration": 13,
    "start_time": "2022-12-17T13:04:38.808Z"
   },
   {
    "duration": 13,
    "start_time": "2022-12-17T13:04:39.443Z"
   },
   {
    "duration": 13,
    "start_time": "2022-12-17T13:04:41.563Z"
   },
   {
    "duration": 17,
    "start_time": "2022-12-17T13:04:42.575Z"
   },
   {
    "duration": 13,
    "start_time": "2022-12-17T13:04:43.240Z"
   },
   {
    "duration": 110,
    "start_time": "2022-12-17T13:10:01.082Z"
   },
   {
    "duration": 18,
    "start_time": "2022-12-17T13:10:36.955Z"
   },
   {
    "duration": 23,
    "start_time": "2022-12-17T13:10:47.345Z"
   },
   {
    "duration": 11,
    "start_time": "2022-12-17T13:22:35.171Z"
   },
   {
    "duration": 23,
    "start_time": "2022-12-17T13:22:40.116Z"
   },
   {
    "duration": 74,
    "start_time": "2022-12-17T13:22:51.646Z"
   },
   {
    "duration": 41,
    "start_time": "2022-12-17T13:22:52.313Z"
   },
   {
    "duration": 13,
    "start_time": "2022-12-17T13:22:52.655Z"
   },
   {
    "duration": 21,
    "start_time": "2022-12-17T13:22:52.985Z"
   },
   {
    "duration": 20,
    "start_time": "2022-12-17T13:22:53.325Z"
   },
   {
    "duration": 18,
    "start_time": "2022-12-17T13:22:53.682Z"
   },
   {
    "duration": 19,
    "start_time": "2022-12-17T13:22:54.075Z"
   },
   {
    "duration": 8,
    "start_time": "2022-12-17T13:22:55.507Z"
   },
   {
    "duration": 27,
    "start_time": "2022-12-17T13:22:55.986Z"
   },
   {
    "duration": 35,
    "start_time": "2022-12-17T13:22:56.581Z"
   },
   {
    "duration": 36,
    "start_time": "2022-12-17T13:22:57.451Z"
   },
   {
    "duration": 19,
    "start_time": "2022-12-17T13:22:58.528Z"
   },
   {
    "duration": 38,
    "start_time": "2022-12-17T13:22:59.337Z"
   },
   {
    "duration": 3,
    "start_time": "2022-12-17T13:23:02.854Z"
   },
   {
    "duration": 8,
    "start_time": "2022-12-17T13:23:04.767Z"
   },
   {
    "duration": 16,
    "start_time": "2022-12-17T13:23:06.694Z"
   },
   {
    "duration": 15,
    "start_time": "2022-12-17T13:23:32.937Z"
   },
   {
    "duration": 290,
    "start_time": "2022-12-17T13:24:18.242Z"
   },
   {
    "duration": 985,
    "start_time": "2022-12-17T13:24:19.741Z"
   },
   {
    "duration": 16,
    "start_time": "2022-12-17T13:24:21.095Z"
   },
   {
    "duration": 30,
    "start_time": "2022-12-17T13:24:21.968Z"
   },
   {
    "duration": 925,
    "start_time": "2022-12-17T13:24:22.464Z"
   },
   {
    "duration": 97,
    "start_time": "2022-12-17T13:24:23.391Z"
   },
   {
    "duration": 88,
    "start_time": "2022-12-17T13:24:23.794Z"
   },
   {
    "duration": 86,
    "start_time": "2022-12-17T13:24:24.251Z"
   },
   {
    "duration": 92,
    "start_time": "2022-12-17T13:24:24.709Z"
   },
   {
    "duration": 297,
    "start_time": "2022-12-17T13:24:25.143Z"
   },
   {
    "duration": 335,
    "start_time": "2022-12-17T13:24:25.574Z"
   },
   {
    "duration": 278,
    "start_time": "2022-12-17T13:24:27.101Z"
   },
   {
    "duration": 245,
    "start_time": "2022-12-17T13:25:06.499Z"
   },
   {
    "duration": 252,
    "start_time": "2022-12-17T13:25:08.131Z"
   },
   {
    "duration": 254,
    "start_time": "2022-12-17T13:25:10.578Z"
   },
   {
    "duration": 279,
    "start_time": "2022-12-17T13:25:11.852Z"
   },
   {
    "duration": 173,
    "start_time": "2022-12-17T13:25:13.974Z"
   },
   {
    "duration": 260,
    "start_time": "2022-12-17T13:25:14.653Z"
   },
   {
    "duration": 12,
    "start_time": "2022-12-17T13:25:17.033Z"
   },
   {
    "duration": 13,
    "start_time": "2022-12-17T13:25:17.546Z"
   },
   {
    "duration": 14,
    "start_time": "2022-12-17T13:25:18.066Z"
   },
   {
    "duration": 14,
    "start_time": "2022-12-17T13:25:19.063Z"
   },
   {
    "duration": 13,
    "start_time": "2022-12-17T13:25:19.552Z"
   },
   {
    "duration": 13,
    "start_time": "2022-12-17T13:25:20.004Z"
   },
   {
    "duration": 13,
    "start_time": "2022-12-17T13:25:21.024Z"
   },
   {
    "duration": 14,
    "start_time": "2022-12-17T13:25:21.492Z"
   },
   {
    "duration": 24,
    "start_time": "2022-12-17T13:25:22.015Z"
   },
   {
    "duration": 40,
    "start_time": "2022-12-17T13:25:22.598Z"
   },
   {
    "duration": 9,
    "start_time": "2022-12-17T13:27:53.302Z"
   },
   {
    "duration": 18,
    "start_time": "2022-12-17T13:27:57.356Z"
   },
   {
    "duration": 10,
    "start_time": "2022-12-17T13:31:56.745Z"
   },
   {
    "duration": 18,
    "start_time": "2022-12-17T13:31:57.392Z"
   },
   {
    "duration": 16,
    "start_time": "2022-12-17T13:31:58.414Z"
   },
   {
    "duration": 320,
    "start_time": "2022-12-17T13:31:59.178Z"
   },
   {
    "duration": 1128,
    "start_time": "2022-12-17T13:31:59.908Z"
   },
   {
    "duration": 14,
    "start_time": "2022-12-17T13:32:01.053Z"
   },
   {
    "duration": 30,
    "start_time": "2022-12-17T13:32:01.875Z"
   },
   {
    "duration": 979,
    "start_time": "2022-12-17T13:32:02.278Z"
   },
   {
    "duration": 108,
    "start_time": "2022-12-17T13:32:03.259Z"
   },
   {
    "duration": 92,
    "start_time": "2022-12-17T13:32:03.694Z"
   },
   {
    "duration": 90,
    "start_time": "2022-12-17T13:32:04.037Z"
   },
   {
    "duration": 96,
    "start_time": "2022-12-17T13:32:04.364Z"
   },
   {
    "duration": 256,
    "start_time": "2022-12-17T13:32:04.684Z"
   },
   {
    "duration": 265,
    "start_time": "2022-12-17T13:32:04.996Z"
   },
   {
    "duration": 268,
    "start_time": "2022-12-17T13:32:05.974Z"
   },
   {
    "duration": 226,
    "start_time": "2022-12-17T13:32:06.678Z"
   },
   {
    "duration": 338,
    "start_time": "2022-12-17T13:32:07.025Z"
   },
   {
    "duration": 240,
    "start_time": "2022-12-17T13:32:07.409Z"
   },
   {
    "duration": 293,
    "start_time": "2022-12-17T13:32:07.743Z"
   },
   {
    "duration": 184,
    "start_time": "2022-12-17T13:32:08.528Z"
   },
   {
    "duration": 252,
    "start_time": "2022-12-17T13:32:08.885Z"
   },
   {
    "duration": 14,
    "start_time": "2022-12-17T13:32:10.374Z"
   },
   {
    "duration": 13,
    "start_time": "2022-12-17T13:32:10.826Z"
   },
   {
    "duration": 14,
    "start_time": "2022-12-17T13:32:11.268Z"
   },
   {
    "duration": 15,
    "start_time": "2022-12-17T13:32:12.219Z"
   },
   {
    "duration": 13,
    "start_time": "2022-12-17T13:32:12.646Z"
   },
   {
    "duration": 14,
    "start_time": "2022-12-17T13:32:13.149Z"
   },
   {
    "duration": 12,
    "start_time": "2022-12-17T13:32:14.158Z"
   },
   {
    "duration": 14,
    "start_time": "2022-12-17T13:32:14.834Z"
   },
   {
    "duration": 23,
    "start_time": "2022-12-17T13:32:15.429Z"
   },
   {
    "duration": 69,
    "start_time": "2022-12-17T13:32:15.916Z"
   },
   {
    "duration": 43,
    "start_time": "2022-12-17T13:44:59.112Z"
   },
   {
    "duration": 728,
    "start_time": "2022-12-17T13:47:21.316Z"
   },
   {
    "duration": 24,
    "start_time": "2022-12-17T13:49:11.799Z"
   },
   {
    "duration": 687,
    "start_time": "2022-12-17T13:49:13.658Z"
   },
   {
    "duration": 9,
    "start_time": "2022-12-17T13:53:23.972Z"
   },
   {
    "duration": 186,
    "start_time": "2022-12-17T13:53:36.095Z"
   },
   {
    "duration": 194,
    "start_time": "2022-12-17T13:56:03.958Z"
   },
   {
    "duration": 164,
    "start_time": "2022-12-17T13:58:57.343Z"
   },
   {
    "duration": 154,
    "start_time": "2022-12-17T13:59:55.059Z"
   },
   {
    "duration": 155,
    "start_time": "2022-12-17T13:59:59.337Z"
   },
   {
    "duration": 671,
    "start_time": "2022-12-17T14:55:22.113Z"
   },
   {
    "duration": 19,
    "start_time": "2022-12-17T14:55:31.453Z"
   },
   {
    "duration": 13,
    "start_time": "2022-12-17T15:06:18.198Z"
   },
   {
    "duration": 14,
    "start_time": "2022-12-17T15:07:29.725Z"
   },
   {
    "duration": 11,
    "start_time": "2022-12-17T15:22:43.120Z"
   },
   {
    "duration": 10,
    "start_time": "2022-12-17T15:24:28.798Z"
   },
   {
    "duration": 9,
    "start_time": "2022-12-17T15:33:07.457Z"
   },
   {
    "duration": 9,
    "start_time": "2022-12-17T15:33:37.594Z"
   },
   {
    "duration": 9,
    "start_time": "2022-12-17T15:34:29.247Z"
   },
   {
    "duration": 13,
    "start_time": "2022-12-17T15:34:48.014Z"
   },
   {
    "duration": 10,
    "start_time": "2022-12-17T15:36:27.473Z"
   },
   {
    "duration": 9,
    "start_time": "2022-12-17T15:37:48.209Z"
   },
   {
    "duration": 50,
    "start_time": "2022-12-17T15:41:05.537Z"
   },
   {
    "duration": 10,
    "start_time": "2022-12-17T15:41:21.877Z"
   },
   {
    "duration": 10,
    "start_time": "2022-12-17T15:41:30.229Z"
   },
   {
    "duration": 10,
    "start_time": "2022-12-17T15:41:33.715Z"
   },
   {
    "duration": 66,
    "start_time": "2022-12-17T15:41:40.084Z"
   },
   {
    "duration": 42,
    "start_time": "2022-12-17T15:41:40.700Z"
   },
   {
    "duration": 12,
    "start_time": "2022-12-17T15:41:41.032Z"
   },
   {
    "duration": 24,
    "start_time": "2022-12-17T15:41:41.389Z"
   },
   {
    "duration": 20,
    "start_time": "2022-12-17T15:41:41.723Z"
   },
   {
    "duration": 21,
    "start_time": "2022-12-17T15:41:42.044Z"
   },
   {
    "duration": 21,
    "start_time": "2022-12-17T15:41:42.379Z"
   },
   {
    "duration": 6,
    "start_time": "2022-12-17T15:41:43.052Z"
   },
   {
    "duration": 24,
    "start_time": "2022-12-17T15:41:43.349Z"
   },
   {
    "duration": 30,
    "start_time": "2022-12-17T15:41:43.653Z"
   },
   {
    "duration": 34,
    "start_time": "2022-12-17T15:41:43.968Z"
   },
   {
    "duration": 20,
    "start_time": "2022-12-17T15:41:44.284Z"
   },
   {
    "duration": 48,
    "start_time": "2022-12-17T15:41:44.579Z"
   },
   {
    "duration": 2,
    "start_time": "2022-12-17T15:41:44.965Z"
   },
   {
    "duration": 14,
    "start_time": "2022-12-17T15:41:45.471Z"
   },
   {
    "duration": 19,
    "start_time": "2022-12-17T15:41:45.793Z"
   },
   {
    "duration": 16,
    "start_time": "2022-12-17T15:41:46.391Z"
   },
   {
    "duration": 319,
    "start_time": "2022-12-17T15:41:47.061Z"
   },
   {
    "duration": 1131,
    "start_time": "2022-12-17T15:41:47.932Z"
   },
   {
    "duration": 16,
    "start_time": "2022-12-17T15:41:49.142Z"
   },
   {
    "duration": 29,
    "start_time": "2022-12-17T15:41:49.868Z"
   },
   {
    "duration": 966,
    "start_time": "2022-12-17T15:41:50.211Z"
   },
   {
    "duration": 100,
    "start_time": "2022-12-17T15:41:51.179Z"
   },
   {
    "duration": 98,
    "start_time": "2022-12-17T15:41:51.281Z"
   },
   {
    "duration": 95,
    "start_time": "2022-12-17T15:41:51.502Z"
   },
   {
    "duration": 95,
    "start_time": "2022-12-17T15:41:51.826Z"
   },
   {
    "duration": 254,
    "start_time": "2022-12-17T15:41:52.196Z"
   },
   {
    "duration": 270,
    "start_time": "2022-12-17T15:41:52.544Z"
   },
   {
    "duration": 261,
    "start_time": "2022-12-17T15:41:53.970Z"
   },
   {
    "duration": 312,
    "start_time": "2022-12-17T15:41:55.219Z"
   },
   {
    "duration": 350,
    "start_time": "2022-12-17T15:41:55.639Z"
   },
   {
    "duration": 250,
    "start_time": "2022-12-17T15:41:56.075Z"
   },
   {
    "duration": 292,
    "start_time": "2022-12-17T15:41:56.533Z"
   },
   {
    "duration": 163,
    "start_time": "2022-12-17T15:41:57.534Z"
   },
   {
    "duration": 258,
    "start_time": "2022-12-17T15:41:58.076Z"
   },
   {
    "duration": 17,
    "start_time": "2022-12-17T15:41:59.888Z"
   },
   {
    "duration": 16,
    "start_time": "2022-12-17T15:42:00.408Z"
   },
   {
    "duration": 15,
    "start_time": "2022-12-17T15:42:00.910Z"
   },
   {
    "duration": 16,
    "start_time": "2022-12-17T15:42:01.885Z"
   },
   {
    "duration": 14,
    "start_time": "2022-12-17T15:42:02.429Z"
   },
   {
    "duration": 15,
    "start_time": "2022-12-17T15:42:02.993Z"
   },
   {
    "duration": 13,
    "start_time": "2022-12-17T15:42:04.023Z"
   },
   {
    "duration": 14,
    "start_time": "2022-12-17T15:42:04.523Z"
   },
   {
    "duration": 23,
    "start_time": "2022-12-17T15:42:05.029Z"
   },
   {
    "duration": 167,
    "start_time": "2022-12-17T15:42:05.539Z"
   },
   {
    "duration": 168,
    "start_time": "2022-12-17T15:42:06.116Z"
   },
   {
    "duration": 160,
    "start_time": "2022-12-17T15:42:08.874Z"
   },
   {
    "duration": 10,
    "start_time": "2022-12-17T15:42:15.561Z"
   },
   {
    "duration": 8,
    "start_time": "2022-12-17T15:42:16.786Z"
   },
   {
    "duration": 12,
    "start_time": "2022-12-17T15:43:49.477Z"
   },
   {
    "duration": 13,
    "start_time": "2022-12-17T15:44:00.323Z"
   },
   {
    "duration": 11,
    "start_time": "2022-12-17T15:44:17.713Z"
   },
   {
    "duration": 84,
    "start_time": "2022-12-17T15:45:16.058Z"
   },
   {
    "duration": 12,
    "start_time": "2022-12-17T15:47:45.536Z"
   },
   {
    "duration": 15,
    "start_time": "2022-12-17T15:48:43.271Z"
   },
   {
    "duration": 12,
    "start_time": "2022-12-17T15:48:52.983Z"
   },
   {
    "duration": 12,
    "start_time": "2022-12-17T15:49:44.001Z"
   },
   {
    "duration": 13,
    "start_time": "2022-12-17T15:50:26.013Z"
   },
   {
    "duration": 43,
    "start_time": "2022-12-17T15:56:25.413Z"
   },
   {
    "duration": 21,
    "start_time": "2022-12-17T15:58:11.854Z"
   },
   {
    "duration": 39,
    "start_time": "2022-12-17T15:58:12.872Z"
   },
   {
    "duration": 2,
    "start_time": "2022-12-17T15:58:17.777Z"
   },
   {
    "duration": 10,
    "start_time": "2022-12-17T15:58:21.047Z"
   },
   {
    "duration": 16,
    "start_time": "2022-12-17T15:58:23.513Z"
   },
   {
    "duration": 22,
    "start_time": "2022-12-17T15:58:31.610Z"
   },
   {
    "duration": 321,
    "start_time": "2022-12-17T15:58:40.256Z"
   },
   {
    "duration": 1290,
    "start_time": "2022-12-17T15:58:51.567Z"
   },
   {
    "duration": 1118,
    "start_time": "2022-12-17T15:58:59.634Z"
   },
   {
    "duration": 14,
    "start_time": "2022-12-17T15:59:16.020Z"
   },
   {
    "duration": 33,
    "start_time": "2022-12-17T15:59:20.984Z"
   },
   {
    "duration": 877,
    "start_time": "2022-12-17T15:59:32.432Z"
   },
   {
    "duration": 97,
    "start_time": "2022-12-17T15:59:38.503Z"
   },
   {
    "duration": 93,
    "start_time": "2022-12-17T15:59:40.260Z"
   },
   {
    "duration": 90,
    "start_time": "2022-12-17T15:59:41.332Z"
   },
   {
    "duration": 86,
    "start_time": "2022-12-17T15:59:43.825Z"
   },
   {
    "duration": 385,
    "start_time": "2022-12-17T15:59:47.357Z"
   },
   {
    "duration": 267,
    "start_time": "2022-12-17T15:59:50.557Z"
   },
   {
    "duration": 31,
    "start_time": "2022-12-17T16:03:12.307Z"
   },
   {
    "duration": 21,
    "start_time": "2022-12-17T16:03:14.359Z"
   },
   {
    "duration": 70,
    "start_time": "2022-12-17T16:03:20.556Z"
   },
   {
    "duration": 43,
    "start_time": "2022-12-17T16:03:21.243Z"
   },
   {
    "duration": 13,
    "start_time": "2022-12-17T16:03:21.576Z"
   },
   {
    "duration": 20,
    "start_time": "2022-12-17T16:03:22.039Z"
   },
   {
    "duration": 19,
    "start_time": "2022-12-17T16:03:22.663Z"
   },
   {
    "duration": 20,
    "start_time": "2022-12-17T16:03:23.181Z"
   },
   {
    "duration": 20,
    "start_time": "2022-12-17T16:03:23.688Z"
   },
   {
    "duration": 6,
    "start_time": "2022-12-17T16:03:25.706Z"
   },
   {
    "duration": 30,
    "start_time": "2022-12-17T16:03:27.563Z"
   },
   {
    "duration": 33,
    "start_time": "2022-12-17T16:03:30.326Z"
   },
   {
    "duration": 43,
    "start_time": "2022-12-17T16:03:31.660Z"
   },
   {
    "duration": 19,
    "start_time": "2022-12-17T16:03:33.255Z"
   },
   {
    "duration": 39,
    "start_time": "2022-12-17T16:03:35.829Z"
   },
   {
    "duration": 3,
    "start_time": "2022-12-17T16:03:40.492Z"
   },
   {
    "duration": 14,
    "start_time": "2022-12-17T16:03:42.051Z"
   },
   {
    "duration": 24,
    "start_time": "2022-12-17T16:03:42.461Z"
   },
   {
    "duration": 20,
    "start_time": "2022-12-17T16:03:43.286Z"
   },
   {
    "duration": 305,
    "start_time": "2022-12-17T16:03:44.086Z"
   },
   {
    "duration": 1069,
    "start_time": "2022-12-17T16:03:44.887Z"
   },
   {
    "duration": 14,
    "start_time": "2022-12-17T16:03:46.011Z"
   },
   {
    "duration": 31,
    "start_time": "2022-12-17T16:03:46.864Z"
   },
   {
    "duration": 1025,
    "start_time": "2022-12-17T16:03:47.267Z"
   },
   {
    "duration": 107,
    "start_time": "2022-12-17T16:03:48.294Z"
   },
   {
    "duration": 121,
    "start_time": "2022-12-17T16:03:48.484Z"
   },
   {
    "duration": 87,
    "start_time": "2022-12-17T16:03:49.293Z"
   },
   {
    "duration": 94,
    "start_time": "2022-12-17T16:03:50.057Z"
   },
   {
    "duration": 246,
    "start_time": "2022-12-17T16:03:50.760Z"
   },
   {
    "duration": 275,
    "start_time": "2022-12-17T16:03:51.395Z"
   },
   {
    "duration": 49,
    "start_time": "2022-12-17T16:05:44.484Z"
   },
   {
    "duration": 33,
    "start_time": "2022-12-17T16:05:47.215Z"
   },
   {
    "duration": 57,
    "start_time": "2022-12-17T16:05:47.778Z"
   },
   {
    "duration": 3,
    "start_time": "2022-12-17T16:05:48.653Z"
   },
   {
    "duration": 13,
    "start_time": "2022-12-17T16:05:49.748Z"
   },
   {
    "duration": 19,
    "start_time": "2022-12-17T16:05:50.202Z"
   },
   {
    "duration": 21,
    "start_time": "2022-12-17T16:05:51.156Z"
   },
   {
    "duration": 442,
    "start_time": "2022-12-17T16:05:52.143Z"
   },
   {
    "duration": 1112,
    "start_time": "2022-12-17T16:05:53.285Z"
   },
   {
    "duration": 14,
    "start_time": "2022-12-17T16:05:56.197Z"
   },
   {
    "duration": 41,
    "start_time": "2022-12-17T16:05:57.621Z"
   },
   {
    "duration": 1050,
    "start_time": "2022-12-17T16:05:58.437Z"
   },
   {
    "duration": 97,
    "start_time": "2022-12-17T16:06:00.102Z"
   },
   {
    "duration": 103,
    "start_time": "2022-12-17T16:06:00.777Z"
   },
   {
    "duration": 124,
    "start_time": "2022-12-17T16:06:01.542Z"
   },
   {
    "duration": 99,
    "start_time": "2022-12-17T16:06:02.909Z"
   },
   {
    "duration": 274,
    "start_time": "2022-12-17T16:06:03.999Z"
   },
   {
    "duration": 345,
    "start_time": "2022-12-17T16:06:05.549Z"
   },
   {
    "duration": 303,
    "start_time": "2022-12-17T16:07:55.583Z"
   },
   {
    "duration": 272,
    "start_time": "2022-12-17T16:09:16.052Z"
   },
   {
    "duration": 397,
    "start_time": "2022-12-17T16:09:33.380Z"
   },
   {
    "duration": 29,
    "start_time": "2022-12-17T16:09:58.143Z"
   },
   {
    "duration": 285,
    "start_time": "2022-12-17T16:10:09.766Z"
   },
   {
    "duration": 262,
    "start_time": "2022-12-17T16:10:53.129Z"
   },
   {
    "duration": 50,
    "start_time": "2022-12-17T16:12:40.208Z"
   },
   {
    "duration": 72,
    "start_time": "2022-12-17T16:12:49.407Z"
   },
   {
    "duration": 262,
    "start_time": "2022-12-17T16:12:56.355Z"
   },
   {
    "duration": 32,
    "start_time": "2022-12-17T16:13:13.857Z"
   },
   {
    "duration": 84,
    "start_time": "2022-12-17T16:13:19.150Z"
   },
   {
    "duration": 41,
    "start_time": "2022-12-17T16:13:19.983Z"
   },
   {
    "duration": 12,
    "start_time": "2022-12-17T16:13:20.404Z"
   },
   {
    "duration": 20,
    "start_time": "2022-12-17T16:13:20.812Z"
   },
   {
    "duration": 20,
    "start_time": "2022-12-17T16:13:21.220Z"
   },
   {
    "duration": 20,
    "start_time": "2022-12-17T16:13:21.577Z"
   },
   {
    "duration": 20,
    "start_time": "2022-12-17T16:13:21.873Z"
   },
   {
    "duration": 6,
    "start_time": "2022-12-17T16:13:23.325Z"
   },
   {
    "duration": 27,
    "start_time": "2022-12-17T16:13:23.966Z"
   },
   {
    "duration": 37,
    "start_time": "2022-12-17T16:13:24.564Z"
   },
   {
    "duration": 42,
    "start_time": "2022-12-17T16:13:25.462Z"
   },
   {
    "duration": 22,
    "start_time": "2022-12-17T16:13:26.833Z"
   },
   {
    "duration": 50,
    "start_time": "2022-12-17T16:13:30.224Z"
   },
   {
    "duration": 2,
    "start_time": "2022-12-17T16:13:30.756Z"
   },
   {
    "duration": 10,
    "start_time": "2022-12-17T16:13:31.917Z"
   },
   {
    "duration": 17,
    "start_time": "2022-12-17T16:13:32.401Z"
   },
   {
    "duration": 21,
    "start_time": "2022-12-17T16:13:33.553Z"
   },
   {
    "duration": 326,
    "start_time": "2022-12-17T16:13:34.586Z"
   },
   {
    "duration": 1012,
    "start_time": "2022-12-17T16:13:35.662Z"
   },
   {
    "duration": 14,
    "start_time": "2022-12-17T16:13:37.191Z"
   },
   {
    "duration": 41,
    "start_time": "2022-12-17T16:13:38.187Z"
   },
   {
    "duration": 975,
    "start_time": "2022-12-17T16:13:38.646Z"
   },
   {
    "duration": 93,
    "start_time": "2022-12-17T16:13:39.650Z"
   },
   {
    "duration": 89,
    "start_time": "2022-12-17T16:13:40.143Z"
   },
   {
    "duration": 91,
    "start_time": "2022-12-17T16:13:40.637Z"
   },
   {
    "duration": 104,
    "start_time": "2022-12-17T16:13:41.121Z"
   },
   {
    "duration": 251,
    "start_time": "2022-12-17T16:13:41.678Z"
   },
   {
    "duration": 390,
    "start_time": "2022-12-17T16:13:42.433Z"
   },
   {
    "duration": 287,
    "start_time": "2022-12-17T16:13:48.086Z"
   },
   {
    "duration": 277,
    "start_time": "2022-12-17T16:13:53.394Z"
   },
   {
    "duration": 286,
    "start_time": "2022-12-17T16:13:54.041Z"
   },
   {
    "duration": 246,
    "start_time": "2022-12-17T16:13:54.643Z"
   },
   {
    "duration": 338,
    "start_time": "2022-12-17T16:13:55.051Z"
   },
   {
    "duration": 170,
    "start_time": "2022-12-17T16:13:55.868Z"
   },
   {
    "duration": 261,
    "start_time": "2022-12-17T16:13:56.335Z"
   },
   {
    "duration": 13,
    "start_time": "2022-12-17T16:13:57.942Z"
   },
   {
    "duration": 16,
    "start_time": "2022-12-17T16:13:58.576Z"
   },
   {
    "duration": 14,
    "start_time": "2022-12-17T16:13:59.333Z"
   },
   {
    "duration": 14,
    "start_time": "2022-12-17T16:14:00.589Z"
   },
   {
    "duration": 15,
    "start_time": "2022-12-17T16:14:01.113Z"
   },
   {
    "duration": 16,
    "start_time": "2022-12-17T16:14:01.651Z"
   },
   {
    "duration": 14,
    "start_time": "2022-12-17T16:14:02.459Z"
   },
   {
    "duration": 13,
    "start_time": "2022-12-17T16:14:02.863Z"
   },
   {
    "duration": 22,
    "start_time": "2022-12-17T16:14:03.214Z"
   },
   {
    "duration": 176,
    "start_time": "2022-12-17T16:14:03.581Z"
   },
   {
    "duration": 188,
    "start_time": "2022-12-17T16:14:03.969Z"
   },
   {
    "duration": 224,
    "start_time": "2022-12-17T16:14:04.387Z"
   },
   {
    "duration": 10,
    "start_time": "2022-12-17T16:14:48.245Z"
   },
   {
    "duration": 10,
    "start_time": "2022-12-17T16:15:00.380Z"
   },
   {
    "duration": 10,
    "start_time": "2022-12-17T16:17:14.495Z"
   },
   {
    "duration": 10,
    "start_time": "2022-12-17T16:18:05.650Z"
   },
   {
    "duration": 11,
    "start_time": "2022-12-17T16:19:23.223Z"
   },
   {
    "duration": 51,
    "start_time": "2022-12-17T16:22:08.157Z"
   },
   {
    "duration": 8,
    "start_time": "2022-12-17T16:22:26.195Z"
   },
   {
    "duration": 10,
    "start_time": "2022-12-17T16:52:57.744Z"
   },
   {
    "duration": 14,
    "start_time": "2022-12-17T16:53:24.097Z"
   },
   {
    "duration": 18,
    "start_time": "2022-12-17T16:58:27.534Z"
   },
   {
    "duration": 1695,
    "start_time": "2022-12-18T08:07:35.778Z"
   },
   {
    "duration": 40,
    "start_time": "2022-12-18T08:07:37.475Z"
   },
   {
    "duration": 12,
    "start_time": "2022-12-18T08:07:37.516Z"
   },
   {
    "duration": 24,
    "start_time": "2022-12-18T08:07:37.529Z"
   },
   {
    "duration": 30,
    "start_time": "2022-12-18T08:07:37.556Z"
   },
   {
    "duration": 20,
    "start_time": "2022-12-18T08:07:37.587Z"
   },
   {
    "duration": 20,
    "start_time": "2022-12-18T08:07:37.622Z"
   },
   {
    "duration": 6,
    "start_time": "2022-12-18T08:07:37.643Z"
   },
   {
    "duration": 36,
    "start_time": "2022-12-18T08:07:37.650Z"
   },
   {
    "duration": 68,
    "start_time": "2022-12-18T08:07:37.688Z"
   },
   {
    "duration": 64,
    "start_time": "2022-12-18T08:07:37.758Z"
   },
   {
    "duration": 32,
    "start_time": "2022-12-18T08:07:37.824Z"
   },
   {
    "duration": 64,
    "start_time": "2022-12-18T08:07:37.858Z"
   },
   {
    "duration": 3,
    "start_time": "2022-12-18T08:07:37.925Z"
   },
   {
    "duration": 18,
    "start_time": "2022-12-18T08:07:37.929Z"
   },
   {
    "duration": 19,
    "start_time": "2022-12-18T08:07:37.949Z"
   },
   {
    "duration": 17,
    "start_time": "2022-12-18T08:07:37.970Z"
   },
   {
    "duration": 366,
    "start_time": "2022-12-18T08:07:37.988Z"
   },
   {
    "duration": 1096,
    "start_time": "2022-12-18T08:07:38.355Z"
   },
   {
    "duration": 16,
    "start_time": "2022-12-18T08:07:39.452Z"
   },
   {
    "duration": 53,
    "start_time": "2022-12-18T08:07:39.469Z"
   },
   {
    "duration": 1024,
    "start_time": "2022-12-18T08:07:39.524Z"
   },
   {
    "duration": 112,
    "start_time": "2022-12-18T08:07:40.550Z"
   },
   {
    "duration": 107,
    "start_time": "2022-12-18T08:07:40.665Z"
   },
   {
    "duration": 114,
    "start_time": "2022-12-18T08:07:40.774Z"
   },
   {
    "duration": 113,
    "start_time": "2022-12-18T08:07:40.890Z"
   },
   {
    "duration": 359,
    "start_time": "2022-12-18T08:07:41.005Z"
   },
   {
    "duration": 289,
    "start_time": "2022-12-18T08:07:41.366Z"
   },
   {
    "duration": 312,
    "start_time": "2022-12-18T08:07:41.657Z"
   },
   {
    "duration": 258,
    "start_time": "2022-12-18T08:07:41.971Z"
   },
   {
    "duration": 276,
    "start_time": "2022-12-18T08:07:42.231Z"
   },
   {
    "duration": 266,
    "start_time": "2022-12-18T08:07:42.509Z"
   },
   {
    "duration": 320,
    "start_time": "2022-12-18T08:07:42.776Z"
   },
   {
    "duration": 201,
    "start_time": "2022-12-18T08:07:43.097Z"
   },
   {
    "duration": 283,
    "start_time": "2022-12-18T08:07:43.300Z"
   },
   {
    "duration": 14,
    "start_time": "2022-12-18T08:07:43.585Z"
   },
   {
    "duration": 34,
    "start_time": "2022-12-18T08:07:43.601Z"
   },
   {
    "duration": 13,
    "start_time": "2022-12-18T08:07:43.637Z"
   },
   {
    "duration": 15,
    "start_time": "2022-12-18T08:07:43.652Z"
   },
   {
    "duration": 17,
    "start_time": "2022-12-18T08:07:43.668Z"
   },
   {
    "duration": 36,
    "start_time": "2022-12-18T08:07:43.688Z"
   },
   {
    "duration": 14,
    "start_time": "2022-12-18T08:07:43.726Z"
   },
   {
    "duration": 13,
    "start_time": "2022-12-18T08:07:43.742Z"
   },
   {
    "duration": 23,
    "start_time": "2022-12-18T08:07:43.756Z"
   },
   {
    "duration": 304,
    "start_time": "2022-12-18T08:07:43.780Z"
   },
   {
    "duration": 230,
    "start_time": "2022-12-18T08:07:44.086Z"
   },
   {
    "duration": 180,
    "start_time": "2022-12-18T08:07:44.318Z"
   },
   {
    "duration": 10,
    "start_time": "2022-12-18T08:07:44.500Z"
   },
   {
    "duration": 18,
    "start_time": "2022-12-18T08:07:44.511Z"
   },
   {
    "duration": 69,
    "start_time": "2022-12-18T08:07:44.531Z"
   },
   {
    "duration": 0,
    "start_time": "2022-12-18T08:07:44.602Z"
   },
   {
    "duration": 16,
    "start_time": "2022-12-18T08:07:55.887Z"
   },
   {
    "duration": 78,
    "start_time": "2022-12-18T08:11:16.940Z"
   },
   {
    "duration": 68,
    "start_time": "2022-12-18T08:24:07.728Z"
   },
   {
    "duration": 55,
    "start_time": "2022-12-18T19:53:37.785Z"
   },
   {
    "duration": 7,
    "start_time": "2022-12-18T19:56:23.664Z"
   },
   {
    "duration": 1525,
    "start_time": "2022-12-18T19:56:35.012Z"
   },
   {
    "duration": 43,
    "start_time": "2022-12-18T19:56:36.539Z"
   },
   {
    "duration": 13,
    "start_time": "2022-12-18T19:56:36.584Z"
   },
   {
    "duration": 22,
    "start_time": "2022-12-18T19:56:36.643Z"
   },
   {
    "duration": 19,
    "start_time": "2022-12-18T19:56:37.073Z"
   },
   {
    "duration": 21,
    "start_time": "2022-12-18T19:56:37.586Z"
   },
   {
    "duration": 21,
    "start_time": "2022-12-18T19:56:38.069Z"
   },
   {
    "duration": 6,
    "start_time": "2022-12-18T19:56:56.071Z"
   },
   {
    "duration": 26,
    "start_time": "2022-12-18T19:56:57.426Z"
   },
   {
    "duration": 30,
    "start_time": "2022-12-18T19:57:06.441Z"
   },
   {
    "duration": 40,
    "start_time": "2022-12-18T20:00:51.571Z"
   },
   {
    "duration": 13,
    "start_time": "2022-12-18T20:02:17.942Z"
   },
   {
    "duration": 17,
    "start_time": "2022-12-18T20:02:19.989Z"
   },
   {
    "duration": 16,
    "start_time": "2022-12-18T20:02:32.509Z"
   },
   {
    "duration": 341,
    "start_time": "2022-12-18T20:02:59.290Z"
   },
   {
    "duration": 1179,
    "start_time": "2022-12-18T20:03:35.563Z"
   },
   {
    "duration": 15,
    "start_time": "2022-12-18T20:03:38.265Z"
   },
   {
    "duration": 30,
    "start_time": "2022-12-18T20:04:19.625Z"
   },
   {
    "duration": 908,
    "start_time": "2022-12-18T20:04:22.518Z"
   },
   {
    "duration": 101,
    "start_time": "2022-12-18T20:04:44.777Z"
   },
   {
    "duration": 107,
    "start_time": "2022-12-18T20:04:45.399Z"
   },
   {
    "duration": 94,
    "start_time": "2022-12-18T20:04:47.200Z"
   },
   {
    "duration": 193,
    "start_time": "2022-12-18T20:04:49.136Z"
   },
   {
    "duration": 272,
    "start_time": "2022-12-18T20:04:51.088Z"
   },
   {
    "duration": 294,
    "start_time": "2022-12-18T20:04:53.341Z"
   },
   {
    "duration": 283,
    "start_time": "2022-12-18T20:06:05.382Z"
   },
   {
    "duration": 228,
    "start_time": "2022-12-18T20:06:40.533Z"
   },
   {
    "duration": 289,
    "start_time": "2022-12-18T20:06:42.944Z"
   },
   {
    "duration": 264,
    "start_time": "2022-12-18T20:06:44.815Z"
   },
   {
    "duration": 314,
    "start_time": "2022-12-18T20:06:50.902Z"
   },
   {
    "duration": 201,
    "start_time": "2022-12-18T20:07:11.560Z"
   },
   {
    "duration": 358,
    "start_time": "2022-12-18T20:07:46.747Z"
   },
   {
    "duration": 14,
    "start_time": "2022-12-18T20:08:17.794Z"
   },
   {
    "duration": 15,
    "start_time": "2022-12-18T20:08:21.102Z"
   },
   {
    "duration": 1414,
    "start_time": "2022-12-19T07:56:56.515Z"
   },
   {
    "duration": 50,
    "start_time": "2022-12-19T07:56:58.768Z"
   },
   {
    "duration": 15,
    "start_time": "2022-12-19T07:57:00.855Z"
   },
   {
    "duration": 23,
    "start_time": "2022-12-19T07:57:01.988Z"
   },
   {
    "duration": 22,
    "start_time": "2022-12-19T07:57:02.648Z"
   },
   {
    "duration": 23,
    "start_time": "2022-12-19T07:57:03.536Z"
   },
   {
    "duration": 22,
    "start_time": "2022-12-19T07:57:04.211Z"
   },
   {
    "duration": 6,
    "start_time": "2022-12-19T07:57:08.721Z"
   },
   {
    "duration": 29,
    "start_time": "2022-12-19T07:57:10.145Z"
   },
   {
    "duration": 73,
    "start_time": "2022-12-19T08:01:41.357Z"
   },
   {
    "duration": 47,
    "start_time": "2022-12-19T08:01:41.908Z"
   },
   {
    "duration": 13,
    "start_time": "2022-12-19T08:01:42.215Z"
   },
   {
    "duration": 23,
    "start_time": "2022-12-19T08:01:42.510Z"
   },
   {
    "duration": 27,
    "start_time": "2022-12-19T08:01:42.774Z"
   },
   {
    "duration": 24,
    "start_time": "2022-12-19T08:01:43.089Z"
   },
   {
    "duration": 28,
    "start_time": "2022-12-19T08:01:43.379Z"
   },
   {
    "duration": 7,
    "start_time": "2022-12-19T08:01:45.105Z"
   },
   {
    "duration": 31,
    "start_time": "2022-12-19T08:01:47.317Z"
   },
   {
    "duration": 73,
    "start_time": "2022-12-19T08:03:33.818Z"
   },
   {
    "duration": 71,
    "start_time": "2022-12-19T08:04:25.898Z"
   },
   {
    "duration": 44,
    "start_time": "2022-12-19T08:04:26.460Z"
   },
   {
    "duration": 14,
    "start_time": "2022-12-19T08:04:26.772Z"
   },
   {
    "duration": 21,
    "start_time": "2022-12-19T08:04:27.086Z"
   },
   {
    "duration": 21,
    "start_time": "2022-12-19T08:04:27.398Z"
   },
   {
    "duration": 23,
    "start_time": "2022-12-19T08:04:27.693Z"
   },
   {
    "duration": 24,
    "start_time": "2022-12-19T08:04:28.009Z"
   },
   {
    "duration": 7,
    "start_time": "2022-12-19T08:04:29.518Z"
   },
   {
    "duration": 31,
    "start_time": "2022-12-19T08:04:30.252Z"
   },
   {
    "duration": 34,
    "start_time": "2022-12-19T08:04:34.840Z"
   },
   {
    "duration": 37,
    "start_time": "2022-12-19T08:04:43.256Z"
   },
   {
    "duration": 27,
    "start_time": "2022-12-19T08:04:45.743Z"
   },
   {
    "duration": 60,
    "start_time": "2022-12-19T08:04:46.358Z"
   },
   {
    "duration": 11,
    "start_time": "2022-12-19T08:04:47.918Z"
   },
   {
    "duration": 24,
    "start_time": "2022-12-19T08:04:48.309Z"
   },
   {
    "duration": 20,
    "start_time": "2022-12-19T08:04:52.702Z"
   },
   {
    "duration": 385,
    "start_time": "2022-12-19T08:04:54.197Z"
   },
   {
    "duration": 1198,
    "start_time": "2022-12-19T08:04:55.294Z"
   },
   {
    "duration": 16,
    "start_time": "2022-12-19T08:04:56.799Z"
   },
   {
    "duration": 35,
    "start_time": "2022-12-19T08:04:58.600Z"
   },
   {
    "duration": 1237,
    "start_time": "2022-12-19T08:04:59.094Z"
   },
   {
    "duration": 124,
    "start_time": "2022-12-19T08:05:00.733Z"
   },
   {
    "duration": 131,
    "start_time": "2022-12-19T08:05:01.191Z"
   },
   {
    "duration": 136,
    "start_time": "2022-12-19T08:05:01.672Z"
   },
   {
    "duration": 105,
    "start_time": "2022-12-19T08:05:02.147Z"
   },
   {
    "duration": 390,
    "start_time": "2022-12-19T08:05:02.654Z"
   },
   {
    "duration": 306,
    "start_time": "2022-12-19T08:05:18.823Z"
   },
   {
    "duration": 373,
    "start_time": "2022-12-19T08:05:24.300Z"
   },
   {
    "duration": 271,
    "start_time": "2022-12-19T08:05:27.354Z"
   },
   {
    "duration": 314,
    "start_time": "2022-12-19T08:05:28.933Z"
   },
   {
    "duration": 285,
    "start_time": "2022-12-19T08:05:30.462Z"
   },
   {
    "duration": 349,
    "start_time": "2022-12-19T08:05:31.666Z"
   },
   {
    "duration": 197,
    "start_time": "2022-12-19T08:05:34.837Z"
   },
   {
    "duration": 305,
    "start_time": "2022-12-19T08:05:40.021Z"
   },
   {
    "duration": 15,
    "start_time": "2022-12-19T08:05:43.617Z"
   },
   {
    "duration": 18,
    "start_time": "2022-12-19T08:14:15.986Z"
   },
   {
    "duration": 435,
    "start_time": "2022-12-19T08:39:53.284Z"
   },
   {
    "duration": 366,
    "start_time": "2022-12-19T08:40:09.737Z"
   },
   {
    "duration": 783,
    "start_time": "2022-12-19T08:42:51.987Z"
   },
   {
    "duration": 398,
    "start_time": "2022-12-19T08:43:06.989Z"
   },
   {
    "duration": 439,
    "start_time": "2022-12-19T08:47:15.092Z"
   },
   {
    "duration": 406,
    "start_time": "2022-12-19T08:48:14.354Z"
   },
   {
    "duration": 511,
    "start_time": "2022-12-19T08:48:21.803Z"
   },
   {
    "duration": 74,
    "start_time": "2022-12-19T08:52:13.325Z"
   },
   {
    "duration": 64,
    "start_time": "2022-12-19T08:52:26.029Z"
   },
   {
    "duration": 104,
    "start_time": "2022-12-19T08:52:45.672Z"
   },
   {
    "duration": 71,
    "start_time": "2022-12-19T08:52:55.340Z"
   },
   {
    "duration": 57,
    "start_time": "2022-12-19T08:53:05.895Z"
   },
   {
    "duration": 231,
    "start_time": "2022-12-19T08:53:11.593Z"
   },
   {
    "duration": 281,
    "start_time": "2022-12-19T08:53:18.320Z"
   },
   {
    "duration": 267,
    "start_time": "2022-12-19T08:58:47.622Z"
   },
   {
    "duration": 257,
    "start_time": "2022-12-19T09:03:13.860Z"
   },
   {
    "duration": 236,
    "start_time": "2022-12-19T09:03:40.689Z"
   },
   {
    "duration": 221,
    "start_time": "2022-12-19T09:04:33.225Z"
   },
   {
    "duration": 227,
    "start_time": "2022-12-19T09:05:35.469Z"
   },
   {
    "duration": 259,
    "start_time": "2022-12-19T09:10:14.872Z"
   },
   {
    "duration": 363,
    "start_time": "2022-12-19T09:11:26.655Z"
   },
   {
    "duration": 217,
    "start_time": "2022-12-19T09:11:47.337Z"
   },
   {
    "duration": 237,
    "start_time": "2022-12-19T09:12:07.978Z"
   },
   {
    "duration": 20,
    "start_time": "2022-12-19T09:13:21.554Z"
   },
   {
    "duration": 235,
    "start_time": "2022-12-19T09:13:53.590Z"
   },
   {
    "duration": 25,
    "start_time": "2022-12-19T09:54:49.778Z"
   },
   {
    "duration": 16,
    "start_time": "2022-12-19T09:55:02.764Z"
   },
   {
    "duration": 243,
    "start_time": "2022-12-19T10:01:46.275Z"
   },
   {
    "duration": 6,
    "start_time": "2022-12-19T10:05:07.352Z"
   },
   {
    "duration": 251,
    "start_time": "2022-12-19T10:05:12.461Z"
   },
   {
    "duration": 264,
    "start_time": "2022-12-19T10:14:31.093Z"
   },
   {
    "duration": 256,
    "start_time": "2022-12-19T10:27:27.514Z"
   },
   {
    "duration": 72,
    "start_time": "2022-12-19T10:30:10.591Z"
   },
   {
    "duration": 68,
    "start_time": "2022-12-19T10:30:20.956Z"
   },
   {
    "duration": 101,
    "start_time": "2022-12-19T10:30:25.498Z"
   },
   {
    "duration": 54,
    "start_time": "2022-12-19T10:30:35.204Z"
   },
   {
    "duration": 56,
    "start_time": "2022-12-19T10:30:48.630Z"
   },
   {
    "duration": 55,
    "start_time": "2022-12-19T10:30:53.690Z"
   },
   {
    "duration": 656,
    "start_time": "2022-12-19T10:31:05.768Z"
   },
   {
    "duration": 758,
    "start_time": "2022-12-19T10:31:33.922Z"
   },
   {
    "duration": 669,
    "start_time": "2022-12-19T10:31:40.635Z"
   },
   {
    "duration": 674,
    "start_time": "2022-12-19T10:31:47.766Z"
   },
   {
    "duration": 623,
    "start_time": "2022-12-19T10:31:57.272Z"
   },
   {
    "duration": 623,
    "start_time": "2022-12-19T10:32:05.196Z"
   },
   {
    "duration": 588,
    "start_time": "2022-12-19T10:32:12.195Z"
   },
   {
    "duration": 12,
    "start_time": "2022-12-19T10:37:07.251Z"
   },
   {
    "duration": 49,
    "start_time": "2022-12-19T10:40:31.702Z"
   },
   {
    "duration": 746,
    "start_time": "2022-12-19T10:41:05.504Z"
   },
   {
    "duration": 685,
    "start_time": "2022-12-19T10:44:25.925Z"
   },
   {
    "duration": 689,
    "start_time": "2022-12-19T10:48:43.601Z"
   },
   {
    "duration": 682,
    "start_time": "2022-12-19T10:50:19.450Z"
   },
   {
    "duration": 15,
    "start_time": "2022-12-19T10:52:05.012Z"
   },
   {
    "duration": 16,
    "start_time": "2022-12-19T10:52:06.111Z"
   },
   {
    "duration": 28,
    "start_time": "2022-12-19T10:52:06.855Z"
   },
   {
    "duration": 197,
    "start_time": "2022-12-19T10:52:07.714Z"
   },
   {
    "duration": 187,
    "start_time": "2022-12-19T10:52:09.051Z"
   },
   {
    "duration": 183,
    "start_time": "2022-12-19T10:52:10.337Z"
   },
   {
    "duration": 396,
    "start_time": "2022-12-19T10:58:24.322Z"
   },
   {
    "duration": 350,
    "start_time": "2022-12-19T10:58:58.269Z"
   },
   {
    "duration": 350,
    "start_time": "2022-12-19T10:59:37.028Z"
   },
   {
    "duration": 277,
    "start_time": "2022-12-19T11:05:13.940Z"
   },
   {
    "duration": 265,
    "start_time": "2022-12-19T11:05:59.392Z"
   },
   {
    "duration": 1068,
    "start_time": "2022-12-19T11:06:09.367Z"
   },
   {
    "duration": 16,
    "start_time": "2022-12-19T11:06:28.869Z"
   },
   {
    "duration": 16,
    "start_time": "2022-12-19T11:06:29.195Z"
   },
   {
    "duration": 15,
    "start_time": "2022-12-19T11:06:29.512Z"
   },
   {
    "duration": 670,
    "start_time": "2022-12-19T11:06:29.825Z"
   },
   {
    "duration": 17,
    "start_time": "2022-12-19T11:06:34.470Z"
   },
   {
    "duration": 15,
    "start_time": "2022-12-19T11:06:34.877Z"
   },
   {
    "duration": 29,
    "start_time": "2022-12-19T11:06:35.393Z"
   },
   {
    "duration": 331,
    "start_time": "2022-12-19T11:06:36.669Z"
   },
   {
    "duration": 177,
    "start_time": "2022-12-19T11:06:37.095Z"
   },
   {
    "duration": 180,
    "start_time": "2022-12-19T11:06:37.558Z"
   },
   {
    "duration": 1025,
    "start_time": "2022-12-19T11:06:38.924Z"
   },
   {
    "duration": 82,
    "start_time": "2022-12-19T11:06:47.778Z"
   },
   {
    "duration": 49,
    "start_time": "2022-12-19T11:06:47.863Z"
   },
   {
    "duration": 15,
    "start_time": "2022-12-19T11:06:47.914Z"
   },
   {
    "duration": 45,
    "start_time": "2022-12-19T11:06:47.931Z"
   },
   {
    "duration": 50,
    "start_time": "2022-12-19T11:06:47.979Z"
   },
   {
    "duration": 23,
    "start_time": "2022-12-19T11:06:48.031Z"
   },
   {
    "duration": 28,
    "start_time": "2022-12-19T11:06:48.056Z"
   },
   {
    "duration": 6,
    "start_time": "2022-12-19T11:06:48.086Z"
   },
   {
    "duration": 60,
    "start_time": "2022-12-19T11:06:48.093Z"
   },
   {
    "duration": 36,
    "start_time": "2022-12-19T11:06:48.155Z"
   },
   {
    "duration": 42,
    "start_time": "2022-12-19T11:06:48.193Z"
   },
   {
    "duration": 46,
    "start_time": "2022-12-19T11:06:48.236Z"
   },
   {
    "duration": 57,
    "start_time": "2022-12-19T11:06:48.284Z"
   },
   {
    "duration": 37,
    "start_time": "2022-12-19T11:06:48.346Z"
   },
   {
    "duration": 49,
    "start_time": "2022-12-19T11:06:48.385Z"
   },
   {
    "duration": 38,
    "start_time": "2022-12-19T11:06:48.437Z"
   },
   {
    "duration": 450,
    "start_time": "2022-12-19T11:06:48.478Z"
   },
   {
    "duration": 1236,
    "start_time": "2022-12-19T11:06:48.930Z"
   },
   {
    "duration": 24,
    "start_time": "2022-12-19T11:06:50.169Z"
   },
   {
    "duration": 59,
    "start_time": "2022-12-19T11:06:50.195Z"
   },
   {
    "duration": 1175,
    "start_time": "2022-12-19T11:06:50.256Z"
   },
   {
    "duration": 126,
    "start_time": "2022-12-19T11:06:51.434Z"
   },
   {
    "duration": 123,
    "start_time": "2022-12-19T11:06:51.562Z"
   },
   {
    "duration": 118,
    "start_time": "2022-12-19T11:06:51.687Z"
   },
   {
    "duration": 125,
    "start_time": "2022-12-19T11:06:51.807Z"
   },
   {
    "duration": 292,
    "start_time": "2022-12-19T11:06:51.934Z"
   },
   {
    "duration": 306,
    "start_time": "2022-12-19T11:06:52.228Z"
   },
   {
    "duration": 334,
    "start_time": "2022-12-19T11:06:52.535Z"
   },
   {
    "duration": 296,
    "start_time": "2022-12-19T11:06:52.871Z"
   },
   {
    "duration": 330,
    "start_time": "2022-12-19T11:06:53.169Z"
   },
   {
    "duration": 300,
    "start_time": "2022-12-19T11:06:53.501Z"
   },
   {
    "duration": 514,
    "start_time": "2022-12-19T11:06:53.803Z"
   },
   {
    "duration": 212,
    "start_time": "2022-12-19T11:06:54.319Z"
   },
   {
    "duration": 321,
    "start_time": "2022-12-19T11:06:54.533Z"
   },
   {
    "duration": 24,
    "start_time": "2022-12-19T11:06:54.855Z"
   },
   {
    "duration": 15,
    "start_time": "2022-12-19T11:06:54.881Z"
   },
   {
    "duration": 14,
    "start_time": "2022-12-19T11:06:54.898Z"
   },
   {
    "duration": 654,
    "start_time": "2022-12-19T11:06:54.914Z"
   },
   {
    "duration": 20,
    "start_time": "2022-12-19T11:06:55.570Z"
   },
   {
    "duration": 14,
    "start_time": "2022-12-19T11:06:55.592Z"
   },
   {
    "duration": 14,
    "start_time": "2022-12-19T11:06:55.610Z"
   },
   {
    "duration": 713,
    "start_time": "2022-12-19T11:06:55.626Z"
   },
   {
    "duration": 15,
    "start_time": "2022-12-19T11:06:56.340Z"
   },
   {
    "duration": 33,
    "start_time": "2022-12-19T11:06:56.356Z"
   },
   {
    "duration": 27,
    "start_time": "2022-12-19T11:06:56.390Z"
   },
   {
    "duration": 227,
    "start_time": "2022-12-19T11:06:56.419Z"
   },
   {
    "duration": 191,
    "start_time": "2022-12-19T11:06:56.648Z"
   },
   {
    "duration": 194,
    "start_time": "2022-12-19T11:06:56.840Z"
   },
   {
    "duration": 1062,
    "start_time": "2022-12-19T11:06:57.036Z"
   },
   {
    "duration": 429,
    "start_time": "2022-12-19T11:07:36.501Z"
   },
   {
    "duration": 276,
    "start_time": "2022-12-19T11:08:03.425Z"
   },
   {
    "duration": 1468,
    "start_time": "2022-12-19T11:08:17.128Z"
   },
   {
    "duration": 68,
    "start_time": "2022-12-19T11:08:35.488Z"
   },
   {
    "duration": 43,
    "start_time": "2022-12-19T11:08:35.688Z"
   },
   {
    "duration": 16,
    "start_time": "2022-12-19T11:08:35.942Z"
   },
   {
    "duration": 23,
    "start_time": "2022-12-19T11:08:36.192Z"
   },
   {
    "duration": 22,
    "start_time": "2022-12-19T11:08:36.453Z"
   },
   {
    "duration": 24,
    "start_time": "2022-12-19T11:08:36.709Z"
   },
   {
    "duration": 33,
    "start_time": "2022-12-19T11:08:36.965Z"
   },
   {
    "duration": 8,
    "start_time": "2022-12-19T11:08:38.010Z"
   },
   {
    "duration": 45,
    "start_time": "2022-12-19T11:08:38.569Z"
   },
   {
    "duration": 34,
    "start_time": "2022-12-19T11:08:40.041Z"
   },
   {
    "duration": 38,
    "start_time": "2022-12-19T11:08:41.200Z"
   },
   {
    "duration": 31,
    "start_time": "2022-12-19T11:08:42.289Z"
   },
   {
    "duration": 43,
    "start_time": "2022-12-19T11:08:42.568Z"
   },
   {
    "duration": 11,
    "start_time": "2022-12-19T11:08:43.767Z"
   },
   {
    "duration": 20,
    "start_time": "2022-12-19T11:08:44.049Z"
   },
   {
    "duration": 19,
    "start_time": "2022-12-19T11:08:45.102Z"
   },
   {
    "duration": 342,
    "start_time": "2022-12-19T11:08:46.137Z"
   },
   {
    "duration": 1236,
    "start_time": "2022-12-19T11:08:47.157Z"
   },
   {
    "duration": 20,
    "start_time": "2022-12-19T11:08:48.396Z"
   },
   {
    "duration": 37,
    "start_time": "2022-12-19T11:08:49.263Z"
   },
   {
    "duration": 1272,
    "start_time": "2022-12-19T11:08:49.622Z"
   },
   {
    "duration": 169,
    "start_time": "2022-12-19T11:08:50.896Z"
   },
   {
    "duration": 111,
    "start_time": "2022-12-19T11:08:51.110Z"
   },
   {
    "duration": 108,
    "start_time": "2022-12-19T11:08:51.490Z"
   },
   {
    "duration": 105,
    "start_time": "2022-12-19T11:08:51.892Z"
   },
   {
    "duration": 300,
    "start_time": "2022-12-19T11:08:52.282Z"
   },
   {
    "duration": 311,
    "start_time": "2022-12-19T11:08:52.661Z"
   },
   {
    "duration": 314,
    "start_time": "2022-12-19T11:08:54.449Z"
   },
   {
    "duration": 263,
    "start_time": "2022-12-19T11:08:55.531Z"
   },
   {
    "duration": 289,
    "start_time": "2022-12-19T11:08:55.913Z"
   },
   {
    "duration": 262,
    "start_time": "2022-12-19T11:08:56.302Z"
   },
   {
    "duration": 323,
    "start_time": "2022-12-19T11:08:56.681Z"
   },
   {
    "duration": 385,
    "start_time": "2022-12-19T11:08:57.862Z"
   },
   {
    "duration": 385,
    "start_time": "2022-12-19T11:08:58.253Z"
   },
   {
    "duration": 15,
    "start_time": "2022-12-19T11:09:00.171Z"
   },
   {
    "duration": 15,
    "start_time": "2022-12-19T11:09:00.649Z"
   },
   {
    "duration": 16,
    "start_time": "2022-12-19T11:09:01.068Z"
   },
   {
    "duration": 625,
    "start_time": "2022-12-19T11:09:01.521Z"
   },
   {
    "duration": 15,
    "start_time": "2022-12-19T11:09:05.719Z"
   },
   {
    "duration": 15,
    "start_time": "2022-12-19T11:09:06.561Z"
   },
   {
    "duration": 15,
    "start_time": "2022-12-19T11:09:07.213Z"
   },
   {
    "duration": 667,
    "start_time": "2022-12-19T11:09:08.438Z"
   },
   {
    "duration": 16,
    "start_time": "2022-12-19T11:09:12.477Z"
   },
   {
    "duration": 15,
    "start_time": "2022-12-19T11:09:12.903Z"
   },
   {
    "duration": 27,
    "start_time": "2022-12-19T11:09:13.435Z"
   },
   {
    "duration": 199,
    "start_time": "2022-12-19T11:09:13.908Z"
   },
   {
    "duration": 180,
    "start_time": "2022-12-19T11:09:14.448Z"
   },
   {
    "duration": 186,
    "start_time": "2022-12-19T11:09:15.269Z"
   },
   {
    "duration": 1064,
    "start_time": "2022-12-19T11:09:16.667Z"
   },
   {
    "duration": 278,
    "start_time": "2022-12-19T11:10:46.246Z"
   },
   {
    "duration": 482,
    "start_time": "2022-12-19T11:11:06.142Z"
   },
   {
    "duration": 1159,
    "start_time": "2022-12-19T11:11:30.312Z"
   },
   {
    "duration": 270,
    "start_time": "2022-12-19T11:11:45.404Z"
   },
   {
    "duration": 12,
    "start_time": "2022-12-19T11:16:06.698Z"
   },
   {
    "duration": 15,
    "start_time": "2022-12-19T11:16:39.000Z"
   },
   {
    "duration": 871,
    "start_time": "2022-12-19T11:20:04.468Z"
   },
   {
    "duration": 287,
    "start_time": "2022-12-19T11:20:39.901Z"
   },
   {
    "duration": 301,
    "start_time": "2022-12-19T11:21:11.787Z"
   },
   {
    "duration": 228,
    "start_time": "2022-12-19T11:31:47.312Z"
   },
   {
    "duration": 362,
    "start_time": "2022-12-19T11:36:27.301Z"
   },
   {
    "duration": 231,
    "start_time": "2022-12-19T11:37:00.852Z"
   },
   {
    "duration": 194,
    "start_time": "2022-12-19T11:37:32.612Z"
   },
   {
    "duration": 255,
    "start_time": "2022-12-19T11:49:08.523Z"
   },
   {
    "duration": 225,
    "start_time": "2022-12-19T11:54:44.076Z"
   },
   {
    "duration": 211,
    "start_time": "2022-12-19T12:05:15.128Z"
   },
   {
    "duration": 218,
    "start_time": "2022-12-19T12:25:00.707Z"
   },
   {
    "duration": 233,
    "start_time": "2022-12-19T12:25:18.532Z"
   },
   {
    "duration": 206,
    "start_time": "2022-12-19T12:25:31.929Z"
   },
   {
    "duration": 275,
    "start_time": "2022-12-19T13:25:45.876Z"
   },
   {
    "duration": 49,
    "start_time": "2022-12-19T13:27:31.306Z"
   },
   {
    "duration": 254,
    "start_time": "2022-12-19T13:27:36.900Z"
   },
   {
    "duration": 294,
    "start_time": "2022-12-19T13:28:02.578Z"
   },
   {
    "duration": 444,
    "start_time": "2022-12-19T13:28:20.065Z"
   },
   {
    "duration": 276,
    "start_time": "2022-12-19T13:29:27.412Z"
   },
   {
    "duration": 273,
    "start_time": "2022-12-19T13:34:37.181Z"
   },
   {
    "duration": 267,
    "start_time": "2022-12-19T13:35:22.529Z"
   },
   {
    "duration": 113,
    "start_time": "2022-12-19T13:40:42.107Z"
   },
   {
    "duration": 131,
    "start_time": "2022-12-19T13:41:05.760Z"
   },
   {
    "duration": 277,
    "start_time": "2022-12-19T13:51:46.775Z"
   },
   {
    "duration": 485,
    "start_time": "2022-12-19T13:52:28.839Z"
   },
   {
    "duration": 1002,
    "start_time": "2022-12-19T13:58:43.968Z"
   },
   {
    "duration": 72,
    "start_time": "2022-12-19T13:59:55.777Z"
   },
   {
    "duration": 43,
    "start_time": "2022-12-19T13:59:56.798Z"
   },
   {
    "duration": 15,
    "start_time": "2022-12-19T13:59:57.162Z"
   },
   {
    "duration": 22,
    "start_time": "2022-12-19T13:59:57.499Z"
   },
   {
    "duration": 30,
    "start_time": "2022-12-19T13:59:57.811Z"
   },
   {
    "duration": 24,
    "start_time": "2022-12-19T13:59:58.128Z"
   },
   {
    "duration": 24,
    "start_time": "2022-12-19T13:59:58.435Z"
   },
   {
    "duration": 6,
    "start_time": "2022-12-19T13:59:59.695Z"
   },
   {
    "duration": 30,
    "start_time": "2022-12-19T14:00:00.448Z"
   },
   {
    "duration": 37,
    "start_time": "2022-12-19T14:00:01.941Z"
   },
   {
    "duration": 39,
    "start_time": "2022-12-19T14:00:03.260Z"
   },
   {
    "duration": 22,
    "start_time": "2022-12-19T14:00:04.329Z"
   },
   {
    "duration": 43,
    "start_time": "2022-12-19T14:00:04.676Z"
   },
   {
    "duration": 11,
    "start_time": "2022-12-19T14:00:06.040Z"
   },
   {
    "duration": 19,
    "start_time": "2022-12-19T14:00:06.462Z"
   },
   {
    "duration": 18,
    "start_time": "2022-12-19T14:00:07.942Z"
   },
   {
    "duration": 376,
    "start_time": "2022-12-19T14:00:09.366Z"
   },
   {
    "duration": 1473,
    "start_time": "2022-12-19T14:00:10.758Z"
   },
   {
    "duration": 18,
    "start_time": "2022-12-19T14:00:12.236Z"
   },
   {
    "duration": 36,
    "start_time": "2022-12-19T14:00:13.609Z"
   },
   {
    "duration": 997,
    "start_time": "2022-12-19T14:00:14.014Z"
   },
   {
    "duration": 111,
    "start_time": "2022-12-19T14:00:15.757Z"
   },
   {
    "duration": 107,
    "start_time": "2022-12-19T14:00:16.162Z"
   },
   {
    "duration": 105,
    "start_time": "2022-12-19T14:00:16.622Z"
   },
   {
    "duration": 113,
    "start_time": "2022-12-19T14:00:17.067Z"
   },
   {
    "duration": 289,
    "start_time": "2022-12-19T14:00:17.566Z"
   },
   {
    "duration": 528,
    "start_time": "2022-12-19T14:00:17.973Z"
   },
   {
    "duration": 330,
    "start_time": "2022-12-19T14:00:19.872Z"
   },
   {
    "duration": 272,
    "start_time": "2022-12-19T14:00:21.243Z"
   },
   {
    "duration": 309,
    "start_time": "2022-12-19T14:00:22.129Z"
   },
   {
    "duration": 293,
    "start_time": "2022-12-19T14:00:22.560Z"
   },
   {
    "duration": 328,
    "start_time": "2022-12-19T14:00:22.953Z"
   },
   {
    "duration": 191,
    "start_time": "2022-12-19T14:00:24.188Z"
   },
   {
    "duration": 297,
    "start_time": "2022-12-19T14:00:24.673Z"
   },
   {
    "duration": 15,
    "start_time": "2022-12-19T14:00:26.552Z"
   },
   {
    "duration": 14,
    "start_time": "2022-12-19T14:00:27.221Z"
   },
   {
    "duration": 16,
    "start_time": "2022-12-19T14:00:27.736Z"
   },
   {
    "duration": 483,
    "start_time": "2022-12-19T14:00:28.277Z"
   },
   {
    "duration": 16,
    "start_time": "2022-12-19T14:00:32.642Z"
   },
   {
    "duration": 16,
    "start_time": "2022-12-19T14:00:33.408Z"
   },
   {
    "duration": 15,
    "start_time": "2022-12-19T14:00:34.190Z"
   },
   {
    "duration": 1187,
    "start_time": "2022-12-19T14:00:34.812Z"
   },
   {
    "duration": 1639,
    "start_time": "2022-12-19T14:06:37.448Z"
   },
   {
    "duration": 53,
    "start_time": "2022-12-19T14:06:39.089Z"
   },
   {
    "duration": 23,
    "start_time": "2022-12-19T14:06:39.144Z"
   },
   {
    "duration": 40,
    "start_time": "2022-12-19T14:06:39.169Z"
   },
   {
    "duration": 40,
    "start_time": "2022-12-19T14:06:39.214Z"
   },
   {
    "duration": 32,
    "start_time": "2022-12-19T14:06:39.343Z"
   },
   {
    "duration": 29,
    "start_time": "2022-12-19T14:06:39.643Z"
   },
   {
    "duration": 6,
    "start_time": "2022-12-19T14:06:41.047Z"
   },
   {
    "duration": 37,
    "start_time": "2022-12-19T14:06:43.272Z"
   },
   {
    "duration": 30,
    "start_time": "2022-12-19T14:06:46.165Z"
   },
   {
    "duration": 36,
    "start_time": "2022-12-19T14:06:47.738Z"
   },
   {
    "duration": 36,
    "start_time": "2022-12-19T14:06:48.971Z"
   },
   {
    "duration": 61,
    "start_time": "2022-12-19T14:06:49.395Z"
   },
   {
    "duration": 14,
    "start_time": "2022-12-19T14:06:50.627Z"
   },
   {
    "duration": 19,
    "start_time": "2022-12-19T14:06:50.979Z"
   },
   {
    "duration": 24,
    "start_time": "2022-12-19T14:06:52.236Z"
   },
   {
    "duration": 435,
    "start_time": "2022-12-19T14:06:53.462Z"
   },
   {
    "duration": 1101,
    "start_time": "2022-12-19T14:06:55.151Z"
   },
   {
    "duration": 20,
    "start_time": "2022-12-19T14:06:56.709Z"
   },
   {
    "duration": 40,
    "start_time": "2022-12-19T14:06:58.236Z"
   },
   {
    "duration": 1089,
    "start_time": "2022-12-19T14:06:58.711Z"
   },
   {
    "duration": 105,
    "start_time": "2022-12-19T14:07:00.471Z"
   },
   {
    "duration": 101,
    "start_time": "2022-12-19T14:07:00.891Z"
   },
   {
    "duration": 96,
    "start_time": "2022-12-19T14:07:01.327Z"
   },
   {
    "duration": 115,
    "start_time": "2022-12-19T14:07:02.039Z"
   },
   {
    "duration": 398,
    "start_time": "2022-12-19T14:07:02.243Z"
   },
   {
    "duration": 320,
    "start_time": "2022-12-19T14:07:02.751Z"
   },
   {
    "duration": 296,
    "start_time": "2022-12-19T14:07:05.547Z"
   },
   {
    "duration": 276,
    "start_time": "2022-12-19T14:07:09.102Z"
   },
   {
    "duration": 306,
    "start_time": "2022-12-19T14:07:09.696Z"
   },
   {
    "duration": 294,
    "start_time": "2022-12-19T14:07:10.209Z"
   },
   {
    "duration": 322,
    "start_time": "2022-12-19T14:07:10.697Z"
   },
   {
    "duration": 253,
    "start_time": "2022-12-19T14:07:12.524Z"
   },
   {
    "duration": 301,
    "start_time": "2022-12-19T14:07:13.803Z"
   },
   {
    "duration": 17,
    "start_time": "2022-12-19T14:07:17.500Z"
   },
   {
    "duration": 17,
    "start_time": "2022-12-19T14:07:18.435Z"
   },
   {
    "duration": 21,
    "start_time": "2022-12-19T14:07:19.322Z"
   },
   {
    "duration": 470,
    "start_time": "2022-12-19T14:07:20.864Z"
   },
   {
    "duration": 16,
    "start_time": "2022-12-19T14:07:26.963Z"
   },
   {
    "duration": 17,
    "start_time": "2022-12-19T14:07:27.599Z"
   },
   {
    "duration": 18,
    "start_time": "2022-12-19T14:07:28.264Z"
   },
   {
    "duration": 1506,
    "start_time": "2022-12-19T14:07:29.221Z"
   },
   {
    "duration": 1454,
    "start_time": "2022-12-19T14:10:53.922Z"
   },
   {
    "duration": 257,
    "start_time": "2022-12-19T14:17:17.154Z"
   },
   {
    "duration": 241,
    "start_time": "2022-12-19T14:17:25.912Z"
   },
   {
    "duration": 285,
    "start_time": "2022-12-19T14:20:02.842Z"
   },
   {
    "duration": 1448,
    "start_time": "2022-12-19T14:34:23.708Z"
   },
   {
    "duration": 84,
    "start_time": "2022-12-19T14:56:23.308Z"
   },
   {
    "duration": 294,
    "start_time": "2022-12-19T14:58:12.641Z"
   },
   {
    "duration": 247,
    "start_time": "2022-12-19T14:59:45.810Z"
   },
   {
    "duration": 273,
    "start_time": "2022-12-19T14:59:52.984Z"
   },
   {
    "duration": 448,
    "start_time": "2022-12-19T15:00:32.900Z"
   },
   {
    "duration": 1396,
    "start_time": "2022-12-19T15:01:26.872Z"
   },
   {
    "duration": 250,
    "start_time": "2022-12-19T15:06:46.236Z"
   },
   {
    "duration": 1641,
    "start_time": "2022-12-19T15:07:56.439Z"
   },
   {
    "duration": 312,
    "start_time": "2022-12-19T15:08:23.240Z"
   },
   {
    "duration": 1447,
    "start_time": "2022-12-19T15:12:55.054Z"
   },
   {
    "duration": 392,
    "start_time": "2022-12-19T15:13:29.573Z"
   },
   {
    "duration": 1480,
    "start_time": "2022-12-19T15:13:56.287Z"
   },
   {
    "duration": 6,
    "start_time": "2022-12-19T15:14:33.640Z"
   },
   {
    "duration": 1473,
    "start_time": "2022-12-19T15:14:40.385Z"
   },
   {
    "duration": 1474,
    "start_time": "2022-12-19T15:16:36.364Z"
   },
   {
    "duration": 1655,
    "start_time": "2022-12-19T15:17:29.795Z"
   },
   {
    "duration": 106,
    "start_time": "2022-12-19T15:22:09.164Z"
   },
   {
    "duration": 280,
    "start_time": "2022-12-19T15:22:23.218Z"
   },
   {
    "duration": 260,
    "start_time": "2022-12-19T15:22:41.218Z"
   },
   {
    "duration": 1526,
    "start_time": "2022-12-19T15:23:48.366Z"
   },
   {
    "duration": 220,
    "start_time": "2022-12-19T15:26:44.334Z"
   },
   {
    "duration": 227,
    "start_time": "2022-12-19T15:28:15.168Z"
   },
   {
    "duration": 80,
    "start_time": "2022-12-19T15:30:43.648Z"
   },
   {
    "duration": 281,
    "start_time": "2022-12-19T15:31:02.106Z"
   },
   {
    "duration": 318,
    "start_time": "2022-12-19T15:31:32.262Z"
   },
   {
    "duration": 346,
    "start_time": "2022-12-19T15:31:53.842Z"
   },
   {
    "duration": 241,
    "start_time": "2022-12-19T15:33:28.446Z"
   },
   {
    "duration": 245,
    "start_time": "2022-12-19T15:33:36.907Z"
   },
   {
    "duration": 226,
    "start_time": "2022-12-19T15:34:00.292Z"
   },
   {
    "duration": 226,
    "start_time": "2022-12-19T15:35:20.509Z"
   },
   {
    "duration": 268,
    "start_time": "2022-12-19T15:36:05.689Z"
   },
   {
    "duration": 224,
    "start_time": "2022-12-19T15:36:19.294Z"
   },
   {
    "duration": 246,
    "start_time": "2022-12-19T15:36:25.850Z"
   },
   {
    "duration": 221,
    "start_time": "2022-12-19T15:36:38.531Z"
   },
   {
    "duration": 356,
    "start_time": "2022-12-19T15:37:54.112Z"
   },
   {
    "duration": 301,
    "start_time": "2022-12-19T15:38:28.406Z"
   },
   {
    "duration": 308,
    "start_time": "2022-12-19T15:38:32.458Z"
   },
   {
    "duration": 65,
    "start_time": "2022-12-19T15:38:48.276Z"
   },
   {
    "duration": 41,
    "start_time": "2022-12-19T15:38:48.874Z"
   },
   {
    "duration": 17,
    "start_time": "2022-12-19T15:38:49.182Z"
   },
   {
    "duration": 23,
    "start_time": "2022-12-19T15:38:49.493Z"
   },
   {
    "duration": 21,
    "start_time": "2022-12-19T15:38:49.801Z"
   },
   {
    "duration": 21,
    "start_time": "2022-12-19T15:38:50.144Z"
   },
   {
    "duration": 22,
    "start_time": "2022-12-19T15:38:50.455Z"
   },
   {
    "duration": 6,
    "start_time": "2022-12-19T15:38:51.773Z"
   },
   {
    "duration": 44,
    "start_time": "2022-12-19T15:38:52.418Z"
   },
   {
    "duration": 30,
    "start_time": "2022-12-19T15:38:54.175Z"
   },
   {
    "duration": 36,
    "start_time": "2022-12-19T15:38:55.519Z"
   },
   {
    "duration": 21,
    "start_time": "2022-12-19T15:38:56.505Z"
   },
   {
    "duration": 39,
    "start_time": "2022-12-19T15:38:56.813Z"
   },
   {
    "duration": 10,
    "start_time": "2022-12-19T15:38:57.848Z"
   },
   {
    "duration": 17,
    "start_time": "2022-12-19T15:38:58.189Z"
   },
   {
    "duration": 17,
    "start_time": "2022-12-19T15:38:59.229Z"
   },
   {
    "duration": 336,
    "start_time": "2022-12-19T15:39:00.246Z"
   },
   {
    "duration": 1226,
    "start_time": "2022-12-19T15:39:01.541Z"
   },
   {
    "duration": 15,
    "start_time": "2022-12-19T15:39:02.768Z"
   },
   {
    "duration": 31,
    "start_time": "2022-12-19T15:39:03.629Z"
   },
   {
    "duration": 905,
    "start_time": "2022-12-19T15:39:03.962Z"
   },
   {
    "duration": 133,
    "start_time": "2022-12-19T15:39:04.951Z"
   },
   {
    "duration": 101,
    "start_time": "2022-12-19T15:39:05.272Z"
   },
   {
    "duration": 98,
    "start_time": "2022-12-19T15:39:05.629Z"
   },
   {
    "duration": 103,
    "start_time": "2022-12-19T15:39:05.951Z"
   },
   {
    "duration": 435,
    "start_time": "2022-12-19T15:39:06.277Z"
   },
   {
    "duration": 289,
    "start_time": "2022-12-19T15:39:06.714Z"
   },
   {
    "duration": 291,
    "start_time": "2022-12-19T15:39:08.056Z"
   },
   {
    "duration": 252,
    "start_time": "2022-12-19T15:39:09.930Z"
   },
   {
    "duration": 289,
    "start_time": "2022-12-19T15:39:10.351Z"
   },
   {
    "duration": 257,
    "start_time": "2022-12-19T15:39:10.779Z"
   },
   {
    "duration": 307,
    "start_time": "2022-12-19T15:39:11.131Z"
   },
   {
    "duration": 179,
    "start_time": "2022-12-19T15:39:12.172Z"
   },
   {
    "duration": 299,
    "start_time": "2022-12-19T15:39:12.547Z"
   },
   {
    "duration": 14,
    "start_time": "2022-12-19T15:39:14.075Z"
   },
   {
    "duration": 15,
    "start_time": "2022-12-19T15:39:14.491Z"
   },
   {
    "duration": 14,
    "start_time": "2022-12-19T15:39:14.908Z"
   },
   {
    "duration": 376,
    "start_time": "2022-12-19T15:39:15.229Z"
   },
   {
    "duration": 16,
    "start_time": "2022-12-19T15:39:20.152Z"
   },
   {
    "duration": 14,
    "start_time": "2022-12-19T15:39:21.911Z"
   },
   {
    "duration": 18,
    "start_time": "2022-12-19T15:39:22.522Z"
   },
   {
    "duration": 1410,
    "start_time": "2022-12-19T15:39:23.045Z"
   },
   {
    "duration": 17,
    "start_time": "2022-12-19T15:39:32.151Z"
   },
   {
    "duration": 19,
    "start_time": "2022-12-19T15:39:32.740Z"
   },
   {
    "duration": 29,
    "start_time": "2022-12-19T15:39:34.210Z"
   },
   {
    "duration": 169,
    "start_time": "2022-12-19T15:39:35.084Z"
   },
   {
    "duration": 164,
    "start_time": "2022-12-19T15:39:38.444Z"
   },
   {
    "duration": 317,
    "start_time": "2022-12-19T15:39:45.190Z"
   },
   {
    "duration": 248,
    "start_time": "2022-12-19T15:39:50.946Z"
   },
   {
    "duration": 14,
    "start_time": "2022-12-19T15:41:38.342Z"
   },
   {
    "duration": 9,
    "start_time": "2022-12-19T15:41:38.677Z"
   },
   {
    "duration": 23,
    "start_time": "2022-12-19T15:41:40.876Z"
   },
   {
    "duration": 85,
    "start_time": "2022-12-19T15:57:50.530Z"
   },
   {
    "duration": 271,
    "start_time": "2022-12-19T15:59:59.788Z"
   },
   {
    "duration": 220,
    "start_time": "2022-12-19T16:00:07.938Z"
   },
   {
    "duration": 295,
    "start_time": "2022-12-19T16:00:38.032Z"
   },
   {
    "duration": 220,
    "start_time": "2022-12-19T16:00:46.335Z"
   },
   {
    "duration": 1335,
    "start_time": "2022-12-20T05:22:22.271Z"
   },
   {
    "duration": 45,
    "start_time": "2022-12-20T05:22:23.608Z"
   },
   {
    "duration": 13,
    "start_time": "2022-12-20T05:22:23.654Z"
   },
   {
    "duration": 46,
    "start_time": "2022-12-20T05:22:23.669Z"
   },
   {
    "duration": 19,
    "start_time": "2022-12-20T05:22:23.717Z"
   },
   {
    "duration": 21,
    "start_time": "2022-12-20T05:22:23.738Z"
   },
   {
    "duration": 20,
    "start_time": "2022-12-20T05:22:23.761Z"
   },
   {
    "duration": 10,
    "start_time": "2022-12-20T05:22:23.783Z"
   },
   {
    "duration": 51,
    "start_time": "2022-12-20T05:22:23.795Z"
   },
   {
    "duration": 30,
    "start_time": "2022-12-20T05:22:23.849Z"
   },
   {
    "duration": 59,
    "start_time": "2022-12-20T05:22:23.880Z"
   },
   {
    "duration": 22,
    "start_time": "2022-12-20T05:22:23.941Z"
   },
   {
    "duration": 71,
    "start_time": "2022-12-20T05:22:23.965Z"
   },
   {
    "duration": 16,
    "start_time": "2022-12-20T05:22:24.038Z"
   },
   {
    "duration": 51,
    "start_time": "2022-12-20T05:22:24.057Z"
   },
   {
    "duration": 48,
    "start_time": "2022-12-20T05:22:24.109Z"
   },
   {
    "duration": 398,
    "start_time": "2022-12-20T05:22:24.158Z"
   },
   {
    "duration": 1179,
    "start_time": "2022-12-20T05:22:24.558Z"
   },
   {
    "duration": 15,
    "start_time": "2022-12-20T05:22:25.739Z"
   },
   {
    "duration": 38,
    "start_time": "2022-12-20T05:22:25.756Z"
   },
   {
    "duration": 1187,
    "start_time": "2022-12-20T05:22:25.796Z"
   },
   {
    "duration": 114,
    "start_time": "2022-12-20T05:22:26.985Z"
   },
   {
    "duration": 115,
    "start_time": "2022-12-20T05:22:27.101Z"
   },
   {
    "duration": 142,
    "start_time": "2022-12-20T05:22:27.218Z"
   },
   {
    "duration": 118,
    "start_time": "2022-12-20T05:22:27.362Z"
   },
   {
    "duration": 383,
    "start_time": "2022-12-20T05:22:27.482Z"
   },
   {
    "duration": 317,
    "start_time": "2022-12-20T05:22:27.867Z"
   },
   {
    "duration": 332,
    "start_time": "2022-12-20T05:22:28.189Z"
   },
   {
    "duration": 277,
    "start_time": "2022-12-20T05:22:28.523Z"
   },
   {
    "duration": 322,
    "start_time": "2022-12-20T05:22:28.802Z"
   },
   {
    "duration": 288,
    "start_time": "2022-12-20T05:22:29.126Z"
   },
   {
    "duration": 380,
    "start_time": "2022-12-20T05:22:29.416Z"
   },
   {
    "duration": 235,
    "start_time": "2022-12-20T05:22:29.798Z"
   },
   {
    "duration": 287,
    "start_time": "2022-12-20T05:22:30.035Z"
   },
   {
    "duration": 17,
    "start_time": "2022-12-20T05:22:30.324Z"
   },
   {
    "duration": 30,
    "start_time": "2022-12-20T05:22:30.343Z"
   },
   {
    "duration": 55,
    "start_time": "2022-12-20T05:22:30.375Z"
   },
   {
    "duration": 623,
    "start_time": "2022-12-20T05:22:30.431Z"
   },
   {
    "duration": 15,
    "start_time": "2022-12-20T05:22:31.056Z"
   },
   {
    "duration": 54,
    "start_time": "2022-12-20T05:22:31.073Z"
   },
   {
    "duration": 54,
    "start_time": "2022-12-20T05:22:31.128Z"
   },
   {
    "duration": 1266,
    "start_time": "2022-12-20T05:22:31.183Z"
   },
   {
    "duration": 0,
    "start_time": "2022-12-20T05:22:32.451Z"
   },
   {
    "duration": 0,
    "start_time": "2022-12-20T05:22:32.452Z"
   },
   {
    "duration": 0,
    "start_time": "2022-12-20T05:22:32.452Z"
   },
   {
    "duration": 0,
    "start_time": "2022-12-20T05:22:32.453Z"
   },
   {
    "duration": 0,
    "start_time": "2022-12-20T05:22:32.454Z"
   },
   {
    "duration": 0,
    "start_time": "2022-12-20T05:22:32.455Z"
   },
   {
    "duration": 0,
    "start_time": "2022-12-20T05:22:32.455Z"
   },
   {
    "duration": 0,
    "start_time": "2022-12-20T05:22:32.457Z"
   },
   {
    "duration": 0,
    "start_time": "2022-12-20T05:22:32.460Z"
   },
   {
    "duration": 0,
    "start_time": "2022-12-20T05:22:32.461Z"
   },
   {
    "duration": 8,
    "start_time": "2022-12-20T05:22:43.781Z"
   },
   {
    "duration": 2034,
    "start_time": "2022-12-20T12:18:37.446Z"
   },
   {
    "duration": 80,
    "start_time": "2022-12-20T12:18:39.483Z"
   },
   {
    "duration": 22,
    "start_time": "2022-12-20T12:18:39.565Z"
   },
   {
    "duration": 41,
    "start_time": "2022-12-20T12:18:39.591Z"
   },
   {
    "duration": 47,
    "start_time": "2022-12-20T12:18:39.877Z"
   },
   {
    "duration": 38,
    "start_time": "2022-12-20T12:18:40.393Z"
   },
   {
    "duration": 37,
    "start_time": "2022-12-20T12:18:40.942Z"
   },
   {
    "duration": 17,
    "start_time": "2022-12-20T12:18:45.442Z"
   },
   {
    "duration": 85,
    "start_time": "2022-12-20T12:18:52.406Z"
   },
   {
    "duration": 59,
    "start_time": "2022-12-20T12:19:01.259Z"
   },
   {
    "duration": 62,
    "start_time": "2022-12-20T12:19:12.594Z"
   },
   {
    "duration": 33,
    "start_time": "2022-12-20T12:19:17.172Z"
   },
   {
    "duration": 76,
    "start_time": "2022-12-20T12:19:18.863Z"
   },
   {
    "duration": 16,
    "start_time": "2022-12-20T12:19:21.569Z"
   },
   {
    "duration": 25,
    "start_time": "2022-12-20T12:19:23.194Z"
   },
   {
    "duration": 34,
    "start_time": "2022-12-20T12:19:26.763Z"
   },
   {
    "duration": 588,
    "start_time": "2022-12-20T12:19:31.446Z"
   },
   {
    "duration": 1682,
    "start_time": "2022-12-20T12:19:36.858Z"
   },
   {
    "duration": 26,
    "start_time": "2022-12-20T12:19:46.210Z"
   },
   {
    "duration": 53,
    "start_time": "2022-12-20T12:19:49.506Z"
   },
   {
    "duration": 1573,
    "start_time": "2022-12-20T12:19:51.441Z"
   },
   {
    "duration": 147,
    "start_time": "2022-12-20T12:19:56.877Z"
   },
   {
    "duration": 167,
    "start_time": "2022-12-20T12:19:57.398Z"
   },
   {
    "duration": 149,
    "start_time": "2022-12-20T12:19:57.829Z"
   },
   {
    "duration": 177,
    "start_time": "2022-12-20T12:19:58.304Z"
   },
   {
    "duration": 550,
    "start_time": "2022-12-20T12:19:59.769Z"
   },
   {
    "duration": 446,
    "start_time": "2022-12-20T12:20:00.413Z"
   },
   {
    "duration": 450,
    "start_time": "2022-12-20T12:20:04.679Z"
   },
   {
    "duration": 376,
    "start_time": "2022-12-20T12:20:07.770Z"
   },
   {
    "duration": 466,
    "start_time": "2022-12-20T12:20:09.397Z"
   },
   {
    "duration": 507,
    "start_time": "2022-12-20T12:20:10.940Z"
   },
   {
    "duration": 563,
    "start_time": "2022-12-20T12:20:12.440Z"
   },
   {
    "duration": 346,
    "start_time": "2022-12-20T12:20:17.699Z"
   },
   {
    "duration": 430,
    "start_time": "2022-12-20T12:20:19.258Z"
   },
   {
    "duration": 21,
    "start_time": "2022-12-20T12:20:27.340Z"
   },
   {
    "duration": 21,
    "start_time": "2022-12-20T12:20:28.761Z"
   },
   {
    "duration": 22,
    "start_time": "2022-12-20T12:20:30.080Z"
   },
   {
    "duration": 798,
    "start_time": "2022-12-20T12:20:35.505Z"
   },
   {
    "duration": 19,
    "start_time": "2022-12-20T12:20:45.130Z"
   },
   {
    "duration": 19,
    "start_time": "2022-12-20T12:20:45.850Z"
   },
   {
    "duration": 19,
    "start_time": "2022-12-20T12:20:47.340Z"
   },
   {
    "duration": 640,
    "start_time": "2022-12-20T12:24:02.637Z"
   },
   {
    "duration": 758,
    "start_time": "2022-12-20T12:24:12.315Z"
   },
   {
    "duration": 712,
    "start_time": "2022-12-20T12:24:24.503Z"
   },
   {
    "duration": 780,
    "start_time": "2022-12-20T12:24:34.081Z"
   },
   {
    "duration": 52,
    "start_time": "2022-12-20T12:26:12.041Z"
   },
   {
    "duration": 20,
    "start_time": "2022-12-20T12:26:21.441Z"
   },
   {
    "duration": 29,
    "start_time": "2022-12-20T12:26:21.804Z"
   },
   {
    "duration": 53,
    "start_time": "2022-12-20T12:26:22.183Z"
   },
   {
    "duration": 291,
    "start_time": "2022-12-20T12:26:22.554Z"
   },
   {
    "duration": 306,
    "start_time": "2022-12-20T12:26:23.053Z"
   },
   {
    "duration": 277,
    "start_time": "2022-12-20T12:26:23.692Z"
   },
   {
    "duration": 403,
    "start_time": "2022-12-20T12:26:24.181Z"
   },
   {
    "duration": 1471,
    "start_time": "2022-12-20T19:42:02.299Z"
   },
   {
    "duration": 43,
    "start_time": "2022-12-20T19:42:03.773Z"
   },
   {
    "duration": 13,
    "start_time": "2022-12-20T19:42:03.818Z"
   },
   {
    "duration": 39,
    "start_time": "2022-12-20T19:42:03.832Z"
   },
   {
    "duration": 19,
    "start_time": "2022-12-20T19:42:03.873Z"
   },
   {
    "duration": 18,
    "start_time": "2022-12-20T19:42:03.894Z"
   },
   {
    "duration": 46,
    "start_time": "2022-12-20T19:42:03.914Z"
   },
   {
    "duration": 7,
    "start_time": "2022-12-20T19:42:03.962Z"
   },
   {
    "duration": 28,
    "start_time": "2022-12-20T19:42:03.971Z"
   },
   {
    "duration": 59,
    "start_time": "2022-12-20T19:42:04.001Z"
   },
   {
    "duration": 36,
    "start_time": "2022-12-20T19:42:04.062Z"
   },
   {
    "duration": 23,
    "start_time": "2022-12-20T19:42:04.100Z"
   },
   {
    "duration": 70,
    "start_time": "2022-12-20T19:42:04.125Z"
   },
   {
    "duration": 12,
    "start_time": "2022-12-20T19:42:04.198Z"
   },
   {
    "duration": 41,
    "start_time": "2022-12-20T19:42:04.212Z"
   },
   {
    "duration": 20,
    "start_time": "2022-12-20T19:42:04.255Z"
   },
   {
    "duration": 387,
    "start_time": "2022-12-20T19:42:04.277Z"
   },
   {
    "duration": 1068,
    "start_time": "2022-12-20T19:42:04.666Z"
   },
   {
    "duration": 23,
    "start_time": "2022-12-20T19:42:05.736Z"
   },
   {
    "duration": 32,
    "start_time": "2022-12-20T19:42:05.761Z"
   },
   {
    "duration": 989,
    "start_time": "2022-12-20T19:42:05.795Z"
   },
   {
    "duration": 108,
    "start_time": "2022-12-20T19:42:06.786Z"
   },
   {
    "duration": 108,
    "start_time": "2022-12-20T19:42:06.895Z"
   },
   {
    "duration": 103,
    "start_time": "2022-12-20T19:42:07.004Z"
   },
   {
    "duration": 103,
    "start_time": "2022-12-20T19:42:07.109Z"
   },
   {
    "duration": 359,
    "start_time": "2022-12-20T19:42:07.214Z"
   },
   {
    "duration": 278,
    "start_time": "2022-12-20T19:42:07.575Z"
   },
   {
    "duration": 294,
    "start_time": "2022-12-20T19:42:07.854Z"
   },
   {
    "duration": 263,
    "start_time": "2022-12-20T19:42:08.152Z"
   },
   {
    "duration": 276,
    "start_time": "2022-12-20T19:42:08.416Z"
   },
   {
    "duration": 268,
    "start_time": "2022-12-20T19:42:08.694Z"
   },
   {
    "duration": 302,
    "start_time": "2022-12-20T19:42:08.964Z"
   },
   {
    "duration": 191,
    "start_time": "2022-12-20T19:42:09.268Z"
   },
   {
    "duration": 275,
    "start_time": "2022-12-20T19:42:09.461Z"
   },
   {
    "duration": 16,
    "start_time": "2022-12-20T19:42:09.737Z"
   },
   {
    "duration": 15,
    "start_time": "2022-12-20T19:42:09.754Z"
   },
   {
    "duration": 12,
    "start_time": "2022-12-20T19:42:09.770Z"
   },
   {
    "duration": 468,
    "start_time": "2022-12-20T19:42:09.784Z"
   },
   {
    "duration": 15,
    "start_time": "2022-12-20T19:42:10.254Z"
   },
   {
    "duration": 18,
    "start_time": "2022-12-20T19:42:10.270Z"
   },
   {
    "duration": 21,
    "start_time": "2022-12-20T19:42:10.291Z"
   },
   {
    "duration": 445,
    "start_time": "2022-12-20T19:42:10.314Z"
   },
   {
    "duration": 12,
    "start_time": "2022-12-20T19:42:10.761Z"
   },
   {
    "duration": 12,
    "start_time": "2022-12-20T19:42:10.775Z"
   },
   {
    "duration": 24,
    "start_time": "2022-12-20T19:42:10.788Z"
   },
   {
    "duration": 204,
    "start_time": "2022-12-20T19:42:10.814Z"
   },
   {
    "duration": 176,
    "start_time": "2022-12-20T19:42:11.020Z"
   },
   {
    "duration": 179,
    "start_time": "2022-12-20T19:42:11.198Z"
   },
   {
    "duration": 236,
    "start_time": "2022-12-20T19:42:11.379Z"
   },
   {
    "duration": 11,
    "start_time": "2022-12-20T19:42:11.616Z"
   },
   {
    "duration": 30,
    "start_time": "2022-12-20T19:42:11.629Z"
   },
   {
    "duration": 24,
    "start_time": "2022-12-20T19:42:11.660Z"
   }
  ],
  "kernelspec": {
   "display_name": "Python 3 (ipykernel)",
   "language": "python",
   "name": "python3"
  },
  "language_info": {
   "codemirror_mode": {
    "name": "ipython",
    "version": 3
   },
   "file_extension": ".py",
   "mimetype": "text/x-python",
   "name": "python",
   "nbconvert_exporter": "python",
   "pygments_lexer": "ipython3",
   "version": "3.9.12"
  },
  "toc": {
   "base_numbering": 1,
   "nav_menu": {},
   "number_sections": true,
   "sideBar": true,
   "skip_h1_title": true,
   "title_cell": "Table of Contents",
   "title_sidebar": "Contents",
   "toc_cell": false,
   "toc_position": {},
   "toc_section_display": true,
   "toc_window_display": false
  }
 },
 "nbformat": 4,
 "nbformat_minor": 2
}
