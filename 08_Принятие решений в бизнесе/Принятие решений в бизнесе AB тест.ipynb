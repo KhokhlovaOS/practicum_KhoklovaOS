{
 "cells": [
  {
   "cell_type": "markdown",
   "metadata": {},
   "source": [
    "# Описание проекта\n",
    "Контекст\n",
    "Вы — аналитик крупного интернет-магазина. Вместе с отделом маркетинга вы подготовили список гипотез для увеличения выручки.\n",
    "Приоритизируйте гипотезы, запустите A/B-тест и проанализируйте результаты. "
   ]
  },
  {
   "cell_type": "markdown",
   "metadata": {},
   "source": [
    "# Описание данных:\n",
    "# Данные для первой части\n",
    "Файл /datasets/hypothesis.csv\n",
    "- Hypothesis — краткое описание гипотезы;\n",
    "- Reach — охват пользователей по 10-балльной шкале;\n",
    "- Impact — влияние на пользователей по 10-балльной шкале;\n",
    "- Confidence — уверенность в гипотезе по 10-балльной шкале;\n",
    "- Efforts — затраты ресурсов на проверку гипотезы по 10-балльной шкале. Чем больше значение Efforts, тем дороже проверка гипотезы.\n",
    "\n",
    "# Данные для второй части\n",
    "Файл /datasets/orders.csv\n",
    "- transactionId — идентификатор заказа;\n",
    "- visitorId — идентификатор пользователя, совершившего заказ;\n",
    "- date — дата, когда был совершён заказ;\n",
    "- revenue — выручка заказа;\n",
    "- group — группа A/B-теста, в которую попал заказ.\n",
    "- Файл /datasets/visitors.csv.\n",
    "- date — дата;\n",
    "- group — группа A/B-теста;\n",
    "- visitors — количество пользователей в указанную дату в указанной группе A/B-теста"
   ]
  },
  {
   "cell_type": "markdown",
   "metadata": {},
   "source": [
    "# Часть 1. Приоритизация гипотез."
   ]
  },
  {
   "cell_type": "markdown",
   "metadata": {},
   "source": [
    "# Задача\n",
    "- Примените фреймворк ICE для приоритизации гипотез. Отсортируйте их по убыванию приоритета.\n",
    "- Примените фреймворк RICE для приоритизации гипотез. Отсортируйте их по убыванию приоритета.\n",
    "- Укажите, как изменилась приоритизация гипотез при применении RICE вместо ICE. Объясните, почему так произошло."
   ]
  },
  {
   "cell_type": "code",
   "execution_count": 1,
   "metadata": {},
   "outputs": [],
   "source": [
    "import pandas as pd\n",
    "import matplotlib.pyplot as plt\n",
    "from pandas.plotting import register_matplotlib_converters\n",
    "import warnings\n",
    "import scipy.stats as stats\n",
    "import numpy as np    \n",
    "from scipy import stats as st\n",
    "import seaborn as sns\n",
    "\n",
    "#прочтем все файлы\n",
    "hypothesis = pd.read_csv('/datasets/hypothesis.csv')\n",
    "orders = pd.read_csv('/datasets/orders.csv')\n",
    "visitors = pd.read_csv('/datasets/visitors.csv')               \n",
    "\n"
   ]
  },
  {
   "cell_type": "code",
   "execution_count": 2,
   "metadata": {},
   "outputs": [
    {
     "data": {
      "text/html": [
       "<div>\n",
       "<style scoped>\n",
       "    .dataframe tbody tr th:only-of-type {\n",
       "        vertical-align: middle;\n",
       "    }\n",
       "\n",
       "    .dataframe tbody tr th {\n",
       "        vertical-align: top;\n",
       "    }\n",
       "\n",
       "    .dataframe thead th {\n",
       "        text-align: right;\n",
       "    }\n",
       "</style>\n",
       "<table border=\"1\" class=\"dataframe\">\n",
       "  <thead>\n",
       "    <tr style=\"text-align: right;\">\n",
       "      <th></th>\n",
       "      <th>Hypothesis</th>\n",
       "      <th>Reach</th>\n",
       "      <th>Impact</th>\n",
       "      <th>Confidence</th>\n",
       "      <th>Efforts</th>\n",
       "    </tr>\n",
       "  </thead>\n",
       "  <tbody>\n",
       "    <tr>\n",
       "      <th>0</th>\n",
       "      <td>Добавить два новых канала привлечения трафика,...</td>\n",
       "      <td>3</td>\n",
       "      <td>10</td>\n",
       "      <td>8</td>\n",
       "      <td>6</td>\n",
       "    </tr>\n",
       "    <tr>\n",
       "      <th>1</th>\n",
       "      <td>Запустить собственную службу доставки, что сок...</td>\n",
       "      <td>2</td>\n",
       "      <td>5</td>\n",
       "      <td>4</td>\n",
       "      <td>10</td>\n",
       "    </tr>\n",
       "    <tr>\n",
       "      <th>2</th>\n",
       "      <td>Добавить блоки рекомендаций товаров на сайт ин...</td>\n",
       "      <td>8</td>\n",
       "      <td>3</td>\n",
       "      <td>7</td>\n",
       "      <td>3</td>\n",
       "    </tr>\n",
       "    <tr>\n",
       "      <th>3</th>\n",
       "      <td>Изменить структура категорий, что увеличит кон...</td>\n",
       "      <td>8</td>\n",
       "      <td>3</td>\n",
       "      <td>3</td>\n",
       "      <td>8</td>\n",
       "    </tr>\n",
       "    <tr>\n",
       "      <th>4</th>\n",
       "      <td>Изменить цвет фона главной страницы, чтобы уве...</td>\n",
       "      <td>3</td>\n",
       "      <td>1</td>\n",
       "      <td>1</td>\n",
       "      <td>1</td>\n",
       "    </tr>\n",
       "    <tr>\n",
       "      <th>5</th>\n",
       "      <td>Добавить страницу отзывов клиентов о магазине,...</td>\n",
       "      <td>3</td>\n",
       "      <td>2</td>\n",
       "      <td>2</td>\n",
       "      <td>3</td>\n",
       "    </tr>\n",
       "    <tr>\n",
       "      <th>6</th>\n",
       "      <td>Показать на главной странице баннеры с актуаль...</td>\n",
       "      <td>5</td>\n",
       "      <td>3</td>\n",
       "      <td>8</td>\n",
       "      <td>3</td>\n",
       "    </tr>\n",
       "    <tr>\n",
       "      <th>7</th>\n",
       "      <td>Добавить форму подписки на все основные страни...</td>\n",
       "      <td>10</td>\n",
       "      <td>7</td>\n",
       "      <td>8</td>\n",
       "      <td>5</td>\n",
       "    </tr>\n",
       "    <tr>\n",
       "      <th>8</th>\n",
       "      <td>Запустить акцию, дающую скидку на товар в день...</td>\n",
       "      <td>1</td>\n",
       "      <td>9</td>\n",
       "      <td>9</td>\n",
       "      <td>5</td>\n",
       "    </tr>\n",
       "  </tbody>\n",
       "</table>\n",
       "</div>"
      ],
      "text/plain": [
       "                                          Hypothesis  Reach  Impact  \\\n",
       "0  Добавить два новых канала привлечения трафика,...      3      10   \n",
       "1  Запустить собственную службу доставки, что сок...      2       5   \n",
       "2  Добавить блоки рекомендаций товаров на сайт ин...      8       3   \n",
       "3  Изменить структура категорий, что увеличит кон...      8       3   \n",
       "4  Изменить цвет фона главной страницы, чтобы уве...      3       1   \n",
       "5  Добавить страницу отзывов клиентов о магазине,...      3       2   \n",
       "6  Показать на главной странице баннеры с актуаль...      5       3   \n",
       "7  Добавить форму подписки на все основные страни...     10       7   \n",
       "8  Запустить акцию, дающую скидку на товар в день...      1       9   \n",
       "\n",
       "   Confidence  Efforts  \n",
       "0           8        6  \n",
       "1           4       10  \n",
       "2           7        3  \n",
       "3           3        8  \n",
       "4           1        1  \n",
       "5           2        3  \n",
       "6           8        3  \n",
       "7           8        5  \n",
       "8           9        5  "
      ]
     },
     "metadata": {},
     "output_type": "display_data"
    }
   ],
   "source": [
    "display(hypothesis.head(10))"
   ]
  },
  {
   "cell_type": "code",
   "execution_count": 3,
   "metadata": {},
   "outputs": [
    {
     "name": "stdout",
     "output_type": "stream",
     "text": [
      "<class 'pandas.core.frame.DataFrame'>\n",
      "RangeIndex: 9 entries, 0 to 8\n",
      "Data columns (total 5 columns):\n",
      " #   Column      Non-Null Count  Dtype \n",
      "---  ------      --------------  ----- \n",
      " 0   Hypothesis  9 non-null      object\n",
      " 1   Reach       9 non-null      int64 \n",
      " 2   Impact      9 non-null      int64 \n",
      " 3   Confidence  9 non-null      int64 \n",
      " 4   Efforts     9 non-null      int64 \n",
      "dtypes: int64(4), object(1)\n",
      "memory usage: 488.0+ bytes\n"
     ]
    }
   ],
   "source": [
    "hypothesis.info()"
   ]
  },
  {
   "cell_type": "code",
   "execution_count": 4,
   "metadata": {},
   "outputs": [
    {
     "data": {
      "text/html": [
       "<div>\n",
       "<style scoped>\n",
       "    .dataframe tbody tr th:only-of-type {\n",
       "        vertical-align: middle;\n",
       "    }\n",
       "\n",
       "    .dataframe tbody tr th {\n",
       "        vertical-align: top;\n",
       "    }\n",
       "\n",
       "    .dataframe thead th {\n",
       "        text-align: right;\n",
       "    }\n",
       "</style>\n",
       "<table border=\"1\" class=\"dataframe\">\n",
       "  <thead>\n",
       "    <tr style=\"text-align: right;\">\n",
       "      <th></th>\n",
       "      <th>hypothesis</th>\n",
       "      <th>reach</th>\n",
       "      <th>impact</th>\n",
       "      <th>confidence</th>\n",
       "      <th>efforts</th>\n",
       "    </tr>\n",
       "  </thead>\n",
       "  <tbody>\n",
       "    <tr>\n",
       "      <th>0</th>\n",
       "      <td>Добавить два новых канала привлечения трафика,...</td>\n",
       "      <td>3</td>\n",
       "      <td>10</td>\n",
       "      <td>8</td>\n",
       "      <td>6</td>\n",
       "    </tr>\n",
       "    <tr>\n",
       "      <th>1</th>\n",
       "      <td>Запустить собственную службу доставки, что сок...</td>\n",
       "      <td>2</td>\n",
       "      <td>5</td>\n",
       "      <td>4</td>\n",
       "      <td>10</td>\n",
       "    </tr>\n",
       "    <tr>\n",
       "      <th>2</th>\n",
       "      <td>Добавить блоки рекомендаций товаров на сайт ин...</td>\n",
       "      <td>8</td>\n",
       "      <td>3</td>\n",
       "      <td>7</td>\n",
       "      <td>3</td>\n",
       "    </tr>\n",
       "    <tr>\n",
       "      <th>3</th>\n",
       "      <td>Изменить структура категорий, что увеличит кон...</td>\n",
       "      <td>8</td>\n",
       "      <td>3</td>\n",
       "      <td>3</td>\n",
       "      <td>8</td>\n",
       "    </tr>\n",
       "    <tr>\n",
       "      <th>4</th>\n",
       "      <td>Изменить цвет фона главной страницы, чтобы уве...</td>\n",
       "      <td>3</td>\n",
       "      <td>1</td>\n",
       "      <td>1</td>\n",
       "      <td>1</td>\n",
       "    </tr>\n",
       "    <tr>\n",
       "      <th>5</th>\n",
       "      <td>Добавить страницу отзывов клиентов о магазине,...</td>\n",
       "      <td>3</td>\n",
       "      <td>2</td>\n",
       "      <td>2</td>\n",
       "      <td>3</td>\n",
       "    </tr>\n",
       "    <tr>\n",
       "      <th>6</th>\n",
       "      <td>Показать на главной странице баннеры с актуаль...</td>\n",
       "      <td>5</td>\n",
       "      <td>3</td>\n",
       "      <td>8</td>\n",
       "      <td>3</td>\n",
       "    </tr>\n",
       "    <tr>\n",
       "      <th>7</th>\n",
       "      <td>Добавить форму подписки на все основные страни...</td>\n",
       "      <td>10</td>\n",
       "      <td>7</td>\n",
       "      <td>8</td>\n",
       "      <td>5</td>\n",
       "    </tr>\n",
       "    <tr>\n",
       "      <th>8</th>\n",
       "      <td>Запустить акцию, дающую скидку на товар в день...</td>\n",
       "      <td>1</td>\n",
       "      <td>9</td>\n",
       "      <td>9</td>\n",
       "      <td>5</td>\n",
       "    </tr>\n",
       "  </tbody>\n",
       "</table>\n",
       "</div>"
      ],
      "text/plain": [
       "                                          hypothesis  reach  impact  \\\n",
       "0  Добавить два новых канала привлечения трафика,...      3      10   \n",
       "1  Запустить собственную службу доставки, что сок...      2       5   \n",
       "2  Добавить блоки рекомендаций товаров на сайт ин...      8       3   \n",
       "3  Изменить структура категорий, что увеличит кон...      8       3   \n",
       "4  Изменить цвет фона главной страницы, чтобы уве...      3       1   \n",
       "5  Добавить страницу отзывов клиентов о магазине,...      3       2   \n",
       "6  Показать на главной странице баннеры с актуаль...      5       3   \n",
       "7  Добавить форму подписки на все основные страни...     10       7   \n",
       "8  Запустить акцию, дающую скидку на товар в день...      1       9   \n",
       "\n",
       "   confidence  efforts  \n",
       "0           8        6  \n",
       "1           4       10  \n",
       "2           7        3  \n",
       "3           3        8  \n",
       "4           1        1  \n",
       "5           2        3  \n",
       "6           8        3  \n",
       "7           8        5  \n",
       "8           9        5  "
      ]
     },
     "metadata": {},
     "output_type": "display_data"
    }
   ],
   "source": [
    "#приведем названия столбцов к нижнему регистру\n",
    "hypothesis.columns = hypothesis.columns.str.lower()\n",
    "display(hypothesis.head(10))"
   ]
  },
  {
   "cell_type": "code",
   "execution_count": 5,
   "metadata": {},
   "outputs": [
    {
     "data": {
      "text/html": [
       "<div>\n",
       "<style scoped>\n",
       "    .dataframe tbody tr th:only-of-type {\n",
       "        vertical-align: middle;\n",
       "    }\n",
       "\n",
       "    .dataframe tbody tr th {\n",
       "        vertical-align: top;\n",
       "    }\n",
       "\n",
       "    .dataframe thead th {\n",
       "        text-align: right;\n",
       "    }\n",
       "</style>\n",
       "<table border=\"1\" class=\"dataframe\">\n",
       "  <thead>\n",
       "    <tr style=\"text-align: right;\">\n",
       "      <th></th>\n",
       "      <th>transactionId</th>\n",
       "      <th>visitorId</th>\n",
       "      <th>date</th>\n",
       "      <th>revenue</th>\n",
       "      <th>group</th>\n",
       "    </tr>\n",
       "  </thead>\n",
       "  <tbody>\n",
       "    <tr>\n",
       "      <th>0</th>\n",
       "      <td>3667963787</td>\n",
       "      <td>3312258926</td>\n",
       "      <td>2019-08-15</td>\n",
       "      <td>1650</td>\n",
       "      <td>B</td>\n",
       "    </tr>\n",
       "    <tr>\n",
       "      <th>1</th>\n",
       "      <td>2804400009</td>\n",
       "      <td>3642806036</td>\n",
       "      <td>2019-08-15</td>\n",
       "      <td>730</td>\n",
       "      <td>B</td>\n",
       "    </tr>\n",
       "    <tr>\n",
       "      <th>2</th>\n",
       "      <td>2961555356</td>\n",
       "      <td>4069496402</td>\n",
       "      <td>2019-08-15</td>\n",
       "      <td>400</td>\n",
       "      <td>A</td>\n",
       "    </tr>\n",
       "    <tr>\n",
       "      <th>3</th>\n",
       "      <td>3797467345</td>\n",
       "      <td>1196621759</td>\n",
       "      <td>2019-08-15</td>\n",
       "      <td>9759</td>\n",
       "      <td>B</td>\n",
       "    </tr>\n",
       "    <tr>\n",
       "      <th>4</th>\n",
       "      <td>2282983706</td>\n",
       "      <td>2322279887</td>\n",
       "      <td>2019-08-15</td>\n",
       "      <td>2308</td>\n",
       "      <td>B</td>\n",
       "    </tr>\n",
       "    <tr>\n",
       "      <th>5</th>\n",
       "      <td>182168103</td>\n",
       "      <td>935554773</td>\n",
       "      <td>2019-08-15</td>\n",
       "      <td>2210</td>\n",
       "      <td>B</td>\n",
       "    </tr>\n",
       "    <tr>\n",
       "      <th>6</th>\n",
       "      <td>398296753</td>\n",
       "      <td>2900797465</td>\n",
       "      <td>2019-08-15</td>\n",
       "      <td>1860</td>\n",
       "      <td>B</td>\n",
       "    </tr>\n",
       "    <tr>\n",
       "      <th>7</th>\n",
       "      <td>2626614568</td>\n",
       "      <td>78758296</td>\n",
       "      <td>2019-08-15</td>\n",
       "      <td>1044</td>\n",
       "      <td>A</td>\n",
       "    </tr>\n",
       "    <tr>\n",
       "      <th>8</th>\n",
       "      <td>1576988021</td>\n",
       "      <td>295230930</td>\n",
       "      <td>2019-08-15</td>\n",
       "      <td>13710</td>\n",
       "      <td>A</td>\n",
       "    </tr>\n",
       "    <tr>\n",
       "      <th>9</th>\n",
       "      <td>1506739906</td>\n",
       "      <td>1882260405</td>\n",
       "      <td>2019-08-15</td>\n",
       "      <td>1855</td>\n",
       "      <td>B</td>\n",
       "    </tr>\n",
       "  </tbody>\n",
       "</table>\n",
       "</div>"
      ],
      "text/plain": [
       "   transactionId   visitorId        date  revenue group\n",
       "0     3667963787  3312258926  2019-08-15     1650     B\n",
       "1     2804400009  3642806036  2019-08-15      730     B\n",
       "2     2961555356  4069496402  2019-08-15      400     A\n",
       "3     3797467345  1196621759  2019-08-15     9759     B\n",
       "4     2282983706  2322279887  2019-08-15     2308     B\n",
       "5      182168103   935554773  2019-08-15     2210     B\n",
       "6      398296753  2900797465  2019-08-15     1860     B\n",
       "7     2626614568    78758296  2019-08-15     1044     A\n",
       "8     1576988021   295230930  2019-08-15    13710     A\n",
       "9     1506739906  1882260405  2019-08-15     1855     B"
      ]
     },
     "metadata": {},
     "output_type": "display_data"
    },
    {
     "name": "stdout",
     "output_type": "stream",
     "text": [
      "<class 'pandas.core.frame.DataFrame'>\n",
      "RangeIndex: 1197 entries, 0 to 1196\n",
      "Data columns (total 5 columns):\n",
      " #   Column         Non-Null Count  Dtype \n",
      "---  ------         --------------  ----- \n",
      " 0   transactionId  1197 non-null   int64 \n",
      " 1   visitorId      1197 non-null   int64 \n",
      " 2   date           1197 non-null   object\n",
      " 3   revenue        1197 non-null   int64 \n",
      " 4   group          1197 non-null   object\n",
      "dtypes: int64(3), object(2)\n",
      "memory usage: 46.9+ KB\n"
     ]
    }
   ],
   "source": [
    "display(orders.head(10))\n",
    "orders.info()"
   ]
  },
  {
   "cell_type": "code",
   "execution_count": 6,
   "metadata": {},
   "outputs": [
    {
     "name": "stdout",
     "output_type": "stream",
     "text": [
      "<class 'pandas.core.frame.DataFrame'>\n",
      "RangeIndex: 1197 entries, 0 to 1196\n",
      "Data columns (total 5 columns):\n",
      " #   Column         Non-Null Count  Dtype         \n",
      "---  ------         --------------  -----         \n",
      " 0   transactionId  1197 non-null   int64         \n",
      " 1   visitorId      1197 non-null   int64         \n",
      " 2   date           1197 non-null   datetime64[ns]\n",
      " 3   revenue        1197 non-null   int64         \n",
      " 4   group          1197 non-null   object        \n",
      "dtypes: datetime64[ns](1), int64(3), object(1)\n",
      "memory usage: 46.9+ KB\n"
     ]
    }
   ],
   "source": [
    "# приведем значения в стодбце date к формату datetime\n",
    "orders['date'] = pd.to_datetime(orders['date'], format='%Y-%m-%d')\n",
    "orders.info()"
   ]
  },
  {
   "cell_type": "code",
   "execution_count": 7,
   "metadata": {},
   "outputs": [
    {
     "data": {
      "text/plain": [
       "transactionId    0\n",
       "visitorId        0\n",
       "date             0\n",
       "revenue          0\n",
       "group            0\n",
       "dtype: int64"
      ]
     },
     "metadata": {},
     "output_type": "display_data"
    },
    {
     "data": {
      "text/plain": [
       "0"
      ]
     },
     "execution_count": 7,
     "metadata": {},
     "output_type": "execute_result"
    }
   ],
   "source": [
    "display(orders.isna().sum()) # проверим есть ли пропуски в данных по столбцам\n",
    "orders.duplicated().sum() #проверим есть ли дубликаты"
   ]
  },
  {
   "cell_type": "markdown",
   "metadata": {},
   "source": [
    "Вывод: датафрейм orders состоит из 1197 строк, дубликаты и пустоты отсутствуют. Формат в столбце date был заменен на корректный с типом datetime64."
   ]
  },
  {
   "cell_type": "code",
   "execution_count": 8,
   "metadata": {},
   "outputs": [
    {
     "data": {
      "text/html": [
       "<div>\n",
       "<style scoped>\n",
       "    .dataframe tbody tr th:only-of-type {\n",
       "        vertical-align: middle;\n",
       "    }\n",
       "\n",
       "    .dataframe tbody tr th {\n",
       "        vertical-align: top;\n",
       "    }\n",
       "\n",
       "    .dataframe thead th {\n",
       "        text-align: right;\n",
       "    }\n",
       "</style>\n",
       "<table border=\"1\" class=\"dataframe\">\n",
       "  <thead>\n",
       "    <tr style=\"text-align: right;\">\n",
       "      <th></th>\n",
       "      <th>date</th>\n",
       "      <th>group</th>\n",
       "      <th>visitors</th>\n",
       "    </tr>\n",
       "  </thead>\n",
       "  <tbody>\n",
       "    <tr>\n",
       "      <th>0</th>\n",
       "      <td>2019-08-01</td>\n",
       "      <td>A</td>\n",
       "      <td>719</td>\n",
       "    </tr>\n",
       "    <tr>\n",
       "      <th>1</th>\n",
       "      <td>2019-08-02</td>\n",
       "      <td>A</td>\n",
       "      <td>619</td>\n",
       "    </tr>\n",
       "    <tr>\n",
       "      <th>2</th>\n",
       "      <td>2019-08-03</td>\n",
       "      <td>A</td>\n",
       "      <td>507</td>\n",
       "    </tr>\n",
       "    <tr>\n",
       "      <th>3</th>\n",
       "      <td>2019-08-04</td>\n",
       "      <td>A</td>\n",
       "      <td>717</td>\n",
       "    </tr>\n",
       "    <tr>\n",
       "      <th>4</th>\n",
       "      <td>2019-08-05</td>\n",
       "      <td>A</td>\n",
       "      <td>756</td>\n",
       "    </tr>\n",
       "    <tr>\n",
       "      <th>5</th>\n",
       "      <td>2019-08-06</td>\n",
       "      <td>A</td>\n",
       "      <td>667</td>\n",
       "    </tr>\n",
       "    <tr>\n",
       "      <th>6</th>\n",
       "      <td>2019-08-07</td>\n",
       "      <td>A</td>\n",
       "      <td>644</td>\n",
       "    </tr>\n",
       "    <tr>\n",
       "      <th>7</th>\n",
       "      <td>2019-08-08</td>\n",
       "      <td>A</td>\n",
       "      <td>610</td>\n",
       "    </tr>\n",
       "    <tr>\n",
       "      <th>8</th>\n",
       "      <td>2019-08-09</td>\n",
       "      <td>A</td>\n",
       "      <td>617</td>\n",
       "    </tr>\n",
       "    <tr>\n",
       "      <th>9</th>\n",
       "      <td>2019-08-10</td>\n",
       "      <td>A</td>\n",
       "      <td>406</td>\n",
       "    </tr>\n",
       "  </tbody>\n",
       "</table>\n",
       "</div>"
      ],
      "text/plain": [
       "         date group  visitors\n",
       "0  2019-08-01     A       719\n",
       "1  2019-08-02     A       619\n",
       "2  2019-08-03     A       507\n",
       "3  2019-08-04     A       717\n",
       "4  2019-08-05     A       756\n",
       "5  2019-08-06     A       667\n",
       "6  2019-08-07     A       644\n",
       "7  2019-08-08     A       610\n",
       "8  2019-08-09     A       617\n",
       "9  2019-08-10     A       406"
      ]
     },
     "metadata": {},
     "output_type": "display_data"
    },
    {
     "name": "stdout",
     "output_type": "stream",
     "text": [
      "<class 'pandas.core.frame.DataFrame'>\n",
      "RangeIndex: 62 entries, 0 to 61\n",
      "Data columns (total 3 columns):\n",
      " #   Column    Non-Null Count  Dtype \n",
      "---  ------    --------------  ----- \n",
      " 0   date      62 non-null     object\n",
      " 1   group     62 non-null     object\n",
      " 2   visitors  62 non-null     int64 \n",
      "dtypes: int64(1), object(2)\n",
      "memory usage: 1.6+ KB\n"
     ]
    }
   ],
   "source": [
    "display(visitors.head(10))\n",
    "visitors.info()"
   ]
  },
  {
   "cell_type": "code",
   "execution_count": 9,
   "metadata": {},
   "outputs": [
    {
     "name": "stdout",
     "output_type": "stream",
     "text": [
      "<class 'pandas.core.frame.DataFrame'>\n",
      "RangeIndex: 62 entries, 0 to 61\n",
      "Data columns (total 3 columns):\n",
      " #   Column    Non-Null Count  Dtype         \n",
      "---  ------    --------------  -----         \n",
      " 0   date      62 non-null     datetime64[ns]\n",
      " 1   group     62 non-null     object        \n",
      " 2   visitors  62 non-null     int64         \n",
      "dtypes: datetime64[ns](1), int64(1), object(1)\n",
      "memory usage: 1.6+ KB\n"
     ]
    }
   ],
   "source": [
    "# изменим формат столбца date на корректный \n",
    "visitors['date'] = pd.to_datetime(visitors['date'], format='%Y-%m-%d')\n",
    "visitors.info()"
   ]
  },
  {
   "cell_type": "code",
   "execution_count": 10,
   "metadata": {},
   "outputs": [
    {
     "data": {
      "text/plain": [
       "0"
      ]
     },
     "execution_count": 10,
     "metadata": {},
     "output_type": "execute_result"
    }
   ],
   "source": [
    "# проверим есть ли дубликаты в фрейме visitors \n",
    "visitors.duplicated().sum()"
   ]
  },
  {
   "cell_type": "markdown",
   "metadata": {},
   "source": [
    "Вывод: датафрейм visitors состоит из 62 строк, дубликаты и пустоты отсутствуют. Формат в столбце date был заменен на корректный с типом datetime64."
   ]
  },
  {
   "cell_type": "code",
   "execution_count": 11,
   "metadata": {},
   "outputs": [
    {
     "name": "stdout",
     "output_type": "stream",
     "text": [
      "['B' 'A']\n"
     ]
    },
    {
     "data": {
      "text/plain": [
       "557"
      ]
     },
     "metadata": {},
     "output_type": "display_data"
    },
    {
     "data": {
      "text/plain": [
       "640"
      ]
     },
     "metadata": {},
     "output_type": "display_data"
    }
   ],
   "source": [
    "# смотрим какие группы AB теста присутствуют в перечне\n",
    "print(orders['group'].unique())\n",
    "\n",
    "# находим количетво пользователей в каждой группе  по таблице с заказами\n",
    "visitor_count_group_a = orders[orders['group'] == 'A']['group']\n",
    "visitor_count_group_b = orders[orders['group'] == 'B']['group']\n",
    "display(visitor_count_group_a.count())\n",
    "display(visitor_count_group_b.count())"
   ]
  },
  {
   "cell_type": "code",
   "execution_count": 12,
   "metadata": {},
   "outputs": [
    {
     "name": "stdout",
     "output_type": "stream",
     "text": [
      "visitorId\n",
      "5114589       1\n",
      "6958315       1\n",
      "8300375       2\n",
      "11685486      1\n",
      "39475350      1\n",
      "             ..\n",
      "4266935830    2\n",
      "4278982564    1\n",
      "4279090005    1\n",
      "4281247801    1\n",
      "4283872382    1\n",
      "Name: group, Length: 1031, dtype: int64\n",
      "<class 'pandas.core.frame.DataFrame'>\n",
      "Int64Index: 1108 entries, 0 to 1196\n",
      "Data columns (total 5 columns):\n",
      " #   Column         Non-Null Count  Dtype         \n",
      "---  ------         --------------  -----         \n",
      " 0   transactionId  1108 non-null   int64         \n",
      " 1   visitorId      1108 non-null   int64         \n",
      " 2   date           1108 non-null   datetime64[ns]\n",
      " 3   revenue        1108 non-null   int64         \n",
      " 4   group          1108 non-null   object        \n",
      "dtypes: datetime64[ns](1), int64(3), object(1)\n",
      "memory usage: 51.9+ KB\n",
      "None\n"
     ]
    }
   ],
   "source": [
    "# проверяем нет ли одного и того же пользователя в двух гуппах\n",
    "count_group = orders.groupby('visitorId')['group'].nunique()\n",
    "\n",
    "count_group_2 = orders.loc[orders[\"group\"]==\"A\", \"visitorId\"].isin(orders.loc[orders[\"group\"]==\"B\", \"visitorId\"])\n",
    "\n",
    "res = orders.drop(count_group_2[count_group_2].index)\n",
    "\n",
    "\n",
    "print(count_group)\n",
    "print(res.info())\n",
    "\n"
   ]
  },
  {
   "cell_type": "markdown",
   "metadata": {},
   "source": [
    "Вывод: в таблице orders присутствуют две исследуемые группы (A и B ), группа A состоит из 557 прльзователей, группа B - 640 пользователей. Проведен анализ на предмет наличия одних и тех же пользоватедей в двух группах одновременно. Действительно такие пользователи есть, в переменной res сохранена новая таблица, в которой исключены повторы."
   ]
  },
  {
   "cell_type": "code",
   "execution_count": 13,
   "metadata": {},
   "outputs": [
    {
     "name": "stdout",
     "output_type": "stream",
     "text": [
      "минимальная дата 2019-08-01 00:00:00\n",
      "максимальная дата 2019-08-31 00:00:00\n"
     ]
    }
   ],
   "source": [
    "#найдем минимальную и максимальные даты периода, за который производился анализ\n",
    "print('минимальная дата', orders['date'].min())\n",
    "print('максимальная дата', orders['date'].max())"
   ]
  },
  {
   "cell_type": "markdown",
   "metadata": {},
   "source": [
    "Вывод: анализ данных проводился за месяц в период с 01.08.2019 по 31.08.2019"
   ]
  },
  {
   "cell_type": "code",
   "execution_count": 14,
   "metadata": {},
   "outputs": [
    {
     "name": "stdout",
     "output_type": "stream",
     "text": [
      "максимальное количество пользователей за день 770\n"
     ]
    }
   ],
   "source": [
    "# узнаем максимальное количество пользователей за день за рассматриваемый период\n",
    "print('максимальное количество пользователей за день', visitors['visitors'].max())"
   ]
  },
  {
   "cell_type": "markdown",
   "metadata": {},
   "source": [
    "# Общий вывод по предобработке данных"
   ]
  },
  {
   "cell_type": "markdown",
   "metadata": {},
   "source": [
    "- в обеих таблицах (visitors и orders) была проведена замена типа данных в столбце date на корректный\n",
    "- в таблице hypothesis названия столбцов были проведены к нижнему регистру\n",
    "- проведена проверка на наличие дубликатов и пропусков в данных\n",
    "- проанализировали какие группы присутствуют в таблице orders, количество пользователей в каждой группе, определили, что есть пользователи, которые присутствуют в обеих группах, задали переменную res, которая исключает таких пользователей\n",
    "- определили период исследования ( с 01.08.2019 по 31.08.201)\n",
    "- определили максимальное количсетво пользователей в день за рассматриваемый период."
   ]
  },
  {
   "cell_type": "markdown",
   "metadata": {},
   "source": [
    "# 1.1 Приоритизация гипотез"
   ]
  },
  {
   "cell_type": "markdown",
   "metadata": {},
   "source": [
    "Примените фреймворк ICE для приоритизации гипотез. Отсортируйте их по убыванию приоритета."
   ]
  },
  {
   "cell_type": "code",
   "execution_count": 15,
   "metadata": {},
   "outputs": [
    {
     "data": {
      "text/html": [
       "<div>\n",
       "<style scoped>\n",
       "    .dataframe tbody tr th:only-of-type {\n",
       "        vertical-align: middle;\n",
       "    }\n",
       "\n",
       "    .dataframe tbody tr th {\n",
       "        vertical-align: top;\n",
       "    }\n",
       "\n",
       "    .dataframe thead th {\n",
       "        text-align: right;\n",
       "    }\n",
       "</style>\n",
       "<table border=\"1\" class=\"dataframe\">\n",
       "  <thead>\n",
       "    <tr style=\"text-align: right;\">\n",
       "      <th></th>\n",
       "      <th>hypothesis</th>\n",
       "      <th>reach</th>\n",
       "      <th>impact</th>\n",
       "      <th>confidence</th>\n",
       "      <th>efforts</th>\n",
       "    </tr>\n",
       "  </thead>\n",
       "  <tbody>\n",
       "    <tr>\n",
       "      <th>0</th>\n",
       "      <td>Добавить два новых канала привлечения трафика,...</td>\n",
       "      <td>3</td>\n",
       "      <td>10</td>\n",
       "      <td>8</td>\n",
       "      <td>6</td>\n",
       "    </tr>\n",
       "    <tr>\n",
       "      <th>1</th>\n",
       "      <td>Запустить собственную службу доставки, что сок...</td>\n",
       "      <td>2</td>\n",
       "      <td>5</td>\n",
       "      <td>4</td>\n",
       "      <td>10</td>\n",
       "    </tr>\n",
       "    <tr>\n",
       "      <th>2</th>\n",
       "      <td>Добавить блоки рекомендаций товаров на сайт ин...</td>\n",
       "      <td>8</td>\n",
       "      <td>3</td>\n",
       "      <td>7</td>\n",
       "      <td>3</td>\n",
       "    </tr>\n",
       "    <tr>\n",
       "      <th>3</th>\n",
       "      <td>Изменить структура категорий, что увеличит кон...</td>\n",
       "      <td>8</td>\n",
       "      <td>3</td>\n",
       "      <td>3</td>\n",
       "      <td>8</td>\n",
       "    </tr>\n",
       "    <tr>\n",
       "      <th>4</th>\n",
       "      <td>Изменить цвет фона главной страницы, чтобы уве...</td>\n",
       "      <td>3</td>\n",
       "      <td>1</td>\n",
       "      <td>1</td>\n",
       "      <td>1</td>\n",
       "    </tr>\n",
       "    <tr>\n",
       "      <th>5</th>\n",
       "      <td>Добавить страницу отзывов клиентов о магазине,...</td>\n",
       "      <td>3</td>\n",
       "      <td>2</td>\n",
       "      <td>2</td>\n",
       "      <td>3</td>\n",
       "    </tr>\n",
       "    <tr>\n",
       "      <th>6</th>\n",
       "      <td>Показать на главной странице баннеры с актуаль...</td>\n",
       "      <td>5</td>\n",
       "      <td>3</td>\n",
       "      <td>8</td>\n",
       "      <td>3</td>\n",
       "    </tr>\n",
       "    <tr>\n",
       "      <th>7</th>\n",
       "      <td>Добавить форму подписки на все основные страни...</td>\n",
       "      <td>10</td>\n",
       "      <td>7</td>\n",
       "      <td>8</td>\n",
       "      <td>5</td>\n",
       "    </tr>\n",
       "    <tr>\n",
       "      <th>8</th>\n",
       "      <td>Запустить акцию, дающую скидку на товар в день...</td>\n",
       "      <td>1</td>\n",
       "      <td>9</td>\n",
       "      <td>9</td>\n",
       "      <td>5</td>\n",
       "    </tr>\n",
       "  </tbody>\n",
       "</table>\n",
       "</div>"
      ],
      "text/plain": [
       "                                          hypothesis  reach  impact  \\\n",
       "0  Добавить два новых канала привлечения трафика,...      3      10   \n",
       "1  Запустить собственную службу доставки, что сок...      2       5   \n",
       "2  Добавить блоки рекомендаций товаров на сайт ин...      8       3   \n",
       "3  Изменить структура категорий, что увеличит кон...      8       3   \n",
       "4  Изменить цвет фона главной страницы, чтобы уве...      3       1   \n",
       "5  Добавить страницу отзывов клиентов о магазине,...      3       2   \n",
       "6  Показать на главной странице баннеры с актуаль...      5       3   \n",
       "7  Добавить форму подписки на все основные страни...     10       7   \n",
       "8  Запустить акцию, дающую скидку на товар в день...      1       9   \n",
       "\n",
       "   confidence  efforts  \n",
       "0           8        6  \n",
       "1           4       10  \n",
       "2           7        3  \n",
       "3           3        8  \n",
       "4           1        1  \n",
       "5           2        3  \n",
       "6           8        3  \n",
       "7           8        5  \n",
       "8           9        5  "
      ]
     },
     "metadata": {},
     "output_type": "display_data"
    },
    {
     "data": {
      "text/html": [
       "<div>\n",
       "<style scoped>\n",
       "    .dataframe tbody tr th:only-of-type {\n",
       "        vertical-align: middle;\n",
       "    }\n",
       "\n",
       "    .dataframe tbody tr th {\n",
       "        vertical-align: top;\n",
       "    }\n",
       "\n",
       "    .dataframe thead th {\n",
       "        text-align: right;\n",
       "    }\n",
       "</style>\n",
       "<table border=\"1\" class=\"dataframe\">\n",
       "  <thead>\n",
       "    <tr style=\"text-align: right;\">\n",
       "      <th></th>\n",
       "      <th>hypothesis</th>\n",
       "      <th>ICE</th>\n",
       "    </tr>\n",
       "  </thead>\n",
       "  <tbody>\n",
       "    <tr>\n",
       "      <th>8</th>\n",
       "      <td>Запустить акцию, дающую скидку на товар в день...</td>\n",
       "      <td>16.200000</td>\n",
       "    </tr>\n",
       "    <tr>\n",
       "      <th>0</th>\n",
       "      <td>Добавить два новых канала привлечения трафика,...</td>\n",
       "      <td>13.333333</td>\n",
       "    </tr>\n",
       "    <tr>\n",
       "      <th>7</th>\n",
       "      <td>Добавить форму подписки на все основные страни...</td>\n",
       "      <td>11.200000</td>\n",
       "    </tr>\n",
       "    <tr>\n",
       "      <th>6</th>\n",
       "      <td>Показать на главной странице баннеры с актуаль...</td>\n",
       "      <td>8.000000</td>\n",
       "    </tr>\n",
       "    <tr>\n",
       "      <th>2</th>\n",
       "      <td>Добавить блоки рекомендаций товаров на сайт ин...</td>\n",
       "      <td>7.000000</td>\n",
       "    </tr>\n",
       "    <tr>\n",
       "      <th>1</th>\n",
       "      <td>Запустить собственную службу доставки, что сок...</td>\n",
       "      <td>2.000000</td>\n",
       "    </tr>\n",
       "    <tr>\n",
       "      <th>5</th>\n",
       "      <td>Добавить страницу отзывов клиентов о магазине,...</td>\n",
       "      <td>1.333333</td>\n",
       "    </tr>\n",
       "    <tr>\n",
       "      <th>3</th>\n",
       "      <td>Изменить структура категорий, что увеличит кон...</td>\n",
       "      <td>1.125000</td>\n",
       "    </tr>\n",
       "    <tr>\n",
       "      <th>4</th>\n",
       "      <td>Изменить цвет фона главной страницы, чтобы уве...</td>\n",
       "      <td>1.000000</td>\n",
       "    </tr>\n",
       "  </tbody>\n",
       "</table>\n",
       "</div>"
      ],
      "text/plain": [
       "                                          hypothesis        ICE\n",
       "8  Запустить акцию, дающую скидку на товар в день...  16.200000\n",
       "0  Добавить два новых канала привлечения трафика,...  13.333333\n",
       "7  Добавить форму подписки на все основные страни...  11.200000\n",
       "6  Показать на главной странице баннеры с актуаль...   8.000000\n",
       "2  Добавить блоки рекомендаций товаров на сайт ин...   7.000000\n",
       "1  Запустить собственную службу доставки, что сок...   2.000000\n",
       "5  Добавить страницу отзывов клиентов о магазине,...   1.333333\n",
       "3  Изменить структура категорий, что увеличит кон...   1.125000\n",
       "4  Изменить цвет фона главной страницы, чтобы уве...   1.000000"
      ]
     },
     "metadata": {},
     "output_type": "display_data"
    }
   ],
   "source": [
    "\n",
    "display(hypothesis.head(10))\n",
    "hypothesis['ICE'] = (hypothesis['impact'] * hypothesis['confidence'])/ hypothesis['efforts'] \n",
    "display(hypothesis[['hypothesis', 'ICE']].sort_values(by='ICE', ascending=False))"
   ]
  },
  {
   "cell_type": "markdown",
   "metadata": {},
   "source": [
    "Примените фреймворк RICE для приоритизации гипотез. Отсортируйте их по убыванию приоритета."
   ]
  },
  {
   "cell_type": "code",
   "execution_count": 16,
   "metadata": {},
   "outputs": [
    {
     "data": {
      "text/html": [
       "<div>\n",
       "<style scoped>\n",
       "    .dataframe tbody tr th:only-of-type {\n",
       "        vertical-align: middle;\n",
       "    }\n",
       "\n",
       "    .dataframe tbody tr th {\n",
       "        vertical-align: top;\n",
       "    }\n",
       "\n",
       "    .dataframe thead th {\n",
       "        text-align: right;\n",
       "    }\n",
       "</style>\n",
       "<table border=\"1\" class=\"dataframe\">\n",
       "  <thead>\n",
       "    <tr style=\"text-align: right;\">\n",
       "      <th></th>\n",
       "      <th>hypothesis</th>\n",
       "      <th>RICE</th>\n",
       "    </tr>\n",
       "  </thead>\n",
       "  <tbody>\n",
       "    <tr>\n",
       "      <th>7</th>\n",
       "      <td>Добавить форму подписки на все основные страни...</td>\n",
       "      <td>112.0</td>\n",
       "    </tr>\n",
       "    <tr>\n",
       "      <th>2</th>\n",
       "      <td>Добавить блоки рекомендаций товаров на сайт ин...</td>\n",
       "      <td>56.0</td>\n",
       "    </tr>\n",
       "    <tr>\n",
       "      <th>0</th>\n",
       "      <td>Добавить два новых канала привлечения трафика,...</td>\n",
       "      <td>40.0</td>\n",
       "    </tr>\n",
       "    <tr>\n",
       "      <th>6</th>\n",
       "      <td>Показать на главной странице баннеры с актуаль...</td>\n",
       "      <td>40.0</td>\n",
       "    </tr>\n",
       "    <tr>\n",
       "      <th>8</th>\n",
       "      <td>Запустить акцию, дающую скидку на товар в день...</td>\n",
       "      <td>16.2</td>\n",
       "    </tr>\n",
       "    <tr>\n",
       "      <th>3</th>\n",
       "      <td>Изменить структура категорий, что увеличит кон...</td>\n",
       "      <td>9.0</td>\n",
       "    </tr>\n",
       "    <tr>\n",
       "      <th>1</th>\n",
       "      <td>Запустить собственную службу доставки, что сок...</td>\n",
       "      <td>4.0</td>\n",
       "    </tr>\n",
       "    <tr>\n",
       "      <th>5</th>\n",
       "      <td>Добавить страницу отзывов клиентов о магазине,...</td>\n",
       "      <td>4.0</td>\n",
       "    </tr>\n",
       "    <tr>\n",
       "      <th>4</th>\n",
       "      <td>Изменить цвет фона главной страницы, чтобы уве...</td>\n",
       "      <td>3.0</td>\n",
       "    </tr>\n",
       "  </tbody>\n",
       "</table>\n",
       "</div>"
      ],
      "text/plain": [
       "                                          hypothesis   RICE\n",
       "7  Добавить форму подписки на все основные страни...  112.0\n",
       "2  Добавить блоки рекомендаций товаров на сайт ин...   56.0\n",
       "0  Добавить два новых канала привлечения трафика,...   40.0\n",
       "6  Показать на главной странице баннеры с актуаль...   40.0\n",
       "8  Запустить акцию, дающую скидку на товар в день...   16.2\n",
       "3  Изменить структура категорий, что увеличит кон...    9.0\n",
       "1  Запустить собственную службу доставки, что сок...    4.0\n",
       "5  Добавить страницу отзывов клиентов о магазине,...    4.0\n",
       "4  Изменить цвет фона главной страницы, чтобы уве...    3.0"
      ]
     },
     "metadata": {},
     "output_type": "display_data"
    }
   ],
   "source": [
    "hypothesis['RICE'] = (hypothesis['reach'] * hypothesis['impact'] * hypothesis['confidence']) / hypothesis['efforts']\n",
    "display(hypothesis[['hypothesis', 'RICE']].sort_values(by = 'RICE', ascending = False))"
   ]
  },
  {
   "cell_type": "markdown",
   "metadata": {},
   "source": [
    "Укажите, как изменилась приоритизация гипотез при применении RICE вместо ICE. Объясните, почему так произошло."
   ]
  },
  {
   "cell_type": "markdown",
   "metadata": {},
   "source": [
    "При применении фреймворка ICE наиболее перспективными гипотезами были:8,0,7,6. При применении фреймворка RICE наиболее перспективными становятся гипотезы 7,2,0,6. Гипотеза 7 перешла на первое место в фреймворке RICE в связи с тем, что параметр Reach в данной гипотезе максимальный - 10, для гипотезы 2 , параметр Reach также достаточно высокий - 8. В расчете RICE параметр Reach стоит в числителе, пoэтому существенно влияет на величину искомого значения, увеличивая его."
   ]
  },
  {
   "cell_type": "markdown",
   "metadata": {},
   "source": [
    "# Часть 2. Анализ A/B-теста"
   ]
  },
  {
   "cell_type": "markdown",
   "metadata": {},
   "source": [
    "1. построение графика кумулятивной выручки по группам."
   ]
  },
  {
   "cell_type": "code",
   "execution_count": 17,
   "metadata": {},
   "outputs": [
    {
     "data": {
      "text/html": [
       "<div>\n",
       "<style scoped>\n",
       "    .dataframe tbody tr th:only-of-type {\n",
       "        vertical-align: middle;\n",
       "    }\n",
       "\n",
       "    .dataframe tbody tr th {\n",
       "        vertical-align: top;\n",
       "    }\n",
       "\n",
       "    .dataframe thead th {\n",
       "        text-align: right;\n",
       "    }\n",
       "</style>\n",
       "<table border=\"1\" class=\"dataframe\">\n",
       "  <thead>\n",
       "    <tr style=\"text-align: right;\">\n",
       "      <th></th>\n",
       "      <th>transactionId</th>\n",
       "      <th>visitorId</th>\n",
       "      <th>date</th>\n",
       "      <th>revenue</th>\n",
       "      <th>group</th>\n",
       "    </tr>\n",
       "  </thead>\n",
       "  <tbody>\n",
       "    <tr>\n",
       "      <th>0</th>\n",
       "      <td>3667963787</td>\n",
       "      <td>3312258926</td>\n",
       "      <td>2019-08-15</td>\n",
       "      <td>1650</td>\n",
       "      <td>B</td>\n",
       "    </tr>\n",
       "    <tr>\n",
       "      <th>1</th>\n",
       "      <td>2804400009</td>\n",
       "      <td>3642806036</td>\n",
       "      <td>2019-08-15</td>\n",
       "      <td>730</td>\n",
       "      <td>B</td>\n",
       "    </tr>\n",
       "    <tr>\n",
       "      <th>2</th>\n",
       "      <td>2961555356</td>\n",
       "      <td>4069496402</td>\n",
       "      <td>2019-08-15</td>\n",
       "      <td>400</td>\n",
       "      <td>A</td>\n",
       "    </tr>\n",
       "    <tr>\n",
       "      <th>3</th>\n",
       "      <td>3797467345</td>\n",
       "      <td>1196621759</td>\n",
       "      <td>2019-08-15</td>\n",
       "      <td>9759</td>\n",
       "      <td>B</td>\n",
       "    </tr>\n",
       "    <tr>\n",
       "      <th>4</th>\n",
       "      <td>2282983706</td>\n",
       "      <td>2322279887</td>\n",
       "      <td>2019-08-15</td>\n",
       "      <td>2308</td>\n",
       "      <td>B</td>\n",
       "    </tr>\n",
       "  </tbody>\n",
       "</table>\n",
       "</div>"
      ],
      "text/plain": [
       "   transactionId   visitorId       date  revenue group\n",
       "0     3667963787  3312258926 2019-08-15     1650     B\n",
       "1     2804400009  3642806036 2019-08-15      730     B\n",
       "2     2961555356  4069496402 2019-08-15      400     A\n",
       "3     3797467345  1196621759 2019-08-15     9759     B\n",
       "4     2282983706  2322279887 2019-08-15     2308     B"
      ]
     },
     "metadata": {},
     "output_type": "display_data"
    },
    {
     "data": {
      "text/html": [
       "<div>\n",
       "<style scoped>\n",
       "    .dataframe tbody tr th:only-of-type {\n",
       "        vertical-align: middle;\n",
       "    }\n",
       "\n",
       "    .dataframe tbody tr th {\n",
       "        vertical-align: top;\n",
       "    }\n",
       "\n",
       "    .dataframe thead th {\n",
       "        text-align: right;\n",
       "    }\n",
       "</style>\n",
       "<table border=\"1\" class=\"dataframe\">\n",
       "  <thead>\n",
       "    <tr style=\"text-align: right;\">\n",
       "      <th></th>\n",
       "      <th>date</th>\n",
       "      <th>group</th>\n",
       "      <th>visitors</th>\n",
       "    </tr>\n",
       "  </thead>\n",
       "  <tbody>\n",
       "    <tr>\n",
       "      <th>0</th>\n",
       "      <td>2019-08-01</td>\n",
       "      <td>A</td>\n",
       "      <td>719</td>\n",
       "    </tr>\n",
       "    <tr>\n",
       "      <th>1</th>\n",
       "      <td>2019-08-02</td>\n",
       "      <td>A</td>\n",
       "      <td>619</td>\n",
       "    </tr>\n",
       "    <tr>\n",
       "      <th>2</th>\n",
       "      <td>2019-08-03</td>\n",
       "      <td>A</td>\n",
       "      <td>507</td>\n",
       "    </tr>\n",
       "    <tr>\n",
       "      <th>3</th>\n",
       "      <td>2019-08-04</td>\n",
       "      <td>A</td>\n",
       "      <td>717</td>\n",
       "    </tr>\n",
       "    <tr>\n",
       "      <th>4</th>\n",
       "      <td>2019-08-05</td>\n",
       "      <td>A</td>\n",
       "      <td>756</td>\n",
       "    </tr>\n",
       "  </tbody>\n",
       "</table>\n",
       "</div>"
      ],
      "text/plain": [
       "        date group  visitors\n",
       "0 2019-08-01     A       719\n",
       "1 2019-08-02     A       619\n",
       "2 2019-08-03     A       507\n",
       "3 2019-08-04     A       717\n",
       "4 2019-08-05     A       756"
      ]
     },
     "metadata": {},
     "output_type": "display_data"
    },
    {
     "data": {
      "text/html": [
       "<div>\n",
       "<style scoped>\n",
       "    .dataframe tbody tr th:only-of-type {\n",
       "        vertical-align: middle;\n",
       "    }\n",
       "\n",
       "    .dataframe tbody tr th {\n",
       "        vertical-align: top;\n",
       "    }\n",
       "\n",
       "    .dataframe thead th {\n",
       "        text-align: right;\n",
       "    }\n",
       "</style>\n",
       "<table border=\"1\" class=\"dataframe\">\n",
       "  <thead>\n",
       "    <tr style=\"text-align: right;\">\n",
       "      <th></th>\n",
       "      <th>date</th>\n",
       "      <th>group</th>\n",
       "      <th>orders</th>\n",
       "      <th>buyers</th>\n",
       "      <th>revenue</th>\n",
       "      <th>visitors</th>\n",
       "    </tr>\n",
       "  </thead>\n",
       "  <tbody>\n",
       "    <tr>\n",
       "      <th>0</th>\n",
       "      <td>2019-08-01</td>\n",
       "      <td>A</td>\n",
       "      <td>24</td>\n",
       "      <td>20</td>\n",
       "      <td>148579</td>\n",
       "      <td>719</td>\n",
       "    </tr>\n",
       "    <tr>\n",
       "      <th>1</th>\n",
       "      <td>2019-08-01</td>\n",
       "      <td>B</td>\n",
       "      <td>21</td>\n",
       "      <td>20</td>\n",
       "      <td>101217</td>\n",
       "      <td>713</td>\n",
       "    </tr>\n",
       "    <tr>\n",
       "      <th>2</th>\n",
       "      <td>2019-08-02</td>\n",
       "      <td>A</td>\n",
       "      <td>44</td>\n",
       "      <td>38</td>\n",
       "      <td>242401</td>\n",
       "      <td>1338</td>\n",
       "    </tr>\n",
       "    <tr>\n",
       "      <th>3</th>\n",
       "      <td>2019-08-02</td>\n",
       "      <td>B</td>\n",
       "      <td>45</td>\n",
       "      <td>43</td>\n",
       "      <td>266748</td>\n",
       "      <td>1294</td>\n",
       "    </tr>\n",
       "    <tr>\n",
       "      <th>4</th>\n",
       "      <td>2019-08-03</td>\n",
       "      <td>A</td>\n",
       "      <td>68</td>\n",
       "      <td>62</td>\n",
       "      <td>354874</td>\n",
       "      <td>1845</td>\n",
       "    </tr>\n",
       "  </tbody>\n",
       "</table>\n",
       "</div>"
      ],
      "text/plain": [
       "        date group  orders  buyers  revenue  visitors\n",
       "0 2019-08-01     A      24      20   148579       719\n",
       "1 2019-08-01     B      21      20   101217       713\n",
       "2 2019-08-02     A      44      38   242401      1338\n",
       "3 2019-08-02     B      45      43   266748      1294\n",
       "4 2019-08-03     A      68      62   354874      1845"
      ]
     },
     "metadata": {},
     "output_type": "display_data"
    }
   ],
   "source": [
    "display(orders.head())\n",
    "display(visitors.head())\n",
    "\n",
    "# создадим датаврейм с уникальными парами значений, исключая дубликаты\n",
    "datesGroups = orders[['date', 'group']].drop_duplicates()\n",
    "\n",
    "#собираем агрегированнеы кумулятивные данные по дням о заказах\n",
    "ordersAggregated = datesGroups.apply(\n",
    "    lambda x: orders[\n",
    "        np.logical_and(\n",
    "            orders['date'] <= x['date'], orders['group'] == x['group']\n",
    "        )\n",
    "    ].agg(\n",
    "        {\n",
    "            'date': 'max',\n",
    "            'group': 'max',\n",
    "            'transactionId': 'nunique',\n",
    "            'visitorId': 'nunique',\n",
    "            'revenue': 'sum',\n",
    "        }\n",
    "    ),\n",
    "    axis=1,\n",
    ").sort_values(by=['date', 'group'])\n",
    "\n",
    "# получаем агрегированные кумулятивные по дням данные о посетителях интернет-магазина \n",
    "visitorsAggregated = datesGroups.apply(\n",
    "    lambda x: visitors[\n",
    "        np.logical_and(\n",
    "            visitors['date'] <= x['date'], visitors['group'] == x['group']\n",
    "        )\n",
    "    ].agg({'date': 'max', 'group': 'max', 'visitors': 'sum'}),\n",
    "    axis=1,\n",
    ").sort_values(by=['date', 'group'])\n",
    "\n",
    "# объявляем переменную, которая будет образования путем соединения двух ранее созданных таблиц методом merge\n",
    "cumulativeData = ordersAggregated.merge(visitorsAggregated, left_on=['date', 'group'], right_on=['date', 'group'])\n",
    "cumulativeData.columns = ['date', 'group', 'orders', 'buyers', 'revenue', 'visitors'] # присваиваем столбцам нового фрейма понятные названия\n",
    "\n",
    "display(cumulativeData.head(5)) "
   ]
  },
  {
   "cell_type": "code",
   "execution_count": 18,
   "metadata": {},
   "outputs": [
    {
     "data": {
      "text/plain": [
       "<function matplotlib.pyplot.show(close=None, block=None)>"
      ]
     },
     "execution_count": 18,
     "metadata": {},
     "output_type": "execute_result"
    },
    {
     "data": {
      "image/png": "[encoded data removed]",
      "text/plain": [
       "<Figure size 432x288 with 1 Axes>"
      ]
     },
     "metadata": {
      "needs_background": "light"
     },
     "output_type": "display_data"
    }
   ],
   "source": [
    "#построение графиков выручки по группам\n",
    "\n",
    "# датафрейм с кумулятивным количеством заказов и кумулятивной выручкой по дням в группе А\n",
    "cumulativeRevenueA = cumulativeData[cumulativeData['group']=='A'][['date','revenue', 'orders']]\n",
    "\n",
    "# датафрейм с кумулятивным количеством заказов и кумулятивной выручкой по дням в группе B\n",
    "cumulativeRevenueB = cumulativeData[cumulativeData['group']=='B'][['date','revenue', 'orders']]\n",
    "\n",
    "# Строим график выручки группы А\n",
    "plt.plot(cumulativeRevenueA['date'], cumulativeRevenueA['revenue'], label='A')\n",
    "\n",
    "# Строим график выручки группы B\n",
    "plt.plot(cumulativeRevenueB['date'], cumulativeRevenueB['revenue'], label='B')\n",
    "\n",
    "plt.legend() \n",
    "plt.ylabel('Выручка')\n",
    "plt.xlabel('Дата')\n",
    "plt.xticks(rotation = 48)\n",
    "plt.title('График выручки по группам')\n",
    "plt.show"
   ]
  },
  {
   "cell_type": "markdown",
   "metadata": {},
   "source": [
    "\n",
    "\n",
    "\n",
    "Вывод: На всем рассматриваемом отрезке времени выручка по двум сегментам стабильно растет. Однако, менее чем в середине теста, выручка по сегменту B устойчиво начала опережать выручку по сегменту А. Так как на выручку влияет либо число заказов, либо уровень среднего чека, то можно говорить о том, что скачок выручки в сегменте B обусловлен либо существенным ростом относителльно сегмента А числа заказов, либо появления дорогих заказов в сегменте B по сравнению с сегментом А. "
   ]
  },
  {
   "cell_type": "markdown",
   "metadata": {},
   "source": [
    "2. построение графика кумулятивного среднего чека по группам. Сделайте выводы и предположения"
   ]
  },
  {
   "cell_type": "code",
   "execution_count": 19,
   "metadata": {},
   "outputs": [
    {
     "data": {
      "image/png": "[encoded data removed]",
      "text/plain": [
       "<Figure size 432x288 with 1 Axes>"
      ]
     },
     "metadata": {
      "needs_background": "light"
     },
     "output_type": "display_data"
    }
   ],
   "source": [
    "plt.plot(cumulativeRevenueA['date'], cumulativeRevenueA['revenue']/cumulativeRevenueA['orders'], label='A')\n",
    "plt.plot(cumulativeRevenueB['date'], cumulativeRevenueB['revenue']/cumulativeRevenueB['orders'], label='B')\n",
    "plt.legend()\n",
    "plt.ylabel('Средний чек')\n",
    "plt.xlabel('Дата')\n",
    "plt.xticks(rotation = 48)\n",
    "plt.title('График среднего чека по группам')\n",
    "plt.show()"
   ]
  },
  {
   "cell_type": "markdown",
   "metadata": {},
   "source": [
    "Вывод: средний чек в каждом сегменте за рассматриваемый период растет. За вторую половину рассматриваемого периода коммудятивное значение среднего чека по каждому сегменту стабилизируется. Так же по графику видно, что в середине рассматриваемого периода есть очень большй скачок в сегменте B, возможно , он связан с появления числа очень дорогих заказов в данном сегменте. Очевидно, что по данной метрике принимать решение рано."
   ]
  },
  {
   "cell_type": "markdown",
   "metadata": {},
   "source": [
    "3. построение графика относительного изменения кумулятивного среднего чека группы B к группе A"
   ]
  },
  {
   "cell_type": "code",
   "execution_count": 20,
   "metadata": {},
   "outputs": [
    {
     "data": {
      "image/png": "[encoded data removed]",
      "text/plain": [
       "<Figure size 432x288 with 1 Axes>"
      ]
     },
     "metadata": {
      "needs_background": "light"
     },
     "output_type": "display_data"
    }
   ],
   "source": [
    "# собирем данные по двум ранее созданным таблицам в одном фрейме мтодом merge\n",
    "mergedCumulativeRevenue = cumulativeRevenueA.merge(cumulativeRevenueB, left_on='date', right_on='date', how='left', suffixes=['A', 'B'])\n",
    "\n",
    "# cтроим отношение средних чеков\n",
    "plt.plot(mergedCumulativeRevenue['date'], (mergedCumulativeRevenue['revenueB']/mergedCumulativeRevenue['ordersB'])/(mergedCumulativeRevenue['revenueA']/mergedCumulativeRevenue['ordersA'])-1, label=\"Относительный прирост кумулятивного среднего чека группы B относительно группы A\")\n",
    "plt.legend() \n",
    "\n",
    "# добавляем ось X\n",
    "plt.axhline(y=0, color='black', linestyle='--') \n",
    "plt.ylabel('Изменение среднего чека')\n",
    "plt.xlabel('Дата')\n",
    "plt.xticks(rotation = 48)\n",
    "plt.title('График относительного изменения кумулятивного среднего чека')\n",
    "plt.show()"
   ]
  },
  {
   "cell_type": "markdown",
   "metadata": {},
   "source": [
    "Вывод: есть промежутки на графике,где относительное изменение имеет серьезное колебания , нужно понять не являются ли причиной тому выбросы."
   ]
  },
  {
   "cell_type": "markdown",
   "metadata": {},
   "source": [
    "4. построение графика кумулятивного среднего количества заказов на посетителя по группам"
   ]
  },
  {
   "cell_type": "code",
   "execution_count": 21,
   "metadata": {},
   "outputs": [
    {
     "data": {
      "image/png": "[encoded data removed]",
      "text/plain": [
       "<Figure size 432x288 with 1 Axes>"
      ]
     },
     "metadata": {
      "needs_background": "light"
     },
     "output_type": "display_data"
    }
   ],
   "source": [
    "# зададим переменную для рассчета кумулятивной конверсии\n",
    "\n",
    "cumulativeData['conversion'] = cumulativeData['orders']/cumulativeData['visitors']\n",
    "# данные по группе A\n",
    "cumulativeDataA = cumulativeData[cumulativeData['group']=='A']\n",
    "\n",
    "# данные по группе B\n",
    "cumulativeDataB = cumulativeData[cumulativeData['group']=='B']\n",
    "\n",
    "# строим графики\n",
    "plt.plot(cumulativeDataA['date'], cumulativeDataA['conversion'], label='A')\n",
    "plt.plot(cumulativeDataB['date'], cumulativeDataB['conversion'], label='B')\n",
    "plt.legend()\n",
    "\n",
    "\n",
    "plt.ylabel('Кумулятивная конверсия')\n",
    "plt.xlabel('Дата')\n",
    "plt.xticks(rotation = 48)\n",
    "plt.title('График кумулятивной конверсии по группам')\n",
    "plt.show()"
   ]
  },
  {
   "cell_type": "markdown",
   "metadata": {},
   "source": [
    "Вывод: в начале теста конферсия сегмента А имела большее значение, после ситуация изменилась. В целом конверсии по сегментам зафиксировались относительно одного значения и колебания относительно него не очень-то больше. ПРи этом, конвесия по сегменту В , чем по сегменту А."
   ]
  },
  {
   "cell_type": "markdown",
   "metadata": {},
   "source": [
    "5. построение графика относительного изменения кумулятивного среднего количества заказов на посетителя группы B к группе A. Сделайте выводы и предположения."
   ]
  },
  {
   "cell_type": "code",
   "execution_count": 22,
   "metadata": {},
   "outputs": [
    {
     "data": {
      "image/png": "[encoded data removed]",
      "text/plain": [
       "<Figure size 432x288 with 1 Axes>"
      ]
     },
     "metadata": {
      "needs_background": "light"
     },
     "output_type": "display_data"
    }
   ],
   "source": [
    "# задаем новую переменную и сохраняем в ней объединение таблицы cumulativeDataA и cumulativeDataB методом merge()\n",
    "mergedCumulativeConversions = cumulativeDataA[['date','conversion']].merge(cumulativeDataB[['date','conversion']], left_on='date', right_on='date', how='left', suffixes=['A', 'B'])\n",
    "# строим график\n",
    "plt.plot(mergedCumulativeConversions['date'], mergedCumulativeConversions['conversionB']/mergedCumulativeConversions['conversionA']-1, label=\"Относительный прирост конверсии группы B относительно группы A\")\n",
    "plt.legend()\n",
    "\n",
    "plt.axhline(y=0, color='black', linestyle='--')\n",
    "plt.axhline(y=0.1, color='grey', linestyle='--')\n",
    "\n",
    "plt.ylabel('Кумулятивная конверсия')\n",
    "plt.xlabel('Дата')\n",
    "plt.xticks(rotation = 48)\n",
    "plt.title('График относительного изменения кумулятивной конверсии группы B к группе A')\n",
    "plt.show()\n"
   ]
  },
  {
   "cell_type": "markdown",
   "metadata": {},
   "source": [
    "Вывод: практически с самого начала теста конверсия по сегменту B лидирует. К концу рассматриваемого периода значительные колебания ушли и относительное изменение по показателю конверсия можно обозначить как около 10% прироста относительно сегмента А."
   ]
  },
  {
   "cell_type": "markdown",
   "metadata": {},
   "source": [
    "6. точечный график количества заказов по пользователям."
   ]
  },
  {
   "cell_type": "code",
   "execution_count": 23,
   "metadata": {},
   "outputs": [
    {
     "data": {
      "text/html": [
       "<div>\n",
       "<style scoped>\n",
       "    .dataframe tbody tr th:only-of-type {\n",
       "        vertical-align: middle;\n",
       "    }\n",
       "\n",
       "    .dataframe tbody tr th {\n",
       "        vertical-align: top;\n",
       "    }\n",
       "\n",
       "    .dataframe thead th {\n",
       "        text-align: right;\n",
       "    }\n",
       "</style>\n",
       "<table border=\"1\" class=\"dataframe\">\n",
       "  <thead>\n",
       "    <tr style=\"text-align: right;\">\n",
       "      <th></th>\n",
       "      <th>transactionId</th>\n",
       "      <th>visitorId</th>\n",
       "      <th>date</th>\n",
       "      <th>revenue</th>\n",
       "      <th>group</th>\n",
       "    </tr>\n",
       "  </thead>\n",
       "  <tbody>\n",
       "    <tr>\n",
       "      <th>0</th>\n",
       "      <td>3667963787</td>\n",
       "      <td>3312258926</td>\n",
       "      <td>2019-08-15</td>\n",
       "      <td>1650</td>\n",
       "      <td>B</td>\n",
       "    </tr>\n",
       "    <tr>\n",
       "      <th>1</th>\n",
       "      <td>2804400009</td>\n",
       "      <td>3642806036</td>\n",
       "      <td>2019-08-15</td>\n",
       "      <td>730</td>\n",
       "      <td>B</td>\n",
       "    </tr>\n",
       "    <tr>\n",
       "      <th>2</th>\n",
       "      <td>2961555356</td>\n",
       "      <td>4069496402</td>\n",
       "      <td>2019-08-15</td>\n",
       "      <td>400</td>\n",
       "      <td>A</td>\n",
       "    </tr>\n",
       "    <tr>\n",
       "      <th>3</th>\n",
       "      <td>3797467345</td>\n",
       "      <td>1196621759</td>\n",
       "      <td>2019-08-15</td>\n",
       "      <td>9759</td>\n",
       "      <td>B</td>\n",
       "    </tr>\n",
       "    <tr>\n",
       "      <th>4</th>\n",
       "      <td>2282983706</td>\n",
       "      <td>2322279887</td>\n",
       "      <td>2019-08-15</td>\n",
       "      <td>2308</td>\n",
       "      <td>B</td>\n",
       "    </tr>\n",
       "    <tr>\n",
       "      <th>5</th>\n",
       "      <td>182168103</td>\n",
       "      <td>935554773</td>\n",
       "      <td>2019-08-15</td>\n",
       "      <td>2210</td>\n",
       "      <td>B</td>\n",
       "    </tr>\n",
       "    <tr>\n",
       "      <th>6</th>\n",
       "      <td>398296753</td>\n",
       "      <td>2900797465</td>\n",
       "      <td>2019-08-15</td>\n",
       "      <td>1860</td>\n",
       "      <td>B</td>\n",
       "    </tr>\n",
       "    <tr>\n",
       "      <th>7</th>\n",
       "      <td>2626614568</td>\n",
       "      <td>78758296</td>\n",
       "      <td>2019-08-15</td>\n",
       "      <td>1044</td>\n",
       "      <td>A</td>\n",
       "    </tr>\n",
       "    <tr>\n",
       "      <th>8</th>\n",
       "      <td>1576988021</td>\n",
       "      <td>295230930</td>\n",
       "      <td>2019-08-15</td>\n",
       "      <td>13710</td>\n",
       "      <td>A</td>\n",
       "    </tr>\n",
       "    <tr>\n",
       "      <th>9</th>\n",
       "      <td>1506739906</td>\n",
       "      <td>1882260405</td>\n",
       "      <td>2019-08-15</td>\n",
       "      <td>1855</td>\n",
       "      <td>B</td>\n",
       "    </tr>\n",
       "  </tbody>\n",
       "</table>\n",
       "</div>"
      ],
      "text/plain": [
       "   transactionId   visitorId       date  revenue group\n",
       "0     3667963787  3312258926 2019-08-15     1650     B\n",
       "1     2804400009  3642806036 2019-08-15      730     B\n",
       "2     2961555356  4069496402 2019-08-15      400     A\n",
       "3     3797467345  1196621759 2019-08-15     9759     B\n",
       "4     2282983706  2322279887 2019-08-15     2308     B\n",
       "5      182168103   935554773 2019-08-15     2210     B\n",
       "6      398296753  2900797465 2019-08-15     1860     B\n",
       "7     2626614568    78758296 2019-08-15     1044     A\n",
       "8     1576988021   295230930 2019-08-15    13710     A\n",
       "9     1506739906  1882260405 2019-08-15     1855     B"
      ]
     },
     "metadata": {},
     "output_type": "display_data"
    },
    {
     "name": "stdout",
     "output_type": "stream",
     "text": [
      "       visitorId  orders\n",
      "1023  4256040402      11\n",
      "591   2458001652      11\n",
      "569   2378935119       9\n",
      "487   2038680547       8\n",
      "44     199603092       5\n",
      "744   3062433592       5\n",
      "55     237748145       5\n",
      "917   3803269165       5\n",
      "299   1230306981       5\n",
      "897   3717692402       5\n"
     ]
    },
    {
     "data": {
      "image/png": "[encoded data removed]",
      "text/plain": [
       "<Figure size 432x288 with 1 Axes>"
      ]
     },
     "metadata": {
      "needs_background": "light"
     },
     "output_type": "display_data"
    }
   ],
   "source": [
    "display(orders.head(10))\n",
    "\n",
    "#задаем переменную \n",
    "ordersByUsers = (\n",
    "    orders.groupby('visitorId', as_index=False).agg({'transactionId': 'nunique'}))\n",
    "    \n",
    "ordersByUsers.columns = ['visitorId', 'orders']\n",
    "\n",
    "print(ordersByUsers.sort_values(by = 'orders', ascending = False).head(10))\n",
    "\n",
    "# серия из чисел от 0 до количества наблюдений в ordersByUsers\n",
    "x_values = pd.Series(range(0, len(ordersByUsers)))\n",
    "\n",
    "plt.scatter(x_values, ordersByUsers['orders'])\n",
    "\n",
    "plt.ylabel('Количество заказов')\n",
    "plt.xlabel('Количество пользователей')\n",
    "plt.title('Точечный график количества заказов по пользователям')\n",
    "plt.show()"
   ]
  },
  {
   "cell_type": "markdown",
   "metadata": {},
   "source": [
    "Вывод: По графику видно, что пользователей, которые сделали заказов более 3-х заказов не так много,возможно остальные заказы - юолее трех будут выбросами для того. Так же важно понять 3 заказа - это много ли мало, посчитаем перцентели. "
   ]
  },
  {
   "cell_type": "markdown",
   "metadata": {},
   "source": [
    "7. Расчет 95-й и 99-й перцентили количества заказов на пользователя"
   ]
  },
  {
   "cell_type": "code",
   "execution_count": 24,
   "metadata": {},
   "outputs": [
    {
     "name": "stdout",
     "output_type": "stream",
     "text": [
      "[2. 4.]\n"
     ]
    }
   ],
   "source": [
    "print(np.percentile(ordersByUsers['orders'], [95, 99])) # Метод np.percentile('column', [percentile1, percentile2, percentile3]) находит перцентили."
   ]
  },
  {
   "cell_type": "markdown",
   "metadata": {},
   "source": [
    "Вывод: метод показал, что не более 5% пользователей сделали заказ более 2-х раз и не более 1 % пользователей сделали заказ более 4-х раз. Логично выбрать максимальное количество заказов на одного пользователя не более 4, количество более 4-х заказов признать выбросами и отбросить."
   ]
  },
  {
   "cell_type": "markdown",
   "metadata": {},
   "source": [
    "8.точечный график стоимостей заказов."
   ]
  },
  {
   "cell_type": "code",
   "execution_count": 25,
   "metadata": {},
   "outputs": [
    {
     "data": {
      "text/html": [
       "<div>\n",
       "<style scoped>\n",
       "    .dataframe tbody tr th:only-of-type {\n",
       "        vertical-align: middle;\n",
       "    }\n",
       "\n",
       "    .dataframe tbody tr th {\n",
       "        vertical-align: top;\n",
       "    }\n",
       "\n",
       "    .dataframe thead th {\n",
       "        text-align: right;\n",
       "    }\n",
       "</style>\n",
       "<table border=\"1\" class=\"dataframe\">\n",
       "  <thead>\n",
       "    <tr style=\"text-align: right;\">\n",
       "      <th></th>\n",
       "      <th>transactionId</th>\n",
       "      <th>visitorId</th>\n",
       "      <th>date</th>\n",
       "      <th>revenue</th>\n",
       "      <th>group</th>\n",
       "    </tr>\n",
       "  </thead>\n",
       "  <tbody>\n",
       "    <tr>\n",
       "      <th>425</th>\n",
       "      <td>590470918</td>\n",
       "      <td>1920142716</td>\n",
       "      <td>2019-08-19</td>\n",
       "      <td>1294500</td>\n",
       "      <td>B</td>\n",
       "    </tr>\n",
       "    <tr>\n",
       "      <th>1196</th>\n",
       "      <td>3936777065</td>\n",
       "      <td>2108080724</td>\n",
       "      <td>2019-08-15</td>\n",
       "      <td>202740</td>\n",
       "      <td>B</td>\n",
       "    </tr>\n",
       "    <tr>\n",
       "      <th>858</th>\n",
       "      <td>192721366</td>\n",
       "      <td>1316129916</td>\n",
       "      <td>2019-08-27</td>\n",
       "      <td>93940</td>\n",
       "      <td>A</td>\n",
       "    </tr>\n",
       "    <tr>\n",
       "      <th>1136</th>\n",
       "      <td>666610489</td>\n",
       "      <td>1307669133</td>\n",
       "      <td>2019-08-13</td>\n",
       "      <td>92550</td>\n",
       "      <td>A</td>\n",
       "    </tr>\n",
       "    <tr>\n",
       "      <th>744</th>\n",
       "      <td>3668308183</td>\n",
       "      <td>888512513</td>\n",
       "      <td>2019-08-27</td>\n",
       "      <td>86620</td>\n",
       "      <td>B</td>\n",
       "    </tr>\n",
       "    <tr>\n",
       "      <th>682</th>\n",
       "      <td>1216533772</td>\n",
       "      <td>4266935830</td>\n",
       "      <td>2019-08-29</td>\n",
       "      <td>78990</td>\n",
       "      <td>B</td>\n",
       "    </tr>\n",
       "    <tr>\n",
       "      <th>662</th>\n",
       "      <td>1811671147</td>\n",
       "      <td>4266935830</td>\n",
       "      <td>2019-08-29</td>\n",
       "      <td>78990</td>\n",
       "      <td>A</td>\n",
       "    </tr>\n",
       "    <tr>\n",
       "      <th>743</th>\n",
       "      <td>3603576309</td>\n",
       "      <td>4133034833</td>\n",
       "      <td>2019-08-09</td>\n",
       "      <td>67990</td>\n",
       "      <td>A</td>\n",
       "    </tr>\n",
       "    <tr>\n",
       "      <th>1103</th>\n",
       "      <td>1348774318</td>\n",
       "      <td>1164614297</td>\n",
       "      <td>2019-08-12</td>\n",
       "      <td>66350</td>\n",
       "      <td>A</td>\n",
       "    </tr>\n",
       "    <tr>\n",
       "      <th>1099</th>\n",
       "      <td>316924019</td>\n",
       "      <td>148427295</td>\n",
       "      <td>2019-08-12</td>\n",
       "      <td>65710</td>\n",
       "      <td>A</td>\n",
       "    </tr>\n",
       "  </tbody>\n",
       "</table>\n",
       "</div>"
      ],
      "text/plain": [
       "      transactionId   visitorId       date  revenue group\n",
       "425       590470918  1920142716 2019-08-19  1294500     B\n",
       "1196     3936777065  2108080724 2019-08-15   202740     B\n",
       "858       192721366  1316129916 2019-08-27    93940     A\n",
       "1136      666610489  1307669133 2019-08-13    92550     A\n",
       "744      3668308183   888512513 2019-08-27    86620     B\n",
       "682      1216533772  4266935830 2019-08-29    78990     B\n",
       "662      1811671147  4266935830 2019-08-29    78990     A\n",
       "743      3603576309  4133034833 2019-08-09    67990     A\n",
       "1103     1348774318  1164614297 2019-08-12    66350     A\n",
       "1099      316924019   148427295 2019-08-12    65710     A"
      ]
     },
     "metadata": {},
     "output_type": "display_data"
    },
    {
     "data": {
      "text/plain": [
       "<matplotlib.collections.PathCollection at 0x7fc06c095fd0>"
      ]
     },
     "execution_count": 25,
     "metadata": {},
     "output_type": "execute_result"
    },
    {
     "data": {
      "image/png": "[encoded data removed]",
      "text/plain": [
       "<Figure size 432x288 with 1 Axes>"
      ]
     },
     "metadata": {
      "needs_background": "light"
     },
     "output_type": "display_data"
    }
   ],
   "source": [
    "display(orders.sort_values(by='revenue', ascending=False).head(10))\n",
    "\n",
    "x_values = pd.Series(range(0, len(orders['revenue'])))\n",
    "plt.scatter(x_values,orders['revenue'])"
   ]
  },
  {
   "cell_type": "markdown",
   "metadata": {},
   "source": [
    "Вывод: самым дорогим зказом является стал заказ по стоимости в 1 294 500. На втором месте по стоимсоти 202 740. Остальные заказы не превышали 94 000. Слишком дорогие заказы скорее являются выбросами- аномалиями. Посмотрим, что показывает расчет по перцентелям."
   ]
  },
  {
   "cell_type": "markdown",
   "metadata": {},
   "source": [
    "9. расчет 95-й и 99-й перцентили стоимости заказов. \n"
   ]
  },
  {
   "cell_type": "code",
   "execution_count": 26,
   "metadata": {},
   "outputs": [
    {
     "name": "stdout",
     "output_type": "stream",
     "text": [
      "[28000.  58233.2]\n"
     ]
    }
   ],
   "source": [
    "print(np.percentile(orders['revenue'], [95,99]))"
   ]
  },
  {
   "cell_type": "markdown",
   "metadata": {},
   "source": [
    "Вывод: из вышепредставленного расчета видно, что не более 5% пользователей сделали заказы на сумум более 28 000 и не более 1% ползователей сделали заказы на сумму более 58 233.2.\n",
    "\n",
    "Проделанное исследование по методу перцентилей показало, что 95, 99 перцентели числа заказов = 2 и 4 заказа на одного пользователя, а 95 и 99 перцентели среднего чека - 28 000 и 58233.2.Логично принять за аномальных , пользователей, которые совершили более 4 заказов,и  аномальными будем считать также заказы дороже 28 000. Данные предположения позволят убрать 1% пользователей с наибольшим числом заказов и от 1 до 5% пользователей с самыми дорогими заказами.\n"
   ]
  },
  {
   "cell_type": "markdown",
   "metadata": {},
   "source": [
    "10.Посчитайте статистическую значимость различий в среднем количестве заказов на посетителя между группами по «сырым» данным"
   ]
  },
  {
   "cell_type": "markdown",
   "metadata": {},
   "source": [
    "1. Формулировка гипотез.\n",
    "Гипотеза H0 - различия в среднем количестве заказов на посетителя между двумя группа A и B - нет. H1(альтернаятивная) - различия в среднем количестве заказов на посетителя между двумя группами A и B - есть."
   ]
  },
  {
   "cell_type": "code",
   "execution_count": 27,
   "metadata": {},
   "outputs": [
    {
     "data": {
      "text/html": [
       "<div>\n",
       "<style scoped>\n",
       "    .dataframe tbody tr th:only-of-type {\n",
       "        vertical-align: middle;\n",
       "    }\n",
       "\n",
       "    .dataframe tbody tr th {\n",
       "        vertical-align: top;\n",
       "    }\n",
       "\n",
       "    .dataframe thead th {\n",
       "        text-align: right;\n",
       "    }\n",
       "</style>\n",
       "<table border=\"1\" class=\"dataframe\">\n",
       "  <thead>\n",
       "    <tr style=\"text-align: right;\">\n",
       "      <th></th>\n",
       "      <th>date</th>\n",
       "      <th>group</th>\n",
       "      <th>visitors</th>\n",
       "    </tr>\n",
       "  </thead>\n",
       "  <tbody>\n",
       "    <tr>\n",
       "      <th>0</th>\n",
       "      <td>2019-08-01</td>\n",
       "      <td>A</td>\n",
       "      <td>719</td>\n",
       "    </tr>\n",
       "    <tr>\n",
       "      <th>1</th>\n",
       "      <td>2019-08-02</td>\n",
       "      <td>A</td>\n",
       "      <td>619</td>\n",
       "    </tr>\n",
       "    <tr>\n",
       "      <th>2</th>\n",
       "      <td>2019-08-03</td>\n",
       "      <td>A</td>\n",
       "      <td>507</td>\n",
       "    </tr>\n",
       "    <tr>\n",
       "      <th>3</th>\n",
       "      <td>2019-08-04</td>\n",
       "      <td>A</td>\n",
       "      <td>717</td>\n",
       "    </tr>\n",
       "    <tr>\n",
       "      <th>4</th>\n",
       "      <td>2019-08-05</td>\n",
       "      <td>A</td>\n",
       "      <td>756</td>\n",
       "    </tr>\n",
       "    <tr>\n",
       "      <th>5</th>\n",
       "      <td>2019-08-06</td>\n",
       "      <td>A</td>\n",
       "      <td>667</td>\n",
       "    </tr>\n",
       "    <tr>\n",
       "      <th>6</th>\n",
       "      <td>2019-08-07</td>\n",
       "      <td>A</td>\n",
       "      <td>644</td>\n",
       "    </tr>\n",
       "    <tr>\n",
       "      <th>7</th>\n",
       "      <td>2019-08-08</td>\n",
       "      <td>A</td>\n",
       "      <td>610</td>\n",
       "    </tr>\n",
       "    <tr>\n",
       "      <th>8</th>\n",
       "      <td>2019-08-09</td>\n",
       "      <td>A</td>\n",
       "      <td>617</td>\n",
       "    </tr>\n",
       "    <tr>\n",
       "      <th>9</th>\n",
       "      <td>2019-08-10</td>\n",
       "      <td>A</td>\n",
       "      <td>406</td>\n",
       "    </tr>\n",
       "  </tbody>\n",
       "</table>\n",
       "</div>"
      ],
      "text/plain": [
       "        date group  visitors\n",
       "0 2019-08-01     A       719\n",
       "1 2019-08-02     A       619\n",
       "2 2019-08-03     A       507\n",
       "3 2019-08-04     A       717\n",
       "4 2019-08-05     A       756\n",
       "5 2019-08-06     A       667\n",
       "6 2019-08-07     A       644\n",
       "7 2019-08-08     A       610\n",
       "8 2019-08-09     A       617\n",
       "9 2019-08-10     A       406"
      ]
     },
     "metadata": {},
     "output_type": "display_data"
    }
   ],
   "source": [
    "# подготовка данных \n",
    "\n",
    "display(visitors.head(10))\n",
    "visitorsADaily = visitors[visitors['group'] == 'A'][['date', 'visitors']]\n",
    "visitorsADaily.columns = ['date', 'visitorsPerDateA']\n",
    "\n",
    "visitorsACummulative = visitorsADaily.apply(\n",
    "    lambda x: visitorsADaily[visitorsADaily['date'] <= x['date']].agg(\n",
    "        {'date': 'max', 'visitorsPerDateA': 'sum'}\n",
    "    ),\n",
    "    axis=1,\n",
    ")\n",
    "visitorsACummulative.columns = ['date', 'visitorsCummulativeA']"
   ]
  },
  {
   "cell_type": "code",
   "execution_count": 28,
   "metadata": {},
   "outputs": [],
   "source": [
    "visitorsBDaily = visitors[visitors['group'] == 'B'][['date', 'visitors']]\n",
    "visitorsBDaily.columns = ['date', 'visitorsPerDateB']\n",
    "\n",
    "visitorsBCummulative = visitorsBDaily.apply(\n",
    "    lambda x: visitorsBDaily[visitorsBDaily['date'] <= x['date']].agg(\n",
    "        {'date': 'max', 'visitorsPerDateB': 'sum'}\n",
    "    ),\n",
    "    axis=1,\n",
    ")\n",
    "visitorsBCummulative.columns = ['date', 'visitorsCummulativeB']"
   ]
  },
  {
   "cell_type": "code",
   "execution_count": 29,
   "metadata": {},
   "outputs": [
    {
     "data": {
      "text/html": [
       "<div>\n",
       "<style scoped>\n",
       "    .dataframe tbody tr th:only-of-type {\n",
       "        vertical-align: middle;\n",
       "    }\n",
       "\n",
       "    .dataframe tbody tr th {\n",
       "        vertical-align: top;\n",
       "    }\n",
       "\n",
       "    .dataframe thead th {\n",
       "        text-align: right;\n",
       "    }\n",
       "</style>\n",
       "<table border=\"1\" class=\"dataframe\">\n",
       "  <thead>\n",
       "    <tr style=\"text-align: right;\">\n",
       "      <th></th>\n",
       "      <th>transactionId</th>\n",
       "      <th>visitorId</th>\n",
       "      <th>date</th>\n",
       "      <th>revenue</th>\n",
       "      <th>group</th>\n",
       "    </tr>\n",
       "  </thead>\n",
       "  <tbody>\n",
       "    <tr>\n",
       "      <th>0</th>\n",
       "      <td>3667963787</td>\n",
       "      <td>3312258926</td>\n",
       "      <td>2019-08-15</td>\n",
       "      <td>1650</td>\n",
       "      <td>B</td>\n",
       "    </tr>\n",
       "    <tr>\n",
       "      <th>1</th>\n",
       "      <td>2804400009</td>\n",
       "      <td>3642806036</td>\n",
       "      <td>2019-08-15</td>\n",
       "      <td>730</td>\n",
       "      <td>B</td>\n",
       "    </tr>\n",
       "    <tr>\n",
       "      <th>2</th>\n",
       "      <td>2961555356</td>\n",
       "      <td>4069496402</td>\n",
       "      <td>2019-08-15</td>\n",
       "      <td>400</td>\n",
       "      <td>A</td>\n",
       "    </tr>\n",
       "    <tr>\n",
       "      <th>3</th>\n",
       "      <td>3797467345</td>\n",
       "      <td>1196621759</td>\n",
       "      <td>2019-08-15</td>\n",
       "      <td>9759</td>\n",
       "      <td>B</td>\n",
       "    </tr>\n",
       "    <tr>\n",
       "      <th>4</th>\n",
       "      <td>2282983706</td>\n",
       "      <td>2322279887</td>\n",
       "      <td>2019-08-15</td>\n",
       "      <td>2308</td>\n",
       "      <td>B</td>\n",
       "    </tr>\n",
       "    <tr>\n",
       "      <th>5</th>\n",
       "      <td>182168103</td>\n",
       "      <td>935554773</td>\n",
       "      <td>2019-08-15</td>\n",
       "      <td>2210</td>\n",
       "      <td>B</td>\n",
       "    </tr>\n",
       "    <tr>\n",
       "      <th>6</th>\n",
       "      <td>398296753</td>\n",
       "      <td>2900797465</td>\n",
       "      <td>2019-08-15</td>\n",
       "      <td>1860</td>\n",
       "      <td>B</td>\n",
       "    </tr>\n",
       "    <tr>\n",
       "      <th>7</th>\n",
       "      <td>2626614568</td>\n",
       "      <td>78758296</td>\n",
       "      <td>2019-08-15</td>\n",
       "      <td>1044</td>\n",
       "      <td>A</td>\n",
       "    </tr>\n",
       "    <tr>\n",
       "      <th>8</th>\n",
       "      <td>1576988021</td>\n",
       "      <td>295230930</td>\n",
       "      <td>2019-08-15</td>\n",
       "      <td>13710</td>\n",
       "      <td>A</td>\n",
       "    </tr>\n",
       "    <tr>\n",
       "      <th>9</th>\n",
       "      <td>1506739906</td>\n",
       "      <td>1882260405</td>\n",
       "      <td>2019-08-15</td>\n",
       "      <td>1855</td>\n",
       "      <td>B</td>\n",
       "    </tr>\n",
       "  </tbody>\n",
       "</table>\n",
       "</div>"
      ],
      "text/plain": [
       "   transactionId   visitorId       date  revenue group\n",
       "0     3667963787  3312258926 2019-08-15     1650     B\n",
       "1     2804400009  3642806036 2019-08-15      730     B\n",
       "2     2961555356  4069496402 2019-08-15      400     A\n",
       "3     3797467345  1196621759 2019-08-15     9759     B\n",
       "4     2282983706  2322279887 2019-08-15     2308     B\n",
       "5      182168103   935554773 2019-08-15     2210     B\n",
       "6      398296753  2900797465 2019-08-15     1860     B\n",
       "7     2626614568    78758296 2019-08-15     1044     A\n",
       "8     1576988021   295230930 2019-08-15    13710     A\n",
       "9     1506739906  1882260405 2019-08-15     1855     B"
      ]
     },
     "metadata": {},
     "output_type": "display_data"
    }
   ],
   "source": [
    "display(orders.head(10))"
   ]
  },
  {
   "cell_type": "code",
   "execution_count": 30,
   "metadata": {},
   "outputs": [
    {
     "name": "stdout",
     "output_type": "stream",
     "text": [
      "        date  ordersPerDateA  revenuePerDateA  ordersPerDateB  \\\n",
      "0 2019-08-01              24           148579              21   \n",
      "1 2019-08-02              20            93822              24   \n",
      "2 2019-08-03              24           112473              16   \n",
      "3 2019-08-04              16            70825              17   \n",
      "4 2019-08-05              25           124218              23   \n",
      "5 2019-08-06              18            48484              28   \n",
      "6 2019-08-07              18           142417              24   \n",
      "7 2019-08-08              16            96279              27   \n",
      "8 2019-08-09              16           188506              25   \n",
      "9 2019-08-10              16           210495              23   \n",
      "\n",
      "   revenuePerDateB  ordersCummulativeA  revenueCummulativeA  \\\n",
      "0           101217                  24               148579   \n",
      "1           165531                  44               242401   \n",
      "2           114248                  68               354874   \n",
      "3           108571                  84               425699   \n",
      "4            92428                 109               549917   \n",
      "5           242342                 127               598401   \n",
      "6           225334                 145               740818   \n",
      "7           220918                 161               837097   \n",
      "8           160812                 177              1025603   \n",
      "9           107802                 193              1236098   \n",
      "\n",
      "   ordersCummulativeB  revenueCummulativeB  visitorsPerDateA  \\\n",
      "0                  21               101217               719   \n",
      "1                  45               266748               619   \n",
      "2                  61               380996               507   \n",
      "3                  78               489567               717   \n",
      "4                 101               581995               756   \n",
      "5                 129               824337               667   \n",
      "6                 153              1049671               644   \n",
      "7                 180              1270589               610   \n",
      "8                 205              1431401               617   \n",
      "9                 228              1539203               406   \n",
      "\n",
      "   visitorsPerDateB  visitorsCummulativeA  visitorsCummulativeB  \n",
      "0               713                   719                   713  \n",
      "1               581                  1338                  1294  \n",
      "2               509                  1845                  1803  \n",
      "3               770                  2562                  2573  \n",
      "4               707                  3318                  3280  \n",
      "5               655                  3985                  3935  \n",
      "6               709                  4629                  4644  \n",
      "7               654                  5239                  5298  \n",
      "8               610                  5856                  5908  \n",
      "9               369                  6262                  6277  \n"
     ]
    }
   ],
   "source": [
    "ordersADaily = (\n",
    "    orders[orders['group'] == 'A'][['date', 'transactionId', 'visitorId', 'revenue']]\n",
    "    .groupby('date', as_index=False)\n",
    "    .agg({'transactionId': pd.Series.nunique, 'revenue': 'sum'})\n",
    ")\n",
    "ordersADaily.columns = ['date', 'ordersPerDateA', 'revenuePerDateA']\n",
    "\n",
    "ordersACummulative = ordersADaily.apply(\n",
    "    lambda x: ordersADaily[ordersADaily['date'] <= x['date']].agg(\n",
    "        {'date': 'max', 'ordersPerDateA': 'sum', 'revenuePerDateA': 'sum'}\n",
    "    ),\n",
    "    axis=1,\n",
    ").sort_values(by=['date'])\n",
    "ordersACummulative.columns = [\n",
    "    'date',\n",
    "    'ordersCummulativeA',\n",
    "    'revenueCummulativeA',\n",
    "]\n",
    "\n",
    "ordersBDaily = (\n",
    "    orders[orders['group'] == 'B'][['date', 'transactionId', 'visitorId', 'revenue']]\n",
    "    .groupby('date', as_index=False)\n",
    "    .agg({'transactionId': pd.Series.nunique, 'revenue': 'sum'})\n",
    ")\n",
    "ordersBDaily.columns = ['date', 'ordersPerDateB', 'revenuePerDateB']\n",
    "\n",
    "ordersBCummulative = ordersBDaily.apply(\n",
    "    lambda x: ordersBDaily[ordersBDaily['date'] <= x['date']].agg(\n",
    "        {'date': 'max', 'ordersPerDateB': 'sum', 'revenuePerDateB': 'sum'}\n",
    "    ),\n",
    "    axis=1,\n",
    ").sort_values(by=['date'])\n",
    "ordersBCummulative.columns = [\n",
    "    'date',\n",
    "    'ordersCummulativeB',\n",
    "    'revenueCummulativeB',\n",
    "]\n",
    "\n",
    "data = (ordersADaily.merge(ordersBDaily, left_on='date', right_on='date', how='left')\n",
    "    .merge(ordersACummulative, left_on='date', right_on='date', how='left')\n",
    "    .merge(ordersBCummulative, left_on='date', right_on='date', how='left')\n",
    "    .merge(visitorsADaily, left_on='date', right_on='date', how='left')\n",
    "    .merge(visitorsBDaily, left_on='date', right_on='date', how='left')\n",
    "    .merge(visitorsACummulative, left_on='date', right_on='date', how='left')\n",
    "    .merge(visitorsBCummulative, left_on='date', right_on='date', how='left'))\n",
    "print(data.head(10))"
   ]
  },
  {
   "cell_type": "code",
   "execution_count": 31,
   "metadata": {},
   "outputs": [
    {
     "name": "stdout",
     "output_type": "stream",
     "text": [
      "значение p-value 0.017\n",
      "относительный прирост среднего по группе В к группе А 0.138\n"
     ]
    }
   ],
   "source": [
    "# расчет статистической значисости в среднем количестве заказов между группами\n",
    "\n",
    "# Создадим переменные ordersByUsersA и ordersByUsersB со столбцами ['userId', 'orders']. \n",
    "# в них для пользователей, которые заказывали хотя бы 1 раз, укажем число совершённых заказов. \n",
    "ordersByUsersA = (orders[orders['group'] == 'A']\n",
    "    .groupby('visitorId', as_index=False)\n",
    "    .agg({'transactionId': pd.Series.nunique}))\n",
    "ordersByUsersA.columns = ['visitorId', 'orders']\n",
    "\n",
    "ordersByUsersB = (orders[orders['group'] == 'B']\n",
    "    .groupby('visitorId', as_index=False)\n",
    "    .agg({'transactionId': pd.Series.nunique}))\n",
    "ordersByUsersB.columns = ['visitorId', 'orders']\n",
    "\n",
    "# объявляем переменные, в которых, в которых пользователям из разных групп будет соответсвовать количество заказов\n",
    "sampleA = pd.concat([ordersByUsersA['orders'],pd.Series(0, index=np.arange(data['visitorsPerDateA'].sum() - len(ordersByUsersA['orders'])), name='orders')],axis=0)\n",
    "\n",
    "sampleB = pd.concat([ordersByUsersB['orders'],pd.Series(0, index=np.arange(data['visitorsPerDateB'].sum() - len(ordersByUsersB['orders'])), name='orders')],axis=0)\n",
    "\n",
    "\n",
    "# значение p-value\n",
    "print('значение p-value', \"{0:.3f}\".format(stats.mannwhitneyu(sampleA, sampleB)[1]))\n",
    "# выводим относительное различие в среднем между группами\n",
    "print('относительный прирост среднего по группе В к группе А', \"{0:.3f}\".format(sampleB.mean() / sampleA.mean() - 1))"
   ]
  },
  {
   "cell_type": "markdown",
   "metadata": {},
   "source": [
    "Вывод: анализ данных показал, что p-value значительно меньше 0.05, следовательно гипотезу Ho нужно отвергнуть, то есть  между заказами пользователей в сегментах  A и B существуют статистически значимые различия. Относительный прирост среднего по группе B к конверсии группы А равен 13,8%.  "
   ]
  },
  {
   "cell_type": "markdown",
   "metadata": {},
   "source": [
    "11. расчет статистической значимости различий в среднем чеке между группами А и В по \"сырым данным\""
   ]
  },
  {
   "cell_type": "markdown",
   "metadata": {},
   "source": [
    "1. Формулировка гипотез.\n",
    "Гипотеза H0 - различия в среднем заказов на чеке между исследуемыми группа A и B - нет. H1(альтернаятивная) - различия в среднем чеке между двумя исследуемыми группами A и B - есть."
   ]
  },
  {
   "cell_type": "code",
   "execution_count": 32,
   "metadata": {},
   "outputs": [
    {
     "name": "stdout",
     "output_type": "stream",
     "text": [
      "значение p-value 0.729\n",
      "относительный прирост среднего чека группы В относительнотгруппы А 0.259\n"
     ]
    }
   ],
   "source": [
    "# Н0 - различий в среднем чеке между группами -нет, альтернативная гипотеза Н1-различия в среднем чеке между группами есть.\n",
    "print('значение p-value', '{0:.3f}'.format(stats.mannwhitneyu(orders[orders['group']=='A']['revenue'], orders[orders['group']=='B']['revenue'])[1]))\n",
    "print('относительный прирост среднего чека группы В относительнотгруппы А','{0:.3f}'.format(orders[orders['group']=='B']['revenue'].mean()/orders[orders['group']=='A']['revenue'].mean()-1)) "
   ]
  },
  {
   "cell_type": "markdown",
   "metadata": {},
   "source": [
    "Вывод: полученные данные показали, что значение p-value > 0.05, следовательно гипотезу Н0 отвергнуть не получается.То есть статически значимых различий в среднем чеке между группами А и В - нет. Кроме того, средний чек группы B значительно выше среднего чека нруппы А"
   ]
  },
  {
   "cell_type": "markdown",
   "metadata": {},
   "source": [
    "12. расчет статической значимости различий в среднем количестве заказов между группами по \"очищенным данным\""
   ]
  },
  {
   "cell_type": "markdown",
   "metadata": {},
   "source": [
    "1. Формулировка гипотез для 'очищенных данных'\n",
    "\n",
    "Гипотеза H0 - различия в среднем количестве заказов на посетителя между двумя группа A и B - нет. H1(альтернаятивная) - различия в среднем количестве заказов на посетителя между двумя группами A и B - есть."
   ]
  },
  {
   "cell_type": "markdown",
   "metadata": {},
   "source": [
    "Сделанное ранее исследование по методу перцентилей показало, что 95, 99 перцентели числа заказов = 2 и 4 заказа на одного пользователя, а средннго чека - 28 000 и 58233.2. ПОэтому логично прнять за аномальных пользователей, которые совершили более 4 заказов, тогда аномальными будем считать также заказы дороже 28 000. Данные предположения позволят убрать 1% пользователей с наибольшим числом заказов и от 1 до 5% пользователей с самыми дорогими заказами."
   ]
  },
  {
   "cell_type": "code",
   "execution_count": 33,
   "metadata": {},
   "outputs": [
    {
     "name": "stdout",
     "output_type": "stream",
     "text": [
      "1099    148427295\n",
      "928     204675465\n",
      "684     358944393\n",
      "648     382846391\n",
      "1189    393266494\n",
      "Name: visitorId, dtype: int64\n",
      "59\n"
     ]
    }
   ],
   "source": [
    "# сделаем срезы в двух таблицах, а после объединим данные в одной переменной abnormalUsers\n",
    "usersWithManyOrders = pd.concat([\n",
    "        ordersByUsersA[ordersByUsersA['orders'] > 4]['visitorId'],\n",
    "        ordersByUsersB[ordersByUsersB['orders'] > 4]['visitorId'],],axis=0,)\n",
    "usersWithExpensiveOrders = orders[orders['revenue'] > 28000]['visitorId']\n",
    "abnormalUsers = (pd.concat([usersWithManyOrders, usersWithExpensiveOrders], axis=0)\n",
    "    .drop_duplicates().sort_values())\n",
    "print(abnormalUsers.head(5))\n",
    "print(abnormalUsers.shape[0])"
   ]
  },
  {
   "cell_type": "markdown",
   "metadata": {},
   "source": [
    "Вывод: полусилось 59 аномальных пользователей.Для расчетат статистической  значимости необходимо удалить этих пользоватедей их групп, таким образом мы очистим данные."
   ]
  },
  {
   "cell_type": "code",
   "execution_count": 34,
   "metadata": {},
   "outputs": [
    {
     "name": "stdout",
     "output_type": "stream",
     "text": [
      "значение p-value по очищенным данным 0.018\n",
      "относительный прирост среднего очищенной группы В 0.145\n"
     ]
    }
   ],
   "source": [
    "# создадим две переменные, в которых будут храниться очищенные данные, без учета аномальных пользователей\n",
    "sampleAFiltered = pd.concat(\n",
    "    [\n",
    "        ordersByUsersA[\n",
    "            np.logical_not(ordersByUsersA['visitorId'].isin(abnormalUsers))\n",
    "        ]['orders'],\n",
    "        pd.Series(\n",
    "            0,\n",
    "            index=np.arange(\n",
    "                data['visitorsPerDateA'].sum() - len(ordersByUsersA['orders'])\n",
    "            ),\n",
    "            name='orders',\n",
    "        ),\n",
    "    ],\n",
    "    axis=0,\n",
    ")\n",
    "\n",
    "sampleBFiltered = pd.concat(\n",
    "    [\n",
    "        ordersByUsersB[\n",
    "            np.logical_not(ordersByUsersB['visitorId'].isin(abnormalUsers))\n",
    "        ]['orders'],\n",
    "        pd.Series(\n",
    "            0,\n",
    "            index=np.arange(\n",
    "                data['visitorsPerDateB'].sum() - len(ordersByUsersB['orders'])\n",
    "            ),\n",
    "            name='orders',\n",
    "        ),\n",
    "    ],\n",
    "    axis=0,\n",
    ") \n",
    "\n",
    "print('значение p-value по очищенным данным', '{0:.3f}'.format(stats.mannwhitneyu(sampleAFiltered, sampleBFiltered)[1]))\n",
    "print('относительный прирост среднего очищенной группы В', '{0:.3f}'.format(sampleBFiltered.mean()/sampleAFiltered.mean()-1)) \n"
   ]
  },
  {
   "cell_type": "markdown",
   "metadata": {},
   "source": [
    "Вывод: исключение аномальных значений существенно не повлияло на значение p-value: 'сырые данные'- 1.7%, \"очищеные данные\" -1.8%.Все также гипотезу Н0 стоит исключить, признав наличии статистически значимых различий между количеством заказов в гуппах А и В. Относительный прирост количества заказов в группе В относительно группу А также существенно не изменился: \"сырые данные\" - 13.8%, 'очищенные данные'- 14,5%. Можно также утвержать, количество заказов в группе И в среднем больше, чем в группе А."
   ]
  },
  {
   "cell_type": "markdown",
   "metadata": {},
   "source": [
    "13. расчет статической значимости различий в среднем чеке заказов групп по 'очищенным данным'"
   ]
  },
  {
   "cell_type": "markdown",
   "metadata": {},
   "source": [
    "1. Формулировка гипотез по 'очищенным данным'\n",
    "\n",
    "Гипотеза H0 - различия в среднем чеке между исследуемыми группа A и B - нет. H1(альтернаятивная) - различия в среднем чеке между двумя исследуемыми группами A и B - есть."
   ]
  },
  {
   "cell_type": "code",
   "execution_count": 35,
   "metadata": {},
   "outputs": [
    {
     "name": "stdout",
     "output_type": "stream",
     "text": [
      "значение p-value по очищенным данным 0.961\n",
      "относительное изменение среднего чека группы В -0.014\n"
     ]
    }
   ],
   "source": [
    "# расчет стат. значимости без аномальных пользователей.\n",
    "print('значение p-value по очищенным данным', \n",
    "    '{0:.3f}'.format(\n",
    "        stats.mannwhitneyu(\n",
    "            orders[\n",
    "                np.logical_and(\n",
    "                    orders['group'] == 'A',\n",
    "                    np.logical_not(orders['visitorId'].isin(abnormalUsers)),\n",
    "                )\n",
    "            ]['revenue'],\n",
    "            orders[\n",
    "                np.logical_and(\n",
    "                    orders['group'] == 'B',\n",
    "                    np.logical_not(orders['visitorId'].isin(abnormalUsers)),\n",
    "                )\n",
    "            ]['revenue'],\n",
    "        )[1]\n",
    "    )\n",
    ")\n",
    "\n",
    "print('относительное изменение среднего чека группы В', \n",
    "    \"{0:.3f}\".format(\n",
    "        orders[\n",
    "            np.logical_and(\n",
    "                orders['group'] == 'B',\n",
    "                np.logical_not(orders['visitorId'].isin(abnormalUsers)),\n",
    "            )\n",
    "        ]['revenue'].mean()\n",
    "        / orders[\n",
    "            np.logical_and(\n",
    "                orders['group'] == 'A',\n",
    "                np.logical_not(orders['visitorId'].isin(abnormalUsers)),\n",
    "            )\n",
    "        ]['revenue'].mean()\n",
    "        - 1\n",
    "    )\n",
    ") "
   ]
  },
  {
   "cell_type": "markdown",
   "metadata": {},
   "source": [
    "Вывод: Анализ данных показал, что значение P-value по очищенным данным также более 0.05, следовательно гипотезу Н0 мы не отклоняем , то есть статически значимых различий между средними чеками по двум группам нет. Значение p-value: 'сырые данные'- 72.9%, 'очищенные данные' - 96.1%.\n",
    "        Однако, средний чек группы В меньше среднего чека группы А, отсюдо получилось отрицательное относительного изменения. По \"сырым данным\" мы имели относительный прирост среднего чека, средний чек по группе был на больше среднего чека группы А. \"очищенные данные\" изменили картину, средний чек группы В стал ниже среднего чека группы А. Таким образом в глобальном масштабе выводы в рамках аналиаз существенно не изменились, но очистка данных показала то, что выбросы могут сущсетвенно влиять оценки, именно поэтому стоит убирать аномалии и выбросы."
   ]
  },
  {
   "cell_type": "markdown",
   "metadata": {},
   "source": [
    "14. Итоговое решение и выводы по результатам теста"
   ]
  },
  {
   "cell_type": "markdown",
   "metadata": {},
   "source": [
    "- проведенный анализ показал, что есть статически значимые различия по конверсиям между группами как по 'сырым данным', так и по 'очищенным данным' значения p-value в обоих случаях менее 0.05\n",
    "- нет различий в средних чеках между группами как по \"сырым данным\", так и по 'очищенным данным'. При этом,исключение аномалий существенно повлияло на значение относительного изменения среднего чека по гуппе относительно группы А. Если до очистки данных средний чек по группе И был немного выше среднего чека группы А, то после фильтрации, средний чек группы B стал меньше среднего чека группы А.\n",
    "- график различия конверсии между группами сообщает, что результаты группы B лучше группы A, либо стремиться к среднему значению.\n",
    "- График различия среднего чека гвоорит о том, что знчаение среднего чека  группы B больше чем на 25% значения среднего чека по группе А, однако граыик исеет скачкаобразный вид, скорее всего резкий рост среднего чека обусловлен либо появлением в группе слишком дорого заказа, либо наличием выбросов.\n",
    "\n",
    "Таким образом, тест стоит остановить и признть успешным, метрики по группе B статистически значимо лучше анализируемых метрик группы А. График конверсии по группе И показывает фиксацию результатов."
   ]
  },
  {
   "cell_type": "markdown",
   "metadata": {},
   "source": [
    "# Итоговый общий вывод по проекту"
   ]
  },
  {
   "cell_type": "markdown",
   "metadata": {},
   "source": [
    "1.1. Приоритизация гипотез\n",
    "\n",
    "Для приоритизации гипотез были применены фреймворки ICE и RICE. При применении фреймворка ICE наиболее перспективными гипотезами были:8,0,7,6. При применении фреймворка RICE наиболее перспективными становятся гипотезы 7,2,0,6. Гипотеза 7 перешла на первое место в фреймворке RICE в связи с тем, что параметр Reach в данной гипотезе максимальный - 10, для гипотезы 2 , параметр Reach также достаточно высокий - 8. В расчете RICE параметр reach стоит в числителе, поэтому существенно влияет на величину искомого значения.\n",
    "\n",
    "1.2. A/B-тест\n",
    "\n",
    "- Построены графики кумулятивной выручки и кумулятивного среднего чека по группам\n",
    "- Построены графики относительного изменения кумулятивного среднего чека группы B к группе A, кумулятивной конверсии по группам, относительного изменения кумулятивной конверсии\n",
    "- Построен точечный график количества заказов по пользователям и стоимостей заказов, который показал, что в основном пользователи делаю не более 3-х заказов, самый дорогой заказ единичный - более 1.2 млн., слишком дорогие заказы скорее всего выбросы, которые влияют на среднее\n",
    "- Посчитаны 95-й и 99-й перцентили количества заказов на пользователя и стоимости заказов, для понимания того, какое количество заказов и какую сумму заказов признавать (максимальные границы) допустимыми для фильтрации аномалий и очистки данных\n",
    "- Посчитаны статистические значимости различий в конверсии и среднем чеке заказа между группами по «сырым» данным\"\n",
    "- Посчитаны статистические значимости различий в конверсии и среднем чеке заказа между группами по «очищеным» данным\"\n",
    "\n",
    "Результаты тестирования показали, что действительно метрики группы В статистически лучше метрик группы А. Тест можно признать успешным.\n"
   ]
  }
 ],
 "metadata": {
  "ExecuteTimeLog": [
   {
    "duration": 72,
    "start_time": "2023-02-17T16:37:14.122Z"
   },
   {
    "duration": 83,
    "start_time": "2023-02-17T16:42:52.037Z"
   },
   {
    "duration": 1707,
    "start_time": "2023-02-17T16:43:02.546Z"
   },
   {
    "duration": 23,
    "start_time": "2023-02-17T16:43:04.256Z"
   },
   {
    "duration": 18,
    "start_time": "2023-02-17T16:44:58.658Z"
   },
   {
    "duration": 10,
    "start_time": "2023-02-17T16:46:29.739Z"
   },
   {
    "duration": 19,
    "start_time": "2023-02-17T16:46:49.291Z"
   },
   {
    "duration": 17,
    "start_time": "2023-02-17T16:47:07.590Z"
   },
   {
    "duration": 153,
    "start_time": "2023-02-17T16:52:06.234Z"
   },
   {
    "duration": 20,
    "start_time": "2023-02-17T16:52:14.367Z"
   },
   {
    "duration": 12,
    "start_time": "2023-02-17T17:00:34.629Z"
   },
   {
    "duration": 8,
    "start_time": "2023-02-17T17:00:42.295Z"
   },
   {
    "duration": 6,
    "start_time": "2023-02-17T17:02:52.602Z"
   },
   {
    "duration": 9,
    "start_time": "2023-02-17T17:03:40.404Z"
   },
   {
    "duration": 11,
    "start_time": "2023-02-17T17:04:18.241Z"
   },
   {
    "duration": 12,
    "start_time": "2023-02-17T17:08:59.946Z"
   },
   {
    "duration": 24,
    "start_time": "2023-02-17T17:09:18.192Z"
   },
   {
    "duration": 15,
    "start_time": "2023-02-17T17:10:47.932Z"
   },
   {
    "duration": 7,
    "start_time": "2023-02-17T17:11:50.509Z"
   },
   {
    "duration": 78,
    "start_time": "2023-02-17T17:12:46.653Z"
   },
   {
    "duration": 11,
    "start_time": "2023-02-17T17:15:28.994Z"
   },
   {
    "duration": 59,
    "start_time": "2023-02-17T17:17:30.764Z"
   },
   {
    "duration": 21,
    "start_time": "2023-02-17T17:17:37.815Z"
   },
   {
    "duration": 12,
    "start_time": "2023-02-17T17:50:37.497Z"
   },
   {
    "duration": 20,
    "start_time": "2023-02-17T17:50:47.429Z"
   },
   {
    "duration": 1532,
    "start_time": "2023-02-18T10:26:38.784Z"
   },
   {
    "duration": 11,
    "start_time": "2023-02-18T10:26:40.318Z"
   },
   {
    "duration": 13,
    "start_time": "2023-02-18T10:26:40.331Z"
   },
   {
    "duration": 11,
    "start_time": "2023-02-18T10:26:40.519Z"
   },
   {
    "duration": 21,
    "start_time": "2023-02-18T10:26:40.829Z"
   },
   {
    "duration": 14,
    "start_time": "2023-02-18T10:26:41.135Z"
   },
   {
    "duration": 10,
    "start_time": "2023-02-18T10:26:41.427Z"
   },
   {
    "duration": 15,
    "start_time": "2023-02-18T10:26:42.020Z"
   },
   {
    "duration": 15,
    "start_time": "2023-02-18T10:26:42.291Z"
   },
   {
    "duration": 4,
    "start_time": "2023-02-18T10:26:42.589Z"
   },
   {
    "duration": 16,
    "start_time": "2023-02-18T10:26:43.862Z"
   },
   {
    "duration": 18,
    "start_time": "2023-02-18T10:26:44.496Z"
   },
   {
    "duration": 162,
    "start_time": "2023-02-18T10:40:59.585Z"
   },
   {
    "duration": 53,
    "start_time": "2023-02-18T10:43:33.776Z"
   },
   {
    "duration": 59,
    "start_time": "2023-02-18T10:44:01.997Z"
   },
   {
    "duration": 93,
    "start_time": "2023-02-18T10:44:26.888Z"
   },
   {
    "duration": 8,
    "start_time": "2023-02-18T10:44:27.180Z"
   },
   {
    "duration": 14,
    "start_time": "2023-02-18T10:44:27.486Z"
   },
   {
    "duration": 9,
    "start_time": "2023-02-18T10:44:27.766Z"
   },
   {
    "duration": 15,
    "start_time": "2023-02-18T10:44:28.034Z"
   },
   {
    "duration": 13,
    "start_time": "2023-02-18T10:44:28.282Z"
   },
   {
    "duration": 11,
    "start_time": "2023-02-18T10:44:28.531Z"
   },
   {
    "duration": 15,
    "start_time": "2023-02-18T10:44:29.054Z"
   },
   {
    "duration": 12,
    "start_time": "2023-02-18T10:44:29.337Z"
   },
   {
    "duration": 6,
    "start_time": "2023-02-18T10:44:29.630Z"
   },
   {
    "duration": 16,
    "start_time": "2023-02-18T10:44:31.047Z"
   },
   {
    "duration": 11,
    "start_time": "2023-02-18T10:44:31.832Z"
   },
   {
    "duration": 44,
    "start_time": "2023-02-18T10:44:33.282Z"
   },
   {
    "duration": 319,
    "start_time": "2023-02-18T10:45:21.230Z"
   },
   {
    "duration": 281,
    "start_time": "2023-02-18T10:49:15.431Z"
   },
   {
    "duration": 215,
    "start_time": "2023-02-18T10:51:21.035Z"
   },
   {
    "duration": 294,
    "start_time": "2023-02-18T10:57:16.870Z"
   },
   {
    "duration": 187,
    "start_time": "2023-02-18T10:57:19.881Z"
   },
   {
    "duration": 198,
    "start_time": "2023-02-18T11:00:41.631Z"
   },
   {
    "duration": 163,
    "start_time": "2023-02-18T11:00:45.465Z"
   },
   {
    "duration": 245,
    "start_time": "2023-02-18T11:00:53.424Z"
   },
   {
    "duration": 177,
    "start_time": "2023-02-18T11:07:23.197Z"
   },
   {
    "duration": 269,
    "start_time": "2023-02-18T11:07:54.570Z"
   },
   {
    "duration": 73,
    "start_time": "2023-02-18T11:12:43.367Z"
   },
   {
    "duration": 44,
    "start_time": "2023-02-18T11:13:36.641Z"
   },
   {
    "duration": 305,
    "start_time": "2023-02-18T11:17:02.055Z"
   },
   {
    "duration": 214,
    "start_time": "2023-02-18T11:24:27.629Z"
   },
   {
    "duration": 61,
    "start_time": "2023-02-18T11:27:23.907Z"
   },
   {
    "duration": 210,
    "start_time": "2023-02-18T11:28:02.179Z"
   },
   {
    "duration": 231,
    "start_time": "2023-02-18T11:28:37.394Z"
   },
   {
    "duration": 205,
    "start_time": "2023-02-18T11:28:57.820Z"
   },
   {
    "duration": 288,
    "start_time": "2023-02-18T11:37:13.140Z"
   },
   {
    "duration": 320,
    "start_time": "2023-02-18T11:38:08.586Z"
   },
   {
    "duration": 330,
    "start_time": "2023-02-18T11:38:15.212Z"
   },
   {
    "duration": 294,
    "start_time": "2023-02-18T11:39:39.316Z"
   },
   {
    "duration": 51,
    "start_time": "2023-02-18T12:00:17.678Z"
   },
   {
    "duration": 20,
    "start_time": "2023-02-18T12:00:59.787Z"
   },
   {
    "duration": 19,
    "start_time": "2023-02-18T12:01:16.441Z"
   },
   {
    "duration": 19,
    "start_time": "2023-02-18T12:01:42.807Z"
   },
   {
    "duration": 19,
    "start_time": "2023-02-18T12:04:12.773Z"
   },
   {
    "duration": 755,
    "start_time": "2023-02-18T12:07:09.614Z"
   },
   {
    "duration": 750,
    "start_time": "2023-02-18T12:09:58.833Z"
   },
   {
    "duration": 998,
    "start_time": "2023-02-18T12:10:17.754Z"
   },
   {
    "duration": 60,
    "start_time": "2023-02-18T12:12:22.566Z"
   },
   {
    "duration": 135,
    "start_time": "2023-02-18T12:12:38.988Z"
   },
   {
    "duration": 218,
    "start_time": "2023-02-18T12:13:32.002Z"
   },
   {
    "duration": 151,
    "start_time": "2023-02-18T12:15:55.477Z"
   },
   {
    "duration": 5,
    "start_time": "2023-02-18T12:25:34.020Z"
   },
   {
    "duration": 4,
    "start_time": "2023-02-18T12:26:29.896Z"
   },
   {
    "duration": 25,
    "start_time": "2023-02-18T12:32:46.392Z"
   },
   {
    "duration": 25,
    "start_time": "2023-02-18T12:32:57.992Z"
   },
   {
    "duration": 129,
    "start_time": "2023-02-18T12:33:07.540Z"
   },
   {
    "duration": 8,
    "start_time": "2023-02-18T12:41:28.974Z"
   },
   {
    "duration": 5,
    "start_time": "2023-02-18T12:41:40.876Z"
   },
   {
    "duration": 1621,
    "start_time": "2023-02-19T12:23:41.387Z"
   },
   {
    "duration": 21,
    "start_time": "2023-02-19T12:23:43.010Z"
   },
   {
    "duration": 20,
    "start_time": "2023-02-19T12:23:43.034Z"
   },
   {
    "duration": 18,
    "start_time": "2023-02-19T12:23:43.056Z"
   },
   {
    "duration": 33,
    "start_time": "2023-02-19T12:23:43.075Z"
   },
   {
    "duration": 13,
    "start_time": "2023-02-19T12:23:43.110Z"
   },
   {
    "duration": 9,
    "start_time": "2023-02-19T12:23:43.248Z"
   },
   {
    "duration": 16,
    "start_time": "2023-02-19T12:23:43.913Z"
   },
   {
    "duration": 11,
    "start_time": "2023-02-19T12:23:44.205Z"
   },
   {
    "duration": 6,
    "start_time": "2023-02-19T12:23:44.543Z"
   },
   {
    "duration": 20,
    "start_time": "2023-02-19T12:23:45.764Z"
   },
   {
    "duration": 12,
    "start_time": "2023-02-19T12:23:46.502Z"
   },
   {
    "duration": 318,
    "start_time": "2023-02-19T12:23:48.141Z"
   },
   {
    "duration": 310,
    "start_time": "2023-02-19T12:23:48.462Z"
   },
   {
    "duration": 226,
    "start_time": "2023-02-19T12:23:50.649Z"
   },
   {
    "duration": 374,
    "start_time": "2023-02-19T12:23:51.713Z"
   },
   {
    "duration": 225,
    "start_time": "2023-02-19T12:23:52.844Z"
   },
   {
    "duration": 292,
    "start_time": "2023-02-19T12:23:53.970Z"
   },
   {
    "duration": 153,
    "start_time": "2023-02-19T12:23:55.702Z"
   },
   {
    "duration": 6,
    "start_time": "2023-02-19T12:23:57.970Z"
   },
   {
    "duration": 145,
    "start_time": "2023-02-19T12:23:59.651Z"
   },
   {
    "duration": 4,
    "start_time": "2023-02-19T12:24:03.382Z"
   },
   {
    "duration": 128,
    "start_time": "2023-02-19T12:37:02.685Z"
   },
   {
    "duration": 49,
    "start_time": "2023-02-19T12:37:45.871Z"
   },
   {
    "duration": 96,
    "start_time": "2023-02-19T12:38:41.634Z"
   },
   {
    "duration": 9,
    "start_time": "2023-02-19T12:38:49.121Z"
   },
   {
    "duration": 75,
    "start_time": "2023-02-19T12:41:52.303Z"
   },
   {
    "duration": 132,
    "start_time": "2023-02-19T12:42:08.754Z"
   },
   {
    "duration": 190,
    "start_time": "2023-02-19T13:45:35.215Z"
   },
   {
    "duration": 215,
    "start_time": "2023-02-19T13:46:04.700Z"
   },
   {
    "duration": 168,
    "start_time": "2023-02-19T13:48:27.044Z"
   },
   {
    "duration": 75,
    "start_time": "2023-02-19T13:53:30.243Z"
   },
   {
    "duration": 11,
    "start_time": "2023-02-19T13:58:12.847Z"
   },
   {
    "duration": 13,
    "start_time": "2023-02-19T13:59:12.091Z"
   },
   {
    "duration": 314,
    "start_time": "2023-02-19T14:00:04.653Z"
   },
   {
    "duration": 14,
    "start_time": "2023-02-19T14:00:45.432Z"
   },
   {
    "duration": 9,
    "start_time": "2023-02-19T14:15:52.331Z"
   },
   {
    "duration": 69,
    "start_time": "2023-02-19T14:18:29.203Z"
   },
   {
    "duration": 1125,
    "start_time": "2023-02-19T14:21:57.303Z"
   },
   {
    "duration": 27,
    "start_time": "2023-02-19T14:22:28.286Z"
   },
   {
    "duration": 14,
    "start_time": "2023-02-19T14:31:08.847Z"
   },
   {
    "duration": 17,
    "start_time": "2023-02-19T14:33:56.235Z"
   },
   {
    "duration": 16,
    "start_time": "2023-02-19T14:34:16.644Z"
   },
   {
    "duration": 69,
    "start_time": "2023-02-19T14:47:29.804Z"
   },
   {
    "duration": 3,
    "start_time": "2023-02-19T15:23:37.786Z"
   },
   {
    "duration": 154,
    "start_time": "2023-02-19T15:42:56.087Z"
   },
   {
    "duration": 10,
    "start_time": "2023-02-19T15:42:56.389Z"
   },
   {
    "duration": 11,
    "start_time": "2023-02-19T15:42:56.988Z"
   },
   {
    "duration": 9,
    "start_time": "2023-02-19T15:42:57.282Z"
   },
   {
    "duration": 18,
    "start_time": "2023-02-19T15:42:57.562Z"
   },
   {
    "duration": 18,
    "start_time": "2023-02-19T15:42:57.849Z"
   },
   {
    "duration": 14,
    "start_time": "2023-02-19T15:42:58.423Z"
   },
   {
    "duration": 17,
    "start_time": "2023-02-19T15:42:58.683Z"
   },
   {
    "duration": 13,
    "start_time": "2023-02-19T15:42:58.961Z"
   },
   {
    "duration": 6,
    "start_time": "2023-02-19T15:42:59.260Z"
   },
   {
    "duration": 22,
    "start_time": "2023-02-19T15:43:01.344Z"
   },
   {
    "duration": 12,
    "start_time": "2023-02-19T15:43:01.950Z"
   },
   {
    "duration": 295,
    "start_time": "2023-02-19T15:43:09.091Z"
   },
   {
    "duration": 222,
    "start_time": "2023-02-19T15:43:09.389Z"
   },
   {
    "duration": 206,
    "start_time": "2023-02-19T15:43:10.276Z"
   },
   {
    "duration": 305,
    "start_time": "2023-02-19T15:43:11.425Z"
   },
   {
    "duration": 239,
    "start_time": "2023-02-19T15:43:12.928Z"
   },
   {
    "duration": 341,
    "start_time": "2023-02-19T15:43:14.098Z"
   },
   {
    "duration": 153,
    "start_time": "2023-02-19T15:43:15.294Z"
   },
   {
    "duration": 5,
    "start_time": "2023-02-19T15:43:16.543Z"
   },
   {
    "duration": 142,
    "start_time": "2023-02-19T15:43:17.749Z"
   },
   {
    "duration": 6,
    "start_time": "2023-02-19T15:43:18.891Z"
   },
   {
    "duration": 74,
    "start_time": "2023-02-19T15:43:20.471Z"
   },
   {
    "duration": 50,
    "start_time": "2023-02-19T15:43:21.170Z"
   },
   {
    "duration": 9,
    "start_time": "2023-02-19T15:43:21.294Z"
   },
   {
    "duration": 138,
    "start_time": "2023-02-19T15:43:22.897Z"
   },
   {
    "duration": 224,
    "start_time": "2023-02-19T15:45:33.863Z"
   },
   {
    "duration": 320,
    "start_time": "2023-02-19T15:45:40.545Z"
   },
   {
    "duration": 158,
    "start_time": "2023-02-19T15:45:42.620Z"
   },
   {
    "duration": 5,
    "start_time": "2023-02-19T15:45:49.769Z"
   },
   {
    "duration": 151,
    "start_time": "2023-02-19T15:45:52.005Z"
   },
   {
    "duration": 4,
    "start_time": "2023-02-19T15:45:54.903Z"
   },
   {
    "duration": 137,
    "start_time": "2023-02-19T15:45:57.239Z"
   },
   {
    "duration": 51,
    "start_time": "2023-02-19T15:45:57.753Z"
   },
   {
    "duration": 21,
    "start_time": "2023-02-19T15:45:58.224Z"
   },
   {
    "duration": 143,
    "start_time": "2023-02-19T15:45:58.958Z"
   },
   {
    "duration": 173,
    "start_time": "2023-02-19T15:45:59.104Z"
   },
   {
    "duration": 14,
    "start_time": "2023-02-19T15:46:00.797Z"
   },
   {
    "duration": 10,
    "start_time": "2023-02-19T15:46:02.400Z"
   },
   {
    "duration": 30,
    "start_time": "2023-02-19T15:46:03.400Z"
   },
   {
    "duration": 25,
    "start_time": "2023-02-19T15:46:04.624Z"
   },
   {
    "duration": 1818,
    "start_time": "2023-02-19T17:52:12.447Z"
   },
   {
    "duration": 11,
    "start_time": "2023-02-19T17:52:14.267Z"
   },
   {
    "duration": 12,
    "start_time": "2023-02-19T17:52:14.279Z"
   },
   {
    "duration": 11,
    "start_time": "2023-02-19T17:52:14.293Z"
   },
   {
    "duration": 18,
    "start_time": "2023-02-19T17:52:14.305Z"
   },
   {
    "duration": 32,
    "start_time": "2023-02-19T17:52:14.325Z"
   },
   {
    "duration": 11,
    "start_time": "2023-02-19T17:52:14.359Z"
   },
   {
    "duration": 13,
    "start_time": "2023-02-19T17:52:14.372Z"
   },
   {
    "duration": 11,
    "start_time": "2023-02-19T17:52:14.387Z"
   },
   {
    "duration": 7,
    "start_time": "2023-02-19T17:52:14.400Z"
   },
   {
    "duration": 60,
    "start_time": "2023-02-19T17:52:14.408Z"
   },
   {
    "duration": 12,
    "start_time": "2023-02-19T17:52:14.471Z"
   },
   {
    "duration": 305,
    "start_time": "2023-02-19T17:52:14.485Z"
   },
   {
    "duration": 285,
    "start_time": "2023-02-19T17:52:14.792Z"
   },
   {
    "duration": 190,
    "start_time": "2023-02-19T17:52:15.079Z"
   },
   {
    "duration": 290,
    "start_time": "2023-02-19T17:52:15.271Z"
   },
   {
    "duration": 230,
    "start_time": "2023-02-19T17:52:15.563Z"
   },
   {
    "duration": 322,
    "start_time": "2023-02-19T17:52:15.795Z"
   },
   {
    "duration": 200,
    "start_time": "2023-02-19T17:52:16.120Z"
   },
   {
    "duration": 5,
    "start_time": "2023-02-19T17:52:16.322Z"
   },
   {
    "duration": 174,
    "start_time": "2023-02-19T17:52:16.329Z"
   },
   {
    "duration": 5,
    "start_time": "2023-02-19T17:52:16.506Z"
   },
   {
    "duration": 154,
    "start_time": "2023-02-19T17:52:16.513Z"
   },
   {
    "duration": 48,
    "start_time": "2023-02-19T17:52:16.669Z"
   },
   {
    "duration": 11,
    "start_time": "2023-02-19T17:52:16.719Z"
   },
   {
    "duration": 166,
    "start_time": "2023-02-19T17:52:16.732Z"
   },
   {
    "duration": 204,
    "start_time": "2023-02-19T17:52:16.900Z"
   },
   {
    "duration": 14,
    "start_time": "2023-02-19T17:52:17.108Z"
   },
   {
    "duration": 31,
    "start_time": "2023-02-19T17:52:17.124Z"
   },
   {
    "duration": 46,
    "start_time": "2023-02-19T17:52:17.156Z"
   },
   {
    "duration": 16,
    "start_time": "2023-02-19T17:52:17.204Z"
   },
   {
    "duration": 105,
    "start_time": "2023-02-20T12:06:49.938Z"
   },
   {
    "duration": 49,
    "start_time": "2023-02-20T12:12:57.257Z"
   },
   {
    "duration": 1493,
    "start_time": "2023-02-20T12:13:12.799Z"
   },
   {
    "duration": 14,
    "start_time": "2023-02-20T12:13:15.064Z"
   },
   {
    "duration": 11,
    "start_time": "2023-02-20T12:13:15.901Z"
   },
   {
    "duration": 8,
    "start_time": "2023-02-20T12:13:17.202Z"
   },
   {
    "duration": 18,
    "start_time": "2023-02-20T12:13:18.467Z"
   },
   {
    "duration": 14,
    "start_time": "2023-02-20T12:13:20.326Z"
   },
   {
    "duration": 9,
    "start_time": "2023-02-20T12:13:21.688Z"
   },
   {
    "duration": 15,
    "start_time": "2023-02-20T12:13:23.991Z"
   },
   {
    "duration": 11,
    "start_time": "2023-02-20T12:13:24.613Z"
   },
   {
    "duration": 7,
    "start_time": "2023-02-20T12:13:26.584Z"
   },
   {
    "duration": 1254,
    "start_time": "2023-02-20T12:13:28.079Z"
   },
   {
    "duration": 4,
    "start_time": "2023-02-20T12:14:00.869Z"
   },
   {
    "duration": 10,
    "start_time": "2023-02-20T12:17:19.323Z"
   },
   {
    "duration": 8,
    "start_time": "2023-02-20T12:17:32.323Z"
   },
   {
    "duration": 6,
    "start_time": "2023-02-20T12:17:40.768Z"
   },
   {
    "duration": 11,
    "start_time": "2023-02-20T12:18:16.337Z"
   },
   {
    "duration": 6,
    "start_time": "2023-02-20T12:18:37.426Z"
   },
   {
    "duration": 7,
    "start_time": "2023-02-20T12:19:01.661Z"
   },
   {
    "duration": 10,
    "start_time": "2023-02-20T12:23:03.828Z"
   },
   {
    "duration": 7,
    "start_time": "2023-02-20T12:25:29.371Z"
   },
   {
    "duration": 10,
    "start_time": "2023-02-20T12:26:59.279Z"
   },
   {
    "duration": 12,
    "start_time": "2023-02-20T12:30:53.423Z"
   },
   {
    "duration": 8,
    "start_time": "2023-02-20T12:31:00.217Z"
   },
   {
    "duration": 12,
    "start_time": "2023-02-20T12:38:34.495Z"
   },
   {
    "duration": 13,
    "start_time": "2023-02-20T12:38:59.999Z"
   },
   {
    "duration": 12,
    "start_time": "2023-02-20T12:39:27.631Z"
   },
   {
    "duration": 4,
    "start_time": "2023-02-20T12:52:03.020Z"
   },
   {
    "duration": 4,
    "start_time": "2023-02-20T12:56:41.788Z"
   },
   {
    "duration": 3,
    "start_time": "2023-02-20T12:57:16.913Z"
   },
   {
    "duration": 75,
    "start_time": "2023-02-20T12:57:50.910Z"
   },
   {
    "duration": 73,
    "start_time": "2023-02-20T13:04:16.272Z"
   },
   {
    "duration": 7,
    "start_time": "2023-02-20T13:09:03.467Z"
   },
   {
    "duration": 6,
    "start_time": "2023-02-20T13:15:30.509Z"
   },
   {
    "duration": 5,
    "start_time": "2023-02-20T13:15:40.123Z"
   },
   {
    "duration": 6,
    "start_time": "2023-02-20T13:16:04.997Z"
   },
   {
    "duration": 11,
    "start_time": "2023-02-20T13:21:37.626Z"
   },
   {
    "duration": 14,
    "start_time": "2023-02-20T13:22:03.666Z"
   },
   {
    "duration": 18,
    "start_time": "2023-02-20T13:22:24.765Z"
   },
   {
    "duration": 29,
    "start_time": "2023-02-20T13:22:40.080Z"
   },
   {
    "duration": 15,
    "start_time": "2023-02-20T13:23:29.069Z"
   },
   {
    "duration": 16,
    "start_time": "2023-02-20T13:23:55.665Z"
   },
   {
    "duration": 15,
    "start_time": "2023-02-20T13:37:15.682Z"
   },
   {
    "duration": 89,
    "start_time": "2023-02-20T13:47:05.616Z"
   },
   {
    "duration": 20,
    "start_time": "2023-02-20T13:50:46.050Z"
   },
   {
    "duration": 75,
    "start_time": "2023-02-20T13:50:57.504Z"
   },
   {
    "duration": 8,
    "start_time": "2023-02-20T13:50:58.484Z"
   },
   {
    "duration": 10,
    "start_time": "2023-02-20T13:50:58.815Z"
   },
   {
    "duration": 11,
    "start_time": "2023-02-20T13:50:59.163Z"
   },
   {
    "duration": 18,
    "start_time": "2023-02-20T13:50:59.509Z"
   },
   {
    "duration": 11,
    "start_time": "2023-02-20T13:50:59.869Z"
   },
   {
    "duration": 10,
    "start_time": "2023-02-20T13:51:00.193Z"
   },
   {
    "duration": 17,
    "start_time": "2023-02-20T13:51:00.831Z"
   },
   {
    "duration": 13,
    "start_time": "2023-02-20T13:51:01.205Z"
   },
   {
    "duration": 5,
    "start_time": "2023-02-20T13:51:01.543Z"
   },
   {
    "duration": 10,
    "start_time": "2023-02-20T13:51:02.213Z"
   },
   {
    "duration": 16,
    "start_time": "2023-02-20T13:51:02.534Z"
   },
   {
    "duration": 4,
    "start_time": "2023-02-20T13:51:03.212Z"
   },
   {
    "duration": 3,
    "start_time": "2023-02-20T13:51:03.935Z"
   },
   {
    "duration": 23,
    "start_time": "2023-02-20T13:51:12.543Z"
   },
   {
    "duration": 13,
    "start_time": "2023-02-20T13:51:13.757Z"
   },
   {
    "duration": 325,
    "start_time": "2023-02-20T13:51:17.994Z"
   },
   {
    "duration": 261,
    "start_time": "2023-02-20T13:51:19.070Z"
   },
   {
    "duration": 205,
    "start_time": "2023-02-20T13:51:33.766Z"
   },
   {
    "duration": 196,
    "start_time": "2023-02-20T13:51:43.641Z"
   },
   {
    "duration": 211,
    "start_time": "2023-02-20T13:51:55.473Z"
   },
   {
    "duration": 173,
    "start_time": "2023-02-20T14:00:39.343Z"
   },
   {
    "duration": 177,
    "start_time": "2023-02-20T14:00:55.063Z"
   },
   {
    "duration": 244,
    "start_time": "2023-02-20T14:01:50.137Z"
   },
   {
    "duration": 194,
    "start_time": "2023-02-20T14:02:30.103Z"
   },
   {
    "duration": 342,
    "start_time": "2023-02-20T14:10:58.618Z"
   },
   {
    "duration": 196,
    "start_time": "2023-02-20T14:11:58.997Z"
   },
   {
    "duration": 361,
    "start_time": "2023-02-20T14:12:46.916Z"
   },
   {
    "duration": 5,
    "start_time": "2023-02-20T14:15:14.151Z"
   },
   {
    "duration": 360,
    "start_time": "2023-02-20T14:15:25.023Z"
   },
   {
    "duration": 74,
    "start_time": "2023-02-20T14:27:03.339Z"
   },
   {
    "duration": 53,
    "start_time": "2023-02-20T14:28:26.164Z"
   },
   {
    "duration": 45,
    "start_time": "2023-02-20T14:28:28.368Z"
   },
   {
    "duration": 8,
    "start_time": "2023-02-20T14:28:31.668Z"
   },
   {
    "duration": 119,
    "start_time": "2023-02-20T14:28:34.286Z"
   },
   {
    "duration": 152,
    "start_time": "2023-02-20T14:28:44.584Z"
   },
   {
    "duration": 10,
    "start_time": "2023-02-20T14:30:05.143Z"
   },
   {
    "duration": 83,
    "start_time": "2023-02-20T14:31:26.605Z"
   },
   {
    "duration": 11,
    "start_time": "2023-02-20T14:31:40.945Z"
   },
   {
    "duration": 8,
    "start_time": "2023-02-20T14:32:22.338Z"
   },
   {
    "duration": 27,
    "start_time": "2023-02-20T14:32:25.681Z"
   },
   {
    "duration": 18,
    "start_time": "2023-02-20T14:34:30.731Z"
   },
   {
    "duration": 1538,
    "start_time": "2023-02-20T16:40:56.959Z"
   },
   {
    "duration": 12,
    "start_time": "2023-02-20T16:40:58.500Z"
   },
   {
    "duration": 27,
    "start_time": "2023-02-20T16:40:58.514Z"
   },
   {
    "duration": 33,
    "start_time": "2023-02-20T16:40:58.543Z"
   },
   {
    "duration": 21,
    "start_time": "2023-02-20T16:40:58.579Z"
   },
   {
    "duration": 13,
    "start_time": "2023-02-20T16:40:58.602Z"
   },
   {
    "duration": 18,
    "start_time": "2023-02-20T16:40:58.617Z"
   },
   {
    "duration": 52,
    "start_time": "2023-02-20T16:40:58.639Z"
   },
   {
    "duration": 12,
    "start_time": "2023-02-20T16:40:58.693Z"
   },
   {
    "duration": 8,
    "start_time": "2023-02-20T16:40:58.706Z"
   },
   {
    "duration": 34,
    "start_time": "2023-02-20T16:40:58.716Z"
   },
   {
    "duration": 26,
    "start_time": "2023-02-20T16:40:58.754Z"
   },
   {
    "duration": 4,
    "start_time": "2023-02-20T16:40:58.782Z"
   },
   {
    "duration": 4,
    "start_time": "2023-02-20T16:40:58.789Z"
   },
   {
    "duration": 24,
    "start_time": "2023-02-20T16:40:58.794Z"
   },
   {
    "duration": 47,
    "start_time": "2023-02-20T16:40:58.820Z"
   },
   {
    "duration": 334,
    "start_time": "2023-02-20T16:40:58.868Z"
   },
   {
    "duration": 350,
    "start_time": "2023-02-20T16:40:59.204Z"
   },
   {
    "duration": 225,
    "start_time": "2023-02-20T16:40:59.555Z"
   },
   {
    "duration": 340,
    "start_time": "2023-02-20T16:40:59.782Z"
   },
   {
    "duration": 245,
    "start_time": "2023-02-20T16:41:00.124Z"
   },
   {
    "duration": 339,
    "start_time": "2023-02-20T16:41:00.372Z"
   },
   {
    "duration": 167,
    "start_time": "2023-02-20T16:41:00.713Z"
   },
   {
    "duration": 4,
    "start_time": "2023-02-20T16:41:00.882Z"
   },
   {
    "duration": 190,
    "start_time": "2023-02-20T16:41:00.887Z"
   },
   {
    "duration": 4,
    "start_time": "2023-02-20T16:41:01.079Z"
   },
   {
    "duration": 155,
    "start_time": "2023-02-20T16:41:01.084Z"
   },
   {
    "duration": 63,
    "start_time": "2023-02-20T16:41:01.241Z"
   },
   {
    "duration": 23,
    "start_time": "2023-02-20T16:41:01.306Z"
   },
   {
    "duration": 187,
    "start_time": "2023-02-20T16:41:01.331Z"
   },
   {
    "duration": 227,
    "start_time": "2023-02-20T16:41:01.522Z"
   },
   {
    "duration": 16,
    "start_time": "2023-02-20T16:41:01.755Z"
   },
   {
    "duration": 28,
    "start_time": "2023-02-20T16:41:01.773Z"
   },
   {
    "duration": 57,
    "start_time": "2023-02-20T16:41:01.804Z"
   },
   {
    "duration": 37,
    "start_time": "2023-02-20T16:41:01.863Z"
   }
  ],
  "kernelspec": {
   "display_name": "Python 3 (ipykernel)",
   "language": "python",
   "name": "python3"
  },
  "language_info": {
   "codemirror_mode": {
    "name": "ipython",
    "version": 3
   },
   "file_extension": ".py",
   "mimetype": "text/x-python",
   "name": "python",
   "nbconvert_exporter": "python",
   "pygments_lexer": "ipython3",
   "version": "3.9.12"
  },
  "toc": {
   "base_numbering": 1,
   "nav_menu": {},
   "number_sections": true,
   "sideBar": true,
   "skip_h1_title": true,
   "title_cell": "Table of Contents",
   "title_sidebar": "Contents",
   "toc_cell": false,
   "toc_position": {},
   "toc_section_display": true,
   "toc_window_display": false
  }
 },
 "nbformat": 4,
 "nbformat_minor": 2
}
