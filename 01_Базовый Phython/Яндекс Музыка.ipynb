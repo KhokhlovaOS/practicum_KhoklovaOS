{
 "cells": [
  {
   "cell_type": "markdown",
   "metadata": {
    "deletable": false,
    "editable": false,
    "id": "E0vqbgi9ay0H"
   },
   "source": [
    "# Яндекс Музыка"
   ]
  },
  {
   "cell_type": "markdown",
   "metadata": {
    "deletable": false,
    "editable": false,
    "id": "VUC88oWjTJw2"
   },
   "source": [
    "Сравнение Москвы и Петербурга окружено мифами. Например:\n",
    " * Москва — мегаполис, подчинённый жёсткому ритму рабочей недели;\n",
    " * Петербург — культурная столица, со своими вкусами.\n",
    "\n",
    "На данных Яндекс Музыки вы сравните поведение пользователей двух столиц.\n",
    "\n",
    "**Цель исследования** — проверьте три гипотезы:\n",
    "1. Активность пользователей зависит от дня недели. Причём в Москве и Петербурге это проявляется по-разному.\n",
    "2. В понедельник утром в Москве преобладают одни жанры, а в Петербурге — другие. Так же и вечером пятницы преобладают разные жанры — в зависимости от города. \n",
    "3. Москва и Петербург предпочитают разные жанры музыки. В Москве чаще слушают поп-музыку, в Петербурге — русский рэп.\n",
    "\n",
    "**Ход исследования**\n",
    "\n",
    "Данные о поведении пользователей вы получите из файла `yandex_music_project.csv`. О качестве данных ничего не известно. Поэтому перед проверкой гипотез понадобится обзор данных. \n",
    "\n",
    "Вы проверите данные на ошибки и оцените их влияние на исследование. Затем, на этапе предобработки вы поищете возможность исправить самые критичные ошибки данных.\n",
    " \n",
    "Таким образом, исследование пройдёт в три этапа:\n",
    " 1. Обзор данных.\n",
    " 2. Предобработка данных.\n",
    " 3. Проверка гипотез.\n",
    "\n"
   ]
  },
  {
   "cell_type": "markdown",
   "metadata": {
    "deletable": false,
    "editable": false,
    "id": "Ml1hmfXC_Zcs"
   },
   "source": [
    "## Обзор данных\n",
    "\n",
    "Составьте первое представление о данных Яндекс Музыки.\n",
    "\n",
    "\n"
   ]
  },
  {
   "cell_type": "markdown",
   "metadata": {
    "deletable": false,
    "editable": false,
    "id": "57eAOGIz_Zcs",
    "tags": [
     "start_task"
    ]
   },
   "source": [
    "**Задание 1**\n",
    "\n",
    "Основной инструмент аналитика — `pandas`. Импортируйте эту библиотеку."
   ]
  },
  {
   "cell_type": "code",
   "execution_count": 33,
   "metadata": {
    "deletable": false,
    "id": "AXN7PHPN_Zcs"
   },
   "outputs": [],
   "source": [
    "import pandas as pd # импорт библиотеки pandas"
   ]
  },
  {
   "cell_type": "markdown",
   "metadata": {
    "deletable": false,
    "editable": false,
    "id": "SG23P8tt_Zcs",
    "tags": [
     "start_task"
    ]
   },
   "source": [
    "**Задание 2**\n",
    "\n",
    "Прочитайте файл `yandex_music_project.csv` из папки `/datasets` и сохраните его в переменной `df`:"
   ]
  },
  {
   "cell_type": "code",
   "execution_count": 34,
   "metadata": {
    "deletable": false,
    "id": "fFVu7vqh_Zct"
   },
   "outputs": [
    {
     "name": "stdout",
     "output_type": "stream",
     "text": [
      "         userID                              Track            artist  \\\n",
      "0      FFB692EC                  Kamigata To Boots  The Mass Missile   \n",
      "1      55204538        Delayed Because of Accident  Andreas Rönnberg   \n",
      "2        20EC38                  Funiculì funiculà       Mario Lanza   \n",
      "3      A3DD03C9              Dragons in the Sunset        Fire + Ice   \n",
      "4      E2DC1FAE                        Soul People        Space Echo   \n",
      "...         ...                                ...               ...   \n",
      "65074  729CBB09                            My Name            McLean   \n",
      "65075  D08D4A55  Maybe One Day (feat. Black Spade)       Blu & Exile   \n",
      "65076  C5E3A0D5                          Jalopiina               NaN   \n",
      "65077  321D0506                      Freight Train     Chas McDevitt   \n",
      "65078  3A64EF84          Tell Me Sweet Little Lies      Monica Lopez   \n",
      "\n",
      "            genre            City        time        Day  \n",
      "0            rock  Saint-Petersburg  20:28:33  Wednesday  \n",
      "1            rock            Moscow  14:07:09     Friday  \n",
      "2             pop  Saint-Petersburg  20:58:07  Wednesday  \n",
      "3            folk  Saint-Petersburg  08:37:09     Monday  \n",
      "4           dance            Moscow  08:34:34     Monday  \n",
      "...           ...               ...       ...        ...  \n",
      "65074         rnb            Moscow  13:32:28  Wednesday  \n",
      "65075         hip  Saint-Petersburg  10:00:00     Monday  \n",
      "65076  industrial            Moscow  20:09:26     Friday  \n",
      "65077        rock            Moscow  21:43:59     Friday  \n",
      "65078     country            Moscow  21:59:46     Friday  \n",
      "\n",
      "[65079 rows x 7 columns]\n"
     ]
    }
   ],
   "source": [
    "df = pd.read_csv('/datasets/yandex_music_project.csv')\n",
    "print(df) # чтение файла с данными и сохранение в df"
   ]
  },
  {
   "cell_type": "markdown",
   "metadata": {
    "deletable": false,
    "editable": false,
    "id": "rDoOMd3uTqnZ",
    "tags": [
     "start_task"
    ]
   },
   "source": [
    "**Задание 3**\n",
    "\n",
    "\n",
    "Выведите на экран первые десять строк таблицы:"
   ]
  },
  {
   "cell_type": "code",
   "execution_count": 35,
   "metadata": {
    "deletable": false,
    "id": "oWTVX3gW_Zct"
   },
   "outputs": [
    {
     "name": "stdout",
     "output_type": "stream",
     "text": [
      "     userID                        Track            artist   genre  \\\n",
      "0  FFB692EC            Kamigata To Boots  The Mass Missile    rock   \n",
      "1  55204538  Delayed Because of Accident  Andreas Rönnberg    rock   \n",
      "2    20EC38            Funiculì funiculà       Mario Lanza     pop   \n",
      "3  A3DD03C9        Dragons in the Sunset        Fire + Ice    folk   \n",
      "4  E2DC1FAE                  Soul People        Space Echo   dance   \n",
      "5  842029A1                    Преданная         IMPERVTOR  rusrap   \n",
      "6  4CB90AA5                         True      Roman Messer   dance   \n",
      "7  F03E1C1F             Feeling This Way   Polina Griffith   dance   \n",
      "8  8FA1D3BE     И вновь продолжается бой               NaN  ruspop   \n",
      "9  E772D5C0                    Pessimist               NaN   dance   \n",
      "\n",
      "             City        time        Day  \n",
      "0  Saint-Petersburg  20:28:33  Wednesday  \n",
      "1            Moscow  14:07:09     Friday  \n",
      "2  Saint-Petersburg  20:58:07  Wednesday  \n",
      "3  Saint-Petersburg  08:37:09     Monday  \n",
      "4            Moscow  08:34:34     Monday  \n",
      "5  Saint-Petersburg  13:09:41     Friday  \n",
      "6            Moscow  13:00:07  Wednesday  \n",
      "7            Moscow  20:47:49  Wednesday  \n",
      "8            Moscow  09:17:40     Friday  \n",
      "9  Saint-Petersburg  21:20:49  Wednesday  \n"
     ]
    }
   ],
   "source": [
    "print(df.head(10)) # получение первых 10 строк таблицы df"
   ]
  },
  {
   "cell_type": "markdown",
   "metadata": {
    "deletable": false,
    "editable": false,
    "id": "EO73Kwic_Zct",
    "tags": [
     "start_task"
    ]
   },
   "source": [
    "**Задание 4**\n",
    "\n",
    "\n",
    "Одной командой получить общую информацию о таблице c помощью метода `info()`:"
   ]
  },
  {
   "cell_type": "code",
   "execution_count": 36,
   "metadata": {
    "deletable": false,
    "id": "DSf2kIb-_Zct"
   },
   "outputs": [
    {
     "name": "stdout",
     "output_type": "stream",
     "text": [
      "<class 'pandas.core.frame.DataFrame'>\n",
      "RangeIndex: 65079 entries, 0 to 65078\n",
      "Data columns (total 7 columns):\n",
      " #   Column    Non-Null Count  Dtype \n",
      "---  ------    --------------  ----- \n",
      " 0     userID  65079 non-null  object\n",
      " 1   Track     63848 non-null  object\n",
      " 2   artist    57876 non-null  object\n",
      " 3   genre     63881 non-null  object\n",
      " 4     City    65079 non-null  object\n",
      " 5   time      65079 non-null  object\n",
      " 6   Day       65079 non-null  object\n",
      "dtypes: object(7)\n",
      "memory usage: 3.5+ MB\n"
     ]
    }
   ],
   "source": [
    "df.info() # получение общей информации о данных в таблице df"
   ]
  },
  {
   "cell_type": "markdown",
   "metadata": {
    "deletable": false,
    "editable": false,
    "id": "TaQ2Iwbr_Zct"
   },
   "source": [
    "Итак, в таблице семь столбцов. Тип данных во всех столбцах — `object`.\n",
    "\n",
    "Согласно документации к данным:\n",
    "* `userID` — идентификатор пользователя;\n",
    "* `Track` — название трека;  \n",
    "* `artist` — имя исполнителя;\n",
    "* `genre` — название жанра;\n",
    "* `City` — город пользователя;\n",
    "* `time` — время начала прослушивания;\n",
    "* `Day` — день недели.\n",
    "\n",
    "Количество значений в столбцах различается. Значит, в данных есть пропущенные значения."
   ]
  },
  {
   "cell_type": "markdown",
   "metadata": {
    "deletable": false,
    "editable": false,
    "id": "rAfziTBDmf2h",
    "tags": [
     "start_task"
    ]
   },
   "source": [
    "**Задание 5**\n",
    "\n",
    "**Вопрос со свободной формой ответа**\n",
    "\n",
    "В названиях колонок видны нарушения стиля:\n",
    "* Строчные буквы сочетаются с прописными.\n",
    "* Встречаются пробелы.\n",
    "\n",
    "Какое третье нарушение?"
   ]
  },
  {
   "cell_type": "code",
   "execution_count": 37,
   "metadata": {
    "id": "jD8EXEIvmf2h"
   },
   "outputs": [],
   "source": [
    "# Напишите ваш ответ здесь комментарием. Не удаляйте символ #. Не меняйте тип этой ячейки на Markdown. В переменной user_id не используется нижнее подчеркивание сежду словами."
   ]
  },
  {
   "cell_type": "markdown",
   "metadata": {
    "deletable": false,
    "editable": false,
    "id": "MCB6-dXG_Zct"
   },
   "source": [
    "**Выводы**\n",
    "\n",
    "В каждой строке таблицы — данные о прослушанном треке. Часть колонок описывает саму композицию: название, исполнителя и жанр. Остальные данные рассказывают о пользователе: из какого он города, когда он слушал музыку. \n",
    "\n",
    "Предварительно можно утверждать, что данных достаточно для проверки гипотез. Но встречаются пропуски в данных, а в названиях колонок — расхождения с хорошим стилем.\n",
    "\n",
    "Чтобы двигаться дальше, нужно устранить проблемы в данных."
   ]
  },
  {
   "cell_type": "markdown",
   "metadata": {
    "deletable": false,
    "editable": false,
    "id": "SjYF6Ub9_Zct"
   },
   "source": [
    "## Предобработка данных\n",
    "Исправьте стиль в заголовках столбцов, исключите пропуски. Затем проверьте данные на дубликаты."
   ]
  },
  {
   "cell_type": "markdown",
   "metadata": {
    "deletable": false,
    "editable": false,
    "id": "dIaKXr29_Zct",
    "tags": [
     "start_task"
    ]
   },
   "source": [
    "### Стиль заголовков\n",
    "\n",
    "**Задание 6**\n",
    "\n",
    "Выведите на экран названия столбцов:"
   ]
  },
  {
   "cell_type": "code",
   "execution_count": 38,
   "metadata": {
    "deletable": false,
    "id": "oKOTdF_Q_Zct"
   },
   "outputs": [
    {
     "name": "stdout",
     "output_type": "stream",
     "text": [
      "Index(['  userID', 'Track', 'artist', 'genre', '  City  ', 'time', 'Day'], dtype='object')\n"
     ]
    }
   ],
   "source": [
    "print(df.columns)# перечень названий столбцов таблицы df"
   ]
  },
  {
   "cell_type": "markdown",
   "metadata": {
    "deletable": false,
    "editable": false,
    "id": "zj5534cv_Zct",
    "tags": [
     "start_task"
    ]
   },
   "source": [
    "**Задание 7**\n",
    "\n",
    "\n",
    "Приведите названия в соответствие с хорошим стилем:\n",
    "* несколько слов в названии запишите в «змеином_регистре»,\n",
    "* все символы сделайте строчными,\n",
    "* устраните пробелы.\n",
    "\n",
    "Для этого переименуйте колонки так:\n",
    "* `'  userID'` → `'user_id'`;\n",
    "* `'Track'` → `'track'`;\n",
    "* `'  City  '` → `'city'`;\n",
    "* `'Day'` → `'day'`."
   ]
  },
  {
   "cell_type": "code",
   "execution_count": 39,
   "metadata": {
    "deletable": false,
    "id": "ISlFqs5y_Zct"
   },
   "outputs": [],
   "source": [
    "df = df.rename(columns= {'  userID': 'user_id', 'Track': 'track', '  City  ': 'city', 'Day': 'day'})\n",
    "\n",
    "    # переименование столбцов"
   ]
  },
  {
   "cell_type": "markdown",
   "metadata": {
    "deletable": false,
    "editable": false,
    "id": "1dqbh00J_Zct",
    "tags": [
     "start_task"
    ]
   },
   "source": [
    "**Задание 8**\n",
    "\n",
    "\n",
    "Проверьте результат. Для этого ещё раз выведите на экран названия столбцов:"
   ]
  },
  {
   "cell_type": "code",
   "execution_count": 40,
   "metadata": {
    "deletable": false,
    "id": "d4NOAmTW_Zct"
   },
   "outputs": [
    {
     "name": "stdout",
     "output_type": "stream",
     "text": [
      "Index(['user_id', 'track', 'artist', 'genre', 'city', 'time', 'day'], dtype='object')\n"
     ]
    }
   ],
   "source": [
    "print(df.columns) # проверка результатов - перечень названий столбцов"
   ]
  },
  {
   "cell_type": "markdown",
   "metadata": {
    "deletable": false,
    "editable": false,
    "id": "5ISfbcfY_Zct",
    "tags": [
     "start_task"
    ]
   },
   "source": [
    "### Пропуски значений\n",
    "\n",
    "**Задание 9**\n",
    "\n",
    "Сначала посчитайте, сколько в таблице пропущенных значений. Для этого достаточно двух методов `pandas`:"
   ]
  },
  {
   "cell_type": "code",
   "execution_count": 41,
   "metadata": {
    "deletable": false,
    "id": "RskX29qr_Zct"
   },
   "outputs": [
    {
     "data": {
      "text/plain": [
       "user_id       0\n",
       "track      1231\n",
       "artist     7203\n",
       "genre      1198\n",
       "city          0\n",
       "time          0\n",
       "day           0\n",
       "dtype: int64"
      ]
     },
     "execution_count": 41,
     "metadata": {},
     "output_type": "execute_result"
    }
   ],
   "source": [
    "df.isna().sum() # подсчёт пропусков"
   ]
  },
  {
   "cell_type": "markdown",
   "metadata": {
    "deletable": false,
    "editable": false,
    "id": "qubhgnlO_Zct"
   },
   "source": [
    "Не все пропущенные значения влияют на исследование. Так в `track` и `artist` пропуски не важны для вашей работы. Достаточно заменить их явными обозначениями.\n",
    "\n",
    "Но пропуски в `genre` могут помешать сравнению музыкальных вкусов в Москве и Санкт-Петербурге. На практике было бы правильно установить причину пропусков и восстановить данные. Такой возможности нет в учебном проекте. Придётся:\n",
    "* заполнить и эти пропуски явными обозначениями;\n",
    "* оценить, насколько они повредят расчётам. "
   ]
  },
  {
   "cell_type": "markdown",
   "metadata": {
    "deletable": false,
    "editable": false,
    "id": "fSv2laPA_Zct",
    "tags": [
     "start_task"
    ]
   },
   "source": [
    "**Задание 10**\n",
    "\n",
    "Замените пропущенные значения в столбцах `track`, `artist` и `genre` на строку `'unknown'`. Для этого создайте список `columns_to_replace`, переберите его элементы циклом `for` и для каждого столбца выполните замену пропущенных значений:"
   ]
  },
  {
   "cell_type": "code",
   "execution_count": 42,
   "metadata": {
    "deletable": false,
    "id": "KplB5qWs_Zct"
   },
   "outputs": [],
   "source": [
    "columns_to_replace = ['track','artist','genre']\n",
    "for index in columns_to_replace:\n",
    "    df[index] = df[index].fillna('unknown')\n",
    "# перебор названий столбцов в цикле и замена пропущенных значений на 'unknown'"
   ]
  },
  {
   "cell_type": "markdown",
   "metadata": {
    "deletable": false,
    "editable": false,
    "id": "Ilsm-MZo_Zct",
    "tags": [
     "start_task"
    ]
   },
   "source": [
    "**Задание 11**\n",
    "\n",
    "Убедитесь, что в таблице не осталось пропусков. Для этого ещё раз посчитайте пропущенные значения."
   ]
  },
  {
   "cell_type": "code",
   "execution_count": 43,
   "metadata": {
    "deletable": false,
    "id": "Tq4nYRX4_Zct"
   },
   "outputs": [
    {
     "data": {
      "text/plain": [
       "user_id    0\n",
       "track      0\n",
       "artist     0\n",
       "genre      0\n",
       "city       0\n",
       "time       0\n",
       "day        0\n",
       "dtype: int64"
      ]
     },
     "execution_count": 43,
     "metadata": {},
     "output_type": "execute_result"
    }
   ],
   "source": [
    "df.isna().sum() # подсчёт пропусков"
   ]
  },
  {
   "cell_type": "markdown",
   "metadata": {
    "deletable": false,
    "editable": false,
    "id": "BWKRtBJ3_Zct",
    "tags": [
     "start_task"
    ]
   },
   "source": [
    "### Дубликаты\n",
    "\n",
    "**Задание 12**\n",
    "\n",
    "Посчитайте явные дубликаты в таблице одной командой:"
   ]
  },
  {
   "cell_type": "code",
   "execution_count": 44,
   "metadata": {
    "deletable": false,
    "id": "36eES_S0_Zct"
   },
   "outputs": [
    {
     "data": {
      "text/plain": [
       "3826"
      ]
     },
     "execution_count": 44,
     "metadata": {},
     "output_type": "execute_result"
    }
   ],
   "source": [
    "df.duplicated().sum() # подсчёт явных дубликатов"
   ]
  },
  {
   "cell_type": "markdown",
   "metadata": {
    "deletable": false,
    "editable": false,
    "id": "Ot25h6XR_Zct",
    "tags": [
     "start_task"
    ]
   },
   "source": [
    "**Задание 13**\n",
    "\n",
    "Вызовите специальный метод `pandas`, чтобы удалить явные дубликаты:"
   ]
  },
  {
   "cell_type": "code",
   "execution_count": 45,
   "metadata": {
    "deletable": false,
    "id": "exFHq6tt_Zct"
   },
   "outputs": [],
   "source": [
    "df = df.drop_duplicates() # удаление явных дубликатов"
   ]
  },
  {
   "cell_type": "markdown",
   "metadata": {
    "deletable": false,
    "editable": false,
    "id": "Im2YwBEG_Zct",
    "tags": [
     "start_task"
    ]
   },
   "source": [
    "**Задание 14**\n",
    "\n",
    "Ещё раз посчитайте явные дубликаты в таблице — убедитесь, что полностью от них избавились:"
   ]
  },
  {
   "cell_type": "code",
   "execution_count": 46,
   "metadata": {
    "deletable": false,
    "id": "-8PuNWQ0_Zct"
   },
   "outputs": [
    {
     "data": {
      "text/plain": [
       "0"
      ]
     },
     "execution_count": 46,
     "metadata": {},
     "output_type": "execute_result"
    }
   ],
   "source": [
    "df.duplicated().sum() # проверка на отсутствие дубликатов"
   ]
  },
  {
   "cell_type": "markdown",
   "metadata": {
    "deletable": false,
    "editable": false,
    "id": "QlFBsxAr_Zct"
   },
   "source": [
    "Теперь избавьтесь от неявных дубликатов в колонке `genre`. Например, название одного и того же жанра может быть записано немного по-разному. Такие ошибки тоже повлияют на результат исследования."
   ]
  },
  {
   "cell_type": "markdown",
   "metadata": {
    "deletable": false,
    "editable": false,
    "id": "eSjWwsOh_Zct",
    "tags": [
     "start_task"
    ]
   },
   "source": [
    "**Задание 15**\n",
    "\n",
    "Выведите на экран список уникальных названий жанров, отсортированный в алфавитном порядке. Для этого:\n",
    "1. извлеките нужный столбец датафрейма; \n",
    "2. примените к нему метод сортировки;\n",
    "3. для отсортированного столбца вызовите метод, который вернёт уникальные значения из столбца."
   ]
  },
  {
   "cell_type": "code",
   "execution_count": 47,
   "metadata": {
    "deletable": false,
    "id": "JIUcqzZN_Zct"
   },
   "outputs": [
    {
     "data": {
      "text/plain": [
       "array(['acid', 'acoustic', 'action', 'adult', 'africa', 'afrikaans',\n",
       "       'alternative', 'alternativepunk', 'ambient', 'americana',\n",
       "       'animated', 'anime', 'arabesk', 'arabic', 'arena',\n",
       "       'argentinetango', 'art', 'audiobook', 'author', 'avantgarde',\n",
       "       'axé', 'baile', 'balkan', 'beats', 'bigroom', 'black', 'bluegrass',\n",
       "       'blues', 'bollywood', 'bossa', 'brazilian', 'breakbeat', 'breaks',\n",
       "       'broadway', 'cantautori', 'cantopop', 'canzone', 'caribbean',\n",
       "       'caucasian', 'celtic', 'chamber', 'chanson', 'children', 'chill',\n",
       "       'chinese', 'choral', 'christian', 'christmas', 'classical',\n",
       "       'classicmetal', 'club', 'colombian', 'comedy', 'conjazz',\n",
       "       'contemporary', 'country', 'cuban', 'dance', 'dancehall',\n",
       "       'dancepop', 'dark', 'death', 'deep', 'deutschrock', 'deutschspr',\n",
       "       'dirty', 'disco', 'dnb', 'documentary', 'downbeat', 'downtempo',\n",
       "       'drum', 'dub', 'dubstep', 'eastern', 'easy', 'electronic',\n",
       "       'electropop', 'emo', 'entehno', 'epicmetal', 'estrada', 'ethnic',\n",
       "       'eurofolk', 'european', 'experimental', 'extrememetal', 'fado',\n",
       "       'fairytail', 'film', 'fitness', 'flamenco', 'folk', 'folklore',\n",
       "       'folkmetal', 'folkrock', 'folktronica', 'forró', 'frankreich',\n",
       "       'französisch', 'french', 'funk', 'future', 'gangsta', 'garage',\n",
       "       'german', 'ghazal', 'gitarre', 'glitch', 'gospel', 'gothic',\n",
       "       'grime', 'grunge', 'gypsy', 'handsup', \"hard'n'heavy\", 'hardcore',\n",
       "       'hardstyle', 'hardtechno', 'hip', 'hip-hop', 'hiphop',\n",
       "       'historisch', 'holiday', 'hop', 'horror', 'house', 'hymn', 'idm',\n",
       "       'independent', 'indian', 'indie', 'indipop', 'industrial',\n",
       "       'inspirational', 'instrumental', 'international', 'irish', 'jam',\n",
       "       'japanese', 'jazz', 'jewish', 'jpop', 'jungle', 'k-pop',\n",
       "       'karadeniz', 'karaoke', 'kayokyoku', 'korean', 'laiko', 'latin',\n",
       "       'latino', 'leftfield', 'local', 'lounge', 'loungeelectronic',\n",
       "       'lovers', 'malaysian', 'mandopop', 'marschmusik', 'meditative',\n",
       "       'mediterranean', 'melodic', 'metal', 'metalcore', 'mexican',\n",
       "       'middle', 'minimal', 'miscellaneous', 'modern', 'mood', 'mpb',\n",
       "       'muslim', 'native', 'neoklassik', 'neue', 'new', 'newage',\n",
       "       'newwave', 'nu', 'nujazz', 'numetal', 'oceania', 'old', 'opera',\n",
       "       'orchestral', 'other', 'piano', 'podcasts', 'pop', 'popdance',\n",
       "       'popelectronic', 'popeurodance', 'poprussian', 'post',\n",
       "       'posthardcore', 'postrock', 'power', 'progmetal', 'progressive',\n",
       "       'psychedelic', 'punjabi', 'punk', 'quebecois', 'ragga', 'ram',\n",
       "       'rancheras', 'rap', 'rave', 'reggae', 'reggaeton', 'regional',\n",
       "       'relax', 'religious', 'retro', 'rhythm', 'rnb', 'rnr', 'rock',\n",
       "       'rockabilly', 'rockalternative', 'rockindie', 'rockother',\n",
       "       'romance', 'roots', 'ruspop', 'rusrap', 'rusrock', 'russian',\n",
       "       'salsa', 'samba', 'scenic', 'schlager', 'self', 'sertanejo',\n",
       "       'shanson', 'shoegazing', 'showtunes', 'singer', 'ska', 'skarock',\n",
       "       'slow', 'smooth', 'soft', 'soul', 'soulful', 'sound', 'soundtrack',\n",
       "       'southern', 'specialty', 'speech', 'spiritual', 'sport',\n",
       "       'stonerrock', 'surf', 'swing', 'synthpop', 'synthrock',\n",
       "       'sängerportrait', 'tango', 'tanzorchester', 'taraftar', 'tatar',\n",
       "       'tech', 'techno', 'teen', 'thrash', 'top', 'traditional',\n",
       "       'tradjazz', 'trance', 'tribal', 'trip', 'triphop', 'tropical',\n",
       "       'türk', 'türkçe', 'ukrrock', 'unknown', 'urban', 'uzbek',\n",
       "       'variété', 'vi', 'videogame', 'vocal', 'western', 'world',\n",
       "       'worldbeat', 'ïîï', 'электроника'], dtype=object)"
      ]
     },
     "execution_count": 47,
     "metadata": {},
     "output_type": "execute_result"
    }
   ],
   "source": [
    "df['genre'].sort_values().unique()\n",
    "# Просмотр уникальных названий жанров"
   ]
  },
  {
   "cell_type": "markdown",
   "metadata": {
    "deletable": false,
    "editable": false,
    "id": "qej-Qmuo_Zct",
    "tags": [
     "start_task"
    ]
   },
   "source": [
    "**Задание 16**\n",
    "\n",
    "Просмотрите список и найдите неявные дубликаты названия `hiphop`. Это могут быть названия с ошибками или альтернативные названия того же жанра.\n",
    "\n",
    "Вы увидите следующие неявные дубликаты:\n",
    "* *hip*,\n",
    "* *hop*,\n",
    "* *hip-hop*.\n",
    "\n",
    "Чтобы очистить от них таблицу используйте метод `replace()` с двумя аргументами: списком строк-дубликатов (включащий *hip*, *hop* и *hip-hop*) и строкой с правильным значением. Вам нужно исправить колонку `genre` в таблице `df`: заменить каждое значение из списка дубликатов на верное. Вместо `hip`, `hop` и `hip-hop` в таблице должно быть значение `hiphop`:"
   ]
  },
  {
   "cell_type": "code",
   "execution_count": 48,
   "metadata": {
    "deletable": false,
    "id": "ErNDkmns_Zct"
   },
   "outputs": [],
   "source": [
    "df['genre'] = df['genre'].replace('hip', 'hiphop')\n",
    "df['genre'] = df['genre'].replace('hop', 'hiphop')\n",
    "df['genre'] = df['genre'].replace('hip-hop', 'hiphop')\n",
    "\n",
    "# Устранение неявных дубликатов"
   ]
  },
  {
   "cell_type": "markdown",
   "metadata": {
    "deletable": false,
    "editable": false,
    "id": "zQKF16_RG15m",
    "tags": [
     "start_task"
    ]
   },
   "source": [
    "**Задание 17**\n",
    "\n",
    "Проверьте, что заменили неправильные названия:\n",
    "\n",
    "*   hip,\n",
    "*   hop,\n",
    "*   hip-hop.\n",
    "\n",
    "Выведите отсортированный список уникальных значений столбца `genre`:"
   ]
  },
  {
   "cell_type": "code",
   "execution_count": 49,
   "metadata": {
    "deletable": false,
    "id": "wvixALnFG15m"
   },
   "outputs": [
    {
     "data": {
      "text/plain": [
       "array(['acid', 'acoustic', 'action', 'adult', 'africa', 'afrikaans',\n",
       "       'alternative', 'alternativepunk', 'ambient', 'americana',\n",
       "       'animated', 'anime', 'arabesk', 'arabic', 'arena',\n",
       "       'argentinetango', 'art', 'audiobook', 'author', 'avantgarde',\n",
       "       'axé', 'baile', 'balkan', 'beats', 'bigroom', 'black', 'bluegrass',\n",
       "       'blues', 'bollywood', 'bossa', 'brazilian', 'breakbeat', 'breaks',\n",
       "       'broadway', 'cantautori', 'cantopop', 'canzone', 'caribbean',\n",
       "       'caucasian', 'celtic', 'chamber', 'chanson', 'children', 'chill',\n",
       "       'chinese', 'choral', 'christian', 'christmas', 'classical',\n",
       "       'classicmetal', 'club', 'colombian', 'comedy', 'conjazz',\n",
       "       'contemporary', 'country', 'cuban', 'dance', 'dancehall',\n",
       "       'dancepop', 'dark', 'death', 'deep', 'deutschrock', 'deutschspr',\n",
       "       'dirty', 'disco', 'dnb', 'documentary', 'downbeat', 'downtempo',\n",
       "       'drum', 'dub', 'dubstep', 'eastern', 'easy', 'electronic',\n",
       "       'electropop', 'emo', 'entehno', 'epicmetal', 'estrada', 'ethnic',\n",
       "       'eurofolk', 'european', 'experimental', 'extrememetal', 'fado',\n",
       "       'fairytail', 'film', 'fitness', 'flamenco', 'folk', 'folklore',\n",
       "       'folkmetal', 'folkrock', 'folktronica', 'forró', 'frankreich',\n",
       "       'französisch', 'french', 'funk', 'future', 'gangsta', 'garage',\n",
       "       'german', 'ghazal', 'gitarre', 'glitch', 'gospel', 'gothic',\n",
       "       'grime', 'grunge', 'gypsy', 'handsup', \"hard'n'heavy\", 'hardcore',\n",
       "       'hardstyle', 'hardtechno', 'hiphop', 'historisch', 'holiday',\n",
       "       'horror', 'house', 'hymn', 'idm', 'independent', 'indian', 'indie',\n",
       "       'indipop', 'industrial', 'inspirational', 'instrumental',\n",
       "       'international', 'irish', 'jam', 'japanese', 'jazz', 'jewish',\n",
       "       'jpop', 'jungle', 'k-pop', 'karadeniz', 'karaoke', 'kayokyoku',\n",
       "       'korean', 'laiko', 'latin', 'latino', 'leftfield', 'local',\n",
       "       'lounge', 'loungeelectronic', 'lovers', 'malaysian', 'mandopop',\n",
       "       'marschmusik', 'meditative', 'mediterranean', 'melodic', 'metal',\n",
       "       'metalcore', 'mexican', 'middle', 'minimal', 'miscellaneous',\n",
       "       'modern', 'mood', 'mpb', 'muslim', 'native', 'neoklassik', 'neue',\n",
       "       'new', 'newage', 'newwave', 'nu', 'nujazz', 'numetal', 'oceania',\n",
       "       'old', 'opera', 'orchestral', 'other', 'piano', 'podcasts', 'pop',\n",
       "       'popdance', 'popelectronic', 'popeurodance', 'poprussian', 'post',\n",
       "       'posthardcore', 'postrock', 'power', 'progmetal', 'progressive',\n",
       "       'psychedelic', 'punjabi', 'punk', 'quebecois', 'ragga', 'ram',\n",
       "       'rancheras', 'rap', 'rave', 'reggae', 'reggaeton', 'regional',\n",
       "       'relax', 'religious', 'retro', 'rhythm', 'rnb', 'rnr', 'rock',\n",
       "       'rockabilly', 'rockalternative', 'rockindie', 'rockother',\n",
       "       'romance', 'roots', 'ruspop', 'rusrap', 'rusrock', 'russian',\n",
       "       'salsa', 'samba', 'scenic', 'schlager', 'self', 'sertanejo',\n",
       "       'shanson', 'shoegazing', 'showtunes', 'singer', 'ska', 'skarock',\n",
       "       'slow', 'smooth', 'soft', 'soul', 'soulful', 'sound', 'soundtrack',\n",
       "       'southern', 'specialty', 'speech', 'spiritual', 'sport',\n",
       "       'stonerrock', 'surf', 'swing', 'synthpop', 'synthrock',\n",
       "       'sängerportrait', 'tango', 'tanzorchester', 'taraftar', 'tatar',\n",
       "       'tech', 'techno', 'teen', 'thrash', 'top', 'traditional',\n",
       "       'tradjazz', 'trance', 'tribal', 'trip', 'triphop', 'tropical',\n",
       "       'türk', 'türkçe', 'ukrrock', 'unknown', 'urban', 'uzbek',\n",
       "       'variété', 'vi', 'videogame', 'vocal', 'western', 'world',\n",
       "       'worldbeat', 'ïîï', 'электроника'], dtype=object)"
      ]
     },
     "execution_count": 49,
     "metadata": {},
     "output_type": "execute_result"
    }
   ],
   "source": [
    "df['genre'].sort_values().unique() # Проверка на неявные дубликаты"
   ]
  },
  {
   "cell_type": "markdown",
   "metadata": {
    "deletable": false,
    "editable": false,
    "id": "jz6a9-7HQUDd"
   },
   "source": [
    "**Выводы**\n",
    "\n",
    "Предобработка обнаружила три проблемы в данных:\n",
    "\n",
    "- нарушения в стиле заголовков,\n",
    "- пропущенные значения,\n",
    "- дубликаты — явные и неявные.\n",
    "\n",
    "Вы исправили заголовки, чтобы упростить работу с таблицей. Без дубликатов исследование станет более точным.\n",
    "\n",
    "Пропущенные значения вы заменили на `'unknown'`. Ещё предстоит увидеть, не повредят ли исследованию пропуски в колонке `genre`.\n",
    "\n",
    "Теперь можно перейти к проверке гипотез. "
   ]
  },
  {
   "cell_type": "markdown",
   "metadata": {
    "deletable": false,
    "editable": false,
    "id": "WttZHXH0SqKk"
   },
   "source": [
    "## Проверка гипотез"
   ]
  },
  {
   "cell_type": "markdown",
   "metadata": {
    "deletable": false,
    "editable": false,
    "id": "Im936VVi_Zcu"
   },
   "source": [
    "### Сравнение поведения пользователей двух столиц"
   ]
  },
  {
   "cell_type": "markdown",
   "metadata": {
    "deletable": false,
    "editable": false,
    "id": "nwt_MuaL_Zcu"
   },
   "source": [
    "Первая гипотеза утверждает, что пользователи по-разному слушают музыку в Москве и Санкт-Петербурге. Проверьте это предположение по данным о трёх днях недели — понедельнике, среде и пятнице. Для этого:\n",
    "\n",
    "* Разделите пользователей Москвы и Санкт-Петербурга.\n",
    "* Сравните, сколько треков послушала каждая группа пользователей в понедельник, среду и пятницу.\n"
   ]
  },
  {
   "cell_type": "markdown",
   "metadata": {
    "deletable": false,
    "editable": false,
    "id": "8Dw_YMmT_Zcu",
    "tags": [
     "start_task"
    ]
   },
   "source": [
    "**Задание 18**\n",
    "\n",
    "Для тренировки сначала выполните каждый из расчётов по отдельности. \n",
    "\n",
    "Оцените активность пользователей в каждом городе. Сгруппируйте данные по городу и посчитайте прослушивания в каждой группе.\n",
    "\n"
   ]
  },
  {
   "cell_type": "code",
   "execution_count": 50,
   "metadata": {
    "deletable": false,
    "id": "0_Qs96oh_Zcu"
   },
   "outputs": [
    {
     "data": {
      "text/plain": [
       "city\n",
       "Moscow              42741\n",
       "Saint-Petersburg    18512\n",
       "Name: time, dtype: int64"
      ]
     },
     "execution_count": 50,
     "metadata": {},
     "output_type": "execute_result"
    }
   ],
   "source": [
    "df.groupby('city')['time'].count() # Подсчёт прослушиваний в каждом городе"
   ]
  },
  {
   "cell_type": "markdown",
   "metadata": {
    "deletable": false,
    "editable": false,
    "id": "dzli3w8o_Zcu",
    "tags": [
     "start_task"
    ]
   },
   "source": [
    "В Москве прослушиваний больше, чем в Петербурге. Из этого не следует, что московские пользователи чаще слушают музыку. Просто самих пользователей в Москве больше.\n",
    "\n",
    "**Задание 19**\n",
    "\n",
    "Теперь сгруппируйте данные по дню недели и посчитайте прослушивания в понедельник, среду и пятницу. Учтите, что в данных есть информация о прослушиваниях только за эти дни.\n"
   ]
  },
  {
   "cell_type": "code",
   "execution_count": 51,
   "metadata": {
    "deletable": false,
    "id": "uZMKjiJz_Zcu"
   },
   "outputs": [
    {
     "data": {
      "text/plain": [
       "day\n",
       "Friday       21840\n",
       "Monday       21354\n",
       "Wednesday    18059\n",
       "Name: time, dtype: int64"
      ]
     },
     "execution_count": 51,
     "metadata": {},
     "output_type": "execute_result"
    }
   ],
   "source": [
    "df.groupby('day')['time'].count()\n",
    "# Подсчёт прослушиваний в каждый из трёх дней"
   ]
  },
  {
   "cell_type": "markdown",
   "metadata": {
    "deletable": false,
    "editable": false,
    "id": "cC2tNrlL_Zcu"
   },
   "source": [
    "В среднем пользователи из двух городов менее активны по средам. Но картина может измениться, если рассмотреть каждый город в отдельности."
   ]
  },
  {
   "cell_type": "markdown",
   "metadata": {
    "deletable": false,
    "editable": false,
    "id": "POzs8bGa_Zcu",
    "tags": [
     "start_task"
    ]
   },
   "source": [
    "**Задание 20**\n",
    "\n",
    "\n",
    "Вы видели, как работает группировка по городу и по дням недели. Теперь напишите функцию, которая объединит два эти расчёта.\n",
    "\n",
    "Создайте функцию `number_tracks()`, которая посчитает прослушивания для заданного дня и города. Ей понадобятся два параметра:\n",
    "* день недели,\n",
    "* название города.\n",
    "\n",
    "В функции сохраните в переменную строки исходной таблицы, у которых значение:\n",
    "  * в колонке `day` равно параметру `day`,\n",
    "  * в колонке `city` равно параметру `city`.\n",
    "\n",
    "Для этого примените последовательную фильтрацию с логической индексацией (или сложные логические выражения в одну строку, если вы уже знакомы с ними).\n",
    "\n",
    "Затем посчитайте значения в столбце `user_id` получившейся таблицы. Результат сохраните в новую переменную. Верните эту переменную из функции."
   ]
  },
  {
   "cell_type": "code",
   "execution_count": 52,
   "metadata": {
    "deletable": false,
    "id": "Nz3GdQB1_Zcu"
   },
   "outputs": [],
   "source": [
    "def number_tracks(day, city):\n",
    "    track_list = df[df['day'] == day]\n",
    "    track_list = track_list[track_list['city'] == city]\n",
    "    track_list_count = track_list['user_id'].count()\n",
    "    return track_list_count\n",
    "\n",
    "           # <создание функции number_tracks()>\n",
    "# Объявляется функция с двумя параметрами: day, city.\n",
    "# В переменной track_list сохраняются те строки таблицы df, для которых \n",
    "# значение в столбце 'day' равно параметру day и одновременно значение\n",
    "# в столбце 'city' равно параметру city (используйте последовательную фильтрацию\n",
    "# с помощью логической индексации или сложные логические выражения в одну строку, если вы уже знакомы с ними).\n",
    "# В переменной track_list_count сохраняется число значений столбца 'user_id',\n",
    "# рассчитанное методом count() для таблицы track_list.\n",
    "# Функция возвращает число - значение track_list_count.\n",
    "\n",
    "# Функция для подсчёта прослушиваний для конкретного города и дня.\n",
    "# С помощью последовательной фильтрации с логической индексацией она \n",
    "# сначала получит из исходной таблицы строки с нужным днём,\n",
    "# затем из результата отфильтрует строки с нужным городом,\n",
    "# методом count() посчитает количество значений в колонке user_id. \n",
    "# Это количество функция вернёт в качестве результата"
   ]
  },
  {
   "cell_type": "markdown",
   "metadata": {
    "deletable": false,
    "editable": false,
    "id": "ytf7xFrFJQ2r",
    "tags": [
     "start_task"
    ]
   },
   "source": [
    "**Задание 21**\n",
    "\n",
    "Вызовите `number_tracks()` шесть раз, меняя значение параметров — так, чтобы получить данные для каждого города в каждый из трёх дней."
   ]
  },
  {
   "cell_type": "code",
   "execution_count": 53,
   "metadata": {
    "deletable": false,
    "id": "rJcRATNQ_Zcu"
   },
   "outputs": [
    {
     "name": "stdout",
     "output_type": "stream",
     "text": [
      "15740\n"
     ]
    }
   ],
   "source": [
    "print(number_tracks('Monday','Moscow'))# количество прослушиваний в Москве по понедельникам"
   ]
  },
  {
   "cell_type": "code",
   "execution_count": 54,
   "metadata": {
    "deletable": false,
    "id": "hq_ncZ5T_Zcu"
   },
   "outputs": [
    {
     "name": "stdout",
     "output_type": "stream",
     "text": [
      "5614\n"
     ]
    }
   ],
   "source": [
    "print(number_tracks('Monday','Saint-Petersburg')) # количество прослушиваний в Санкт-Петербурге по понедельникам"
   ]
  },
  {
   "cell_type": "code",
   "execution_count": 55,
   "metadata": {
    "deletable": false,
    "id": "_NTy2VPU_Zcu"
   },
   "outputs": [
    {
     "name": "stdout",
     "output_type": "stream",
     "text": [
      "11056\n"
     ]
    }
   ],
   "source": [
    "print(number_tracks('Wednesday','Moscow')) # количество прослушиваний в Москве по средам"
   ]
  },
  {
   "cell_type": "code",
   "execution_count": 56,
   "metadata": {
    "deletable": false,
    "id": "j2y3TAwo_Zcu"
   },
   "outputs": [
    {
     "name": "stdout",
     "output_type": "stream",
     "text": [
      "7003\n"
     ]
    }
   ],
   "source": [
    "print(number_tracks('Wednesday','Saint-Petersburg'))# количество прослушиваний в Санкт-Петербурге по средам"
   ]
  },
  {
   "cell_type": "code",
   "execution_count": 57,
   "metadata": {
    "deletable": false,
    "id": "vYDw5u_K_Zcu"
   },
   "outputs": [
    {
     "name": "stdout",
     "output_type": "stream",
     "text": [
      "15945\n"
     ]
    }
   ],
   "source": [
    "print(number_tracks('Friday','Moscow'))# количество прослушиваний в Москве по пятницам"
   ]
  },
  {
   "cell_type": "code",
   "execution_count": 58,
   "metadata": {
    "deletable": false,
    "id": "8_yzFtW3_Zcu"
   },
   "outputs": [
    {
     "name": "stdout",
     "output_type": "stream",
     "text": [
      "5895\n"
     ]
    }
   ],
   "source": [
    "print(number_tracks('Friday', 'Saint-Petersburg')) # количество прослушиваний в Санкт-Петербурге по пятницам"
   ]
  },
  {
   "cell_type": "markdown",
   "metadata": {
    "deletable": false,
    "editable": false,
    "id": "7QXffbO-_Zcu",
    "tags": [
     "start_task"
    ]
   },
   "source": [
    "**Задание 22**\n",
    "\n",
    "Создайте c помощью конструктора `pd.DataFrame` таблицу, где\n",
    "* названия колонок — `['city', 'monday', 'wednesday', 'friday']`;\n",
    "* данные — результаты, которые вы получили с помощью `number_tracks`."
   ]
  },
  {
   "cell_type": "code",
   "execution_count": 59,
   "metadata": {
    "deletable": false,
    "id": "APAcLpOr_Zcu"
   },
   "outputs": [
    {
     "name": "stdout",
     "output_type": "stream",
     "text": [
      "               city  monday  wednesday  friday\n",
      "0            Moscow   15740      11050   15945\n",
      "1  Saint-Petersburg    5614       7003    5895\n"
     ]
    }
   ],
   "source": [
    "table_data = pd.DataFrame(data=[['Moscow', 15740, 11050, 15945],['Saint-Petersburg', 5614, 7003, 5895]], columns = ['city','monday', 'wednesday', 'friday'])\n",
    "print(table_data)                        # Таблица с результатами"
   ]
  },
  {
   "cell_type": "markdown",
   "metadata": {
    "deletable": false,
    "editable": false,
    "id": "-EgPIHYu_Zcu"
   },
   "source": [
    "**Выводы**\n",
    "\n",
    "Данные показывают разницу поведения пользователей:\n",
    "\n",
    "- В Москве пик прослушиваний приходится на понедельник и пятницу, а в среду заметен спад.\n",
    "- В Петербурге, наоборот, больше слушают музыку по средам. Активность в понедельник и пятницу здесь почти в равной мере уступает среде.\n",
    "\n",
    "Значит, данные говорят в пользу первой гипотезы."
   ]
  },
  {
   "cell_type": "markdown",
   "metadata": {
    "deletable": false,
    "editable": false,
    "id": "atZAxtq4_Zcu"
   },
   "source": [
    "### Музыка в начале и в конце недели"
   ]
  },
  {
   "cell_type": "markdown",
   "metadata": {
    "deletable": false,
    "editable": false,
    "id": "eXrQqXFH_Zcu"
   },
   "source": [
    "Согласно второй гипотезе, утром в понедельник в Москве преобладают одни жанры, а в Петербурге — другие. Так же и вечером пятницы преобладают разные жанры — в зависимости от города."
   ]
  },
  {
   "cell_type": "markdown",
   "metadata": {
    "deletable": false,
    "editable": false,
    "id": "S8UcW6Hw_Zcu",
    "tags": [
     "start_task"
    ]
   },
   "source": [
    "**Задание 23**\n",
    "\n",
    "Сохраните таблицы с данными в две переменные:\n",
    "* по Москве — в `moscow_general`;\n",
    "* по Санкт-Петербургу — в `spb_general`."
   ]
  },
  {
   "cell_type": "code",
   "execution_count": 60,
   "metadata": {
    "deletable": false,
    "id": "qeaFfM_P_Zcu"
   },
   "outputs": [],
   "source": [
    "moscow_general = df[df['city'] == 'Moscow'] # получение таблицы moscow_general из тех строк таблицы df, \n",
    "# для которых значение в столбце 'city' равно 'Moscow'\n"
   ]
  },
  {
   "cell_type": "code",
   "execution_count": 61,
   "metadata": {
    "deletable": false,
    "id": "ORaVRKto_Zcu"
   },
   "outputs": [],
   "source": [
    "spb_general = df[df['city'] == 'Saint-Petersburg'] # получение таблицы spb_general из тех строк таблицы df,\n",
    "# для которых значение в столбце 'city' равно 'Saint-Petersburg'\n"
   ]
  },
  {
   "cell_type": "markdown",
   "metadata": {
    "deletable": false,
    "editable": false,
    "id": "MEJV-CX2_Zcu",
    "tags": [
     "start_task"
    ]
   },
   "source": [
    "**Задание 24**\n",
    "\n",
    "Создайте функцию `genre_weekday()` с четырьмя параметрами:\n",
    "* таблица (датафрейм) с данными,\n",
    "* день недели,\n",
    "* начальная временная метка в формате 'hh:mm', \n",
    "* последняя временная метка в формате 'hh:mm'.\n",
    "\n",
    "Функция должна вернуть информацию о топ-10 жанров тех треков, которые прослушивали в указанный день, в промежутке между двумя отметками времени."
   ]
  },
  {
   "cell_type": "code",
   "execution_count": 62,
   "metadata": {
    "deletable": false,
    "id": "laJT9BYl_Zcu"
   },
   "outputs": [],
   "source": [
    " # Объявление функции genre_weekday() с параметрами table, day, time1, time2,\n",
    "# которая возвращает информацию о самых популярных жанрах в указанный день в\n",
    "# заданное время:\n",
    "# 1) в переменную genre_df сохраняются те строки переданного датафрейма table, для\n",
    "#    которых одновременно:\n",
    "#    - значение в столбце day равно значению аргумента day\n",
    "#    - значение в столбце time больше значения аргумента time1\n",
    "#    - значение в столбце time меньше значения аргумента time2\n",
    "#    Используйте последовательную фильтрацию с помощью логической индексации.\n",
    "# 2) сгруппировать датафрейм genre_df по столбцу genre, взять один из его\n",
    "#    столбцов и посчитать методом count() количество записей для каждого из\n",
    "#    присутствующих жанров, получившийся Series записать в переменную\n",
    "#    genre_df_count\n",
    "# 3) отсортировать genre_df_count по убыванию встречаемости и сохранить\n",
    "#    в переменную genre_df_sorted\n",
    "# 4) вернуть Series из 10 первых значений genre_df_sorted, это будут топ-10\n",
    "#    популярных жанров (в указанный день, в заданное время)\n",
    "\n",
    "def genre_weekday(df, day, time1, time2):\n",
    "    # последовательная фильтрация\n",
    "    # оставляем в genre_df только те строки df, у которых день равен day\n",
    "    genre_df = df[df['day'] == day] # ваш код здесь\n",
    "    # оставляем в genre_df только те строки genre_df, у которых время меньше time2\n",
    "    genre_df = genre_df[genre_df['time'] < time2] # ваш код здесь\n",
    "    # оставляем в genre_df только те строки genre_df, у которых время больше time1\n",
    "    genre_df = genre_df[genre_df['time'] > time1] # ваш код здесь\n",
    "    # сгруппируем отфильтрованный датафрейм по столбцу с названиями жанров, возьмём столбец genre и посчитаем кол-во строк для каждого жанра методом count()\n",
    "    genre_df_grouped = genre_df.groupby('genre')['genre'].count() # ваш код здесь\n",
    "    # отсортируем результат по убыванию (чтобы в начале Series оказались самые популярные жанры)\n",
    "    genre_df_sorted = genre_df_grouped.sort_values(ascending=False) # ваш код здесь\n",
    "    # вернём Series с 10 самыми популярными жанрами в указанный отрезок времени заданного дня\n",
    "    return genre_df_sorted[:10]"
   ]
  },
  {
   "cell_type": "markdown",
   "metadata": {
    "deletable": false,
    "editable": false,
    "id": "la2s2_PF_Zcu",
    "tags": [
     "start_task"
    ]
   },
   "source": [
    "**Задание 25**\n",
    "\n",
    "\n",
    "Cравните результаты функции `genre_weekday()` для Москвы и Санкт-Петербурга в понедельник утром (с 7:00 до 11:00) и в пятницу вечером (с 17:00 до 23:00):"
   ]
  },
  {
   "cell_type": "code",
   "execution_count": 63,
   "metadata": {
    "deletable": false,
    "id": "yz7itPUQ_Zcu"
   },
   "outputs": [
    {
     "name": "stdout",
     "output_type": "stream",
     "text": [
      "genre\n",
      "pop            781\n",
      "dance          549\n",
      "electronic     480\n",
      "rock           474\n",
      "hiphop         286\n",
      "ruspop         186\n",
      "world          181\n",
      "rusrap         175\n",
      "alternative    164\n",
      "unknown        161\n",
      "Name: genre, dtype: int64\n"
     ]
    }
   ],
   "source": [
    "print(genre_weekday(moscow_general,'Monday','07:00', '11:00')) # вызов функции для утра понедельника в Москве (вместо df — таблица moscow_general)\n",
    "# объекты, хранящие время, являются строками и сравниваются как строки\n",
    "# пример вызова: genre_weekday(moscow_general, 'Monday', '07:00', '11:00')"
   ]
  },
  {
   "cell_type": "code",
   "execution_count": 64,
   "metadata": {
    "deletable": false,
    "id": "kwUcHPdy_Zcu"
   },
   "outputs": [
    {
     "name": "stdout",
     "output_type": "stream",
     "text": [
      "genre\n",
      "pop            218\n",
      "dance          182\n",
      "rock           162\n",
      "electronic     147\n",
      "hiphop          80\n",
      "ruspop          64\n",
      "alternative     58\n",
      "rusrap          55\n",
      "jazz            44\n",
      "classical       40\n",
      "Name: genre, dtype: int64\n"
     ]
    }
   ],
   "source": [
    "print(genre_weekday(spb_general, 'Monday', '07:00', '11:00'))# вызов функции для утра понедельника в Петербурге (вместо df — таблица spb_general)"
   ]
  },
  {
   "cell_type": "code",
   "execution_count": 65,
   "metadata": {
    "deletable": false,
    "id": "EzXVRE1o_Zcu"
   },
   "outputs": [
    {
     "name": "stdout",
     "output_type": "stream",
     "text": [
      "genre\n",
      "pop            713\n",
      "rock           517\n",
      "dance          495\n",
      "electronic     482\n",
      "hiphop         273\n",
      "world          208\n",
      "ruspop         170\n",
      "alternative    163\n",
      "classical      163\n",
      "rusrap         142\n",
      "Name: genre, dtype: int64\n"
     ]
    }
   ],
   "source": [
    "print(genre_weekday(moscow_general, 'Friday', '17:00', '23:00'))# вызов функции для вечера пятницы в Москве"
   ]
  },
  {
   "cell_type": "code",
   "execution_count": 66,
   "metadata": {
    "deletable": false,
    "id": "JZaEKu5v_Zcu"
   },
   "outputs": [
    {
     "name": "stdout",
     "output_type": "stream",
     "text": [
      "genre\n",
      "pop            256\n",
      "electronic     216\n",
      "rock           216\n",
      "dance          210\n",
      "hiphop          97\n",
      "alternative     63\n",
      "jazz            61\n",
      "classical       60\n",
      "rusrap          59\n",
      "world           54\n",
      "Name: genre, dtype: int64\n"
     ]
    }
   ],
   "source": [
    "print(genre_weekday(spb_general, 'Friday','17:00', '23:00')) # вызов функции для вечера пятницы в Петербурге"
   ]
  },
  {
   "cell_type": "markdown",
   "metadata": {
    "deletable": false,
    "editable": false,
    "id": "wrCe4MNX_Zcu"
   },
   "source": [
    "**Выводы**\n",
    "\n",
    "Если сравнить топ-10 жанров в понедельник утром, можно сделать такие выводы:\n",
    "\n",
    "1. В Москве и Петербурге слушают похожую музыку. Единственное отличие — в московский рейтинг вошёл жанр “world”, а в петербургский — джаз и классика.\n",
    "\n",
    "2. В Москве пропущенных значений оказалось так много, что значение `'unknown'` заняло десятое место среди самых популярных жанров. Значит, пропущенные значения занимают существенную долю в данных и угрожают достоверности исследования.\n",
    "\n",
    "Вечер пятницы не меняет эту картину. Некоторые жанры поднимаются немного выше, другие спускаются, но в целом топ-10 остаётся тем же самым.\n",
    "\n",
    "Таким образом, вторая гипотеза подтвердилась лишь частично:\n",
    "* Пользователи слушают похожую музыку в начале недели и в конце.\n",
    "* Разница между Москвой и Петербургом не слишком выражена. В Москве чаще слушают русскую популярную музыку, в Петербурге — джаз.\n",
    "\n",
    "Однако пропуски в данных ставят под сомнение этот результат. В Москве их так много, что рейтинг топ-10 мог бы выглядеть иначе, если бы не утерянные  данные о жанрах."
   ]
  },
  {
   "cell_type": "markdown",
   "metadata": {
    "deletable": false,
    "editable": false,
    "id": "JolODAqr_Zcu"
   },
   "source": [
    "### Жанровые предпочтения в Москве и Петербурге\n",
    "\n",
    "Гипотеза: Петербург — столица рэпа, музыку этого жанра там слушают чаще, чем в Москве.  А Москва — город контрастов, в котором, тем не менее, преобладает поп-музыка."
   ]
  },
  {
   "cell_type": "markdown",
   "metadata": {
    "deletable": false,
    "editable": false,
    "id": "DlegSvaT_Zcu",
    "tags": [
     "start_task"
    ]
   },
   "source": [
    "**Задание 26**\n",
    "\n",
    "Сгруппируйте таблицу `moscow_general` по жанру и посчитайте прослушивания треков каждого жанра методом `count()`. Затем отсортируйте результат в порядке убывания и сохраните его в таблице `moscow_genres`."
   ]
  },
  {
   "cell_type": "code",
   "execution_count": 67,
   "metadata": {
    "deletable": false,
    "id": "r19lIPke_Zcu"
   },
   "outputs": [],
   "source": [
    "moscow_genres = moscow_general.groupby('genre')['genre'] # одной строкой: группировка таблицы moscow_general по столбцу 'genre', \n",
    "moscow_genres = moscow_general.groupby('genre')['genre'].count()\n",
    "moscow_genres = moscow_general.groupby('genre')['genre'].count().sort_values(ascending=False)# подсчёт числа значений 'genre' в этой группировке методом count(), \n",
    "# сортировка получившегося Series в порядке убывания и сохранение в moscow_genres"
   ]
  },
  {
   "cell_type": "markdown",
   "metadata": {
    "deletable": false,
    "editable": false,
    "id": "6kMuomxTiIr8",
    "tags": [
     "start_task"
    ]
   },
   "source": [
    "**Задание 27**\n",
    "\n",
    "Выведите на экран первые десять строк `moscow_genres`:"
   ]
  },
  {
   "cell_type": "code",
   "execution_count": 68,
   "metadata": {
    "deletable": false,
    "id": "WhCSooF8_Zcv"
   },
   "outputs": [
    {
     "name": "stdout",
     "output_type": "stream",
     "text": [
      "genre\n",
      "pop            5892\n",
      "dance          4435\n",
      "rock           3965\n",
      "electronic     3786\n",
      "hiphop         2096\n",
      "classical      1616\n",
      "world          1432\n",
      "alternative    1379\n",
      "ruspop         1372\n",
      "rusrap         1161\n",
      "Name: genre, dtype: int64\n"
     ]
    }
   ],
   "source": [
    "print(moscow_genres.head(10)) # просмотр первых 10 строк moscow_genres"
   ]
  },
  {
   "cell_type": "markdown",
   "metadata": {
    "deletable": false,
    "editable": false,
    "id": "cnPG2vnN_Zcv",
    "tags": [
     "start_task"
    ]
   },
   "source": [
    "**Задание 28**\n",
    "\n",
    "\n",
    "Теперь повторите то же и для Петербурга.\n",
    "\n",
    "Сгруппируйте таблицу `spb_general` по жанру. Посчитайте прослушивания треков каждого жанра. Результат отсортируйте в порядке убывания и сохраните в таблице `spb_genres`:\n"
   ]
  },
  {
   "cell_type": "code",
   "execution_count": 69,
   "metadata": {
    "deletable": false,
    "id": "gluLIpE7_Zcv"
   },
   "outputs": [],
   "source": [
    "spb_genres = spb_general.groupby('genre')['genre'].count().sort_values(ascending=False)# одной строкой: группировка таблицы spb_general по столбцу 'genre', \n",
    "# подсчёт числа значений 'genre' в этой группировке методом count(), \n",
    "# сортировка получившегося Series в порядке убывания и сохранение в spb_genres"
   ]
  },
  {
   "cell_type": "markdown",
   "metadata": {
    "deletable": false,
    "editable": false,
    "id": "5Doha_ODgyQ8",
    "tags": [
     "start_task"
    ]
   },
   "source": [
    "**Задание 29**\n",
    "\n",
    "Выведите на экран первые десять строк `spb_genres`:"
   ]
  },
  {
   "cell_type": "code",
   "execution_count": 70,
   "metadata": {
    "deletable": false,
    "id": "uaGJHjVU_Zcv"
   },
   "outputs": [
    {
     "name": "stdout",
     "output_type": "stream",
     "text": [
      "genre\n",
      "pop            2431\n",
      "dance          1932\n",
      "rock           1879\n",
      "electronic     1736\n",
      "hiphop          960\n",
      "alternative     649\n",
      "classical       646\n",
      "rusrap          564\n",
      "ruspop          538\n",
      "world           515\n",
      "Name: genre, dtype: int64\n"
     ]
    }
   ],
   "source": [
    "print(spb_genres.head(10)) # просмотр первых 10 строк spb_genres"
   ]
  },
  {
   "cell_type": "markdown",
   "metadata": {
    "deletable": false,
    "editable": false,
    "id": "RY51YJYu_Zcv"
   },
   "source": [
    "**Выводы**"
   ]
  },
  {
   "cell_type": "markdown",
   "metadata": {
    "deletable": false,
    "editable": false,
    "id": "nVhnJEm__Zcv"
   },
   "source": [
    "Гипотеза частично подтвердилась:\n",
    "* Поп-музыка — самый популярный жанр в Москве, как и предполагала гипотеза. Более того, в топ-10 жанров встречается близкий жанр — русская популярная музыка.\n",
    "* Вопреки ожиданиям, рэп одинаково популярен в Москве и Петербурге. \n"
   ]
  },
  {
   "cell_type": "markdown",
   "metadata": {
    "deletable": false,
    "editable": false,
    "id": "ykKQ0N65_Zcv"
   },
   "source": [
    "## Итоги исследования"
   ]
  },
  {
   "cell_type": "markdown",
   "metadata": {
    "deletable": false,
    "editable": false,
    "id": "tjUwbHb3_Zcv"
   },
   "source": [
    "Вы проверили три гипотезы и установили:\n",
    "\n",
    "1. День недели по-разному влияет на активность пользователей в Москве и Петербурге. \n",
    "\n",
    "Первая гипотеза полностью подтвердилась.\n",
    "\n",
    "2. Музыкальные предпочтения не сильно меняются в течение недели — будь то Москва или Петербург. Небольшие различия заметны в начале недели, по понедельникам:\n",
    "* в Москве слушают музыку жанра “world”,\n",
    "* в Петербурге — джаз и классику.\n",
    "\n",
    "Таким образом, вторая гипотеза подтвердилась лишь отчасти. Этот результат мог оказаться иным, если бы не пропуски в данных.\n",
    "\n",
    "3. Во вкусах пользователей Москвы и Петербурга больше общего чем различий. Вопреки ожиданиям, предпочтения жанров в Петербурге напоминают московские.\n",
    "\n",
    "Третья гипотеза не подтвердилась. Если различия в предпочтениях и существуют, на основной массе пользователей они незаметны.\n",
    "\n",
    "**На практике исследования содержат проверки статистических гипотез.**\n",
    "Из данных одного сервиса не всегда можно сделать вывод о всех жителях города.\n",
    "Проверки статистических гипотез покажут, насколько они достоверны, исходя из имеющихся данных. \n",
    "С методами проверок гипотез вы ещё познакомитесь в следующих темах."
   ]
  }
 ],
 "metadata": {
  "ExecuteTimeLog": [
   {
    "duration": 458,
    "start_time": "2022-10-23T11:27:31.448Z"
   },
   {
    "duration": 2,
    "start_time": "2022-10-23T11:27:41.113Z"
   },
   {
    "duration": 2,
    "start_time": "2022-10-23T11:27:42.091Z"
   },
   {
    "duration": 70,
    "start_time": "2022-10-23T11:29:36.508Z"
   },
   {
    "duration": 100,
    "start_time": "2022-10-23T11:30:23.216Z"
   },
   {
    "duration": 47,
    "start_time": "2022-10-23T11:31:00.946Z"
   },
   {
    "duration": 468,
    "start_time": "2022-10-23T11:31:43.863Z"
   },
   {
    "duration": 176,
    "start_time": "2022-10-23T11:31:54.230Z"
   },
   {
    "duration": 7,
    "start_time": "2022-10-23T11:33:03.977Z"
   },
   {
    "duration": 6,
    "start_time": "2022-10-23T11:33:24.430Z"
   },
   {
    "duration": 29,
    "start_time": "2022-10-23T11:34:28.092Z"
   },
   {
    "duration": 463,
    "start_time": "2022-10-23T11:40:24.277Z"
   },
   {
    "duration": 3,
    "start_time": "2022-10-23T11:43:54.274Z"
   },
   {
    "duration": 9,
    "start_time": "2022-10-23T11:46:11.408Z"
   },
   {
    "duration": 4,
    "start_time": "2022-10-23T11:49:21.220Z"
   },
   {
    "duration": 69,
    "start_time": "2022-10-23T11:54:06.583Z"
   },
   {
    "duration": 13,
    "start_time": "2022-10-23T11:54:34.336Z"
   },
   {
    "duration": 12,
    "start_time": "2022-10-23T12:00:04.814Z"
   },
   {
    "duration": 4,
    "start_time": "2022-10-23T12:00:20.550Z"
   },
   {
    "duration": 27,
    "start_time": "2022-10-23T12:30:53.972Z"
   },
   {
    "duration": 81,
    "start_time": "2022-10-23T12:31:39.467Z"
   },
   {
    "duration": 24,
    "start_time": "2022-10-23T12:31:48.269Z"
   },
   {
    "duration": 27,
    "start_time": "2022-10-23T12:39:44.213Z"
   },
   {
    "duration": 17,
    "start_time": "2022-10-23T12:40:18.217Z"
   },
   {
    "duration": 15,
    "start_time": "2022-10-23T12:41:06.876Z"
   },
   {
    "duration": 32,
    "start_time": "2022-10-23T12:41:20.333Z"
   },
   {
    "duration": 2,
    "start_time": "2022-10-23T12:42:10.824Z"
   },
   {
    "duration": 175,
    "start_time": "2022-10-23T12:42:10.828Z"
   },
   {
    "duration": 7,
    "start_time": "2022-10-23T12:42:11.004Z"
   },
   {
    "duration": 37,
    "start_time": "2022-10-23T12:42:11.012Z"
   },
   {
    "duration": 2,
    "start_time": "2022-10-23T12:42:11.051Z"
   },
   {
    "duration": 5,
    "start_time": "2022-10-23T12:42:11.055Z"
   },
   {
    "duration": 10,
    "start_time": "2022-10-23T12:42:11.061Z"
   },
   {
    "duration": 3,
    "start_time": "2022-10-23T12:42:11.073Z"
   },
   {
    "duration": 51,
    "start_time": "2022-10-23T12:42:11.077Z"
   },
   {
    "duration": 32,
    "start_time": "2022-10-23T12:42:11.129Z"
   },
   {
    "duration": 0,
    "start_time": "2022-10-23T12:42:11.163Z"
   },
   {
    "duration": 0,
    "start_time": "2022-10-23T12:42:11.164Z"
   },
   {
    "duration": 0,
    "start_time": "2022-10-23T12:42:11.165Z"
   },
   {
    "duration": 0,
    "start_time": "2022-10-23T12:42:11.166Z"
   },
   {
    "duration": 0,
    "start_time": "2022-10-23T12:42:11.167Z"
   },
   {
    "duration": 0,
    "start_time": "2022-10-23T12:42:11.168Z"
   },
   {
    "duration": 0,
    "start_time": "2022-10-23T12:42:11.169Z"
   },
   {
    "duration": 0,
    "start_time": "2022-10-23T12:42:11.170Z"
   },
   {
    "duration": 0,
    "start_time": "2022-10-23T12:42:11.171Z"
   },
   {
    "duration": 0,
    "start_time": "2022-10-23T12:42:11.172Z"
   },
   {
    "duration": 0,
    "start_time": "2022-10-23T12:42:11.173Z"
   },
   {
    "duration": 0,
    "start_time": "2022-10-23T12:42:11.174Z"
   },
   {
    "duration": 0,
    "start_time": "2022-10-23T12:42:11.175Z"
   },
   {
    "duration": 0,
    "start_time": "2022-10-23T12:42:11.176Z"
   },
   {
    "duration": 0,
    "start_time": "2022-10-23T12:42:11.177Z"
   },
   {
    "duration": 0,
    "start_time": "2022-10-23T12:42:11.178Z"
   },
   {
    "duration": 0,
    "start_time": "2022-10-23T12:42:11.179Z"
   },
   {
    "duration": 0,
    "start_time": "2022-10-23T12:42:11.180Z"
   },
   {
    "duration": 0,
    "start_time": "2022-10-23T12:42:11.180Z"
   },
   {
    "duration": 0,
    "start_time": "2022-10-23T12:42:11.182Z"
   },
   {
    "duration": 0,
    "start_time": "2022-10-23T12:42:11.224Z"
   },
   {
    "duration": 0,
    "start_time": "2022-10-23T12:42:11.225Z"
   },
   {
    "duration": 0,
    "start_time": "2022-10-23T12:42:11.226Z"
   },
   {
    "duration": 0,
    "start_time": "2022-10-23T12:42:11.227Z"
   },
   {
    "duration": 0,
    "start_time": "2022-10-23T12:42:11.228Z"
   },
   {
    "duration": 0,
    "start_time": "2022-10-23T12:42:11.229Z"
   },
   {
    "duration": 0,
    "start_time": "2022-10-23T12:42:11.230Z"
   },
   {
    "duration": 0,
    "start_time": "2022-10-23T12:42:11.232Z"
   },
   {
    "duration": 1081,
    "start_time": "2022-10-23T12:43:06.460Z"
   },
   {
    "duration": 1194,
    "start_time": "2022-10-23T12:43:21.955Z"
   },
   {
    "duration": 26,
    "start_time": "2022-10-23T12:44:52.601Z"
   },
   {
    "duration": 26,
    "start_time": "2022-10-23T12:44:58.540Z"
   },
   {
    "duration": 9,
    "start_time": "2022-10-23T12:46:30.362Z"
   },
   {
    "duration": 25,
    "start_time": "2022-10-23T12:47:18.691Z"
   },
   {
    "duration": 1216,
    "start_time": "2022-10-23T12:48:27.394Z"
   },
   {
    "duration": 26,
    "start_time": "2022-10-23T12:48:39.204Z"
   },
   {
    "duration": 41,
    "start_time": "2022-10-23T17:03:05.499Z"
   },
   {
    "duration": 390,
    "start_time": "2022-10-23T17:03:48.020Z"
   },
   {
    "duration": 448,
    "start_time": "2022-10-23T17:03:48.412Z"
   },
   {
    "duration": 6,
    "start_time": "2022-10-23T17:03:48.862Z"
   },
   {
    "duration": 28,
    "start_time": "2022-10-23T17:03:48.870Z"
   },
   {
    "duration": 2,
    "start_time": "2022-10-23T17:03:48.899Z"
   },
   {
    "duration": 5,
    "start_time": "2022-10-23T17:03:48.903Z"
   },
   {
    "duration": 18,
    "start_time": "2022-10-23T17:03:48.910Z"
   },
   {
    "duration": 5,
    "start_time": "2022-10-23T17:03:48.930Z"
   },
   {
    "duration": 25,
    "start_time": "2022-10-23T17:03:48.937Z"
   },
   {
    "duration": 20,
    "start_time": "2022-10-23T17:03:48.966Z"
   },
   {
    "duration": 37,
    "start_time": "2022-10-23T17:03:48.988Z"
   },
   {
    "duration": 2,
    "start_time": "2022-10-23T17:03:49.026Z"
   },
   {
    "duration": 5,
    "start_time": "2022-10-23T17:03:49.030Z"
   },
   {
    "duration": 4,
    "start_time": "2022-10-23T17:03:49.036Z"
   },
   {
    "duration": 8,
    "start_time": "2022-10-23T17:03:49.041Z"
   },
   {
    "duration": 4,
    "start_time": "2022-10-23T17:03:49.050Z"
   },
   {
    "duration": 8,
    "start_time": "2022-10-23T17:03:49.056Z"
   },
   {
    "duration": 10,
    "start_time": "2022-10-23T17:03:49.065Z"
   },
   {
    "duration": 9,
    "start_time": "2022-10-23T17:03:49.076Z"
   },
   {
    "duration": 5,
    "start_time": "2022-10-23T17:03:49.086Z"
   },
   {
    "duration": 4,
    "start_time": "2022-10-23T17:03:49.092Z"
   },
   {
    "duration": 6,
    "start_time": "2022-10-23T17:03:49.098Z"
   },
   {
    "duration": 4,
    "start_time": "2022-10-23T17:03:49.105Z"
   },
   {
    "duration": 4,
    "start_time": "2022-10-23T17:03:49.111Z"
   },
   {
    "duration": 2,
    "start_time": "2022-10-23T17:03:49.122Z"
   },
   {
    "duration": 4,
    "start_time": "2022-10-23T17:03:49.125Z"
   },
   {
    "duration": 6,
    "start_time": "2022-10-23T17:03:49.130Z"
   },
   {
    "duration": 3,
    "start_time": "2022-10-23T17:03:49.138Z"
   },
   {
    "duration": 6,
    "start_time": "2022-10-23T17:03:49.142Z"
   },
   {
    "duration": 70,
    "start_time": "2022-10-23T17:03:49.150Z"
   },
   {
    "duration": 0,
    "start_time": "2022-10-23T17:03:49.221Z"
   },
   {
    "duration": 0,
    "start_time": "2022-10-23T17:03:49.223Z"
   },
   {
    "duration": 0,
    "start_time": "2022-10-23T17:03:49.224Z"
   },
   {
    "duration": 0,
    "start_time": "2022-10-23T17:03:49.225Z"
   },
   {
    "duration": 0,
    "start_time": "2022-10-23T17:03:49.226Z"
   },
   {
    "duration": 0,
    "start_time": "2022-10-23T17:03:49.227Z"
   },
   {
    "duration": 0,
    "start_time": "2022-10-23T17:03:49.228Z"
   },
   {
    "duration": 0,
    "start_time": "2022-10-23T17:03:49.229Z"
   },
   {
    "duration": 23,
    "start_time": "2022-10-23T17:04:09.409Z"
   },
   {
    "duration": 21,
    "start_time": "2022-10-23T17:05:18.929Z"
   },
   {
    "duration": 22,
    "start_time": "2022-10-23T17:05:36.699Z"
   },
   {
    "duration": 3,
    "start_time": "2022-10-23T17:09:12.507Z"
   },
   {
    "duration": 172,
    "start_time": "2022-10-23T17:09:12.512Z"
   },
   {
    "duration": 5,
    "start_time": "2022-10-23T17:09:12.685Z"
   },
   {
    "duration": 36,
    "start_time": "2022-10-23T17:09:12.692Z"
   },
   {
    "duration": 3,
    "start_time": "2022-10-23T17:09:12.730Z"
   },
   {
    "duration": 5,
    "start_time": "2022-10-23T17:09:12.735Z"
   },
   {
    "duration": 15,
    "start_time": "2022-10-23T17:09:12.742Z"
   },
   {
    "duration": 5,
    "start_time": "2022-10-23T17:09:12.758Z"
   },
   {
    "duration": 29,
    "start_time": "2022-10-23T17:09:12.765Z"
   },
   {
    "duration": 9,
    "start_time": "2022-10-23T17:09:17.840Z"
   },
   {
    "duration": 24,
    "start_time": "2022-10-23T17:09:57.107Z"
   },
   {
    "duration": 2,
    "start_time": "2022-10-23T17:11:16.989Z"
   },
   {
    "duration": 153,
    "start_time": "2022-10-23T17:11:16.993Z"
   },
   {
    "duration": 6,
    "start_time": "2022-10-23T17:11:17.147Z"
   },
   {
    "duration": 26,
    "start_time": "2022-10-23T17:11:17.154Z"
   },
   {
    "duration": 3,
    "start_time": "2022-10-23T17:11:17.181Z"
   },
   {
    "duration": 7,
    "start_time": "2022-10-23T17:11:17.185Z"
   },
   {
    "duration": 10,
    "start_time": "2022-10-23T17:11:17.194Z"
   },
   {
    "duration": 17,
    "start_time": "2022-10-23T17:11:17.205Z"
   },
   {
    "duration": 20,
    "start_time": "2022-10-23T17:11:17.224Z"
   },
   {
    "duration": 25,
    "start_time": "2022-10-23T17:11:17.246Z"
   },
   {
    "duration": 29,
    "start_time": "2022-10-23T17:11:17.272Z"
   },
   {
    "duration": 3,
    "start_time": "2022-10-23T17:11:17.302Z"
   },
   {
    "duration": 16,
    "start_time": "2022-10-23T17:11:17.306Z"
   },
   {
    "duration": 2,
    "start_time": "2022-10-23T17:11:17.324Z"
   },
   {
    "duration": 6,
    "start_time": "2022-10-23T17:11:17.328Z"
   },
   {
    "duration": 4,
    "start_time": "2022-10-23T17:11:17.336Z"
   },
   {
    "duration": 5,
    "start_time": "2022-10-23T17:11:17.342Z"
   },
   {
    "duration": 5,
    "start_time": "2022-10-23T17:11:17.348Z"
   },
   {
    "duration": 6,
    "start_time": "2022-10-23T17:11:17.355Z"
   },
   {
    "duration": 7,
    "start_time": "2022-10-23T17:11:17.362Z"
   },
   {
    "duration": 8,
    "start_time": "2022-10-23T17:11:17.371Z"
   },
   {
    "duration": 5,
    "start_time": "2022-10-23T17:11:17.380Z"
   },
   {
    "duration": 6,
    "start_time": "2022-10-23T17:11:17.386Z"
   },
   {
    "duration": 4,
    "start_time": "2022-10-23T17:11:17.395Z"
   },
   {
    "duration": 13,
    "start_time": "2022-10-23T17:11:17.400Z"
   },
   {
    "duration": 7,
    "start_time": "2022-10-23T17:11:17.414Z"
   },
   {
    "duration": 3,
    "start_time": "2022-10-23T17:11:17.423Z"
   },
   {
    "duration": 4,
    "start_time": "2022-10-23T17:11:17.428Z"
   },
   {
    "duration": 4,
    "start_time": "2022-10-23T17:11:17.434Z"
   },
   {
    "duration": 72,
    "start_time": "2022-10-23T17:11:17.440Z"
   },
   {
    "duration": 0,
    "start_time": "2022-10-23T17:11:17.513Z"
   },
   {
    "duration": 0,
    "start_time": "2022-10-23T17:11:17.514Z"
   },
   {
    "duration": 0,
    "start_time": "2022-10-23T17:11:17.515Z"
   },
   {
    "duration": 0,
    "start_time": "2022-10-23T17:11:17.516Z"
   },
   {
    "duration": 0,
    "start_time": "2022-10-23T17:11:17.517Z"
   },
   {
    "duration": 0,
    "start_time": "2022-10-23T17:11:17.518Z"
   },
   {
    "duration": 0,
    "start_time": "2022-10-23T17:11:17.519Z"
   },
   {
    "duration": 0,
    "start_time": "2022-10-23T17:11:17.520Z"
   },
   {
    "duration": 1279,
    "start_time": "2022-10-23T17:16:32.251Z"
   },
   {
    "duration": 22,
    "start_time": "2022-10-23T17:17:17.131Z"
   },
   {
    "duration": 21,
    "start_time": "2022-10-23T17:17:19.985Z"
   },
   {
    "duration": 24,
    "start_time": "2022-10-23T17:17:27.375Z"
   },
   {
    "duration": 21,
    "start_time": "2022-10-23T17:17:29.032Z"
   },
   {
    "duration": 73,
    "start_time": "2022-10-23T17:17:38.674Z"
   },
   {
    "duration": 20,
    "start_time": "2022-10-23T17:17:47.000Z"
   },
   {
    "duration": 45,
    "start_time": "2022-10-24T06:37:39.845Z"
   },
   {
    "duration": 342,
    "start_time": "2022-10-24T06:38:14.971Z"
   },
   {
    "duration": 455,
    "start_time": "2022-10-24T06:38:15.315Z"
   },
   {
    "duration": 5,
    "start_time": "2022-10-24T06:38:15.772Z"
   },
   {
    "duration": 26,
    "start_time": "2022-10-24T06:38:15.779Z"
   },
   {
    "duration": 2,
    "start_time": "2022-10-24T06:38:15.807Z"
   },
   {
    "duration": 5,
    "start_time": "2022-10-24T06:38:15.811Z"
   },
   {
    "duration": 14,
    "start_time": "2022-10-24T06:38:15.817Z"
   },
   {
    "duration": 3,
    "start_time": "2022-10-24T06:38:15.832Z"
   },
   {
    "duration": 26,
    "start_time": "2022-10-24T06:38:15.836Z"
   },
   {
    "duration": 48,
    "start_time": "2022-10-24T06:38:15.864Z"
   },
   {
    "duration": 20,
    "start_time": "2022-10-24T06:38:15.914Z"
   },
   {
    "duration": 2,
    "start_time": "2022-10-24T06:38:15.936Z"
   },
   {
    "duration": 4,
    "start_time": "2022-10-24T06:38:15.940Z"
   },
   {
    "duration": 3,
    "start_time": "2022-10-24T06:38:15.947Z"
   },
   {
    "duration": 5,
    "start_time": "2022-10-24T06:38:15.951Z"
   },
   {
    "duration": 5,
    "start_time": "2022-10-24T06:38:15.957Z"
   },
   {
    "duration": 6,
    "start_time": "2022-10-24T06:38:15.963Z"
   },
   {
    "duration": 4,
    "start_time": "2022-10-24T06:38:15.971Z"
   },
   {
    "duration": 5,
    "start_time": "2022-10-24T06:38:15.976Z"
   },
   {
    "duration": 2,
    "start_time": "2022-10-24T06:38:16.005Z"
   },
   {
    "duration": 5,
    "start_time": "2022-10-24T06:38:16.009Z"
   },
   {
    "duration": 7,
    "start_time": "2022-10-24T06:38:16.015Z"
   },
   {
    "duration": 5,
    "start_time": "2022-10-24T06:38:16.023Z"
   },
   {
    "duration": 4,
    "start_time": "2022-10-24T06:38:16.029Z"
   },
   {
    "duration": 5,
    "start_time": "2022-10-24T06:38:16.035Z"
   },
   {
    "duration": 4,
    "start_time": "2022-10-24T06:38:16.041Z"
   },
   {
    "duration": 4,
    "start_time": "2022-10-24T06:38:16.046Z"
   },
   {
    "duration": 5,
    "start_time": "2022-10-24T06:38:16.051Z"
   },
   {
    "duration": 4,
    "start_time": "2022-10-24T06:38:16.057Z"
   },
   {
    "duration": 66,
    "start_time": "2022-10-24T06:38:16.063Z"
   },
   {
    "duration": 0,
    "start_time": "2022-10-24T06:38:16.131Z"
   },
   {
    "duration": 0,
    "start_time": "2022-10-24T06:38:16.132Z"
   },
   {
    "duration": 0,
    "start_time": "2022-10-24T06:38:16.133Z"
   },
   {
    "duration": 0,
    "start_time": "2022-10-24T06:38:16.134Z"
   },
   {
    "duration": 0,
    "start_time": "2022-10-24T06:38:16.134Z"
   },
   {
    "duration": 0,
    "start_time": "2022-10-24T06:38:16.135Z"
   },
   {
    "duration": 0,
    "start_time": "2022-10-24T06:38:16.136Z"
   },
   {
    "duration": 0,
    "start_time": "2022-10-24T06:38:16.137Z"
   },
   {
    "duration": 22,
    "start_time": "2022-10-24T06:38:51.234Z"
   },
   {
    "duration": 2,
    "start_time": "2022-10-24T06:38:58.657Z"
   },
   {
    "duration": 201,
    "start_time": "2022-10-24T06:38:58.661Z"
   },
   {
    "duration": 6,
    "start_time": "2022-10-24T06:38:58.864Z"
   },
   {
    "duration": 39,
    "start_time": "2022-10-24T06:38:58.873Z"
   },
   {
    "duration": 20,
    "start_time": "2022-10-24T06:38:58.913Z"
   },
   {
    "duration": 15,
    "start_time": "2022-10-24T06:38:58.935Z"
   },
   {
    "duration": 32,
    "start_time": "2022-10-24T06:38:58.951Z"
   },
   {
    "duration": 16,
    "start_time": "2022-10-24T06:38:58.986Z"
   },
   {
    "duration": 26,
    "start_time": "2022-10-24T06:38:59.005Z"
   },
   {
    "duration": 38,
    "start_time": "2022-10-24T06:38:59.032Z"
   },
   {
    "duration": 46,
    "start_time": "2022-10-24T06:38:59.073Z"
   },
   {
    "duration": 16,
    "start_time": "2022-10-24T06:38:59.121Z"
   },
   {
    "duration": 14,
    "start_time": "2022-10-24T06:38:59.139Z"
   },
   {
    "duration": 15,
    "start_time": "2022-10-24T06:38:59.155Z"
   },
   {
    "duration": 17,
    "start_time": "2022-10-24T06:38:59.172Z"
   },
   {
    "duration": 15,
    "start_time": "2022-10-24T06:38:59.191Z"
   },
   {
    "duration": 24,
    "start_time": "2022-10-24T06:38:59.208Z"
   },
   {
    "duration": 9,
    "start_time": "2022-10-24T06:38:59.234Z"
   },
   {
    "duration": 16,
    "start_time": "2022-10-24T06:38:59.245Z"
   },
   {
    "duration": 6,
    "start_time": "2022-10-24T06:38:59.263Z"
   },
   {
    "duration": 10,
    "start_time": "2022-10-24T06:38:59.270Z"
   },
   {
    "duration": 19,
    "start_time": "2022-10-24T06:38:59.281Z"
   },
   {
    "duration": 18,
    "start_time": "2022-10-24T06:38:59.302Z"
   },
   {
    "duration": 35,
    "start_time": "2022-10-24T06:38:59.322Z"
   },
   {
    "duration": 19,
    "start_time": "2022-10-24T06:38:59.358Z"
   },
   {
    "duration": 21,
    "start_time": "2022-10-24T06:38:59.379Z"
   },
   {
    "duration": 19,
    "start_time": "2022-10-24T06:38:59.402Z"
   },
   {
    "duration": 12,
    "start_time": "2022-10-24T06:38:59.422Z"
   },
   {
    "duration": 17,
    "start_time": "2022-10-24T06:38:59.435Z"
   },
   {
    "duration": 66,
    "start_time": "2022-10-24T06:38:59.453Z"
   },
   {
    "duration": 0,
    "start_time": "2022-10-24T06:38:59.521Z"
   },
   {
    "duration": 0,
    "start_time": "2022-10-24T06:38:59.523Z"
   },
   {
    "duration": 0,
    "start_time": "2022-10-24T06:38:59.524Z"
   },
   {
    "duration": 0,
    "start_time": "2022-10-24T06:38:59.525Z"
   },
   {
    "duration": 0,
    "start_time": "2022-10-24T06:38:59.526Z"
   },
   {
    "duration": 0,
    "start_time": "2022-10-24T06:38:59.527Z"
   },
   {
    "duration": 0,
    "start_time": "2022-10-24T06:38:59.527Z"
   },
   {
    "duration": 0,
    "start_time": "2022-10-24T06:38:59.528Z"
   },
   {
    "duration": 21,
    "start_time": "2022-10-24T06:39:26.752Z"
   },
   {
    "duration": 26,
    "start_time": "2022-10-24T06:39:31.564Z"
   },
   {
    "duration": 20,
    "start_time": "2022-10-24T06:39:53.479Z"
   },
   {
    "duration": 23,
    "start_time": "2022-10-24T06:40:50.732Z"
   },
   {
    "duration": 78,
    "start_time": "2022-10-24T06:40:57.069Z"
   },
   {
    "duration": 22,
    "start_time": "2022-10-24T06:41:03.141Z"
   },
   {
    "duration": 17,
    "start_time": "2022-10-24T06:44:14.507Z"
   },
   {
    "duration": 28,
    "start_time": "2022-10-24T06:44:46.585Z"
   },
   {
    "duration": 33,
    "start_time": "2022-10-24T06:45:03.855Z"
   },
   {
    "duration": 39,
    "start_time": "2022-10-24T06:47:00.657Z"
   },
   {
    "duration": 20,
    "start_time": "2022-10-24T06:47:07.658Z"
   },
   {
    "duration": 21,
    "start_time": "2022-10-24T06:47:25.577Z"
   },
   {
    "duration": 62,
    "start_time": "2022-10-24T06:48:51.286Z"
   },
   {
    "duration": 97,
    "start_time": "2022-10-24T06:50:17.305Z"
   },
   {
    "duration": 72,
    "start_time": "2022-10-24T06:50:30.107Z"
   },
   {
    "duration": 62,
    "start_time": "2022-10-24T06:50:59.812Z"
   },
   {
    "duration": 9,
    "start_time": "2022-10-24T06:51:07.582Z"
   },
   {
    "duration": 1135,
    "start_time": "2022-10-24T06:54:50.815Z"
   },
   {
    "duration": 50,
    "start_time": "2022-10-24T06:55:09.760Z"
   },
   {
    "duration": 69,
    "start_time": "2022-10-24T06:55:25.018Z"
   },
   {
    "duration": 1217,
    "start_time": "2022-10-24T06:55:29.659Z"
   },
   {
    "duration": 20,
    "start_time": "2022-10-24T06:56:02.795Z"
   },
   {
    "duration": 21,
    "start_time": "2022-10-24T06:56:06.209Z"
   },
   {
    "duration": 15,
    "start_time": "2022-10-24T06:57:54.514Z"
   },
   {
    "duration": 20,
    "start_time": "2022-10-24T06:57:57.081Z"
   },
   {
    "duration": 70,
    "start_time": "2022-10-24T07:06:37.379Z"
   },
   {
    "duration": 9,
    "start_time": "2022-10-24T07:06:52.638Z"
   },
   {
    "duration": 7,
    "start_time": "2022-10-24T07:07:03.697Z"
   },
   {
    "duration": 42,
    "start_time": "2022-10-24T07:13:40.087Z"
   },
   {
    "duration": 23,
    "start_time": "2022-10-24T07:13:43.160Z"
   },
   {
    "duration": 27,
    "start_time": "2022-10-24T07:13:58.110Z"
   },
   {
    "duration": 3,
    "start_time": "2022-10-24T07:14:47.672Z"
   },
   {
    "duration": 28,
    "start_time": "2022-10-24T07:14:59.346Z"
   },
   {
    "duration": 30,
    "start_time": "2022-10-24T07:17:24.959Z"
   },
   {
    "duration": 47,
    "start_time": "2022-10-24T07:18:05.612Z"
   },
   {
    "duration": 28,
    "start_time": "2022-10-24T07:18:18.516Z"
   },
   {
    "duration": 6,
    "start_time": "2022-10-24T07:20:30.305Z"
   },
   {
    "duration": 7,
    "start_time": "2022-10-24T07:23:52.958Z"
   },
   {
    "duration": 7,
    "start_time": "2022-10-24T07:24:11.184Z"
   },
   {
    "duration": 3,
    "start_time": "2022-10-24T07:24:44.361Z"
   },
   {
    "duration": 3,
    "start_time": "2022-10-24T07:24:50.914Z"
   },
   {
    "duration": 4,
    "start_time": "2022-10-24T07:28:33.125Z"
   },
   {
    "duration": 8,
    "start_time": "2022-10-24T07:29:30.674Z"
   },
   {
    "duration": 8,
    "start_time": "2022-10-24T07:29:39.071Z"
   },
   {
    "duration": 30,
    "start_time": "2022-10-24T07:31:12.562Z"
   },
   {
    "duration": 28,
    "start_time": "2022-10-24T07:31:16.351Z"
   },
   {
    "duration": 30,
    "start_time": "2022-10-24T07:31:43.078Z"
   },
   {
    "duration": 28,
    "start_time": "2022-10-24T07:32:26.700Z"
   },
   {
    "duration": 7,
    "start_time": "2022-10-24T07:34:39.125Z"
   },
   {
    "duration": 9,
    "start_time": "2022-10-24T07:41:46.320Z"
   },
   {
    "duration": 4,
    "start_time": "2022-10-24T07:42:31.274Z"
   },
   {
    "duration": 4,
    "start_time": "2022-10-24T07:44:02.860Z"
   },
   {
    "duration": 28,
    "start_time": "2022-10-24T07:45:56.517Z"
   },
   {
    "duration": 959,
    "start_time": "2022-10-24T07:47:10.584Z"
   },
   {
    "duration": 7,
    "start_time": "2022-10-24T07:47:30.795Z"
   },
   {
    "duration": 34,
    "start_time": "2022-10-24T07:50:49.146Z"
   },
   {
    "duration": 28,
    "start_time": "2022-10-24T07:50:56.110Z"
   },
   {
    "duration": 29,
    "start_time": "2022-10-24T07:52:34.926Z"
   },
   {
    "duration": 32,
    "start_time": "2022-10-24T07:52:55.303Z"
   },
   {
    "duration": 33,
    "start_time": "2022-10-24T07:53:03.393Z"
   },
   {
    "duration": 29,
    "start_time": "2022-10-24T07:53:10.050Z"
   },
   {
    "duration": 28,
    "start_time": "2022-10-24T07:53:15.170Z"
   },
   {
    "duration": 30,
    "start_time": "2022-10-24T07:53:31.042Z"
   },
   {
    "duration": 12,
    "start_time": "2022-10-24T07:59:23.095Z"
   },
   {
    "duration": 86,
    "start_time": "2022-10-24T08:00:25.866Z"
   },
   {
    "duration": 85,
    "start_time": "2022-10-24T08:00:34.366Z"
   },
   {
    "duration": 10,
    "start_time": "2022-10-24T08:01:49.055Z"
   },
   {
    "duration": 6,
    "start_time": "2022-10-24T08:02:50.063Z"
   },
   {
    "duration": 6,
    "start_time": "2022-10-24T08:03:47.083Z"
   },
   {
    "duration": 2,
    "start_time": "2022-10-24T08:09:37.911Z"
   },
   {
    "duration": 6,
    "start_time": "2022-10-24T08:09:44.292Z"
   },
   {
    "duration": 29,
    "start_time": "2022-10-24T08:11:01.126Z"
   },
   {
    "duration": 10,
    "start_time": "2022-10-24T08:21:48.341Z"
   },
   {
    "duration": 9,
    "start_time": "2022-10-24T08:22:09.636Z"
   },
   {
    "duration": 5,
    "start_time": "2022-10-24T08:23:57.982Z"
   },
   {
    "duration": 29,
    "start_time": "2022-10-24T08:30:20.574Z"
   },
   {
    "duration": 37,
    "start_time": "2022-10-24T08:32:11.486Z"
   },
   {
    "duration": 35,
    "start_time": "2022-10-24T08:37:06.220Z"
   },
   {
    "duration": 6,
    "start_time": "2022-10-24T08:38:40.315Z"
   },
   {
    "duration": 1130,
    "start_time": "2022-10-24T08:43:10.002Z"
   },
   {
    "duration": 6,
    "start_time": "2022-10-24T08:44:50.987Z"
   },
   {
    "duration": 9,
    "start_time": "2022-10-24T08:46:48.769Z"
   },
   {
    "duration": 13,
    "start_time": "2022-10-24T08:47:25.388Z"
   },
   {
    "duration": 10,
    "start_time": "2022-10-24T08:48:30.987Z"
   },
   {
    "duration": 3,
    "start_time": "2022-10-24T08:48:41.002Z"
   },
   {
    "duration": 151,
    "start_time": "2022-10-24T08:48:41.006Z"
   },
   {
    "duration": 5,
    "start_time": "2022-10-24T08:48:41.159Z"
   },
   {
    "duration": 28,
    "start_time": "2022-10-24T08:48:41.166Z"
   },
   {
    "duration": 2,
    "start_time": "2022-10-24T08:48:41.196Z"
   },
   {
    "duration": 3,
    "start_time": "2022-10-24T08:48:41.205Z"
   },
   {
    "duration": 10,
    "start_time": "2022-10-24T08:48:41.209Z"
   },
   {
    "duration": 2,
    "start_time": "2022-10-24T08:48:41.221Z"
   },
   {
    "duration": 22,
    "start_time": "2022-10-24T08:48:41.224Z"
   },
   {
    "duration": 15,
    "start_time": "2022-10-24T08:48:41.247Z"
   },
   {
    "duration": 42,
    "start_time": "2022-10-24T08:48:41.265Z"
   },
   {
    "duration": 58,
    "start_time": "2022-10-24T08:48:41.308Z"
   },
   {
    "duration": 69,
    "start_time": "2022-10-24T08:48:41.367Z"
   },
   {
    "duration": 56,
    "start_time": "2022-10-24T08:48:41.438Z"
   },
   {
    "duration": 34,
    "start_time": "2022-10-24T08:48:41.505Z"
   },
   {
    "duration": 10,
    "start_time": "2022-10-24T08:48:41.541Z"
   },
   {
    "duration": 12,
    "start_time": "2022-10-24T08:48:41.552Z"
   },
   {
    "duration": 10,
    "start_time": "2022-10-24T08:48:41.566Z"
   },
   {
    "duration": 0,
    "start_time": "2022-10-24T08:48:41.578Z"
   },
   {
    "duration": 0,
    "start_time": "2022-10-24T08:48:41.580Z"
   },
   {
    "duration": 0,
    "start_time": "2022-10-24T08:48:41.582Z"
   },
   {
    "duration": 0,
    "start_time": "2022-10-24T08:48:41.605Z"
   },
   {
    "duration": 0,
    "start_time": "2022-10-24T08:48:41.606Z"
   },
   {
    "duration": 0,
    "start_time": "2022-10-24T08:48:41.608Z"
   },
   {
    "duration": 0,
    "start_time": "2022-10-24T08:48:41.609Z"
   },
   {
    "duration": 0,
    "start_time": "2022-10-24T08:48:41.610Z"
   },
   {
    "duration": 0,
    "start_time": "2022-10-24T08:48:41.611Z"
   },
   {
    "duration": 0,
    "start_time": "2022-10-24T08:48:41.612Z"
   },
   {
    "duration": 0,
    "start_time": "2022-10-24T08:48:41.613Z"
   },
   {
    "duration": 0,
    "start_time": "2022-10-24T08:48:41.615Z"
   },
   {
    "duration": 0,
    "start_time": "2022-10-24T08:48:41.616Z"
   },
   {
    "duration": 0,
    "start_time": "2022-10-24T08:48:41.618Z"
   },
   {
    "duration": 0,
    "start_time": "2022-10-24T08:48:41.619Z"
   },
   {
    "duration": 0,
    "start_time": "2022-10-24T08:48:41.621Z"
   },
   {
    "duration": 0,
    "start_time": "2022-10-24T08:48:41.622Z"
   },
   {
    "duration": 0,
    "start_time": "2022-10-24T08:48:41.625Z"
   },
   {
    "duration": 0,
    "start_time": "2022-10-24T08:48:41.626Z"
   },
   {
    "duration": 0,
    "start_time": "2022-10-24T08:48:41.627Z"
   },
   {
    "duration": 8,
    "start_time": "2022-10-24T08:52:48.147Z"
   },
   {
    "duration": 10,
    "start_time": "2022-10-24T08:54:34.293Z"
   },
   {
    "duration": 9,
    "start_time": "2022-10-24T08:54:38.187Z"
   },
   {
    "duration": 9,
    "start_time": "2022-10-24T08:54:53.471Z"
   },
   {
    "duration": 9,
    "start_time": "2022-10-24T08:55:40.895Z"
   },
   {
    "duration": 11,
    "start_time": "2022-10-24T08:57:17.955Z"
   },
   {
    "duration": 10,
    "start_time": "2022-10-24T08:57:24.092Z"
   },
   {
    "duration": 3,
    "start_time": "2022-10-24T08:57:44.926Z"
   },
   {
    "duration": 9,
    "start_time": "2022-10-24T08:57:56.488Z"
   },
   {
    "duration": 83,
    "start_time": "2022-10-24T08:58:43.090Z"
   },
   {
    "duration": 102,
    "start_time": "2022-10-24T08:58:58.533Z"
   },
   {
    "duration": 5,
    "start_time": "2022-10-24T09:00:19.116Z"
   },
   {
    "duration": 7,
    "start_time": "2022-10-24T09:00:52.557Z"
   },
   {
    "duration": 4,
    "start_time": "2022-10-24T09:00:58.742Z"
   },
   {
    "duration": 8,
    "start_time": "2022-10-24T09:01:20.913Z"
   },
   {
    "duration": 2,
    "start_time": "2022-10-24T09:01:32.742Z"
   },
   {
    "duration": 167,
    "start_time": "2022-10-24T09:01:32.746Z"
   },
   {
    "duration": 6,
    "start_time": "2022-10-24T09:01:32.914Z"
   },
   {
    "duration": 34,
    "start_time": "2022-10-24T09:01:32.922Z"
   },
   {
    "duration": 2,
    "start_time": "2022-10-24T09:01:32.958Z"
   },
   {
    "duration": 5,
    "start_time": "2022-10-24T09:01:32.961Z"
   },
   {
    "duration": 11,
    "start_time": "2022-10-24T09:01:32.967Z"
   },
   {
    "duration": 3,
    "start_time": "2022-10-24T09:01:32.979Z"
   },
   {
    "duration": 21,
    "start_time": "2022-10-24T09:01:33.004Z"
   },
   {
    "duration": 15,
    "start_time": "2022-10-24T09:01:33.026Z"
   },
   {
    "duration": 20,
    "start_time": "2022-10-24T09:01:33.043Z"
   },
   {
    "duration": 79,
    "start_time": "2022-10-24T09:01:33.065Z"
   },
   {
    "duration": 67,
    "start_time": "2022-10-24T09:01:33.145Z"
   },
   {
    "duration": 53,
    "start_time": "2022-10-24T09:01:33.214Z"
   },
   {
    "duration": 48,
    "start_time": "2022-10-24T09:01:33.268Z"
   },
   {
    "duration": 8,
    "start_time": "2022-10-24T09:01:33.318Z"
   },
   {
    "duration": 6,
    "start_time": "2022-10-24T09:01:33.327Z"
   },
   {
    "duration": 17,
    "start_time": "2022-10-24T09:01:33.334Z"
   },
   {
    "duration": 0,
    "start_time": "2022-10-24T09:01:33.352Z"
   },
   {
    "duration": 0,
    "start_time": "2022-10-24T09:01:33.354Z"
   },
   {
    "duration": 0,
    "start_time": "2022-10-24T09:01:33.355Z"
   },
   {
    "duration": 0,
    "start_time": "2022-10-24T09:01:33.357Z"
   },
   {
    "duration": 0,
    "start_time": "2022-10-24T09:01:33.357Z"
   },
   {
    "duration": 0,
    "start_time": "2022-10-24T09:01:33.358Z"
   },
   {
    "duration": 0,
    "start_time": "2022-10-24T09:01:33.360Z"
   },
   {
    "duration": 0,
    "start_time": "2022-10-24T09:01:33.361Z"
   },
   {
    "duration": 0,
    "start_time": "2022-10-24T09:01:33.361Z"
   },
   {
    "duration": 0,
    "start_time": "2022-10-24T09:01:33.362Z"
   },
   {
    "duration": 0,
    "start_time": "2022-10-24T09:01:33.363Z"
   },
   {
    "duration": 0,
    "start_time": "2022-10-24T09:01:33.364Z"
   },
   {
    "duration": 0,
    "start_time": "2022-10-24T09:01:33.365Z"
   },
   {
    "duration": 0,
    "start_time": "2022-10-24T09:01:33.366Z"
   },
   {
    "duration": 0,
    "start_time": "2022-10-24T09:01:33.367Z"
   },
   {
    "duration": 0,
    "start_time": "2022-10-24T09:01:33.368Z"
   },
   {
    "duration": 0,
    "start_time": "2022-10-24T09:01:33.369Z"
   },
   {
    "duration": 0,
    "start_time": "2022-10-24T09:01:33.370Z"
   },
   {
    "duration": 0,
    "start_time": "2022-10-24T09:01:33.371Z"
   },
   {
    "duration": 0,
    "start_time": "2022-10-24T09:01:33.372Z"
   },
   {
    "duration": 11,
    "start_time": "2022-10-24T09:01:48.037Z"
   },
   {
    "duration": 180,
    "start_time": "2022-10-24T09:11:28.340Z"
   },
   {
    "duration": 87,
    "start_time": "2022-10-24T09:11:45.128Z"
   },
   {
    "duration": 106,
    "start_time": "2022-10-24T09:12:46.408Z"
   },
   {
    "duration": 5,
    "start_time": "2022-10-24T09:13:25.102Z"
   },
   {
    "duration": 68,
    "start_time": "2022-10-24T09:13:46.372Z"
   },
   {
    "duration": 90,
    "start_time": "2022-10-24T09:13:58.976Z"
   },
   {
    "duration": 69,
    "start_time": "2022-10-24T09:55:38.480Z"
   },
   {
    "duration": 3,
    "start_time": "2022-10-24T09:59:42.413Z"
   },
   {
    "duration": 4,
    "start_time": "2022-10-24T09:59:46.762Z"
   },
   {
    "duration": 4,
    "start_time": "2022-10-24T10:00:37.784Z"
   },
   {
    "duration": 77,
    "start_time": "2022-10-24T10:04:13.562Z"
   },
   {
    "duration": 15,
    "start_time": "2022-10-24T10:04:31.829Z"
   },
   {
    "duration": 541,
    "start_time": "2022-10-24T10:05:19.744Z"
   },
   {
    "duration": 7,
    "start_time": "2022-10-24T10:05:23.885Z"
   },
   {
    "duration": 7,
    "start_time": "2022-10-24T10:06:58.416Z"
   },
   {
    "duration": 10,
    "start_time": "2022-10-24T10:07:57.462Z"
   },
   {
    "duration": 14,
    "start_time": "2022-10-24T10:08:27.735Z"
   },
   {
    "duration": 13,
    "start_time": "2022-10-24T10:08:38.664Z"
   },
   {
    "duration": 16,
    "start_time": "2022-10-24T10:09:47.600Z"
   },
   {
    "duration": 16,
    "start_time": "2022-10-24T10:10:55.303Z"
   },
   {
    "duration": 8,
    "start_time": "2022-10-24T10:11:33.339Z"
   },
   {
    "duration": 5,
    "start_time": "2022-10-24T10:12:13.025Z"
   },
   {
    "duration": 1078,
    "start_time": "2022-10-24T10:12:28.441Z"
   },
   {
    "duration": 1138,
    "start_time": "2022-10-24T10:12:36.227Z"
   },
   {
    "duration": 6,
    "start_time": "2022-10-24T10:12:47.941Z"
   },
   {
    "duration": 19,
    "start_time": "2022-10-24T10:13:00.816Z"
   },
   {
    "duration": 7,
    "start_time": "2022-10-24T10:13:20.259Z"
   },
   {
    "duration": 13,
    "start_time": "2022-10-24T10:13:36.247Z"
   },
   {
    "duration": 10,
    "start_time": "2022-10-24T10:13:58.361Z"
   },
   {
    "duration": 5,
    "start_time": "2022-10-24T10:14:13.399Z"
   },
   {
    "duration": 16,
    "start_time": "2022-10-24T10:14:36.857Z"
   },
   {
    "duration": 19,
    "start_time": "2022-10-24T10:15:17.212Z"
   },
   {
    "duration": 13,
    "start_time": "2022-10-24T10:16:16.991Z"
   },
   {
    "duration": 14,
    "start_time": "2022-10-24T10:16:22.163Z"
   },
   {
    "duration": 14,
    "start_time": "2022-10-24T10:17:00.551Z"
   },
   {
    "duration": 7,
    "start_time": "2022-10-24T10:24:20.400Z"
   },
   {
    "duration": 15,
    "start_time": "2022-10-24T10:24:25.002Z"
   },
   {
    "duration": 6,
    "start_time": "2022-10-24T10:27:09.320Z"
   },
   {
    "duration": 10,
    "start_time": "2022-10-24T10:34:21.429Z"
   },
   {
    "duration": 10,
    "start_time": "2022-10-24T10:34:23.520Z"
   },
   {
    "duration": 81,
    "start_time": "2022-10-24T10:45:33.268Z"
   },
   {
    "duration": 4,
    "start_time": "2022-10-24T10:52:07.117Z"
   },
   {
    "duration": 8,
    "start_time": "2022-10-24T10:58:32.981Z"
   },
   {
    "duration": 7,
    "start_time": "2022-10-24T11:00:51.291Z"
   },
   {
    "duration": 9,
    "start_time": "2022-10-24T11:02:57.817Z"
   },
   {
    "duration": 17,
    "start_time": "2022-10-24T11:03:05.547Z"
   },
   {
    "duration": 22,
    "start_time": "2022-10-24T11:03:18.688Z"
   },
   {
    "duration": 11,
    "start_time": "2022-10-24T11:03:24.916Z"
   },
   {
    "duration": 79,
    "start_time": "2022-10-24T11:06:49.767Z"
   },
   {
    "duration": 4,
    "start_time": "2022-10-24T11:06:57.481Z"
   },
   {
    "duration": 15,
    "start_time": "2022-10-24T11:07:03.903Z"
   },
   {
    "duration": 10,
    "start_time": "2022-10-24T11:07:08.708Z"
   },
   {
    "duration": 8,
    "start_time": "2022-10-24T11:07:11.115Z"
   },
   {
    "duration": 9,
    "start_time": "2022-10-24T11:07:23.648Z"
   },
   {
    "duration": 15,
    "start_time": "2022-10-24T11:08:44.014Z"
   },
   {
    "duration": 10,
    "start_time": "2022-10-24T11:08:51.503Z"
   },
   {
    "duration": 14,
    "start_time": "2022-10-24T11:12:30.171Z"
   },
   {
    "duration": 18,
    "start_time": "2022-10-24T11:12:32.561Z"
   },
   {
    "duration": 61,
    "start_time": "2022-10-24T11:13:35.636Z"
   },
   {
    "duration": 3,
    "start_time": "2022-10-24T11:13:52.826Z"
   },
   {
    "duration": 170,
    "start_time": "2022-10-24T11:13:52.831Z"
   },
   {
    "duration": 6,
    "start_time": "2022-10-24T11:13:53.003Z"
   },
   {
    "duration": 26,
    "start_time": "2022-10-24T11:13:53.010Z"
   },
   {
    "duration": 3,
    "start_time": "2022-10-24T11:13:53.038Z"
   },
   {
    "duration": 7,
    "start_time": "2022-10-24T11:13:53.042Z"
   },
   {
    "duration": 10,
    "start_time": "2022-10-24T11:13:53.051Z"
   },
   {
    "duration": 6,
    "start_time": "2022-10-24T11:13:53.062Z"
   },
   {
    "duration": 48,
    "start_time": "2022-10-24T11:13:53.069Z"
   },
   {
    "duration": 15,
    "start_time": "2022-10-24T11:13:53.118Z"
   },
   {
    "duration": 21,
    "start_time": "2022-10-24T11:13:53.135Z"
   },
   {
    "duration": 75,
    "start_time": "2022-10-24T11:13:53.158Z"
   },
   {
    "duration": 58,
    "start_time": "2022-10-24T11:13:53.235Z"
   },
   {
    "duration": 56,
    "start_time": "2022-10-24T11:13:53.295Z"
   },
   {
    "duration": 31,
    "start_time": "2022-10-24T11:13:53.352Z"
   },
   {
    "duration": 26,
    "start_time": "2022-10-24T11:13:53.385Z"
   },
   {
    "duration": 6,
    "start_time": "2022-10-24T11:13:53.413Z"
   },
   {
    "duration": 15,
    "start_time": "2022-10-24T11:13:53.420Z"
   },
   {
    "duration": 10,
    "start_time": "2022-10-24T11:13:53.436Z"
   },
   {
    "duration": 6,
    "start_time": "2022-10-24T11:13:53.447Z"
   },
   {
    "duration": 20,
    "start_time": "2022-10-24T11:13:53.455Z"
   },
   {
    "duration": 32,
    "start_time": "2022-10-24T11:13:53.476Z"
   },
   {
    "duration": 25,
    "start_time": "2022-10-24T11:13:53.510Z"
   },
   {
    "duration": 11,
    "start_time": "2022-10-24T11:13:53.536Z"
   },
   {
    "duration": 13,
    "start_time": "2022-10-24T11:13:53.549Z"
   },
   {
    "duration": 12,
    "start_time": "2022-10-24T11:13:53.564Z"
   },
   {
    "duration": 5,
    "start_time": "2022-10-24T11:13:53.606Z"
   },
   {
    "duration": 17,
    "start_time": "2022-10-24T11:13:53.612Z"
   },
   {
    "duration": 8,
    "start_time": "2022-10-24T11:13:53.630Z"
   },
   {
    "duration": 5,
    "start_time": "2022-10-24T11:13:53.639Z"
   },
   {
    "duration": 19,
    "start_time": "2022-10-24T11:13:53.645Z"
   },
   {
    "duration": 10,
    "start_time": "2022-10-24T11:13:53.666Z"
   },
   {
    "duration": 39,
    "start_time": "2022-10-24T11:13:53.677Z"
   },
   {
    "duration": 10,
    "start_time": "2022-10-24T11:13:53.718Z"
   },
   {
    "duration": 3,
    "start_time": "2022-10-24T11:13:53.729Z"
   },
   {
    "duration": 5,
    "start_time": "2022-10-24T11:13:53.733Z"
   },
   {
    "duration": 4,
    "start_time": "2022-10-24T11:13:53.741Z"
   },
   {
    "duration": 5,
    "start_time": "2022-10-24T11:13:53.746Z"
   },
   {
    "duration": 4,
    "start_time": "2022-10-24T11:17:19.382Z"
   },
   {
    "duration": 96,
    "start_time": "2022-10-24T11:20:29.341Z"
   },
   {
    "duration": 70,
    "start_time": "2022-10-24T11:20:44.677Z"
   },
   {
    "duration": 100,
    "start_time": "2022-10-24T11:21:13.946Z"
   },
   {
    "duration": 13,
    "start_time": "2022-10-24T11:22:27.111Z"
   },
   {
    "duration": 3,
    "start_time": "2022-10-24T11:22:59.338Z"
   },
   {
    "duration": 5,
    "start_time": "2022-10-24T11:25:00.297Z"
   },
   {
    "duration": 4,
    "start_time": "2022-10-24T11:25:20.978Z"
   },
   {
    "duration": 47,
    "start_time": "2022-10-24T17:54:46.003Z"
   },
   {
    "duration": 389,
    "start_time": "2022-10-24T18:09:10.793Z"
   },
   {
    "duration": 235,
    "start_time": "2022-10-24T18:09:11.184Z"
   },
   {
    "duration": 9,
    "start_time": "2022-10-24T18:09:11.420Z"
   },
   {
    "duration": 34,
    "start_time": "2022-10-24T18:09:11.431Z"
   },
   {
    "duration": 5,
    "start_time": "2022-10-24T18:09:11.467Z"
   },
   {
    "duration": 8,
    "start_time": "2022-10-24T18:09:11.474Z"
   },
   {
    "duration": 24,
    "start_time": "2022-10-24T18:09:11.484Z"
   },
   {
    "duration": 13,
    "start_time": "2022-10-24T18:09:11.510Z"
   },
   {
    "duration": 39,
    "start_time": "2022-10-24T18:09:11.524Z"
   },
   {
    "duration": 20,
    "start_time": "2022-10-24T18:09:11.565Z"
   },
   {
    "duration": 42,
    "start_time": "2022-10-24T18:09:11.587Z"
   },
   {
    "duration": 80,
    "start_time": "2022-10-24T18:09:11.632Z"
   },
   {
    "duration": 63,
    "start_time": "2022-10-24T18:09:11.714Z"
   },
   {
    "duration": 71,
    "start_time": "2022-10-24T18:09:11.778Z"
   },
   {
    "duration": 56,
    "start_time": "2022-10-24T18:09:11.852Z"
   },
   {
    "duration": 10,
    "start_time": "2022-10-24T18:09:11.910Z"
   },
   {
    "duration": 40,
    "start_time": "2022-10-24T18:09:11.922Z"
   },
   {
    "duration": 0,
    "start_time": "2022-10-24T18:09:11.964Z"
   },
   {
    "duration": 0,
    "start_time": "2022-10-24T18:09:11.965Z"
   },
   {
    "duration": 0,
    "start_time": "2022-10-24T18:09:11.967Z"
   },
   {
    "duration": 0,
    "start_time": "2022-10-24T18:09:11.968Z"
   },
   {
    "duration": 0,
    "start_time": "2022-10-24T18:09:11.969Z"
   },
   {
    "duration": 0,
    "start_time": "2022-10-24T18:09:11.970Z"
   },
   {
    "duration": 0,
    "start_time": "2022-10-24T18:09:11.971Z"
   },
   {
    "duration": 0,
    "start_time": "2022-10-24T18:09:11.972Z"
   },
   {
    "duration": 0,
    "start_time": "2022-10-24T18:09:11.973Z"
   },
   {
    "duration": 0,
    "start_time": "2022-10-24T18:09:11.974Z"
   },
   {
    "duration": 0,
    "start_time": "2022-10-24T18:09:11.975Z"
   },
   {
    "duration": 0,
    "start_time": "2022-10-24T18:09:11.976Z"
   },
   {
    "duration": 0,
    "start_time": "2022-10-24T18:09:11.977Z"
   },
   {
    "duration": 0,
    "start_time": "2022-10-24T18:09:12.000Z"
   },
   {
    "duration": 0,
    "start_time": "2022-10-24T18:09:12.001Z"
   },
   {
    "duration": 0,
    "start_time": "2022-10-24T18:09:12.002Z"
   },
   {
    "duration": 0,
    "start_time": "2022-10-24T18:09:12.004Z"
   },
   {
    "duration": 0,
    "start_time": "2022-10-24T18:09:12.005Z"
   },
   {
    "duration": 0,
    "start_time": "2022-10-24T18:09:12.006Z"
   },
   {
    "duration": 0,
    "start_time": "2022-10-24T18:09:12.008Z"
   },
   {
    "duration": 0,
    "start_time": "2022-10-24T18:09:12.009Z"
   },
   {
    "duration": 8,
    "start_time": "2022-10-24T18:09:54.609Z"
   },
   {
    "duration": 32,
    "start_time": "2022-10-24T18:10:05.550Z"
   },
   {
    "duration": 34,
    "start_time": "2022-10-24T18:11:44.585Z"
   },
   {
    "duration": 11,
    "start_time": "2022-10-24T18:23:50.476Z"
   },
   {
    "duration": 11,
    "start_time": "2022-10-24T18:24:08.955Z"
   },
   {
    "duration": 5,
    "start_time": "2022-10-24T18:25:46.269Z"
   },
   {
    "duration": 4,
    "start_time": "2022-10-24T19:08:01.377Z"
   },
   {
    "duration": 6,
    "start_time": "2022-10-24T19:11:42.910Z"
   },
   {
    "duration": 45,
    "start_time": "2022-10-24T19:11:47.353Z"
   },
   {
    "duration": 3,
    "start_time": "2022-10-24T19:11:53.639Z"
   },
   {
    "duration": 4,
    "start_time": "2022-10-24T19:12:02.135Z"
   },
   {
    "duration": 4,
    "start_time": "2022-10-24T19:12:15.690Z"
   },
   {
    "duration": 3,
    "start_time": "2022-10-24T19:34:41.773Z"
   },
   {
    "duration": 223,
    "start_time": "2022-10-24T19:34:41.778Z"
   },
   {
    "duration": 12,
    "start_time": "2022-10-24T19:34:42.005Z"
   },
   {
    "duration": 50,
    "start_time": "2022-10-24T19:34:42.019Z"
   },
   {
    "duration": 3,
    "start_time": "2022-10-24T19:34:42.072Z"
   },
   {
    "duration": 7,
    "start_time": "2022-10-24T19:34:42.077Z"
   },
   {
    "duration": 24,
    "start_time": "2022-10-24T19:34:42.086Z"
   },
   {
    "duration": 16,
    "start_time": "2022-10-24T19:34:42.111Z"
   },
   {
    "duration": 52,
    "start_time": "2022-10-24T19:34:42.129Z"
   },
   {
    "duration": 38,
    "start_time": "2022-10-24T19:34:42.183Z"
   },
   {
    "duration": 27,
    "start_time": "2022-10-24T19:34:42.224Z"
   },
   {
    "duration": 68,
    "start_time": "2022-10-24T19:34:42.253Z"
   },
   {
    "duration": 64,
    "start_time": "2022-10-24T19:34:42.322Z"
   },
   {
    "duration": 64,
    "start_time": "2022-10-24T19:34:42.388Z"
   },
   {
    "duration": 51,
    "start_time": "2022-10-24T19:34:42.454Z"
   },
   {
    "duration": 14,
    "start_time": "2022-10-24T19:34:42.507Z"
   },
   {
    "duration": 47,
    "start_time": "2022-10-24T19:34:42.523Z"
   },
   {
    "duration": 16,
    "start_time": "2022-10-24T19:34:42.572Z"
   },
   {
    "duration": 30,
    "start_time": "2022-10-24T19:34:42.590Z"
   },
   {
    "duration": 11,
    "start_time": "2022-10-24T19:34:42.624Z"
   },
   {
    "duration": 30,
    "start_time": "2022-10-24T19:34:42.637Z"
   },
   {
    "duration": 14,
    "start_time": "2022-10-24T19:34:42.669Z"
   },
   {
    "duration": 24,
    "start_time": "2022-10-24T19:34:42.685Z"
   },
   {
    "duration": 17,
    "start_time": "2022-10-24T19:34:42.723Z"
   },
   {
    "duration": 16,
    "start_time": "2022-10-24T19:34:42.742Z"
   },
   {
    "duration": 19,
    "start_time": "2022-10-24T19:34:42.760Z"
   },
   {
    "duration": 7,
    "start_time": "2022-10-24T19:34:42.782Z"
   },
   {
    "duration": 29,
    "start_time": "2022-10-24T19:34:42.806Z"
   },
   {
    "duration": 12,
    "start_time": "2022-10-24T19:34:42.838Z"
   },
   {
    "duration": 11,
    "start_time": "2022-10-24T19:34:42.852Z"
   },
   {
    "duration": 51,
    "start_time": "2022-10-24T19:34:42.865Z"
   },
   {
    "duration": 23,
    "start_time": "2022-10-24T19:34:42.919Z"
   },
   {
    "duration": 17,
    "start_time": "2022-10-24T19:34:42.943Z"
   },
   {
    "duration": 11,
    "start_time": "2022-10-24T19:34:42.962Z"
   },
   {
    "duration": 34,
    "start_time": "2022-10-24T19:34:42.975Z"
   },
   {
    "duration": 5,
    "start_time": "2022-10-24T19:34:43.011Z"
   },
   {
    "duration": 11,
    "start_time": "2022-10-24T19:34:43.024Z"
   },
   {
    "duration": 6,
    "start_time": "2022-10-24T19:34:43.037Z"
   }
  ],
  "colab": {
   "collapsed_sections": [
    "E0vqbgi9ay0H",
    "VUC88oWjTJw2"
   ],
   "name": "automatization_template_upd4.ipynb",
   "provenance": []
  },
  "kernelspec": {
   "display_name": "Python 3 (ipykernel)",
   "language": "python",
   "name": "python3"
  },
  "language_info": {
   "codemirror_mode": {
    "name": "ipython",
    "version": 3
   },
   "file_extension": ".py",
   "mimetype": "text/x-python",
   "name": "python",
   "nbconvert_exporter": "python",
   "pygments_lexer": "ipython3",
   "version": "3.9.12"
  },
  "toc": {
   "base_numbering": 1,
   "nav_menu": {
    "height": "215px",
    "width": "403px"
   },
   "number_sections": true,
   "sideBar": true,
   "skip_h1_title": true,
   "title_cell": "Table of Contents",
   "title_sidebar": "Contents",
   "toc_cell": false,
   "toc_position": {
    "height": "calc(100% - 180px)",
    "left": "10px",
    "top": "150px",
    "width": "285.825px"
   },
   "toc_section_display": true,
   "toc_window_display": false
  }
 },
 "nbformat": 4,
 "nbformat_minor": 1
}
