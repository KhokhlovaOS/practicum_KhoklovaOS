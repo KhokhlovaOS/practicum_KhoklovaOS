{
 "cells": [
  {
   "cell_type": "markdown",
   "id": "5746a31a",
   "metadata": {
    "deletable": false,
    "editable": false,
    "id": "c81daeeb"
   },
   "source": [
    "# Исследование надежности заемщиков\n"
   ]
  },
  {
   "cell_type": "markdown",
   "id": "735fe7e0",
   "metadata": {
    "deletable": false,
    "editable": false,
    "id": "827c20bf"
   },
   "source": [
    "Во второй части проекта вы выполните шаги 3 и 4. Их вручную проверит ревьюер.\n",
    "Чтобы вам не пришлось писать код заново для шагов 1 и 2, мы добавили авторские решения в ячейки с кодом. \n",
    "\n"
   ]
  },
  {
   "cell_type": "markdown",
   "id": "da1244fc",
   "metadata": {
    "deletable": false,
    "editable": false,
    "id": "744d7639"
   },
   "source": [
    "## Откройте таблицу и изучите общую информацию о данных"
   ]
  },
  {
   "cell_type": "markdown",
   "id": "7d42a761",
   "metadata": {
    "deletable": false,
    "editable": false,
    "id": "e7a14c31"
   },
   "source": [
    "**Задание 1. Импортируйте библиотеку pandas. Считайте данные из csv-файла в датафрейм и сохраните в переменную `data`. Путь к файлу:**\n",
    "\n",
    "`/datasets/data.csv`"
   ]
  },
  {
   "cell_type": "code",
   "execution_count": 2,
   "id": "5988ae6c",
   "metadata": {
    "deletable": false,
    "id": "7bcf75c9"
   },
   "outputs": [],
   "source": [
    "import pandas as pd\n",
    "\n",
    "try:\n",
    "    data = pd.read_csv('/datasets/data.csv')\n",
    "except:\n",
    "    data = pd.read_csv('https://code.s3.yandex.net/datasets/data.csv')"
   ]
  },
  {
   "cell_type": "markdown",
   "id": "26b19f42",
   "metadata": {
    "deletable": false,
    "editable": false,
    "id": "b8038fe3"
   },
   "source": [
    "**Задание 2. Выведите первые 20 строчек датафрейма `data` на экран.**"
   ]
  },
  {
   "cell_type": "code",
   "execution_count": 3,
   "id": "aee0d547",
   "metadata": {
    "deletable": false,
    "id": "2a7cab99",
    "outputId": "1a8f3ef2-d323-4ec2-ddf7-89670b5944c4"
   },
   "outputs": [
    {
     "data": {
      "text/html": [
       "<div>\n",
       "<style scoped>\n",
       "    .dataframe tbody tr th:only-of-type {\n",
       "        vertical-align: middle;\n",
       "    }\n",
       "\n",
       "    .dataframe tbody tr th {\n",
       "        vertical-align: top;\n",
       "    }\n",
       "\n",
       "    .dataframe thead th {\n",
       "        text-align: right;\n",
       "    }\n",
       "</style>\n",
       "<table border=\"1\" class=\"dataframe\">\n",
       "  <thead>\n",
       "    <tr style=\"text-align: right;\">\n",
       "      <th></th>\n",
       "      <th>children</th>\n",
       "      <th>days_employed</th>\n",
       "      <th>dob_years</th>\n",
       "      <th>education</th>\n",
       "      <th>education_id</th>\n",
       "      <th>family_status</th>\n",
       "      <th>family_status_id</th>\n",
       "      <th>gender</th>\n",
       "      <th>income_type</th>\n",
       "      <th>debt</th>\n",
       "      <th>total_income</th>\n",
       "      <th>purpose</th>\n",
       "    </tr>\n",
       "  </thead>\n",
       "  <tbody>\n",
       "    <tr>\n",
       "      <th>0</th>\n",
       "      <td>1</td>\n",
       "      <td>-8437.673028</td>\n",
       "      <td>42</td>\n",
       "      <td>высшее</td>\n",
       "      <td>0</td>\n",
       "      <td>женат / замужем</td>\n",
       "      <td>0</td>\n",
       "      <td>F</td>\n",
       "      <td>сотрудник</td>\n",
       "      <td>0</td>\n",
       "      <td>253875.639453</td>\n",
       "      <td>покупка жилья</td>\n",
       "    </tr>\n",
       "    <tr>\n",
       "      <th>1</th>\n",
       "      <td>1</td>\n",
       "      <td>-4024.803754</td>\n",
       "      <td>36</td>\n",
       "      <td>среднее</td>\n",
       "      <td>1</td>\n",
       "      <td>женат / замужем</td>\n",
       "      <td>0</td>\n",
       "      <td>F</td>\n",
       "      <td>сотрудник</td>\n",
       "      <td>0</td>\n",
       "      <td>112080.014102</td>\n",
       "      <td>приобретение автомобиля</td>\n",
       "    </tr>\n",
       "    <tr>\n",
       "      <th>2</th>\n",
       "      <td>0</td>\n",
       "      <td>-5623.422610</td>\n",
       "      <td>33</td>\n",
       "      <td>Среднее</td>\n",
       "      <td>1</td>\n",
       "      <td>женат / замужем</td>\n",
       "      <td>0</td>\n",
       "      <td>M</td>\n",
       "      <td>сотрудник</td>\n",
       "      <td>0</td>\n",
       "      <td>145885.952297</td>\n",
       "      <td>покупка жилья</td>\n",
       "    </tr>\n",
       "    <tr>\n",
       "      <th>3</th>\n",
       "      <td>3</td>\n",
       "      <td>-4124.747207</td>\n",
       "      <td>32</td>\n",
       "      <td>среднее</td>\n",
       "      <td>1</td>\n",
       "      <td>женат / замужем</td>\n",
       "      <td>0</td>\n",
       "      <td>M</td>\n",
       "      <td>сотрудник</td>\n",
       "      <td>0</td>\n",
       "      <td>267628.550329</td>\n",
       "      <td>дополнительное образование</td>\n",
       "    </tr>\n",
       "    <tr>\n",
       "      <th>4</th>\n",
       "      <td>0</td>\n",
       "      <td>340266.072047</td>\n",
       "      <td>53</td>\n",
       "      <td>среднее</td>\n",
       "      <td>1</td>\n",
       "      <td>гражданский брак</td>\n",
       "      <td>1</td>\n",
       "      <td>F</td>\n",
       "      <td>пенсионер</td>\n",
       "      <td>0</td>\n",
       "      <td>158616.077870</td>\n",
       "      <td>сыграть свадьбу</td>\n",
       "    </tr>\n",
       "    <tr>\n",
       "      <th>5</th>\n",
       "      <td>0</td>\n",
       "      <td>-926.185831</td>\n",
       "      <td>27</td>\n",
       "      <td>высшее</td>\n",
       "      <td>0</td>\n",
       "      <td>гражданский брак</td>\n",
       "      <td>1</td>\n",
       "      <td>M</td>\n",
       "      <td>компаньон</td>\n",
       "      <td>0</td>\n",
       "      <td>255763.565419</td>\n",
       "      <td>покупка жилья</td>\n",
       "    </tr>\n",
       "    <tr>\n",
       "      <th>6</th>\n",
       "      <td>0</td>\n",
       "      <td>-2879.202052</td>\n",
       "      <td>43</td>\n",
       "      <td>высшее</td>\n",
       "      <td>0</td>\n",
       "      <td>женат / замужем</td>\n",
       "      <td>0</td>\n",
       "      <td>F</td>\n",
       "      <td>компаньон</td>\n",
       "      <td>0</td>\n",
       "      <td>240525.971920</td>\n",
       "      <td>операции с жильем</td>\n",
       "    </tr>\n",
       "    <tr>\n",
       "      <th>7</th>\n",
       "      <td>0</td>\n",
       "      <td>-152.779569</td>\n",
       "      <td>50</td>\n",
       "      <td>СРЕДНЕЕ</td>\n",
       "      <td>1</td>\n",
       "      <td>женат / замужем</td>\n",
       "      <td>0</td>\n",
       "      <td>M</td>\n",
       "      <td>сотрудник</td>\n",
       "      <td>0</td>\n",
       "      <td>135823.934197</td>\n",
       "      <td>образование</td>\n",
       "    </tr>\n",
       "    <tr>\n",
       "      <th>8</th>\n",
       "      <td>2</td>\n",
       "      <td>-6929.865299</td>\n",
       "      <td>35</td>\n",
       "      <td>ВЫСШЕЕ</td>\n",
       "      <td>0</td>\n",
       "      <td>гражданский брак</td>\n",
       "      <td>1</td>\n",
       "      <td>F</td>\n",
       "      <td>сотрудник</td>\n",
       "      <td>0</td>\n",
       "      <td>95856.832424</td>\n",
       "      <td>на проведение свадьбы</td>\n",
       "    </tr>\n",
       "    <tr>\n",
       "      <th>9</th>\n",
       "      <td>0</td>\n",
       "      <td>-2188.756445</td>\n",
       "      <td>41</td>\n",
       "      <td>среднее</td>\n",
       "      <td>1</td>\n",
       "      <td>женат / замужем</td>\n",
       "      <td>0</td>\n",
       "      <td>M</td>\n",
       "      <td>сотрудник</td>\n",
       "      <td>0</td>\n",
       "      <td>144425.938277</td>\n",
       "      <td>покупка жилья для семьи</td>\n",
       "    </tr>\n",
       "    <tr>\n",
       "      <th>10</th>\n",
       "      <td>2</td>\n",
       "      <td>-4171.483647</td>\n",
       "      <td>36</td>\n",
       "      <td>высшее</td>\n",
       "      <td>0</td>\n",
       "      <td>женат / замужем</td>\n",
       "      <td>0</td>\n",
       "      <td>M</td>\n",
       "      <td>компаньон</td>\n",
       "      <td>0</td>\n",
       "      <td>113943.491460</td>\n",
       "      <td>покупка недвижимости</td>\n",
       "    </tr>\n",
       "    <tr>\n",
       "      <th>11</th>\n",
       "      <td>0</td>\n",
       "      <td>-792.701887</td>\n",
       "      <td>40</td>\n",
       "      <td>среднее</td>\n",
       "      <td>1</td>\n",
       "      <td>женат / замужем</td>\n",
       "      <td>0</td>\n",
       "      <td>F</td>\n",
       "      <td>сотрудник</td>\n",
       "      <td>0</td>\n",
       "      <td>77069.234271</td>\n",
       "      <td>покупка коммерческой недвижимости</td>\n",
       "    </tr>\n",
       "    <tr>\n",
       "      <th>12</th>\n",
       "      <td>0</td>\n",
       "      <td>NaN</td>\n",
       "      <td>65</td>\n",
       "      <td>среднее</td>\n",
       "      <td>1</td>\n",
       "      <td>гражданский брак</td>\n",
       "      <td>1</td>\n",
       "      <td>M</td>\n",
       "      <td>пенсионер</td>\n",
       "      <td>0</td>\n",
       "      <td>NaN</td>\n",
       "      <td>сыграть свадьбу</td>\n",
       "    </tr>\n",
       "    <tr>\n",
       "      <th>13</th>\n",
       "      <td>0</td>\n",
       "      <td>-1846.641941</td>\n",
       "      <td>54</td>\n",
       "      <td>неоконченное высшее</td>\n",
       "      <td>2</td>\n",
       "      <td>женат / замужем</td>\n",
       "      <td>0</td>\n",
       "      <td>F</td>\n",
       "      <td>сотрудник</td>\n",
       "      <td>0</td>\n",
       "      <td>130458.228857</td>\n",
       "      <td>приобретение автомобиля</td>\n",
       "    </tr>\n",
       "    <tr>\n",
       "      <th>14</th>\n",
       "      <td>0</td>\n",
       "      <td>-1844.956182</td>\n",
       "      <td>56</td>\n",
       "      <td>высшее</td>\n",
       "      <td>0</td>\n",
       "      <td>гражданский брак</td>\n",
       "      <td>1</td>\n",
       "      <td>F</td>\n",
       "      <td>компаньон</td>\n",
       "      <td>1</td>\n",
       "      <td>165127.911772</td>\n",
       "      <td>покупка жилой недвижимости</td>\n",
       "    </tr>\n",
       "    <tr>\n",
       "      <th>15</th>\n",
       "      <td>1</td>\n",
       "      <td>-972.364419</td>\n",
       "      <td>26</td>\n",
       "      <td>среднее</td>\n",
       "      <td>1</td>\n",
       "      <td>женат / замужем</td>\n",
       "      <td>0</td>\n",
       "      <td>F</td>\n",
       "      <td>сотрудник</td>\n",
       "      <td>0</td>\n",
       "      <td>116820.904450</td>\n",
       "      <td>строительство собственной недвижимости</td>\n",
       "    </tr>\n",
       "    <tr>\n",
       "      <th>16</th>\n",
       "      <td>0</td>\n",
       "      <td>-1719.934226</td>\n",
       "      <td>35</td>\n",
       "      <td>среднее</td>\n",
       "      <td>1</td>\n",
       "      <td>женат / замужем</td>\n",
       "      <td>0</td>\n",
       "      <td>F</td>\n",
       "      <td>сотрудник</td>\n",
       "      <td>0</td>\n",
       "      <td>289202.704229</td>\n",
       "      <td>недвижимость</td>\n",
       "    </tr>\n",
       "    <tr>\n",
       "      <th>17</th>\n",
       "      <td>0</td>\n",
       "      <td>-2369.999720</td>\n",
       "      <td>33</td>\n",
       "      <td>высшее</td>\n",
       "      <td>0</td>\n",
       "      <td>гражданский брак</td>\n",
       "      <td>1</td>\n",
       "      <td>M</td>\n",
       "      <td>сотрудник</td>\n",
       "      <td>0</td>\n",
       "      <td>90410.586745</td>\n",
       "      <td>строительство недвижимости</td>\n",
       "    </tr>\n",
       "    <tr>\n",
       "      <th>18</th>\n",
       "      <td>0</td>\n",
       "      <td>400281.136913</td>\n",
       "      <td>53</td>\n",
       "      <td>среднее</td>\n",
       "      <td>1</td>\n",
       "      <td>вдовец / вдова</td>\n",
       "      <td>2</td>\n",
       "      <td>F</td>\n",
       "      <td>пенсионер</td>\n",
       "      <td>0</td>\n",
       "      <td>56823.777243</td>\n",
       "      <td>на покупку подержанного автомобиля</td>\n",
       "    </tr>\n",
       "    <tr>\n",
       "      <th>19</th>\n",
       "      <td>0</td>\n",
       "      <td>-10038.818549</td>\n",
       "      <td>48</td>\n",
       "      <td>СРЕДНЕЕ</td>\n",
       "      <td>1</td>\n",
       "      <td>в разводе</td>\n",
       "      <td>3</td>\n",
       "      <td>F</td>\n",
       "      <td>сотрудник</td>\n",
       "      <td>0</td>\n",
       "      <td>242831.107982</td>\n",
       "      <td>на покупку своего автомобиля</td>\n",
       "    </tr>\n",
       "  </tbody>\n",
       "</table>\n",
       "</div>"
      ],
      "text/plain": [
       "    children  days_employed  dob_years            education  education_id  \\\n",
       "0          1   -8437.673028         42               высшее             0   \n",
       "1          1   -4024.803754         36              среднее             1   \n",
       "2          0   -5623.422610         33              Среднее             1   \n",
       "3          3   -4124.747207         32              среднее             1   \n",
       "4          0  340266.072047         53              среднее             1   \n",
       "5          0    -926.185831         27               высшее             0   \n",
       "6          0   -2879.202052         43               высшее             0   \n",
       "7          0    -152.779569         50              СРЕДНЕЕ             1   \n",
       "8          2   -6929.865299         35               ВЫСШЕЕ             0   \n",
       "9          0   -2188.756445         41              среднее             1   \n",
       "10         2   -4171.483647         36               высшее             0   \n",
       "11         0    -792.701887         40              среднее             1   \n",
       "12         0            NaN         65              среднее             1   \n",
       "13         0   -1846.641941         54  неоконченное высшее             2   \n",
       "14         0   -1844.956182         56               высшее             0   \n",
       "15         1    -972.364419         26              среднее             1   \n",
       "16         0   -1719.934226         35              среднее             1   \n",
       "17         0   -2369.999720         33               высшее             0   \n",
       "18         0  400281.136913         53              среднее             1   \n",
       "19         0  -10038.818549         48              СРЕДНЕЕ             1   \n",
       "\n",
       "       family_status  family_status_id gender income_type  debt  \\\n",
       "0    женат / замужем                 0      F   сотрудник     0   \n",
       "1    женат / замужем                 0      F   сотрудник     0   \n",
       "2    женат / замужем                 0      M   сотрудник     0   \n",
       "3    женат / замужем                 0      M   сотрудник     0   \n",
       "4   гражданский брак                 1      F   пенсионер     0   \n",
       "5   гражданский брак                 1      M   компаньон     0   \n",
       "6    женат / замужем                 0      F   компаньон     0   \n",
       "7    женат / замужем                 0      M   сотрудник     0   \n",
       "8   гражданский брак                 1      F   сотрудник     0   \n",
       "9    женат / замужем                 0      M   сотрудник     0   \n",
       "10   женат / замужем                 0      M   компаньон     0   \n",
       "11   женат / замужем                 0      F   сотрудник     0   \n",
       "12  гражданский брак                 1      M   пенсионер     0   \n",
       "13   женат / замужем                 0      F   сотрудник     0   \n",
       "14  гражданский брак                 1      F   компаньон     1   \n",
       "15   женат / замужем                 0      F   сотрудник     0   \n",
       "16   женат / замужем                 0      F   сотрудник     0   \n",
       "17  гражданский брак                 1      M   сотрудник     0   \n",
       "18    вдовец / вдова                 2      F   пенсионер     0   \n",
       "19         в разводе                 3      F   сотрудник     0   \n",
       "\n",
       "     total_income                                 purpose  \n",
       "0   253875.639453                           покупка жилья  \n",
       "1   112080.014102                 приобретение автомобиля  \n",
       "2   145885.952297                           покупка жилья  \n",
       "3   267628.550329              дополнительное образование  \n",
       "4   158616.077870                         сыграть свадьбу  \n",
       "5   255763.565419                           покупка жилья  \n",
       "6   240525.971920                       операции с жильем  \n",
       "7   135823.934197                             образование  \n",
       "8    95856.832424                   на проведение свадьбы  \n",
       "9   144425.938277                 покупка жилья для семьи  \n",
       "10  113943.491460                    покупка недвижимости  \n",
       "11   77069.234271       покупка коммерческой недвижимости  \n",
       "12            NaN                         сыграть свадьбу  \n",
       "13  130458.228857                 приобретение автомобиля  \n",
       "14  165127.911772              покупка жилой недвижимости  \n",
       "15  116820.904450  строительство собственной недвижимости  \n",
       "16  289202.704229                            недвижимость  \n",
       "17   90410.586745              строительство недвижимости  \n",
       "18   56823.777243      на покупку подержанного автомобиля  \n",
       "19  242831.107982            на покупку своего автомобиля  "
      ]
     },
     "execution_count": 3,
     "metadata": {},
     "output_type": "execute_result"
    }
   ],
   "source": [
    "data.head(20)"
   ]
  },
  {
   "cell_type": "markdown",
   "id": "26f6ae23",
   "metadata": {
    "deletable": false,
    "editable": false,
    "id": "1c12e233"
   },
   "source": [
    "**Задание 3. Выведите основную информацию о датафрейме с помощью метода `info()`.**"
   ]
  },
  {
   "cell_type": "code",
   "execution_count": 4,
   "id": "91256cbf",
   "metadata": {
    "deletable": false,
    "id": "2b757bca",
    "outputId": "15376089-8dad-46c9-b520-c05248d43158"
   },
   "outputs": [
    {
     "name": "stdout",
     "output_type": "stream",
     "text": [
      "<class 'pandas.core.frame.DataFrame'>\n",
      "RangeIndex: 21525 entries, 0 to 21524\n",
      "Data columns (total 12 columns):\n",
      " #   Column            Non-Null Count  Dtype  \n",
      "---  ------            --------------  -----  \n",
      " 0   children          21525 non-null  int64  \n",
      " 1   days_employed     19351 non-null  float64\n",
      " 2   dob_years         21525 non-null  int64  \n",
      " 3   education         21525 non-null  object \n",
      " 4   education_id      21525 non-null  int64  \n",
      " 5   family_status     21525 non-null  object \n",
      " 6   family_status_id  21525 non-null  int64  \n",
      " 7   gender            21525 non-null  object \n",
      " 8   income_type       21525 non-null  object \n",
      " 9   debt              21525 non-null  int64  \n",
      " 10  total_income      19351 non-null  float64\n",
      " 11  purpose           21525 non-null  object \n",
      "dtypes: float64(2), int64(5), object(5)\n",
      "memory usage: 2.0+ MB\n"
     ]
    }
   ],
   "source": [
    "data.info()"
   ]
  },
  {
   "cell_type": "markdown",
   "id": "734abbf4",
   "metadata": {
    "deletable": false,
    "editable": false,
    "id": "333ec665"
   },
   "source": [
    "## Предобработка данных"
   ]
  },
  {
   "cell_type": "markdown",
   "id": "78377373",
   "metadata": {
    "deletable": false,
    "editable": false,
    "id": "02d92d53"
   },
   "source": [
    "### Удаление пропусков"
   ]
  },
  {
   "cell_type": "markdown",
   "id": "5c1cd927",
   "metadata": {
    "deletable": false,
    "editable": false,
    "id": "cd84967c"
   },
   "source": [
    "**Задание 4. Выведите количество пропущенных значений для каждого столбца. Используйте комбинацию двух методов.**"
   ]
  },
  {
   "cell_type": "code",
   "execution_count": 5,
   "id": "2daed941",
   "metadata": {
    "deletable": false,
    "id": "7f9b2309",
    "outputId": "81f4d817-781c-465c-ed15-91ce4446810d"
   },
   "outputs": [
    {
     "data": {
      "text/plain": [
       "children               0\n",
       "days_employed       2174\n",
       "dob_years              0\n",
       "education              0\n",
       "education_id           0\n",
       "family_status          0\n",
       "family_status_id       0\n",
       "gender                 0\n",
       "income_type            0\n",
       "debt                   0\n",
       "total_income        2174\n",
       "purpose                0\n",
       "dtype: int64"
      ]
     },
     "execution_count": 5,
     "metadata": {},
     "output_type": "execute_result"
    }
   ],
   "source": [
    "data.isna().sum()"
   ]
  },
  {
   "cell_type": "markdown",
   "id": "f36ccb12",
   "metadata": {
    "deletable": false,
    "editable": false,
    "id": "db86e27b"
   },
   "source": [
    "**Задание 5. В двух столбцах есть пропущенные значения. Один из них — `days_employed`. Пропуски в этом столбце вы обработаете на следующем этапе. Другой столбец с пропущенными значениями — `total_income` — хранит данные о доходах. На сумму дохода сильнее всего влияет тип занятости, поэтому заполнить пропуски в этом столбце нужно медианным значением по каждому типу из столбца `income_type`. Например, у человека с типом занятости `сотрудник` пропуск в столбце `total_income` должен быть заполнен медианным доходом среди всех записей с тем же типом.**"
   ]
  },
  {
   "cell_type": "code",
   "execution_count": 6,
   "id": "2d158ca5",
   "metadata": {
    "deletable": false,
    "id": "42006a93"
   },
   "outputs": [],
   "source": [
    "for t in data['income_type'].unique():\n",
    "    data.loc[(data['income_type'] == t) & (data['total_income'].isna()), 'total_income'] = \\\n",
    "    data.loc[(data['income_type'] == t), 'total_income'].median()"
   ]
  },
  {
   "cell_type": "markdown",
   "id": "05eed915",
   "metadata": {
    "deletable": false,
    "editable": false,
    "id": "89da5ece"
   },
   "source": [
    "### Обработка аномальных значений"
   ]
  },
  {
   "cell_type": "markdown",
   "id": "1d9334e5",
   "metadata": {
    "deletable": false,
    "editable": false,
    "id": "57964554"
   },
   "source": [
    "**Задание 6. В данных могут встречаться артефакты (аномалии) — значения, которые не отражают действительность и появились по какой-то ошибке. таким артефактом будет отрицательное количество дней трудового стажа в столбце `days_employed`. Для реальных данных это нормально. Обработайте значения в этом столбце: замените все отрицательные значения положительными с помощью метода `abs()`.**"
   ]
  },
  {
   "cell_type": "code",
   "execution_count": 7,
   "id": "fb425e62",
   "metadata": {
    "deletable": false,
    "id": "f6f055bf"
   },
   "outputs": [],
   "source": [
    "data['days_employed'] = data['days_employed'].abs()"
   ]
  },
  {
   "cell_type": "markdown",
   "id": "54f34d3f",
   "metadata": {
    "deletable": false,
    "editable": false,
    "id": "6107dd2f"
   },
   "source": [
    "**Задание 7. Для каждого типа занятости выведите медианное значение трудового стажа `days_employed` в днях.**"
   ]
  },
  {
   "cell_type": "code",
   "execution_count": 8,
   "id": "c77ff463",
   "metadata": {
    "deletable": false,
    "id": "85a5faf6",
    "outputId": "801ef80e-522b-4668-f34e-565af7432bcf"
   },
   "outputs": [
    {
     "data": {
      "text/plain": [
       "income_type\n",
       "безработный        366413.652744\n",
       "в декрете            3296.759962\n",
       "госслужащий          2689.368353\n",
       "компаньон            1547.382223\n",
       "пенсионер          365213.306266\n",
       "предприниматель       520.848083\n",
       "сотрудник            1574.202821\n",
       "студент               578.751554\n",
       "Name: days_employed, dtype: float64"
      ]
     },
     "execution_count": 8,
     "metadata": {},
     "output_type": "execute_result"
    }
   ],
   "source": [
    "data.groupby('income_type')['days_employed'].agg('median')"
   ]
  },
  {
   "cell_type": "markdown",
   "id": "585f2c7f",
   "metadata": {
    "deletable": false,
    "editable": false,
    "id": "38d1a030"
   },
   "source": [
    "У двух типов (безработные и пенсионеры) получатся аномально большие значения. Исправить такие значения сложно, поэтому оставьте их как есть. Тем более этот столбец не понадобится вам для исследования."
   ]
  },
  {
   "cell_type": "markdown",
   "id": "613f2caa",
   "metadata": {
    "deletable": false,
    "editable": false,
    "id": "d8a9f147"
   },
   "source": [
    "**Задание 8. Выведите перечень уникальных значений столбца `children`.**"
   ]
  },
  {
   "cell_type": "code",
   "execution_count": 9,
   "id": "4d7923bd",
   "metadata": {
    "deletable": false,
    "id": "ef5056eb",
    "outputId": "6975b15c-7f95-4697-d16d-a0c79b657b03"
   },
   "outputs": [
    {
     "data": {
      "text/plain": [
       "array([ 1,  0,  3,  2, -1,  4, 20,  5])"
      ]
     },
     "execution_count": 9,
     "metadata": {},
     "output_type": "execute_result"
    }
   ],
   "source": [
    "data['children'].unique()"
   ]
  },
  {
   "cell_type": "markdown",
   "id": "4a6f4117",
   "metadata": {
    "deletable": false,
    "editable": false,
    "id": "40b9ebf2"
   },
   "source": [
    "**Задание 9. В столбце `children` есть два аномальных значения. Удалите строки, в которых встречаются такие аномальные значения из датафрейма `data`.**"
   ]
  },
  {
   "cell_type": "code",
   "execution_count": 10,
   "id": "eb602d37",
   "metadata": {
    "deletable": false,
    "id": "3ff9801d"
   },
   "outputs": [],
   "source": [
    "data = data[(data['children'] != -1) & (data['children'] != 20)]"
   ]
  },
  {
   "cell_type": "markdown",
   "id": "221a05d2",
   "metadata": {
    "deletable": false,
    "editable": false,
    "id": "bbc4d0ce"
   },
   "source": [
    "**Задание 10. Ещё раз выведите перечень уникальных значений столбца `children`, чтобы убедиться, что артефакты удалены.**"
   ]
  },
  {
   "cell_type": "code",
   "execution_count": 11,
   "id": "6023b457",
   "metadata": {
    "deletable": false,
    "id": "ad4fa8b7",
    "outputId": "b2097101-d49d-44d9-901b-32a65c9463d1"
   },
   "outputs": [
    {
     "data": {
      "text/plain": [
       "array([1, 0, 3, 2, 4, 5])"
      ]
     },
     "execution_count": 11,
     "metadata": {},
     "output_type": "execute_result"
    }
   ],
   "source": [
    "data['children'].unique()"
   ]
  },
  {
   "cell_type": "markdown",
   "id": "138e56b1",
   "metadata": {
    "deletable": false,
    "editable": false,
    "id": "75440b63"
   },
   "source": [
    "### Удаление пропусков (продолжение)"
   ]
  },
  {
   "cell_type": "markdown",
   "id": "2aa1374a",
   "metadata": {
    "deletable": false,
    "editable": false,
    "id": "f4ea573f"
   },
   "source": [
    "**Задание 11. Заполните пропуски в столбце `days_employed` медианными значениями по каждого типа занятости `income_type`.**"
   ]
  },
  {
   "cell_type": "code",
   "execution_count": 12,
   "id": "cca549ad",
   "metadata": {
    "deletable": false,
    "id": "af6b1a7e"
   },
   "outputs": [],
   "source": [
    "for t in data['income_type'].unique():\n",
    "    data.loc[(data['income_type'] == t) & (data['days_employed'].isna()), 'days_employed'] = \\\n",
    "    data.loc[(data['income_type'] == t), 'days_employed'].median()"
   ]
  },
  {
   "cell_type": "markdown",
   "id": "7403ae8b",
   "metadata": {
    "deletable": false,
    "editable": false,
    "id": "2753f40d"
   },
   "source": [
    "**Задание 12. Убедитесь, что все пропуски заполнены. Проверьте себя и ещё раз выведите количество пропущенных значений для каждого столбца с помощью двух методов.**"
   ]
  },
  {
   "cell_type": "code",
   "execution_count": 13,
   "id": "6c49fe02",
   "metadata": {
    "deletable": false,
    "id": "55f78bc2",
    "outputId": "8da1e4e1-358e-4e87-98c9-f261bce0a7b2"
   },
   "outputs": [
    {
     "data": {
      "text/plain": [
       "children            0\n",
       "days_employed       0\n",
       "dob_years           0\n",
       "education           0\n",
       "education_id        0\n",
       "family_status       0\n",
       "family_status_id    0\n",
       "gender              0\n",
       "income_type         0\n",
       "debt                0\n",
       "total_income        0\n",
       "purpose             0\n",
       "dtype: int64"
      ]
     },
     "execution_count": 13,
     "metadata": {},
     "output_type": "execute_result"
    }
   ],
   "source": [
    "data.isna().sum()"
   ]
  },
  {
   "cell_type": "markdown",
   "id": "f6618d50",
   "metadata": {
    "deletable": false,
    "editable": false,
    "id": "ddc81e43"
   },
   "source": [
    "### Изменение типов данных"
   ]
  },
  {
   "cell_type": "markdown",
   "id": "71dca862",
   "metadata": {
    "deletable": false,
    "editable": false,
    "id": "42d19d24"
   },
   "source": [
    "**Задание 13. Замените вещественный тип данных в столбце `total_income` на целочисленный с помощью метода `astype()`.**"
   ]
  },
  {
   "cell_type": "code",
   "execution_count": 14,
   "id": "5a50e072",
   "metadata": {
    "deletable": false,
    "id": "920b65ad"
   },
   "outputs": [],
   "source": [
    "data['total_income'] = data['total_income'].astype(int)"
   ]
  },
  {
   "cell_type": "markdown",
   "id": "1cb1ba64",
   "metadata": {
    "deletable": false,
    "editable": false,
    "id": "80c420ba"
   },
   "source": [
    "### Обработка дубликатов"
   ]
  },
  {
   "cell_type": "markdown",
   "id": "be02a642",
   "metadata": {
    "deletable": false,
    "editable": false
   },
   "source": [
    "**Задание 14. Обработайте неявные дубликаты в столбце `education`. В этом столбце есть одни и те же значения, но записанные по-разному: с использованием заглавных и строчных букв. Приведите их к нижнему регистру. Проверьте остальные столбцы.**"
   ]
  },
  {
   "cell_type": "code",
   "execution_count": 15,
   "id": "c3b24184",
   "metadata": {
    "deletable": false
   },
   "outputs": [],
   "source": [
    "data['education'] = data['education'].str.lower()"
   ]
  },
  {
   "cell_type": "markdown",
   "id": "4d066b57",
   "metadata": {
    "deletable": false,
    "editable": false,
    "id": "dc587695"
   },
   "source": [
    "**Задание 15. Выведите на экран количество строк-дубликатов в данных. Если такие строки присутствуют, удалите их.**"
   ]
  },
  {
   "cell_type": "code",
   "execution_count": 16,
   "id": "e30f81dc",
   "metadata": {
    "deletable": false,
    "id": "3ee445e4",
    "outputId": "9684deba-1934-42d1-99e1-cda61740f822"
   },
   "outputs": [
    {
     "data": {
      "text/plain": [
       "71"
      ]
     },
     "execution_count": 16,
     "metadata": {},
     "output_type": "execute_result"
    }
   ],
   "source": [
    "data.duplicated().sum()"
   ]
  },
  {
   "cell_type": "code",
   "execution_count": 17,
   "id": "5f60e5a2",
   "metadata": {
    "deletable": false,
    "id": "8575fe05"
   },
   "outputs": [],
   "source": [
    "data = data.drop_duplicates()"
   ]
  },
  {
   "cell_type": "markdown",
   "id": "7e8648d4",
   "metadata": {
    "deletable": false,
    "editable": false,
    "id": "9904cf55"
   },
   "source": [
    "### Категоризация данных"
   ]
  },
  {
   "cell_type": "markdown",
   "id": "acfb0700",
   "metadata": {
    "deletable": false,
    "editable": false,
    "id": "72fcc8a2"
   },
   "source": [
    "**Задание 16. На основании диапазонов, указанных ниже, создайте в датафрейме `data` столбец `total_income_category` с категориями:**\n",
    "\n",
    "- 0–30000 — `'E'`;\n",
    "- 30001–50000 — `'D'`;\n",
    "- 50001–200000 — `'C'`;\n",
    "- 200001–1000000 — `'B'`;\n",
    "- 1000001 и выше — `'A'`.\n",
    "\n",
    "\n",
    "**Например, кредитополучателю с доходом 25000 нужно назначить категорию `'E'`, а клиенту, получающему 235000, — `'B'`. Используйте собственную функцию с именем `categorize_income()` и метод `apply()`.**"
   ]
  },
  {
   "cell_type": "code",
   "execution_count": 18,
   "id": "e4c82247",
   "metadata": {
    "deletable": false,
    "id": "e1771346"
   },
   "outputs": [],
   "source": [
    "def categorize_income(income):\n",
    "    try:\n",
    "        if 0 <= income <= 30000:\n",
    "            return 'E'\n",
    "        elif 30001 <= income <= 50000:\n",
    "            return 'D'\n",
    "        elif 50001 <= income <= 200000:\n",
    "            return 'C'\n",
    "        elif 200001 <= income <= 1000000:\n",
    "            return 'B'\n",
    "        elif income >= 1000001:\n",
    "            return 'A'\n",
    "    except:\n",
    "        pass"
   ]
  },
  {
   "cell_type": "code",
   "execution_count": 19,
   "id": "a08c6544",
   "metadata": {
    "deletable": false,
    "id": "d5f3586d"
   },
   "outputs": [],
   "source": [
    "data['total_income_category'] = data['total_income'].apply(categorize_income)"
   ]
  },
  {
   "cell_type": "markdown",
   "id": "c565e91d",
   "metadata": {
    "deletable": false,
    "editable": false,
    "id": "dde49b5c"
   },
   "source": [
    "**Задание 17. Выведите на экран перечень уникальных целей взятия кредита из столбца `purpose`.**"
   ]
  },
  {
   "cell_type": "code",
   "execution_count": 20,
   "id": "2a79d254",
   "metadata": {
    "deletable": false,
    "id": "f67ce9b3",
    "outputId": "673c12d9-7d7e-4ae0-9812-c622c89dd244"
   },
   "outputs": [
    {
     "data": {
      "text/plain": [
       "array(['покупка жилья', 'приобретение автомобиля',\n",
       "       'дополнительное образование', 'сыграть свадьбу',\n",
       "       'операции с жильем', 'образование', 'на проведение свадьбы',\n",
       "       'покупка жилья для семьи', 'покупка недвижимости',\n",
       "       'покупка коммерческой недвижимости', 'покупка жилой недвижимости',\n",
       "       'строительство собственной недвижимости', 'недвижимость',\n",
       "       'строительство недвижимости', 'на покупку подержанного автомобиля',\n",
       "       'на покупку своего автомобиля',\n",
       "       'операции с коммерческой недвижимостью',\n",
       "       'строительство жилой недвижимости', 'жилье',\n",
       "       'операции со своей недвижимостью', 'автомобили',\n",
       "       'заняться образованием', 'сделка с подержанным автомобилем',\n",
       "       'получение образования', 'автомобиль', 'свадьба',\n",
       "       'получение дополнительного образования', 'покупка своего жилья',\n",
       "       'операции с недвижимостью', 'получение высшего образования',\n",
       "       'свой автомобиль', 'сделка с автомобилем',\n",
       "       'профильное образование', 'высшее образование',\n",
       "       'покупка жилья для сдачи', 'на покупку автомобиля', 'ремонт жилью',\n",
       "       'заняться высшим образованием'], dtype=object)"
      ]
     },
     "execution_count": 20,
     "metadata": {},
     "output_type": "execute_result"
    }
   ],
   "source": [
    "data['purpose'].unique()"
   ]
  },
  {
   "cell_type": "markdown",
   "id": "ab8371b5",
   "metadata": {
    "deletable": false,
    "editable": false,
    "id": "85d0aef0"
   },
   "source": [
    "**Задание 18. Создайте функцию, которая на основании данных из столбца `purpose` сформирует новый столбец `purpose_category`, в который войдут следующие категории:**\n",
    "\n",
    "- `'операции с автомобилем'`,\n",
    "- `'операции с недвижимостью'`,\n",
    "- `'проведение свадьбы'`,\n",
    "- `'получение образования'`.\n",
    "\n",
    "**Например, если в столбце `purpose` находится подстрока `'на покупку автомобиля'`, то в столбце `purpose_category` должна появиться строка `'операции с автомобилем'`.**\n",
    "\n",
    "**Используйте собственную функцию с именем `categorize_purpose()` и метод `apply()`. Изучите данные в столбце `purpose` и определите, какие подстроки помогут вам правильно определить категорию.**"
   ]
  },
  {
   "cell_type": "code",
   "execution_count": 21,
   "id": "6d9b56d1",
   "metadata": {
    "deletable": false,
    "id": "e149fab4"
   },
   "outputs": [],
   "source": [
    "def categorize_purpose(row):\n",
    "    try:\n",
    "        if 'автом' in row:\n",
    "            return 'операции с автомобилем'\n",
    "        elif 'жил' in row or 'недвиж' in row:\n",
    "            return 'операции с недвижимостью'\n",
    "        elif 'свад' in row:\n",
    "            return 'проведение свадьбы'\n",
    "        elif 'образов' in row:\n",
    "            return 'получение образования'\n",
    "    except:\n",
    "        return 'нет категории'"
   ]
  },
  {
   "cell_type": "code",
   "execution_count": 22,
   "id": "2dafca58",
   "metadata": {
    "deletable": false,
    "id": "bf36e69b"
   },
   "outputs": [],
   "source": [
    "data['purpose_category'] = data['purpose'].apply(categorize_purpose)"
   ]
  },
  {
   "cell_type": "markdown",
   "id": "4ecffdec",
   "metadata": {
    "deletable": false,
    "editable": false,
    "id": "09b242bf"
   },
   "source": [
    "### Шаг 3. Исследуйте данные и ответьте на вопросы"
   ]
  },
  {
   "cell_type": "markdown",
   "id": "95cb1d2d",
   "metadata": {
    "deletable": false,
    "editable": false,
    "id": "c5d66278"
   },
   "source": [
    "#### 3.1 Есть ли зависимость между количеством детей и возвратом кредита в срок?"
   ]
  },
  {
   "cell_type": "code",
   "execution_count": 32,
   "id": "0b95a435",
   "metadata": {
    "deletable": false,
    "id": "2cacfc4a"
   },
   "outputs": [
    {
     "name": "stdout",
     "output_type": "stream",
     "text": [
      "           sum  count\n",
      "          debt   debt\n",
      "children             \n",
      "0         1063  14091\n",
      "1          444   4808\n",
      "2          194   2052\n",
      "3           27    330\n",
      "4            4     41\n",
      "5            0      9\n",
      "Конверсия для заемщиков, имеющих одного ребенка 9.23%\n",
      "Конверсия для заемщиков, имеющих два и более детей 9.25%\n",
      "Конверсия для заемщиков, не имеющих детей 7.54%\n"
     ]
    }
   ],
   "source": [
    "data_pivot = data.pivot_table(index = 'children', values = 'debt',aggfunc = ['sum','count'])\n",
    "print(data_pivot)\n",
    "\n",
    "\n",
    "children_one = data[data['children'] ==1]['children'].count() #количество заемщиков, имеющих одного ребенка\n",
    "children_one_conv = data[(data['debt'] ==1) & (data['children']== 1)].count()/ children_one #конверсия для заемщиков, имеющих 1 ребенка\n",
    "children_one_conv = children_one_conv[0]\n",
    "children_two_more =  data[data['children'] > 1]['children'].count()#количество заемщиков, имеющих более одного ребенка\n",
    "children_two_more_conv = data[(data['debt'] ==1) & (data['children'] > 1)].count()/children_two_more #конверсия для заемщиков, имеющих 2 и более детей\n",
    "children_two_more_conv = children_two_more_conv[0]\n",
    "children_zero = data[data['children'] == 0]['children'].count() #количество заемщиков, не имеющих детей\n",
    "children_zero_conv = data[(data['debt'] == 1) & (data['children'] == 0)].count()/children_zero#конверсия для заемщиковБ не имеющих детей                         \n",
    "children_zero_conv = children_zero_conv[0]\n",
    "print(f'Конверсия для заемщиков, имеющих одного ребенка {children_one_conv:.2%}')\n",
    "print(f'Конверсия для заемщиков, имеющих два и более детей {children_two_more_conv:.2%}')\n",
    "print(f'Конверсия для заемщиков, не имеющих детей {children_zero_conv:.2%}')"
   ]
  },
  {
   "cell_type": "markdown",
   "id": "f2201feb",
   "metadata": {
    "deletable": false,
    "id": "3a6b99ec"
   },
   "source": [
    "**Вывод:**Да, зависимость есть. Из полученных результатов видно, что заемщики, имеющие детей чаще не возвращают кредиты, чем заемщики, не имеющие детей. При этом, количество детей существенно не влияет на возврат кредитов."
   ]
  },
  {
   "cell_type": "markdown",
   "id": "eda006c1",
   "metadata": {
    "deletable": false,
    "editable": false,
    "id": "97be82ca"
   },
   "source": [
    "#### 3.2 Есть ли зависимость между семейным положением и возвратом кредита в срок?"
   ]
  },
  {
   "cell_type": "code",
   "execution_count": 24,
   "id": "f0347fca",
   "metadata": {
    "deletable": false,
    "id": "dc3f7ee8"
   },
   "outputs": [
    {
     "name": "stdout",
     "output_type": "stream",
     "text": [
      "                        debt  family_status_conv\n",
      "family_status                                   \n",
      "Не женат / не замужем   2796            0.097639\n",
      "в разводе               1189            0.070648\n",
      "вдовец / вдова           951            0.066246\n",
      "гражданский брак        4134            0.093130\n",
      "женат / замужем        12261            0.075606\n"
     ]
    }
   ],
   "source": [
    "data_family_group = data.groupby(['family_status']).agg({'debt':'count'})\n",
    "# выведем количество заемщиков имеющих обязательства группированных по семейному положению.\n",
    "\n",
    "\n",
    "data_family_group['family_status_conv'] = data[data['debt'] ==1].groupby('family_status')['debt'].count() / data.groupby('family_status')['debt'].count() # находим конверсию по каждой группе заемщиков исходя из семейного положения\n",
    "print(data_family_group)"
   ]
  },
  {
   "cell_type": "markdown",
   "id": "af767a8d",
   "metadata": {
    "deletable": false,
    "id": "1cef7837"
   },
   "source": [
    "**Вывод:** Да зависимость есть.Заемщики, находящиеся в браке,лучше исполняют обязательства по кредитам, однако овдовевшие лучше исполняют сови обязательства, чем заемщики в браке."
   ]
  },
  {
   "cell_type": "markdown",
   "id": "51ca3845",
   "metadata": {
    "deletable": false,
    "editable": false,
    "id": "1e8b2fca"
   },
   "source": [
    "#### 3.3 Есть ли зависимость между уровнем дохода и возвратом кредита в срок?"
   ]
  },
  {
   "cell_type": "code",
   "execution_count": 66,
   "id": "9c117a69",
   "metadata": {
    "deletable": false,
    "id": "cd7e3720"
   },
   "outputs": [
    {
     "name": "stdout",
     "output_type": "stream",
     "text": [
      "                       debt       \n",
      "                        sum  count\n",
      "total_income_category             \n",
      "A                         2     25\n",
      "B                       354   5014\n",
      "C                      1353  15921\n",
      "D                        21    349\n",
      "E                         2     22\n",
      "total_income_category\n",
      "A    0.080000\n",
      "B    0.070602\n",
      "C    0.084982\n",
      "D    0.060172\n",
      "E    0.090909\n",
      "dtype: float64\n"
     ]
    }
   ],
   "source": [
    "\n",
    "\n",
    "total_income_grouped = data.groupby('total_income_category').agg({'debt':['sum','count']}) #находим сумму и количество просрочек в разрезе группировки по категориям дохода\n",
    "total_income_quality = total_income_grouped['debt']['sum']/total_income_grouped['debt']['count'] #считаем долю просрочек по каждой категории дохода\n",
    "\n",
    "\n",
    "print(total_income_grouped)\n",
    "print(total_income_quality)\n",
    "    \n",
    "    \n"
   ]
  },
  {
   "cell_type": "code",
   "execution_count": null,
   "id": "cd02fcc3",
   "metadata": {},
   "outputs": [],
   "source": [
    "Зависимость есть, самая большая доля просрочек находится в категории дохода E (самый низкий доход),однако в категории заемщиков, имеющих самые высокие доходы доля просрочек также одна из самых высоких. Меньще всего просрочек у Земщиков, относящихся к категориям D и В - заемщики с доходом ниже среднего и высоким доходом."
   ]
  },
  {
   "cell_type": "markdown",
   "id": "7cd53f3b",
   "metadata": {
    "deletable": false,
    "id": "e8593def"
   },
   "source": [
    "**Вывод:Зависимость между уровнем дохода и возвратом кредита есть. Наибольшее количество просрочек по кредитам выявлено у Заемщиков с доходом, относящимся к категории E - (столбец total_income_category). К категрии E относится самый низкий доход в диапозоне от 0 до 30 тыс., также большая доля просрочек отмечена и по кредитам Заемщиков с доходом, относящимся к категории С, диапазон от 50 до 200 тыс. Не самая низкая доля просрочек присутствует и у Заемщиков, принадлежащих к категории А - самому высокому доходу. Лучше всего исполняют обязательства по кредитам Заемщкики,имеющие доход в диапозоне от 30 до 50 тыс. \n"
   ]
  },
  {
   "cell_type": "markdown",
   "id": "6cde81c9",
   "metadata": {
    "deletable": false,
    "editable": false,
    "id": "99ecbd1f"
   },
   "source": [
    "#### 3.4 Как разные цели кредита влияют на его возврат в срок?"
   ]
  },
  {
   "cell_type": "code",
   "execution_count": 73,
   "id": "3e2940a6",
   "metadata": {
    "deletable": false,
    "id": "2b687290"
   },
   "outputs": [
    {
     "name": "stdout",
     "output_type": "stream",
     "text": [
      "                         debt       \n",
      "                          sum  count\n",
      "purpose_category                    \n",
      "операции с автомобилем    400   4279\n",
      "операции с недвижимостью  780  10751\n",
      "получение образования     369   3988\n",
      "проведение свадьбы        183   2313\n",
      "0.09347978499649451\n",
      "purpose_category\n",
      "операции с автомобилем      0.093480\n",
      "операции с недвижимостью    0.072551\n",
      "получение образования       0.092528\n",
      "проведение свадьбы          0.079118\n",
      "dtype: float64\n"
     ]
    }
   ],
   "source": [
    "purpose_grouped = data.groupby('purpose_category').agg({'debt':['sum','count']}) # находим сумму и количество просрочек в разрезе столбца purpose\n",
    "purpose_conv = purpose_grouped['debt']['sum']/purpose_grouped['debt']['count'] # находим долю просрочек в общем количестве выданных кредитов сгруппированных по столбцу purpose \n",
    "\n",
    "print(purpose_grouped)\n",
    "print(purpose_conv.max())\n",
    "print(purpose_conv)\n"
   ]
  },
  {
   "cell_type": "markdown",
   "id": "e6f2a3da",
   "metadata": {
    "deletable": false,
    "id": "b4bb2ce6"
   },
   "source": [
    "**Вывод:** Из полученных данных видно, что наибольшая доля просрочек приходится на кредиты, выданные на операции с авто и получение образования. Минимальное количество просрочек приходится на ипотечные кредиты. Возможно это связано с тем, что ипотечный кредит предоставляется на более длительный срок."
   ]
  },
  {
   "cell_type": "markdown",
   "id": "ec79444b",
   "metadata": {
    "deletable": false,
    "editable": false,
    "id": "09c3ac4c"
   },
   "source": [
    "#### 3.5 Приведите возможные причины появления пропусков в исходных данных."
   ]
  },
  {
   "cell_type": "markdown",
   "id": "1ef8ea6e",
   "metadata": {
    "deletable": false,
    "id": "9da2ceda"
   },
   "source": [
    "*Ответ:* Среди причин наличия пропусков могут быть: 1. Отсутсвие какой-либо информации (посетите не оставляют свой e_mail адресс при регистрации на сайте или другую информацию) 2.технические проблемы (некорректный сбор данных) 3."
   ]
  },
  {
   "cell_type": "markdown",
   "id": "90c0a081",
   "metadata": {
    "deletable": false,
    "editable": false,
    "id": "7b0487d6"
   },
   "source": [
    "#### 3.6 Объясните, почему заполнить пропуски медианным значением — лучшее решение для количественных переменных."
   ]
  },
  {
   "cell_type": "markdown",
   "id": "0f18ce2d",
   "metadata": {
    "deletable": false,
    "id": "7ecf2b8e"
   },
   "source": [
    "*Ответ:* Когда мы анализируем выборку, состоящую из большого количества данных, мы не можем с точностью утверждать,что в ней нет значений ярко отличающихся от остальныхБ то есть точечных значений, которые нарушают монотонность выборки. Если мы будем принебригать этим фактом и будем искать среднее значение то результат получится некорректным и искаженным. Медианное значение позволяет учесть резкие отклонения в выборке и является более объективной характеристикой."
   ]
  },
  {
   "cell_type": "markdown",
   "id": "4cd13fb2",
   "metadata": {
    "deletable": false,
    "editable": false,
    "id": "6db5255a"
   },
   "source": [
    "### Шаг 4: общий вывод."
   ]
  },
  {
   "cell_type": "markdown",
   "id": "c0361fca",
   "metadata": {
    "deletable": false,
    "id": "bad65432"
   },
   "source": [
    "Из проделанного анализа можно сформировать портрет наиболее благоприятного заемщика (при анализе учитывались: количество детей, семейный статус, уровень дохода и цели приобретения кредита):\n",
    "- отсутсвие детей\n",
    "- состоящий в разводе или в браке, а также вдовы /вдовцы\n",
    "- уровень дохода ниже среднего\n",
    "- вид заимствования - ипотечное кредитование"
   ]
  }
 ],
 "metadata": {
  "ExecuteTimeLog": [
   {
    "duration": 675,
    "start_time": "2022-11-08T19:23:15.761Z"
   },
   {
    "duration": 23,
    "start_time": "2022-11-08T19:23:20.578Z"
   },
   {
    "duration": 70,
    "start_time": "2022-11-08T19:23:23.385Z"
   },
   {
    "duration": 16,
    "start_time": "2022-11-08T19:23:30.706Z"
   },
   {
    "duration": 15,
    "start_time": "2022-11-08T19:23:48.859Z"
   },
   {
    "duration": 11,
    "start_time": "2022-11-08T19:24:08.695Z"
   },
   {
    "duration": 35,
    "start_time": "2022-11-08T19:24:36.551Z"
   },
   {
    "duration": 36,
    "start_time": "2022-11-08T19:24:38.082Z"
   },
   {
    "duration": 4,
    "start_time": "2022-11-08T19:24:59.794Z"
   },
   {
    "duration": 9,
    "start_time": "2022-11-08T19:25:15.158Z"
   },
   {
    "duration": 4,
    "start_time": "2022-11-08T19:30:10.783Z"
   },
   {
    "duration": 7,
    "start_time": "2022-11-08T19:30:13.651Z"
   },
   {
    "duration": 5,
    "start_time": "2022-11-08T19:30:16.006Z"
   },
   {
    "duration": 34,
    "start_time": "2022-11-08T19:30:18.882Z"
   },
   {
    "duration": 9,
    "start_time": "2022-11-08T19:30:53.185Z"
   },
   {
    "duration": 4,
    "start_time": "2022-11-08T19:30:56.806Z"
   },
   {
    "duration": 11,
    "start_time": "2022-11-08T19:31:00.038Z"
   },
   {
    "duration": 20,
    "start_time": "2022-11-08T19:31:03.181Z"
   },
   {
    "duration": 4,
    "start_time": "2022-11-08T19:31:10.903Z"
   },
   {
    "duration": 11,
    "start_time": "2022-11-08T19:31:16.835Z"
   },
   {
    "duration": 6,
    "start_time": "2022-11-08T19:31:19.395Z"
   },
   {
    "duration": 3,
    "start_time": "2022-11-08T19:31:21.865Z"
   },
   {
    "duration": 9,
    "start_time": "2022-11-08T19:31:23.692Z"
   },
   {
    "duration": 16,
    "start_time": "2022-11-08T19:51:24.447Z"
   },
   {
    "duration": 1109,
    "start_time": "2022-11-08T20:05:02.482Z"
   },
   {
    "duration": 5,
    "start_time": "2022-11-08T20:05:23.825Z"
   },
   {
    "duration": 885,
    "start_time": "2022-11-08T20:15:18.392Z"
   },
   {
    "duration": 14,
    "start_time": "2022-11-08T20:15:37.632Z"
   },
   {
    "duration": 7,
    "start_time": "2022-11-08T20:18:25.556Z"
   },
   {
    "duration": 7,
    "start_time": "2022-11-08T20:18:45.220Z"
   },
   {
    "duration": 23,
    "start_time": "2022-11-08T20:48:33.033Z"
   },
   {
    "duration": 22,
    "start_time": "2022-11-08T20:49:03.265Z"
   },
   {
    "duration": 23,
    "start_time": "2022-11-08T20:49:19.115Z"
   },
   {
    "duration": 27,
    "start_time": "2022-11-08T20:52:16.066Z"
   },
   {
    "duration": 28,
    "start_time": "2022-11-08T20:58:12.728Z"
   },
   {
    "duration": 24,
    "start_time": "2022-11-08T21:01:00.570Z"
   },
   {
    "duration": 28,
    "start_time": "2022-11-08T21:01:08.974Z"
   },
   {
    "duration": 25,
    "start_time": "2022-11-08T21:01:27.699Z"
   },
   {
    "duration": 5,
    "start_time": "2022-11-08T21:24:19.154Z"
   },
   {
    "duration": 5,
    "start_time": "2022-11-08T21:30:53.299Z"
   },
   {
    "duration": 46,
    "start_time": "2022-11-08T21:32:17.581Z"
   },
   {
    "duration": 45,
    "start_time": "2022-11-08T21:32:42.767Z"
   },
   {
    "duration": 3,
    "start_time": "2022-11-08T21:32:54.337Z"
   },
   {
    "duration": 8,
    "start_time": "2022-11-08T21:33:02.853Z"
   },
   {
    "duration": 9,
    "start_time": "2022-11-08T21:33:23.621Z"
   },
   {
    "duration": 10,
    "start_time": "2022-11-08T21:35:51.588Z"
   },
   {
    "duration": 11,
    "start_time": "2022-11-08T21:38:11.470Z"
   },
   {
    "duration": 42,
    "start_time": "2022-11-08T21:46:28.729Z"
   },
   {
    "duration": 11,
    "start_time": "2022-11-08T21:47:57.410Z"
   },
   {
    "duration": 761,
    "start_time": "2022-11-08T21:58:11.400Z"
   },
   {
    "duration": 511,
    "start_time": "2022-11-08T21:58:31.576Z"
   },
   {
    "duration": 12,
    "start_time": "2022-11-08T21:59:09.668Z"
   },
   {
    "duration": 68,
    "start_time": "2022-11-08T21:59:27.285Z"
   },
   {
    "duration": 16,
    "start_time": "2022-11-08T21:59:27.355Z"
   },
   {
    "duration": 18,
    "start_time": "2022-11-08T21:59:27.373Z"
   },
   {
    "duration": 9,
    "start_time": "2022-11-08T21:59:27.393Z"
   },
   {
    "duration": 54,
    "start_time": "2022-11-08T21:59:27.404Z"
   },
   {
    "duration": 3,
    "start_time": "2022-11-08T21:59:27.460Z"
   },
   {
    "duration": 12,
    "start_time": "2022-11-08T21:59:27.465Z"
   },
   {
    "duration": 4,
    "start_time": "2022-11-08T21:59:27.479Z"
   },
   {
    "duration": 10,
    "start_time": "2022-11-08T21:59:27.485Z"
   },
   {
    "duration": 6,
    "start_time": "2022-11-08T21:59:27.497Z"
   },
   {
    "duration": 33,
    "start_time": "2022-11-08T21:59:27.527Z"
   },
   {
    "duration": 10,
    "start_time": "2022-11-08T21:59:27.561Z"
   },
   {
    "duration": 4,
    "start_time": "2022-11-08T21:59:27.573Z"
   },
   {
    "duration": 13,
    "start_time": "2022-11-08T21:59:27.579Z"
   },
   {
    "duration": 48,
    "start_time": "2022-11-08T21:59:27.594Z"
   },
   {
    "duration": 17,
    "start_time": "2022-11-08T21:59:27.644Z"
   },
   {
    "duration": 3,
    "start_time": "2022-11-08T21:59:27.663Z"
   },
   {
    "duration": 13,
    "start_time": "2022-11-08T21:59:27.668Z"
   },
   {
    "duration": 6,
    "start_time": "2022-11-08T21:59:27.682Z"
   },
   {
    "duration": 4,
    "start_time": "2022-11-08T21:59:27.689Z"
   },
   {
    "duration": 37,
    "start_time": "2022-11-08T21:59:27.694Z"
   },
   {
    "duration": 23,
    "start_time": "2022-11-08T21:59:27.733Z"
   },
   {
    "duration": 21,
    "start_time": "2022-11-08T21:59:27.758Z"
   },
   {
    "duration": 2,
    "start_time": "2022-11-08T21:59:27.781Z"
   },
   {
    "duration": 14,
    "start_time": "2022-11-08T21:59:27.784Z"
   },
   {
    "duration": 19,
    "start_time": "2022-11-08T21:59:37.417Z"
   },
   {
    "duration": 43,
    "start_time": "2022-11-08T22:20:49.236Z"
   },
   {
    "duration": 46,
    "start_time": "2022-11-08T22:21:18.329Z"
   },
   {
    "duration": 70,
    "start_time": "2022-11-08T22:21:57.642Z"
   },
   {
    "duration": 16,
    "start_time": "2022-11-08T22:21:57.714Z"
   },
   {
    "duration": 16,
    "start_time": "2022-11-08T22:21:57.731Z"
   },
   {
    "duration": 9,
    "start_time": "2022-11-08T22:21:57.749Z"
   },
   {
    "duration": 42,
    "start_time": "2022-11-08T22:21:57.759Z"
   },
   {
    "duration": 4,
    "start_time": "2022-11-08T22:21:57.803Z"
   },
   {
    "duration": 9,
    "start_time": "2022-11-08T22:21:57.827Z"
   },
   {
    "duration": 4,
    "start_time": "2022-11-08T22:21:57.838Z"
   },
   {
    "duration": 9,
    "start_time": "2022-11-08T22:21:57.844Z"
   },
   {
    "duration": 5,
    "start_time": "2022-11-08T22:21:57.857Z"
   },
   {
    "duration": 36,
    "start_time": "2022-11-08T22:21:57.864Z"
   },
   {
    "duration": 32,
    "start_time": "2022-11-08T22:21:57.902Z"
   },
   {
    "duration": 4,
    "start_time": "2022-11-08T22:21:57.935Z"
   },
   {
    "duration": 14,
    "start_time": "2022-11-08T22:21:57.941Z"
   },
   {
    "duration": 21,
    "start_time": "2022-11-08T22:21:57.956Z"
   },
   {
    "duration": 19,
    "start_time": "2022-11-08T22:21:57.978Z"
   },
   {
    "duration": 30,
    "start_time": "2022-11-08T22:21:57.998Z"
   },
   {
    "duration": 13,
    "start_time": "2022-11-08T22:21:58.030Z"
   },
   {
    "duration": 9,
    "start_time": "2022-11-08T22:21:58.045Z"
   },
   {
    "duration": 8,
    "start_time": "2022-11-08T22:21:58.056Z"
   },
   {
    "duration": 16,
    "start_time": "2022-11-08T22:21:58.066Z"
   },
   {
    "duration": 28,
    "start_time": "2022-11-08T22:21:58.084Z"
   },
   {
    "duration": 23,
    "start_time": "2022-11-08T22:21:58.126Z"
   },
   {
    "duration": 52,
    "start_time": "2022-11-08T22:21:58.150Z"
   },
   {
    "duration": 0,
    "start_time": "2022-11-08T22:21:58.204Z"
   },
   {
    "duration": 44,
    "start_time": "2022-11-08T22:22:13.102Z"
   },
   {
    "duration": 43,
    "start_time": "2022-11-08T22:22:47.203Z"
   },
   {
    "duration": 5,
    "start_time": "2022-11-08T22:23:07.990Z"
   },
   {
    "duration": 11,
    "start_time": "2022-11-08T22:26:17.532Z"
   },
   {
    "duration": 4,
    "start_time": "2022-11-08T22:26:27.376Z"
   },
   {
    "duration": 7,
    "start_time": "2022-11-08T22:26:46.205Z"
   },
   {
    "duration": 8,
    "start_time": "2022-11-08T22:33:24.751Z"
   },
   {
    "duration": 7,
    "start_time": "2022-11-08T22:33:48.405Z"
   },
   {
    "duration": 6,
    "start_time": "2022-11-08T22:35:16.162Z"
   },
   {
    "duration": 7,
    "start_time": "2022-11-08T22:35:56.098Z"
   },
   {
    "duration": 6,
    "start_time": "2022-11-08T22:36:04.808Z"
   },
   {
    "duration": 11,
    "start_time": "2022-11-08T22:38:50.691Z"
   },
   {
    "duration": 10,
    "start_time": "2022-11-08T22:39:04.825Z"
   },
   {
    "duration": 14,
    "start_time": "2022-11-08T22:41:27.469Z"
   },
   {
    "duration": 24,
    "start_time": "2022-11-08T22:41:43.956Z"
   },
   {
    "duration": 49,
    "start_time": "2022-11-08T22:42:44.269Z"
   },
   {
    "duration": 11,
    "start_time": "2022-11-08T22:42:52.971Z"
   },
   {
    "duration": 26,
    "start_time": "2022-11-08T22:47:55.054Z"
   },
   {
    "duration": 16,
    "start_time": "2022-11-08T22:48:21.476Z"
   },
   {
    "duration": 14,
    "start_time": "2022-11-08T22:48:43.388Z"
   },
   {
    "duration": 49,
    "start_time": "2022-11-08T22:49:52.410Z"
   },
   {
    "duration": 45,
    "start_time": "2022-11-08T22:49:53.741Z"
   },
   {
    "duration": 16,
    "start_time": "2022-11-08T22:52:08.398Z"
   },
   {
    "duration": 881,
    "start_time": "2022-11-08T22:53:41.585Z"
   },
   {
    "duration": 15,
    "start_time": "2022-11-08T22:54:20.916Z"
   },
   {
    "duration": 11,
    "start_time": "2022-11-08T22:55:06.269Z"
   },
   {
    "duration": 73,
    "start_time": "2022-11-08T22:55:18.151Z"
   },
   {
    "duration": 22,
    "start_time": "2022-11-08T22:55:18.226Z"
   },
   {
    "duration": 25,
    "start_time": "2022-11-08T22:55:18.250Z"
   },
   {
    "duration": 22,
    "start_time": "2022-11-08T22:55:18.278Z"
   },
   {
    "duration": 48,
    "start_time": "2022-11-08T22:55:18.303Z"
   },
   {
    "duration": 4,
    "start_time": "2022-11-08T22:55:18.352Z"
   },
   {
    "duration": 10,
    "start_time": "2022-11-08T22:55:18.358Z"
   },
   {
    "duration": 4,
    "start_time": "2022-11-08T22:55:18.370Z"
   },
   {
    "duration": 9,
    "start_time": "2022-11-08T22:55:18.375Z"
   },
   {
    "duration": 7,
    "start_time": "2022-11-08T22:55:18.386Z"
   },
   {
    "duration": 59,
    "start_time": "2022-11-08T22:55:18.394Z"
   },
   {
    "duration": 9,
    "start_time": "2022-11-08T22:55:18.455Z"
   },
   {
    "duration": 9,
    "start_time": "2022-11-08T22:55:18.466Z"
   },
   {
    "duration": 15,
    "start_time": "2022-11-08T22:55:18.477Z"
   },
   {
    "duration": 23,
    "start_time": "2022-11-08T22:55:18.493Z"
   },
   {
    "duration": 18,
    "start_time": "2022-11-08T22:55:18.526Z"
   },
   {
    "duration": 4,
    "start_time": "2022-11-08T22:55:18.546Z"
   },
   {
    "duration": 12,
    "start_time": "2022-11-08T22:55:18.552Z"
   },
   {
    "duration": 7,
    "start_time": "2022-11-08T22:55:18.566Z"
   },
   {
    "duration": 4,
    "start_time": "2022-11-08T22:55:18.574Z"
   },
   {
    "duration": 11,
    "start_time": "2022-11-08T22:55:18.579Z"
   },
   {
    "duration": 51,
    "start_time": "2022-11-08T22:55:18.591Z"
   },
   {
    "duration": 10,
    "start_time": "2022-11-08T22:55:18.644Z"
   },
   {
    "duration": 12,
    "start_time": "2022-11-08T22:55:18.655Z"
   },
   {
    "duration": 2,
    "start_time": "2022-11-08T22:55:18.669Z"
   },
   {
    "duration": 42,
    "start_time": "2022-11-08T23:21:57.441Z"
   },
   {
    "duration": 48,
    "start_time": "2022-11-08T23:22:20.177Z"
   },
   {
    "duration": 67,
    "start_time": "2022-11-08T23:23:01.545Z"
   },
   {
    "duration": 18,
    "start_time": "2022-11-08T23:23:10.762Z"
   },
   {
    "duration": 751,
    "start_time": "2022-11-08T23:26:09.149Z"
   },
   {
    "duration": 15,
    "start_time": "2022-11-08T23:27:06.501Z"
   },
   {
    "duration": 30,
    "start_time": "2022-11-08T23:28:05.367Z"
   },
   {
    "duration": 16,
    "start_time": "2022-11-08T23:28:53.393Z"
   },
   {
    "duration": 15,
    "start_time": "2022-11-08T23:30:07.236Z"
   },
   {
    "duration": 17,
    "start_time": "2022-11-08T23:31:15.218Z"
   },
   {
    "duration": 13,
    "start_time": "2022-11-08T23:34:31.214Z"
   },
   {
    "duration": 45,
    "start_time": "2022-11-08T23:35:44.534Z"
   },
   {
    "duration": 15,
    "start_time": "2022-11-08T23:35:53.647Z"
   },
   {
    "duration": 15,
    "start_time": "2022-11-08T23:36:24.366Z"
   },
   {
    "duration": 16,
    "start_time": "2022-11-08T23:36:31.022Z"
   },
   {
    "duration": 56,
    "start_time": "2022-11-09T19:14:02.321Z"
   },
   {
    "duration": 678,
    "start_time": "2022-11-09T19:14:13.141Z"
   },
   {
    "duration": 21,
    "start_time": "2022-11-09T19:14:13.820Z"
   },
   {
    "duration": 14,
    "start_time": "2022-11-09T19:14:13.843Z"
   },
   {
    "duration": 13,
    "start_time": "2022-11-09T19:14:13.859Z"
   },
   {
    "duration": 34,
    "start_time": "2022-11-09T19:14:13.873Z"
   },
   {
    "duration": 3,
    "start_time": "2022-11-09T19:14:13.908Z"
   },
   {
    "duration": 16,
    "start_time": "2022-11-09T19:14:13.912Z"
   },
   {
    "duration": 5,
    "start_time": "2022-11-09T19:14:13.930Z"
   },
   {
    "duration": 9,
    "start_time": "2022-11-09T19:14:13.937Z"
   },
   {
    "duration": 20,
    "start_time": "2022-11-09T19:14:13.948Z"
   },
   {
    "duration": 29,
    "start_time": "2022-11-09T19:14:13.969Z"
   },
   {
    "duration": 8,
    "start_time": "2022-11-09T19:14:14.000Z"
   },
   {
    "duration": 16,
    "start_time": "2022-11-09T19:14:14.009Z"
   },
   {
    "duration": 26,
    "start_time": "2022-11-09T19:14:14.026Z"
   },
   {
    "duration": 28,
    "start_time": "2022-11-09T19:14:14.054Z"
   },
   {
    "duration": 17,
    "start_time": "2022-11-09T19:14:14.083Z"
   },
   {
    "duration": 3,
    "start_time": "2022-11-09T19:14:14.102Z"
   },
   {
    "duration": 20,
    "start_time": "2022-11-09T19:14:14.107Z"
   },
   {
    "duration": 12,
    "start_time": "2022-11-09T19:14:14.128Z"
   },
   {
    "duration": 26,
    "start_time": "2022-11-09T19:14:14.142Z"
   },
   {
    "duration": 21,
    "start_time": "2022-11-09T19:14:14.169Z"
   },
   {
    "duration": 34,
    "start_time": "2022-11-09T19:14:14.192Z"
   },
   {
    "duration": 12,
    "start_time": "2022-11-09T19:14:14.228Z"
   },
   {
    "duration": 684,
    "start_time": "2022-11-09T19:14:14.242Z"
   },
   {
    "duration": 0,
    "start_time": "2022-11-09T19:14:14.928Z"
   },
   {
    "duration": 14,
    "start_time": "2022-11-09T19:14:27.984Z"
   },
   {
    "duration": 21,
    "start_time": "2022-11-09T19:16:19.090Z"
   },
   {
    "duration": 16,
    "start_time": "2022-11-09T19:26:28.698Z"
   },
   {
    "duration": 39,
    "start_time": "2022-11-09T19:50:13.139Z"
   },
   {
    "duration": 37,
    "start_time": "2022-11-09T19:50:57.208Z"
   },
   {
    "duration": 35,
    "start_time": "2022-11-09T19:51:37.678Z"
   },
   {
    "duration": 30,
    "start_time": "2022-11-09T20:05:07.273Z"
   },
   {
    "duration": 11,
    "start_time": "2022-11-09T20:16:14.694Z"
   },
   {
    "duration": 10,
    "start_time": "2022-11-09T20:16:44.564Z"
   },
   {
    "duration": 11,
    "start_time": "2022-11-09T20:17:03.645Z"
   },
   {
    "duration": 12,
    "start_time": "2022-11-09T20:17:45.055Z"
   },
   {
    "duration": 34,
    "start_time": "2022-11-09T20:18:03.710Z"
   },
   {
    "duration": 22,
    "start_time": "2022-11-09T20:19:30.325Z"
   },
   {
    "duration": 24,
    "start_time": "2022-11-09T20:23:23.326Z"
   },
   {
    "duration": 792,
    "start_time": "2022-11-09T20:26:50.918Z"
   },
   {
    "duration": 26,
    "start_time": "2022-11-09T20:27:26.006Z"
   },
   {
    "duration": 784,
    "start_time": "2022-11-09T20:31:36.460Z"
   },
   {
    "duration": 748,
    "start_time": "2022-11-09T20:32:15.315Z"
   },
   {
    "duration": 30,
    "start_time": "2022-11-09T20:32:31.656Z"
   },
   {
    "duration": 39,
    "start_time": "2022-11-09T20:37:00.116Z"
   },
   {
    "duration": 32,
    "start_time": "2022-11-09T20:37:38.805Z"
   },
   {
    "duration": 52,
    "start_time": "2022-11-09T20:38:45.187Z"
   },
   {
    "duration": 34,
    "start_time": "2022-11-09T20:42:21.359Z"
   },
   {
    "duration": 32,
    "start_time": "2022-11-09T20:49:20.549Z"
   },
   {
    "duration": 28,
    "start_time": "2022-11-09T20:49:31.416Z"
   },
   {
    "duration": 29,
    "start_time": "2022-11-09T20:49:56.457Z"
   },
   {
    "duration": 21,
    "start_time": "2022-11-09T20:51:05.180Z"
   },
   {
    "duration": 27,
    "start_time": "2022-11-09T20:52:46.867Z"
   },
   {
    "duration": 12,
    "start_time": "2022-11-09T20:54:17.261Z"
   },
   {
    "duration": 103,
    "start_time": "2022-11-09T20:56:40.640Z"
   },
   {
    "duration": 101,
    "start_time": "2022-11-09T20:57:00.138Z"
   },
   {
    "duration": 11,
    "start_time": "2022-11-09T20:59:17.957Z"
   },
   {
    "duration": 13,
    "start_time": "2022-11-09T21:04:34.894Z"
   },
   {
    "duration": 59,
    "start_time": "2022-11-09T21:04:50.661Z"
   },
   {
    "duration": 93,
    "start_time": "2022-11-09T21:05:02.814Z"
   },
   {
    "duration": 26,
    "start_time": "2022-11-09T21:08:21.422Z"
   },
   {
    "duration": 18,
    "start_time": "2022-11-09T21:09:06.881Z"
   },
   {
    "duration": 11,
    "start_time": "2022-11-09T21:09:27.499Z"
   },
   {
    "duration": 11,
    "start_time": "2022-11-09T21:09:47.663Z"
   },
   {
    "duration": 17,
    "start_time": "2022-11-09T21:27:49.136Z"
   },
   {
    "duration": 12,
    "start_time": "2022-11-09T21:28:01.009Z"
   },
   {
    "duration": 11,
    "start_time": "2022-11-09T21:29:01.133Z"
   },
   {
    "duration": 13,
    "start_time": "2022-11-09T21:29:50.393Z"
   },
   {
    "duration": 13,
    "start_time": "2022-11-09T21:30:04.863Z"
   },
   {
    "duration": 14,
    "start_time": "2022-11-09T21:33:56.519Z"
   },
   {
    "duration": 17,
    "start_time": "2022-11-09T21:34:21.922Z"
   },
   {
    "duration": 13,
    "start_time": "2022-11-09T21:35:38.131Z"
   },
   {
    "duration": 12,
    "start_time": "2022-11-09T21:39:47.205Z"
   }
  ],
  "colab": {
   "name": "dpp_template_part2.ipynb",
   "provenance": []
  },
  "kernelspec": {
   "display_name": "Python 3 (ipykernel)",
   "language": "python",
   "name": "python3"
  },
  "language_info": {
   "codemirror_mode": {
    "name": "ipython",
    "version": 3
   },
   "file_extension": ".py",
   "mimetype": "text/x-python",
   "name": "python",
   "nbconvert_exporter": "python",
   "pygments_lexer": "ipython3",
   "version": "3.9.12"
  },
  "toc": {
   "base_numbering": 1,
   "nav_menu": {},
   "number_sections": true,
   "sideBar": true,
   "skip_h1_title": true,
   "title_cell": "Table of Contents",
   "title_sidebar": "Contents",
   "toc_cell": false,
   "toc_position": {},
   "toc_section_display": true,
   "toc_window_display": false
  }
 },
 "nbformat": 4,
 "nbformat_minor": 5
}
