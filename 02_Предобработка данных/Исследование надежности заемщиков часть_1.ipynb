{
 "cells": [
  {
   "cell_type": "markdown",
   "id": "c81daeeb",
   "metadata": {
    "deletable": false,
    "editable": false,
    "id": "c81daeeb"
   },
   "source": [
    "# Исследование надежности заемщиков"
   ]
  },
  {
   "cell_type": "markdown",
   "id": "-G3EJWzf62s6",
   "metadata": {
    "deletable": false,
    "editable": false,
    "id": "-G3EJWzf62s6"
   },
   "source": [
    "Это первая часть проекта, она будет проверена автоматически. Вторую часть проверит ревьюер. "
   ]
  },
  {
   "cell_type": "markdown",
   "id": "744d7639",
   "metadata": {
    "deletable": false,
    "editable": false,
    "id": "744d7639"
   },
   "source": [
    "## Откройте таблицу и изучите общую информацию о данных"
   ]
  },
  {
   "cell_type": "markdown",
   "id": "e7a14c31",
   "metadata": {
    "deletable": false,
    "editable": false,
    "id": "e7a14c31",
    "tags": [
     "start_task"
    ]
   },
   "source": [
    "**Задание 1. Импортируйте библиотеку pandas. Считайте данные из csv-файла в датафрейм и сохраните в переменную `data`. Путь к файлу:**\n",
    "\n",
    "`/datasets/data.csv`"
   ]
  },
  {
   "cell_type": "code",
   "execution_count": 144,
   "id": "7bcf75c9",
   "metadata": {
    "id": "7bcf75c9"
   },
   "outputs": [],
   "source": [
    "import pandas as pd # импортируйте библиотеку pandas"
   ]
  },
  {
   "cell_type": "code",
   "execution_count": 145,
   "id": "4d240ee2",
   "metadata": {
    "id": "4d240ee2"
   },
   "outputs": [],
   "source": [
    "data = pd.read_csv('/datasets/data.csv') # прочитайте csv-файл"
   ]
  },
  {
   "cell_type": "markdown",
   "id": "b8038fe3",
   "metadata": {
    "deletable": false,
    "editable": false,
    "id": "b8038fe3",
    "tags": [
     "start_task"
    ]
   },
   "source": [
    "**Задание 2. Выведите первые 20 строчек датафрейма `data` на экран.**"
   ]
  },
  {
   "cell_type": "code",
   "execution_count": 146,
   "id": "2a7cab99",
   "metadata": {
    "id": "2a7cab99"
   },
   "outputs": [
    {
     "name": "stdout",
     "output_type": "stream",
     "text": [
      "    children  days_employed  dob_years            education  education_id  \\\n",
      "0          1   -8437.673028         42               высшее             0   \n",
      "1          1   -4024.803754         36              среднее             1   \n",
      "2          0   -5623.422610         33              Среднее             1   \n",
      "3          3   -4124.747207         32              среднее             1   \n",
      "4          0  340266.072047         53              среднее             1   \n",
      "5          0    -926.185831         27               высшее             0   \n",
      "6          0   -2879.202052         43               высшее             0   \n",
      "7          0    -152.779569         50              СРЕДНЕЕ             1   \n",
      "8          2   -6929.865299         35               ВЫСШЕЕ             0   \n",
      "9          0   -2188.756445         41              среднее             1   \n",
      "10         2   -4171.483647         36               высшее             0   \n",
      "11         0    -792.701887         40              среднее             1   \n",
      "12         0            NaN         65              среднее             1   \n",
      "13         0   -1846.641941         54  неоконченное высшее             2   \n",
      "14         0   -1844.956182         56               высшее             0   \n",
      "15         1    -972.364419         26              среднее             1   \n",
      "16         0   -1719.934226         35              среднее             1   \n",
      "17         0   -2369.999720         33               высшее             0   \n",
      "18         0  400281.136913         53              среднее             1   \n",
      "19         0  -10038.818549         48              СРЕДНЕЕ             1   \n",
      "\n",
      "       family_status  family_status_id gender income_type  debt  \\\n",
      "0    женат / замужем                 0      F   сотрудник     0   \n",
      "1    женат / замужем                 0      F   сотрудник     0   \n",
      "2    женат / замужем                 0      M   сотрудник     0   \n",
      "3    женат / замужем                 0      M   сотрудник     0   \n",
      "4   гражданский брак                 1      F   пенсионер     0   \n",
      "5   гражданский брак                 1      M   компаньон     0   \n",
      "6    женат / замужем                 0      F   компаньон     0   \n",
      "7    женат / замужем                 0      M   сотрудник     0   \n",
      "8   гражданский брак                 1      F   сотрудник     0   \n",
      "9    женат / замужем                 0      M   сотрудник     0   \n",
      "10   женат / замужем                 0      M   компаньон     0   \n",
      "11   женат / замужем                 0      F   сотрудник     0   \n",
      "12  гражданский брак                 1      M   пенсионер     0   \n",
      "13   женат / замужем                 0      F   сотрудник     0   \n",
      "14  гражданский брак                 1      F   компаньон     1   \n",
      "15   женат / замужем                 0      F   сотрудник     0   \n",
      "16   женат / замужем                 0      F   сотрудник     0   \n",
      "17  гражданский брак                 1      M   сотрудник     0   \n",
      "18    вдовец / вдова                 2      F   пенсионер     0   \n",
      "19         в разводе                 3      F   сотрудник     0   \n",
      "\n",
      "     total_income                                 purpose  \n",
      "0   253875.639453                           покупка жилья  \n",
      "1   112080.014102                 приобретение автомобиля  \n",
      "2   145885.952297                           покупка жилья  \n",
      "3   267628.550329              дополнительное образование  \n",
      "4   158616.077870                         сыграть свадьбу  \n",
      "5   255763.565419                           покупка жилья  \n",
      "6   240525.971920                       операции с жильем  \n",
      "7   135823.934197                             образование  \n",
      "8    95856.832424                   на проведение свадьбы  \n",
      "9   144425.938277                 покупка жилья для семьи  \n",
      "10  113943.491460                    покупка недвижимости  \n",
      "11   77069.234271       покупка коммерческой недвижимости  \n",
      "12            NaN                         сыграть свадьбу  \n",
      "13  130458.228857                 приобретение автомобиля  \n",
      "14  165127.911772              покупка жилой недвижимости  \n",
      "15  116820.904450  строительство собственной недвижимости  \n",
      "16  289202.704229                            недвижимость  \n",
      "17   90410.586745              строительство недвижимости  \n",
      "18   56823.777243      на покупку подержанного автомобиля  \n",
      "19  242831.107982            на покупку своего автомобиля  \n"
     ]
    }
   ],
   "source": [
    "print(data.head(20)) # ваш код здесь"
   ]
  },
  {
   "cell_type": "markdown",
   "id": "1c12e233",
   "metadata": {
    "deletable": false,
    "editable": false,
    "id": "1c12e233",
    "tags": [
     "start_task"
    ]
   },
   "source": [
    "**Задание 3. Выведите основную информацию о датафрейме с помощью метода `info()`.**"
   ]
  },
  {
   "cell_type": "code",
   "execution_count": 147,
   "id": "2b757bca",
   "metadata": {
    "id": "2b757bca"
   },
   "outputs": [
    {
     "name": "stdout",
     "output_type": "stream",
     "text": [
      "<class 'pandas.core.frame.DataFrame'>\n",
      "RangeIndex: 21525 entries, 0 to 21524\n",
      "Data columns (total 12 columns):\n",
      " #   Column            Non-Null Count  Dtype  \n",
      "---  ------            --------------  -----  \n",
      " 0   children          21525 non-null  int64  \n",
      " 1   days_employed     19351 non-null  float64\n",
      " 2   dob_years         21525 non-null  int64  \n",
      " 3   education         21525 non-null  object \n",
      " 4   education_id      21525 non-null  int64  \n",
      " 5   family_status     21525 non-null  object \n",
      " 6   family_status_id  21525 non-null  int64  \n",
      " 7   gender            21525 non-null  object \n",
      " 8   income_type       21525 non-null  object \n",
      " 9   debt              21525 non-null  int64  \n",
      " 10  total_income      19351 non-null  float64\n",
      " 11  purpose           21525 non-null  object \n",
      "dtypes: float64(2), int64(5), object(5)\n",
      "memory usage: 2.0+ MB\n"
     ]
    }
   ],
   "source": [
    "data.info() # ваш код здесь"
   ]
  },
  {
   "cell_type": "markdown",
   "id": "333ec665",
   "metadata": {
    "deletable": false,
    "editable": false,
    "id": "333ec665"
   },
   "source": [
    "## Предобработка данных"
   ]
  },
  {
   "cell_type": "markdown",
   "id": "02d92d53",
   "metadata": {
    "deletable": false,
    "editable": false,
    "id": "02d92d53"
   },
   "source": [
    "### Удаление пропусков"
   ]
  },
  {
   "cell_type": "markdown",
   "id": "cd84967c",
   "metadata": {
    "deletable": false,
    "editable": false,
    "id": "cd84967c",
    "tags": [
     "start_task"
    ]
   },
   "source": [
    "**Задание 4. Выведите количество пропущенных значений для каждого столбца. Используйте комбинацию двух методов.**"
   ]
  },
  {
   "cell_type": "code",
   "execution_count": 148,
   "id": "7f9b2309",
   "metadata": {
    "id": "7f9b2309"
   },
   "outputs": [
    {
     "name": "stdout",
     "output_type": "stream",
     "text": [
      "children               0\n",
      "days_employed       2174\n",
      "dob_years              0\n",
      "education              0\n",
      "education_id           0\n",
      "family_status          0\n",
      "family_status_id       0\n",
      "gender                 0\n",
      "income_type            0\n",
      "debt                   0\n",
      "total_income        2174\n",
      "purpose                0\n",
      "dtype: int64\n"
     ]
    }
   ],
   "source": [
    "print(data.isna().sum()) # подсчитываем общее количестов пропусков в столбцах датафрейма с использованием метода isna() и sum()"
   ]
  },
  {
   "cell_type": "markdown",
   "id": "db86e27b",
   "metadata": {
    "deletable": false,
    "editable": false,
    "id": "db86e27b",
    "tags": [
     "start_task"
    ]
   },
   "source": [
    "**Задание 5. В двух столбцах есть пропущенные значения. Один из них — `days_employed`. Пропуски в этом столбце вы обработаете на следующем этапе. Другой столбец с пропущенными значениями — `total_income` — хранит данные о доходах. На сумму дохода сильнее всего влияет тип занятости, поэтому заполнить пропуски в этом столбце нужно медианным значением по каждому типу из столбца `income_type`. Например, у человека с типом занятости `сотрудник` пропуск в столбце `total_income` должен быть заполнен медианным доходом среди всех записей с тем же типом.**"
   ]
  },
  {
   "cell_type": "code",
   "execution_count": 149,
   "id": "42006a93",
   "metadata": {
    "id": "42006a93"
   },
   "outputs": [
    {
     "name": "stdout",
     "output_type": "stream",
     "text": [
      "0\n"
     ]
    }
   ],
   "source": [
    "\n",
    "# перебираем каждый тип занятости в столбце income_type\n",
    "for index in data['income_type'].unique():\n",
    "    # на каждом шаге цикла с помощью атрибута loc выбираем строки, в которых\n",
    "    # текущий тип занятости index и есть пропуски в total_income\n",
    "    data.loc[(data['income_type'] == index) & (data['total_income'].isna()), 'total_income'] = \\\n",
    "    data.loc[(data['income_type'] == index), 'total_income'].median()\n",
    "    #записываем в них медианное значение total_income среди строк с текущим типом занятости\n",
    "\n",
    "print(data['total_income'].isna().sum())\n",
    "\n",
    " "
   ]
  },
  {
   "cell_type": "markdown",
   "id": "89da5ece",
   "metadata": {
    "deletable": false,
    "editable": false,
    "id": "89da5ece"
   },
   "source": [
    "### Обработка аномальных значений"
   ]
  },
  {
   "cell_type": "markdown",
   "id": "57964554",
   "metadata": {
    "deletable": false,
    "editable": false,
    "id": "57964554",
    "tags": [
     "start_task"
    ]
   },
   "source": [
    "**Задание 6. В данных могут встречаться артефакты (аномалии) — значения, которые не отражают действительность и появились по какой-то ошибке. Таким артефактом будет отрицательное количество дней трудового стажа в столбце `days_employed`. Для реальных данных это нормально. Обработайте значения в этом столбце: замените все отрицательные значения положительными с помощью метода `abs()`.**"
   ]
  },
  {
   "cell_type": "code",
   "execution_count": 150,
   "id": "f6f055bf",
   "metadata": {
    "id": "f6f055bf"
   },
   "outputs": [
    {
     "name": "stdout",
     "output_type": "stream",
     "text": [
      "0      8437.673028\n",
      "1      4024.803754\n",
      "2      5623.422610\n",
      "3      4124.747207\n",
      "4    340266.072047\n",
      "5       926.185831\n",
      "6      2879.202052\n",
      "7       152.779569\n",
      "8      6929.865299\n",
      "9      2188.756445\n",
      "Name: days_employed, dtype: float64\n"
     ]
    }
   ],
   "source": [
    "data['days_employed'] = data.loc[:,'days_employed'].abs() # применим метод abs к столбцу датафрейма days_employed\n",
    "print(data['days_employed'].head(10)) # выведем первые 10 строк столбца days_employed ждя тогоБ чтобы посмотреть ушли ли отрицательные значения"
   ]
  },
  {
   "cell_type": "markdown",
   "id": "6107dd2f",
   "metadata": {
    "deletable": false,
    "editable": false,
    "id": "6107dd2f",
    "tags": [
     "start_task"
    ]
   },
   "source": [
    "**Задание 7. Для каждого типа занятости выведите медианное значение трудового стажа `days_employed` в днях.**"
   ]
  },
  {
   "cell_type": "code",
   "execution_count": 151,
   "id": "85a5faf6",
   "metadata": {
    "id": "85a5faf6"
   },
   "outputs": [
    {
     "name": "stdout",
     "output_type": "stream",
     "text": [
      "income_type\n",
      "безработный        366413.652744\n",
      "в декрете            3296.759962\n",
      "госслужащий          2689.368353\n",
      "компаньон            1547.382223\n",
      "пенсионер          365213.306266\n",
      "предприниматель       520.848083\n",
      "сотрудник            1574.202821\n",
      "студент               578.751554\n",
      "Name: days_employed, dtype: float64\n"
     ]
    }
   ],
   "source": [
    "print(data.groupby('income_type')['days_employed'].median()) # сгруппируем значения трудового стажа по типам занятости методом groupby\n",
    "# применим метод median() для подсчета медианного значения трудового стажа."
   ]
  },
  {
   "cell_type": "markdown",
   "id": "38d1a030",
   "metadata": {
    "deletable": false,
    "editable": false,
    "id": "38d1a030"
   },
   "source": [
    "У двух типов (безработные и пенсионеры) получатся аномально большие значения. Исправить такие значения сложно, поэтому оставьте их как есть. Тем более этот столбец не понадобится вам для исследования."
   ]
  },
  {
   "cell_type": "markdown",
   "id": "d8a9f147",
   "metadata": {
    "deletable": false,
    "editable": false,
    "id": "d8a9f147",
    "tags": [
     "start_task"
    ]
   },
   "source": [
    "**Задание 8. Выведите перечень уникальных значений столбца `children`.**"
   ]
  },
  {
   "cell_type": "code",
   "execution_count": 152,
   "id": "ef5056eb",
   "metadata": {
    "id": "ef5056eb"
   },
   "outputs": [
    {
     "name": "stdout",
     "output_type": "stream",
     "text": [
      "[ 1  0  3  2 -1  4 20  5]\n"
     ]
    }
   ],
   "source": [
    "print(data['children'].unique()) # применяем метод unique к столбцу children"
   ]
  },
  {
   "cell_type": "markdown",
   "id": "40b9ebf2",
   "metadata": {
    "deletable": false,
    "editable": false,
    "id": "40b9ebf2",
    "tags": [
     "start_task"
    ]
   },
   "source": [
    "**Задание 9. В столбце `children` есть два аномальных значения. Удалите строки, в которых встречаются такие аномальные значения из датафрейма `data`.**"
   ]
  },
  {
   "cell_type": "code",
   "execution_count": 153,
   "id": "3ff9801d",
   "metadata": {
    "id": "3ff9801d"
   },
   "outputs": [],
   "source": [
    "data = data[data['children']!=-1]\n",
    "data = data[data['children']!=20]\n",
    "#используем логическую индексацию для исключения анамальных значений из столбца children, перезапись датафрейма.\n",
    "\n",
    "\n",
    "\n",
    "\n",
    "        \n",
    "\n",
    "        "
   ]
  },
  {
   "cell_type": "markdown",
   "id": "bbc4d0ce",
   "metadata": {
    "deletable": false,
    "editable": false,
    "id": "bbc4d0ce",
    "tags": [
     "start_task"
    ]
   },
   "source": [
    "**Задание 10. Ещё раз выведите перечень уникальных значений столбца `children`, чтобы убедиться, что артефакты удалены.**"
   ]
  },
  {
   "cell_type": "code",
   "execution_count": 154,
   "id": "ad4fa8b7",
   "metadata": {
    "id": "ad4fa8b7"
   },
   "outputs": [
    {
     "name": "stdout",
     "output_type": "stream",
     "text": [
      "[1 0 3 2 4 5]\n"
     ]
    }
   ],
   "source": [
    "print(data['children'].unique()) # используем метод unique() для поиска аномальных значений в столбце children"
   ]
  },
  {
   "cell_type": "markdown",
   "id": "75440b63",
   "metadata": {
    "deletable": false,
    "editable": false,
    "id": "75440b63"
   },
   "source": [
    "### Удаление пропусков (продолжение)"
   ]
  },
  {
   "cell_type": "markdown",
   "id": "f4ea573f",
   "metadata": {
    "deletable": false,
    "editable": false,
    "id": "f4ea573f",
    "tags": [
     "start_task"
    ]
   },
   "source": [
    "**Задание 11. Заполните пропуски в столбце `days_employed` медианными значениями по каждому типу занятости `income_type`.**"
   ]
  },
  {
   "cell_type": "code",
   "execution_count": 155,
   "id": "af6b1a7e",
   "metadata": {
    "id": "af6b1a7e"
   },
   "outputs": [
    {
     "name": "stdout",
     "output_type": "stream",
     "text": [
      "0\n"
     ]
    }
   ],
   "source": [
    "for index in data['income_type'].unique():\n",
    "    # на каждом шаге цикла с помощью атрибута loc выбираем строки, в которых\n",
    "    # текущий тип занятости index и есть пропуски в days_employed\n",
    "    data.loc[(data['income_type'] == index) & (data['days_employed'].isna()), 'days_employed'] = \\\n",
    "    data.loc[(data['income_type'] == index), 'days_employed'].median()\n",
    "    #записываем в них медианное значение days_employed среди строк с текущим типом занятости\n",
    "\n",
    "print(data['days_employed'].isna().sum()) # проверяем, что все пропуски заполнены"
   ]
  },
  {
   "cell_type": "markdown",
   "id": "2753f40d",
   "metadata": {
    "deletable": false,
    "editable": false,
    "id": "2753f40d",
    "tags": [
     "start_task"
    ]
   },
   "source": [
    "**Задание 12. Убедитесь, что все пропуски заполнены. Проверьте себя и ещё раз выведите количество пропущенных значений для каждого столбца с помощью двух методов.**"
   ]
  },
  {
   "cell_type": "code",
   "execution_count": 156,
   "id": "dcca8c17",
   "metadata": {},
   "outputs": [
    {
     "name": "stdout",
     "output_type": "stream",
     "text": [
      "0\n"
     ]
    }
   ],
   "source": [
    "print(data['children'].isna().sum()) #выводим количество пропущенных значений в столбце children"
   ]
  },
  {
   "cell_type": "code",
   "execution_count": 157,
   "id": "55f78bc2",
   "metadata": {
    "id": "55f78bc2",
    "scrolled": true
   },
   "outputs": [
    {
     "name": "stdout",
     "output_type": "stream",
     "text": [
      "0\n"
     ]
    }
   ],
   "source": [
    "\n",
    "print(data['days_employed'].isna().sum()) #выводим на жкран информацию по количеству пропусков в столбце days_employed"
   ]
  },
  {
   "cell_type": "markdown",
   "id": "ddc81e43",
   "metadata": {
    "deletable": false,
    "editable": false,
    "id": "ddc81e43"
   },
   "source": [
    "### Изменение типов данных"
   ]
  },
  {
   "cell_type": "markdown",
   "id": "42d19d24",
   "metadata": {
    "deletable": false,
    "editable": false,
    "id": "42d19d24",
    "tags": [
     "start_task"
    ]
   },
   "source": [
    "**Задание 13. Замените вещественный тип данных в столбце `total_income` на целочисленный с помощью метода `astype()`.**"
   ]
  },
  {
   "cell_type": "code",
   "execution_count": 158,
   "id": "920b65ad",
   "metadata": {
    "id": "920b65ad"
   },
   "outputs": [],
   "source": [
    "data['total_income'] = data['total_income'].astype('int')\n",
    "# используем метод astype c аргументом int"
   ]
  },
  {
   "cell_type": "markdown",
   "id": "80c420ba",
   "metadata": {
    "deletable": false,
    "editable": false,
    "id": "80c420ba"
   },
   "source": [
    "### Обработка дубликатов"
   ]
  },
  {
   "cell_type": "markdown",
   "id": "dc587695",
   "metadata": {
    "deletable": false,
    "editable": false,
    "id": "dc587695",
    "tags": [
     "start_task"
    ]
   },
   "source": [
    "**Задание 14. Выведите на экран количество строк-дубликатов в данных. Если такие строки присутствуют, удалите их.**"
   ]
  },
  {
   "cell_type": "code",
   "execution_count": 159,
   "id": "3ee445e4",
   "metadata": {
    "id": "3ee445e4"
   },
   "outputs": [
    {
     "name": "stdout",
     "output_type": "stream",
     "text": [
      "54\n"
     ]
    }
   ],
   "source": [
    "print(data.duplicated().sum()) #проверка на наличие дубликатов в датафрейме\n"
   ]
  },
  {
   "cell_type": "code",
   "execution_count": 160,
   "id": "8575fe05",
   "metadata": {
    "id": "8575fe05"
   },
   "outputs": [],
   "source": [
    "data['education'] = data['education'].str.lower() #c помощью метода lower() привели все значения в Series к нижнему регистру\n",
    "\n"
   ]
  },
  {
   "cell_type": "markdown",
   "id": "9771a76c",
   "metadata": {
    "deletable": false,
    "editable": false,
    "id": "9771a76c",
    "tags": [
     "start_task"
    ]
   },
   "source": [
    "**Задание 15. Обработайте неявные дубликаты в столбце `education`. В этом столбце есть одни и те же значения, но записанные по-разному: с использованием заглавных и строчных букв. Приведите их к нижнему регистру.**"
   ]
  },
  {
   "cell_type": "code",
   "execution_count": 161,
   "id": "a9f8e2bf",
   "metadata": {
    "id": "a9f8e2bf"
   },
   "outputs": [],
   "source": [
    "data = data.drop_duplicates().reset_index(drop=True) #удаление дубликатов с изменением индексов и удалением старых индексов"
   ]
  },
  {
   "cell_type": "markdown",
   "id": "9904cf55",
   "metadata": {
    "deletable": false,
    "editable": false,
    "id": "9904cf55"
   },
   "source": [
    "### Категоризация данных"
   ]
  },
  {
   "cell_type": "markdown",
   "id": "72fcc8a2",
   "metadata": {
    "deletable": false,
    "editable": false,
    "id": "72fcc8a2",
    "tags": [
     "start_task"
    ]
   },
   "source": [
    "**Задание 16. На основании диапазонов, указанных ниже, создайте в датафрейме `data` столбец `total_income_category` с категориями:**\n",
    "\n",
    "- 0–30000 — `'E'`;\n",
    "- 30001–50000 — `'D'`;\n",
    "- 50001–200000 — `'C'`;\n",
    "- 200001–1000000 — `'B'`;\n",
    "- 1000001 и выше — `'A'`.\n",
    "\n",
    "\n",
    "**Например, кредитополучателю с доходом 25000 нужно назначить категорию `'E'`, а клиенту, получающему 235000, — `'B'`. Используйте собственную функцию с именем `categorize_income()` и метод `apply()`.**"
   ]
  },
  {
   "cell_type": "code",
   "execution_count": 162,
   "id": "e1771346",
   "metadata": {
    "id": "e1771346"
   },
   "outputs": [],
   "source": [
    "def categorize_income(income):\n",
    "    \n",
    "    if income <= 30000:\n",
    "        return 'E'\n",
    "    if 30001 <= income <= 50000:\n",
    "        return 'D'\n",
    "    if 50001 <= income <=200000:\n",
    "        return 'C'\n",
    "    if 200001 <= income <= 1000000:\n",
    "        return 'B'\n",
    "    if income >= 1000001:\n",
    "        return 'A'\n",
    "    \n",
    "    # создайте функцию categorize_income()"
   ]
  },
  {
   "cell_type": "code",
   "execution_count": 163,
   "id": "d5f3586d",
   "metadata": {
    "id": "d5f3586d"
   },
   "outputs": [],
   "source": [
    "data['total_income_category'] = data['total_income'].apply(categorize_income) \n",
    "# примените функцию методом apply()"
   ]
  },
  {
   "cell_type": "markdown",
   "id": "dde49b5c",
   "metadata": {
    "deletable": false,
    "editable": false,
    "id": "dde49b5c",
    "tags": [
     "start_task"
    ]
   },
   "source": [
    "**Задание 17. Выведите на экран перечень уникальных целей взятия кредита из столбца `purpose`.**"
   ]
  },
  {
   "cell_type": "code",
   "execution_count": 164,
   "id": "f67ce9b3",
   "metadata": {
    "id": "f67ce9b3"
   },
   "outputs": [
    {
     "name": "stdout",
     "output_type": "stream",
     "text": [
      "['покупка жилья' 'приобретение автомобиля' 'дополнительное образование'\n",
      " 'сыграть свадьбу' 'операции с жильем' 'образование'\n",
      " 'на проведение свадьбы' 'покупка жилья для семьи' 'покупка недвижимости'\n",
      " 'покупка коммерческой недвижимости' 'покупка жилой недвижимости'\n",
      " 'строительство собственной недвижимости' 'недвижимость'\n",
      " 'строительство недвижимости' 'на покупку подержанного автомобиля'\n",
      " 'на покупку своего автомобиля' 'операции с коммерческой недвижимостью'\n",
      " 'строительство жилой недвижимости' 'жилье'\n",
      " 'операции со своей недвижимостью' 'автомобили' 'заняться образованием'\n",
      " 'сделка с подержанным автомобилем' 'получение образования' 'автомобиль'\n",
      " 'свадьба' 'получение дополнительного образования' 'покупка своего жилья'\n",
      " 'операции с недвижимостью' 'получение высшего образования'\n",
      " 'свой автомобиль' 'сделка с автомобилем' 'профильное образование'\n",
      " 'высшее образование' 'покупка жилья для сдачи' 'на покупку автомобиля'\n",
      " 'ремонт жилью' 'заняться высшим образованием']\n"
     ]
    }
   ],
   "source": [
    "print(data['purpose'].unique()) # ваш код здесь"
   ]
  },
  {
   "cell_type": "markdown",
   "id": "85d0aef0",
   "metadata": {
    "deletable": false,
    "editable": false,
    "id": "85d0aef0",
    "tags": [
     "start_task"
    ]
   },
   "source": [
    "**Задание 18. Создайте функцию, которая на основании данных из столбца `purpose` сформирует новый столбец `purpose_category`, в который войдут следующие категории:**\n",
    "\n",
    "- `'операции с автомобилем'`,\n",
    "- `'операции с недвижимостью'`,\n",
    "- `'проведение свадьбы'`,\n",
    "- `'получение образования'`.\n",
    "\n",
    "**Например, если в столбце `purpose` находится подстрока `'на покупку автомобиля'`, то в столбце `purpose_category` должна появиться строка `'операции с автомобилем'`.**\n",
    "\n",
    "**Используйте собственную функцию с именем `categorize_purpose()` и метод `apply()`. Изучите данные в столбце `purpose` и определите, какие подстроки помогут вам правильно определить категорию.**"
   ]
  },
  {
   "cell_type": "code",
   "execution_count": 169,
   "id": "e149fab4",
   "metadata": {
    "id": "e149fab4"
   },
   "outputs": [],
   "source": [
    "def categorize_purpose(row):\n",
    "    if 'авто' in row['purpose']:\n",
    "        return'операции с автомобилем'\n",
    "    if 'недвиж' in row['purpose']:\n",
    "        return'операции с недвижимостью'\n",
    "    if 'свадьб' in row['purpose']:\n",
    "        return'проведение свадьбы'\n",
    "    if 'жиль' in row['purpose']:\n",
    "        return 'операции с недвижимостью'\n",
    "    return'получение образования' # создайте функцию categorize_purpose()"
   ]
  },
  {
   "cell_type": "code",
   "execution_count": 170,
   "id": "bf36e69b",
   "metadata": {
    "id": "bf36e69b"
   },
   "outputs": [],
   "source": [
    "data['purpose_category'] = data.apply(categorize_purpose, axis=1) # примените функцию методом apply()"
   ]
  }
 ],
 "metadata": {
  "ExecuteTimeLog": [
   {
    "duration": 459,
    "start_time": "2022-11-02T20:16:30.910Z"
   },
   {
    "duration": 176,
    "start_time": "2022-11-02T20:16:31.892Z"
   },
   {
    "duration": 12,
    "start_time": "2022-11-02T20:16:34.609Z"
   },
   {
    "duration": 20,
    "start_time": "2022-11-02T20:17:43.720Z"
   },
   {
    "duration": 11,
    "start_time": "2022-11-02T20:32:00.420Z"
   },
   {
    "duration": 82,
    "start_time": "2022-11-02T20:46:25.609Z"
   },
   {
    "duration": 16,
    "start_time": "2022-11-02T20:46:42.042Z"
   },
   {
    "duration": 15,
    "start_time": "2022-11-02T20:54:37.549Z"
   },
   {
    "duration": 16,
    "start_time": "2022-11-02T20:55:15.296Z"
   },
   {
    "duration": 15,
    "start_time": "2022-11-02T20:56:54.331Z"
   },
   {
    "duration": 14,
    "start_time": "2022-11-02T21:11:19.134Z"
   },
   {
    "duration": 11,
    "start_time": "2022-11-02T21:11:30.003Z"
   },
   {
    "duration": 10,
    "start_time": "2022-11-02T21:12:08.442Z"
   },
   {
    "duration": 10,
    "start_time": "2022-11-02T21:12:34.758Z"
   },
   {
    "duration": 8,
    "start_time": "2022-11-02T21:13:24.069Z"
   },
   {
    "duration": 18,
    "start_time": "2022-11-02T21:17:08.710Z"
   },
   {
    "duration": 9,
    "start_time": "2022-11-02T21:19:33.421Z"
   },
   {
    "duration": 3,
    "start_time": "2022-11-02T21:22:21.623Z"
   },
   {
    "duration": 84,
    "start_time": "2022-11-02T21:22:21.628Z"
   },
   {
    "duration": 9,
    "start_time": "2022-11-02T21:22:21.714Z"
   },
   {
    "duration": 23,
    "start_time": "2022-11-02T21:22:21.725Z"
   },
   {
    "duration": 9,
    "start_time": "2022-11-02T21:22:21.751Z"
   },
   {
    "duration": 14,
    "start_time": "2022-11-02T21:22:21.762Z"
   },
   {
    "duration": 18,
    "start_time": "2022-11-02T21:22:21.778Z"
   },
   {
    "duration": 6,
    "start_time": "2022-11-02T21:22:21.798Z"
   },
   {
    "duration": 4,
    "start_time": "2022-11-02T21:22:21.806Z"
   },
   {
    "duration": 12,
    "start_time": "2022-11-02T21:22:21.812Z"
   },
   {
    "duration": 4,
    "start_time": "2022-11-02T21:22:21.826Z"
   },
   {
    "duration": 4,
    "start_time": "2022-11-02T21:22:21.833Z"
   },
   {
    "duration": 4,
    "start_time": "2022-11-02T21:22:21.839Z"
   },
   {
    "duration": 3,
    "start_time": "2022-11-02T21:22:21.846Z"
   },
   {
    "duration": 8,
    "start_time": "2022-11-02T21:22:21.851Z"
   },
   {
    "duration": 7,
    "start_time": "2022-11-02T21:22:21.861Z"
   },
   {
    "duration": 4,
    "start_time": "2022-11-02T21:22:21.870Z"
   },
   {
    "duration": 4,
    "start_time": "2022-11-02T21:22:21.876Z"
   },
   {
    "duration": 42,
    "start_time": "2022-11-02T21:22:21.882Z"
   },
   {
    "duration": 3,
    "start_time": "2022-11-02T21:22:21.926Z"
   },
   {
    "duration": 12,
    "start_time": "2022-11-02T21:22:21.931Z"
   },
   {
    "duration": 18,
    "start_time": "2022-11-02T21:22:21.945Z"
   },
   {
    "duration": 92,
    "start_time": "2022-11-03T11:11:12.951Z"
   },
   {
    "duration": 46,
    "start_time": "2022-11-03T11:11:24.740Z"
   },
   {
    "duration": 396,
    "start_time": "2022-11-03T11:11:43.839Z"
   },
   {
    "duration": 283,
    "start_time": "2022-11-03T11:11:44.237Z"
   },
   {
    "duration": 10,
    "start_time": "2022-11-03T11:11:44.522Z"
   },
   {
    "duration": 16,
    "start_time": "2022-11-03T11:11:44.534Z"
   },
   {
    "duration": 33,
    "start_time": "2022-11-03T11:11:44.552Z"
   },
   {
    "duration": 936,
    "start_time": "2022-11-03T11:11:44.587Z"
   },
   {
    "duration": 0,
    "start_time": "2022-11-03T11:11:45.525Z"
   },
   {
    "duration": 0,
    "start_time": "2022-11-03T11:11:45.526Z"
   },
   {
    "duration": 0,
    "start_time": "2022-11-03T11:11:45.527Z"
   },
   {
    "duration": 0,
    "start_time": "2022-11-03T11:11:45.528Z"
   },
   {
    "duration": 0,
    "start_time": "2022-11-03T11:11:45.529Z"
   },
   {
    "duration": 0,
    "start_time": "2022-11-03T11:11:45.530Z"
   },
   {
    "duration": 0,
    "start_time": "2022-11-03T11:11:45.531Z"
   },
   {
    "duration": 0,
    "start_time": "2022-11-03T11:11:45.532Z"
   },
   {
    "duration": 0,
    "start_time": "2022-11-03T11:11:45.533Z"
   },
   {
    "duration": 0,
    "start_time": "2022-11-03T11:11:45.534Z"
   },
   {
    "duration": 0,
    "start_time": "2022-11-03T11:11:45.535Z"
   },
   {
    "duration": 0,
    "start_time": "2022-11-03T11:11:45.536Z"
   },
   {
    "duration": 0,
    "start_time": "2022-11-03T11:11:45.537Z"
   },
   {
    "duration": 0,
    "start_time": "2022-11-03T11:11:45.539Z"
   },
   {
    "duration": 0,
    "start_time": "2022-11-03T11:11:45.540Z"
   },
   {
    "duration": 0,
    "start_time": "2022-11-03T11:11:45.541Z"
   },
   {
    "duration": 955,
    "start_time": "2022-11-03T11:11:51.008Z"
   },
   {
    "duration": 13,
    "start_time": "2022-11-03T11:11:59.411Z"
   },
   {
    "duration": 105,
    "start_time": "2022-11-03T11:23:30.000Z"
   },
   {
    "duration": 8,
    "start_time": "2022-11-03T11:23:37.271Z"
   },
   {
    "duration": 11,
    "start_time": "2022-11-03T11:26:56.298Z"
   },
   {
    "duration": 10,
    "start_time": "2022-11-03T11:44:06.670Z"
   },
   {
    "duration": 10,
    "start_time": "2022-11-03T11:44:11.311Z"
   },
   {
    "duration": 16,
    "start_time": "2022-11-03T11:45:34.479Z"
   },
   {
    "duration": 11,
    "start_time": "2022-11-03T11:49:55.274Z"
   },
   {
    "duration": 10,
    "start_time": "2022-11-03T11:50:23.073Z"
   },
   {
    "duration": 15,
    "start_time": "2022-11-03T11:51:27.097Z"
   },
   {
    "duration": 10,
    "start_time": "2022-11-03T11:52:01.156Z"
   },
   {
    "duration": 10,
    "start_time": "2022-11-03T11:52:03.785Z"
   },
   {
    "duration": 15,
    "start_time": "2022-11-03T11:52:16.699Z"
   },
   {
    "duration": 11,
    "start_time": "2022-11-03T11:52:21.187Z"
   },
   {
    "duration": 3,
    "start_time": "2022-11-03T11:52:27.638Z"
   },
   {
    "duration": 78,
    "start_time": "2022-11-03T11:52:27.643Z"
   },
   {
    "duration": 8,
    "start_time": "2022-11-03T11:52:27.723Z"
   },
   {
    "duration": 21,
    "start_time": "2022-11-03T11:52:27.733Z"
   },
   {
    "duration": 8,
    "start_time": "2022-11-03T11:52:27.756Z"
   },
   {
    "duration": 16,
    "start_time": "2022-11-03T11:52:27.765Z"
   },
   {
    "duration": 2,
    "start_time": "2022-11-03T11:52:27.783Z"
   },
   {
    "duration": 8,
    "start_time": "2022-11-03T11:52:27.786Z"
   },
   {
    "duration": 25,
    "start_time": "2022-11-03T11:52:27.796Z"
   },
   {
    "duration": 7,
    "start_time": "2022-11-03T11:52:27.822Z"
   },
   {
    "duration": 20,
    "start_time": "2022-11-03T11:52:27.831Z"
   },
   {
    "duration": 14,
    "start_time": "2022-11-03T11:52:27.853Z"
   },
   {
    "duration": 20,
    "start_time": "2022-11-03T11:52:27.869Z"
   },
   {
    "duration": 9,
    "start_time": "2022-11-03T11:52:27.891Z"
   },
   {
    "duration": 22,
    "start_time": "2022-11-03T11:52:27.902Z"
   },
   {
    "duration": 15,
    "start_time": "2022-11-03T11:52:27.926Z"
   },
   {
    "duration": 10,
    "start_time": "2022-11-03T11:52:27.943Z"
   },
   {
    "duration": 8,
    "start_time": "2022-11-03T11:52:27.955Z"
   },
   {
    "duration": 9,
    "start_time": "2022-11-03T11:52:27.965Z"
   },
   {
    "duration": 15,
    "start_time": "2022-11-03T11:52:27.976Z"
   },
   {
    "duration": 9,
    "start_time": "2022-11-03T11:52:27.992Z"
   },
   {
    "duration": 8,
    "start_time": "2022-11-03T11:52:28.002Z"
   },
   {
    "duration": 12,
    "start_time": "2022-11-03T11:52:37.815Z"
   },
   {
    "duration": 54,
    "start_time": "2022-11-03T11:52:45.249Z"
   },
   {
    "duration": 15,
    "start_time": "2022-11-03T11:53:42.493Z"
   },
   {
    "duration": 10,
    "start_time": "2022-11-03T11:59:23.693Z"
   },
   {
    "duration": 8,
    "start_time": "2022-11-03T11:59:27.680Z"
   },
   {
    "duration": 16,
    "start_time": "2022-11-03T11:59:44.232Z"
   },
   {
    "duration": 16,
    "start_time": "2022-11-03T12:00:15.324Z"
   },
   {
    "duration": 8,
    "start_time": "2022-11-03T12:00:41.862Z"
   },
   {
    "duration": 5,
    "start_time": "2022-11-03T12:01:15.954Z"
   },
   {
    "duration": 9,
    "start_time": "2022-11-03T12:01:32.068Z"
   },
   {
    "duration": 13,
    "start_time": "2022-11-03T12:01:43.520Z"
   },
   {
    "duration": 6,
    "start_time": "2022-11-03T12:02:05.229Z"
   },
   {
    "duration": 7,
    "start_time": "2022-11-03T12:10:04.761Z"
   },
   {
    "duration": 70,
    "start_time": "2022-11-03T12:30:10.235Z"
   },
   {
    "duration": 673,
    "start_time": "2022-11-03T12:30:21.660Z"
   },
   {
    "duration": 11,
    "start_time": "2022-11-03T12:30:34.441Z"
   },
   {
    "duration": 75526,
    "start_time": "2022-11-03T12:55:41.094Z"
   },
   {
    "duration": 4,
    "start_time": "2022-11-03T13:02:12.518Z"
   },
   {
    "duration": 5,
    "start_time": "2022-11-03T13:03:35.250Z"
   },
   {
    "duration": 12,
    "start_time": "2022-11-03T13:29:34.953Z"
   },
   {
    "duration": 7,
    "start_time": "2022-11-03T13:31:25.928Z"
   },
   {
    "duration": 4,
    "start_time": "2022-11-03T13:39:16.829Z"
   },
   {
    "duration": 7,
    "start_time": "2022-11-03T14:01:07.698Z"
   },
   {
    "duration": 5,
    "start_time": "2022-11-03T14:01:41.333Z"
   },
   {
    "duration": 21,
    "start_time": "2022-11-03T14:06:58.077Z"
   },
   {
    "duration": 15,
    "start_time": "2022-11-03T14:08:27.044Z"
   },
   {
    "duration": 12,
    "start_time": "2022-11-03T14:16:09.547Z"
   },
   {
    "duration": 18,
    "start_time": "2022-11-03T14:17:59.955Z"
   },
   {
    "duration": 12,
    "start_time": "2022-11-03T14:18:02.794Z"
   },
   {
    "duration": 17,
    "start_time": "2022-11-03T14:19:10.208Z"
   },
   {
    "duration": 4,
    "start_time": "2022-11-03T14:24:34.201Z"
   },
   {
    "duration": 4,
    "start_time": "2022-11-03T14:25:49.503Z"
   },
   {
    "duration": 4,
    "start_time": "2022-11-03T14:25:58.145Z"
   },
   {
    "duration": 2,
    "start_time": "2022-11-03T14:26:28.554Z"
   },
   {
    "duration": 94,
    "start_time": "2022-11-03T14:26:28.558Z"
   },
   {
    "duration": 9,
    "start_time": "2022-11-03T14:26:28.653Z"
   },
   {
    "duration": 17,
    "start_time": "2022-11-03T14:26:28.664Z"
   },
   {
    "duration": 11,
    "start_time": "2022-11-03T14:26:28.683Z"
   },
   {
    "duration": 50,
    "start_time": "2022-11-03T14:26:28.695Z"
   },
   {
    "duration": 5,
    "start_time": "2022-11-03T14:26:28.747Z"
   },
   {
    "duration": 14,
    "start_time": "2022-11-03T14:26:28.754Z"
   },
   {
    "duration": 10,
    "start_time": "2022-11-03T14:26:28.770Z"
   },
   {
    "duration": 9,
    "start_time": "2022-11-03T14:26:28.782Z"
   },
   {
    "duration": 12,
    "start_time": "2022-11-03T14:26:28.793Z"
   },
   {
    "duration": 14,
    "start_time": "2022-11-03T14:26:28.808Z"
   },
   {
    "duration": 8,
    "start_time": "2022-11-03T14:26:28.824Z"
   },
   {
    "duration": 9,
    "start_time": "2022-11-03T14:26:28.835Z"
   },
   {
    "duration": 8,
    "start_time": "2022-11-03T14:26:28.846Z"
   },
   {
    "duration": 18,
    "start_time": "2022-11-03T14:26:28.856Z"
   },
   {
    "duration": 16,
    "start_time": "2022-11-03T14:26:28.876Z"
   },
   {
    "duration": 11,
    "start_time": "2022-11-03T14:26:28.894Z"
   },
   {
    "duration": 10,
    "start_time": "2022-11-03T14:26:28.907Z"
   },
   {
    "duration": 9,
    "start_time": "2022-11-03T14:26:28.918Z"
   },
   {
    "duration": 25,
    "start_time": "2022-11-03T14:26:28.930Z"
   },
   {
    "duration": 2,
    "start_time": "2022-11-03T14:26:43.551Z"
   },
   {
    "duration": 4,
    "start_time": "2022-11-03T14:26:54.985Z"
   },
   {
    "duration": 10,
    "start_time": "2022-11-03T14:27:05.713Z"
   },
   {
    "duration": 3,
    "start_time": "2022-11-03T14:27:50.185Z"
   },
   {
    "duration": 54,
    "start_time": "2022-11-03T14:29:25.877Z"
   },
   {
    "duration": 14,
    "start_time": "2022-11-03T14:29:58.001Z"
   },
   {
    "duration": 5,
    "start_time": "2022-11-03T14:30:02.970Z"
   },
   {
    "duration": 4,
    "start_time": "2022-11-03T14:31:16.539Z"
   },
   {
    "duration": 4,
    "start_time": "2022-11-03T14:31:21.650Z"
   },
   {
    "duration": 4,
    "start_time": "2022-11-03T14:31:27.313Z"
   },
   {
    "duration": 11,
    "start_time": "2022-11-03T14:33:23.318Z"
   },
   {
    "duration": 4,
    "start_time": "2022-11-03T14:33:26.822Z"
   },
   {
    "duration": 15,
    "start_time": "2022-11-03T14:34:31.300Z"
   },
   {
    "duration": 12,
    "start_time": "2022-11-03T14:35:07.701Z"
   },
   {
    "duration": 13,
    "start_time": "2022-11-03T14:36:03.067Z"
   },
   {
    "duration": 10,
    "start_time": "2022-11-03T14:36:23.712Z"
   },
   {
    "duration": 51,
    "start_time": "2022-11-03T18:18:28.285Z"
   },
   {
    "duration": 8,
    "start_time": "2022-11-03T18:19:00.910Z"
   },
   {
    "duration": 7,
    "start_time": "2022-11-03T18:19:13.690Z"
   },
   {
    "duration": 7,
    "start_time": "2022-11-03T18:20:24.894Z"
   },
   {
    "duration": 7,
    "start_time": "2022-11-03T18:20:39.405Z"
   },
   {
    "duration": 58,
    "start_time": "2022-11-03T20:28:36.199Z"
   },
   {
    "duration": 42,
    "start_time": "2022-11-03T20:32:22.763Z"
   },
   {
    "duration": 48,
    "start_time": "2022-11-03T20:32:25.238Z"
   },
   {
    "duration": 47,
    "start_time": "2022-11-03T20:32:27.558Z"
   },
   {
    "duration": 7,
    "start_time": "2022-11-03T20:50:02.421Z"
   },
   {
    "duration": 7,
    "start_time": "2022-11-03T20:50:16.575Z"
   },
   {
    "duration": 9,
    "start_time": "2022-11-03T20:51:31.166Z"
   },
   {
    "duration": 388,
    "start_time": "2022-11-03T20:51:37.510Z"
   },
   {
    "duration": 334,
    "start_time": "2022-11-03T20:51:37.900Z"
   },
   {
    "duration": 18,
    "start_time": "2022-11-03T20:51:38.236Z"
   },
   {
    "duration": 31,
    "start_time": "2022-11-03T20:51:38.256Z"
   },
   {
    "duration": 11,
    "start_time": "2022-11-03T20:51:38.290Z"
   },
   {
    "duration": 62,
    "start_time": "2022-11-03T20:51:38.303Z"
   },
   {
    "duration": 6,
    "start_time": "2022-11-03T20:51:38.369Z"
   },
   {
    "duration": 10,
    "start_time": "2022-11-03T20:51:38.376Z"
   },
   {
    "duration": 4,
    "start_time": "2022-11-03T20:51:38.387Z"
   },
   {
    "duration": 50,
    "start_time": "2022-11-03T20:51:38.393Z"
   },
   {
    "duration": 0,
    "start_time": "2022-11-03T20:51:38.445Z"
   },
   {
    "duration": 0,
    "start_time": "2022-11-03T20:51:38.446Z"
   },
   {
    "duration": 0,
    "start_time": "2022-11-03T20:51:38.446Z"
   },
   {
    "duration": 0,
    "start_time": "2022-11-03T20:51:38.447Z"
   },
   {
    "duration": 0,
    "start_time": "2022-11-03T20:51:38.448Z"
   },
   {
    "duration": 0,
    "start_time": "2022-11-03T20:51:38.449Z"
   },
   {
    "duration": 0,
    "start_time": "2022-11-03T20:51:38.450Z"
   },
   {
    "duration": 0,
    "start_time": "2022-11-03T20:51:38.452Z"
   },
   {
    "duration": 0,
    "start_time": "2022-11-03T20:51:38.453Z"
   },
   {
    "duration": 0,
    "start_time": "2022-11-03T20:51:38.455Z"
   },
   {
    "duration": 0,
    "start_time": "2022-11-03T20:51:38.456Z"
   },
   {
    "duration": 0,
    "start_time": "2022-11-03T20:51:38.457Z"
   },
   {
    "duration": 5,
    "start_time": "2022-11-03T20:51:52.666Z"
   },
   {
    "duration": 8,
    "start_time": "2022-11-03T20:51:55.215Z"
   },
   {
    "duration": 15,
    "start_time": "2022-11-03T21:11:49.778Z"
   },
   {
    "duration": 3,
    "start_time": "2022-11-03T21:12:00.481Z"
   },
   {
    "duration": 7,
    "start_time": "2022-11-03T21:12:50.610Z"
   },
   {
    "duration": 23,
    "start_time": "2022-11-03T21:14:36.243Z"
   },
   {
    "duration": 6,
    "start_time": "2022-11-03T21:14:40.572Z"
   },
   {
    "duration": 14,
    "start_time": "2022-11-03T21:15:14.401Z"
   },
   {
    "duration": 9,
    "start_time": "2022-11-03T21:15:17.546Z"
   },
   {
    "duration": 13,
    "start_time": "2022-11-03T21:15:41.823Z"
   },
   {
    "duration": 70,
    "start_time": "2022-11-03T21:19:52.904Z"
   },
   {
    "duration": 51,
    "start_time": "2022-11-03T21:23:38.970Z"
   },
   {
    "duration": 47,
    "start_time": "2022-11-03T21:23:44.764Z"
   },
   {
    "duration": 4,
    "start_time": "2022-11-03T21:24:10.183Z"
   },
   {
    "duration": 6,
    "start_time": "2022-11-03T21:24:25.397Z"
   },
   {
    "duration": 6,
    "start_time": "2022-11-03T21:26:29.465Z"
   },
   {
    "duration": 8,
    "start_time": "2022-11-03T21:26:31.256Z"
   },
   {
    "duration": 35,
    "start_time": "2022-11-03T21:30:08.874Z"
   },
   {
    "duration": 33,
    "start_time": "2022-11-03T21:32:37.992Z"
   },
   {
    "duration": 16,
    "start_time": "2022-11-03T21:41:04.137Z"
   },
   {
    "duration": 8,
    "start_time": "2022-11-03T21:43:14.352Z"
   },
   {
    "duration": 11,
    "start_time": "2022-11-03T21:43:56.964Z"
   },
   {
    "duration": 4,
    "start_time": "2022-11-03T21:50:58.664Z"
   },
   {
    "duration": 6,
    "start_time": "2022-11-03T21:51:53.234Z"
   },
   {
    "duration": 17,
    "start_time": "2022-11-03T21:55:32.532Z"
   },
   {
    "duration": 5,
    "start_time": "2022-11-03T22:04:56.356Z"
   },
   {
    "duration": 14,
    "start_time": "2022-11-03T22:17:24.825Z"
   },
   {
    "duration": 15,
    "start_time": "2022-11-03T22:18:22.627Z"
   },
   {
    "duration": 18,
    "start_time": "2022-11-03T22:24:30.414Z"
   },
   {
    "duration": 14,
    "start_time": "2022-11-03T22:25:35.610Z"
   },
   {
    "duration": 9,
    "start_time": "2022-11-03T22:27:22.559Z"
   },
   {
    "duration": 5,
    "start_time": "2022-11-03T22:27:26.604Z"
   },
   {
    "duration": 59,
    "start_time": "2022-11-05T20:01:06.778Z"
   },
   {
    "duration": 7,
    "start_time": "2022-11-05T20:02:22.307Z"
   },
   {
    "duration": 9,
    "start_time": "2022-11-05T20:05:43.934Z"
   },
   {
    "duration": 7,
    "start_time": "2022-11-05T20:05:54.367Z"
   },
   {
    "duration": 390,
    "start_time": "2022-11-05T20:06:00.766Z"
   },
   {
    "duration": 704,
    "start_time": "2022-11-05T20:06:01.158Z"
   },
   {
    "duration": 13,
    "start_time": "2022-11-05T20:06:01.865Z"
   },
   {
    "duration": 74,
    "start_time": "2022-11-05T20:06:01.880Z"
   },
   {
    "duration": 22,
    "start_time": "2022-11-05T20:06:01.957Z"
   },
   {
    "duration": 82,
    "start_time": "2022-11-05T20:06:01.982Z"
   },
   {
    "duration": 5,
    "start_time": "2022-11-05T20:06:02.066Z"
   },
   {
    "duration": 49,
    "start_time": "2022-11-05T20:06:02.073Z"
   },
   {
    "duration": 25,
    "start_time": "2022-11-05T20:06:02.125Z"
   },
   {
    "duration": 31,
    "start_time": "2022-11-05T20:06:02.152Z"
   },
   {
    "duration": 17,
    "start_time": "2022-11-05T20:06:02.185Z"
   },
   {
    "duration": 66,
    "start_time": "2022-11-05T20:06:02.204Z"
   },
   {
    "duration": 18,
    "start_time": "2022-11-05T20:06:02.272Z"
   },
   {
    "duration": 28,
    "start_time": "2022-11-05T20:06:02.292Z"
   },
   {
    "duration": 72,
    "start_time": "2022-11-05T20:06:02.322Z"
   },
   {
    "duration": 56,
    "start_time": "2022-11-05T20:06:02.396Z"
   },
   {
    "duration": 44,
    "start_time": "2022-11-05T20:06:02.454Z"
   },
   {
    "duration": 12,
    "start_time": "2022-11-05T20:06:02.500Z"
   },
   {
    "duration": 51,
    "start_time": "2022-11-05T20:06:02.513Z"
   },
   {
    "duration": 62,
    "start_time": "2022-11-05T20:06:02.566Z"
   },
   {
    "duration": 36,
    "start_time": "2022-11-05T20:06:02.630Z"
   },
   {
    "duration": 27,
    "start_time": "2022-11-05T20:06:02.667Z"
   },
   {
    "duration": 46,
    "start_time": "2022-11-05T20:06:39.765Z"
   },
   {
    "duration": 11,
    "start_time": "2022-11-05T20:06:48.804Z"
   },
   {
    "duration": 45,
    "start_time": "2022-11-05T20:07:40.077Z"
   },
   {
    "duration": 10,
    "start_time": "2022-11-05T20:07:45.815Z"
   },
   {
    "duration": 490,
    "start_time": "2022-11-05T20:08:27.284Z"
   },
   {
    "duration": 476,
    "start_time": "2022-11-05T20:08:45.832Z"
   },
   {
    "duration": 2,
    "start_time": "2022-11-05T20:08:59.814Z"
   },
   {
    "duration": 71,
    "start_time": "2022-11-05T20:08:59.818Z"
   },
   {
    "duration": 9,
    "start_time": "2022-11-05T20:08:59.890Z"
   },
   {
    "duration": 15,
    "start_time": "2022-11-05T20:08:59.901Z"
   },
   {
    "duration": 8,
    "start_time": "2022-11-05T20:08:59.918Z"
   },
   {
    "duration": 59,
    "start_time": "2022-11-05T20:08:59.927Z"
   },
   {
    "duration": 5,
    "start_time": "2022-11-05T20:08:59.988Z"
   },
   {
    "duration": 21,
    "start_time": "2022-11-05T20:08:59.995Z"
   },
   {
    "duration": 6,
    "start_time": "2022-11-05T20:09:00.017Z"
   },
   {
    "duration": 377,
    "start_time": "2022-11-05T20:09:00.025Z"
   },
   {
    "duration": 0,
    "start_time": "2022-11-05T20:09:00.404Z"
   },
   {
    "duration": 0,
    "start_time": "2022-11-05T20:09:00.405Z"
   },
   {
    "duration": 0,
    "start_time": "2022-11-05T20:09:00.406Z"
   },
   {
    "duration": 0,
    "start_time": "2022-11-05T20:09:00.407Z"
   },
   {
    "duration": 0,
    "start_time": "2022-11-05T20:09:00.408Z"
   },
   {
    "duration": 0,
    "start_time": "2022-11-05T20:09:00.409Z"
   },
   {
    "duration": 0,
    "start_time": "2022-11-05T20:09:00.410Z"
   },
   {
    "duration": 0,
    "start_time": "2022-11-05T20:09:00.410Z"
   },
   {
    "duration": 0,
    "start_time": "2022-11-05T20:09:00.412Z"
   },
   {
    "duration": 0,
    "start_time": "2022-11-05T20:09:00.412Z"
   },
   {
    "duration": 0,
    "start_time": "2022-11-05T20:09:00.413Z"
   },
   {
    "duration": 0,
    "start_time": "2022-11-05T20:09:00.414Z"
   },
   {
    "duration": 5,
    "start_time": "2022-11-05T20:09:20.138Z"
   },
   {
    "duration": 3,
    "start_time": "2022-11-05T20:09:24.673Z"
   },
   {
    "duration": 5,
    "start_time": "2022-11-05T20:09:45.076Z"
   },
   {
    "duration": 730,
    "start_time": "2022-11-05T20:09:50.414Z"
   },
   {
    "duration": 584,
    "start_time": "2022-11-05T20:10:00.705Z"
   },
   {
    "duration": 4,
    "start_time": "2022-11-05T20:10:07.096Z"
   },
   {
    "duration": 75,
    "start_time": "2022-11-05T20:10:07.102Z"
   },
   {
    "duration": 7,
    "start_time": "2022-11-05T20:10:07.179Z"
   },
   {
    "duration": 21,
    "start_time": "2022-11-05T20:10:07.188Z"
   },
   {
    "duration": 9,
    "start_time": "2022-11-05T20:10:07.212Z"
   },
   {
    "duration": 36,
    "start_time": "2022-11-05T20:10:07.222Z"
   },
   {
    "duration": 5,
    "start_time": "2022-11-05T20:10:07.260Z"
   },
   {
    "duration": 10,
    "start_time": "2022-11-05T20:10:07.266Z"
   },
   {
    "duration": 32,
    "start_time": "2022-11-05T20:10:07.277Z"
   },
   {
    "duration": 5,
    "start_time": "2022-11-05T20:10:07.311Z"
   },
   {
    "duration": 595,
    "start_time": "2022-11-05T20:10:07.317Z"
   },
   {
    "duration": 0,
    "start_time": "2022-11-05T20:10:07.915Z"
   },
   {
    "duration": 0,
    "start_time": "2022-11-05T20:10:07.916Z"
   },
   {
    "duration": 0,
    "start_time": "2022-11-05T20:10:07.918Z"
   },
   {
    "duration": 0,
    "start_time": "2022-11-05T20:10:07.919Z"
   },
   {
    "duration": 0,
    "start_time": "2022-11-05T20:10:07.920Z"
   },
   {
    "duration": 0,
    "start_time": "2022-11-05T20:10:07.921Z"
   },
   {
    "duration": 0,
    "start_time": "2022-11-05T20:10:07.922Z"
   },
   {
    "duration": 0,
    "start_time": "2022-11-05T20:10:07.923Z"
   },
   {
    "duration": 0,
    "start_time": "2022-11-05T20:10:07.924Z"
   },
   {
    "duration": 0,
    "start_time": "2022-11-05T20:10:07.925Z"
   },
   {
    "duration": 0,
    "start_time": "2022-11-05T20:10:07.925Z"
   },
   {
    "duration": 671,
    "start_time": "2022-11-05T20:10:17.259Z"
   },
   {
    "duration": 571,
    "start_time": "2022-11-05T20:13:09.058Z"
   },
   {
    "duration": 593,
    "start_time": "2022-11-05T20:13:20.110Z"
   },
   {
    "duration": 2,
    "start_time": "2022-11-05T20:13:27.713Z"
   },
   {
    "duration": 70,
    "start_time": "2022-11-05T20:13:27.717Z"
   },
   {
    "duration": 8,
    "start_time": "2022-11-05T20:13:27.789Z"
   },
   {
    "duration": 18,
    "start_time": "2022-11-05T20:13:27.799Z"
   },
   {
    "duration": 9,
    "start_time": "2022-11-05T20:13:27.820Z"
   },
   {
    "duration": 35,
    "start_time": "2022-11-05T20:13:27.831Z"
   },
   {
    "duration": 4,
    "start_time": "2022-11-05T20:13:27.867Z"
   },
   {
    "duration": 36,
    "start_time": "2022-11-05T20:13:27.873Z"
   },
   {
    "duration": 3,
    "start_time": "2022-11-05T20:13:27.911Z"
   },
   {
    "duration": 12,
    "start_time": "2022-11-05T20:13:27.916Z"
   },
   {
    "duration": 4,
    "start_time": "2022-11-05T20:13:27.930Z"
   },
   {
    "duration": 34,
    "start_time": "2022-11-05T20:13:27.936Z"
   },
   {
    "duration": 7,
    "start_time": "2022-11-05T20:13:27.972Z"
   },
   {
    "duration": 4,
    "start_time": "2022-11-05T20:13:28.008Z"
   },
   {
    "duration": 29,
    "start_time": "2022-11-05T20:13:28.014Z"
   },
   {
    "duration": 18,
    "start_time": "2022-11-05T20:13:28.045Z"
   },
   {
    "duration": 13,
    "start_time": "2022-11-05T20:13:28.064Z"
   },
   {
    "duration": 2,
    "start_time": "2022-11-05T20:13:28.079Z"
   },
   {
    "duration": 26,
    "start_time": "2022-11-05T20:13:28.083Z"
   },
   {
    "duration": 5,
    "start_time": "2022-11-05T20:13:28.111Z"
   },
   {
    "duration": 5,
    "start_time": "2022-11-05T20:13:28.117Z"
   },
   {
    "duration": 3,
    "start_time": "2022-11-05T20:13:28.124Z"
   },
   {
    "duration": 14,
    "start_time": "2022-11-05T20:31:12.220Z"
   },
   {
    "duration": 5,
    "start_time": "2022-11-05T20:31:24.850Z"
   },
   {
    "duration": 5,
    "start_time": "2022-11-05T20:31:32.914Z"
   },
   {
    "duration": 40,
    "start_time": "2022-11-05T21:21:09.772Z"
   },
   {
    "duration": 6,
    "start_time": "2022-11-05T21:21:51.724Z"
   },
   {
    "duration": 14,
    "start_time": "2022-11-05T21:27:40.972Z"
   },
   {
    "duration": 4,
    "start_time": "2022-11-05T21:40:22.201Z"
   },
   {
    "duration": 4,
    "start_time": "2022-11-05T21:40:28.848Z"
   },
   {
    "duration": 4,
    "start_time": "2022-11-05T21:40:38.278Z"
   },
   {
    "duration": 12,
    "start_time": "2022-11-05T21:47:08.329Z"
   },
   {
    "duration": 17,
    "start_time": "2022-11-05T21:48:01.947Z"
   },
   {
    "duration": 17,
    "start_time": "2022-11-05T21:48:04.262Z"
   },
   {
    "duration": 3,
    "start_time": "2022-11-05T21:51:05.770Z"
   },
   {
    "duration": 80,
    "start_time": "2022-11-05T21:51:05.775Z"
   },
   {
    "duration": 9,
    "start_time": "2022-11-05T21:51:05.856Z"
   },
   {
    "duration": 32,
    "start_time": "2022-11-05T21:51:05.867Z"
   },
   {
    "duration": 21,
    "start_time": "2022-11-05T21:51:05.902Z"
   },
   {
    "duration": 73,
    "start_time": "2022-11-05T21:51:05.924Z"
   },
   {
    "duration": 4,
    "start_time": "2022-11-05T21:51:05.998Z"
   },
   {
    "duration": 33,
    "start_time": "2022-11-05T21:51:06.004Z"
   },
   {
    "duration": 17,
    "start_time": "2022-11-05T21:51:06.038Z"
   },
   {
    "duration": 25,
    "start_time": "2022-11-05T21:51:06.057Z"
   },
   {
    "duration": 27,
    "start_time": "2022-11-05T21:51:06.084Z"
   },
   {
    "duration": 48,
    "start_time": "2022-11-05T21:51:06.113Z"
   },
   {
    "duration": 4,
    "start_time": "2022-11-05T21:51:06.162Z"
   },
   {
    "duration": 30,
    "start_time": "2022-11-05T21:51:06.168Z"
   },
   {
    "duration": 15,
    "start_time": "2022-11-05T21:51:06.200Z"
   },
   {
    "duration": 41,
    "start_time": "2022-11-05T21:51:06.216Z"
   },
   {
    "duration": 34,
    "start_time": "2022-11-05T21:51:06.259Z"
   },
   {
    "duration": 50,
    "start_time": "2022-11-05T21:51:06.295Z"
   },
   {
    "duration": 35,
    "start_time": "2022-11-05T21:51:06.348Z"
   },
   {
    "duration": 40,
    "start_time": "2022-11-05T21:51:06.385Z"
   },
   {
    "duration": 0,
    "start_time": "2022-11-05T21:51:06.427Z"
   },
   {
    "duration": 0,
    "start_time": "2022-11-05T21:51:06.428Z"
   },
   {
    "duration": 0,
    "start_time": "2022-11-05T21:51:06.430Z"
   },
   {
    "duration": 19,
    "start_time": "2022-11-05T21:51:19.638Z"
   },
   {
    "duration": 29,
    "start_time": "2022-11-05T21:53:34.821Z"
   },
   {
    "duration": 12,
    "start_time": "2022-11-05T21:54:30.099Z"
   },
   {
    "duration": 48,
    "start_time": "2022-11-05T21:56:44.010Z"
   },
   {
    "duration": 10,
    "start_time": "2022-11-05T21:56:58.150Z"
   },
   {
    "duration": 10,
    "start_time": "2022-11-05T21:59:07.697Z"
   },
   {
    "duration": 8,
    "start_time": "2022-11-05T21:59:16.114Z"
   },
   {
    "duration": 18,
    "start_time": "2022-11-05T22:00:39.076Z"
   },
   {
    "duration": 3,
    "start_time": "2022-11-05T22:09:06.398Z"
   },
   {
    "duration": 3,
    "start_time": "2022-11-05T22:09:19.087Z"
   },
   {
    "duration": 9,
    "start_time": "2022-11-05T22:11:32.389Z"
   },
   {
    "duration": 5,
    "start_time": "2022-11-05T22:12:24.335Z"
   },
   {
    "duration": 18,
    "start_time": "2022-11-05T22:13:39.829Z"
   },
   {
    "duration": 679,
    "start_time": "2022-11-05T22:24:36.019Z"
   },
   {
    "duration": 666,
    "start_time": "2022-11-05T22:25:12.659Z"
   },
   {
    "duration": 7,
    "start_time": "2022-11-05T22:26:34.473Z"
   },
   {
    "duration": 3,
    "start_time": "2022-11-05T22:27:17.280Z"
   },
   {
    "duration": 6,
    "start_time": "2022-11-05T22:27:19.092Z"
   },
   {
    "duration": 3,
    "start_time": "2022-11-05T22:27:27.300Z"
   },
   {
    "duration": 233,
    "start_time": "2022-11-05T22:27:28.284Z"
   },
   {
    "duration": 248,
    "start_time": "2022-11-05T22:28:17.988Z"
   },
   {
    "duration": 162,
    "start_time": "2022-11-05T22:28:29.101Z"
   },
   {
    "duration": 231,
    "start_time": "2022-11-05T22:29:37.141Z"
   },
   {
    "duration": 3,
    "start_time": "2022-11-05T22:30:55.406Z"
   },
   {
    "duration": 204,
    "start_time": "2022-11-05T22:30:56.376Z"
   },
   {
    "duration": 159,
    "start_time": "2022-11-05T22:31:43.883Z"
   },
   {
    "duration": 188,
    "start_time": "2022-11-05T22:31:54.139Z"
   },
   {
    "duration": 205,
    "start_time": "2022-11-05T22:35:08.756Z"
   },
   {
    "duration": 3,
    "start_time": "2022-11-05T22:35:13.531Z"
   },
   {
    "duration": 87,
    "start_time": "2022-11-05T22:35:13.535Z"
   },
   {
    "duration": 8,
    "start_time": "2022-11-05T22:35:13.624Z"
   },
   {
    "duration": 24,
    "start_time": "2022-11-05T22:35:13.633Z"
   },
   {
    "duration": 55,
    "start_time": "2022-11-05T22:35:13.659Z"
   },
   {
    "duration": 46,
    "start_time": "2022-11-05T22:35:13.716Z"
   },
   {
    "duration": 11,
    "start_time": "2022-11-05T22:35:13.764Z"
   },
   {
    "duration": 48,
    "start_time": "2022-11-05T22:35:13.777Z"
   },
   {
    "duration": 23,
    "start_time": "2022-11-05T22:35:13.827Z"
   },
   {
    "duration": 32,
    "start_time": "2022-11-05T22:35:13.852Z"
   },
   {
    "duration": 31,
    "start_time": "2022-11-05T22:35:13.886Z"
   },
   {
    "duration": 58,
    "start_time": "2022-11-05T22:35:13.919Z"
   },
   {
    "duration": 4,
    "start_time": "2022-11-05T22:35:13.979Z"
   },
   {
    "duration": 28,
    "start_time": "2022-11-05T22:35:13.985Z"
   },
   {
    "duration": 42,
    "start_time": "2022-11-05T22:35:14.014Z"
   },
   {
    "duration": 80,
    "start_time": "2022-11-05T22:35:14.058Z"
   },
   {
    "duration": 39,
    "start_time": "2022-11-05T22:35:14.139Z"
   },
   {
    "duration": 57,
    "start_time": "2022-11-05T22:35:14.180Z"
   },
   {
    "duration": 20,
    "start_time": "2022-11-05T22:35:14.239Z"
   },
   {
    "duration": 43,
    "start_time": "2022-11-05T22:35:14.260Z"
   },
   {
    "duration": 39,
    "start_time": "2022-11-05T22:35:14.304Z"
   },
   {
    "duration": 34,
    "start_time": "2022-11-05T22:35:14.344Z"
   },
   {
    "duration": 250,
    "start_time": "2022-11-05T22:35:14.380Z"
   },
   {
    "duration": 208,
    "start_time": "2022-11-05T22:36:31.127Z"
   },
   {
    "duration": 3,
    "start_time": "2022-11-05T22:37:21.209Z"
   },
   {
    "duration": 4,
    "start_time": "2022-11-05T22:43:35.690Z"
   },
   {
    "duration": 244,
    "start_time": "2022-11-05T22:43:36.804Z"
   }
  ],
  "colab": {
   "provenance": []
  },
  "kernelspec": {
   "display_name": "Python 3 (ipykernel)",
   "language": "python",
   "name": "python3"
  },
  "language_info": {
   "codemirror_mode": {
    "name": "ipython",
    "version": 3
   },
   "file_extension": ".py",
   "mimetype": "text/x-python",
   "name": "python",
   "nbconvert_exporter": "python",
   "pygments_lexer": "ipython3",
   "version": "3.9.12"
  },
  "toc": {
   "base_numbering": 1,
   "nav_menu": {},
   "number_sections": true,
   "sideBar": true,
   "skip_h1_title": true,
   "title_cell": "Table of Contents",
   "title_sidebar": "Contents",
   "toc_cell": false,
   "toc_position": {},
   "toc_section_display": true,
   "toc_window_display": false
  }
 },
 "nbformat": 4,
 "nbformat_minor": 5
}
