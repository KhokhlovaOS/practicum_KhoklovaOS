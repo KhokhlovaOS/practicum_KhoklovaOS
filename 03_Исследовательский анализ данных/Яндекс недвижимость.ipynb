{
 "cells": [
  {
   "cell_type": "markdown",
   "metadata": {},
   "source": [
    "# Исследование объявлений о продаже квартир\n",
    "\n",
    "В вашем распоряжении данные сервиса Яндекс.Недвижимость — архив объявлений о продаже квартир в Санкт-Петербурге и соседних населённых пунктов за несколько лет. Нужно научиться определять рыночную стоимость объектов недвижимости. Ваша задача — установить параметры. Это позволит построить автоматизированную систему: она отследит аномалии и мошенническую деятельность. \n",
    "\n",
    "По каждой квартире на продажу доступны два вида данных. Первые вписаны пользователем, вторые — получены автоматически на основе картографических данных. Например, расстояние до центра, аэропорта, ближайшего парка и водоёма. "
   ]
  },
  {
   "cell_type": "markdown",
   "metadata": {},
   "source": [
    "### Откройте файл с данными и изучите общую информацию. "
   ]
  },
  {
   "cell_type": "code",
   "execution_count": 1,
   "metadata": {},
   "outputs": [],
   "source": [
    "import pandas as pd #импортирование библиотеки pandas\n",
    "import matplotlib.pyplot as plt #импортируем библиотеку для построения диаграмм\n"
   ]
  },
  {
   "cell_type": "code",
   "execution_count": 2,
   "metadata": {},
   "outputs": [],
   "source": [
    "data = pd.read_csv('/datasets/real_estate_data.csv', sep = '\\t') #прочитала файл csv"
   ]
  },
  {
   "cell_type": "code",
   "execution_count": 3,
   "metadata": {},
   "outputs": [
    {
     "data": {
      "text/html": [
       "<div>\n",
       "<style scoped>\n",
       "    .dataframe tbody tr th:only-of-type {\n",
       "        vertical-align: middle;\n",
       "    }\n",
       "\n",
       "    .dataframe tbody tr th {\n",
       "        vertical-align: top;\n",
       "    }\n",
       "\n",
       "    .dataframe thead th {\n",
       "        text-align: right;\n",
       "    }\n",
       "</style>\n",
       "<table border=\"1\" class=\"dataframe\">\n",
       "  <thead>\n",
       "    <tr style=\"text-align: right;\">\n",
       "      <th></th>\n",
       "      <th>total_images</th>\n",
       "      <th>last_price</th>\n",
       "      <th>total_area</th>\n",
       "      <th>first_day_exposition</th>\n",
       "      <th>rooms</th>\n",
       "      <th>ceiling_height</th>\n",
       "      <th>floors_total</th>\n",
       "      <th>living_area</th>\n",
       "      <th>floor</th>\n",
       "      <th>is_apartment</th>\n",
       "      <th>...</th>\n",
       "      <th>kitchen_area</th>\n",
       "      <th>balcony</th>\n",
       "      <th>locality_name</th>\n",
       "      <th>airports_nearest</th>\n",
       "      <th>cityCenters_nearest</th>\n",
       "      <th>parks_around3000</th>\n",
       "      <th>parks_nearest</th>\n",
       "      <th>ponds_around3000</th>\n",
       "      <th>ponds_nearest</th>\n",
       "      <th>days_exposition</th>\n",
       "    </tr>\n",
       "  </thead>\n",
       "  <tbody>\n",
       "    <tr>\n",
       "      <th>0</th>\n",
       "      <td>20</td>\n",
       "      <td>13000000.0</td>\n",
       "      <td>108.00</td>\n",
       "      <td>2019-03-07T00:00:00</td>\n",
       "      <td>3</td>\n",
       "      <td>2.70</td>\n",
       "      <td>16.0</td>\n",
       "      <td>51.00</td>\n",
       "      <td>8</td>\n",
       "      <td>NaN</td>\n",
       "      <td>...</td>\n",
       "      <td>25.00</td>\n",
       "      <td>NaN</td>\n",
       "      <td>Санкт-Петербург</td>\n",
       "      <td>18863.0</td>\n",
       "      <td>16028.0</td>\n",
       "      <td>1.0</td>\n",
       "      <td>482.0</td>\n",
       "      <td>2.0</td>\n",
       "      <td>755.0</td>\n",
       "      <td>NaN</td>\n",
       "    </tr>\n",
       "    <tr>\n",
       "      <th>1</th>\n",
       "      <td>7</td>\n",
       "      <td>3350000.0</td>\n",
       "      <td>40.40</td>\n",
       "      <td>2018-12-04T00:00:00</td>\n",
       "      <td>1</td>\n",
       "      <td>NaN</td>\n",
       "      <td>11.0</td>\n",
       "      <td>18.60</td>\n",
       "      <td>1</td>\n",
       "      <td>NaN</td>\n",
       "      <td>...</td>\n",
       "      <td>11.00</td>\n",
       "      <td>2.0</td>\n",
       "      <td>посёлок Шушары</td>\n",
       "      <td>12817.0</td>\n",
       "      <td>18603.0</td>\n",
       "      <td>0.0</td>\n",
       "      <td>NaN</td>\n",
       "      <td>0.0</td>\n",
       "      <td>NaN</td>\n",
       "      <td>81.0</td>\n",
       "    </tr>\n",
       "    <tr>\n",
       "      <th>2</th>\n",
       "      <td>10</td>\n",
       "      <td>5196000.0</td>\n",
       "      <td>56.00</td>\n",
       "      <td>2015-08-20T00:00:00</td>\n",
       "      <td>2</td>\n",
       "      <td>NaN</td>\n",
       "      <td>5.0</td>\n",
       "      <td>34.30</td>\n",
       "      <td>4</td>\n",
       "      <td>NaN</td>\n",
       "      <td>...</td>\n",
       "      <td>8.30</td>\n",
       "      <td>0.0</td>\n",
       "      <td>Санкт-Петербург</td>\n",
       "      <td>21741.0</td>\n",
       "      <td>13933.0</td>\n",
       "      <td>1.0</td>\n",
       "      <td>90.0</td>\n",
       "      <td>2.0</td>\n",
       "      <td>574.0</td>\n",
       "      <td>558.0</td>\n",
       "    </tr>\n",
       "    <tr>\n",
       "      <th>3</th>\n",
       "      <td>0</td>\n",
       "      <td>64900000.0</td>\n",
       "      <td>159.00</td>\n",
       "      <td>2015-07-24T00:00:00</td>\n",
       "      <td>3</td>\n",
       "      <td>NaN</td>\n",
       "      <td>14.0</td>\n",
       "      <td>NaN</td>\n",
       "      <td>9</td>\n",
       "      <td>NaN</td>\n",
       "      <td>...</td>\n",
       "      <td>NaN</td>\n",
       "      <td>0.0</td>\n",
       "      <td>Санкт-Петербург</td>\n",
       "      <td>28098.0</td>\n",
       "      <td>6800.0</td>\n",
       "      <td>2.0</td>\n",
       "      <td>84.0</td>\n",
       "      <td>3.0</td>\n",
       "      <td>234.0</td>\n",
       "      <td>424.0</td>\n",
       "    </tr>\n",
       "    <tr>\n",
       "      <th>4</th>\n",
       "      <td>2</td>\n",
       "      <td>10000000.0</td>\n",
       "      <td>100.00</td>\n",
       "      <td>2018-06-19T00:00:00</td>\n",
       "      <td>2</td>\n",
       "      <td>3.03</td>\n",
       "      <td>14.0</td>\n",
       "      <td>32.00</td>\n",
       "      <td>13</td>\n",
       "      <td>NaN</td>\n",
       "      <td>...</td>\n",
       "      <td>41.00</td>\n",
       "      <td>NaN</td>\n",
       "      <td>Санкт-Петербург</td>\n",
       "      <td>31856.0</td>\n",
       "      <td>8098.0</td>\n",
       "      <td>2.0</td>\n",
       "      <td>112.0</td>\n",
       "      <td>1.0</td>\n",
       "      <td>48.0</td>\n",
       "      <td>121.0</td>\n",
       "    </tr>\n",
       "    <tr>\n",
       "      <th>5</th>\n",
       "      <td>10</td>\n",
       "      <td>2890000.0</td>\n",
       "      <td>30.40</td>\n",
       "      <td>2018-09-10T00:00:00</td>\n",
       "      <td>1</td>\n",
       "      <td>NaN</td>\n",
       "      <td>12.0</td>\n",
       "      <td>14.40</td>\n",
       "      <td>5</td>\n",
       "      <td>NaN</td>\n",
       "      <td>...</td>\n",
       "      <td>9.10</td>\n",
       "      <td>NaN</td>\n",
       "      <td>городской посёлок Янино-1</td>\n",
       "      <td>NaN</td>\n",
       "      <td>NaN</td>\n",
       "      <td>NaN</td>\n",
       "      <td>NaN</td>\n",
       "      <td>NaN</td>\n",
       "      <td>NaN</td>\n",
       "      <td>55.0</td>\n",
       "    </tr>\n",
       "    <tr>\n",
       "      <th>6</th>\n",
       "      <td>6</td>\n",
       "      <td>3700000.0</td>\n",
       "      <td>37.30</td>\n",
       "      <td>2017-11-02T00:00:00</td>\n",
       "      <td>1</td>\n",
       "      <td>NaN</td>\n",
       "      <td>26.0</td>\n",
       "      <td>10.60</td>\n",
       "      <td>6</td>\n",
       "      <td>NaN</td>\n",
       "      <td>...</td>\n",
       "      <td>14.40</td>\n",
       "      <td>1.0</td>\n",
       "      <td>посёлок Парголово</td>\n",
       "      <td>52996.0</td>\n",
       "      <td>19143.0</td>\n",
       "      <td>0.0</td>\n",
       "      <td>NaN</td>\n",
       "      <td>0.0</td>\n",
       "      <td>NaN</td>\n",
       "      <td>155.0</td>\n",
       "    </tr>\n",
       "    <tr>\n",
       "      <th>7</th>\n",
       "      <td>5</td>\n",
       "      <td>7915000.0</td>\n",
       "      <td>71.60</td>\n",
       "      <td>2019-04-18T00:00:00</td>\n",
       "      <td>2</td>\n",
       "      <td>NaN</td>\n",
       "      <td>24.0</td>\n",
       "      <td>NaN</td>\n",
       "      <td>22</td>\n",
       "      <td>NaN</td>\n",
       "      <td>...</td>\n",
       "      <td>18.90</td>\n",
       "      <td>2.0</td>\n",
       "      <td>Санкт-Петербург</td>\n",
       "      <td>23982.0</td>\n",
       "      <td>11634.0</td>\n",
       "      <td>0.0</td>\n",
       "      <td>NaN</td>\n",
       "      <td>0.0</td>\n",
       "      <td>NaN</td>\n",
       "      <td>NaN</td>\n",
       "    </tr>\n",
       "    <tr>\n",
       "      <th>8</th>\n",
       "      <td>20</td>\n",
       "      <td>2900000.0</td>\n",
       "      <td>33.16</td>\n",
       "      <td>2018-05-23T00:00:00</td>\n",
       "      <td>1</td>\n",
       "      <td>NaN</td>\n",
       "      <td>27.0</td>\n",
       "      <td>15.43</td>\n",
       "      <td>26</td>\n",
       "      <td>NaN</td>\n",
       "      <td>...</td>\n",
       "      <td>8.81</td>\n",
       "      <td>NaN</td>\n",
       "      <td>посёлок Мурино</td>\n",
       "      <td>NaN</td>\n",
       "      <td>NaN</td>\n",
       "      <td>NaN</td>\n",
       "      <td>NaN</td>\n",
       "      <td>NaN</td>\n",
       "      <td>NaN</td>\n",
       "      <td>189.0</td>\n",
       "    </tr>\n",
       "    <tr>\n",
       "      <th>9</th>\n",
       "      <td>18</td>\n",
       "      <td>5400000.0</td>\n",
       "      <td>61.00</td>\n",
       "      <td>2017-02-26T00:00:00</td>\n",
       "      <td>3</td>\n",
       "      <td>2.50</td>\n",
       "      <td>9.0</td>\n",
       "      <td>43.60</td>\n",
       "      <td>7</td>\n",
       "      <td>NaN</td>\n",
       "      <td>...</td>\n",
       "      <td>6.50</td>\n",
       "      <td>2.0</td>\n",
       "      <td>Санкт-Петербург</td>\n",
       "      <td>50898.0</td>\n",
       "      <td>15008.0</td>\n",
       "      <td>0.0</td>\n",
       "      <td>NaN</td>\n",
       "      <td>0.0</td>\n",
       "      <td>NaN</td>\n",
       "      <td>289.0</td>\n",
       "    </tr>\n",
       "    <tr>\n",
       "      <th>10</th>\n",
       "      <td>5</td>\n",
       "      <td>5050000.0</td>\n",
       "      <td>39.60</td>\n",
       "      <td>2017-11-16T00:00:00</td>\n",
       "      <td>1</td>\n",
       "      <td>2.67</td>\n",
       "      <td>12.0</td>\n",
       "      <td>20.30</td>\n",
       "      <td>3</td>\n",
       "      <td>NaN</td>\n",
       "      <td>...</td>\n",
       "      <td>8.50</td>\n",
       "      <td>NaN</td>\n",
       "      <td>Санкт-Петербург</td>\n",
       "      <td>38357.0</td>\n",
       "      <td>13878.0</td>\n",
       "      <td>1.0</td>\n",
       "      <td>310.0</td>\n",
       "      <td>2.0</td>\n",
       "      <td>553.0</td>\n",
       "      <td>137.0</td>\n",
       "    </tr>\n",
       "    <tr>\n",
       "      <th>11</th>\n",
       "      <td>9</td>\n",
       "      <td>3300000.0</td>\n",
       "      <td>44.00</td>\n",
       "      <td>2018-08-27T00:00:00</td>\n",
       "      <td>2</td>\n",
       "      <td>NaN</td>\n",
       "      <td>5.0</td>\n",
       "      <td>31.00</td>\n",
       "      <td>4</td>\n",
       "      <td>False</td>\n",
       "      <td>...</td>\n",
       "      <td>6.00</td>\n",
       "      <td>1.0</td>\n",
       "      <td>Ломоносов</td>\n",
       "      <td>48252.0</td>\n",
       "      <td>51677.0</td>\n",
       "      <td>0.0</td>\n",
       "      <td>NaN</td>\n",
       "      <td>0.0</td>\n",
       "      <td>NaN</td>\n",
       "      <td>7.0</td>\n",
       "    </tr>\n",
       "    <tr>\n",
       "      <th>12</th>\n",
       "      <td>10</td>\n",
       "      <td>3890000.0</td>\n",
       "      <td>54.00</td>\n",
       "      <td>2016-06-30T00:00:00</td>\n",
       "      <td>2</td>\n",
       "      <td>NaN</td>\n",
       "      <td>5.0</td>\n",
       "      <td>30.00</td>\n",
       "      <td>5</td>\n",
       "      <td>NaN</td>\n",
       "      <td>...</td>\n",
       "      <td>9.00</td>\n",
       "      <td>0.0</td>\n",
       "      <td>Сертолово</td>\n",
       "      <td>NaN</td>\n",
       "      <td>NaN</td>\n",
       "      <td>NaN</td>\n",
       "      <td>NaN</td>\n",
       "      <td>NaN</td>\n",
       "      <td>NaN</td>\n",
       "      <td>90.0</td>\n",
       "    </tr>\n",
       "    <tr>\n",
       "      <th>13</th>\n",
       "      <td>20</td>\n",
       "      <td>3550000.0</td>\n",
       "      <td>42.80</td>\n",
       "      <td>2017-07-01T00:00:00</td>\n",
       "      <td>2</td>\n",
       "      <td>2.56</td>\n",
       "      <td>5.0</td>\n",
       "      <td>27.00</td>\n",
       "      <td>5</td>\n",
       "      <td>NaN</td>\n",
       "      <td>...</td>\n",
       "      <td>5.20</td>\n",
       "      <td>1.0</td>\n",
       "      <td>Петергоф</td>\n",
       "      <td>37868.0</td>\n",
       "      <td>33058.0</td>\n",
       "      <td>1.0</td>\n",
       "      <td>294.0</td>\n",
       "      <td>3.0</td>\n",
       "      <td>298.0</td>\n",
       "      <td>366.0</td>\n",
       "    </tr>\n",
       "    <tr>\n",
       "      <th>14</th>\n",
       "      <td>1</td>\n",
       "      <td>4400000.0</td>\n",
       "      <td>36.00</td>\n",
       "      <td>2016-06-23T00:00:00</td>\n",
       "      <td>1</td>\n",
       "      <td>NaN</td>\n",
       "      <td>6.0</td>\n",
       "      <td>17.00</td>\n",
       "      <td>1</td>\n",
       "      <td>NaN</td>\n",
       "      <td>...</td>\n",
       "      <td>8.00</td>\n",
       "      <td>0.0</td>\n",
       "      <td>Пушкин</td>\n",
       "      <td>20782.0</td>\n",
       "      <td>30759.0</td>\n",
       "      <td>0.0</td>\n",
       "      <td>NaN</td>\n",
       "      <td>1.0</td>\n",
       "      <td>96.0</td>\n",
       "      <td>203.0</td>\n",
       "    </tr>\n",
       "    <tr>\n",
       "      <th>15</th>\n",
       "      <td>16</td>\n",
       "      <td>4650000.0</td>\n",
       "      <td>39.00</td>\n",
       "      <td>2017-11-18T00:00:00</td>\n",
       "      <td>1</td>\n",
       "      <td>NaN</td>\n",
       "      <td>14.0</td>\n",
       "      <td>20.50</td>\n",
       "      <td>5</td>\n",
       "      <td>NaN</td>\n",
       "      <td>...</td>\n",
       "      <td>7.60</td>\n",
       "      <td>1.0</td>\n",
       "      <td>Санкт-Петербург</td>\n",
       "      <td>12900.0</td>\n",
       "      <td>14259.0</td>\n",
       "      <td>1.0</td>\n",
       "      <td>590.0</td>\n",
       "      <td>1.0</td>\n",
       "      <td>296.0</td>\n",
       "      <td>19.0</td>\n",
       "    </tr>\n",
       "    <tr>\n",
       "      <th>16</th>\n",
       "      <td>11</td>\n",
       "      <td>6700000.0</td>\n",
       "      <td>82.00</td>\n",
       "      <td>2017-11-23T00:00:00</td>\n",
       "      <td>3</td>\n",
       "      <td>3.05</td>\n",
       "      <td>5.0</td>\n",
       "      <td>55.60</td>\n",
       "      <td>1</td>\n",
       "      <td>NaN</td>\n",
       "      <td>...</td>\n",
       "      <td>9.00</td>\n",
       "      <td>NaN</td>\n",
       "      <td>Санкт-Петербург</td>\n",
       "      <td>22108.0</td>\n",
       "      <td>10698.0</td>\n",
       "      <td>3.0</td>\n",
       "      <td>420.0</td>\n",
       "      <td>0.0</td>\n",
       "      <td>NaN</td>\n",
       "      <td>397.0</td>\n",
       "    </tr>\n",
       "    <tr>\n",
       "      <th>17</th>\n",
       "      <td>6</td>\n",
       "      <td>4180000.0</td>\n",
       "      <td>36.00</td>\n",
       "      <td>2016-09-09T00:00:00</td>\n",
       "      <td>1</td>\n",
       "      <td>NaN</td>\n",
       "      <td>17.0</td>\n",
       "      <td>16.50</td>\n",
       "      <td>7</td>\n",
       "      <td>NaN</td>\n",
       "      <td>...</td>\n",
       "      <td>11.00</td>\n",
       "      <td>1.0</td>\n",
       "      <td>Санкт-Петербург</td>\n",
       "      <td>33564.0</td>\n",
       "      <td>14616.0</td>\n",
       "      <td>0.0</td>\n",
       "      <td>NaN</td>\n",
       "      <td>1.0</td>\n",
       "      <td>859.0</td>\n",
       "      <td>571.0</td>\n",
       "    </tr>\n",
       "    <tr>\n",
       "      <th>18</th>\n",
       "      <td>8</td>\n",
       "      <td>3250000.0</td>\n",
       "      <td>31.00</td>\n",
       "      <td>2017-01-27T00:00:00</td>\n",
       "      <td>1</td>\n",
       "      <td>2.50</td>\n",
       "      <td>5.0</td>\n",
       "      <td>19.40</td>\n",
       "      <td>2</td>\n",
       "      <td>NaN</td>\n",
       "      <td>...</td>\n",
       "      <td>5.60</td>\n",
       "      <td>1.0</td>\n",
       "      <td>Санкт-Петербург</td>\n",
       "      <td>44060.0</td>\n",
       "      <td>10842.0</td>\n",
       "      <td>1.0</td>\n",
       "      <td>759.0</td>\n",
       "      <td>0.0</td>\n",
       "      <td>NaN</td>\n",
       "      <td>168.0</td>\n",
       "    </tr>\n",
       "    <tr>\n",
       "      <th>19</th>\n",
       "      <td>16</td>\n",
       "      <td>14200000.0</td>\n",
       "      <td>121.00</td>\n",
       "      <td>2019-01-09T00:00:00</td>\n",
       "      <td>3</td>\n",
       "      <td>2.75</td>\n",
       "      <td>16.0</td>\n",
       "      <td>76.00</td>\n",
       "      <td>8</td>\n",
       "      <td>NaN</td>\n",
       "      <td>...</td>\n",
       "      <td>12.00</td>\n",
       "      <td>NaN</td>\n",
       "      <td>Санкт-Петербург</td>\n",
       "      <td>38900.0</td>\n",
       "      <td>12843.0</td>\n",
       "      <td>0.0</td>\n",
       "      <td>NaN</td>\n",
       "      <td>0.0</td>\n",
       "      <td>NaN</td>\n",
       "      <td>97.0</td>\n",
       "    </tr>\n",
       "  </tbody>\n",
       "</table>\n",
       "<p>20 rows × 22 columns</p>\n",
       "</div>"
      ],
      "text/plain": [
       "    total_images  last_price  total_area first_day_exposition  rooms  \\\n",
       "0             20  13000000.0      108.00  2019-03-07T00:00:00      3   \n",
       "1              7   3350000.0       40.40  2018-12-04T00:00:00      1   \n",
       "2             10   5196000.0       56.00  2015-08-20T00:00:00      2   \n",
       "3              0  64900000.0      159.00  2015-07-24T00:00:00      3   \n",
       "4              2  10000000.0      100.00  2018-06-19T00:00:00      2   \n",
       "5             10   2890000.0       30.40  2018-09-10T00:00:00      1   \n",
       "6              6   3700000.0       37.30  2017-11-02T00:00:00      1   \n",
       "7              5   7915000.0       71.60  2019-04-18T00:00:00      2   \n",
       "8             20   2900000.0       33.16  2018-05-23T00:00:00      1   \n",
       "9             18   5400000.0       61.00  2017-02-26T00:00:00      3   \n",
       "10             5   5050000.0       39.60  2017-11-16T00:00:00      1   \n",
       "11             9   3300000.0       44.00  2018-08-27T00:00:00      2   \n",
       "12            10   3890000.0       54.00  2016-06-30T00:00:00      2   \n",
       "13            20   3550000.0       42.80  2017-07-01T00:00:00      2   \n",
       "14             1   4400000.0       36.00  2016-06-23T00:00:00      1   \n",
       "15            16   4650000.0       39.00  2017-11-18T00:00:00      1   \n",
       "16            11   6700000.0       82.00  2017-11-23T00:00:00      3   \n",
       "17             6   4180000.0       36.00  2016-09-09T00:00:00      1   \n",
       "18             8   3250000.0       31.00  2017-01-27T00:00:00      1   \n",
       "19            16  14200000.0      121.00  2019-01-09T00:00:00      3   \n",
       "\n",
       "    ceiling_height  floors_total  living_area  floor is_apartment  ...  \\\n",
       "0             2.70          16.0        51.00      8          NaN  ...   \n",
       "1              NaN          11.0        18.60      1          NaN  ...   \n",
       "2              NaN           5.0        34.30      4          NaN  ...   \n",
       "3              NaN          14.0          NaN      9          NaN  ...   \n",
       "4             3.03          14.0        32.00     13          NaN  ...   \n",
       "5              NaN          12.0        14.40      5          NaN  ...   \n",
       "6              NaN          26.0        10.60      6          NaN  ...   \n",
       "7              NaN          24.0          NaN     22          NaN  ...   \n",
       "8              NaN          27.0        15.43     26          NaN  ...   \n",
       "9             2.50           9.0        43.60      7          NaN  ...   \n",
       "10            2.67          12.0        20.30      3          NaN  ...   \n",
       "11             NaN           5.0        31.00      4        False  ...   \n",
       "12             NaN           5.0        30.00      5          NaN  ...   \n",
       "13            2.56           5.0        27.00      5          NaN  ...   \n",
       "14             NaN           6.0        17.00      1          NaN  ...   \n",
       "15             NaN          14.0        20.50      5          NaN  ...   \n",
       "16            3.05           5.0        55.60      1          NaN  ...   \n",
       "17             NaN          17.0        16.50      7          NaN  ...   \n",
       "18            2.50           5.0        19.40      2          NaN  ...   \n",
       "19            2.75          16.0        76.00      8          NaN  ...   \n",
       "\n",
       "    kitchen_area  balcony              locality_name  airports_nearest  \\\n",
       "0          25.00      NaN            Санкт-Петербург           18863.0   \n",
       "1          11.00      2.0             посёлок Шушары           12817.0   \n",
       "2           8.30      0.0            Санкт-Петербург           21741.0   \n",
       "3            NaN      0.0            Санкт-Петербург           28098.0   \n",
       "4          41.00      NaN            Санкт-Петербург           31856.0   \n",
       "5           9.10      NaN  городской посёлок Янино-1               NaN   \n",
       "6          14.40      1.0          посёлок Парголово           52996.0   \n",
       "7          18.90      2.0            Санкт-Петербург           23982.0   \n",
       "8           8.81      NaN             посёлок Мурино               NaN   \n",
       "9           6.50      2.0            Санкт-Петербург           50898.0   \n",
       "10          8.50      NaN            Санкт-Петербург           38357.0   \n",
       "11          6.00      1.0                  Ломоносов           48252.0   \n",
       "12          9.00      0.0                  Сертолово               NaN   \n",
       "13          5.20      1.0                   Петергоф           37868.0   \n",
       "14          8.00      0.0                     Пушкин           20782.0   \n",
       "15          7.60      1.0            Санкт-Петербург           12900.0   \n",
       "16          9.00      NaN            Санкт-Петербург           22108.0   \n",
       "17         11.00      1.0            Санкт-Петербург           33564.0   \n",
       "18          5.60      1.0            Санкт-Петербург           44060.0   \n",
       "19         12.00      NaN            Санкт-Петербург           38900.0   \n",
       "\n",
       "   cityCenters_nearest  parks_around3000  parks_nearest  ponds_around3000  \\\n",
       "0              16028.0               1.0          482.0               2.0   \n",
       "1              18603.0               0.0            NaN               0.0   \n",
       "2              13933.0               1.0           90.0               2.0   \n",
       "3               6800.0               2.0           84.0               3.0   \n",
       "4               8098.0               2.0          112.0               1.0   \n",
       "5                  NaN               NaN            NaN               NaN   \n",
       "6              19143.0               0.0            NaN               0.0   \n",
       "7              11634.0               0.0            NaN               0.0   \n",
       "8                  NaN               NaN            NaN               NaN   \n",
       "9              15008.0               0.0            NaN               0.0   \n",
       "10             13878.0               1.0          310.0               2.0   \n",
       "11             51677.0               0.0            NaN               0.0   \n",
       "12                 NaN               NaN            NaN               NaN   \n",
       "13             33058.0               1.0          294.0               3.0   \n",
       "14             30759.0               0.0            NaN               1.0   \n",
       "15             14259.0               1.0          590.0               1.0   \n",
       "16             10698.0               3.0          420.0               0.0   \n",
       "17             14616.0               0.0            NaN               1.0   \n",
       "18             10842.0               1.0          759.0               0.0   \n",
       "19             12843.0               0.0            NaN               0.0   \n",
       "\n",
       "    ponds_nearest  days_exposition  \n",
       "0           755.0              NaN  \n",
       "1             NaN             81.0  \n",
       "2           574.0            558.0  \n",
       "3           234.0            424.0  \n",
       "4            48.0            121.0  \n",
       "5             NaN             55.0  \n",
       "6             NaN            155.0  \n",
       "7             NaN              NaN  \n",
       "8             NaN            189.0  \n",
       "9             NaN            289.0  \n",
       "10          553.0            137.0  \n",
       "11            NaN              7.0  \n",
       "12            NaN             90.0  \n",
       "13          298.0            366.0  \n",
       "14           96.0            203.0  \n",
       "15          296.0             19.0  \n",
       "16            NaN            397.0  \n",
       "17          859.0            571.0  \n",
       "18            NaN            168.0  \n",
       "19            NaN             97.0  \n",
       "\n",
       "[20 rows x 22 columns]"
      ]
     },
     "metadata": {},
     "output_type": "display_data"
    },
    {
     "name": "stdout",
     "output_type": "stream",
     "text": [
      "<class 'pandas.core.frame.DataFrame'>\n",
      "RangeIndex: 23699 entries, 0 to 23698\n",
      "Data columns (total 22 columns):\n",
      " #   Column                Non-Null Count  Dtype  \n",
      "---  ------                --------------  -----  \n",
      " 0   total_images          23699 non-null  int64  \n",
      " 1   last_price            23699 non-null  float64\n",
      " 2   total_area            23699 non-null  float64\n",
      " 3   first_day_exposition  23699 non-null  object \n",
      " 4   rooms                 23699 non-null  int64  \n",
      " 5   ceiling_height        14504 non-null  float64\n",
      " 6   floors_total          23613 non-null  float64\n",
      " 7   living_area           21796 non-null  float64\n",
      " 8   floor                 23699 non-null  int64  \n",
      " 9   is_apartment          2775 non-null   object \n",
      " 10  studio                23699 non-null  bool   \n",
      " 11  open_plan             23699 non-null  bool   \n",
      " 12  kitchen_area          21421 non-null  float64\n",
      " 13  balcony               12180 non-null  float64\n",
      " 14  locality_name         23650 non-null  object \n",
      " 15  airports_nearest      18157 non-null  float64\n",
      " 16  cityCenters_nearest   18180 non-null  float64\n",
      " 17  parks_around3000      18181 non-null  float64\n",
      " 18  parks_nearest         8079 non-null   float64\n",
      " 19  ponds_around3000      18181 non-null  float64\n",
      " 20  ponds_nearest         9110 non-null   float64\n",
      " 21  days_exposition       20518 non-null  float64\n",
      "dtypes: bool(2), float64(14), int64(3), object(3)\n",
      "memory usage: 3.7+ MB\n"
     ]
    },
    {
     "data": {
      "text/plain": [
       "'Число дубликатов в таблице:'"
      ]
     },
     "metadata": {},
     "output_type": "display_data"
    },
    {
     "data": {
      "text/plain": [
       "0"
      ]
     },
     "metadata": {},
     "output_type": "display_data"
    },
    {
     "data": {
      "text/html": [
       "<div>\n",
       "<style scoped>\n",
       "    .dataframe tbody tr th:only-of-type {\n",
       "        vertical-align: middle;\n",
       "    }\n",
       "\n",
       "    .dataframe tbody tr th {\n",
       "        vertical-align: top;\n",
       "    }\n",
       "\n",
       "    .dataframe thead th {\n",
       "        text-align: right;\n",
       "    }\n",
       "</style>\n",
       "<table border=\"1\" class=\"dataframe\">\n",
       "  <thead>\n",
       "    <tr style=\"text-align: right;\">\n",
       "      <th></th>\n",
       "      <th>total_images</th>\n",
       "      <th>last_price</th>\n",
       "      <th>total_area</th>\n",
       "      <th>rooms</th>\n",
       "      <th>ceiling_height</th>\n",
       "      <th>floors_total</th>\n",
       "      <th>living_area</th>\n",
       "      <th>floor</th>\n",
       "      <th>kitchen_area</th>\n",
       "      <th>balcony</th>\n",
       "      <th>airports_nearest</th>\n",
       "      <th>cityCenters_nearest</th>\n",
       "      <th>parks_around3000</th>\n",
       "      <th>parks_nearest</th>\n",
       "      <th>ponds_around3000</th>\n",
       "      <th>ponds_nearest</th>\n",
       "      <th>days_exposition</th>\n",
       "    </tr>\n",
       "  </thead>\n",
       "  <tbody>\n",
       "    <tr>\n",
       "      <th>count</th>\n",
       "      <td>23699.000000</td>\n",
       "      <td>2.369900e+04</td>\n",
       "      <td>23699.000000</td>\n",
       "      <td>23699.000000</td>\n",
       "      <td>14504.000000</td>\n",
       "      <td>23613.000000</td>\n",
       "      <td>21796.000000</td>\n",
       "      <td>23699.000000</td>\n",
       "      <td>21421.000000</td>\n",
       "      <td>12180.000000</td>\n",
       "      <td>18157.000000</td>\n",
       "      <td>18180.000000</td>\n",
       "      <td>18181.000000</td>\n",
       "      <td>8079.000000</td>\n",
       "      <td>18181.000000</td>\n",
       "      <td>9110.000000</td>\n",
       "      <td>20518.000000</td>\n",
       "    </tr>\n",
       "    <tr>\n",
       "      <th>mean</th>\n",
       "      <td>9.858475</td>\n",
       "      <td>6.541549e+06</td>\n",
       "      <td>60.348651</td>\n",
       "      <td>2.070636</td>\n",
       "      <td>2.771499</td>\n",
       "      <td>10.673824</td>\n",
       "      <td>34.457852</td>\n",
       "      <td>5.892358</td>\n",
       "      <td>10.569807</td>\n",
       "      <td>1.150082</td>\n",
       "      <td>28793.672193</td>\n",
       "      <td>14191.277833</td>\n",
       "      <td>0.611408</td>\n",
       "      <td>490.804555</td>\n",
       "      <td>0.770255</td>\n",
       "      <td>517.980900</td>\n",
       "      <td>180.888634</td>\n",
       "    </tr>\n",
       "    <tr>\n",
       "      <th>std</th>\n",
       "      <td>5.682529</td>\n",
       "      <td>1.088701e+07</td>\n",
       "      <td>35.654083</td>\n",
       "      <td>1.078405</td>\n",
       "      <td>1.261056</td>\n",
       "      <td>6.597173</td>\n",
       "      <td>22.030445</td>\n",
       "      <td>4.885249</td>\n",
       "      <td>5.905438</td>\n",
       "      <td>1.071300</td>\n",
       "      <td>12630.880622</td>\n",
       "      <td>8608.386210</td>\n",
       "      <td>0.802074</td>\n",
       "      <td>342.317995</td>\n",
       "      <td>0.938346</td>\n",
       "      <td>277.720643</td>\n",
       "      <td>219.727988</td>\n",
       "    </tr>\n",
       "    <tr>\n",
       "      <th>min</th>\n",
       "      <td>0.000000</td>\n",
       "      <td>1.219000e+04</td>\n",
       "      <td>12.000000</td>\n",
       "      <td>0.000000</td>\n",
       "      <td>1.000000</td>\n",
       "      <td>1.000000</td>\n",
       "      <td>2.000000</td>\n",
       "      <td>1.000000</td>\n",
       "      <td>1.300000</td>\n",
       "      <td>0.000000</td>\n",
       "      <td>0.000000</td>\n",
       "      <td>181.000000</td>\n",
       "      <td>0.000000</td>\n",
       "      <td>1.000000</td>\n",
       "      <td>0.000000</td>\n",
       "      <td>13.000000</td>\n",
       "      <td>1.000000</td>\n",
       "    </tr>\n",
       "    <tr>\n",
       "      <th>25%</th>\n",
       "      <td>6.000000</td>\n",
       "      <td>3.400000e+06</td>\n",
       "      <td>40.000000</td>\n",
       "      <td>1.000000</td>\n",
       "      <td>2.520000</td>\n",
       "      <td>5.000000</td>\n",
       "      <td>18.600000</td>\n",
       "      <td>2.000000</td>\n",
       "      <td>7.000000</td>\n",
       "      <td>0.000000</td>\n",
       "      <td>18585.000000</td>\n",
       "      <td>9238.000000</td>\n",
       "      <td>0.000000</td>\n",
       "      <td>288.000000</td>\n",
       "      <td>0.000000</td>\n",
       "      <td>294.000000</td>\n",
       "      <td>45.000000</td>\n",
       "    </tr>\n",
       "    <tr>\n",
       "      <th>50%</th>\n",
       "      <td>9.000000</td>\n",
       "      <td>4.650000e+06</td>\n",
       "      <td>52.000000</td>\n",
       "      <td>2.000000</td>\n",
       "      <td>2.650000</td>\n",
       "      <td>9.000000</td>\n",
       "      <td>30.000000</td>\n",
       "      <td>4.000000</td>\n",
       "      <td>9.100000</td>\n",
       "      <td>1.000000</td>\n",
       "      <td>26726.000000</td>\n",
       "      <td>13098.500000</td>\n",
       "      <td>0.000000</td>\n",
       "      <td>455.000000</td>\n",
       "      <td>1.000000</td>\n",
       "      <td>502.000000</td>\n",
       "      <td>95.000000</td>\n",
       "    </tr>\n",
       "    <tr>\n",
       "      <th>75%</th>\n",
       "      <td>14.000000</td>\n",
       "      <td>6.800000e+06</td>\n",
       "      <td>69.900000</td>\n",
       "      <td>3.000000</td>\n",
       "      <td>2.800000</td>\n",
       "      <td>16.000000</td>\n",
       "      <td>42.300000</td>\n",
       "      <td>8.000000</td>\n",
       "      <td>12.000000</td>\n",
       "      <td>2.000000</td>\n",
       "      <td>37273.000000</td>\n",
       "      <td>16293.000000</td>\n",
       "      <td>1.000000</td>\n",
       "      <td>612.000000</td>\n",
       "      <td>1.000000</td>\n",
       "      <td>729.000000</td>\n",
       "      <td>232.000000</td>\n",
       "    </tr>\n",
       "    <tr>\n",
       "      <th>max</th>\n",
       "      <td>50.000000</td>\n",
       "      <td>7.630000e+08</td>\n",
       "      <td>900.000000</td>\n",
       "      <td>19.000000</td>\n",
       "      <td>100.000000</td>\n",
       "      <td>60.000000</td>\n",
       "      <td>409.700000</td>\n",
       "      <td>33.000000</td>\n",
       "      <td>112.000000</td>\n",
       "      <td>5.000000</td>\n",
       "      <td>84869.000000</td>\n",
       "      <td>65968.000000</td>\n",
       "      <td>3.000000</td>\n",
       "      <td>3190.000000</td>\n",
       "      <td>3.000000</td>\n",
       "      <td>1344.000000</td>\n",
       "      <td>1580.000000</td>\n",
       "    </tr>\n",
       "  </tbody>\n",
       "</table>\n",
       "</div>"
      ],
      "text/plain": [
       "       total_images    last_price    total_area         rooms  ceiling_height  \\\n",
       "count  23699.000000  2.369900e+04  23699.000000  23699.000000    14504.000000   \n",
       "mean       9.858475  6.541549e+06     60.348651      2.070636        2.771499   \n",
       "std        5.682529  1.088701e+07     35.654083      1.078405        1.261056   \n",
       "min        0.000000  1.219000e+04     12.000000      0.000000        1.000000   \n",
       "25%        6.000000  3.400000e+06     40.000000      1.000000        2.520000   \n",
       "50%        9.000000  4.650000e+06     52.000000      2.000000        2.650000   \n",
       "75%       14.000000  6.800000e+06     69.900000      3.000000        2.800000   \n",
       "max       50.000000  7.630000e+08    900.000000     19.000000      100.000000   \n",
       "\n",
       "       floors_total   living_area         floor  kitchen_area       balcony  \\\n",
       "count  23613.000000  21796.000000  23699.000000  21421.000000  12180.000000   \n",
       "mean      10.673824     34.457852      5.892358     10.569807      1.150082   \n",
       "std        6.597173     22.030445      4.885249      5.905438      1.071300   \n",
       "min        1.000000      2.000000      1.000000      1.300000      0.000000   \n",
       "25%        5.000000     18.600000      2.000000      7.000000      0.000000   \n",
       "50%        9.000000     30.000000      4.000000      9.100000      1.000000   \n",
       "75%       16.000000     42.300000      8.000000     12.000000      2.000000   \n",
       "max       60.000000    409.700000     33.000000    112.000000      5.000000   \n",
       "\n",
       "       airports_nearest  cityCenters_nearest  parks_around3000  parks_nearest  \\\n",
       "count      18157.000000         18180.000000      18181.000000    8079.000000   \n",
       "mean       28793.672193         14191.277833          0.611408     490.804555   \n",
       "std        12630.880622          8608.386210          0.802074     342.317995   \n",
       "min            0.000000           181.000000          0.000000       1.000000   \n",
       "25%        18585.000000          9238.000000          0.000000     288.000000   \n",
       "50%        26726.000000         13098.500000          0.000000     455.000000   \n",
       "75%        37273.000000         16293.000000          1.000000     612.000000   \n",
       "max        84869.000000         65968.000000          3.000000    3190.000000   \n",
       "\n",
       "       ponds_around3000  ponds_nearest  days_exposition  \n",
       "count      18181.000000    9110.000000     20518.000000  \n",
       "mean           0.770255     517.980900       180.888634  \n",
       "std            0.938346     277.720643       219.727988  \n",
       "min            0.000000      13.000000         1.000000  \n",
       "25%            0.000000     294.000000        45.000000  \n",
       "50%            1.000000     502.000000        95.000000  \n",
       "75%            1.000000     729.000000       232.000000  \n",
       "max            3.000000    1344.000000      1580.000000  "
      ]
     },
     "metadata": {},
     "output_type": "display_data"
    }
   ],
   "source": [
    "display(data.head(20)) #выводим на экран первые 20 строк таблицы\n",
    "data.info() # общая информация о таблице\n",
    "data_duplic = data.duplicated().sum()\n",
    "display('Число дубликатов в таблице:', data_duplic) #поиск количества явных дубликатов в фрейме\n",
    "\n",
    "display(data.describe())"
   ]
  },
  {
   "cell_type": "code",
   "execution_count": 4,
   "metadata": {},
   "outputs": [
    {
     "name": "stdout",
     "output_type": "stream",
     "text": [
      "<class 'pandas.core.frame.DataFrame'>\n",
      "RangeIndex: 23699 entries, 0 to 23698\n",
      "Data columns (total 22 columns):\n",
      " #   Column                Non-Null Count  Dtype  \n",
      "---  ------                --------------  -----  \n",
      " 0   total_images          23699 non-null  int64  \n",
      " 1   last_price            23699 non-null  float64\n",
      " 2   total_area            23699 non-null  float64\n",
      " 3   first_day_exposition  23699 non-null  object \n",
      " 4   rooms                 23699 non-null  int64  \n",
      " 5   ceiling_height        14504 non-null  float64\n",
      " 6   floors_total          23613 non-null  float64\n",
      " 7   living_area           21796 non-null  float64\n",
      " 8   floor                 23699 non-null  int64  \n",
      " 9   is_apartment          2775 non-null   object \n",
      " 10  studio                23699 non-null  bool   \n",
      " 11  open_plan             23699 non-null  bool   \n",
      " 12  kitchen_area          21421 non-null  float64\n",
      " 13  balcony               12180 non-null  float64\n",
      " 14  locality_name         23650 non-null  object \n",
      " 15  airports_nearest      18157 non-null  float64\n",
      " 16  cityCenters_nearest   18180 non-null  float64\n",
      " 17  parks_around3000      18181 non-null  float64\n",
      " 18  parks_nearest         8079 non-null   float64\n",
      " 19  ponds_around3000      18181 non-null  float64\n",
      " 20  ponds_nearest         9110 non-null   float64\n",
      " 21  days_exposition       20518 non-null  float64\n",
      "dtypes: bool(2), float64(14), int64(3), object(3)\n",
      "memory usage: 3.7+ MB\n"
     ]
    },
    {
     "data": {
      "image/png": "[encoded data removed]",
      "text/plain": [
       "<Figure size 1080x1440 with 20 Axes>"
      ]
     },
     "metadata": {
      "needs_background": "light"
     },
     "output_type": "display_data"
    }
   ],
   "source": [
    "data.hist(figsize = (15,20))\n",
    "data.info()"
   ]
  },
  {
   "cell_type": "markdown",
   "metadata": {},
   "source": [
    "\n",
    "\n",
    "Вывод: В таблице 23698 строк. В некоторых столбцах есть пропущенные значения и некорректный тип данных\n"
   ]
  },
  {
   "cell_type": "markdown",
   "metadata": {},
   "source": [
    "### Предобработка данных"
   ]
  },
  {
   "cell_type": "code",
   "execution_count": 5,
   "metadata": {},
   "outputs": [
    {
     "data": {
      "text/plain": [
       "total_images                0\n",
       "last_price                  0\n",
       "total_area                  0\n",
       "first_day_exposition        0\n",
       "rooms                       0\n",
       "ceiling_height           9195\n",
       "floors_total               86\n",
       "living_area              1903\n",
       "floor                       0\n",
       "is_apartment            20924\n",
       "studio                      0\n",
       "open_plan                   0\n",
       "kitchen_area             2278\n",
       "balcony                 11519\n",
       "locality_name              49\n",
       "airports_nearest         5542\n",
       "cityCenters_nearest      5519\n",
       "parks_around3000         5518\n",
       "parks_nearest           15620\n",
       "ponds_around3000         5518\n",
       "ponds_nearest           14589\n",
       "days_exposition          3181\n",
       "dtype: int64"
      ]
     },
     "metadata": {},
     "output_type": "display_data"
    }
   ],
   "source": [
    "display(data.isna().sum()) #поиск количества пропусков в столбцах фрейма"
   ]
  },
  {
   "cell_type": "code",
   "execution_count": 6,
   "metadata": {},
   "outputs": [
    {
     "data": {
      "text/plain": [
       "14.00    1\n",
       "2.25     1\n",
       "3.88     1\n",
       "24.00    1\n",
       "8.30     1\n",
       "4.25     1\n",
       "3.39     1\n",
       "3.93     1\n",
       "10.30    1\n",
       "4.65     1\n",
       "Name: ceiling_height, dtype: int64"
      ]
     },
     "metadata": {},
     "output_type": "display_data"
    },
    {
     "name": "stdout",
     "output_type": "stream",
     "text": [
      "total_images                0\n",
      "last_price                  0\n",
      "total_area                  0\n",
      "first_day_exposition        0\n",
      "rooms                       0\n",
      "ceiling_height           9084\n",
      "floors_total                0\n",
      "living_area              1865\n",
      "floor                       0\n",
      "is_apartment                0\n",
      "studio                      0\n",
      "open_plan                   0\n",
      "kitchen_area                0\n",
      "balcony                     0\n",
      "locality_name               0\n",
      "airports_nearest         5524\n",
      "cityCenters_nearest      5501\n",
      "parks_around3000            0\n",
      "parks_nearest           15535\n",
      "ponds_around3000            0\n",
      "ponds_nearest           14529\n",
      "days_exposition          3171\n",
      "dtype: int64\n",
      "<class 'pandas.core.frame.DataFrame'>\n",
      "Int64Index: 23565 entries, 0 to 23698\n",
      "Data columns (total 22 columns):\n",
      " #   Column                Non-Null Count  Dtype  \n",
      "---  ------                --------------  -----  \n",
      " 0   total_images          23565 non-null  int64  \n",
      " 1   last_price            23565 non-null  float64\n",
      " 2   total_area            23565 non-null  float64\n",
      " 3   first_day_exposition  23565 non-null  object \n",
      " 4   rooms                 23565 non-null  int64  \n",
      " 5   ceiling_height        14481 non-null  float64\n",
      " 6   floors_total          23565 non-null  float64\n",
      " 7   living_area           21700 non-null  float64\n",
      " 8   floor                 23565 non-null  int64  \n",
      " 9   is_apartment          23565 non-null  bool   \n",
      " 10  studio                23565 non-null  bool   \n",
      " 11  open_plan             23565 non-null  bool   \n",
      " 12  kitchen_area          23565 non-null  float64\n",
      " 13  balcony               23565 non-null  int64  \n",
      " 14  locality_name         23565 non-null  object \n",
      " 15  airports_nearest      18041 non-null  float64\n",
      " 16  cityCenters_nearest   18064 non-null  float64\n",
      " 17  parks_around3000      23565 non-null  int64  \n",
      " 18  parks_nearest         8030 non-null   float64\n",
      " 19  ponds_around3000      23565 non-null  int64  \n",
      " 20  ponds_nearest         9036 non-null   float64\n",
      " 21  days_exposition       20394 non-null  float64\n",
      "dtypes: bool(3), float64(11), int64(6), object(2)\n",
      "memory usage: 3.7+ MB\n"
     ]
    }
   ],
   "source": [
    "display(data['ceiling_height'].value_counts().tail(10)) # в столбце есть аномальные значения, поэтому пока что замену делать не стоит\n",
    "\n",
    " \n",
    "data['is_apartment'] = data['is_apartment'].fillna(value = False) #заполним пропуски в столбце is_apartment значением False,полагая, что объекты, в которых пропуски - не апартаменты\n",
    "\n",
    "\n",
    "kitchen_ratio = data['kitchen_area'].mean() / data['total_area'].mean() #считаем какую долю в среднем кухни занииают от площади всего помещения \n",
    "#living_ratio = data['living_area'].mean() / data['total_area'].mean() # доля  жилой площади в общей\n",
    "\n",
    "data['kitchen_area'] = data['kitchen_area'].fillna(kitchen_ratio * data['total_area'])# заменяем пропуски в столбце произведением среднего значения по доле кухне к общей площади\n",
    "#data['living_area'] = data['living_area'].fillna(living_ratio * data['total_area'])# аналогичная замена предудущей замене\n",
    "\n",
    "data['balcony'] = data['balcony'].fillna(value=0).astype('int') # делаем замену пропуской в столбце на о, пологая, что в этих случаях балконы отсутвуют и сразу приводим знаяения в столбце к целому числу\n",
    "\n",
    "#столбцы floors_total и locality_name имеет небольшое количество пропусков, поэтому возможно удалить строики с пропускамиБ существенного влияния на анализ данных это не окажет\n",
    "\n",
    "\n",
    "data = data.dropna(subset = ['floors_total'])\n",
    "data = data.dropna(subset = ['locality_name'])\n",
    "\n",
    "\n",
    "#в столбцах parks_around300 и ponds_around300 также сделаем замену пропусков на значение 0. Вероятно пропуски образованы, так как парков и водоемов по близости нет\n",
    "data['ponds_around3000'] = data['ponds_around3000'].fillna(value = 0).astype('int') # меняем значение в столбце на целочисленное\n",
    "data['parks_around3000'] = data['parks_around3000'].fillna(value = 0).astype('int')\n",
    "\n",
    "\n",
    "print(data.isnull().sum())\n",
    "\n",
    "data.info()"
   ]
  },
  {
   "cell_type": "markdown",
   "metadata": {},
   "source": [
    "Вывод:\n",
    "- в столбце is_apartment пропуски были заполнены по принципу - все пропущенные значения являются не аппартаментами.\n",
    "- по столбцам kitchen_area и living_area сделаем заменну пропусков средними значениями из списка рассчитанными как доли от общей площади \n",
    "- пропуски в столбце balcony возможно возникли по прочине отсутвия балконов в квартирах, поэтому целесообразно заменить пропуски в этих значениях на 0\n",
    "- в столбцах floors_total и locality_name незначительное количество пропусков, поэтому строки с пропусками можно удалить из фрейма, на качество анализа информации - это не повлияет.\n",
    "- пропуски в столбцах parks_around и ponds_around заменим также на нули, скорее всего с данными объектами в заданной близости парков и прудов просто нет."
   ]
  },
  {
   "cell_type": "code",
   "execution_count": 7,
   "metadata": {
    "scrolled": true
   },
   "outputs": [
    {
     "data": {
      "text/html": [
       "<div>\n",
       "<style scoped>\n",
       "    .dataframe tbody tr th:only-of-type {\n",
       "        vertical-align: middle;\n",
       "    }\n",
       "\n",
       "    .dataframe tbody tr th {\n",
       "        vertical-align: top;\n",
       "    }\n",
       "\n",
       "    .dataframe thead th {\n",
       "        text-align: right;\n",
       "    }\n",
       "</style>\n",
       "<table border=\"1\" class=\"dataframe\">\n",
       "  <thead>\n",
       "    <tr style=\"text-align: right;\">\n",
       "      <th></th>\n",
       "      <th>total_images</th>\n",
       "      <th>last_price</th>\n",
       "      <th>total_area</th>\n",
       "      <th>first_day_exposition</th>\n",
       "      <th>rooms</th>\n",
       "      <th>ceiling_height</th>\n",
       "      <th>floors_total</th>\n",
       "      <th>living_area</th>\n",
       "      <th>floor</th>\n",
       "      <th>is_apartment</th>\n",
       "      <th>...</th>\n",
       "      <th>kitchen_area</th>\n",
       "      <th>balcony</th>\n",
       "      <th>locality_name</th>\n",
       "      <th>airports_nearest</th>\n",
       "      <th>cityCenters_nearest</th>\n",
       "      <th>parks_around3000</th>\n",
       "      <th>parks_nearest</th>\n",
       "      <th>ponds_around3000</th>\n",
       "      <th>ponds_nearest</th>\n",
       "      <th>days_exposition</th>\n",
       "    </tr>\n",
       "  </thead>\n",
       "  <tbody>\n",
       "    <tr>\n",
       "      <th>0</th>\n",
       "      <td>20</td>\n",
       "      <td>13000000</td>\n",
       "      <td>108.0</td>\n",
       "      <td>2019-03-07</td>\n",
       "      <td>3</td>\n",
       "      <td>2.70</td>\n",
       "      <td>16</td>\n",
       "      <td>51.0</td>\n",
       "      <td>8</td>\n",
       "      <td>False</td>\n",
       "      <td>...</td>\n",
       "      <td>25.000000</td>\n",
       "      <td>0</td>\n",
       "      <td>Санкт-Петербург</td>\n",
       "      <td>18863.0</td>\n",
       "      <td>16028.0</td>\n",
       "      <td>1</td>\n",
       "      <td>482.0</td>\n",
       "      <td>2</td>\n",
       "      <td>755.0</td>\n",
       "      <td>NaN</td>\n",
       "    </tr>\n",
       "    <tr>\n",
       "      <th>1</th>\n",
       "      <td>7</td>\n",
       "      <td>3350000</td>\n",
       "      <td>40.4</td>\n",
       "      <td>2018-12-04</td>\n",
       "      <td>1</td>\n",
       "      <td>NaN</td>\n",
       "      <td>11</td>\n",
       "      <td>18.6</td>\n",
       "      <td>1</td>\n",
       "      <td>False</td>\n",
       "      <td>...</td>\n",
       "      <td>11.000000</td>\n",
       "      <td>2</td>\n",
       "      <td>посёлок Шушары</td>\n",
       "      <td>12817.0</td>\n",
       "      <td>18603.0</td>\n",
       "      <td>0</td>\n",
       "      <td>NaN</td>\n",
       "      <td>0</td>\n",
       "      <td>NaN</td>\n",
       "      <td>81.0</td>\n",
       "    </tr>\n",
       "    <tr>\n",
       "      <th>2</th>\n",
       "      <td>10</td>\n",
       "      <td>5196000</td>\n",
       "      <td>56.0</td>\n",
       "      <td>2015-08-20</td>\n",
       "      <td>2</td>\n",
       "      <td>NaN</td>\n",
       "      <td>5</td>\n",
       "      <td>34.3</td>\n",
       "      <td>4</td>\n",
       "      <td>False</td>\n",
       "      <td>...</td>\n",
       "      <td>8.300000</td>\n",
       "      <td>0</td>\n",
       "      <td>Санкт-Петербург</td>\n",
       "      <td>21741.0</td>\n",
       "      <td>13933.0</td>\n",
       "      <td>1</td>\n",
       "      <td>90.0</td>\n",
       "      <td>2</td>\n",
       "      <td>574.0</td>\n",
       "      <td>558.0</td>\n",
       "    </tr>\n",
       "    <tr>\n",
       "      <th>3</th>\n",
       "      <td>0</td>\n",
       "      <td>64900000</td>\n",
       "      <td>159.0</td>\n",
       "      <td>2015-07-24</td>\n",
       "      <td>3</td>\n",
       "      <td>NaN</td>\n",
       "      <td>14</td>\n",
       "      <td>NaN</td>\n",
       "      <td>9</td>\n",
       "      <td>False</td>\n",
       "      <td>...</td>\n",
       "      <td>27.848168</td>\n",
       "      <td>0</td>\n",
       "      <td>Санкт-Петербург</td>\n",
       "      <td>28098.0</td>\n",
       "      <td>6800.0</td>\n",
       "      <td>2</td>\n",
       "      <td>84.0</td>\n",
       "      <td>3</td>\n",
       "      <td>234.0</td>\n",
       "      <td>424.0</td>\n",
       "    </tr>\n",
       "    <tr>\n",
       "      <th>4</th>\n",
       "      <td>2</td>\n",
       "      <td>10000000</td>\n",
       "      <td>100.0</td>\n",
       "      <td>2018-06-19</td>\n",
       "      <td>2</td>\n",
       "      <td>3.03</td>\n",
       "      <td>14</td>\n",
       "      <td>32.0</td>\n",
       "      <td>13</td>\n",
       "      <td>False</td>\n",
       "      <td>...</td>\n",
       "      <td>41.000000</td>\n",
       "      <td>0</td>\n",
       "      <td>Санкт-Петербург</td>\n",
       "      <td>31856.0</td>\n",
       "      <td>8098.0</td>\n",
       "      <td>2</td>\n",
       "      <td>112.0</td>\n",
       "      <td>1</td>\n",
       "      <td>48.0</td>\n",
       "      <td>121.0</td>\n",
       "    </tr>\n",
       "  </tbody>\n",
       "</table>\n",
       "<p>5 rows × 22 columns</p>\n",
       "</div>"
      ],
      "text/plain": [
       "   total_images  last_price  total_area first_day_exposition  rooms  \\\n",
       "0            20    13000000       108.0           2019-03-07      3   \n",
       "1             7     3350000        40.4           2018-12-04      1   \n",
       "2            10     5196000        56.0           2015-08-20      2   \n",
       "3             0    64900000       159.0           2015-07-24      3   \n",
       "4             2    10000000       100.0           2018-06-19      2   \n",
       "\n",
       "   ceiling_height  floors_total  living_area  floor  is_apartment  ...  \\\n",
       "0            2.70            16         51.0      8         False  ...   \n",
       "1             NaN            11         18.6      1         False  ...   \n",
       "2             NaN             5         34.3      4         False  ...   \n",
       "3             NaN            14          NaN      9         False  ...   \n",
       "4            3.03            14         32.0     13         False  ...   \n",
       "\n",
       "   kitchen_area  balcony    locality_name  airports_nearest  \\\n",
       "0     25.000000        0  Санкт-Петербург           18863.0   \n",
       "1     11.000000        2   посёлок Шушары           12817.0   \n",
       "2      8.300000        0  Санкт-Петербург           21741.0   \n",
       "3     27.848168        0  Санкт-Петербург           28098.0   \n",
       "4     41.000000        0  Санкт-Петербург           31856.0   \n",
       "\n",
       "  cityCenters_nearest  parks_around3000  parks_nearest  ponds_around3000  \\\n",
       "0             16028.0                 1          482.0                 2   \n",
       "1             18603.0                 0            NaN                 0   \n",
       "2             13933.0                 1           90.0                 2   \n",
       "3              6800.0                 2           84.0                 3   \n",
       "4              8098.0                 2          112.0                 1   \n",
       "\n",
       "   ponds_nearest  days_exposition  \n",
       "0          755.0              NaN  \n",
       "1            NaN             81.0  \n",
       "2          574.0            558.0  \n",
       "3          234.0            424.0  \n",
       "4           48.0            121.0  \n",
       "\n",
       "[5 rows x 22 columns]"
      ]
     },
     "metadata": {},
     "output_type": "display_data"
    },
    {
     "data": {
      "text/plain": [
       "total_images                0\n",
       "last_price                  0\n",
       "total_area                  0\n",
       "first_day_exposition        0\n",
       "rooms                       0\n",
       "ceiling_height           9084\n",
       "floors_total                0\n",
       "living_area              1865\n",
       "floor                       0\n",
       "is_apartment                0\n",
       "studio                      0\n",
       "open_plan                   0\n",
       "kitchen_area                0\n",
       "balcony                     0\n",
       "locality_name               0\n",
       "airports_nearest         5524\n",
       "cityCenters_nearest      5501\n",
       "parks_around3000            0\n",
       "parks_nearest           15535\n",
       "ponds_around3000            0\n",
       "ponds_nearest           14529\n",
       "days_exposition          3171\n",
       "dtype: int64"
      ]
     },
     "execution_count": 7,
     "metadata": {},
     "output_type": "execute_result"
    }
   ],
   "source": [
    "\n",
    "# приведем к целочисленному значения в столбцах\n",
    "\n",
    "data['floors_total'] = data['floors_total'].astype('int')\n",
    "\n",
    "data['last_price'] = data['last_price'].astype('int')\n",
    "\n",
    "data['first_day_exposition'] = pd.to_datetime(data['first_day_exposition'], format='%Y-%m-%dT%H:%M:%S') # приобразуем строку в дату\n",
    "display(data.head()) #проверим таблицу с примененными изменениями\n",
    "\n",
    "data.isnull().sum()\n"
   ]
  },
  {
   "cell_type": "markdown",
   "metadata": {},
   "source": [
    "Вывод: при выводе данные о таблице на экран было видно, что изменяемые столбцы имеют тип данных flot, таким параметракм, как количество балконов, количество парков, прудовых и.т.д. такой тип данных не подходит, правильный тип данных int - целое число.  Столбец first_data_exposition в таблице имел тип данных object, правильный тип данных, понятный для столбца в пандас\n",
    ", содержащего даты - datetime."
   ]
  },
  {
   "cell_type": "code",
   "execution_count": 8,
   "metadata": {},
   "outputs": [
    {
     "name": "stdout",
     "output_type": "stream",
     "text": [
      "['санкт-петербург' 'посeлок шушары' 'городской посeлок янино-1'\n",
      " 'посeлок парголово' 'посeлок мурино' 'ломоносов' 'сертолово' 'петергоф'\n",
      " 'пушкин' 'деревня кудрово' 'коммунар' 'колпино'\n",
      " 'поселок городского типа красный бор' 'гатчина' 'поселок мурино'\n",
      " 'деревня фeдоровское' 'выборг' 'кронштадт' 'кировск'\n",
      " 'деревня новое девяткино' 'посeлок металлострой'\n",
      " 'посeлок городского типа лебяжье' 'посeлок городского типа сиверский'\n",
      " 'поселок молодцово' 'поселок городского типа кузьмоловский'\n",
      " 'садовое товарищество новая ропша' 'павловск' 'деревня пикколово'\n",
      " 'всеволожск' 'волхов' 'кингисепп' 'приозерск' 'сестрорецк'\n",
      " 'деревня куттузи' 'посeлок аннино' 'поселок городского типа ефимовский'\n",
      " 'посeлок плодовое' 'деревня заклинье' 'поселок торковичи'\n",
      " 'поселок первомайское' 'красное село' 'посeлок понтонный' 'сясьстрой'\n",
      " 'деревня старая' 'деревня лесколово' 'посeлок новый свет' 'сланцы'\n",
      " 'село путилово' 'ивангород' 'мурино' 'шлиссельбург' 'никольское'\n",
      " 'зеленогорск' 'сосновый бор' 'поселок новый свет' 'деревня оржицы'\n",
      " 'деревня кальтино' 'кудрово' 'поселок романовка' 'посeлок бугры'\n",
      " 'поселок бугры' 'поселок городского типа рощино' 'кириши' 'луга'\n",
      " 'волосово' 'отрадное' 'село павлово' 'поселок оредеж' 'село копорье'\n",
      " 'посeлок городского типа красный бор' 'посeлок молодeжное' 'тихвин'\n",
      " 'посeлок победа' 'деревня нурма' 'поселок городского типа синявино'\n",
      " 'тосно' 'посeлок городского типа кузьмоловский' 'посeлок стрельна'\n",
      " 'бокситогорск' 'посeлок александровская' 'деревня лопухинка' 'пикалeво'\n",
      " 'поселок терволово' 'поселок городского типа советский' 'подпорожье'\n",
      " 'посeлок петровское' 'посeлок городского типа токсово' 'поселок сельцо'\n",
      " 'посeлок городского типа вырица' 'деревня кипень' 'деревня келози'\n",
      " 'деревня вартемяги' 'посeлок тельмана' 'поселок севастьяново'\n",
      " 'городской поселок большая ижора' 'городской посeлок павлово'\n",
      " 'деревня агалатово' 'посeлок новогорелово'\n",
      " 'городской посeлок лесогорский' 'деревня лаголово' 'поселок цвелодубово'\n",
      " 'поселок городского типа рахья' 'поселок городского типа вырица'\n",
      " 'деревня белогорка' 'поселок заводской' 'городской посeлок новоселье'\n",
      " 'деревня большие колпаны' 'деревня горбунки' 'деревня батово'\n",
      " 'деревня заневка' 'деревня иссад' 'приморск'\n",
      " 'городской посeлок фeдоровское' 'деревня мистолово' 'новая ладога'\n",
      " 'поселок зимитицы' 'поселок барышево' 'деревня разметелево'\n",
      " 'поселок городского типа имени свердлова' 'деревня пеники'\n",
      " 'поселок рябово' 'деревня пудомяги' 'поселок станции корнево'\n",
      " 'деревня низино' 'деревня бегуницы' 'посeлок поляны'\n",
      " 'городской посeлок мга' 'поселок елизаветино'\n",
      " 'посeлок городского типа кузнечное' 'деревня колтуши'\n",
      " 'поселок запорожское' 'посeлок городского типа рощино'\n",
      " 'деревня гостилицы' 'деревня малое карлино' 'посeлок мичуринское'\n",
      " 'посeлок городского типа имени морозова' 'посeлок песочный'\n",
      " 'посeлок сосново' 'деревня аро' 'поселок ильичeво'\n",
      " 'посeлок городского типа тайцы' 'деревня малое верево' 'деревня извара'\n",
      " 'поселок станции вещево' 'село паша' 'деревня калитино'\n",
      " 'посeлок городского типа ульяновка' 'деревня чудской бор'\n",
      " 'поселок городского типа дубровка' 'деревня мины' 'поселок войсковицы'\n",
      " 'посeлок городского типа имени свердлова' 'деревня коркино'\n",
      " 'посeлок ропша' 'поселок городского типа приладожский' 'посeлок щеглово'\n",
      " 'посeлок гаврилово' 'лодейное поле' 'деревня рабитицы'\n",
      " 'поселок городского типа никольский' 'деревня кузьмолово'\n",
      " 'деревня малые колпаны' 'поселок тельмана' 'посeлок петро-славянка'\n",
      " 'городской посeлок назия' 'посeлок репино' 'посeлок ильичeво'\n",
      " 'поселок углово' 'поселок старая малукса' 'садовое товарищество рахья'\n",
      " 'поселок аннино' 'поселок победа' 'деревня меньково'\n",
      " 'деревня старые бегуницы' 'посeлок сапeрный' 'поселок семрино'\n",
      " 'поселок гаврилово' 'поселок глажево' 'поселок кобринское'\n",
      " 'деревня гарболово' 'деревня юкки' 'поселок станции приветнинское'\n",
      " 'деревня мануйлово' 'деревня пчева' 'поселок поляны' 'поселок цвылeво'\n",
      " 'поселок мельниково' 'посeлок пудость' 'посeлок усть-луга' 'светогорск'\n",
      " 'любань' 'поселок селезнeво' 'поселок городского типа рябово'\n",
      " 'каменногорск' 'деревня кривко' 'поселок глебычево' 'деревня парицы'\n",
      " 'поселок жилпосeлок' 'посeлок городского типа мга'\n",
      " 'городской поселок янино-1' 'посeлок войскорово' 'село никольское'\n",
      " 'посeлок терволово' 'поселок стеклянный' 'посeлок городского типа важины'\n",
      " 'посeлок мыза-ивановка' 'село русско-высоцкое'\n",
      " 'поселок городского типа лебяжье' 'поселок городского типа форносово'\n",
      " 'село старая ладога' 'поселок житково' 'городской посeлок виллози'\n",
      " 'деревня лампово' 'деревня шпаньково' 'деревня лаврики' 'посeлок сумино'\n",
      " 'посeлок возрождение' 'деревня старосиверская' 'посeлок кикерино'\n",
      " 'поселок возрождение' 'деревня старое хинколово' 'посeлок пригородный'\n",
      " 'посeлок торфяное' 'городской посeлок будогощь' 'поселок суходолье'\n",
      " 'поселок красная долина' 'деревня хапо-ое'\n",
      " 'поселок городского типа дружная горка' 'поселок лисий нос'\n",
      " 'деревня яльгелево' 'посeлок стеклянный' 'село рождествено'\n",
      " 'деревня старополье' 'посeлок левашово' 'деревня сяськелево'\n",
      " 'деревня камышовка'\n",
      " 'садоводческое некоммерческое товарищество лесная поляна'\n",
      " 'деревня хязельки' 'поселок жилгородок' 'посeлок городского типа павлово'\n",
      " 'деревня ялгино' 'поселок новый учхоз' 'городской посeлок рощино'\n",
      " 'поселок гончарово' 'поселок почап' 'посeлок сапeрное'\n",
      " 'посeлок платформа 69-й километр' 'поселок каложицы' 'деревня фалилеево'\n",
      " 'деревня пельгора' 'поселок городского типа лесогорский'\n",
      " 'деревня торошковичи' 'посeлок белоостров' 'посeлок алексеевка'\n",
      " 'поселок серебрянский' 'поселок лукаши' 'поселок петровское'\n",
      " 'деревня щеглово' 'поселок мичуринское' 'деревня тарасово'\n",
      " 'поселок кингисеппский' 'посeлок при железнодорожной станции вещево'\n",
      " 'поселок ушаки' 'деревня котлы' 'деревня сижно' 'деревня торосово'\n",
      " 'посeлок форт красная горка' 'деревня новолисино'\n",
      " 'посeлок станции громово' 'деревня глинка' 'посeлок мельниково'\n",
      " 'поселок городского типа назия' 'деревня старая пустошь'\n",
      " 'поселок коммунары' 'поселок починок'\n",
      " 'посeлок городского типа вознесенье' 'деревня разбегаево'\n",
      " 'посeлок городского типа рябово' 'поселок гладкое'\n",
      " 'посeлок при железнодорожной станции приветнинское' 'поселок тeсово-4'\n",
      " 'посeлок жилгородок' 'деревня бор' 'посeлок коробицыно'\n",
      " 'деревня большая вруда' 'деревня курковицы' 'посeлок лисий нос'\n",
      " 'городской посeлок советский' 'посeлок кобралово' 'деревня суоранда'\n",
      " 'поселок кобралово' 'поселок городского типа кондратьево'\n",
      " 'коттеджный поселок счастье' 'поселок любань' 'деревня реброво'\n",
      " 'деревня зимитицы' 'деревня тойворово' 'поселок семиозерье'\n",
      " 'поселок лесное' 'поселок совхозный' 'поселок усть-луга'\n",
      " 'посeлок ленинское' 'посeлок суйда' 'посeлок городского типа форносово'\n",
      " 'деревня нижние осельки' 'посeлок станции свирь' 'поселок перово'\n",
      " 'высоцк' 'поселок гарболово' 'село шум' 'поселок котельский'\n",
      " 'поселок станции лужайка' 'деревня большая пустомержа'\n",
      " 'поселок красносельское' 'деревня вахнова кара' 'деревня пижма'\n",
      " 'коттеджный поселок кивеннапа север' 'поселок коробицыно'\n",
      " 'поселок ромашки' 'посeлок перово' 'деревня каськово' 'деревня куровицы'\n",
      " 'посeлок плоское' 'поселок сумино'\n",
      " 'поселок городского типа большая ижора' 'поселок кирпичное'\n",
      " 'деревня ям-тесово' 'деревня раздолье' 'деревня терпилицы'\n",
      " 'поселок городского типа токсово' 'посeлок шугозеро' 'деревня ваганово'\n",
      " 'поселок пушное' 'садовое товарищество садко' 'посeлок усть-ижора'\n",
      " 'деревня выскатка' 'городской посeлок свирьстрой' 'поселок громово'\n",
      " 'деревня кисельня' 'посeлок старая малукса' 'деревня трубников бор'\n",
      " 'поселок калитино' 'посeлок высокоключевой'\n",
      " 'садовое товарищество приладожский' 'посeлок пансионат зелeный бор'\n",
      " 'деревня ненимяки' 'поселок пансионат зелeный бор' 'деревня снегирeвка'\n",
      " 'деревня рапполово' 'деревня пустынка' 'поселок рабитицы'\n",
      " 'деревня большой сабск' 'деревня русско' 'деревня лупполово'\n",
      " 'деревня большое рейзино' 'деревня малая романовка' 'поселок дружноселье'\n",
      " 'поселок пчевжа' 'поселок володарское' 'деревня нижняя'\n",
      " 'коттеджный посeлок лесное' 'деревня тихковицы' 'деревня борисова грива'\n",
      " 'посeлок дзержинского']\n"
     ]
    }
   ],
   "source": [
    "#поиск неявных дубликатов в столбце locality_name\n",
    "data['locality_name'].unique()\n",
    "data['locality_name'] = data['locality_name'].str.lower() # присвоили нижний регистр всем значениям в столбце\n",
    "#cоздаем функцию, которая заменит значения строк в столбце data['locacity_name'] на пустоту\n",
    "def replace_locality_name(date, column, locality_name_list):\n",
    "    for element in locality_name_list:\n",
    "        data[column] = data[column].str.replace('locality_name', '')\n",
    "#создадим списокБ который заменит пустоты в столбце  \n",
    "locality_name_list = ['городской поселок', 'поселок городского типа', 'поселок при железнодорожной станции', 'коттеджный поселок', 'поселок станции', 'поселок','деревня','садоводческое некомерческое товарищество','садовое товарищество', 'село']\n",
    "data['locality_name'] = data['locality_name'].str.replace('ё', 'e')\n",
    "replace_locality_name(data, 'locality_name', locality_name_list)\n",
    "\n",
    "print(data['locality_name'].unique())\n",
    "\n"
   ]
  },
  {
   "cell_type": "code",
   "execution_count": 9,
   "metadata": {},
   "outputs": [
    {
     "data": {
      "text/plain": [
       "2.50     3515\n",
       "2.60     1645\n",
       "2.70     1571\n",
       "3.00     1108\n",
       "2.80      988\n",
       "         ... \n",
       "4.25        1\n",
       "3.39        1\n",
       "3.93        1\n",
       "10.30       1\n",
       "4.65        1\n",
       "Name: ceiling_height, Length: 183, dtype: int64"
      ]
     },
     "metadata": {},
     "output_type": "display_data"
    },
    {
     "data": {
      "text/plain": [
       "count    14481.000000\n",
       "mean         2.771283\n",
       "std          1.261983\n",
       "min          1.000000\n",
       "25%          2.510000\n",
       "50%          2.650000\n",
       "75%          2.800000\n",
       "max        100.000000\n",
       "Name: ceiling_height, dtype: float64"
      ]
     },
     "metadata": {},
     "output_type": "display_data"
    },
    {
     "data": {
      "text/html": [
       "<div>\n",
       "<style scoped>\n",
       "    .dataframe tbody tr th:only-of-type {\n",
       "        vertical-align: middle;\n",
       "    }\n",
       "\n",
       "    .dataframe tbody tr th {\n",
       "        vertical-align: top;\n",
       "    }\n",
       "\n",
       "    .dataframe thead th {\n",
       "        text-align: right;\n",
       "    }\n",
       "</style>\n",
       "<table border=\"1\" class=\"dataframe\">\n",
       "  <thead>\n",
       "    <tr style=\"text-align: right;\">\n",
       "      <th></th>\n",
       "      <th>total_images</th>\n",
       "      <th>last_price</th>\n",
       "      <th>total_area</th>\n",
       "      <th>first_day_exposition</th>\n",
       "      <th>rooms</th>\n",
       "      <th>ceiling_height</th>\n",
       "      <th>floors_total</th>\n",
       "      <th>living_area</th>\n",
       "      <th>floor</th>\n",
       "      <th>is_apartment</th>\n",
       "      <th>...</th>\n",
       "      <th>kitchen_area</th>\n",
       "      <th>balcony</th>\n",
       "      <th>locality_name</th>\n",
       "      <th>airports_nearest</th>\n",
       "      <th>cityCenters_nearest</th>\n",
       "      <th>parks_around3000</th>\n",
       "      <th>parks_nearest</th>\n",
       "      <th>ponds_around3000</th>\n",
       "      <th>ponds_nearest</th>\n",
       "      <th>days_exposition</th>\n",
       "    </tr>\n",
       "  </thead>\n",
       "  <tbody>\n",
       "    <tr>\n",
       "      <th>355</th>\n",
       "      <td>17</td>\n",
       "      <td>3600000</td>\n",
       "      <td>55.2</td>\n",
       "      <td>2018-07-12</td>\n",
       "      <td>2</td>\n",
       "      <td>25.0</td>\n",
       "      <td>5</td>\n",
       "      <td>32.0</td>\n",
       "      <td>2</td>\n",
       "      <td>False</td>\n",
       "      <td>...</td>\n",
       "      <td>9.668043</td>\n",
       "      <td>2</td>\n",
       "      <td>гатчина</td>\n",
       "      <td>NaN</td>\n",
       "      <td>NaN</td>\n",
       "      <td>0</td>\n",
       "      <td>NaN</td>\n",
       "      <td>0</td>\n",
       "      <td>NaN</td>\n",
       "      <td>259.0</td>\n",
       "    </tr>\n",
       "    <tr>\n",
       "      <th>3148</th>\n",
       "      <td>14</td>\n",
       "      <td>2900000</td>\n",
       "      <td>75.0</td>\n",
       "      <td>2018-11-12</td>\n",
       "      <td>3</td>\n",
       "      <td>32.0</td>\n",
       "      <td>3</td>\n",
       "      <td>53.0</td>\n",
       "      <td>2</td>\n",
       "      <td>False</td>\n",
       "      <td>...</td>\n",
       "      <td>8.000000</td>\n",
       "      <td>0</td>\n",
       "      <td>волхов</td>\n",
       "      <td>NaN</td>\n",
       "      <td>NaN</td>\n",
       "      <td>0</td>\n",
       "      <td>NaN</td>\n",
       "      <td>0</td>\n",
       "      <td>NaN</td>\n",
       "      <td>NaN</td>\n",
       "    </tr>\n",
       "    <tr>\n",
       "      <th>4643</th>\n",
       "      <td>0</td>\n",
       "      <td>4300000</td>\n",
       "      <td>45.0</td>\n",
       "      <td>2018-02-01</td>\n",
       "      <td>2</td>\n",
       "      <td>25.0</td>\n",
       "      <td>9</td>\n",
       "      <td>30.0</td>\n",
       "      <td>2</td>\n",
       "      <td>False</td>\n",
       "      <td>...</td>\n",
       "      <td>7.000000</td>\n",
       "      <td>1</td>\n",
       "      <td>санкт-петербург</td>\n",
       "      <td>12016.0</td>\n",
       "      <td>13256.0</td>\n",
       "      <td>1</td>\n",
       "      <td>658.0</td>\n",
       "      <td>1</td>\n",
       "      <td>331.0</td>\n",
       "      <td>181.0</td>\n",
       "    </tr>\n",
       "    <tr>\n",
       "      <th>4876</th>\n",
       "      <td>7</td>\n",
       "      <td>3000000</td>\n",
       "      <td>25.0</td>\n",
       "      <td>2017-09-27</td>\n",
       "      <td>0</td>\n",
       "      <td>27.0</td>\n",
       "      <td>25</td>\n",
       "      <td>17.0</td>\n",
       "      <td>17</td>\n",
       "      <td>False</td>\n",
       "      <td>...</td>\n",
       "      <td>4.378643</td>\n",
       "      <td>2</td>\n",
       "      <td>посeлок мурино</td>\n",
       "      <td>NaN</td>\n",
       "      <td>NaN</td>\n",
       "      <td>0</td>\n",
       "      <td>NaN</td>\n",
       "      <td>0</td>\n",
       "      <td>NaN</td>\n",
       "      <td>28.0</td>\n",
       "    </tr>\n",
       "    <tr>\n",
       "      <th>5076</th>\n",
       "      <td>0</td>\n",
       "      <td>3850000</td>\n",
       "      <td>30.5</td>\n",
       "      <td>2018-10-03</td>\n",
       "      <td>1</td>\n",
       "      <td>24.0</td>\n",
       "      <td>5</td>\n",
       "      <td>19.5</td>\n",
       "      <td>1</td>\n",
       "      <td>True</td>\n",
       "      <td>...</td>\n",
       "      <td>5.500000</td>\n",
       "      <td>0</td>\n",
       "      <td>санкт-петербург</td>\n",
       "      <td>29686.0</td>\n",
       "      <td>8389.0</td>\n",
       "      <td>3</td>\n",
       "      <td>397.0</td>\n",
       "      <td>1</td>\n",
       "      <td>578.0</td>\n",
       "      <td>7.0</td>\n",
       "    </tr>\n",
       "    <tr>\n",
       "      <th>5246</th>\n",
       "      <td>0</td>\n",
       "      <td>2500000</td>\n",
       "      <td>54.0</td>\n",
       "      <td>2017-10-13</td>\n",
       "      <td>2</td>\n",
       "      <td>27.0</td>\n",
       "      <td>5</td>\n",
       "      <td>30.0</td>\n",
       "      <td>3</td>\n",
       "      <td>False</td>\n",
       "      <td>...</td>\n",
       "      <td>9.000000</td>\n",
       "      <td>2</td>\n",
       "      <td>деревня мины</td>\n",
       "      <td>NaN</td>\n",
       "      <td>NaN</td>\n",
       "      <td>0</td>\n",
       "      <td>NaN</td>\n",
       "      <td>0</td>\n",
       "      <td>NaN</td>\n",
       "      <td>540.0</td>\n",
       "    </tr>\n",
       "    <tr>\n",
       "      <th>5669</th>\n",
       "      <td>4</td>\n",
       "      <td>4400000</td>\n",
       "      <td>50.0</td>\n",
       "      <td>2017-08-08</td>\n",
       "      <td>2</td>\n",
       "      <td>26.0</td>\n",
       "      <td>9</td>\n",
       "      <td>21.3</td>\n",
       "      <td>3</td>\n",
       "      <td>False</td>\n",
       "      <td>...</td>\n",
       "      <td>7.000000</td>\n",
       "      <td>2</td>\n",
       "      <td>санкт-петербург</td>\n",
       "      <td>28981.0</td>\n",
       "      <td>10912.0</td>\n",
       "      <td>1</td>\n",
       "      <td>305.0</td>\n",
       "      <td>0</td>\n",
       "      <td>NaN</td>\n",
       "      <td>267.0</td>\n",
       "    </tr>\n",
       "    <tr>\n",
       "      <th>5807</th>\n",
       "      <td>17</td>\n",
       "      <td>8150000</td>\n",
       "      <td>80.0</td>\n",
       "      <td>2019-01-09</td>\n",
       "      <td>2</td>\n",
       "      <td>27.0</td>\n",
       "      <td>36</td>\n",
       "      <td>41.0</td>\n",
       "      <td>13</td>\n",
       "      <td>False</td>\n",
       "      <td>...</td>\n",
       "      <td>12.000000</td>\n",
       "      <td>5</td>\n",
       "      <td>санкт-петербург</td>\n",
       "      <td>18732.0</td>\n",
       "      <td>20444.0</td>\n",
       "      <td>0</td>\n",
       "      <td>NaN</td>\n",
       "      <td>3</td>\n",
       "      <td>80.0</td>\n",
       "      <td>38.0</td>\n",
       "    </tr>\n",
       "    <tr>\n",
       "      <th>6246</th>\n",
       "      <td>6</td>\n",
       "      <td>3300000</td>\n",
       "      <td>44.4</td>\n",
       "      <td>2019-03-25</td>\n",
       "      <td>2</td>\n",
       "      <td>25.0</td>\n",
       "      <td>5</td>\n",
       "      <td>31.3</td>\n",
       "      <td>5</td>\n",
       "      <td>False</td>\n",
       "      <td>...</td>\n",
       "      <td>5.700000</td>\n",
       "      <td>0</td>\n",
       "      <td>кронштадт</td>\n",
       "      <td>68923.0</td>\n",
       "      <td>50649.0</td>\n",
       "      <td>1</td>\n",
       "      <td>417.0</td>\n",
       "      <td>2</td>\n",
       "      <td>73.0</td>\n",
       "      <td>NaN</td>\n",
       "    </tr>\n",
       "    <tr>\n",
       "      <th>9379</th>\n",
       "      <td>5</td>\n",
       "      <td>3950000</td>\n",
       "      <td>42.0</td>\n",
       "      <td>2017-03-26</td>\n",
       "      <td>3</td>\n",
       "      <td>25.0</td>\n",
       "      <td>5</td>\n",
       "      <td>30.0</td>\n",
       "      <td>2</td>\n",
       "      <td>False</td>\n",
       "      <td>...</td>\n",
       "      <td>5.200000</td>\n",
       "      <td>0</td>\n",
       "      <td>санкт-петербург</td>\n",
       "      <td>11647.0</td>\n",
       "      <td>13581.0</td>\n",
       "      <td>0</td>\n",
       "      <td>NaN</td>\n",
       "      <td>0</td>\n",
       "      <td>NaN</td>\n",
       "      <td>NaN</td>\n",
       "    </tr>\n",
       "    <tr>\n",
       "      <th>10773</th>\n",
       "      <td>8</td>\n",
       "      <td>3800000</td>\n",
       "      <td>58.0</td>\n",
       "      <td>2017-10-13</td>\n",
       "      <td>2</td>\n",
       "      <td>27.0</td>\n",
       "      <td>10</td>\n",
       "      <td>30.1</td>\n",
       "      <td>3</td>\n",
       "      <td>False</td>\n",
       "      <td>...</td>\n",
       "      <td>8.100000</td>\n",
       "      <td>2</td>\n",
       "      <td>посeлок мурино</td>\n",
       "      <td>NaN</td>\n",
       "      <td>NaN</td>\n",
       "      <td>0</td>\n",
       "      <td>NaN</td>\n",
       "      <td>0</td>\n",
       "      <td>NaN</td>\n",
       "      <td>71.0</td>\n",
       "    </tr>\n",
       "    <tr>\n",
       "      <th>11285</th>\n",
       "      <td>0</td>\n",
       "      <td>1950000</td>\n",
       "      <td>37.0</td>\n",
       "      <td>2019-03-20</td>\n",
       "      <td>1</td>\n",
       "      <td>25.0</td>\n",
       "      <td>5</td>\n",
       "      <td>17.0</td>\n",
       "      <td>4</td>\n",
       "      <td>False</td>\n",
       "      <td>...</td>\n",
       "      <td>9.000000</td>\n",
       "      <td>2</td>\n",
       "      <td>луга</td>\n",
       "      <td>NaN</td>\n",
       "      <td>NaN</td>\n",
       "      <td>0</td>\n",
       "      <td>NaN</td>\n",
       "      <td>0</td>\n",
       "      <td>NaN</td>\n",
       "      <td>18.0</td>\n",
       "    </tr>\n",
       "    <tr>\n",
       "      <th>14382</th>\n",
       "      <td>9</td>\n",
       "      <td>1700000</td>\n",
       "      <td>35.0</td>\n",
       "      <td>2015-12-04</td>\n",
       "      <td>1</td>\n",
       "      <td>25.0</td>\n",
       "      <td>5</td>\n",
       "      <td>20.0</td>\n",
       "      <td>2</td>\n",
       "      <td>False</td>\n",
       "      <td>...</td>\n",
       "      <td>8.000000</td>\n",
       "      <td>1</td>\n",
       "      <td>поселок новый свет</td>\n",
       "      <td>NaN</td>\n",
       "      <td>NaN</td>\n",
       "      <td>0</td>\n",
       "      <td>NaN</td>\n",
       "      <td>0</td>\n",
       "      <td>NaN</td>\n",
       "      <td>206.0</td>\n",
       "    </tr>\n",
       "    <tr>\n",
       "      <th>17857</th>\n",
       "      <td>1</td>\n",
       "      <td>3900000</td>\n",
       "      <td>56.0</td>\n",
       "      <td>2017-12-22</td>\n",
       "      <td>3</td>\n",
       "      <td>27.0</td>\n",
       "      <td>5</td>\n",
       "      <td>33.0</td>\n",
       "      <td>4</td>\n",
       "      <td>False</td>\n",
       "      <td>...</td>\n",
       "      <td>9.808160</td>\n",
       "      <td>0</td>\n",
       "      <td>санкт-петербург</td>\n",
       "      <td>41030.0</td>\n",
       "      <td>15543.0</td>\n",
       "      <td>0</td>\n",
       "      <td>NaN</td>\n",
       "      <td>0</td>\n",
       "      <td>NaN</td>\n",
       "      <td>73.0</td>\n",
       "    </tr>\n",
       "    <tr>\n",
       "      <th>18545</th>\n",
       "      <td>6</td>\n",
       "      <td>3750000</td>\n",
       "      <td>43.0</td>\n",
       "      <td>2019-03-18</td>\n",
       "      <td>2</td>\n",
       "      <td>25.0</td>\n",
       "      <td>5</td>\n",
       "      <td>29.0</td>\n",
       "      <td>3</td>\n",
       "      <td>False</td>\n",
       "      <td>...</td>\n",
       "      <td>7.531265</td>\n",
       "      <td>0</td>\n",
       "      <td>санкт-петербург</td>\n",
       "      <td>27054.0</td>\n",
       "      <td>8033.0</td>\n",
       "      <td>1</td>\n",
       "      <td>540.0</td>\n",
       "      <td>0</td>\n",
       "      <td>NaN</td>\n",
       "      <td>12.0</td>\n",
       "    </tr>\n",
       "    <tr>\n",
       "      <th>20478</th>\n",
       "      <td>11</td>\n",
       "      <td>8000000</td>\n",
       "      <td>45.0</td>\n",
       "      <td>2017-07-18</td>\n",
       "      <td>1</td>\n",
       "      <td>27.0</td>\n",
       "      <td>4</td>\n",
       "      <td>22.0</td>\n",
       "      <td>2</td>\n",
       "      <td>False</td>\n",
       "      <td>...</td>\n",
       "      <td>10.000000</td>\n",
       "      <td>1</td>\n",
       "      <td>санкт-петербург</td>\n",
       "      <td>18975.0</td>\n",
       "      <td>3246.0</td>\n",
       "      <td>0</td>\n",
       "      <td>NaN</td>\n",
       "      <td>3</td>\n",
       "      <td>449.0</td>\n",
       "      <td>429.0</td>\n",
       "    </tr>\n",
       "    <tr>\n",
       "      <th>20507</th>\n",
       "      <td>12</td>\n",
       "      <td>5950000</td>\n",
       "      <td>60.0</td>\n",
       "      <td>2018-02-19</td>\n",
       "      <td>2</td>\n",
       "      <td>22.6</td>\n",
       "      <td>14</td>\n",
       "      <td>35.0</td>\n",
       "      <td>11</td>\n",
       "      <td>False</td>\n",
       "      <td>...</td>\n",
       "      <td>13.000000</td>\n",
       "      <td>1</td>\n",
       "      <td>санкт-петербург</td>\n",
       "      <td>27028.0</td>\n",
       "      <td>12570.0</td>\n",
       "      <td>0</td>\n",
       "      <td>NaN</td>\n",
       "      <td>0</td>\n",
       "      <td>NaN</td>\n",
       "      <td>40.0</td>\n",
       "    </tr>\n",
       "    <tr>\n",
       "      <th>21377</th>\n",
       "      <td>19</td>\n",
       "      <td>4900000</td>\n",
       "      <td>42.0</td>\n",
       "      <td>2017-04-18</td>\n",
       "      <td>1</td>\n",
       "      <td>27.5</td>\n",
       "      <td>24</td>\n",
       "      <td>37.7</td>\n",
       "      <td>19</td>\n",
       "      <td>False</td>\n",
       "      <td>...</td>\n",
       "      <td>11.000000</td>\n",
       "      <td>2</td>\n",
       "      <td>санкт-петербург</td>\n",
       "      <td>42742.0</td>\n",
       "      <td>9760.0</td>\n",
       "      <td>0</td>\n",
       "      <td>NaN</td>\n",
       "      <td>0</td>\n",
       "      <td>NaN</td>\n",
       "      <td>61.0</td>\n",
       "    </tr>\n",
       "    <tr>\n",
       "      <th>21824</th>\n",
       "      <td>20</td>\n",
       "      <td>2450000</td>\n",
       "      <td>44.0</td>\n",
       "      <td>2019-02-12</td>\n",
       "      <td>2</td>\n",
       "      <td>27.0</td>\n",
       "      <td>2</td>\n",
       "      <td>38.0</td>\n",
       "      <td>2</td>\n",
       "      <td>False</td>\n",
       "      <td>...</td>\n",
       "      <td>8.600000</td>\n",
       "      <td>2</td>\n",
       "      <td>городской поселок большая ижора</td>\n",
       "      <td>NaN</td>\n",
       "      <td>NaN</td>\n",
       "      <td>0</td>\n",
       "      <td>NaN</td>\n",
       "      <td>0</td>\n",
       "      <td>NaN</td>\n",
       "      <td>NaN</td>\n",
       "    </tr>\n",
       "    <tr>\n",
       "      <th>22336</th>\n",
       "      <td>19</td>\n",
       "      <td>9999000</td>\n",
       "      <td>92.4</td>\n",
       "      <td>2019-04-05</td>\n",
       "      <td>2</td>\n",
       "      <td>32.0</td>\n",
       "      <td>6</td>\n",
       "      <td>55.5</td>\n",
       "      <td>5</td>\n",
       "      <td>False</td>\n",
       "      <td>...</td>\n",
       "      <td>16.500000</td>\n",
       "      <td>4</td>\n",
       "      <td>санкт-петербург</td>\n",
       "      <td>18838.0</td>\n",
       "      <td>3506.0</td>\n",
       "      <td>0</td>\n",
       "      <td>NaN</td>\n",
       "      <td>3</td>\n",
       "      <td>511.0</td>\n",
       "      <td>NaN</td>\n",
       "    </tr>\n",
       "    <tr>\n",
       "      <th>22938</th>\n",
       "      <td>14</td>\n",
       "      <td>4000000</td>\n",
       "      <td>98.0</td>\n",
       "      <td>2018-03-15</td>\n",
       "      <td>4</td>\n",
       "      <td>27.0</td>\n",
       "      <td>2</td>\n",
       "      <td>73.0</td>\n",
       "      <td>2</td>\n",
       "      <td>True</td>\n",
       "      <td>...</td>\n",
       "      <td>9.000000</td>\n",
       "      <td>1</td>\n",
       "      <td>деревня нижняя</td>\n",
       "      <td>NaN</td>\n",
       "      <td>NaN</td>\n",
       "      <td>0</td>\n",
       "      <td>NaN</td>\n",
       "      <td>0</td>\n",
       "      <td>NaN</td>\n",
       "      <td>27.0</td>\n",
       "    </tr>\n",
       "  </tbody>\n",
       "</table>\n",
       "<p>21 rows × 22 columns</p>\n",
       "</div>"
      ],
      "text/plain": [
       "       total_images  last_price  total_area first_day_exposition  rooms  \\\n",
       "355              17     3600000        55.2           2018-07-12      2   \n",
       "3148             14     2900000        75.0           2018-11-12      3   \n",
       "4643              0     4300000        45.0           2018-02-01      2   \n",
       "4876              7     3000000        25.0           2017-09-27      0   \n",
       "5076              0     3850000        30.5           2018-10-03      1   \n",
       "5246              0     2500000        54.0           2017-10-13      2   \n",
       "5669              4     4400000        50.0           2017-08-08      2   \n",
       "5807             17     8150000        80.0           2019-01-09      2   \n",
       "6246              6     3300000        44.4           2019-03-25      2   \n",
       "9379              5     3950000        42.0           2017-03-26      3   \n",
       "10773             8     3800000        58.0           2017-10-13      2   \n",
       "11285             0     1950000        37.0           2019-03-20      1   \n",
       "14382             9     1700000        35.0           2015-12-04      1   \n",
       "17857             1     3900000        56.0           2017-12-22      3   \n",
       "18545             6     3750000        43.0           2019-03-18      2   \n",
       "20478            11     8000000        45.0           2017-07-18      1   \n",
       "20507            12     5950000        60.0           2018-02-19      2   \n",
       "21377            19     4900000        42.0           2017-04-18      1   \n",
       "21824            20     2450000        44.0           2019-02-12      2   \n",
       "22336            19     9999000        92.4           2019-04-05      2   \n",
       "22938            14     4000000        98.0           2018-03-15      4   \n",
       "\n",
       "       ceiling_height  floors_total  living_area  floor  is_apartment  ...  \\\n",
       "355              25.0             5         32.0      2         False  ...   \n",
       "3148             32.0             3         53.0      2         False  ...   \n",
       "4643             25.0             9         30.0      2         False  ...   \n",
       "4876             27.0            25         17.0     17         False  ...   \n",
       "5076             24.0             5         19.5      1          True  ...   \n",
       "5246             27.0             5         30.0      3         False  ...   \n",
       "5669             26.0             9         21.3      3         False  ...   \n",
       "5807             27.0            36         41.0     13         False  ...   \n",
       "6246             25.0             5         31.3      5         False  ...   \n",
       "9379             25.0             5         30.0      2         False  ...   \n",
       "10773            27.0            10         30.1      3         False  ...   \n",
       "11285            25.0             5         17.0      4         False  ...   \n",
       "14382            25.0             5         20.0      2         False  ...   \n",
       "17857            27.0             5         33.0      4         False  ...   \n",
       "18545            25.0             5         29.0      3         False  ...   \n",
       "20478            27.0             4         22.0      2         False  ...   \n",
       "20507            22.6            14         35.0     11         False  ...   \n",
       "21377            27.5            24         37.7     19         False  ...   \n",
       "21824            27.0             2         38.0      2         False  ...   \n",
       "22336            32.0             6         55.5      5         False  ...   \n",
       "22938            27.0             2         73.0      2          True  ...   \n",
       "\n",
       "       kitchen_area  balcony                    locality_name  \\\n",
       "355        9.668043        2                          гатчина   \n",
       "3148       8.000000        0                           волхов   \n",
       "4643       7.000000        1                  санкт-петербург   \n",
       "4876       4.378643        2                   посeлок мурино   \n",
       "5076       5.500000        0                  санкт-петербург   \n",
       "5246       9.000000        2                     деревня мины   \n",
       "5669       7.000000        2                  санкт-петербург   \n",
       "5807      12.000000        5                  санкт-петербург   \n",
       "6246       5.700000        0                        кронштадт   \n",
       "9379       5.200000        0                  санкт-петербург   \n",
       "10773      8.100000        2                   посeлок мурино   \n",
       "11285      9.000000        2                             луга   \n",
       "14382      8.000000        1               поселок новый свет   \n",
       "17857      9.808160        0                  санкт-петербург   \n",
       "18545      7.531265        0                  санкт-петербург   \n",
       "20478     10.000000        1                  санкт-петербург   \n",
       "20507     13.000000        1                  санкт-петербург   \n",
       "21377     11.000000        2                  санкт-петербург   \n",
       "21824      8.600000        2  городской поселок большая ижора   \n",
       "22336     16.500000        4                  санкт-петербург   \n",
       "22938      9.000000        1                   деревня нижняя   \n",
       "\n",
       "       airports_nearest cityCenters_nearest  parks_around3000  parks_nearest  \\\n",
       "355                 NaN                 NaN                 0            NaN   \n",
       "3148                NaN                 NaN                 0            NaN   \n",
       "4643            12016.0             13256.0                 1          658.0   \n",
       "4876                NaN                 NaN                 0            NaN   \n",
       "5076            29686.0              8389.0                 3          397.0   \n",
       "5246                NaN                 NaN                 0            NaN   \n",
       "5669            28981.0             10912.0                 1          305.0   \n",
       "5807            18732.0             20444.0                 0            NaN   \n",
       "6246            68923.0             50649.0                 1          417.0   \n",
       "9379            11647.0             13581.0                 0            NaN   \n",
       "10773               NaN                 NaN                 0            NaN   \n",
       "11285               NaN                 NaN                 0            NaN   \n",
       "14382               NaN                 NaN                 0            NaN   \n",
       "17857           41030.0             15543.0                 0            NaN   \n",
       "18545           27054.0              8033.0                 1          540.0   \n",
       "20478           18975.0              3246.0                 0            NaN   \n",
       "20507           27028.0             12570.0                 0            NaN   \n",
       "21377           42742.0              9760.0                 0            NaN   \n",
       "21824               NaN                 NaN                 0            NaN   \n",
       "22336           18838.0              3506.0                 0            NaN   \n",
       "22938               NaN                 NaN                 0            NaN   \n",
       "\n",
       "       ponds_around3000  ponds_nearest  days_exposition  \n",
       "355                   0            NaN            259.0  \n",
       "3148                  0            NaN              NaN  \n",
       "4643                  1          331.0            181.0  \n",
       "4876                  0            NaN             28.0  \n",
       "5076                  1          578.0              7.0  \n",
       "5246                  0            NaN            540.0  \n",
       "5669                  0            NaN            267.0  \n",
       "5807                  3           80.0             38.0  \n",
       "6246                  2           73.0              NaN  \n",
       "9379                  0            NaN              NaN  \n",
       "10773                 0            NaN             71.0  \n",
       "11285                 0            NaN             18.0  \n",
       "14382                 0            NaN            206.0  \n",
       "17857                 0            NaN             73.0  \n",
       "18545                 0            NaN             12.0  \n",
       "20478                 3          449.0            429.0  \n",
       "20507                 0            NaN             40.0  \n",
       "21377                 0            NaN             61.0  \n",
       "21824                 0            NaN              NaN  \n",
       "22336                 3          511.0              NaN  \n",
       "22938                 0            NaN             27.0  \n",
       "\n",
       "[21 rows x 22 columns]"
      ]
     },
     "metadata": {},
     "output_type": "display_data"
    },
    {
     "data": {
      "text/plain": [
       "23679     NaN\n",
       "23680    2.50\n",
       "23681    2.50\n",
       "23682    2.50\n",
       "23683    2.50\n",
       "23684    3.00\n",
       "23685    2.50\n",
       "23686    2.55\n",
       "23687     NaN\n",
       "23688    3.05\n",
       "23689    2.86\n",
       "23690     NaN\n",
       "23691    2.75\n",
       "23692     NaN\n",
       "23693    2.60\n",
       "23694    3.70\n",
       "23695     NaN\n",
       "23696     NaN\n",
       "23697    3.00\n",
       "23698    2.50\n",
       "Name: ceiling_height, dtype: float64"
      ]
     },
     "metadata": {},
     "output_type": "display_data"
    },
    {
     "name": "stdout",
     "output_type": "stream",
     "text": [
      "<class 'pandas.core.frame.DataFrame'>\n",
      "Int64Index: 23565 entries, 0 to 23698\n",
      "Data columns (total 22 columns):\n",
      " #   Column                Non-Null Count  Dtype         \n",
      "---  ------                --------------  -----         \n",
      " 0   total_images          23565 non-null  int64         \n",
      " 1   last_price            23565 non-null  int64         \n",
      " 2   total_area            23565 non-null  float64       \n",
      " 3   first_day_exposition  23565 non-null  datetime64[ns]\n",
      " 4   rooms                 23565 non-null  int64         \n",
      " 5   ceiling_height        14481 non-null  float64       \n",
      " 6   floors_total          23565 non-null  int64         \n",
      " 7   living_area           21700 non-null  float64       \n",
      " 8   floor                 23565 non-null  int64         \n",
      " 9   is_apartment          23565 non-null  bool          \n",
      " 10  studio                23565 non-null  bool          \n",
      " 11  open_plan             23565 non-null  bool          \n",
      " 12  kitchen_area          23565 non-null  float64       \n",
      " 13  balcony               23565 non-null  int64         \n",
      " 14  locality_name         23565 non-null  object        \n",
      " 15  airports_nearest      18041 non-null  float64       \n",
      " 16  cityCenters_nearest   18064 non-null  float64       \n",
      " 17  parks_around3000      23565 non-null  int64         \n",
      " 18  parks_nearest         8030 non-null   float64       \n",
      " 19  ponds_around3000      23565 non-null  int64         \n",
      " 20  ponds_nearest         9036 non-null   float64       \n",
      " 21  days_exposition       20394 non-null  float64       \n",
      "dtypes: bool(3), datetime64[ns](1), float64(9), int64(8), object(1)\n",
      "memory usage: 4.2+ MB\n"
     ]
    }
   ],
   "source": [
    "import numpy as np\n",
    "\n",
    "#посмотрим какое количество каждой высоту в списке. В списке есть множество значений не соотвествующим реальной высоте потолков.Нужно их обработать.\n",
    "\n",
    "display(data['ceiling_height'].value_counts())\n",
    "\n",
    "display(data['ceiling_height'].describe()) #смотрим информацию по столбцу\n",
    "\n",
    "display(data.query('ceiling_height > 20 and ceiling_height < 35')) #выведем срез из таблицы для высот от 20 до 35 метров, чтобы посмотреть что это за квартиры. Всего 21 строка. Данные нужно исправить?Скорее всего нужно запятую переставить на одно деление вперед.\n",
    "index_list = data.query('ceiling_height > 20 and ceiling_height < 35').index #список индексов, содержащий срез значений от 20 до 35 м.Возможно была неверно расставлена запятая. Исправим\n",
    "\n",
    "data.loc[index_list,'ceiling_height'] = data.loc[index_list, 'ceiling_height']/10\n",
    "\n",
    "\n",
    "display(data['ceiling_height'].tail(20))#проверка получилось ли заменить \n",
    "\n",
    "\n",
    "\n",
    "data.info()\n",
    "\n",
    "\n"
   ]
  },
  {
   "cell_type": "code",
   "execution_count": 10,
   "metadata": {},
   "outputs": [
    {
     "data": {
      "text/html": [
       "<div>\n",
       "<style scoped>\n",
       "    .dataframe tbody tr th:only-of-type {\n",
       "        vertical-align: middle;\n",
       "    }\n",
       "\n",
       "    .dataframe tbody tr th {\n",
       "        vertical-align: top;\n",
       "    }\n",
       "\n",
       "    .dataframe thead th {\n",
       "        text-align: right;\n",
       "    }\n",
       "</style>\n",
       "<table border=\"1\" class=\"dataframe\">\n",
       "  <thead>\n",
       "    <tr style=\"text-align: right;\">\n",
       "      <th></th>\n",
       "      <th>total_images</th>\n",
       "      <th>last_price</th>\n",
       "      <th>total_area</th>\n",
       "      <th>first_day_exposition</th>\n",
       "      <th>rooms</th>\n",
       "      <th>ceiling_height</th>\n",
       "      <th>floors_total</th>\n",
       "      <th>living_area</th>\n",
       "      <th>floor</th>\n",
       "      <th>is_apartment</th>\n",
       "      <th>...</th>\n",
       "      <th>kitchen_area</th>\n",
       "      <th>balcony</th>\n",
       "      <th>locality_name</th>\n",
       "      <th>airports_nearest</th>\n",
       "      <th>cityCenters_nearest</th>\n",
       "      <th>parks_around3000</th>\n",
       "      <th>parks_nearest</th>\n",
       "      <th>ponds_around3000</th>\n",
       "      <th>ponds_nearest</th>\n",
       "      <th>days_exposition</th>\n",
       "    </tr>\n",
       "  </thead>\n",
       "  <tbody>\n",
       "    <tr>\n",
       "      <th>22869</th>\n",
       "      <td>0</td>\n",
       "      <td>15000000</td>\n",
       "      <td>25.0</td>\n",
       "      <td>2018-07-25</td>\n",
       "      <td>1</td>\n",
       "      <td>100.0</td>\n",
       "      <td>5</td>\n",
       "      <td>14.0</td>\n",
       "      <td>5</td>\n",
       "      <td>True</td>\n",
       "      <td>...</td>\n",
       "      <td>11.0</td>\n",
       "      <td>5</td>\n",
       "      <td>санкт-петербург</td>\n",
       "      <td>34963.0</td>\n",
       "      <td>8283.0</td>\n",
       "      <td>1</td>\n",
       "      <td>223.0</td>\n",
       "      <td>3</td>\n",
       "      <td>30.0</td>\n",
       "      <td>19.0</td>\n",
       "    </tr>\n",
       "  </tbody>\n",
       "</table>\n",
       "<p>1 rows × 22 columns</p>\n",
       "</div>"
      ],
      "text/plain": [
       "       total_images  last_price  total_area first_day_exposition  rooms  \\\n",
       "22869             0    15000000        25.0           2018-07-25      1   \n",
       "\n",
       "       ceiling_height  floors_total  living_area  floor  is_apartment  ...  \\\n",
       "22869           100.0             5         14.0      5          True  ...   \n",
       "\n",
       "       kitchen_area  balcony    locality_name  airports_nearest  \\\n",
       "22869          11.0        5  санкт-петербург           34963.0   \n",
       "\n",
       "      cityCenters_nearest  parks_around3000  parks_nearest  ponds_around3000  \\\n",
       "22869              8283.0                 1          223.0                 3   \n",
       "\n",
       "       ponds_nearest  days_exposition  \n",
       "22869           30.0             19.0  \n",
       "\n",
       "[1 rows x 22 columns]"
      ]
     },
     "metadata": {},
     "output_type": "display_data"
    },
    {
     "name": "stdout",
     "output_type": "stream",
     "text": [
      "<class 'pandas.core.frame.DataFrame'>\n",
      "Int64Index: 23564 entries, 0 to 23698\n",
      "Data columns (total 22 columns):\n",
      " #   Column                Non-Null Count  Dtype         \n",
      "---  ------                --------------  -----         \n",
      " 0   total_images          23564 non-null  int64         \n",
      " 1   last_price            23564 non-null  int64         \n",
      " 2   total_area            23564 non-null  float64       \n",
      " 3   first_day_exposition  23564 non-null  datetime64[ns]\n",
      " 4   rooms                 23564 non-null  int64         \n",
      " 5   ceiling_height        14480 non-null  float64       \n",
      " 6   floors_total          23564 non-null  int64         \n",
      " 7   living_area           21699 non-null  float64       \n",
      " 8   floor                 23564 non-null  int64         \n",
      " 9   is_apartment          23564 non-null  bool          \n",
      " 10  studio                23564 non-null  bool          \n",
      " 11  open_plan             23564 non-null  bool          \n",
      " 12  kitchen_area          23564 non-null  float64       \n",
      " 13  balcony               23564 non-null  int64         \n",
      " 14  locality_name         23564 non-null  object        \n",
      " 15  airports_nearest      18040 non-null  float64       \n",
      " 16  cityCenters_nearest   18063 non-null  float64       \n",
      " 17  parks_around3000      23564 non-null  int64         \n",
      " 18  parks_nearest         8029 non-null   float64       \n",
      " 19  ponds_around3000      23564 non-null  int64         \n",
      " 20  ponds_nearest         9035 non-null   float64       \n",
      " 21  days_exposition       20393 non-null  float64       \n",
      "dtypes: bool(3), datetime64[ns](1), float64(9), int64(8), object(1)\n",
      "memory usage: 3.7+ MB\n"
     ]
    }
   ],
   "source": [
    "#теперь посмотрим какие квартиры  имеют высоту потолков больше 35 . Всего 1 строка, удалим ее.\n",
    "\n",
    "display(data.query('ceiling_height > 35'))\n",
    "data = data.loc[data['ceiling_height'] != 100]\n",
    "\n",
    "data.info()\n"
   ]
  },
  {
   "cell_type": "code",
   "execution_count": 11,
   "metadata": {},
   "outputs": [
    {
     "data": {
      "text/html": [
       "<div>\n",
       "<style scoped>\n",
       "    .dataframe tbody tr th:only-of-type {\n",
       "        vertical-align: middle;\n",
       "    }\n",
       "\n",
       "    .dataframe tbody tr th {\n",
       "        vertical-align: top;\n",
       "    }\n",
       "\n",
       "    .dataframe thead th {\n",
       "        text-align: right;\n",
       "    }\n",
       "</style>\n",
       "<table border=\"1\" class=\"dataframe\">\n",
       "  <thead>\n",
       "    <tr style=\"text-align: right;\">\n",
       "      <th></th>\n",
       "      <th>total_images</th>\n",
       "      <th>last_price</th>\n",
       "      <th>total_area</th>\n",
       "      <th>first_day_exposition</th>\n",
       "      <th>rooms</th>\n",
       "      <th>ceiling_height</th>\n",
       "      <th>floors_total</th>\n",
       "      <th>living_area</th>\n",
       "      <th>floor</th>\n",
       "      <th>is_apartment</th>\n",
       "      <th>...</th>\n",
       "      <th>kitchen_area</th>\n",
       "      <th>balcony</th>\n",
       "      <th>locality_name</th>\n",
       "      <th>airports_nearest</th>\n",
       "      <th>cityCenters_nearest</th>\n",
       "      <th>parks_around3000</th>\n",
       "      <th>parks_nearest</th>\n",
       "      <th>ponds_around3000</th>\n",
       "      <th>ponds_nearest</th>\n",
       "      <th>days_exposition</th>\n",
       "    </tr>\n",
       "  </thead>\n",
       "  <tbody>\n",
       "    <tr>\n",
       "      <th>3474</th>\n",
       "      <td>3</td>\n",
       "      <td>1400000</td>\n",
       "      <td>30.0</td>\n",
       "      <td>2018-03-16</td>\n",
       "      <td>1</td>\n",
       "      <td>8.00</td>\n",
       "      <td>5</td>\n",
       "      <td>15.3</td>\n",
       "      <td>2</td>\n",
       "      <td>False</td>\n",
       "      <td>...</td>\n",
       "      <td>7.300000</td>\n",
       "      <td>0</td>\n",
       "      <td>деревня нурма</td>\n",
       "      <td>NaN</td>\n",
       "      <td>NaN</td>\n",
       "      <td>0</td>\n",
       "      <td>NaN</td>\n",
       "      <td>0</td>\n",
       "      <td>NaN</td>\n",
       "      <td>125.0</td>\n",
       "    </tr>\n",
       "    <tr>\n",
       "      <th>5712</th>\n",
       "      <td>5</td>\n",
       "      <td>1500000</td>\n",
       "      <td>42.8</td>\n",
       "      <td>2017-08-14</td>\n",
       "      <td>2</td>\n",
       "      <td>1.20</td>\n",
       "      <td>2</td>\n",
       "      <td>27.5</td>\n",
       "      <td>1</td>\n",
       "      <td>False</td>\n",
       "      <td>...</td>\n",
       "      <td>5.200000</td>\n",
       "      <td>0</td>\n",
       "      <td>городской посeлок мга</td>\n",
       "      <td>NaN</td>\n",
       "      <td>NaN</td>\n",
       "      <td>0</td>\n",
       "      <td>NaN</td>\n",
       "      <td>0</td>\n",
       "      <td>NaN</td>\n",
       "      <td>248.0</td>\n",
       "    </tr>\n",
       "    <tr>\n",
       "      <th>5863</th>\n",
       "      <td>20</td>\n",
       "      <td>5650000</td>\n",
       "      <td>45.0</td>\n",
       "      <td>2018-08-15</td>\n",
       "      <td>1</td>\n",
       "      <td>8.30</td>\n",
       "      <td>16</td>\n",
       "      <td>19.3</td>\n",
       "      <td>14</td>\n",
       "      <td>False</td>\n",
       "      <td>...</td>\n",
       "      <td>8.300000</td>\n",
       "      <td>1</td>\n",
       "      <td>санкт-петербург</td>\n",
       "      <td>13069.0</td>\n",
       "      <td>10763.0</td>\n",
       "      <td>0</td>\n",
       "      <td>NaN</td>\n",
       "      <td>1</td>\n",
       "      <td>613.0</td>\n",
       "      <td>14.0</td>\n",
       "    </tr>\n",
       "    <tr>\n",
       "      <th>15061</th>\n",
       "      <td>19</td>\n",
       "      <td>5600000</td>\n",
       "      <td>56.4</td>\n",
       "      <td>2018-05-11</td>\n",
       "      <td>2</td>\n",
       "      <td>14.00</td>\n",
       "      <td>14</td>\n",
       "      <td>32.4</td>\n",
       "      <td>5</td>\n",
       "      <td>False</td>\n",
       "      <td>...</td>\n",
       "      <td>9.100000</td>\n",
       "      <td>2</td>\n",
       "      <td>санкт-петербург</td>\n",
       "      <td>14814.0</td>\n",
       "      <td>13610.0</td>\n",
       "      <td>0</td>\n",
       "      <td>NaN</td>\n",
       "      <td>0</td>\n",
       "      <td>NaN</td>\n",
       "      <td>315.0</td>\n",
       "    </tr>\n",
       "    <tr>\n",
       "      <th>15743</th>\n",
       "      <td>14</td>\n",
       "      <td>5600000</td>\n",
       "      <td>67.0</td>\n",
       "      <td>2016-11-11</td>\n",
       "      <td>3</td>\n",
       "      <td>8.00</td>\n",
       "      <td>16</td>\n",
       "      <td>41.0</td>\n",
       "      <td>1</td>\n",
       "      <td>False</td>\n",
       "      <td>...</td>\n",
       "      <td>8.000000</td>\n",
       "      <td>0</td>\n",
       "      <td>санкт-петербург</td>\n",
       "      <td>32691.0</td>\n",
       "      <td>11035.0</td>\n",
       "      <td>1</td>\n",
       "      <td>723.0</td>\n",
       "      <td>0</td>\n",
       "      <td>NaN</td>\n",
       "      <td>474.0</td>\n",
       "    </tr>\n",
       "    <tr>\n",
       "      <th>16934</th>\n",
       "      <td>5</td>\n",
       "      <td>4100000</td>\n",
       "      <td>40.0</td>\n",
       "      <td>2017-10-17</td>\n",
       "      <td>1</td>\n",
       "      <td>1.75</td>\n",
       "      <td>37</td>\n",
       "      <td>17.4</td>\n",
       "      <td>5</td>\n",
       "      <td>False</td>\n",
       "      <td>...</td>\n",
       "      <td>8.340000</td>\n",
       "      <td>0</td>\n",
       "      <td>санкт-петербург</td>\n",
       "      <td>18732.0</td>\n",
       "      <td>20444.0</td>\n",
       "      <td>0</td>\n",
       "      <td>NaN</td>\n",
       "      <td>3</td>\n",
       "      <td>80.0</td>\n",
       "      <td>71.0</td>\n",
       "    </tr>\n",
       "    <tr>\n",
       "      <th>17442</th>\n",
       "      <td>0</td>\n",
       "      <td>5350000</td>\n",
       "      <td>54.0</td>\n",
       "      <td>2015-06-16</td>\n",
       "      <td>2</td>\n",
       "      <td>8.00</td>\n",
       "      <td>5</td>\n",
       "      <td>29.0</td>\n",
       "      <td>2</td>\n",
       "      <td>False</td>\n",
       "      <td>...</td>\n",
       "      <td>9.457868</td>\n",
       "      <td>1</td>\n",
       "      <td>красное село</td>\n",
       "      <td>24638.0</td>\n",
       "      <td>28062.0</td>\n",
       "      <td>0</td>\n",
       "      <td>NaN</td>\n",
       "      <td>0</td>\n",
       "      <td>NaN</td>\n",
       "      <td>469.0</td>\n",
       "    </tr>\n",
       "    <tr>\n",
       "      <th>22309</th>\n",
       "      <td>20</td>\n",
       "      <td>5300000</td>\n",
       "      <td>45.0</td>\n",
       "      <td>2017-09-30</td>\n",
       "      <td>1</td>\n",
       "      <td>10.30</td>\n",
       "      <td>16</td>\n",
       "      <td>15.5</td>\n",
       "      <td>15</td>\n",
       "      <td>False</td>\n",
       "      <td>...</td>\n",
       "      <td>7.881557</td>\n",
       "      <td>0</td>\n",
       "      <td>санкт-петербург</td>\n",
       "      <td>36353.0</td>\n",
       "      <td>11936.0</td>\n",
       "      <td>2</td>\n",
       "      <td>440.0</td>\n",
       "      <td>2</td>\n",
       "      <td>450.0</td>\n",
       "      <td>136.0</td>\n",
       "    </tr>\n",
       "    <tr>\n",
       "      <th>22590</th>\n",
       "      <td>16</td>\n",
       "      <td>6000000</td>\n",
       "      <td>55.0</td>\n",
       "      <td>2018-10-31</td>\n",
       "      <td>2</td>\n",
       "      <td>1.00</td>\n",
       "      <td>12</td>\n",
       "      <td>32.4</td>\n",
       "      <td>7</td>\n",
       "      <td>False</td>\n",
       "      <td>...</td>\n",
       "      <td>10.000000</td>\n",
       "      <td>0</td>\n",
       "      <td>санкт-петербург</td>\n",
       "      <td>33053.0</td>\n",
       "      <td>14217.0</td>\n",
       "      <td>2</td>\n",
       "      <td>293.0</td>\n",
       "      <td>2</td>\n",
       "      <td>289.0</td>\n",
       "      <td>13.0</td>\n",
       "    </tr>\n",
       "  </tbody>\n",
       "</table>\n",
       "<p>9 rows × 22 columns</p>\n",
       "</div>"
      ],
      "text/plain": [
       "       total_images  last_price  total_area first_day_exposition  rooms  \\\n",
       "3474              3     1400000        30.0           2018-03-16      1   \n",
       "5712              5     1500000        42.8           2017-08-14      2   \n",
       "5863             20     5650000        45.0           2018-08-15      1   \n",
       "15061            19     5600000        56.4           2018-05-11      2   \n",
       "15743            14     5600000        67.0           2016-11-11      3   \n",
       "16934             5     4100000        40.0           2017-10-17      1   \n",
       "17442             0     5350000        54.0           2015-06-16      2   \n",
       "22309            20     5300000        45.0           2017-09-30      1   \n",
       "22590            16     6000000        55.0           2018-10-31      2   \n",
       "\n",
       "       ceiling_height  floors_total  living_area  floor  is_apartment  ...  \\\n",
       "3474             8.00             5         15.3      2         False  ...   \n",
       "5712             1.20             2         27.5      1         False  ...   \n",
       "5863             8.30            16         19.3     14         False  ...   \n",
       "15061           14.00            14         32.4      5         False  ...   \n",
       "15743            8.00            16         41.0      1         False  ...   \n",
       "16934            1.75            37         17.4      5         False  ...   \n",
       "17442            8.00             5         29.0      2         False  ...   \n",
       "22309           10.30            16         15.5     15         False  ...   \n",
       "22590            1.00            12         32.4      7         False  ...   \n",
       "\n",
       "       kitchen_area  balcony          locality_name  airports_nearest  \\\n",
       "3474       7.300000        0          деревня нурма               NaN   \n",
       "5712       5.200000        0  городской посeлок мга               NaN   \n",
       "5863       8.300000        1        санкт-петербург           13069.0   \n",
       "15061      9.100000        2        санкт-петербург           14814.0   \n",
       "15743      8.000000        0        санкт-петербург           32691.0   \n",
       "16934      8.340000        0        санкт-петербург           18732.0   \n",
       "17442      9.457868        1           красное село           24638.0   \n",
       "22309      7.881557        0        санкт-петербург           36353.0   \n",
       "22590     10.000000        0        санкт-петербург           33053.0   \n",
       "\n",
       "      cityCenters_nearest  parks_around3000  parks_nearest  ponds_around3000  \\\n",
       "3474                  NaN                 0            NaN                 0   \n",
       "5712                  NaN                 0            NaN                 0   \n",
       "5863              10763.0                 0            NaN                 1   \n",
       "15061             13610.0                 0            NaN                 0   \n",
       "15743             11035.0                 1          723.0                 0   \n",
       "16934             20444.0                 0            NaN                 3   \n",
       "17442             28062.0                 0            NaN                 0   \n",
       "22309             11936.0                 2          440.0                 2   \n",
       "22590             14217.0                 2          293.0                 2   \n",
       "\n",
       "       ponds_nearest  days_exposition  \n",
       "3474             NaN            125.0  \n",
       "5712             NaN            248.0  \n",
       "5863           613.0             14.0  \n",
       "15061            NaN            315.0  \n",
       "15743            NaN            474.0  \n",
       "16934           80.0             71.0  \n",
       "17442            NaN            469.0  \n",
       "22309          450.0            136.0  \n",
       "22590          289.0             13.0  \n",
       "\n",
       "[9 rows x 22 columns]"
      ]
     },
     "metadata": {},
     "output_type": "display_data"
    }
   ],
   "source": [
    "display(data.query('ceiling_height >35 or ceiling_height <2 or 7 <ceiling_height <20')) # осталось 9 строк.Количество небольшое на дальнейшее исследование повлиять не должны повлиять на выборку.\n"
   ]
  },
  {
   "cell_type": "code",
   "execution_count": 12,
   "metadata": {},
   "outputs": [
    {
     "data": {
      "text/html": [
       "<div>\n",
       "<style scoped>\n",
       "    .dataframe tbody tr th:only-of-type {\n",
       "        vertical-align: middle;\n",
       "    }\n",
       "\n",
       "    .dataframe tbody tr th {\n",
       "        vertical-align: top;\n",
       "    }\n",
       "\n",
       "    .dataframe thead th {\n",
       "        text-align: right;\n",
       "    }\n",
       "</style>\n",
       "<table border=\"1\" class=\"dataframe\">\n",
       "  <thead>\n",
       "    <tr style=\"text-align: right;\">\n",
       "      <th></th>\n",
       "      <th>total_images</th>\n",
       "      <th>last_price</th>\n",
       "      <th>total_area</th>\n",
       "      <th>first_day_exposition</th>\n",
       "      <th>rooms</th>\n",
       "      <th>ceiling_height</th>\n",
       "      <th>floors_total</th>\n",
       "      <th>living_area</th>\n",
       "      <th>floor</th>\n",
       "      <th>is_apartment</th>\n",
       "      <th>...</th>\n",
       "      <th>kitchen_area</th>\n",
       "      <th>balcony</th>\n",
       "      <th>locality_name</th>\n",
       "      <th>airports_nearest</th>\n",
       "      <th>cityCenters_nearest</th>\n",
       "      <th>parks_around3000</th>\n",
       "      <th>parks_nearest</th>\n",
       "      <th>ponds_around3000</th>\n",
       "      <th>ponds_nearest</th>\n",
       "      <th>days_exposition</th>\n",
       "    </tr>\n",
       "  </thead>\n",
       "  <tbody>\n",
       "    <tr>\n",
       "      <th>5712</th>\n",
       "      <td>5</td>\n",
       "      <td>1500000</td>\n",
       "      <td>42.8</td>\n",
       "      <td>2017-08-14</td>\n",
       "      <td>2</td>\n",
       "      <td>1.20</td>\n",
       "      <td>2</td>\n",
       "      <td>27.5</td>\n",
       "      <td>1</td>\n",
       "      <td>False</td>\n",
       "      <td>...</td>\n",
       "      <td>5.20</td>\n",
       "      <td>0</td>\n",
       "      <td>городской посeлок мга</td>\n",
       "      <td>NaN</td>\n",
       "      <td>NaN</td>\n",
       "      <td>0</td>\n",
       "      <td>NaN</td>\n",
       "      <td>0</td>\n",
       "      <td>NaN</td>\n",
       "      <td>248.0</td>\n",
       "    </tr>\n",
       "    <tr>\n",
       "      <th>16934</th>\n",
       "      <td>5</td>\n",
       "      <td>4100000</td>\n",
       "      <td>40.0</td>\n",
       "      <td>2017-10-17</td>\n",
       "      <td>1</td>\n",
       "      <td>1.75</td>\n",
       "      <td>37</td>\n",
       "      <td>17.4</td>\n",
       "      <td>5</td>\n",
       "      <td>False</td>\n",
       "      <td>...</td>\n",
       "      <td>8.34</td>\n",
       "      <td>0</td>\n",
       "      <td>санкт-петербург</td>\n",
       "      <td>18732.0</td>\n",
       "      <td>20444.0</td>\n",
       "      <td>0</td>\n",
       "      <td>NaN</td>\n",
       "      <td>3</td>\n",
       "      <td>80.0</td>\n",
       "      <td>71.0</td>\n",
       "    </tr>\n",
       "    <tr>\n",
       "      <th>22590</th>\n",
       "      <td>16</td>\n",
       "      <td>6000000</td>\n",
       "      <td>55.0</td>\n",
       "      <td>2018-10-31</td>\n",
       "      <td>2</td>\n",
       "      <td>1.00</td>\n",
       "      <td>12</td>\n",
       "      <td>32.4</td>\n",
       "      <td>7</td>\n",
       "      <td>False</td>\n",
       "      <td>...</td>\n",
       "      <td>10.00</td>\n",
       "      <td>0</td>\n",
       "      <td>санкт-петербург</td>\n",
       "      <td>33053.0</td>\n",
       "      <td>14217.0</td>\n",
       "      <td>2</td>\n",
       "      <td>293.0</td>\n",
       "      <td>2</td>\n",
       "      <td>289.0</td>\n",
       "      <td>13.0</td>\n",
       "    </tr>\n",
       "  </tbody>\n",
       "</table>\n",
       "<p>3 rows × 22 columns</p>\n",
       "</div>"
      ],
      "text/plain": [
       "       total_images  last_price  total_area first_day_exposition  rooms  \\\n",
       "5712              5     1500000        42.8           2017-08-14      2   \n",
       "16934             5     4100000        40.0           2017-10-17      1   \n",
       "22590            16     6000000        55.0           2018-10-31      2   \n",
       "\n",
       "       ceiling_height  floors_total  living_area  floor  is_apartment  ...  \\\n",
       "5712             1.20             2         27.5      1         False  ...   \n",
       "16934            1.75            37         17.4      5         False  ...   \n",
       "22590            1.00            12         32.4      7         False  ...   \n",
       "\n",
       "       kitchen_area  balcony          locality_name  airports_nearest  \\\n",
       "5712           5.20        0  городской посeлок мга               NaN   \n",
       "16934          8.34        0        санкт-петербург           18732.0   \n",
       "22590         10.00        0        санкт-петербург           33053.0   \n",
       "\n",
       "      cityCenters_nearest  parks_around3000  parks_nearest  ponds_around3000  \\\n",
       "5712                  NaN                 0            NaN                 0   \n",
       "16934             20444.0                 0            NaN                 3   \n",
       "22590             14217.0                 2          293.0                 2   \n",
       "\n",
       "       ponds_nearest  days_exposition  \n",
       "5712             NaN            248.0  \n",
       "16934           80.0             71.0  \n",
       "22590          289.0             13.0  \n",
       "\n",
       "[3 rows x 22 columns]"
      ]
     },
     "metadata": {},
     "output_type": "display_data"
    },
    {
     "name": "stdout",
     "output_type": "stream",
     "text": [
      "<class 'pandas.core.frame.DataFrame'>\n",
      "Int64Index: 23561 entries, 0 to 23698\n",
      "Data columns (total 22 columns):\n",
      " #   Column                Non-Null Count  Dtype         \n",
      "---  ------                --------------  -----         \n",
      " 0   total_images          23561 non-null  int64         \n",
      " 1   last_price            23561 non-null  int64         \n",
      " 2   total_area            23561 non-null  float64       \n",
      " 3   first_day_exposition  23561 non-null  datetime64[ns]\n",
      " 4   rooms                 23561 non-null  int64         \n",
      " 5   ceiling_height        14477 non-null  float64       \n",
      " 6   floors_total          23561 non-null  int64         \n",
      " 7   living_area           21696 non-null  float64       \n",
      " 8   floor                 23561 non-null  int64         \n",
      " 9   is_apartment          23561 non-null  bool          \n",
      " 10  studio                23561 non-null  bool          \n",
      " 11  open_plan             23561 non-null  bool          \n",
      " 12  kitchen_area          23561 non-null  float64       \n",
      " 13  balcony               23561 non-null  int64         \n",
      " 14  locality_name         23561 non-null  object        \n",
      " 15  airports_nearest      18038 non-null  float64       \n",
      " 16  cityCenters_nearest   18061 non-null  float64       \n",
      " 17  parks_around3000      23561 non-null  int64         \n",
      " 18  parks_nearest         8028 non-null   float64       \n",
      " 19  ponds_around3000      23561 non-null  int64         \n",
      " 20  ponds_nearest         9033 non-null   float64       \n",
      " 21  days_exposition       20390 non-null  float64       \n",
      "dtypes: bool(3), datetime64[ns](1), float64(9), int64(8), object(1)\n",
      "memory usage: 3.7+ MB\n"
     ]
    },
    {
     "data": {
      "text/plain": [
       "9084"
      ]
     },
     "metadata": {},
     "output_type": "display_data"
    }
   ],
   "source": [
    "\n",
    "display(data.query('ceiling_height <2'))\n",
    "#удалим три строки, в которых значение потолков менее 2-х, слишком неправдоподобные значения\n",
    "data = data.loc[data['ceiling_height'] != 1.20]\n",
    "data = data.loc[data['ceiling_height'] != 1.75]\n",
    "data = data.loc[data['ceiling_height'] != 1.00]\n",
    "\n",
    "data.info()\n",
    "display(data['ceiling_height'].isna().sum()) #осталось 9084 пропуска, их нужно заполнить \n",
    "\n"
   ]
  },
  {
   "cell_type": "code",
   "execution_count": 13,
   "metadata": {},
   "outputs": [
    {
     "data": {
      "text/plain": [
       "0"
      ]
     },
     "metadata": {},
     "output_type": "display_data"
    },
    {
     "name": "stdout",
     "output_type": "stream",
     "text": [
      "<class 'pandas.core.frame.DataFrame'>\n",
      "Int64Index: 23561 entries, 0 to 23698\n",
      "Data columns (total 22 columns):\n",
      " #   Column                Non-Null Count  Dtype         \n",
      "---  ------                --------------  -----         \n",
      " 0   total_images          23561 non-null  int64         \n",
      " 1   last_price            23561 non-null  int64         \n",
      " 2   total_area            23561 non-null  float64       \n",
      " 3   first_day_exposition  23561 non-null  datetime64[ns]\n",
      " 4   rooms                 23561 non-null  int64         \n",
      " 5   ceiling_height        23561 non-null  float64       \n",
      " 6   floors_total          23561 non-null  int64         \n",
      " 7   living_area           21696 non-null  float64       \n",
      " 8   floor                 23561 non-null  int64         \n",
      " 9   is_apartment          23561 non-null  bool          \n",
      " 10  studio                23561 non-null  bool          \n",
      " 11  open_plan             23561 non-null  bool          \n",
      " 12  kitchen_area          23561 non-null  float64       \n",
      " 13  balcony               23561 non-null  int64         \n",
      " 14  locality_name         23561 non-null  object        \n",
      " 15  airports_nearest      18038 non-null  float64       \n",
      " 16  cityCenters_nearest   18061 non-null  float64       \n",
      " 17  parks_around3000      23561 non-null  int64         \n",
      " 18  parks_nearest         8028 non-null   float64       \n",
      " 19  ponds_around3000      23561 non-null  int64         \n",
      " 20  ponds_nearest         9033 non-null   float64       \n",
      " 21  days_exposition       20390 non-null  float64       \n",
      "dtypes: bool(3), datetime64[ns](1), float64(9), int64(8), object(1)\n",
      "memory usage: 3.7+ MB\n"
     ]
    }
   ],
   "source": [
    "\n",
    "data['ceiling_height'] = data['ceiling_height'].fillna(data['ceiling_height'].median())\n",
    "display(data['ceiling_height'].isna().sum()) #заполним медианным значением столбец ceiling_category\n",
    "\n",
    "data.info()# проверям все ли впорядке с количеством строк"
   ]
  },
  {
   "cell_type": "markdown",
   "metadata": {},
   "source": []
  },
  {
   "cell_type": "markdown",
   "metadata": {},
   "source": []
  },
  {
   "cell_type": "code",
   "execution_count": 14,
   "metadata": {},
   "outputs": [
    {
     "name": "stdout",
     "output_type": "stream",
     "text": [
      "<class 'pandas.core.frame.DataFrame'>\n",
      "Int64Index: 23561 entries, 0 to 23698\n",
      "Data columns (total 22 columns):\n",
      " #   Column                Non-Null Count  Dtype         \n",
      "---  ------                --------------  -----         \n",
      " 0   total_images          23561 non-null  int64         \n",
      " 1   last_price            23561 non-null  int64         \n",
      " 2   total_area            23561 non-null  float64       \n",
      " 3   first_day_exposition  23561 non-null  datetime64[ns]\n",
      " 4   rooms                 23561 non-null  int64         \n",
      " 5   ceiling_height        23561 non-null  float64       \n",
      " 6   floors_total          23561 non-null  int64         \n",
      " 7   living_area           21696 non-null  float64       \n",
      " 8   floor                 23561 non-null  int64         \n",
      " 9   is_apartment          23561 non-null  bool          \n",
      " 10  studio                23561 non-null  bool          \n",
      " 11  open_plan             23561 non-null  bool          \n",
      " 12  kitchen_area          23561 non-null  float64       \n",
      " 13  balcony               23561 non-null  int64         \n",
      " 14  locality_name         23561 non-null  object        \n",
      " 15  airports_nearest      18038 non-null  float64       \n",
      " 16  cityCenters_nearest   18061 non-null  float64       \n",
      " 17  parks_around3000      23561 non-null  int64         \n",
      " 18  parks_nearest         8028 non-null   float64       \n",
      " 19  ponds_around3000      23561 non-null  int64         \n",
      " 20  ponds_nearest         9033 non-null   float64       \n",
      " 21  days_exposition       20390 non-null  float64       \n",
      "dtypes: bool(3), datetime64[ns](1), float64(9), int64(8), object(1)\n",
      "memory usage: 3.7+ MB\n"
     ]
    }
   ],
   "source": [
    "data.info()"
   ]
  },
  {
   "cell_type": "markdown",
   "metadata": {},
   "source": [
    "### Посчитайте и добавьте в таблицу новые столбцы"
   ]
  },
  {
   "cell_type": "code",
   "execution_count": 15,
   "metadata": {
    "scrolled": true
   },
   "outputs": [
    {
     "data": {
      "text/html": [
       "<div>\n",
       "<style scoped>\n",
       "    .dataframe tbody tr th:only-of-type {\n",
       "        vertical-align: middle;\n",
       "    }\n",
       "\n",
       "    .dataframe tbody tr th {\n",
       "        vertical-align: top;\n",
       "    }\n",
       "\n",
       "    .dataframe thead th {\n",
       "        text-align: right;\n",
       "    }\n",
       "</style>\n",
       "<table border=\"1\" class=\"dataframe\">\n",
       "  <thead>\n",
       "    <tr style=\"text-align: right;\">\n",
       "      <th></th>\n",
       "      <th>total_images</th>\n",
       "      <th>last_price</th>\n",
       "      <th>total_area</th>\n",
       "      <th>first_day_exposition</th>\n",
       "      <th>rooms</th>\n",
       "      <th>ceiling_height</th>\n",
       "      <th>floors_total</th>\n",
       "      <th>living_area</th>\n",
       "      <th>floor</th>\n",
       "      <th>is_apartment</th>\n",
       "      <th>...</th>\n",
       "      <th>parks_nearest</th>\n",
       "      <th>ponds_around3000</th>\n",
       "      <th>ponds_nearest</th>\n",
       "      <th>days_exposition</th>\n",
       "      <th>price_per_metr</th>\n",
       "      <th>day_exposition</th>\n",
       "      <th>month_exposition</th>\n",
       "      <th>year_exposition</th>\n",
       "      <th>floor_category</th>\n",
       "      <th>distance_to_center</th>\n",
       "    </tr>\n",
       "  </thead>\n",
       "  <tbody>\n",
       "    <tr>\n",
       "      <th>0</th>\n",
       "      <td>20</td>\n",
       "      <td>13000000</td>\n",
       "      <td>108.00</td>\n",
       "      <td>2019-03-07</td>\n",
       "      <td>3</td>\n",
       "      <td>2.70</td>\n",
       "      <td>16</td>\n",
       "      <td>51.0</td>\n",
       "      <td>8</td>\n",
       "      <td>False</td>\n",
       "      <td>...</td>\n",
       "      <td>482.0</td>\n",
       "      <td>2</td>\n",
       "      <td>755.0</td>\n",
       "      <td>NaN</td>\n",
       "      <td>120370.370370</td>\n",
       "      <td>3</td>\n",
       "      <td>3</td>\n",
       "      <td>2019</td>\n",
       "      <td>другой</td>\n",
       "      <td>16.0</td>\n",
       "    </tr>\n",
       "    <tr>\n",
       "      <th>1</th>\n",
       "      <td>7</td>\n",
       "      <td>3350000</td>\n",
       "      <td>40.40</td>\n",
       "      <td>2018-12-04</td>\n",
       "      <td>1</td>\n",
       "      <td>2.65</td>\n",
       "      <td>11</td>\n",
       "      <td>18.6</td>\n",
       "      <td>1</td>\n",
       "      <td>False</td>\n",
       "      <td>...</td>\n",
       "      <td>NaN</td>\n",
       "      <td>0</td>\n",
       "      <td>NaN</td>\n",
       "      <td>81.0</td>\n",
       "      <td>82920.792079</td>\n",
       "      <td>1</td>\n",
       "      <td>12</td>\n",
       "      <td>2018</td>\n",
       "      <td>первый</td>\n",
       "      <td>19.0</td>\n",
       "    </tr>\n",
       "    <tr>\n",
       "      <th>2</th>\n",
       "      <td>10</td>\n",
       "      <td>5196000</td>\n",
       "      <td>56.00</td>\n",
       "      <td>2015-08-20</td>\n",
       "      <td>2</td>\n",
       "      <td>2.65</td>\n",
       "      <td>5</td>\n",
       "      <td>34.3</td>\n",
       "      <td>4</td>\n",
       "      <td>False</td>\n",
       "      <td>...</td>\n",
       "      <td>90.0</td>\n",
       "      <td>2</td>\n",
       "      <td>574.0</td>\n",
       "      <td>558.0</td>\n",
       "      <td>92785.714286</td>\n",
       "      <td>3</td>\n",
       "      <td>8</td>\n",
       "      <td>2015</td>\n",
       "      <td>другой</td>\n",
       "      <td>14.0</td>\n",
       "    </tr>\n",
       "    <tr>\n",
       "      <th>3</th>\n",
       "      <td>0</td>\n",
       "      <td>64900000</td>\n",
       "      <td>159.00</td>\n",
       "      <td>2015-07-24</td>\n",
       "      <td>3</td>\n",
       "      <td>2.65</td>\n",
       "      <td>14</td>\n",
       "      <td>NaN</td>\n",
       "      <td>9</td>\n",
       "      <td>False</td>\n",
       "      <td>...</td>\n",
       "      <td>84.0</td>\n",
       "      <td>3</td>\n",
       "      <td>234.0</td>\n",
       "      <td>424.0</td>\n",
       "      <td>408176.100629</td>\n",
       "      <td>4</td>\n",
       "      <td>7</td>\n",
       "      <td>2015</td>\n",
       "      <td>другой</td>\n",
       "      <td>7.0</td>\n",
       "    </tr>\n",
       "    <tr>\n",
       "      <th>4</th>\n",
       "      <td>2</td>\n",
       "      <td>10000000</td>\n",
       "      <td>100.00</td>\n",
       "      <td>2018-06-19</td>\n",
       "      <td>2</td>\n",
       "      <td>3.03</td>\n",
       "      <td>14</td>\n",
       "      <td>32.0</td>\n",
       "      <td>13</td>\n",
       "      <td>False</td>\n",
       "      <td>...</td>\n",
       "      <td>112.0</td>\n",
       "      <td>1</td>\n",
       "      <td>48.0</td>\n",
       "      <td>121.0</td>\n",
       "      <td>100000.000000</td>\n",
       "      <td>1</td>\n",
       "      <td>6</td>\n",
       "      <td>2018</td>\n",
       "      <td>другой</td>\n",
       "      <td>8.0</td>\n",
       "    </tr>\n",
       "    <tr>\n",
       "      <th>...</th>\n",
       "      <td>...</td>\n",
       "      <td>...</td>\n",
       "      <td>...</td>\n",
       "      <td>...</td>\n",
       "      <td>...</td>\n",
       "      <td>...</td>\n",
       "      <td>...</td>\n",
       "      <td>...</td>\n",
       "      <td>...</td>\n",
       "      <td>...</td>\n",
       "      <td>...</td>\n",
       "      <td>...</td>\n",
       "      <td>...</td>\n",
       "      <td>...</td>\n",
       "      <td>...</td>\n",
       "      <td>...</td>\n",
       "      <td>...</td>\n",
       "      <td>...</td>\n",
       "      <td>...</td>\n",
       "      <td>...</td>\n",
       "      <td>...</td>\n",
       "    </tr>\n",
       "    <tr>\n",
       "      <th>23694</th>\n",
       "      <td>9</td>\n",
       "      <td>9700000</td>\n",
       "      <td>133.81</td>\n",
       "      <td>2017-03-21</td>\n",
       "      <td>3</td>\n",
       "      <td>3.70</td>\n",
       "      <td>5</td>\n",
       "      <td>73.3</td>\n",
       "      <td>3</td>\n",
       "      <td>False</td>\n",
       "      <td>...</td>\n",
       "      <td>796.0</td>\n",
       "      <td>3</td>\n",
       "      <td>381.0</td>\n",
       "      <td>NaN</td>\n",
       "      <td>72490.845228</td>\n",
       "      <td>1</td>\n",
       "      <td>3</td>\n",
       "      <td>2017</td>\n",
       "      <td>другой</td>\n",
       "      <td>4.0</td>\n",
       "    </tr>\n",
       "    <tr>\n",
       "      <th>23695</th>\n",
       "      <td>14</td>\n",
       "      <td>3100000</td>\n",
       "      <td>59.00</td>\n",
       "      <td>2018-01-15</td>\n",
       "      <td>3</td>\n",
       "      <td>2.65</td>\n",
       "      <td>5</td>\n",
       "      <td>38.0</td>\n",
       "      <td>4</td>\n",
       "      <td>False</td>\n",
       "      <td>...</td>\n",
       "      <td>NaN</td>\n",
       "      <td>0</td>\n",
       "      <td>NaN</td>\n",
       "      <td>45.0</td>\n",
       "      <td>52542.372881</td>\n",
       "      <td>0</td>\n",
       "      <td>1</td>\n",
       "      <td>2018</td>\n",
       "      <td>другой</td>\n",
       "      <td>NaN</td>\n",
       "    </tr>\n",
       "    <tr>\n",
       "      <th>23696</th>\n",
       "      <td>18</td>\n",
       "      <td>2500000</td>\n",
       "      <td>56.70</td>\n",
       "      <td>2018-02-11</td>\n",
       "      <td>2</td>\n",
       "      <td>2.65</td>\n",
       "      <td>3</td>\n",
       "      <td>29.7</td>\n",
       "      <td>1</td>\n",
       "      <td>False</td>\n",
       "      <td>...</td>\n",
       "      <td>NaN</td>\n",
       "      <td>0</td>\n",
       "      <td>NaN</td>\n",
       "      <td>NaN</td>\n",
       "      <td>44091.710758</td>\n",
       "      <td>6</td>\n",
       "      <td>2</td>\n",
       "      <td>2018</td>\n",
       "      <td>первый</td>\n",
       "      <td>NaN</td>\n",
       "    </tr>\n",
       "    <tr>\n",
       "      <th>23697</th>\n",
       "      <td>13</td>\n",
       "      <td>11475000</td>\n",
       "      <td>76.75</td>\n",
       "      <td>2017-03-28</td>\n",
       "      <td>2</td>\n",
       "      <td>3.00</td>\n",
       "      <td>17</td>\n",
       "      <td>NaN</td>\n",
       "      <td>12</td>\n",
       "      <td>False</td>\n",
       "      <td>...</td>\n",
       "      <td>173.0</td>\n",
       "      <td>3</td>\n",
       "      <td>196.0</td>\n",
       "      <td>602.0</td>\n",
       "      <td>149511.400651</td>\n",
       "      <td>1</td>\n",
       "      <td>3</td>\n",
       "      <td>2017</td>\n",
       "      <td>другой</td>\n",
       "      <td>10.0</td>\n",
       "    </tr>\n",
       "    <tr>\n",
       "      <th>23698</th>\n",
       "      <td>4</td>\n",
       "      <td>1350000</td>\n",
       "      <td>32.30</td>\n",
       "      <td>2017-07-21</td>\n",
       "      <td>1</td>\n",
       "      <td>2.50</td>\n",
       "      <td>5</td>\n",
       "      <td>12.3</td>\n",
       "      <td>1</td>\n",
       "      <td>False</td>\n",
       "      <td>...</td>\n",
       "      <td>NaN</td>\n",
       "      <td>0</td>\n",
       "      <td>NaN</td>\n",
       "      <td>NaN</td>\n",
       "      <td>41795.665635</td>\n",
       "      <td>4</td>\n",
       "      <td>7</td>\n",
       "      <td>2017</td>\n",
       "      <td>первый</td>\n",
       "      <td>NaN</td>\n",
       "    </tr>\n",
       "  </tbody>\n",
       "</table>\n",
       "<p>23561 rows × 28 columns</p>\n",
       "</div>"
      ],
      "text/plain": [
       "       total_images  last_price  total_area first_day_exposition  rooms  \\\n",
       "0                20    13000000      108.00           2019-03-07      3   \n",
       "1                 7     3350000       40.40           2018-12-04      1   \n",
       "2                10     5196000       56.00           2015-08-20      2   \n",
       "3                 0    64900000      159.00           2015-07-24      3   \n",
       "4                 2    10000000      100.00           2018-06-19      2   \n",
       "...             ...         ...         ...                  ...    ...   \n",
       "23694             9     9700000      133.81           2017-03-21      3   \n",
       "23695            14     3100000       59.00           2018-01-15      3   \n",
       "23696            18     2500000       56.70           2018-02-11      2   \n",
       "23697            13    11475000       76.75           2017-03-28      2   \n",
       "23698             4     1350000       32.30           2017-07-21      1   \n",
       "\n",
       "       ceiling_height  floors_total  living_area  floor  is_apartment  ...  \\\n",
       "0                2.70            16         51.0      8         False  ...   \n",
       "1                2.65            11         18.6      1         False  ...   \n",
       "2                2.65             5         34.3      4         False  ...   \n",
       "3                2.65            14          NaN      9         False  ...   \n",
       "4                3.03            14         32.0     13         False  ...   \n",
       "...               ...           ...          ...    ...           ...  ...   \n",
       "23694            3.70             5         73.3      3         False  ...   \n",
       "23695            2.65             5         38.0      4         False  ...   \n",
       "23696            2.65             3         29.7      1         False  ...   \n",
       "23697            3.00            17          NaN     12         False  ...   \n",
       "23698            2.50             5         12.3      1         False  ...   \n",
       "\n",
       "       parks_nearest  ponds_around3000  ponds_nearest  days_exposition  \\\n",
       "0              482.0                 2          755.0              NaN   \n",
       "1                NaN                 0            NaN             81.0   \n",
       "2               90.0                 2          574.0            558.0   \n",
       "3               84.0                 3          234.0            424.0   \n",
       "4              112.0                 1           48.0            121.0   \n",
       "...              ...               ...            ...              ...   \n",
       "23694          796.0                 3          381.0              NaN   \n",
       "23695            NaN                 0            NaN             45.0   \n",
       "23696            NaN                 0            NaN              NaN   \n",
       "23697          173.0                 3          196.0            602.0   \n",
       "23698            NaN                 0            NaN              NaN   \n",
       "\n",
       "      price_per_metr  day_exposition  month_exposition  year_exposition  \\\n",
       "0      120370.370370               3                 3             2019   \n",
       "1       82920.792079               1                12             2018   \n",
       "2       92785.714286               3                 8             2015   \n",
       "3      408176.100629               4                 7             2015   \n",
       "4      100000.000000               1                 6             2018   \n",
       "...              ...             ...               ...              ...   \n",
       "23694   72490.845228               1                 3             2017   \n",
       "23695   52542.372881               0                 1             2018   \n",
       "23696   44091.710758               6                 2             2018   \n",
       "23697  149511.400651               1                 3             2017   \n",
       "23698   41795.665635               4                 7             2017   \n",
       "\n",
       "       floor_category  distance_to_center  \n",
       "0              другой                16.0  \n",
       "1              первый                19.0  \n",
       "2              другой                14.0  \n",
       "3              другой                 7.0  \n",
       "4              другой                 8.0  \n",
       "...               ...                 ...  \n",
       "23694          другой                 4.0  \n",
       "23695          другой                 NaN  \n",
       "23696          первый                 NaN  \n",
       "23697          другой                10.0  \n",
       "23698          первый                 NaN  \n",
       "\n",
       "[23561 rows x 28 columns]"
      ]
     },
     "metadata": {},
     "output_type": "display_data"
    }
   ],
   "source": [
    "#добавим новые столбцы в фрейм\n",
    "\n",
    "data['price_per_metr'] = data['last_price']/data['total_area'] \n",
    "data['day_exposition'] = data['first_day_exposition'].dt.weekday\n",
    "data['month_exposition'] = data['first_day_exposition'].dt.month\n",
    "data['year_exposition'] = data['first_day_exposition'].dt.year\n",
    "\n",
    "#используем функцию для категоризации этажей, категории отнесем в новым столбец floor_catrgory\n",
    "\n",
    "def category_row(row):\n",
    "    floor = row['floor']\n",
    "    floors_total = row['floors_total']\n",
    "    \n",
    "    if floor ==1:\n",
    "        return 'первый'\n",
    "    if 1 < floor < floors_total:\n",
    "        return 'другой'\n",
    "    if floor == floors_total:\n",
    "        return 'последний'\n",
    "\n",
    "data['floor_category'] = data.apply(category_row,axis =1)\n",
    "#переводим метры в километры\n",
    "data['distance_to_center'] = data['cityCenters_nearest']/ 1000\n",
    "data['distance_to_center'] = data['distance_to_center'].round() #округление до целых \n",
    "\n",
    "\n",
    "display(data) # проверим изменения"
   ]
  },
  {
   "cell_type": "markdown",
   "metadata": {},
   "source": [
    "### Проведите исследовательский анализ данных"
   ]
  },
  {
   "cell_type": "code",
   "execution_count": 16,
   "metadata": {},
   "outputs": [
    {
     "data": {
      "text/plain": [
       "count    23561.000000\n",
       "mean        60.326156\n",
       "std         35.658898\n",
       "min         12.000000\n",
       "25%         40.000000\n",
       "50%         52.000000\n",
       "75%         69.700000\n",
       "max        900.000000\n",
       "Name: total_area, dtype: float64"
      ]
     },
     "execution_count": 16,
     "metadata": {},
     "output_type": "execute_result"
    },
    {
     "data": {
      "image/png": "[encoded data removed]",
      "text/plain": [
       "<Figure size 720x504 with 1 Axes>"
      ]
     },
     "metadata": {
      "needs_background": "light"
     },
     "output_type": "display_data"
    }
   ],
   "source": [
    "data.plot(y = 'total_area', kind ='hist', bins = 100, grid = True, range = (0,500), figsize=(10,7))# гисторграмма параметра total_area\n",
    "data['total_area'].describe()"
   ]
  },
  {
   "cell_type": "markdown",
   "metadata": {},
   "source": [
    "вывод: гистограмма по данному столбцу имеет нормальное распределение. Наибольший спрос имеют квартиры до 80 кв. метров,при этом,в среднем площадь квартир составляет около 60 кв. метров. Чаще всего встречаются квартиры чуть больше 30 метров и 45 метров. Похоже это 1 и 2 комнатные квартиры. Квартиры площадью больше 150 кв. метров являются большой редкостью"
   ]
  },
  {
   "cell_type": "code",
   "execution_count": 18,
   "metadata": {},
   "outputs": [
    {
     "data": {
      "text/plain": [
       "0"
      ]
     },
     "metadata": {},
     "output_type": "display_data"
    },
    {
     "data": {
      "text/plain": [
       "count    23561.000000\n",
       "mean        34.337462\n",
       "std         21.712360\n",
       "min         10.000000\n",
       "25%         18.400000\n",
       "50%         30.300000\n",
       "75%         42.700000\n",
       "max        409.700000\n",
       "Name: living_area, dtype: float64"
      ]
     },
     "metadata": {},
     "output_type": "display_data"
    },
    {
     "data": {
      "text/html": [
       "<div>\n",
       "<style scoped>\n",
       "    .dataframe tbody tr th:only-of-type {\n",
       "        vertical-align: middle;\n",
       "    }\n",
       "\n",
       "    .dataframe tbody tr th {\n",
       "        vertical-align: top;\n",
       "    }\n",
       "\n",
       "    .dataframe thead th {\n",
       "        text-align: right;\n",
       "    }\n",
       "</style>\n",
       "<table border=\"1\" class=\"dataframe\">\n",
       "  <thead>\n",
       "    <tr style=\"text-align: right;\">\n",
       "      <th></th>\n",
       "      <th>total_images</th>\n",
       "      <th>last_price</th>\n",
       "      <th>total_area</th>\n",
       "      <th>first_day_exposition</th>\n",
       "      <th>rooms</th>\n",
       "      <th>ceiling_height</th>\n",
       "      <th>floors_total</th>\n",
       "      <th>living_area</th>\n",
       "      <th>floor</th>\n",
       "      <th>is_apartment</th>\n",
       "      <th>...</th>\n",
       "      <th>parks_nearest</th>\n",
       "      <th>ponds_around3000</th>\n",
       "      <th>ponds_nearest</th>\n",
       "      <th>days_exposition</th>\n",
       "      <th>price_per_metr</th>\n",
       "      <th>day_exposition</th>\n",
       "      <th>month_exposition</th>\n",
       "      <th>year_exposition</th>\n",
       "      <th>floor_category</th>\n",
       "      <th>distance_to_center</th>\n",
       "    </tr>\n",
       "  </thead>\n",
       "  <tbody>\n",
       "    <tr>\n",
       "      <th>0</th>\n",
       "      <td>20</td>\n",
       "      <td>13000000</td>\n",
       "      <td>108.00</td>\n",
       "      <td>2019-03-07</td>\n",
       "      <td>3</td>\n",
       "      <td>2.70</td>\n",
       "      <td>16</td>\n",
       "      <td>51.0</td>\n",
       "      <td>8</td>\n",
       "      <td>False</td>\n",
       "      <td>...</td>\n",
       "      <td>482.0</td>\n",
       "      <td>2</td>\n",
       "      <td>755.0</td>\n",
       "      <td>NaN</td>\n",
       "      <td>120370.370370</td>\n",
       "      <td>3</td>\n",
       "      <td>3</td>\n",
       "      <td>2019</td>\n",
       "      <td>другой</td>\n",
       "      <td>16.0</td>\n",
       "    </tr>\n",
       "    <tr>\n",
       "      <th>16</th>\n",
       "      <td>11</td>\n",
       "      <td>6700000</td>\n",
       "      <td>82.00</td>\n",
       "      <td>2017-11-23</td>\n",
       "      <td>3</td>\n",
       "      <td>3.05</td>\n",
       "      <td>5</td>\n",
       "      <td>55.6</td>\n",
       "      <td>1</td>\n",
       "      <td>False</td>\n",
       "      <td>...</td>\n",
       "      <td>420.0</td>\n",
       "      <td>0</td>\n",
       "      <td>NaN</td>\n",
       "      <td>397.0</td>\n",
       "      <td>81707.317073</td>\n",
       "      <td>3</td>\n",
       "      <td>11</td>\n",
       "      <td>2017</td>\n",
       "      <td>первый</td>\n",
       "      <td>11.0</td>\n",
       "    </tr>\n",
       "    <tr>\n",
       "      <th>19</th>\n",
       "      <td>16</td>\n",
       "      <td>14200000</td>\n",
       "      <td>121.00</td>\n",
       "      <td>2019-01-09</td>\n",
       "      <td>3</td>\n",
       "      <td>2.75</td>\n",
       "      <td>16</td>\n",
       "      <td>76.0</td>\n",
       "      <td>8</td>\n",
       "      <td>False</td>\n",
       "      <td>...</td>\n",
       "      <td>NaN</td>\n",
       "      <td>0</td>\n",
       "      <td>NaN</td>\n",
       "      <td>97.0</td>\n",
       "      <td>117355.371901</td>\n",
       "      <td>2</td>\n",
       "      <td>1</td>\n",
       "      <td>2019</td>\n",
       "      <td>другой</td>\n",
       "      <td>13.0</td>\n",
       "    </tr>\n",
       "    <tr>\n",
       "      <th>29</th>\n",
       "      <td>9</td>\n",
       "      <td>8600000</td>\n",
       "      <td>100.00</td>\n",
       "      <td>2016-04-09</td>\n",
       "      <td>3</td>\n",
       "      <td>2.65</td>\n",
       "      <td>19</td>\n",
       "      <td>52.0</td>\n",
       "      <td>15</td>\n",
       "      <td>False</td>\n",
       "      <td>...</td>\n",
       "      <td>532.0</td>\n",
       "      <td>1</td>\n",
       "      <td>896.0</td>\n",
       "      <td>125.0</td>\n",
       "      <td>86000.000000</td>\n",
       "      <td>5</td>\n",
       "      <td>4</td>\n",
       "      <td>2016</td>\n",
       "      <td>другой</td>\n",
       "      <td>12.0</td>\n",
       "    </tr>\n",
       "    <tr>\n",
       "      <th>33</th>\n",
       "      <td>8</td>\n",
       "      <td>4800000</td>\n",
       "      <td>73.00</td>\n",
       "      <td>2018-10-15</td>\n",
       "      <td>4</td>\n",
       "      <td>2.65</td>\n",
       "      <td>9</td>\n",
       "      <td>51.6</td>\n",
       "      <td>5</td>\n",
       "      <td>False</td>\n",
       "      <td>...</td>\n",
       "      <td>NaN</td>\n",
       "      <td>0</td>\n",
       "      <td>NaN</td>\n",
       "      <td>92.0</td>\n",
       "      <td>65753.424658</td>\n",
       "      <td>0</td>\n",
       "      <td>10</td>\n",
       "      <td>2018</td>\n",
       "      <td>другой</td>\n",
       "      <td>32.0</td>\n",
       "    </tr>\n",
       "    <tr>\n",
       "      <th>...</th>\n",
       "      <td>...</td>\n",
       "      <td>...</td>\n",
       "      <td>...</td>\n",
       "      <td>...</td>\n",
       "      <td>...</td>\n",
       "      <td>...</td>\n",
       "      <td>...</td>\n",
       "      <td>...</td>\n",
       "      <td>...</td>\n",
       "      <td>...</td>\n",
       "      <td>...</td>\n",
       "      <td>...</td>\n",
       "      <td>...</td>\n",
       "      <td>...</td>\n",
       "      <td>...</td>\n",
       "      <td>...</td>\n",
       "      <td>...</td>\n",
       "      <td>...</td>\n",
       "      <td>...</td>\n",
       "      <td>...</td>\n",
       "      <td>...</td>\n",
       "    </tr>\n",
       "    <tr>\n",
       "      <th>23667</th>\n",
       "      <td>14</td>\n",
       "      <td>9990000</td>\n",
       "      <td>90.00</td>\n",
       "      <td>2017-01-23</td>\n",
       "      <td>3</td>\n",
       "      <td>3.06</td>\n",
       "      <td>17</td>\n",
       "      <td>55.0</td>\n",
       "      <td>9</td>\n",
       "      <td>False</td>\n",
       "      <td>...</td>\n",
       "      <td>NaN</td>\n",
       "      <td>1</td>\n",
       "      <td>545.0</td>\n",
       "      <td>86.0</td>\n",
       "      <td>111000.000000</td>\n",
       "      <td>0</td>\n",
       "      <td>1</td>\n",
       "      <td>2017</td>\n",
       "      <td>другой</td>\n",
       "      <td>33.0</td>\n",
       "    </tr>\n",
       "    <tr>\n",
       "      <th>23680</th>\n",
       "      <td>14</td>\n",
       "      <td>5000000</td>\n",
       "      <td>59.00</td>\n",
       "      <td>2019-04-04</td>\n",
       "      <td>3</td>\n",
       "      <td>2.50</td>\n",
       "      <td>5</td>\n",
       "      <td>52.0</td>\n",
       "      <td>1</td>\n",
       "      <td>False</td>\n",
       "      <td>...</td>\n",
       "      <td>NaN</td>\n",
       "      <td>0</td>\n",
       "      <td>NaN</td>\n",
       "      <td>NaN</td>\n",
       "      <td>84745.762712</td>\n",
       "      <td>3</td>\n",
       "      <td>4</td>\n",
       "      <td>2019</td>\n",
       "      <td>первый</td>\n",
       "      <td>12.0</td>\n",
       "    </tr>\n",
       "    <tr>\n",
       "      <th>23684</th>\n",
       "      <td>20</td>\n",
       "      <td>21400000</td>\n",
       "      <td>145.00</td>\n",
       "      <td>2018-11-02</td>\n",
       "      <td>4</td>\n",
       "      <td>3.00</td>\n",
       "      <td>26</td>\n",
       "      <td>71.4</td>\n",
       "      <td>17</td>\n",
       "      <td>False</td>\n",
       "      <td>...</td>\n",
       "      <td>NaN</td>\n",
       "      <td>0</td>\n",
       "      <td>NaN</td>\n",
       "      <td>NaN</td>\n",
       "      <td>147586.206897</td>\n",
       "      <td>4</td>\n",
       "      <td>11</td>\n",
       "      <td>2018</td>\n",
       "      <td>другой</td>\n",
       "      <td>11.0</td>\n",
       "    </tr>\n",
       "    <tr>\n",
       "      <th>23688</th>\n",
       "      <td>19</td>\n",
       "      <td>9200000</td>\n",
       "      <td>101.00</td>\n",
       "      <td>2019-04-01</td>\n",
       "      <td>3</td>\n",
       "      <td>3.05</td>\n",
       "      <td>15</td>\n",
       "      <td>63.0</td>\n",
       "      <td>12</td>\n",
       "      <td>False</td>\n",
       "      <td>...</td>\n",
       "      <td>NaN</td>\n",
       "      <td>0</td>\n",
       "      <td>NaN</td>\n",
       "      <td>23.0</td>\n",
       "      <td>91089.108911</td>\n",
       "      <td>0</td>\n",
       "      <td>4</td>\n",
       "      <td>2019</td>\n",
       "      <td>другой</td>\n",
       "      <td>14.0</td>\n",
       "    </tr>\n",
       "    <tr>\n",
       "      <th>23694</th>\n",
       "      <td>9</td>\n",
       "      <td>9700000</td>\n",
       "      <td>133.81</td>\n",
       "      <td>2017-03-21</td>\n",
       "      <td>3</td>\n",
       "      <td>3.70</td>\n",
       "      <td>5</td>\n",
       "      <td>73.3</td>\n",
       "      <td>3</td>\n",
       "      <td>False</td>\n",
       "      <td>...</td>\n",
       "      <td>796.0</td>\n",
       "      <td>3</td>\n",
       "      <td>381.0</td>\n",
       "      <td>NaN</td>\n",
       "      <td>72490.845228</td>\n",
       "      <td>1</td>\n",
       "      <td>3</td>\n",
       "      <td>2017</td>\n",
       "      <td>другой</td>\n",
       "      <td>4.0</td>\n",
       "    </tr>\n",
       "  </tbody>\n",
       "</table>\n",
       "<p>3051 rows × 28 columns</p>\n",
       "</div>"
      ],
      "text/plain": [
       "       total_images  last_price  total_area first_day_exposition  rooms  \\\n",
       "0                20    13000000      108.00           2019-03-07      3   \n",
       "16               11     6700000       82.00           2017-11-23      3   \n",
       "19               16    14200000      121.00           2019-01-09      3   \n",
       "29                9     8600000      100.00           2016-04-09      3   \n",
       "33                8     4800000       73.00           2018-10-15      4   \n",
       "...             ...         ...         ...                  ...    ...   \n",
       "23667            14     9990000       90.00           2017-01-23      3   \n",
       "23680            14     5000000       59.00           2019-04-04      3   \n",
       "23684            20    21400000      145.00           2018-11-02      4   \n",
       "23688            19     9200000      101.00           2019-04-01      3   \n",
       "23694             9     9700000      133.81           2017-03-21      3   \n",
       "\n",
       "       ceiling_height  floors_total  living_area  floor  is_apartment  ...  \\\n",
       "0                2.70            16         51.0      8         False  ...   \n",
       "16               3.05             5         55.6      1         False  ...   \n",
       "19               2.75            16         76.0      8         False  ...   \n",
       "29               2.65            19         52.0     15         False  ...   \n",
       "33               2.65             9         51.6      5         False  ...   \n",
       "...               ...           ...          ...    ...           ...  ...   \n",
       "23667            3.06            17         55.0      9         False  ...   \n",
       "23680            2.50             5         52.0      1         False  ...   \n",
       "23684            3.00            26         71.4     17         False  ...   \n",
       "23688            3.05            15         63.0     12         False  ...   \n",
       "23694            3.70             5         73.3      3         False  ...   \n",
       "\n",
       "       parks_nearest  ponds_around3000  ponds_nearest  days_exposition  \\\n",
       "0              482.0                 2          755.0              NaN   \n",
       "16             420.0                 0            NaN            397.0   \n",
       "19               NaN                 0            NaN             97.0   \n",
       "29             532.0                 1          896.0            125.0   \n",
       "33               NaN                 0            NaN             92.0   \n",
       "...              ...               ...            ...              ...   \n",
       "23667            NaN                 1          545.0             86.0   \n",
       "23680            NaN                 0            NaN              NaN   \n",
       "23684            NaN                 0            NaN              NaN   \n",
       "23688            NaN                 0            NaN             23.0   \n",
       "23694          796.0                 3          381.0              NaN   \n",
       "\n",
       "      price_per_metr  day_exposition  month_exposition  year_exposition  \\\n",
       "0      120370.370370               3                 3             2019   \n",
       "16      81707.317073               3                11             2017   \n",
       "19     117355.371901               2                 1             2019   \n",
       "29      86000.000000               5                 4             2016   \n",
       "33      65753.424658               0                10             2018   \n",
       "...              ...             ...               ...              ...   \n",
       "23667  111000.000000               0                 1             2017   \n",
       "23680   84745.762712               3                 4             2019   \n",
       "23684  147586.206897               4                11             2018   \n",
       "23688   91089.108911               0                 4             2019   \n",
       "23694   72490.845228               1                 3             2017   \n",
       "\n",
       "       floor_category  distance_to_center  \n",
       "0              другой                16.0  \n",
       "16             первый                11.0  \n",
       "19             другой                13.0  \n",
       "29             другой                12.0  \n",
       "33             другой                32.0  \n",
       "...               ...                 ...  \n",
       "23667          другой                33.0  \n",
       "23680          первый                12.0  \n",
       "23684          другой                11.0  \n",
       "23688          другой                14.0  \n",
       "23694          другой                 4.0  \n",
       "\n",
       "[3051 rows x 28 columns]"
      ]
     },
     "metadata": {},
     "output_type": "display_data"
    },
    {
     "name": "stdout",
     "output_type": "stream",
     "text": [
      "<class 'pandas.core.frame.DataFrame'>\n",
      "Int64Index: 23561 entries, 0 to 23698\n",
      "Data columns (total 28 columns):\n",
      " #   Column                Non-Null Count  Dtype         \n",
      "---  ------                --------------  -----         \n",
      " 0   total_images          23561 non-null  int64         \n",
      " 1   last_price            23561 non-null  int64         \n",
      " 2   total_area            23561 non-null  float64       \n",
      " 3   first_day_exposition  23561 non-null  datetime64[ns]\n",
      " 4   rooms                 23561 non-null  int64         \n",
      " 5   ceiling_height        23561 non-null  float64       \n",
      " 6   floors_total          23561 non-null  int64         \n",
      " 7   living_area           23561 non-null  float64       \n",
      " 8   floor                 23561 non-null  int64         \n",
      " 9   is_apartment          23561 non-null  bool          \n",
      " 10  studio                23561 non-null  bool          \n",
      " 11  open_plan             23561 non-null  bool          \n",
      " 12  kitchen_area          23561 non-null  float64       \n",
      " 13  balcony               23561 non-null  int64         \n",
      " 14  locality_name         23561 non-null  object        \n",
      " 15  airports_nearest      18038 non-null  float64       \n",
      " 16  cityCenters_nearest   18061 non-null  float64       \n",
      " 17  parks_around3000      23561 non-null  int64         \n",
      " 18  parks_nearest         8028 non-null   float64       \n",
      " 19  ponds_around3000      23561 non-null  int64         \n",
      " 20  ponds_nearest         9033 non-null   float64       \n",
      " 21  days_exposition       20390 non-null  float64       \n",
      " 22  price_per_metr        23561 non-null  float64       \n",
      " 23  day_exposition        23561 non-null  int64         \n",
      " 24  month_exposition      23561 non-null  int64         \n",
      " 25  year_exposition       23561 non-null  int64         \n",
      " 26  floor_category        23561 non-null  object        \n",
      " 27  distance_to_center    18061 non-null  float64       \n",
      "dtypes: bool(3), datetime64[ns](1), float64(11), int64(11), object(2)\n",
      "memory usage: 4.7+ MB\n"
     ]
    },
    {
     "data": {
      "image/png": "[encoded data removed]",
      "text/plain": [
       "<Figure size 432x288 with 1 Axes>"
      ]
     },
     "metadata": {
      "needs_background": "light"
     },
     "output_type": "display_data"
    }
   ],
   "source": [
    "\n",
    "data['living_area'].describe() # в перечне есть слишком маленькие значения жилых помещений, к примеру мин. значение 2 метра, что явл. некорректным.\n",
    "\n",
    "#display(new_list.head(20))\n",
    "#действительно, в перечне есть квартиры в которых площади жилых помещений слишком малы - это ошибка, скорее всего ошиблись на 10 кв. метров, прибавим их к каждой жидлй площади, менее 10 кв. метров\n",
    "\n",
    "data.loc[data['living_area']< 10, 'living_area'] += 10\n",
    "#display(new_list.head(20)) #замена прошла успешно\n",
    "\n",
    "#living_ratio = data['living_area'].mean() / data['total_area'].mean() # доля  жилой площади в общей\n",
    "#data['living_area'] = data['living_area'].fillna(living_ratio * data['total_area'])\n",
    "\n",
    "\n",
    "# пропуски в столбце \"living_area\" заменим на медианы значений жилой площади по каждому значению кол-ва комнат столбца \"rooms\". \n",
    "\n",
    "median_replace_rooms = data.groupby('rooms')['living_area'].median()\n",
    "for total in data['rooms'].unique():\n",
    "    data.loc[(data['rooms'] == total) & (data['living_area'].isna()), 'living_area'] = median_replace_rooms[total]\n",
    "    \n",
    "    \n",
    "    \n",
    "#проверяем, чтобы все пропуски были заполнены\n",
    "display(data['living_area'].isna().sum())\n",
    "\n",
    "\n",
    "# гисторграмма параметра living_area\n",
    "data.hist('living_area', bins=50, range=(0,300));\n",
    "display(data['living_area'].describe())\n",
    "display(data.query('living_area >50'))\n",
    "data.info()\n",
    "\n"
   ]
  },
  {
   "cell_type": "markdown",
   "metadata": {},
   "source": [
    "Вывод: Из гистограммы видно, что в среднем площадь жилой зоны составляет -34.3 кв. м., при этом основной пул площадей попадает в промежуток от 18 до 42 кв. м., такие параметры жилой площади характерны для 1 и 2 комнатных квартир.Объектов с жилой площадью более 50 кв. всего 3051, соответсвенно квартиры с большим количеством комнат менее популярны."
   ]
  },
  {
   "cell_type": "code",
   "execution_count": 19,
   "metadata": {},
   "outputs": [
    {
     "data": {
      "text/plain": [
       "count    23561.000000\n",
       "mean        10.500594\n",
       "std          6.038437\n",
       "min          1.300000\n",
       "25%          7.000000\n",
       "50%          9.000000\n",
       "75%         12.000000\n",
       "max        112.000000\n",
       "Name: kitchen_area, dtype: float64"
      ]
     },
     "execution_count": 19,
     "metadata": {},
     "output_type": "execute_result"
    },
    {
     "data": {
      "image/png": "[encoded data removed]",
      "text/plain": [
       "<Figure size 720x504 with 1 Axes>"
      ]
     },
     "metadata": {
      "needs_background": "light"
     },
     "output_type": "display_data"
    }
   ],
   "source": [
    "data.plot(y = 'kitchen_area', kind ='hist', bins = 100, grid = True, range = (0,150), figsize=(10,7))# гисторграмма параметра kitchen_area\n",
    "data['kitchen_area'].describe()"
   ]
  },
  {
   "cell_type": "markdown",
   "metadata": {},
   "source": [
    "вывод: распределение является нормальным, поэтому среднее можно использовать в качестве надежной оценки. В среднем, размер кухни составляет 10.5 кв., наиболее часто встречаются квартиры с кухнями около 10 кв. метров, кухни более 20 кв. метров в квартирах встречаются редко, разброс относительно среднего небольшой, то есть подавляюющее большинство кухонь находится в диапозоне 10.5+ 6.2 кв. м."
   ]
  },
  {
   "cell_type": "code",
   "execution_count": 20,
   "metadata": {},
   "outputs": [
    {
     "data": {
      "text/plain": [
       "count    23561.00000\n",
       "mean         6.54004\n",
       "std         10.91166\n",
       "min          0.01219\n",
       "25%          3.40000\n",
       "50%          4.64600\n",
       "75%          6.79000\n",
       "max        763.00000\n",
       "Name: last_price, dtype: float64"
      ]
     },
     "execution_count": 20,
     "metadata": {},
     "output_type": "execute_result"
    },
    {
     "data": {
      "image/png": "[encoded data removed]",
      "text/plain": [
       "<Figure size 720x504 with 1 Axes>"
      ]
     },
     "metadata": {
      "needs_background": "light"
     },
     "output_type": "display_data"
    }
   ],
   "source": [
    "\n",
    "data['last_price']=data['last_price']/ 1000000 #делим на 1000, чтобы данные описывающие гистограмму были читабельными\n",
    "data.plot(y = 'last_price', kind ='hist', bins = 100, grid = True, figsize=(10,7))# гисторграмма параметра last_price\n",
    "data['last_price'].describe()\n",
    "\n"
   ]
  },
  {
   "cell_type": "markdown",
   "metadata": {},
   "source": [
    "Вывод:Распределение считается нормальным.По гистограмме видно, большинтсов квартир имеют стоимость до 15 млн. рублей.В среднем стоимость из данного набора сосатвляет 6.5 млн. руб. Максимальная стоимость квартиры в выобрке 763 млн. руб.\n"
   ]
  },
  {
   "cell_type": "code",
   "execution_count": 21,
   "metadata": {},
   "outputs": [
    {
     "data": {
      "text/plain": [
       "count    23561.000000\n",
       "mean         2.070753\n",
       "std          1.078637\n",
       "min          0.000000\n",
       "25%          1.000000\n",
       "50%          2.000000\n",
       "75%          3.000000\n",
       "max         19.000000\n",
       "Name: rooms, dtype: float64"
      ]
     },
     "execution_count": 21,
     "metadata": {},
     "output_type": "execute_result"
    },
    {
     "data": {
      "image/png": "[encoded data removed]",
      "text/plain": [
       "<Figure size 720x504 with 1 Axes>"
      ]
     },
     "metadata": {
      "needs_background": "light"
     },
     "output_type": "display_data"
    }
   ],
   "source": [
    "data.plot(y = 'rooms', kind ='hist', bins = 100, grid = True, figsize=(10,7))# гисторграмма параметра rooms\n",
    "data['rooms'].describe()"
   ]
  },
  {
   "cell_type": "markdown",
   "metadata": {},
   "source": [
    "Вывод: из данных гистограммы видно, что самыми популярными среди объектов недвижимости являются квартиры с двумя и одной комнатой, следом идут трехкомнатные квартиры. в среднем квартиры в выборке имеют две комнаты."
   ]
  },
  {
   "cell_type": "code",
   "execution_count": 22,
   "metadata": {},
   "outputs": [
    {
     "data": {
      "text/plain": [
       "count    23561.000000\n",
       "mean         2.699377\n",
       "std          0.272955\n",
       "min          2.000000\n",
       "25%          2.600000\n",
       "50%          2.650000\n",
       "75%          2.700000\n",
       "max         20.000000\n",
       "Name: ceiling_height, dtype: float64"
      ]
     },
     "execution_count": 22,
     "metadata": {},
     "output_type": "execute_result"
    },
    {
     "data": {
      "image/png": "[encoded data removed]",
      "text/plain": [
       "<Figure size 720x504 with 1 Axes>"
      ]
     },
     "metadata": {
      "needs_background": "light"
     },
     "output_type": "display_data"
    }
   ],
   "source": [
    "data.plot(y = 'ceiling_height', kind ='hist', bins = 100, grid = True,range = (0,20), figsize=(10,7))# гисторграмма параметра ceiling_height\n",
    "data['ceiling_height'].describe()"
   ]
  },
  {
   "cell_type": "markdown",
   "metadata": {},
   "source": [
    "Вывод: из гистограммы видно, что самый распространенная высота потолков - 2.5-2.7 м. Межквартальный размах : 2.6-2.7, получается в этот промежуток (по высоте потолков) попадает основной пул квартир. В среднем высота потолков - 2.69 м. Максимальное значение в 100 м. не влияет на выборку сущесивенно,так как это единственное значение в выборке, остальные аномальные данные были устранены."
   ]
  },
  {
   "cell_type": "code",
   "execution_count": 23,
   "metadata": {},
   "outputs": [
    {
     "data": {
      "text/plain": [
       "count    23561.000000\n",
       "mean         5.878358\n",
       "std          4.871783\n",
       "min          1.000000\n",
       "25%          2.000000\n",
       "50%          4.000000\n",
       "75%          8.000000\n",
       "max         33.000000\n",
       "Name: floor, dtype: float64"
      ]
     },
     "execution_count": 23,
     "metadata": {},
     "output_type": "execute_result"
    },
    {
     "data": {
      "image/png": "[encoded data removed]",
      "text/plain": [
       "<Figure size 720x504 with 1 Axes>"
      ]
     },
     "metadata": {
      "needs_background": "light"
     },
     "output_type": "display_data"
    }
   ],
   "source": [
    "\n",
    "data.plot(y = 'floor', kind ='hist', bins = 100, grid = True, figsize=(10,7), range = (0,30)) #гисторграмма параметра floor\n",
    "data['floor'].describe()"
   ]
  },
  {
   "cell_type": "markdown",
   "metadata": {},
   "source": [
    "Вывод: Самым распространенным этажом является второй. Чуть менее распространенные этажи - третий, четвертый и первый. Квартиры на высоких этажах являются не популярными. "
   ]
  },
  {
   "cell_type": "code",
   "execution_count": 24,
   "metadata": {},
   "outputs": [
    {
     "name": "stdout",
     "output_type": "stream",
     "text": [
      "другой       17324\n",
      "последний     3329\n",
      "первый        2908\n",
      "Name: floor_category, dtype: int64\n"
     ]
    }
   ],
   "source": [
    "print(data['floor_category'].value_counts()) #считаем количество этажей в каждой категории\n",
    "\n",
    "\n",
    "        \n"
   ]
  },
  {
   "cell_type": "markdown",
   "metadata": {},
   "source": [
    "Вывод: данные не очень информативные. По данным видно, что количество последних этажей больше,чем первых. Доля последних и первых сумма составляет примерно 37%."
   ]
  },
  {
   "cell_type": "code",
   "execution_count": 25,
   "metadata": {},
   "outputs": [
    {
     "data": {
      "text/plain": [
       "count    23561.000000\n",
       "mean        10.675311\n",
       "std          6.592801\n",
       "min          1.000000\n",
       "25%          5.000000\n",
       "50%          9.000000\n",
       "75%         16.000000\n",
       "max         60.000000\n",
       "Name: floors_total, dtype: float64"
      ]
     },
     "execution_count": 25,
     "metadata": {},
     "output_type": "execute_result"
    },
    {
     "data": {
      "image/png": "[encoded data removed]",
      "text/plain": [
       "<Figure size 720x504 with 1 Axes>"
      ]
     },
     "metadata": {
      "needs_background": "light"
     },
     "output_type": "display_data"
    }
   ],
   "source": [
    "data.plot(y = 'floors_total', kind ='hist', bins = 100, grid = True, figsize=(10,7), range = (0,40)) #гисторграмма параметра floors_total\n",
    "data['floors_total'].describe()"
   ]
  },
  {
   "cell_type": "markdown",
   "metadata": {},
   "source": [
    "Вывод: Гистограмма показывает, что в выборке чаще всего встречаются пятиэтажные дома. Дома в 9 этажей всьречаются также довольно часто. "
   ]
  },
  {
   "cell_type": "code",
   "execution_count": 26,
   "metadata": {},
   "outputs": [
    {
     "data": {
      "text/plain": [
       "count    18061.000000\n",
       "mean     14192.635790\n",
       "std       8613.825667\n",
       "min        181.000000\n",
       "25%       9238.000000\n",
       "50%      13095.000000\n",
       "75%      16285.000000\n",
       "max      65968.000000\n",
       "Name: cityCenters_nearest, dtype: float64"
      ]
     },
     "execution_count": 26,
     "metadata": {},
     "output_type": "execute_result"
    },
    {
     "data": {
      "image/png": "[encoded data removed]",
      "text/plain": [
       "<Figure size 720x504 with 1 Axes>"
      ]
     },
     "metadata": {
      "needs_background": "light"
     },
     "output_type": "display_data"
    }
   ],
   "source": [
    "data.plot(y = 'cityCenters_nearest', kind ='hist', bins = 100, grid = True, figsize=(10,7), range = (0,50000)) #гисторграмма параметра cityCenters_nearest\n",
    "data['cityCenters_nearest'].describe()\n",
    "\n"
   ]
  },
  {
   "cell_type": "markdown",
   "metadata": {},
   "source": [
    "Вывод:по гистрограмме видно, что популярнее всего квартиры, находящиеся в близости от 9 000 до 17 000 метров, то есть 10-17 км до центра. Квартиры, находящиеся в близости более 60 км. практически отсутствуют. На графике также заметно, что есть самые популярные квартиры в самом центре - это в близости примерно 5 км и квартиры, которы находятся недалеко от центре, их большинство. В среднем, расстояние до центра города составляет около 14 км."
   ]
  },
  {
   "cell_type": "code",
   "execution_count": 27,
   "metadata": {},
   "outputs": [
    {
     "data": {
      "text/plain": [
       "count    18038.000000\n",
       "mean     28797.062923\n",
       "std      12633.204783\n",
       "min          0.000000\n",
       "25%      18559.000000\n",
       "50%      26756.500000\n",
       "75%      37273.000000\n",
       "max      84869.000000\n",
       "Name: airports_nearest, dtype: float64"
      ]
     },
     "execution_count": 27,
     "metadata": {},
     "output_type": "execute_result"
    },
    {
     "data": {
      "image/png": "[encoded data removed]",
      "text/plain": [
       "<Figure size 720x504 with 1 Axes>"
      ]
     },
     "metadata": {
      "needs_background": "light"
     },
     "output_type": "display_data"
    }
   ],
   "source": [
    "data.plot(y = 'airports_nearest', kind ='hist', bins = 100, grid = True, figsize=(10,7), range = (0,50000)) #гисторграмма параметра cityCenters_nearest\n",
    "data['airports_nearest'].describe()\n"
   ]
  },
  {
   "cell_type": "markdown",
   "metadata": {},
   "source": [
    "Вывод:самые часто встречающие квартиры находятся на расстоянии примерно 18 км. от аэропорта. Основная часть квартир попадает в диапазон 18.5 - 37 км. - квартальный размах. В среднем, квартиры находятся на расстоянии практически 29 км от аэропорта."
   ]
  },
  {
   "cell_type": "code",
   "execution_count": 28,
   "metadata": {},
   "outputs": [
    {
     "data": {
      "text/plain": [
       "count    8028.000000\n",
       "mean      490.638391\n",
       "std       341.595327\n",
       "min         1.000000\n",
       "25%       288.000000\n",
       "50%       455.000000\n",
       "75%       612.000000\n",
       "max      3190.000000\n",
       "Name: parks_nearest, dtype: float64"
      ]
     },
     "execution_count": 28,
     "metadata": {},
     "output_type": "execute_result"
    },
    {
     "data": {
      "image/png": "[encoded data removed]",
      "text/plain": [
       "<Figure size 720x504 with 1 Axes>"
      ]
     },
     "metadata": {
      "needs_background": "light"
     },
     "output_type": "display_data"
    }
   ],
   "source": [
    "data.plot(y = 'parks_nearest', kind ='hist', bins = 100, grid = True, figsize=(10,7), range = (0,4000)) #гисторграмма параметра cityCenters_nearest\n",
    "data['parks_nearest'].describe()"
   ]
  },
  {
   "cell_type": "markdown",
   "metadata": {},
   "source": [
    "Вывод: все квартиры в близости 3.2 км имеют парки.Большинство квартир в объявлениях имеют парки на расстоянии около 500 метров. В среднем ближайший парк находится на расстоянии 490 метров. Максимальное расстояние до парка равно 3190 метров."
   ]
  },
  {
   "cell_type": "code",
   "execution_count": 29,
   "metadata": {},
   "outputs": [
    {
     "data": {
      "text/plain": [
       "<AxesSubplot:ylabel='Frequency'>"
      ]
     },
     "execution_count": 29,
     "metadata": {},
     "output_type": "execute_result"
    },
    {
     "data": {
      "image/png": "[encoded data removed]",
      "text/plain": [
       "<Figure size 720x504 with 1 Axes>"
      ]
     },
     "metadata": {
      "needs_background": "light"
     },
     "output_type": "display_data"
    }
   ],
   "source": [
    "data.plot(y = 'day_exposition', kind ='hist', bins = 20, grid = True, figsize=(10,7), range = (0,7)) #гисторграмма параметра cityCenters_nearest\n"
   ]
  },
  {
   "cell_type": "markdown",
   "metadata": {},
   "source": [
    "Вывод: по гистограмме видно, что чаще всего публикуются объяления в понедельник - вторник (начало недели) и четверг, реже всего в выходные дни. Возможно это связано с началом трудовой деятельности и меньшими просмотрами объявлений в выходные"
   ]
  },
  {
   "cell_type": "code",
   "execution_count": 30,
   "metadata": {},
   "outputs": [
    {
     "data": {
      "text/plain": [
       "<AxesSubplot:ylabel='Frequency'>"
      ]
     },
     "execution_count": 30,
     "metadata": {},
     "output_type": "execute_result"
    },
    {
     "data": {
      "image/png": "[encoded data removed]",
      "text/plain": [
       "<Figure size 720x504 with 1 Axes>"
      ]
     },
     "metadata": {
      "needs_background": "light"
     },
     "output_type": "display_data"
    }
   ],
   "source": [
    "data.plot(y = 'month_exposition', kind ='hist', bins = 30, grid = True, figsize=(10,7), range = (0,14)) #гисторграмма параметра cityCenters_nearest\n"
   ]
  },
  {
   "cell_type": "markdown",
   "metadata": {},
   "source": [
    "Вывод: чаще всего объявления публикуются в зимний период времени - начало года с февраля по апрель.Реже всего объявления публикуются в летний период времени. Видна четкая сезонность публикации. Пик публикаций, приходящий на начало года связан именном с началом года, а так же с сезоном, отсутвия большого количества отпусков и соответсвенно, в зимний период возможное количество просмотров больше, чем в летнее время."
   ]
  },
  {
   "cell_type": "code",
   "execution_count": 31,
   "metadata": {},
   "outputs": [
    {
     "data": {
      "image/png": "[encoded data removed]",
      "text/plain": [
       "<Figure size 720x504 with 1 Axes>"
      ]
     },
     "metadata": {
      "needs_background": "light"
     },
     "output_type": "display_data"
    },
    {
     "data": {
      "text/plain": [
       "count    20390.000000\n",
       "mean       180.759637\n",
       "std        219.746426\n",
       "min          1.000000\n",
       "25%         45.000000\n",
       "50%         95.000000\n",
       "75%        231.000000\n",
       "max       1580.000000\n",
       "Name: days_exposition, dtype: float64"
      ]
     },
     "metadata": {},
     "output_type": "display_data"
    },
    {
     "name": "stdout",
     "output_type": "stream",
     "text": [
      "Медиана = 95.0\n"
     ]
    }
   ],
   "source": [
    "\n",
    "data.hist('days_exposition', bins = 30, grid = True, figsize=(10,7))#гисторграмма параметра days_exposition\n",
    "plt.show()\n",
    "display(data['days_exposition'].describe())\n",
    "\n",
    "print('Медиана =', data['days_exposition'].median())\n",
    "\n"
   ]
  },
  {
   "cell_type": "markdown",
   "metadata": {},
   "source": [
    "Данное распределение явялется Паусонным. В среднем квартиры продаются через 180 дней после публикации объявления.Однако разброс относительно среднего большой - 219 дней. Быстрыми можно считать продажи, которые попадают в первый квартиль от 1 до 45 дней, нормальными по сроку можно считать продажи, которые попадают в квартальный размах - это от 45 до 231 дней. и Долгие- это продажи, которые выходят за значение 1.5 межквартального размаха, т.е. за 550 дней"
   ]
  },
  {
   "cell_type": "code",
   "execution_count": 32,
   "metadata": {},
   "outputs": [
    {
     "data": {
      "text/plain": [
       "0.6536724385118196"
      ]
     },
     "metadata": {},
     "output_type": "display_data"
    },
    {
     "data": {
      "text/plain": [
       "<AxesSubplot:xlabel='total_area'>"
      ]
     },
     "execution_count": 32,
     "metadata": {},
     "output_type": "execute_result"
    },
    {
     "data": {
      "image/png": "[encoded data removed]",
      "text/plain": [
       "<Figure size 1080x504 with 1 Axes>"
      ]
     },
     "metadata": {
      "needs_background": "light"
     },
     "output_type": "display_data"
    },
    {
     "data": {
      "image/png": "[encoded data removed]",
      "text/plain": [
       "<Figure size 432x288 with 1 Axes>"
      ]
     },
     "metadata": {
      "needs_background": "light"
     },
     "output_type": "display_data"
    }
   ],
   "source": [
    "#посчитаем коэффициенты корреляции между параметром last_price и другими переменными, для понимания насколько связь сильная.\n",
    "display(data['last_price'].corr(data['total_area']))\n",
    "\n",
    "# находим срез для квартир площадьб от 20 до 100 кв.м., строим из полученных данных сводную таблицу и график зависимости\n",
    "\n",
    "#data.pivot_table(index = 'total_area', values = 'last_price').plot(x = 'total_area', y = 'last_price', grid = True, figsize = (12, 5),kind = 'scatter')\n",
    "\n",
    "\n",
    "\n",
    "   \n",
    "data.query('total_area <200').plot(x='total_area', y='last_price', kind='scatter', grid=True, figsize=(15,7), alpha=0.2)\n",
    "\n",
    "data.query('total_area <200').pivot_table(index='total_area', values='last_price', aggfunc='median').plot(style='o')"
   ]
  },
  {
   "cell_type": "markdown",
   "metadata": {},
   "source": [
    "Вывод: по диаграмме рассеивания видно, что зависимость между стоимость жилья и общей площадью есть (положительная корреляция).Чем больше квадратура, тем больше цена, однако, с увеличением площади квартиры, связь между параметрами становится меньше, это хорошо заметно для значений площади более 100 кв. метров"
   ]
  },
  {
   "cell_type": "code",
   "execution_count": 33,
   "metadata": {},
   "outputs": [
    {
     "data": {
      "text/plain": [
       "0.556405036065619"
      ]
     },
     "metadata": {},
     "output_type": "display_data"
    },
    {
     "data": {
      "text/plain": [
       "<AxesSubplot:xlabel='total_area'>"
      ]
     },
     "execution_count": 33,
     "metadata": {},
     "output_type": "execute_result"
    },
    {
     "data": {
      "image/png": "[encoded data removed]",
      "text/plain": [
       "<Figure size 1080x504 with 1 Axes>"
      ]
     },
     "metadata": {
      "needs_background": "light"
     },
     "output_type": "display_data"
    },
    {
     "data": {
      "image/png": "[encoded data removed]",
      "text/plain": [
       "<Figure size 432x288 with 1 Axes>"
      ]
     },
     "metadata": {
      "needs_background": "light"
     },
     "output_type": "display_data"
    }
   ],
   "source": [
    "display(data['last_price'].corr(data['living_area']))\n",
    "data.plot(x='living_area', y='last_price', kind='scatter', grid=True, figsize=(15,7), alpha=0.2)\n",
    "data.pivot_table(index='total_area', values='last_price', aggfunc='median').plot(style='o')"
   ]
  },
  {
   "cell_type": "markdown",
   "metadata": {},
   "source": [
    "Вывод: между парметрами есть зависимость, но не сильная, слабее, чем у общей площади квартиры (положительная корреляция).При увеличении жилой площади, цена квартиры растет. Однако данная зависимость слабеет с увеличением жилой площади, так как же и в пред. исследовании относительно общей площади квартиры."
   ]
  },
  {
   "cell_type": "code",
   "execution_count": 34,
   "metadata": {},
   "outputs": [
    {
     "data": {
      "text/plain": [
       "0.5145438786080619"
      ]
     },
     "metadata": {},
     "output_type": "display_data"
    },
    {
     "data": {
      "text/plain": [
       "<AxesSubplot:xlabel='kitchen_area', ylabel='last_price'>"
      ]
     },
     "execution_count": 34,
     "metadata": {},
     "output_type": "execute_result"
    },
    {
     "data": {
      "image/png": "[encoded data removed]",
      "text/plain": [
       "<Figure size 1080x504 with 1 Axes>"
      ]
     },
     "metadata": {
      "needs_background": "light"
     },
     "output_type": "display_data"
    }
   ],
   "source": [
    "display(data['last_price'].corr(data['kitchen_area']))\n",
    "data.plot(x='kitchen_area', y='last_price', kind='scatter', grid=True, figsize=(15,7), alpha=0.05)"
   ]
  },
  {
   "cell_type": "markdown",
   "metadata": {},
   "source": [
    "Вывод: зависимость между размером кухни и ценой на квартиру есть, но еще более слабая, чем в двух пред. исследованиях. Корреляция положительная."
   ]
  },
  {
   "cell_type": "code",
   "execution_count": null,
   "metadata": {},
   "outputs": [
    {
     "data": {
      "text/plain": [
       "0.36323430781266447"
      ]
     },
     "metadata": {},
     "output_type": "display_data"
    },
    {
     "data": {
      "text/plain": [
       "<AxesSubplot:xlabel='rooms'>"
      ]
     },
     "execution_count": 35,
     "metadata": {},
     "output_type": "execute_result"
    }
   ],
   "source": [
    "display(data['last_price'].corr(data['rooms']))\n",
    "\n",
    "data.plot(x='rooms', y='last_price', kind='bar', grid=True, figsize=(8,5))\n",
    "\n"
   ]
  },
  {
   "cell_type": "markdown",
   "metadata": {},
   "source": [
    "Вывод: прослеживается очень \n",
    "слабая зависимость, цена увеличивается с увеличением количества комнат до 4, в дальнейшем, цена снижается."
   ]
  },
  {
   "cell_type": "code",
   "execution_count": null,
   "metadata": {},
   "outputs": [],
   "source": [
    "#чтобы понять зависимость между ценой на квартиру и ее распоожением, рассчитаем среднее значение стоимости квартир в каждой категории этажей, что поможет сравнить данные\n",
    "avr_floor_category_price = data.groupby('floor_category')['last_price'].mean()\n",
    "print(avr_floor_category_price)\n",
    "\n",
    "avr_floor_category_price.plot(x=avr_floor_category_price.index, y='last_price', kind='bar', grid=True, figsize=(8,5))"
   ]
  },
  {
   "cell_type": "markdown",
   "metadata": {},
   "source": [
    "Вывод: из столбчатой биаграммы видно, что в среднем цена на квартиры на первом этаже ниже, чем цена на квартиры на последним и других этажах. Из этих данных можно сказать, что зависимость есть."
   ]
  },
  {
   "cell_type": "code",
   "execution_count": null,
   "metadata": {},
   "outputs": [],
   "source": [
    "display(data['last_price'].corr(data['day_exposition']))\n",
    "data.plot(x='day_exposition', y='last_price', kind='bar', grid=True, figsize=(15,7))\n"
   ]
  },
  {
   "cell_type": "markdown",
   "metadata": {},
   "source": [
    "Вывыд: зависимость между ценой продажи и датой публикации не прослеживается, об этом говорит и отрицательный коэффициент корреляции = -0.016."
   ]
  },
  {
   "cell_type": "code",
   "execution_count": null,
   "metadata": {},
   "outputs": [],
   "source": [
    "display(data['last_price'].corr(data['month_exposition']))\n",
    "data.plot(x='month_exposition', y='last_price', kind='bar', grid=True, figsize=(15,7))"
   ]
  },
  {
   "cell_type": "markdown",
   "metadata": {},
   "source": [
    "Вывод: зависимость между параметрами отсутвует, об этом свидетельствует коэффециент корреляции близкий к значению 0, по диаграмме рассеивания все точки расположены хаотично."
   ]
  },
  {
   "cell_type": "code",
   "execution_count": null,
   "metadata": {},
   "outputs": [],
   "source": [
    "display(data['last_price'].corr(data['year_exposition']))\n",
    "data.plot(x='year_exposition', y='last_price', kind='bar', grid=True, figsize=(15,7))"
   ]
  },
  {
   "cell_type": "markdown",
   "metadata": {},
   "source": [
    "<div class=\"alert alert-warning\">\n",
    "<h2> Комментарий ревьюера V1<a class=\"tocSkip\"> </h2>\n",
    "    \n",
    "<b>Некоторые замечания и рекомендации💡:</b> В трех ячейках выше аналогичные комментарии по графикам."
   ]
  },
  {
   "cell_type": "markdown",
   "metadata": {},
   "source": [
    "Вывод: зависимость между годом публикации и стоимость квартиры отсутвует."
   ]
  },
  {
   "cell_type": "code",
   "execution_count": null,
   "metadata": {},
   "outputs": [],
   "source": [
    "locality_sort = data['locality_name'].value_counts().sort_values(ascending=False).head(10) # запишем в переменную 10 локаций с наибольшим количество объявлений\n",
    "\n",
    "#на онове среза сделаем сводную таблицу медианных значений зависимости цены от локации, отсортируем ее по возрастанию , чтобы определить самуюнизкую и самую высокую стоимость кв. м. и построим график на основе данных.\n",
    "\n",
    "data.query('locality_name in @locality_sort.index').pivot_table(index ='locality_name', values = 'last_price', aggfunc ='median').sort_values('last_price').plot(kind = 'bar')"
   ]
  },
  {
   "cell_type": "markdown",
   "metadata": {},
   "source": [
    "Вывод: из перречня 10 самых публикуемых локаций получилось, что стоимость недвижимости выше всего в Санкт_Петербурге, а самая низкая стоимость за кв. м. в Гатчине."
   ]
  },
  {
   "cell_type": "code",
   "execution_count": null,
   "metadata": {},
   "outputs": [],
   "source": [
    "print(data['distance_to_center'].isna().sum())\n",
    "\n",
    "data['price_per_km'] = data['last_price']/data['distance_to_center']\n",
    "#print(data['price_per_km'])\n",
    "\n",
    "piter = data.loc[data['locality_name']=='cанкт-петербург',['last_price', 'cityCenters_nearest']].reset_index(drop = True)\n",
    "display(data['locality_name'])\n",
    "\n",
    "\n",
    "data.query('locality_name == \"санкт-петербург\"').pivot_table(index = 'distance_to_center', values = 'price_per_km', aggfunc = 'mean').sort_values(by ='distance_to_center').plot(kind = 'bar', figsize = (10,5))\n",
    "\n",
    "display(data['distance_to_center'].corr(data['price_per_metr']))\n",
    "data.query('locality_name == \"санкт-петербург\"').pivot_table(index = 'distance_to_center', values = 'last_price').reset_index().plot(x = 'distance_to_center', y = 'last_price',kind = 'scatter', grid = True)"
   ]
  },
  {
   "cell_type": "markdown",
   "metadata": {},
   "source": [
    "Вывод: по графику видно, что в пределах одного километра стоимость недвижимости достигает максимального значения - более 20 млн. руб., однако стоимость сильно снижается, если расстояние до центра города выходит за пределы 1 км. Получается, что, все объекты, которые находятся в радиусе 1 км от центра города можно называть центром города. По диаграмме рассеиввания видно (учитываются два параметра расстояние до центра и стоимость квартиры вцелом) также видно, что есть второй подем стоимости квартир в области 7-8 км до центра. Таким образом, можно сказать, что стоимость жилья в самом уентре города и на расстоянии 7-8 км, что считается близким к центру, является намного выше, чем на расстоянии более 8 км."
   ]
  },
  {
   "cell_type": "markdown",
   "metadata": {},
   "source": [
    "### Общий вывод"
   ]
  },
  {
   "cell_type": "markdown",
   "metadata": {},
   "source": [
    "Общий вывод:\n",
    "- самыми популяпрными для продажи являются квартиры площадью до 100 кв. метров -это 1 и 2 комнатные квартиры, расположенные на 2-4 этажах, при чем самым привлекательным является 2 этаж. Большинство квартир расположено в 5 и 9 этажных домах.В объявлениях представлены в основном квартиры, находящиеся 10-17 км от центра города и практически нет невижимости на расстоянии 60 км от центра.\n",
    "- стоимость квартир зависит от площади, но такая связь в основм характера для квартир с площадью до 80 кв.метров(1-2 комнатные квартиры), далее зависимость слабеет. Есть зависимость цены квартир от этажности. Квартиры, расположенные на первом этаже дешевле. Зависимости цены от дня, месяца и года публикации не выявлено.Также есть зависимость между площадью кухни  и стоимостью квартиры , но не сильная, это ожидаемо, так как вцелом есть зависимость между площадью квартиры и ее ценой.\n",
    "- рассматриваю локацию недвижимости, можно отметить, что среди самых догогих квартир в перечене являются квартиры. Таким образом, из параметров, которые были отобраны для исследования,было выявлено, что больше всего на стоимость квартиры влияют:\n",
    "- площадь квартиры;\n",
    "- удаленность от центра города\n",
    "- этаж\n",
    "\n",
    "- расположенные в Санкт-Петербурге, самые дешевые из списка 10 самых часто встречаемых обявлений по локациям, является недвижимость в Гатчине. Удаленность от центра также сильно влияет на стоимость недвижимости. Самые дорогие квартиры, расположены в центре города. Есть еще одна граница, она находится в районе 7-8 км от самого центра, после которой следует сильное падение цены  и после начинает убывать постепенно. Это и есть центральная зона (в радиусе 7-8 км от центра). "
   ]
  }
 ],
 "metadata": {
  "ExecuteTimeLog": [
   {
    "duration": 391,
    "start_time": "2022-11-20T19:39:01.586Z"
   },
   {
    "duration": 2,
    "start_time": "2022-11-20T19:42:35.429Z"
   },
   {
    "duration": 67,
    "start_time": "2022-11-20T19:48:33.564Z"
   },
   {
    "duration": 308,
    "start_time": "2022-11-20T19:48:39.227Z"
   },
   {
    "duration": 10,
    "start_time": "2022-11-20T19:48:40.762Z"
   },
   {
    "duration": 17,
    "start_time": "2022-11-20T19:48:54.898Z"
   },
   {
    "duration": 9,
    "start_time": "2022-11-20T19:49:21.701Z"
   },
   {
    "duration": 102,
    "start_time": "2022-11-20T19:52:22.442Z"
   },
   {
    "duration": 48,
    "start_time": "2022-11-20T19:52:23.893Z"
   },
   {
    "duration": 66,
    "start_time": "2022-11-20T19:58:41.418Z"
   },
   {
    "duration": 2782,
    "start_time": "2022-11-20T20:01:09.104Z"
   },
   {
    "duration": 2212,
    "start_time": "2022-11-20T20:02:02.885Z"
   },
   {
    "duration": 51,
    "start_time": "2022-11-20T20:02:11.679Z"
   },
   {
    "duration": 1255,
    "start_time": "2022-11-20T20:03:45.999Z"
   },
   {
    "duration": 2034,
    "start_time": "2022-11-20T20:04:09.494Z"
   },
   {
    "duration": 57,
    "start_time": "2022-11-20T20:22:51.210Z"
   },
   {
    "duration": 10,
    "start_time": "2022-11-20T20:22:56.416Z"
   },
   {
    "duration": 20,
    "start_time": "2022-11-20T20:43:44.005Z"
   },
   {
    "duration": 704,
    "start_time": "2022-11-20T20:43:51.167Z"
   },
   {
    "duration": 4,
    "start_time": "2022-11-20T20:45:21.555Z"
   },
   {
    "duration": 5,
    "start_time": "2022-11-20T20:45:25.047Z"
   },
   {
    "duration": 13,
    "start_time": "2022-11-20T20:47:29.049Z"
   },
   {
    "duration": 8,
    "start_time": "2022-11-20T20:47:47.891Z"
   },
   {
    "duration": 6,
    "start_time": "2022-11-20T20:55:07.649Z"
   },
   {
    "duration": 387,
    "start_time": "2022-11-21T10:31:44.500Z"
   },
   {
    "duration": 743,
    "start_time": "2022-11-21T10:31:47.425Z"
   },
   {
    "duration": 73,
    "start_time": "2022-11-21T10:33:25.917Z"
   },
   {
    "duration": 77,
    "start_time": "2022-11-21T10:34:09.692Z"
   },
   {
    "duration": 64,
    "start_time": "2022-11-21T10:34:22.759Z"
   },
   {
    "duration": 61,
    "start_time": "2022-11-21T10:35:02.316Z"
   },
   {
    "duration": 62,
    "start_time": "2022-11-21T10:35:33.863Z"
   },
   {
    "duration": 122,
    "start_time": "2022-11-21T10:35:57.389Z"
   },
   {
    "duration": 66,
    "start_time": "2022-11-21T10:37:03.781Z"
   },
   {
    "duration": 141,
    "start_time": "2022-11-21T10:37:14.214Z"
   },
   {
    "duration": 2416,
    "start_time": "2022-11-21T10:37:45.470Z"
   },
   {
    "duration": 48,
    "start_time": "2022-11-21T10:37:48.098Z"
   },
   {
    "duration": 66,
    "start_time": "2022-11-21T10:38:14.814Z"
   },
   {
    "duration": 170,
    "start_time": "2022-11-21T10:41:10.330Z"
   },
   {
    "duration": 74,
    "start_time": "2022-11-21T10:45:09.824Z"
   },
   {
    "duration": 133,
    "start_time": "2022-11-21T10:46:02.369Z"
   },
   {
    "duration": 160,
    "start_time": "2022-11-21T10:54:09.617Z"
   },
   {
    "duration": 13,
    "start_time": "2022-11-21T10:57:01.504Z"
   },
   {
    "duration": 8,
    "start_time": "2022-11-21T10:57:17.723Z"
   },
   {
    "duration": 7,
    "start_time": "2022-11-21T10:57:30.350Z"
   },
   {
    "duration": 6,
    "start_time": "2022-11-21T10:57:45.119Z"
   },
   {
    "duration": 12,
    "start_time": "2022-11-21T10:57:59.275Z"
   },
   {
    "duration": 216,
    "start_time": "2022-11-21T10:58:48.914Z"
   },
   {
    "duration": 279,
    "start_time": "2022-11-21T10:59:01.191Z"
   },
   {
    "duration": 209,
    "start_time": "2022-11-21T10:59:32.469Z"
   },
   {
    "duration": 212,
    "start_time": "2022-11-21T10:59:49.443Z"
   },
   {
    "duration": 4,
    "start_time": "2022-11-21T11:00:47.089Z"
   },
   {
    "duration": 838,
    "start_time": "2022-11-21T11:02:55.107Z"
   },
   {
    "duration": 870,
    "start_time": "2022-11-21T11:03:16.324Z"
   },
   {
    "duration": 213,
    "start_time": "2022-11-21T11:03:27.023Z"
   },
   {
    "duration": 4,
    "start_time": "2022-11-21T11:03:52.394Z"
   },
   {
    "duration": 295,
    "start_time": "2022-11-21T11:04:02.815Z"
   },
   {
    "duration": 191,
    "start_time": "2022-11-21T11:06:31.174Z"
   },
   {
    "duration": 8,
    "start_time": "2022-11-21T11:19:41.588Z"
   },
   {
    "duration": 865,
    "start_time": "2022-11-21T12:01:21.112Z"
   },
   {
    "duration": 26,
    "start_time": "2022-11-21T12:01:42.463Z"
   },
   {
    "duration": 41,
    "start_time": "2022-11-21T12:01:54.884Z"
   },
   {
    "duration": 23,
    "start_time": "2022-11-21T12:02:22.966Z"
   },
   {
    "duration": 18,
    "start_time": "2022-11-21T12:02:54.875Z"
   },
   {
    "duration": 3,
    "start_time": "2022-11-21T12:03:30.567Z"
   },
   {
    "duration": 110,
    "start_time": "2022-11-21T12:03:30.573Z"
   },
   {
    "duration": 174,
    "start_time": "2022-11-21T12:03:30.685Z"
   },
   {
    "duration": 2144,
    "start_time": "2022-11-21T12:03:30.861Z"
   },
   {
    "duration": 11,
    "start_time": "2022-11-21T12:03:33.007Z"
   },
   {
    "duration": 43,
    "start_time": "2022-11-21T12:03:33.020Z"
   },
   {
    "duration": 19,
    "start_time": "2022-11-21T12:04:10.925Z"
   },
   {
    "duration": 18,
    "start_time": "2022-11-21T12:05:14.656Z"
   },
   {
    "duration": 9,
    "start_time": "2022-11-21T12:07:07.713Z"
   },
   {
    "duration": 26,
    "start_time": "2022-11-21T12:08:42.030Z"
   },
   {
    "duration": 27,
    "start_time": "2022-11-21T12:08:48.557Z"
   },
   {
    "duration": 18,
    "start_time": "2022-11-21T12:14:29.369Z"
   },
   {
    "duration": 27,
    "start_time": "2022-11-21T12:16:19.970Z"
   },
   {
    "duration": 29,
    "start_time": "2022-11-21T12:16:28.646Z"
   },
   {
    "duration": 30,
    "start_time": "2022-11-21T12:16:41.226Z"
   },
   {
    "duration": 19,
    "start_time": "2022-11-21T12:43:15.227Z"
   },
   {
    "duration": 17,
    "start_time": "2022-11-21T12:43:35.224Z"
   },
   {
    "duration": 7,
    "start_time": "2022-11-21T12:43:46.196Z"
   },
   {
    "duration": 16,
    "start_time": "2022-11-21T12:44:01.096Z"
   },
   {
    "duration": 95,
    "start_time": "2022-11-21T12:44:05.858Z"
   },
   {
    "duration": 2199,
    "start_time": "2022-11-21T12:44:12.576Z"
   },
   {
    "duration": 10,
    "start_time": "2022-11-21T12:44:18.389Z"
   },
   {
    "duration": 10,
    "start_time": "2022-11-21T12:44:29.227Z"
   },
   {
    "duration": 31,
    "start_time": "2022-11-21T12:44:32.264Z"
   },
   {
    "duration": 30,
    "start_time": "2022-11-21T12:55:05.411Z"
   },
   {
    "duration": 33,
    "start_time": "2022-11-21T12:55:33.162Z"
   },
   {
    "duration": 31,
    "start_time": "2022-11-21T13:01:49.439Z"
   },
   {
    "duration": 23,
    "start_time": "2022-11-21T13:02:46.999Z"
   },
   {
    "duration": 17,
    "start_time": "2022-11-21T13:03:09.060Z"
   },
   {
    "duration": 64,
    "start_time": "2022-11-21T13:04:10.870Z"
   },
   {
    "duration": 58,
    "start_time": "2022-11-21T13:04:19.378Z"
   },
   {
    "duration": 19,
    "start_time": "2022-11-21T13:04:49.735Z"
   },
   {
    "duration": 3,
    "start_time": "2022-11-21T13:05:08.559Z"
   },
   {
    "duration": 100,
    "start_time": "2022-11-21T13:05:10.401Z"
   },
   {
    "duration": 152,
    "start_time": "2022-11-21T13:05:11.683Z"
   },
   {
    "duration": 2131,
    "start_time": "2022-11-21T13:05:12.945Z"
   },
   {
    "duration": 11,
    "start_time": "2022-11-21T13:05:19.167Z"
   },
   {
    "duration": 166,
    "start_time": "2022-11-21T13:05:49.785Z"
   },
   {
    "duration": 3,
    "start_time": "2022-11-21T13:05:58.834Z"
   },
   {
    "duration": 104,
    "start_time": "2022-11-21T13:05:58.838Z"
   },
   {
    "duration": 163,
    "start_time": "2022-11-21T13:05:58.944Z"
   },
   {
    "duration": 2012,
    "start_time": "2022-11-21T13:05:59.109Z"
   },
   {
    "duration": 9,
    "start_time": "2022-11-21T13:06:01.123Z"
   },
   {
    "duration": 66,
    "start_time": "2022-11-21T13:06:01.134Z"
   },
   {
    "duration": 32,
    "start_time": "2022-11-21T13:06:08.035Z"
   },
   {
    "duration": 152,
    "start_time": "2022-11-21T13:06:29.606Z"
   },
   {
    "duration": 152,
    "start_time": "2022-11-21T13:06:49.631Z"
   },
   {
    "duration": 63,
    "start_time": "2022-11-21T13:15:35.021Z"
   },
   {
    "duration": 63,
    "start_time": "2022-11-21T13:16:28.867Z"
   },
   {
    "duration": 71,
    "start_time": "2022-11-21T13:17:01.423Z"
   },
   {
    "duration": 27,
    "start_time": "2022-11-21T13:17:38.202Z"
   },
   {
    "duration": 27,
    "start_time": "2022-11-21T13:18:50.425Z"
   },
   {
    "duration": 33,
    "start_time": "2022-11-21T13:19:05.327Z"
   },
   {
    "duration": 1395,
    "start_time": "2022-11-21T14:06:29.552Z"
   },
   {
    "duration": 15,
    "start_time": "2022-11-21T14:06:51.286Z"
   },
   {
    "duration": 22,
    "start_time": "2022-11-21T14:07:14.932Z"
   },
   {
    "duration": 8,
    "start_time": "2022-11-21T14:07:38.099Z"
   },
   {
    "duration": 5,
    "start_time": "2022-11-21T14:07:50.334Z"
   },
   {
    "duration": 25,
    "start_time": "2022-11-21T14:08:17.046Z"
   },
   {
    "duration": 80,
    "start_time": "2022-11-21T14:43:43.022Z"
   },
   {
    "duration": 143,
    "start_time": "2022-11-21T14:44:25.728Z"
   },
   {
    "duration": 47,
    "start_time": "2022-11-21T19:32:51.887Z"
   },
   {
    "duration": 7,
    "start_time": "2022-11-21T19:33:02.867Z"
   },
   {
    "duration": 6,
    "start_time": "2022-11-21T19:33:24.431Z"
   },
   {
    "duration": 341,
    "start_time": "2022-11-21T19:33:33.135Z"
   },
   {
    "duration": 311,
    "start_time": "2022-11-21T19:33:34.529Z"
   },
   {
    "duration": 164,
    "start_time": "2022-11-21T19:33:37.276Z"
   },
   {
    "duration": 33,
    "start_time": "2022-11-21T19:36:47.762Z"
   },
   {
    "duration": 32,
    "start_time": "2022-11-21T19:36:52.420Z"
   },
   {
    "duration": 9,
    "start_time": "2022-11-21T19:36:59.903Z"
   },
   {
    "duration": 25,
    "start_time": "2022-11-21T19:37:03.308Z"
   },
   {
    "duration": 21,
    "start_time": "2022-11-21T19:37:23.994Z"
   },
   {
    "duration": 21,
    "start_time": "2022-11-21T19:37:41.084Z"
   },
   {
    "duration": 22,
    "start_time": "2022-11-21T19:38:19.969Z"
   },
   {
    "duration": 21,
    "start_time": "2022-11-21T19:38:46.723Z"
   },
   {
    "duration": 2,
    "start_time": "2022-11-21T19:39:03.318Z"
   },
   {
    "duration": 84,
    "start_time": "2022-11-21T19:39:04.444Z"
   },
   {
    "duration": 122,
    "start_time": "2022-11-21T19:39:11.005Z"
   },
   {
    "duration": 2261,
    "start_time": "2022-11-21T19:39:13.504Z"
   },
   {
    "duration": 11,
    "start_time": "2022-11-21T19:39:25.045Z"
   },
   {
    "duration": 42,
    "start_time": "2022-11-21T19:39:34.943Z"
   },
   {
    "duration": 25,
    "start_time": "2022-11-21T19:39:55.937Z"
   },
   {
    "duration": 6,
    "start_time": "2022-11-21T19:49:53.031Z"
   },
   {
    "duration": 48,
    "start_time": "2022-11-21T20:01:26.583Z"
   },
   {
    "duration": 74,
    "start_time": "2022-11-21T20:01:29.606Z"
   },
   {
    "duration": 10,
    "start_time": "2022-11-21T20:01:46.732Z"
   },
   {
    "duration": 9,
    "start_time": "2022-11-21T20:01:49.357Z"
   },
   {
    "duration": 24,
    "start_time": "2022-11-21T20:02:41.153Z"
   },
   {
    "duration": 21,
    "start_time": "2022-11-21T20:03:39.709Z"
   },
   {
    "duration": 22,
    "start_time": "2022-11-21T20:05:55.353Z"
   },
   {
    "duration": 5,
    "start_time": "2022-11-21T20:19:58.264Z"
   },
   {
    "duration": 9,
    "start_time": "2022-11-21T20:20:42.571Z"
   },
   {
    "duration": 7,
    "start_time": "2022-11-21T20:20:57.114Z"
   },
   {
    "duration": 24,
    "start_time": "2022-11-21T20:28:31.497Z"
   },
   {
    "duration": 24,
    "start_time": "2022-11-21T20:28:57.756Z"
   },
   {
    "duration": 23,
    "start_time": "2022-11-21T20:29:44.197Z"
   },
   {
    "duration": 26,
    "start_time": "2022-11-21T20:29:55.444Z"
   },
   {
    "duration": 24,
    "start_time": "2022-11-21T20:30:14.653Z"
   },
   {
    "duration": 5,
    "start_time": "2022-11-21T23:08:42.528Z"
   },
   {
    "duration": 6,
    "start_time": "2022-11-21T23:09:11.610Z"
   },
   {
    "duration": 6,
    "start_time": "2022-11-21T23:09:14.477Z"
   },
   {
    "duration": 59,
    "start_time": "2022-11-21T23:09:21.953Z"
   },
   {
    "duration": 1476,
    "start_time": "2022-11-21T23:09:22.772Z"
   },
   {
    "duration": 7,
    "start_time": "2022-11-21T23:09:33.012Z"
   },
   {
    "duration": 14,
    "start_time": "2022-11-21T23:09:34.549Z"
   },
   {
    "duration": 9,
    "start_time": "2022-11-21T23:09:39.668Z"
   },
   {
    "duration": 14,
    "start_time": "2022-11-21T23:09:50.525Z"
   },
   {
    "duration": 3,
    "start_time": "2022-11-21T23:10:39.471Z"
   },
   {
    "duration": 82,
    "start_time": "2022-11-21T23:10:40.084Z"
   },
   {
    "duration": 128,
    "start_time": "2022-11-21T23:10:41.517Z"
   },
   {
    "duration": 1735,
    "start_time": "2022-11-21T23:10:42.418Z"
   },
   {
    "duration": 9,
    "start_time": "2022-11-21T23:10:47.673Z"
   },
   {
    "duration": 24,
    "start_time": "2022-11-21T23:10:50.122Z"
   },
   {
    "duration": 700,
    "start_time": "2022-11-21T23:12:40.000Z"
   },
   {
    "duration": 26,
    "start_time": "2022-11-21T23:12:58.839Z"
   },
   {
    "duration": 24,
    "start_time": "2022-11-21T23:13:18.917Z"
   },
   {
    "duration": 23,
    "start_time": "2022-11-21T23:14:15.643Z"
   },
   {
    "duration": 11,
    "start_time": "2022-11-21T23:14:16.664Z"
   },
   {
    "duration": 12,
    "start_time": "2022-11-21T23:14:24.649Z"
   },
   {
    "duration": 23,
    "start_time": "2022-11-21T23:14:31.646Z"
   },
   {
    "duration": 1310,
    "start_time": "2022-11-21T23:28:57.533Z"
   },
   {
    "duration": 137,
    "start_time": "2022-11-21T23:29:46.154Z"
   },
   {
    "duration": 45,
    "start_time": "2022-11-21T23:37:35.032Z"
   },
   {
    "duration": 8,
    "start_time": "2022-11-21T23:38:26.523Z"
   },
   {
    "duration": 39,
    "start_time": "2022-11-21T23:38:55.840Z"
   },
   {
    "duration": 682,
    "start_time": "2022-11-21T23:41:37.532Z"
   },
   {
    "duration": 7,
    "start_time": "2022-11-21T23:41:51.765Z"
   },
   {
    "duration": 5,
    "start_time": "2022-11-21T23:41:54.735Z"
   },
   {
    "duration": 6,
    "start_time": "2022-11-21T23:42:19.618Z"
   },
   {
    "duration": 10,
    "start_time": "2022-11-21T23:42:50.339Z"
   },
   {
    "duration": 16,
    "start_time": "2022-11-21T23:43:57.207Z"
   },
   {
    "duration": 3,
    "start_time": "2022-11-21T23:44:37.553Z"
   },
   {
    "duration": 82,
    "start_time": "2022-11-21T23:44:38.160Z"
   },
   {
    "duration": 125,
    "start_time": "2022-11-21T23:44:38.744Z"
   },
   {
    "duration": 1813,
    "start_time": "2022-11-21T23:44:39.374Z"
   },
   {
    "duration": 8,
    "start_time": "2022-11-21T23:44:42.508Z"
   },
   {
    "duration": 31,
    "start_time": "2022-11-21T23:44:43.485Z"
   },
   {
    "duration": 11,
    "start_time": "2022-11-21T23:44:44.920Z"
   },
   {
    "duration": 126,
    "start_time": "2022-11-21T23:45:19.308Z"
   },
   {
    "duration": 15,
    "start_time": "2022-11-21T23:45:25.633Z"
   },
   {
    "duration": 5,
    "start_time": "2022-11-21T23:45:55.067Z"
   },
   {
    "duration": 5,
    "start_time": "2022-11-21T23:45:57.836Z"
   },
   {
    "duration": 9,
    "start_time": "2022-11-21T23:46:08.484Z"
   },
   {
    "duration": 9,
    "start_time": "2022-11-21T23:46:22.912Z"
   },
   {
    "duration": 8,
    "start_time": "2022-11-21T23:46:26.589Z"
   },
   {
    "duration": 10,
    "start_time": "2022-11-21T23:46:30.135Z"
   },
   {
    "duration": 7,
    "start_time": "2022-11-21T23:46:31.297Z"
   },
   {
    "duration": 3,
    "start_time": "2022-11-21T23:46:38.377Z"
   },
   {
    "duration": 112,
    "start_time": "2022-11-21T23:46:38.382Z"
   },
   {
    "duration": 138,
    "start_time": "2022-11-21T23:46:38.496Z"
   },
   {
    "duration": 1735,
    "start_time": "2022-11-21T23:46:38.636Z"
   },
   {
    "duration": 9,
    "start_time": "2022-11-21T23:46:40.376Z"
   },
   {
    "duration": 33,
    "start_time": "2022-11-21T23:46:40.388Z"
   },
   {
    "duration": 34,
    "start_time": "2022-11-21T23:46:40.423Z"
   },
   {
    "duration": 0,
    "start_time": "2022-11-21T23:46:40.459Z"
   },
   {
    "duration": 0,
    "start_time": "2022-11-21T23:46:40.460Z"
   },
   {
    "duration": 23,
    "start_time": "2022-11-21T23:46:49.775Z"
   },
   {
    "duration": 42,
    "start_time": "2022-11-21T23:47:14.398Z"
   },
   {
    "duration": 649,
    "start_time": "2022-11-21T23:48:13.898Z"
   },
   {
    "duration": 662,
    "start_time": "2022-11-21T23:48:16.476Z"
   },
   {
    "duration": 5,
    "start_time": "2022-11-21T23:48:24.450Z"
   },
   {
    "duration": 5,
    "start_time": "2022-11-21T23:48:26.641Z"
   },
   {
    "duration": 26,
    "start_time": "2022-11-21T23:48:34.492Z"
   },
   {
    "duration": 21,
    "start_time": "2022-11-21T23:49:43.643Z"
   },
   {
    "duration": 15,
    "start_time": "2022-11-21T23:50:21.004Z"
   },
   {
    "duration": 12,
    "start_time": "2022-11-21T23:50:34.960Z"
   },
   {
    "duration": 11,
    "start_time": "2022-11-21T23:50:44.641Z"
   },
   {
    "duration": 22,
    "start_time": "2022-11-21T23:51:06.413Z"
   },
   {
    "duration": 60,
    "start_time": "2022-11-22T09:21:21.710Z"
   },
   {
    "duration": 404,
    "start_time": "2022-11-22T09:21:27.931Z"
   },
   {
    "duration": 139,
    "start_time": "2022-11-22T09:21:28.535Z"
   },
   {
    "duration": 154,
    "start_time": "2022-11-22T09:21:28.922Z"
   },
   {
    "duration": 2317,
    "start_time": "2022-11-22T09:21:29.334Z"
   },
   {
    "duration": 11,
    "start_time": "2022-11-22T09:21:31.654Z"
   },
   {
    "duration": 42,
    "start_time": "2022-11-22T09:21:32.180Z"
   },
   {
    "duration": 15,
    "start_time": "2022-11-22T09:21:47.930Z"
   },
   {
    "duration": 140,
    "start_time": "2022-11-22T09:21:53.339Z"
   },
   {
    "duration": 39,
    "start_time": "2022-11-22T09:22:35.035Z"
   },
   {
    "duration": 13,
    "start_time": "2022-11-22T09:22:49.125Z"
   },
   {
    "duration": 155,
    "start_time": "2022-11-22T09:23:06.945Z"
   },
   {
    "duration": 10,
    "start_time": "2022-11-22T09:23:12.302Z"
   },
   {
    "duration": 11,
    "start_time": "2022-11-22T09:23:14.347Z"
   },
   {
    "duration": 24,
    "start_time": "2022-11-22T09:23:33.321Z"
   },
   {
    "duration": 26,
    "start_time": "2022-11-22T09:24:15.444Z"
   },
   {
    "duration": 23,
    "start_time": "2022-11-22T09:25:13.629Z"
   },
   {
    "duration": 22,
    "start_time": "2022-11-22T09:32:24.440Z"
   },
   {
    "duration": 2688,
    "start_time": "2022-11-22T09:35:24.735Z"
   },
   {
    "duration": 21,
    "start_time": "2022-11-22T09:35:36.268Z"
   },
   {
    "duration": 8,
    "start_time": "2022-11-22T09:36:12.749Z"
   },
   {
    "duration": 7,
    "start_time": "2022-11-22T09:37:21.044Z"
   },
   {
    "duration": 6,
    "start_time": "2022-11-22T09:38:06.568Z"
   },
   {
    "duration": 6,
    "start_time": "2022-11-22T09:38:10.044Z"
   },
   {
    "duration": 10,
    "start_time": "2022-11-22T09:38:29.306Z"
   },
   {
    "duration": 8,
    "start_time": "2022-11-22T09:38:38.738Z"
   },
   {
    "duration": 409,
    "start_time": "2022-11-22T10:49:33.364Z"
   },
   {
    "duration": 205,
    "start_time": "2022-11-22T10:49:33.962Z"
   },
   {
    "duration": 145,
    "start_time": "2022-11-22T10:49:34.608Z"
   },
   {
    "duration": 2592,
    "start_time": "2022-11-22T10:49:35.512Z"
   },
   {
    "duration": 14,
    "start_time": "2022-11-22T10:49:40.547Z"
   },
   {
    "duration": 61,
    "start_time": "2022-11-22T10:49:40.563Z"
   },
   {
    "duration": 109,
    "start_time": "2022-11-22T10:49:45.611Z"
   },
   {
    "duration": 35,
    "start_time": "2022-11-22T10:50:27.368Z"
   },
   {
    "duration": 16,
    "start_time": "2022-11-22T10:50:43.225Z"
   },
   {
    "duration": 12,
    "start_time": "2022-11-22T10:50:49.609Z"
   },
   {
    "duration": 15,
    "start_time": "2022-11-22T10:52:12.649Z"
   },
   {
    "duration": 33,
    "start_time": "2022-11-22T10:53:07.271Z"
   },
   {
    "duration": 28,
    "start_time": "2022-11-22T10:53:14.467Z"
   },
   {
    "duration": 21,
    "start_time": "2022-11-22T10:53:27.983Z"
   },
   {
    "duration": 24,
    "start_time": "2022-11-22T10:54:46.826Z"
   },
   {
    "duration": 44,
    "start_time": "2022-11-22T10:55:02.588Z"
   },
   {
    "duration": 17,
    "start_time": "2022-11-22T10:58:31.369Z"
   },
   {
    "duration": 19,
    "start_time": "2022-11-22T10:58:48.899Z"
   },
   {
    "duration": 17,
    "start_time": "2022-11-22T10:59:39.039Z"
   },
   {
    "duration": 24,
    "start_time": "2022-11-22T10:59:58.437Z"
   },
   {
    "duration": 18,
    "start_time": "2022-11-22T11:01:07.611Z"
   },
   {
    "duration": 6,
    "start_time": "2022-11-22T11:01:19.162Z"
   },
   {
    "duration": 5,
    "start_time": "2022-11-22T11:01:21.463Z"
   },
   {
    "duration": 2,
    "start_time": "2022-11-22T11:01:25.612Z"
   },
   {
    "duration": 128,
    "start_time": "2022-11-22T11:01:25.616Z"
   },
   {
    "duration": 175,
    "start_time": "2022-11-22T11:01:25.746Z"
   },
   {
    "duration": 2144,
    "start_time": "2022-11-22T11:01:25.922Z"
   },
   {
    "duration": 17,
    "start_time": "2022-11-22T11:01:28.067Z"
   },
   {
    "duration": 53,
    "start_time": "2022-11-22T11:01:28.094Z"
   },
   {
    "duration": 16,
    "start_time": "2022-11-22T11:01:28.149Z"
   },
   {
    "duration": 0,
    "start_time": "2022-11-22T11:01:28.166Z"
   },
   {
    "duration": 0,
    "start_time": "2022-11-22T11:01:28.167Z"
   },
   {
    "duration": 88,
    "start_time": "2022-11-22T11:02:15.366Z"
   },
   {
    "duration": 15,
    "start_time": "2022-11-22T11:02:22.511Z"
   },
   {
    "duration": 5,
    "start_time": "2022-11-22T11:06:41.180Z"
   },
   {
    "duration": 5,
    "start_time": "2022-11-22T11:06:43.057Z"
   },
   {
    "duration": 32,
    "start_time": "2022-11-22T11:06:50.362Z"
   },
   {
    "duration": 13,
    "start_time": "2022-11-22T11:16:34.675Z"
   },
   {
    "duration": 8,
    "start_time": "2022-11-22T11:16:40.717Z"
   },
   {
    "duration": 6,
    "start_time": "2022-11-22T11:16:43.263Z"
   },
   {
    "duration": 10,
    "start_time": "2022-11-22T11:17:09.981Z"
   },
   {
    "duration": 10,
    "start_time": "2022-11-22T11:17:20.737Z"
   },
   {
    "duration": 19,
    "start_time": "2022-11-22T11:28:58.109Z"
   },
   {
    "duration": 18,
    "start_time": "2022-11-22T11:31:56.988Z"
   },
   {
    "duration": 31,
    "start_time": "2022-11-22T11:32:32.497Z"
   },
   {
    "duration": 2,
    "start_time": "2022-11-22T11:32:37.352Z"
   },
   {
    "duration": 88,
    "start_time": "2022-11-22T11:32:37.807Z"
   },
   {
    "duration": 172,
    "start_time": "2022-11-22T11:32:38.269Z"
   },
   {
    "duration": 2005,
    "start_time": "2022-11-22T11:32:38.705Z"
   },
   {
    "duration": 9,
    "start_time": "2022-11-22T11:32:40.712Z"
   },
   {
    "duration": 31,
    "start_time": "2022-11-22T11:32:40.758Z"
   },
   {
    "duration": 20,
    "start_time": "2022-11-22T11:32:41.669Z"
   },
   {
    "duration": 146,
    "start_time": "2022-11-22T11:32:46.747Z"
   },
   {
    "duration": 46,
    "start_time": "2022-11-22T11:32:47.945Z"
   },
   {
    "duration": 216,
    "start_time": "2022-11-22T11:34:41.228Z"
   },
   {
    "duration": 239,
    "start_time": "2022-11-22T11:38:31.440Z"
   },
   {
    "duration": 210,
    "start_time": "2022-11-22T11:38:58.929Z"
   },
   {
    "duration": 402,
    "start_time": "2022-11-22T11:40:15.558Z"
   },
   {
    "duration": 290,
    "start_time": "2022-11-22T11:41:25.589Z"
   },
   {
    "duration": 257,
    "start_time": "2022-11-22T11:42:00.112Z"
   },
   {
    "duration": 244,
    "start_time": "2022-11-22T11:42:17.762Z"
   },
   {
    "duration": 256,
    "start_time": "2022-11-22T11:54:35.804Z"
   },
   {
    "duration": 206,
    "start_time": "2022-11-22T11:55:17.519Z"
   },
   {
    "duration": 211,
    "start_time": "2022-11-22T11:55:50.312Z"
   },
   {
    "duration": 384,
    "start_time": "2022-11-22T11:56:26.615Z"
   },
   {
    "duration": 230,
    "start_time": "2022-11-22T12:02:04.487Z"
   },
   {
    "duration": 221,
    "start_time": "2022-11-22T12:09:43.052Z"
   },
   {
    "duration": 228,
    "start_time": "2022-11-22T12:09:57.267Z"
   },
   {
    "duration": 249,
    "start_time": "2022-11-22T12:10:07.719Z"
   },
   {
    "duration": 224,
    "start_time": "2022-11-22T12:10:16.644Z"
   },
   {
    "duration": 301,
    "start_time": "2022-11-22T12:12:23.901Z"
   },
   {
    "duration": 249,
    "start_time": "2022-11-22T12:16:05.580Z"
   },
   {
    "duration": 431,
    "start_time": "2022-11-22T12:16:33.670Z"
   },
   {
    "duration": 205,
    "start_time": "2022-11-22T12:16:47.364Z"
   },
   {
    "duration": 229,
    "start_time": "2022-11-22T12:16:56.628Z"
   },
   {
    "duration": 199,
    "start_time": "2022-11-22T12:17:29.266Z"
   },
   {
    "duration": 207,
    "start_time": "2022-11-22T12:17:47.800Z"
   },
   {
    "duration": 212,
    "start_time": "2022-11-22T12:18:02.145Z"
   },
   {
    "duration": 202,
    "start_time": "2022-11-22T12:19:11.309Z"
   },
   {
    "duration": 209,
    "start_time": "2022-11-22T12:20:25.997Z"
   },
   {
    "duration": 201,
    "start_time": "2022-11-22T12:20:30.894Z"
   },
   {
    "duration": 354,
    "start_time": "2022-11-22T12:20:36.993Z"
   },
   {
    "duration": 14,
    "start_time": "2022-11-22T12:20:59.296Z"
   },
   {
    "duration": 27,
    "start_time": "2022-11-22T12:21:20.287Z"
   },
   {
    "duration": 25,
    "start_time": "2022-11-22T12:21:32.849Z"
   },
   {
    "duration": 16,
    "start_time": "2022-11-22T12:21:53.513Z"
   },
   {
    "duration": 19,
    "start_time": "2022-11-22T12:22:02.050Z"
   },
   {
    "duration": 9,
    "start_time": "2022-11-22T12:22:25.628Z"
   },
   {
    "duration": 15,
    "start_time": "2022-11-22T12:22:32.625Z"
   },
   {
    "duration": 22,
    "start_time": "2022-11-22T12:22:42.384Z"
   },
   {
    "duration": 3,
    "start_time": "2022-11-22T12:22:51.651Z"
   },
   {
    "duration": 100,
    "start_time": "2022-11-22T12:22:52.117Z"
   },
   {
    "duration": 168,
    "start_time": "2022-11-22T12:22:52.545Z"
   },
   {
    "duration": 2161,
    "start_time": "2022-11-22T12:22:52.922Z"
   },
   {
    "duration": 12,
    "start_time": "2022-11-22T12:22:55.085Z"
   },
   {
    "duration": 208,
    "start_time": "2022-11-22T12:22:55.099Z"
   },
   {
    "duration": 14,
    "start_time": "2022-11-22T12:22:55.856Z"
   },
   {
    "duration": 154,
    "start_time": "2022-11-22T12:22:58.715Z"
   },
   {
    "duration": 47,
    "start_time": "2022-11-22T12:23:00.640Z"
   },
   {
    "duration": 220,
    "start_time": "2022-11-22T12:23:12.384Z"
   },
   {
    "duration": 234,
    "start_time": "2022-11-22T12:23:53.336Z"
   },
   {
    "duration": 279,
    "start_time": "2022-11-22T12:24:11.271Z"
   },
   {
    "duration": 254,
    "start_time": "2022-11-22T12:24:27.736Z"
   },
   {
    "duration": 244,
    "start_time": "2022-11-22T12:25:06.834Z"
   },
   {
    "duration": 274,
    "start_time": "2022-11-22T12:25:25.697Z"
   },
   {
    "duration": 12,
    "start_time": "2022-11-22T12:28:00.432Z"
   },
   {
    "duration": 13,
    "start_time": "2022-11-22T12:28:27.129Z"
   },
   {
    "duration": 212,
    "start_time": "2022-11-22T12:29:09.647Z"
   },
   {
    "duration": 212,
    "start_time": "2022-11-22T12:29:22.420Z"
   },
   {
    "duration": 196,
    "start_time": "2022-11-22T12:29:29.491Z"
   },
   {
    "duration": 264,
    "start_time": "2022-11-22T12:29:58.864Z"
   },
   {
    "duration": 475,
    "start_time": "2022-11-22T12:30:20.213Z"
   },
   {
    "duration": 247,
    "start_time": "2022-11-22T12:34:29.547Z"
   },
   {
    "duration": 260,
    "start_time": "2022-11-22T12:36:38.286Z"
   },
   {
    "duration": 276,
    "start_time": "2022-11-22T12:37:32.237Z"
   },
   {
    "duration": 276,
    "start_time": "2022-11-22T12:37:48.732Z"
   },
   {
    "duration": 302,
    "start_time": "2022-11-22T12:38:06.149Z"
   },
   {
    "duration": 14,
    "start_time": "2022-11-22T13:21:57.477Z"
   },
   {
    "duration": 11,
    "start_time": "2022-11-22T13:22:23.502Z"
   },
   {
    "duration": 15,
    "start_time": "2022-11-22T13:23:26.777Z"
   },
   {
    "duration": 13,
    "start_time": "2022-11-22T13:23:37.077Z"
   },
   {
    "duration": 12,
    "start_time": "2022-11-22T13:26:03.801Z"
   },
   {
    "duration": 9,
    "start_time": "2022-11-22T13:32:37.930Z"
   },
   {
    "duration": 27,
    "start_time": "2022-11-22T13:32:45.605Z"
   },
   {
    "duration": 3,
    "start_time": "2022-11-22T13:33:08.285Z"
   },
   {
    "duration": 101,
    "start_time": "2022-11-22T13:33:08.710Z"
   },
   {
    "duration": 146,
    "start_time": "2022-11-22T13:33:09.097Z"
   },
   {
    "duration": 2164,
    "start_time": "2022-11-22T13:33:09.479Z"
   },
   {
    "duration": 10,
    "start_time": "2022-11-22T13:33:11.645Z"
   },
   {
    "duration": 53,
    "start_time": "2022-11-22T13:33:11.657Z"
   },
   {
    "duration": 16,
    "start_time": "2022-11-22T13:33:12.197Z"
   },
   {
    "duration": 211,
    "start_time": "2022-11-22T13:33:14.382Z"
   },
   {
    "duration": 291,
    "start_time": "2022-11-22T13:33:15.696Z"
   },
   {
    "duration": 26,
    "start_time": "2022-11-22T13:33:25.896Z"
   },
   {
    "duration": 28,
    "start_time": "2022-11-22T13:34:20.604Z"
   },
   {
    "duration": 101,
    "start_time": "2022-11-22T13:34:24.384Z"
   },
   {
    "duration": 257,
    "start_time": "2022-11-22T13:34:25.149Z"
   },
   {
    "duration": 1181,
    "start_time": "2022-11-22T13:34:31.300Z"
   },
   {
    "duration": 3709,
    "start_time": "2022-11-22T13:35:04.231Z"
   },
   {
    "duration": 79,
    "start_time": "2022-11-22T13:35:17.763Z"
   },
   {
    "duration": 216,
    "start_time": "2022-11-22T13:36:00.930Z"
   },
   {
    "duration": 180,
    "start_time": "2022-11-22T13:36:33.468Z"
   },
   {
    "duration": 390,
    "start_time": "2022-11-22T13:37:12.730Z"
   },
   {
    "duration": 1480,
    "start_time": "2022-11-22T13:56:18.000Z"
   },
   {
    "duration": 1678,
    "start_time": "2022-11-22T13:56:21.297Z"
   },
   {
    "duration": 193,
    "start_time": "2022-11-22T13:57:10.574Z"
   },
   {
    "duration": 240,
    "start_time": "2022-11-22T13:58:56.278Z"
   },
   {
    "duration": 8,
    "start_time": "2022-11-22T14:21:01.286Z"
   },
   {
    "duration": 33,
    "start_time": "2022-11-22T14:26:14.900Z"
   },
   {
    "duration": 36,
    "start_time": "2022-11-22T14:31:10.005Z"
   },
   {
    "duration": 18,
    "start_time": "2022-11-22T14:31:14.498Z"
   },
   {
    "duration": 39,
    "start_time": "2022-11-22T14:32:55.339Z"
   },
   {
    "duration": 31,
    "start_time": "2022-11-22T14:33:12.006Z"
   },
   {
    "duration": 43,
    "start_time": "2022-11-22T14:34:01.084Z"
   },
   {
    "duration": 41,
    "start_time": "2022-11-22T14:34:26.976Z"
   },
   {
    "duration": 2,
    "start_time": "2022-11-22T14:35:00.432Z"
   },
   {
    "duration": 87,
    "start_time": "2022-11-22T14:35:00.919Z"
   },
   {
    "duration": 141,
    "start_time": "2022-11-22T14:35:01.493Z"
   },
   {
    "duration": 2106,
    "start_time": "2022-11-22T14:35:02.154Z"
   },
   {
    "duration": 12,
    "start_time": "2022-11-22T14:35:07.889Z"
   },
   {
    "duration": 34,
    "start_time": "2022-11-22T14:35:26.330Z"
   },
   {
    "duration": 31,
    "start_time": "2022-11-22T14:35:38.343Z"
   },
   {
    "duration": 42,
    "start_time": "2022-11-22T14:36:36.184Z"
   },
   {
    "duration": 36,
    "start_time": "2022-11-22T14:38:14.122Z"
   },
   {
    "duration": 10,
    "start_time": "2022-11-22T14:39:17.543Z"
   },
   {
    "duration": 35,
    "start_time": "2022-11-22T14:39:29.885Z"
   },
   {
    "duration": 181,
    "start_time": "2022-11-22T14:39:45.372Z"
   },
   {
    "duration": 267,
    "start_time": "2022-11-22T14:39:48.120Z"
   },
   {
    "duration": 189,
    "start_time": "2022-11-22T14:41:18.353Z"
   },
   {
    "duration": 275,
    "start_time": "2022-11-22T14:55:57.754Z"
   },
   {
    "duration": 158,
    "start_time": "2022-11-22T14:56:20.144Z"
   },
   {
    "duration": 295,
    "start_time": "2022-11-22T14:56:26.602Z"
   },
   {
    "duration": 289,
    "start_time": "2022-11-22T14:57:44.706Z"
   },
   {
    "duration": 359,
    "start_time": "2022-11-22T15:01:22.172Z"
   },
   {
    "duration": 528,
    "start_time": "2022-11-22T15:01:34.568Z"
   },
   {
    "duration": 330,
    "start_time": "2022-11-22T15:01:39.815Z"
   },
   {
    "duration": 285,
    "start_time": "2022-11-22T15:01:46.505Z"
   },
   {
    "duration": 311,
    "start_time": "2022-11-22T15:10:06.218Z"
   },
   {
    "duration": 292,
    "start_time": "2022-11-22T15:28:28.416Z"
   },
   {
    "duration": 296,
    "start_time": "2022-11-22T15:29:06.583Z"
   },
   {
    "duration": 294,
    "start_time": "2022-11-22T15:29:23.616Z"
   },
   {
    "duration": 295,
    "start_time": "2022-11-22T15:29:45.782Z"
   },
   {
    "duration": 303,
    "start_time": "2022-11-22T15:40:02.432Z"
   },
   {
    "duration": 306,
    "start_time": "2022-11-22T15:42:37.299Z"
   },
   {
    "duration": 1171,
    "start_time": "2022-11-22T15:53:14.923Z"
   },
   {
    "duration": 586,
    "start_time": "2022-11-22T15:53:31.666Z"
   },
   {
    "duration": 283,
    "start_time": "2022-11-22T15:55:45.253Z"
   },
   {
    "duration": 293,
    "start_time": "2022-11-22T15:57:29.752Z"
   },
   {
    "duration": 398,
    "start_time": "2022-11-22T15:57:43.782Z"
   },
   {
    "duration": 307,
    "start_time": "2022-11-22T15:57:49.083Z"
   },
   {
    "duration": 296,
    "start_time": "2022-11-22T15:57:56.265Z"
   },
   {
    "duration": 309,
    "start_time": "2022-11-22T15:58:06.856Z"
   },
   {
    "duration": 394,
    "start_time": "2022-11-23T10:12:22.325Z"
   },
   {
    "duration": 156,
    "start_time": "2022-11-23T10:12:22.944Z"
   },
   {
    "duration": 167,
    "start_time": "2022-11-23T10:12:23.580Z"
   },
   {
    "duration": 2500,
    "start_time": "2022-11-23T10:12:24.037Z"
   },
   {
    "duration": 16,
    "start_time": "2022-11-23T10:12:26.540Z"
   },
   {
    "duration": 38,
    "start_time": "2022-11-23T10:12:27.869Z"
   },
   {
    "duration": 41,
    "start_time": "2022-11-23T10:12:27.909Z"
   },
   {
    "duration": 209,
    "start_time": "2022-11-23T10:12:30.330Z"
   },
   {
    "duration": 407,
    "start_time": "2022-11-23T10:12:31.731Z"
   },
   {
    "duration": 214,
    "start_time": "2022-11-23T10:12:44.780Z"
   },
   {
    "duration": 365,
    "start_time": "2022-11-23T10:12:55.198Z"
   },
   {
    "duration": 75,
    "start_time": "2022-11-23T10:13:00.993Z"
   },
   {
    "duration": 333,
    "start_time": "2022-11-23T10:13:23.725Z"
   },
   {
    "duration": 334,
    "start_time": "2022-11-23T10:14:28.466Z"
   },
   {
    "duration": 320,
    "start_time": "2022-11-23T10:15:06.822Z"
   },
   {
    "duration": 306,
    "start_time": "2022-11-23T10:15:15.722Z"
   },
   {
    "duration": 325,
    "start_time": "2022-11-23T10:15:26.162Z"
   },
   {
    "duration": 401,
    "start_time": "2022-11-23T10:16:02.141Z"
   },
   {
    "duration": 326,
    "start_time": "2022-11-23T10:16:11.881Z"
   },
   {
    "duration": 3,
    "start_time": "2022-11-23T10:16:22.156Z"
   },
   {
    "duration": 94,
    "start_time": "2022-11-23T10:16:22.161Z"
   },
   {
    "duration": 159,
    "start_time": "2022-11-23T10:16:22.257Z"
   },
   {
    "duration": 1890,
    "start_time": "2022-11-23T10:16:22.418Z"
   },
   {
    "duration": 10,
    "start_time": "2022-11-23T10:16:24.310Z"
   },
   {
    "duration": 31,
    "start_time": "2022-11-23T10:16:24.321Z"
   },
   {
    "duration": 59,
    "start_time": "2022-11-23T10:16:24.354Z"
   },
   {
    "duration": 153,
    "start_time": "2022-11-23T10:16:24.414Z"
   },
   {
    "duration": 293,
    "start_time": "2022-11-23T10:16:24.570Z"
   },
   {
    "duration": 211,
    "start_time": "2022-11-23T10:16:24.865Z"
   },
   {
    "duration": 334,
    "start_time": "2022-11-23T10:16:25.079Z"
   },
   {
    "duration": 321,
    "start_time": "2022-11-23T10:16:25.414Z"
   },
   {
    "duration": 410,
    "start_time": "2022-11-23T10:16:25.737Z"
   },
   {
    "duration": 318,
    "start_time": "2022-11-23T10:16:35.498Z"
   },
   {
    "duration": 296,
    "start_time": "2022-11-23T10:16:44.436Z"
   },
   {
    "duration": 280,
    "start_time": "2022-11-23T10:16:54.664Z"
   },
   {
    "duration": 2,
    "start_time": "2022-11-23T10:18:25.245Z"
   },
   {
    "duration": 89,
    "start_time": "2022-11-23T10:18:25.667Z"
   },
   {
    "duration": 148,
    "start_time": "2022-11-23T10:18:26.071Z"
   },
   {
    "duration": 2086,
    "start_time": "2022-11-23T10:18:26.491Z"
   },
   {
    "duration": 9,
    "start_time": "2022-11-23T10:18:36.350Z"
   },
   {
    "duration": 32,
    "start_time": "2022-11-23T10:18:37.079Z"
   },
   {
    "duration": 45,
    "start_time": "2022-11-23T10:18:37.516Z"
   },
   {
    "duration": 154,
    "start_time": "2022-11-23T10:18:39.217Z"
   },
   {
    "duration": 264,
    "start_time": "2022-11-23T10:18:39.775Z"
   },
   {
    "duration": 209,
    "start_time": "2022-11-23T10:18:41.553Z"
   },
   {
    "duration": 306,
    "start_time": "2022-11-23T10:18:43.602Z"
   },
   {
    "duration": 443,
    "start_time": "2022-11-23T10:18:47.622Z"
   },
   {
    "duration": 308,
    "start_time": "2022-11-23T10:18:51.943Z"
   },
   {
    "duration": 306,
    "start_time": "2022-11-23T10:19:00.089Z"
   },
   {
    "duration": 308,
    "start_time": "2022-11-23T10:19:13.242Z"
   },
   {
    "duration": 281,
    "start_time": "2022-11-23T10:20:13.368Z"
   },
   {
    "duration": 443,
    "start_time": "2022-11-23T10:20:33.161Z"
   },
   {
    "duration": 299,
    "start_time": "2022-11-23T10:20:45.801Z"
   },
   {
    "duration": 2,
    "start_time": "2022-11-23T10:23:12.063Z"
   },
   {
    "duration": 85,
    "start_time": "2022-11-23T10:23:12.670Z"
   },
   {
    "duration": 140,
    "start_time": "2022-11-23T10:23:13.214Z"
   },
   {
    "duration": 1973,
    "start_time": "2022-11-23T10:23:13.747Z"
   },
   {
    "duration": 11,
    "start_time": "2022-11-23T10:23:16.195Z"
   },
   {
    "duration": 38,
    "start_time": "2022-11-23T10:23:16.324Z"
   },
   {
    "duration": 39,
    "start_time": "2022-11-23T10:23:16.897Z"
   },
   {
    "duration": 171,
    "start_time": "2022-11-23T10:23:18.122Z"
   },
   {
    "duration": 231,
    "start_time": "2022-11-23T10:23:18.727Z"
   },
   {
    "duration": 189,
    "start_time": "2022-11-23T10:23:20.168Z"
   },
   {
    "duration": 290,
    "start_time": "2022-11-23T10:23:21.621Z"
   },
   {
    "duration": 327,
    "start_time": "2022-11-23T10:23:24.177Z"
   },
   {
    "duration": 307,
    "start_time": "2022-11-23T10:23:29.420Z"
   },
   {
    "duration": 293,
    "start_time": "2022-11-23T10:23:36.558Z"
   },
   {
    "duration": 468,
    "start_time": "2022-11-23T10:24:10.304Z"
   },
   {
    "duration": 1015,
    "start_time": "2022-11-23T10:40:07.624Z"
   },
   {
    "duration": 412,
    "start_time": "2022-11-23T10:40:54.167Z"
   },
   {
    "duration": 864,
    "start_time": "2022-11-23T10:41:02.381Z"
   },
   {
    "duration": 1071,
    "start_time": "2022-11-23T10:41:45.460Z"
   },
   {
    "duration": 921,
    "start_time": "2022-11-23T10:42:19.621Z"
   },
   {
    "duration": 326,
    "start_time": "2022-11-23T10:43:20.306Z"
   },
   {
    "duration": 3,
    "start_time": "2022-11-23T10:44:17.640Z"
   },
   {
    "duration": 109,
    "start_time": "2022-11-23T10:44:18.988Z"
   },
   {
    "duration": 146,
    "start_time": "2022-11-23T10:44:19.415Z"
   },
   {
    "duration": 2099,
    "start_time": "2022-11-23T10:44:19.933Z"
   },
   {
    "duration": 11,
    "start_time": "2022-11-23T10:44:22.034Z"
   },
   {
    "duration": 37,
    "start_time": "2022-11-23T10:44:22.046Z"
   },
   {
    "duration": 37,
    "start_time": "2022-11-23T10:44:22.563Z"
   },
   {
    "duration": 157,
    "start_time": "2022-11-23T10:44:23.966Z"
   },
   {
    "duration": 289,
    "start_time": "2022-11-23T10:44:24.883Z"
   },
   {
    "duration": 251,
    "start_time": "2022-11-23T10:44:27.500Z"
   },
   {
    "duration": 320,
    "start_time": "2022-11-23T10:44:30.986Z"
   },
   {
    "duration": 294,
    "start_time": "2022-11-23T10:44:33.224Z"
   },
   {
    "duration": 415,
    "start_time": "2022-11-23T10:44:37.223Z"
   },
   {
    "duration": 347,
    "start_time": "2022-11-23T10:44:40.891Z"
   },
   {
    "duration": 400,
    "start_time": "2022-11-23T10:47:01.674Z"
   },
   {
    "duration": 312,
    "start_time": "2022-11-23T10:52:20.879Z"
   },
   {
    "duration": 311,
    "start_time": "2022-11-23T11:06:18.352Z"
   },
   {
    "duration": 2,
    "start_time": "2022-11-23T11:06:36.452Z"
   },
   {
    "duration": 91,
    "start_time": "2022-11-23T11:06:36.955Z"
   },
   {
    "duration": 180,
    "start_time": "2022-11-23T11:06:37.394Z"
   },
   {
    "duration": 1907,
    "start_time": "2022-11-23T11:06:37.913Z"
   },
   {
    "duration": 10,
    "start_time": "2022-11-23T11:06:39.822Z"
   },
   {
    "duration": 42,
    "start_time": "2022-11-23T11:06:39.834Z"
   },
   {
    "duration": 42,
    "start_time": "2022-11-23T11:06:41.051Z"
   },
   {
    "duration": 180,
    "start_time": "2022-11-23T11:06:41.416Z"
   },
   {
    "duration": 272,
    "start_time": "2022-11-23T11:06:41.854Z"
   },
   {
    "duration": 194,
    "start_time": "2022-11-23T11:06:42.882Z"
   },
   {
    "duration": 529,
    "start_time": "2022-11-23T11:06:43.947Z"
   },
   {
    "duration": 310,
    "start_time": "2022-11-23T11:06:45.049Z"
   },
   {
    "duration": 319,
    "start_time": "2022-11-23T11:06:46.157Z"
   },
   {
    "duration": 298,
    "start_time": "2022-11-23T11:06:47.333Z"
   },
   {
    "duration": 302,
    "start_time": "2022-11-23T11:06:48.586Z"
   },
   {
    "duration": 316,
    "start_time": "2022-11-23T11:06:50.503Z"
   },
   {
    "duration": 307,
    "start_time": "2022-11-23T11:06:54.533Z"
   },
   {
    "duration": 291,
    "start_time": "2022-11-23T11:10:05.541Z"
   },
   {
    "duration": 333,
    "start_time": "2022-11-23T11:10:17.661Z"
   },
   {
    "duration": 329,
    "start_time": "2022-11-23T11:10:37.997Z"
   },
   {
    "duration": 580,
    "start_time": "2022-11-23T11:11:54.601Z"
   },
   {
    "duration": 301,
    "start_time": "2022-11-23T11:30:11.149Z"
   },
   {
    "duration": 314,
    "start_time": "2022-11-23T11:30:46.357Z"
   },
   {
    "duration": 309,
    "start_time": "2022-11-23T11:32:01.840Z"
   },
   {
    "duration": 329,
    "start_time": "2022-11-23T11:32:13.189Z"
   },
   {
    "duration": 1130,
    "start_time": "2022-11-23T11:53:58.545Z"
   },
   {
    "duration": 16,
    "start_time": "2022-11-23T11:54:11.617Z"
   },
   {
    "duration": 311,
    "start_time": "2022-11-23T11:54:28.596Z"
   },
   {
    "duration": 476,
    "start_time": "2022-11-23T12:02:27.261Z"
   },
   {
    "duration": 380,
    "start_time": "2022-11-23T12:03:41.921Z"
   },
   {
    "duration": 19,
    "start_time": "2022-11-23T12:08:43.339Z"
   },
   {
    "duration": 8,
    "start_time": "2022-11-23T12:09:07.432Z"
   },
   {
    "duration": 326,
    "start_time": "2022-11-23T12:20:23.728Z"
   },
   {
    "duration": 307,
    "start_time": "2022-11-23T12:22:43.090Z"
   },
   {
    "duration": 323,
    "start_time": "2022-11-23T12:24:35.826Z"
   },
   {
    "duration": 340,
    "start_time": "2022-11-23T12:25:06.938Z"
   },
   {
    "duration": 365,
    "start_time": "2022-11-23T12:25:14.127Z"
   },
   {
    "duration": 1120,
    "start_time": "2022-11-23T12:33:02.996Z"
   },
   {
    "duration": 608,
    "start_time": "2022-11-23T12:33:55.444Z"
   },
   {
    "duration": 291,
    "start_time": "2022-11-23T12:34:10.233Z"
   },
   {
    "duration": 327,
    "start_time": "2022-11-23T12:34:28.738Z"
   },
   {
    "duration": 289,
    "start_time": "2022-11-23T12:34:39.586Z"
   },
   {
    "duration": 299,
    "start_time": "2022-11-23T12:34:53.978Z"
   },
   {
    "duration": 321,
    "start_time": "2022-11-23T12:43:04.805Z"
   },
   {
    "duration": 300,
    "start_time": "2022-11-23T12:43:22.741Z"
   },
   {
    "duration": 346,
    "start_time": "2022-11-23T12:43:33.955Z"
   },
   {
    "duration": 294,
    "start_time": "2022-11-23T12:43:44.241Z"
   },
   {
    "duration": 290,
    "start_time": "2022-11-23T12:47:44.045Z"
   },
   {
    "duration": 628,
    "start_time": "2022-11-23T12:48:08.025Z"
   },
   {
    "duration": 321,
    "start_time": "2022-11-23T12:48:27.892Z"
   },
   {
    "duration": 310,
    "start_time": "2022-11-23T12:48:43.261Z"
   },
   {
    "duration": 291,
    "start_time": "2022-11-23T12:48:58.783Z"
   },
   {
    "duration": 334,
    "start_time": "2022-11-23T12:53:07.622Z"
   },
   {
    "duration": 335,
    "start_time": "2022-11-23T12:53:27.128Z"
   },
   {
    "duration": 363,
    "start_time": "2022-11-23T12:53:44.066Z"
   },
   {
    "duration": 310,
    "start_time": "2022-11-23T13:10:48.670Z"
   },
   {
    "duration": 304,
    "start_time": "2022-11-23T13:11:00.591Z"
   },
   {
    "duration": 168,
    "start_time": "2022-11-23T13:13:09.717Z"
   },
   {
    "duration": 198,
    "start_time": "2022-11-23T13:13:17.769Z"
   },
   {
    "duration": 192,
    "start_time": "2022-11-23T13:15:33.646Z"
   },
   {
    "duration": 198,
    "start_time": "2022-11-23T13:15:41.996Z"
   },
   {
    "duration": 198,
    "start_time": "2022-11-23T13:15:49.296Z"
   },
   {
    "duration": 555,
    "start_time": "2022-11-23T13:15:54.578Z"
   },
   {
    "duration": 203,
    "start_time": "2022-11-23T13:16:03.576Z"
   },
   {
    "duration": 190,
    "start_time": "2022-11-23T13:16:15.790Z"
   },
   {
    "duration": 204,
    "start_time": "2022-11-23T13:16:39.606Z"
   },
   {
    "duration": 200,
    "start_time": "2022-11-23T13:23:22.230Z"
   },
   {
    "duration": 199,
    "start_time": "2022-11-23T13:26:56.537Z"
   },
   {
    "duration": 213,
    "start_time": "2022-11-23T13:27:08.954Z"
   },
   {
    "duration": 183,
    "start_time": "2022-11-23T13:27:16.220Z"
   },
   {
    "duration": 204,
    "start_time": "2022-11-23T13:35:01.322Z"
   },
   {
    "duration": 185,
    "start_time": "2022-11-23T13:38:50.120Z"
   },
   {
    "duration": 180,
    "start_time": "2022-11-23T13:40:03.130Z"
   },
   {
    "duration": 174,
    "start_time": "2022-11-23T13:40:40.156Z"
   },
   {
    "duration": 186,
    "start_time": "2022-11-23T13:41:04.249Z"
   },
   {
    "duration": 198,
    "start_time": "2022-11-23T13:41:22.055Z"
   },
   {
    "duration": 738,
    "start_time": "2022-11-23T13:58:58.982Z"
   },
   {
    "duration": 767,
    "start_time": "2022-11-23T13:59:51.531Z"
   },
   {
    "duration": 199,
    "start_time": "2022-11-23T14:01:00.946Z"
   },
   {
    "duration": 9,
    "start_time": "2022-11-23T14:11:01.854Z"
   },
   {
    "duration": 70,
    "start_time": "2022-11-23T14:11:11.053Z"
   },
   {
    "duration": 7,
    "start_time": "2022-11-23T14:13:33.831Z"
   },
   {
    "duration": 5,
    "start_time": "2022-11-23T14:14:35.229Z"
   },
   {
    "duration": 15,
    "start_time": "2022-11-23T14:22:40.561Z"
   },
   {
    "duration": 23,
    "start_time": "2022-11-23T14:22:54.309Z"
   },
   {
    "duration": 170,
    "start_time": "2022-11-23T14:23:34.906Z"
   },
   {
    "duration": 440,
    "start_time": "2022-11-23T14:24:13.614Z"
   },
   {
    "duration": 156,
    "start_time": "2022-11-23T14:24:56.942Z"
   },
   {
    "duration": 267,
    "start_time": "2022-11-23T14:26:50.718Z"
   },
   {
    "duration": 195,
    "start_time": "2022-11-23T14:27:01.880Z"
   },
   {
    "duration": 158,
    "start_time": "2022-11-23T14:27:12.788Z"
   },
   {
    "duration": 23,
    "start_time": "2022-11-23T14:28:23.962Z"
   },
   {
    "duration": 149,
    "start_time": "2022-11-23T14:31:38.493Z"
   },
   {
    "duration": 159,
    "start_time": "2022-11-23T14:35:24.166Z"
   },
   {
    "duration": 193,
    "start_time": "2022-11-23T14:41:05.038Z"
   },
   {
    "duration": 138,
    "start_time": "2022-11-23T14:41:47.841Z"
   },
   {
    "duration": 228,
    "start_time": "2022-11-23T14:44:13.648Z"
   },
   {
    "duration": 44,
    "start_time": "2022-11-23T19:55:27.522Z"
   },
   {
    "duration": 794,
    "start_time": "2022-11-23T19:55:38.704Z"
   },
   {
    "duration": 140,
    "start_time": "2022-11-23T19:55:39.500Z"
   },
   {
    "duration": 161,
    "start_time": "2022-11-23T19:55:39.932Z"
   },
   {
    "duration": 1885,
    "start_time": "2022-11-23T19:55:40.660Z"
   },
   {
    "duration": 11,
    "start_time": "2022-11-23T19:55:42.548Z"
   },
   {
    "duration": 42,
    "start_time": "2022-11-23T19:55:42.734Z"
   },
   {
    "duration": 35,
    "start_time": "2022-11-23T19:55:43.268Z"
   },
   {
    "duration": 136,
    "start_time": "2022-11-23T19:55:44.228Z"
   },
   {
    "duration": 265,
    "start_time": "2022-11-23T19:55:44.778Z"
   },
   {
    "duration": 186,
    "start_time": "2022-11-23T19:55:46.101Z"
   },
   {
    "duration": 295,
    "start_time": "2022-11-23T19:55:47.806Z"
   },
   {
    "duration": 370,
    "start_time": "2022-11-23T19:55:49.540Z"
   },
   {
    "duration": 297,
    "start_time": "2022-11-23T19:55:51.031Z"
   },
   {
    "duration": 292,
    "start_time": "2022-11-23T19:55:52.498Z"
   },
   {
    "duration": 296,
    "start_time": "2022-11-23T19:55:53.876Z"
   },
   {
    "duration": 316,
    "start_time": "2022-11-23T19:55:55.401Z"
   },
   {
    "duration": 380,
    "start_time": "2022-11-23T19:55:57.117Z"
   },
   {
    "duration": 6,
    "start_time": "2022-11-23T19:56:00.572Z"
   },
   {
    "duration": 71,
    "start_time": "2022-11-23T19:56:01.366Z"
   },
   {
    "duration": 303,
    "start_time": "2022-11-23T19:56:02.143Z"
   },
   {
    "duration": 341,
    "start_time": "2022-11-23T19:56:18.082Z"
   },
   {
    "duration": 313,
    "start_time": "2022-11-23T19:56:23.038Z"
   },
   {
    "duration": 298,
    "start_time": "2022-11-23T19:56:26.342Z"
   },
   {
    "duration": 338,
    "start_time": "2022-11-23T19:56:30.212Z"
   },
   {
    "duration": 286,
    "start_time": "2022-11-23T19:56:38.788Z"
   },
   {
    "duration": 210,
    "start_time": "2022-11-23T19:56:42.275Z"
   },
   {
    "duration": 246,
    "start_time": "2022-11-23T19:56:45.795Z"
   },
   {
    "duration": 194,
    "start_time": "2022-11-23T19:57:45.025Z"
   },
   {
    "duration": 1169,
    "start_time": "2022-11-23T20:05:28.404Z"
   },
   {
    "duration": 276,
    "start_time": "2022-11-23T20:05:43.382Z"
   },
   {
    "duration": 190,
    "start_time": "2022-11-23T20:08:32.067Z"
   },
   {
    "duration": 36,
    "start_time": "2022-11-23T20:19:45.180Z"
   },
   {
    "duration": 5,
    "start_time": "2022-11-23T20:21:10.357Z"
   },
   {
    "duration": 35,
    "start_time": "2022-11-23T20:21:16.352Z"
   },
   {
    "duration": 1230,
    "start_time": "2022-11-23T20:22:17.613Z"
   },
   {
    "duration": 2,
    "start_time": "2022-11-23T20:24:19.967Z"
   },
   {
    "duration": 89,
    "start_time": "2022-11-23T20:24:20.463Z"
   },
   {
    "duration": 140,
    "start_time": "2022-11-23T20:24:20.987Z"
   },
   {
    "duration": 1828,
    "start_time": "2022-11-23T20:24:21.464Z"
   },
   {
    "duration": 9,
    "start_time": "2022-11-23T20:24:23.294Z"
   },
   {
    "duration": 29,
    "start_time": "2022-11-23T20:24:23.495Z"
   },
   {
    "duration": 34,
    "start_time": "2022-11-23T20:24:24.050Z"
   },
   {
    "duration": 132,
    "start_time": "2022-11-23T20:24:25.141Z"
   },
   {
    "duration": 248,
    "start_time": "2022-11-23T20:24:25.681Z"
   },
   {
    "duration": 186,
    "start_time": "2022-11-23T20:24:26.884Z"
   },
   {
    "duration": 285,
    "start_time": "2022-11-23T20:24:28.217Z"
   },
   {
    "duration": 407,
    "start_time": "2022-11-23T20:24:29.567Z"
   },
   {
    "duration": 304,
    "start_time": "2022-11-23T20:24:30.801Z"
   },
   {
    "duration": 274,
    "start_time": "2022-11-23T20:24:32.069Z"
   },
   {
    "duration": 281,
    "start_time": "2022-11-23T20:24:33.482Z"
   },
   {
    "duration": 309,
    "start_time": "2022-11-23T20:24:34.769Z"
   },
   {
    "duration": 307,
    "start_time": "2022-11-23T20:24:36.074Z"
   },
   {
    "duration": 416,
    "start_time": "2022-11-23T20:24:41.063Z"
   },
   {
    "duration": 5,
    "start_time": "2022-11-23T20:24:43.378Z"
   },
   {
    "duration": 325,
    "start_time": "2022-11-23T20:24:45.235Z"
   },
   {
    "duration": 300,
    "start_time": "2022-11-23T20:24:46.991Z"
   },
   {
    "duration": 267,
    "start_time": "2022-11-23T20:24:48.482Z"
   },
   {
    "duration": 312,
    "start_time": "2022-11-23T20:24:50.531Z"
   },
   {
    "duration": 183,
    "start_time": "2022-11-23T20:24:54.769Z"
   },
   {
    "duration": 332,
    "start_time": "2022-11-23T20:24:56.732Z"
   },
   {
    "duration": 178,
    "start_time": "2022-11-23T20:25:00.260Z"
   },
   {
    "duration": 1338,
    "start_time": "2022-11-23T20:25:08.395Z"
   },
   {
    "duration": 1220,
    "start_time": "2022-11-23T20:25:48.329Z"
   },
   {
    "duration": 1192,
    "start_time": "2022-11-23T20:27:33.801Z"
   },
   {
    "duration": 3,
    "start_time": "2022-11-23T20:27:42.201Z"
   },
   {
    "duration": 87,
    "start_time": "2022-11-23T20:27:42.206Z"
   },
   {
    "duration": 146,
    "start_time": "2022-11-23T20:27:42.295Z"
   },
   {
    "duration": 1834,
    "start_time": "2022-11-23T20:27:42.443Z"
   },
   {
    "duration": 8,
    "start_time": "2022-11-23T20:27:44.280Z"
   },
   {
    "duration": 47,
    "start_time": "2022-11-23T20:27:44.290Z"
   },
   {
    "duration": 35,
    "start_time": "2022-11-23T20:27:44.339Z"
   },
   {
    "duration": 151,
    "start_time": "2022-11-23T20:27:44.375Z"
   },
   {
    "duration": 253,
    "start_time": "2022-11-23T20:27:44.527Z"
   },
   {
    "duration": 190,
    "start_time": "2022-11-23T20:27:44.782Z"
   },
   {
    "duration": 297,
    "start_time": "2022-11-23T20:27:44.975Z"
   },
   {
    "duration": 307,
    "start_time": "2022-11-23T20:27:45.274Z"
   },
   {
    "duration": 338,
    "start_time": "2022-11-23T20:27:45.583Z"
   },
   {
    "duration": 424,
    "start_time": "2022-11-23T20:27:45.923Z"
   },
   {
    "duration": 292,
    "start_time": "2022-11-23T20:27:46.349Z"
   },
   {
    "duration": 304,
    "start_time": "2022-11-23T20:27:46.643Z"
   },
   {
    "duration": 311,
    "start_time": "2022-11-23T20:27:46.949Z"
   },
   {
    "duration": 6,
    "start_time": "2022-11-23T20:27:47.262Z"
   },
   {
    "duration": 320,
    "start_time": "2022-11-23T20:27:47.270Z"
   },
   {
    "duration": 303,
    "start_time": "2022-11-23T20:27:47.592Z"
   },
   {
    "duration": 424,
    "start_time": "2022-11-23T20:27:47.897Z"
   },
   {
    "duration": 315,
    "start_time": "2022-11-23T20:27:48.323Z"
   },
   {
    "duration": 188,
    "start_time": "2022-11-23T20:27:48.640Z"
   },
   {
    "duration": 200,
    "start_time": "2022-11-23T20:27:48.830Z"
   },
   {
    "duration": 201,
    "start_time": "2022-11-23T20:27:49.032Z"
   },
   {
    "duration": 1181,
    "start_time": "2022-11-23T20:27:49.235Z"
   },
   {
    "duration": 16,
    "start_time": "2022-11-23T20:28:22.851Z"
   },
   {
    "duration": 1208,
    "start_time": "2022-11-23T20:29:07.460Z"
   },
   {
    "duration": 3,
    "start_time": "2022-11-23T20:30:14.611Z"
   },
   {
    "duration": 100,
    "start_time": "2022-11-23T20:30:15.517Z"
   },
   {
    "duration": 129,
    "start_time": "2022-11-23T20:30:16.487Z"
   },
   {
    "duration": 1890,
    "start_time": "2022-11-23T20:30:17.425Z"
   },
   {
    "duration": 8,
    "start_time": "2022-11-23T20:30:20.606Z"
   },
   {
    "duration": 37,
    "start_time": "2022-11-23T20:30:21.529Z"
   },
   {
    "duration": 36,
    "start_time": "2022-11-23T20:30:22.736Z"
   },
   {
    "duration": 138,
    "start_time": "2022-11-23T20:30:24.633Z"
   },
   {
    "duration": 276,
    "start_time": "2022-11-23T20:30:25.419Z"
   },
   {
    "duration": 187,
    "start_time": "2022-11-23T20:30:27.186Z"
   },
   {
    "duration": 290,
    "start_time": "2022-11-23T20:30:29.312Z"
   },
   {
    "duration": 327,
    "start_time": "2022-11-23T20:30:31.367Z"
   },
   {
    "duration": 289,
    "start_time": "2022-11-23T20:30:37.178Z"
   },
   {
    "duration": 290,
    "start_time": "2022-11-23T20:30:39.266Z"
   },
   {
    "duration": 499,
    "start_time": "2022-11-23T20:30:41.249Z"
   },
   {
    "duration": 316,
    "start_time": "2022-11-23T20:30:43.539Z"
   },
   {
    "duration": 294,
    "start_time": "2022-11-23T20:30:45.889Z"
   },
   {
    "duration": 6,
    "start_time": "2022-11-23T20:30:48.904Z"
   },
   {
    "duration": 301,
    "start_time": "2022-11-23T20:30:51.082Z"
   },
   {
    "duration": 293,
    "start_time": "2022-11-23T20:30:55.134Z"
   },
   {
    "duration": 285,
    "start_time": "2022-11-23T20:30:58.416Z"
   },
   {
    "duration": 319,
    "start_time": "2022-11-23T20:31:02.586Z"
   },
   {
    "duration": 171,
    "start_time": "2022-11-23T20:31:06.158Z"
   },
   {
    "duration": 195,
    "start_time": "2022-11-23T20:31:10.961Z"
   },
   {
    "duration": 186,
    "start_time": "2022-11-23T20:31:14.810Z"
   },
   {
    "duration": 1495,
    "start_time": "2022-11-23T20:31:17.470Z"
   },
   {
    "duration": 1270,
    "start_time": "2022-11-23T20:33:20.949Z"
   },
   {
    "duration": 31,
    "start_time": "2022-11-23T20:33:32.977Z"
   },
   {
    "duration": 1462,
    "start_time": "2022-11-23T20:35:16.785Z"
   },
   {
    "duration": 1448,
    "start_time": "2022-11-23T20:35:44.480Z"
   },
   {
    "duration": 188,
    "start_time": "2022-11-23T20:40:02.017Z"
   },
   {
    "duration": 1263,
    "start_time": "2022-11-23T20:41:23.295Z"
   },
   {
    "duration": 1203,
    "start_time": "2022-11-23T20:44:39.132Z"
   },
   {
    "duration": 174,
    "start_time": "2022-11-23T20:49:38.362Z"
   },
   {
    "duration": 204,
    "start_time": "2022-11-23T20:50:16.714Z"
   },
   {
    "duration": 184,
    "start_time": "2022-11-23T20:50:27.533Z"
   },
   {
    "duration": 173,
    "start_time": "2022-11-23T20:50:37.266Z"
   },
   {
    "duration": 195,
    "start_time": "2022-11-23T20:50:46.117Z"
   },
   {
    "duration": 182,
    "start_time": "2022-11-23T20:51:25.047Z"
   },
   {
    "duration": 187,
    "start_time": "2022-11-23T20:51:32.409Z"
   },
   {
    "duration": 150,
    "start_time": "2022-11-23T21:05:00.499Z"
   },
   {
    "duration": 179,
    "start_time": "2022-11-23T21:05:20.568Z"
   },
   {
    "duration": 228,
    "start_time": "2022-11-23T21:08:09.494Z"
   },
   {
    "duration": 202,
    "start_time": "2022-11-23T21:08:39.459Z"
   },
   {
    "duration": 231,
    "start_time": "2022-11-23T21:10:07.728Z"
   },
   {
    "duration": 199,
    "start_time": "2022-11-23T21:13:05.811Z"
   },
   {
    "duration": 224,
    "start_time": "2022-11-23T21:23:03.302Z"
   },
   {
    "duration": 255,
    "start_time": "2022-11-23T21:25:34.428Z"
   },
   {
    "duration": 373,
    "start_time": "2022-11-23T21:26:09.956Z"
   },
   {
    "duration": 204,
    "start_time": "2022-11-23T21:27:25.092Z"
   },
   {
    "duration": 314,
    "start_time": "2022-11-23T21:27:39.994Z"
   },
   {
    "duration": 182,
    "start_time": "2022-11-23T21:31:27.323Z"
   },
   {
    "duration": 173,
    "start_time": "2022-11-23T21:40:45.582Z"
   },
   {
    "duration": 178,
    "start_time": "2022-11-23T21:40:55.858Z"
   },
   {
    "duration": 193,
    "start_time": "2022-11-23T21:43:48.626Z"
   },
   {
    "duration": 194,
    "start_time": "2022-11-23T21:49:49.810Z"
   },
   {
    "duration": 302,
    "start_time": "2022-11-23T21:50:02.900Z"
   },
   {
    "duration": 330,
    "start_time": "2022-11-23T21:52:05.831Z"
   },
   {
    "duration": 181,
    "start_time": "2022-11-23T21:52:29.077Z"
   },
   {
    "duration": 389,
    "start_time": "2022-11-23T21:55:55.798Z"
   },
   {
    "duration": 197,
    "start_time": "2022-11-23T21:56:10.930Z"
   },
   {
    "duration": 191,
    "start_time": "2022-11-23T21:56:34.156Z"
   },
   {
    "duration": 9,
    "start_time": "2022-11-23T21:56:46.609Z"
   },
   {
    "duration": 183,
    "start_time": "2022-11-23T21:56:53.012Z"
   },
   {
    "duration": 190,
    "start_time": "2022-11-23T21:57:14.764Z"
   },
   {
    "duration": 5,
    "start_time": "2022-11-23T22:06:03.733Z"
   },
   {
    "duration": 7,
    "start_time": "2022-11-23T22:09:04.146Z"
   },
   {
    "duration": 12,
    "start_time": "2022-11-23T22:15:08.398Z"
   },
   {
    "duration": 116,
    "start_time": "2022-11-23T22:15:51.857Z"
   },
   {
    "duration": 135,
    "start_time": "2022-11-23T22:16:11.536Z"
   },
   {
    "duration": 121,
    "start_time": "2022-11-23T22:17:57.655Z"
   },
   {
    "duration": 123,
    "start_time": "2022-11-23T22:18:12.556Z"
   },
   {
    "duration": 121,
    "start_time": "2022-11-23T22:20:08.192Z"
   },
   {
    "duration": 129,
    "start_time": "2022-11-23T22:20:18.152Z"
   },
   {
    "duration": 180,
    "start_time": "2022-11-23T22:23:39.410Z"
   },
   {
    "duration": 27,
    "start_time": "2022-11-23T22:37:55.914Z"
   },
   {
    "duration": 6,
    "start_time": "2022-11-23T22:38:02.539Z"
   },
   {
    "duration": 9,
    "start_time": "2022-11-23T22:38:24.853Z"
   },
   {
    "duration": 15,
    "start_time": "2022-11-23T22:39:12.968Z"
   },
   {
    "duration": 13,
    "start_time": "2022-11-23T22:39:21.040Z"
   },
   {
    "duration": 3,
    "start_time": "2022-11-23T22:40:01.901Z"
   },
   {
    "duration": 9,
    "start_time": "2022-11-23T22:40:15.729Z"
   },
   {
    "duration": 9,
    "start_time": "2022-11-23T22:40:29.966Z"
   },
   {
    "duration": 745,
    "start_time": "2022-11-24T05:45:51.547Z"
   },
   {
    "duration": 141,
    "start_time": "2022-11-24T05:45:52.588Z"
   },
   {
    "duration": 136,
    "start_time": "2022-11-24T05:45:53.531Z"
   },
   {
    "duration": 2019,
    "start_time": "2022-11-24T05:45:53.669Z"
   },
   {
    "duration": 8,
    "start_time": "2022-11-24T05:45:55.690Z"
   },
   {
    "duration": 54,
    "start_time": "2022-11-24T05:45:55.700Z"
   },
   {
    "duration": 37,
    "start_time": "2022-11-24T05:45:55.757Z"
   },
   {
    "duration": 130,
    "start_time": "2022-11-24T05:45:56.767Z"
   },
   {
    "duration": 242,
    "start_time": "2022-11-24T05:45:57.028Z"
   },
   {
    "duration": 193,
    "start_time": "2022-11-24T05:45:58.070Z"
   },
   {
    "duration": 329,
    "start_time": "2022-11-24T05:45:59.015Z"
   },
   {
    "duration": 450,
    "start_time": "2022-11-24T05:46:00.257Z"
   },
   {
    "duration": 331,
    "start_time": "2022-11-24T05:46:01.023Z"
   },
   {
    "duration": 297,
    "start_time": "2022-11-24T05:46:02.197Z"
   },
   {
    "duration": 301,
    "start_time": "2022-11-24T05:46:03.023Z"
   },
   {
    "duration": 326,
    "start_time": "2022-11-24T05:46:04.516Z"
   },
   {
    "duration": 400,
    "start_time": "2022-11-24T05:46:04.879Z"
   },
   {
    "duration": 7,
    "start_time": "2022-11-24T05:46:05.869Z"
   },
   {
    "duration": 296,
    "start_time": "2022-11-24T05:46:06.967Z"
   },
   {
    "duration": 290,
    "start_time": "2022-11-24T05:46:07.809Z"
   },
   {
    "duration": 278,
    "start_time": "2022-11-24T05:46:08.806Z"
   },
   {
    "duration": 304,
    "start_time": "2022-11-24T05:46:10.185Z"
   },
   {
    "duration": 165,
    "start_time": "2022-11-24T05:46:10.831Z"
   },
   {
    "duration": 205,
    "start_time": "2022-11-24T05:46:11.847Z"
   },
   {
    "duration": 279,
    "start_time": "2022-11-24T05:46:12.873Z"
   },
   {
    "duration": 411,
    "start_time": "2022-11-24T05:46:14.012Z"
   },
   {
    "duration": 293,
    "start_time": "2022-11-24T05:46:15.372Z"
   },
   {
    "duration": 174,
    "start_time": "2022-11-24T05:46:17.337Z"
   },
   {
    "duration": 69,
    "start_time": "2022-11-24T05:46:18.307Z"
   },
   {
    "duration": 0,
    "start_time": "2022-11-24T05:46:18.377Z"
   },
   {
    "duration": 126,
    "start_time": "2022-11-24T05:46:19.662Z"
   },
   {
    "duration": 197,
    "start_time": "2022-11-24T05:49:29.560Z"
   },
   {
    "duration": 172,
    "start_time": "2022-11-24T06:01:38.880Z"
   },
   {
    "duration": 1319,
    "start_time": "2022-11-24T06:01:53.732Z"
   },
   {
    "duration": 178,
    "start_time": "2022-11-24T06:02:19.681Z"
   },
   {
    "duration": 178,
    "start_time": "2022-11-24T06:05:49.163Z"
   },
   {
    "duration": 173,
    "start_time": "2022-11-24T06:08:45.582Z"
   },
   {
    "duration": 81,
    "start_time": "2022-11-24T06:28:14.785Z"
   },
   {
    "duration": 19,
    "start_time": "2022-11-24T06:28:33.848Z"
   },
   {
    "duration": 25,
    "start_time": "2022-11-24T06:29:22.653Z"
   },
   {
    "duration": 20,
    "start_time": "2022-11-24T06:37:09.186Z"
   },
   {
    "duration": 24,
    "start_time": "2022-11-24T06:41:08.328Z"
   },
   {
    "duration": 21,
    "start_time": "2022-11-24T06:41:43.490Z"
   },
   {
    "duration": 96,
    "start_time": "2022-11-24T06:44:48.290Z"
   },
   {
    "duration": 102,
    "start_time": "2022-11-24T06:44:56.165Z"
   },
   {
    "duration": 24,
    "start_time": "2022-11-24T06:45:04.377Z"
   },
   {
    "duration": 39,
    "start_time": "2022-11-24T06:45:37.758Z"
   },
   {
    "duration": 41,
    "start_time": "2022-11-24T06:45:59.687Z"
   },
   {
    "duration": 21,
    "start_time": "2022-11-24T06:47:35.093Z"
   },
   {
    "duration": 21,
    "start_time": "2022-11-24T07:00:05.992Z"
   },
   {
    "duration": 21,
    "start_time": "2022-11-24T07:07:14.721Z"
   },
   {
    "duration": 25,
    "start_time": "2022-11-24T07:08:54.236Z"
   },
   {
    "duration": 2,
    "start_time": "2022-11-24T07:12:19.907Z"
   },
   {
    "duration": 93,
    "start_time": "2022-11-24T07:12:20.567Z"
   },
   {
    "duration": 143,
    "start_time": "2022-11-24T07:12:21.116Z"
   },
   {
    "duration": 1917,
    "start_time": "2022-11-24T07:12:21.690Z"
   },
   {
    "duration": 14,
    "start_time": "2022-11-24T07:12:23.609Z"
   },
   {
    "duration": 30,
    "start_time": "2022-11-24T07:12:23.945Z"
   },
   {
    "duration": 36,
    "start_time": "2022-11-24T07:12:24.332Z"
   },
   {
    "duration": 150,
    "start_time": "2022-11-24T07:12:25.596Z"
   },
   {
    "duration": 261,
    "start_time": "2022-11-24T07:12:26.155Z"
   },
   {
    "duration": 313,
    "start_time": "2022-11-24T07:12:27.309Z"
   },
   {
    "duration": 307,
    "start_time": "2022-11-24T07:12:28.450Z"
   },
   {
    "duration": 354,
    "start_time": "2022-11-24T07:12:29.626Z"
   },
   {
    "duration": 314,
    "start_time": "2022-11-24T07:12:30.813Z"
   },
   {
    "duration": 291,
    "start_time": "2022-11-24T07:12:31.963Z"
   },
   {
    "duration": 295,
    "start_time": "2022-11-24T07:12:33.115Z"
   },
   {
    "duration": 449,
    "start_time": "2022-11-24T07:12:34.327Z"
   },
   {
    "duration": 308,
    "start_time": "2022-11-24T07:12:35.517Z"
   },
   {
    "duration": 6,
    "start_time": "2022-11-24T07:12:36.897Z"
   },
   {
    "duration": 307,
    "start_time": "2022-11-24T07:12:38.658Z"
   },
   {
    "duration": 291,
    "start_time": "2022-11-24T07:12:40.283Z"
   },
   {
    "duration": 276,
    "start_time": "2022-11-24T07:12:42.162Z"
   },
   {
    "duration": 308,
    "start_time": "2022-11-24T07:12:44.648Z"
   },
   {
    "duration": 335,
    "start_time": "2022-11-24T07:12:46.399Z"
   },
   {
    "duration": 206,
    "start_time": "2022-11-24T07:12:48.291Z"
   },
   {
    "duration": 190,
    "start_time": "2022-11-24T07:12:50.823Z"
   },
   {
    "duration": 359,
    "start_time": "2022-11-24T07:12:56.356Z"
   },
   {
    "duration": 290,
    "start_time": "2022-11-24T07:12:58.485Z"
   },
   {
    "duration": 194,
    "start_time": "2022-11-24T07:13:00.409Z"
   },
   {
    "duration": 182,
    "start_time": "2022-11-24T07:13:02.285Z"
   },
   {
    "duration": 159,
    "start_time": "2022-11-24T07:13:04.029Z"
   },
   {
    "duration": 206,
    "start_time": "2022-11-24T07:13:05.702Z"
   },
   {
    "duration": 92,
    "start_time": "2022-11-24T07:13:06.494Z"
   },
   {
    "duration": 169,
    "start_time": "2022-11-24T07:13:07.339Z"
   },
   {
    "duration": 176,
    "start_time": "2022-11-24T07:13:10.121Z"
   },
   {
    "duration": 23,
    "start_time": "2022-11-24T07:13:14.418Z"
   },
   {
    "duration": 30,
    "start_time": "2022-11-24T07:17:10.520Z"
   },
   {
    "duration": 174,
    "start_time": "2022-11-24T07:17:28.356Z"
   },
   {
    "duration": 183,
    "start_time": "2022-11-24T07:18:52.616Z"
   },
   {
    "duration": 1105,
    "start_time": "2022-11-24T07:44:10.069Z"
   },
   {
    "duration": 33,
    "start_time": "2022-11-24T07:46:25.305Z"
   },
   {
    "duration": 78,
    "start_time": "2022-11-24T07:49:43.871Z"
   },
   {
    "duration": 48,
    "start_time": "2022-11-24T07:50:06.294Z"
   },
   {
    "duration": 33,
    "start_time": "2022-11-24T07:51:22.019Z"
   },
   {
    "duration": 33,
    "start_time": "2022-11-24T07:52:20.307Z"
   },
   {
    "duration": 11,
    "start_time": "2022-11-24T07:54:25.964Z"
   },
   {
    "duration": 16,
    "start_time": "2022-11-24T07:54:50.028Z"
   },
   {
    "duration": 2,
    "start_time": "2022-11-24T07:55:09.163Z"
   },
   {
    "duration": 88,
    "start_time": "2022-11-24T07:55:09.575Z"
   },
   {
    "duration": 166,
    "start_time": "2022-11-24T07:55:10.109Z"
   },
   {
    "duration": 2117,
    "start_time": "2022-11-24T07:55:10.520Z"
   },
   {
    "duration": 8,
    "start_time": "2022-11-24T07:55:12.639Z"
   },
   {
    "duration": 44,
    "start_time": "2022-11-24T07:55:12.649Z"
   },
   {
    "duration": 60,
    "start_time": "2022-11-24T07:55:12.695Z"
   },
   {
    "duration": 159,
    "start_time": "2022-11-24T07:55:13.577Z"
   },
   {
    "duration": 342,
    "start_time": "2022-11-24T07:55:14.057Z"
   },
   {
    "duration": 192,
    "start_time": "2022-11-24T07:55:15.062Z"
   },
   {
    "duration": 310,
    "start_time": "2022-11-24T07:55:16.063Z"
   },
   {
    "duration": 500,
    "start_time": "2022-11-24T07:55:17.117Z"
   },
   {
    "duration": 329,
    "start_time": "2022-11-24T07:55:18.029Z"
   },
   {
    "duration": 360,
    "start_time": "2022-11-24T07:55:18.976Z"
   },
   {
    "duration": 315,
    "start_time": "2022-11-24T07:55:19.852Z"
   },
   {
    "duration": 325,
    "start_time": "2022-11-24T07:55:20.724Z"
   },
   {
    "duration": 384,
    "start_time": "2022-11-24T07:55:21.614Z"
   },
   {
    "duration": 6,
    "start_time": "2022-11-24T07:55:22.555Z"
   },
   {
    "duration": 348,
    "start_time": "2022-11-24T07:55:23.495Z"
   },
   {
    "duration": 515,
    "start_time": "2022-11-24T07:55:24.468Z"
   },
   {
    "duration": 314,
    "start_time": "2022-11-24T07:55:25.459Z"
   },
   {
    "duration": 337,
    "start_time": "2022-11-24T07:55:28.201Z"
   },
   {
    "duration": 198,
    "start_time": "2022-11-24T07:55:29.004Z"
   },
   {
    "duration": 209,
    "start_time": "2022-11-24T07:55:30.317Z"
   },
   {
    "duration": 207,
    "start_time": "2022-11-24T07:55:32.206Z"
   },
   {
    "duration": 380,
    "start_time": "2022-11-24T07:55:33.266Z"
   },
   {
    "duration": 354,
    "start_time": "2022-11-24T07:55:34.457Z"
   },
   {
    "duration": 207,
    "start_time": "2022-11-24T07:55:35.725Z"
   },
   {
    "duration": 239,
    "start_time": "2022-11-24T07:55:37.245Z"
   },
   {
    "duration": 122,
    "start_time": "2022-11-24T07:55:38.582Z"
   },
   {
    "duration": 198,
    "start_time": "2022-11-24T07:55:39.811Z"
   },
   {
    "duration": 69,
    "start_time": "2022-11-24T07:55:41.123Z"
   },
   {
    "duration": 193,
    "start_time": "2022-11-24T07:55:41.879Z"
   },
   {
    "duration": 235,
    "start_time": "2022-11-24T07:55:43.966Z"
   },
   {
    "duration": 195,
    "start_time": "2022-11-24T07:55:45.098Z"
   },
   {
    "duration": 14,
    "start_time": "2022-11-24T07:55:48.700Z"
   },
   {
    "duration": 16,
    "start_time": "2022-11-24T07:56:50.714Z"
   },
   {
    "duration": 40,
    "start_time": "2022-11-24T08:03:52.938Z"
   },
   {
    "duration": 29,
    "start_time": "2022-11-24T08:06:11.901Z"
   },
   {
    "duration": 29,
    "start_time": "2022-11-24T08:07:32.483Z"
   },
   {
    "duration": 27,
    "start_time": "2022-11-24T08:10:07.522Z"
   },
   {
    "duration": 28,
    "start_time": "2022-11-24T08:11:31.122Z"
   },
   {
    "duration": 30,
    "start_time": "2022-11-24T08:11:56.826Z"
   },
   {
    "duration": 31,
    "start_time": "2022-11-24T08:12:15.049Z"
   },
   {
    "duration": 30,
    "start_time": "2022-11-24T08:13:24.540Z"
   },
   {
    "duration": 29,
    "start_time": "2022-11-24T08:15:40.533Z"
   },
   {
    "duration": 27,
    "start_time": "2022-11-24T08:16:26.683Z"
   },
   {
    "duration": 80,
    "start_time": "2022-11-24T08:16:36.351Z"
   },
   {
    "duration": 27,
    "start_time": "2022-11-24T08:17:19.790Z"
   },
   {
    "duration": 31,
    "start_time": "2022-11-24T08:17:44.346Z"
   },
   {
    "duration": 28,
    "start_time": "2022-11-24T08:18:59.673Z"
   },
   {
    "duration": 28,
    "start_time": "2022-11-24T08:19:12.198Z"
   },
   {
    "duration": 1292,
    "start_time": "2022-11-24T08:21:31.255Z"
   },
   {
    "duration": 274,
    "start_time": "2022-11-24T08:23:40.229Z"
   },
   {
    "duration": 473,
    "start_time": "2022-11-24T08:24:08.658Z"
   },
   {
    "duration": 1418,
    "start_time": "2022-11-24T08:33:26.074Z"
   },
   {
    "duration": 1614,
    "start_time": "2022-11-24T08:34:13.370Z"
   },
   {
    "duration": 461,
    "start_time": "2022-11-24T08:35:48.098Z"
   },
   {
    "duration": 423,
    "start_time": "2022-11-24T08:36:37.128Z"
   },
   {
    "duration": 433,
    "start_time": "2022-11-24T08:39:45.206Z"
   },
   {
    "duration": 447,
    "start_time": "2022-11-24T08:48:39.091Z"
   },
   {
    "duration": 43,
    "start_time": "2022-11-24T09:55:12.024Z"
   },
   {
    "duration": 103,
    "start_time": "2022-11-24T09:55:13.079Z"
   },
   {
    "duration": 270,
    "start_time": "2022-11-24T09:55:13.532Z"
   },
   {
    "duration": 190,
    "start_time": "2022-11-24T09:55:14.558Z"
   },
   {
    "duration": 545,
    "start_time": "2022-11-24T09:55:15.631Z"
   },
   {
    "duration": 320,
    "start_time": "2022-11-24T09:55:16.682Z"
   },
   {
    "duration": 345,
    "start_time": "2022-11-24T09:55:17.618Z"
   },
   {
    "duration": 311,
    "start_time": "2022-11-24T09:55:18.670Z"
   },
   {
    "duration": 339,
    "start_time": "2022-11-24T09:55:21.494Z"
   },
   {
    "duration": 327,
    "start_time": "2022-11-24T09:55:22.623Z"
   },
   {
    "duration": 337,
    "start_time": "2022-11-24T09:55:23.702Z"
   },
   {
    "duration": 6,
    "start_time": "2022-11-24T09:55:24.768Z"
   },
   {
    "duration": 334,
    "start_time": "2022-11-24T09:55:25.799Z"
   },
   {
    "duration": 318,
    "start_time": "2022-11-24T09:55:27.068Z"
   },
   {
    "duration": 577,
    "start_time": "2022-11-24T09:55:42.815Z"
   },
   {
    "duration": 338,
    "start_time": "2022-11-24T09:55:43.580Z"
   },
   {
    "duration": 193,
    "start_time": "2022-11-24T09:55:44.410Z"
   },
   {
    "duration": 216,
    "start_time": "2022-11-24T09:55:45.372Z"
   },
   {
    "duration": 194,
    "start_time": "2022-11-24T09:55:46.257Z"
   },
   {
    "duration": 390,
    "start_time": "2022-11-24T09:55:47.200Z"
   },
   {
    "duration": 330,
    "start_time": "2022-11-24T09:55:48.196Z"
   },
   {
    "duration": 210,
    "start_time": "2022-11-24T09:55:49.130Z"
   },
   {
    "duration": 213,
    "start_time": "2022-11-24T09:55:50.101Z"
   },
   {
    "duration": 144,
    "start_time": "2022-11-24T09:55:51.391Z"
   },
   {
    "duration": 187,
    "start_time": "2022-11-24T09:55:52.548Z"
   },
   {
    "duration": 200,
    "start_time": "2022-11-24T09:55:53.825Z"
   },
   {
    "duration": 195,
    "start_time": "2022-11-24T09:55:55.228Z"
   },
   {
    "duration": 198,
    "start_time": "2022-11-24T09:55:56.412Z"
   },
   {
    "duration": 465,
    "start_time": "2022-11-24T09:56:00.373Z"
   },
   {
    "duration": 604,
    "start_time": "2022-11-25T05:33:41.957Z"
   },
   {
    "duration": 139,
    "start_time": "2022-11-25T05:33:42.563Z"
   },
   {
    "duration": 140,
    "start_time": "2022-11-25T05:33:42.703Z"
   },
   {
    "duration": 1894,
    "start_time": "2022-11-25T05:33:42.844Z"
   },
   {
    "duration": 9,
    "start_time": "2022-11-25T05:33:44.740Z"
   },
   {
    "duration": 32,
    "start_time": "2022-11-25T05:33:44.750Z"
   },
   {
    "duration": 56,
    "start_time": "2022-11-25T05:33:44.783Z"
   },
   {
    "duration": 156,
    "start_time": "2022-11-25T05:33:44.840Z"
   },
   {
    "duration": 269,
    "start_time": "2022-11-25T05:33:44.998Z"
   },
   {
    "duration": 193,
    "start_time": "2022-11-25T05:33:45.269Z"
   },
   {
    "duration": 295,
    "start_time": "2022-11-25T05:33:45.464Z"
   },
   {
    "duration": 395,
    "start_time": "2022-11-25T05:33:45.761Z"
   },
   {
    "duration": 314,
    "start_time": "2022-11-25T05:33:46.157Z"
   },
   {
    "duration": 301,
    "start_time": "2022-11-25T05:33:46.473Z"
   },
   {
    "duration": 299,
    "start_time": "2022-11-25T05:33:46.776Z"
   },
   {
    "duration": 310,
    "start_time": "2022-11-25T05:33:47.077Z"
   },
   {
    "duration": 429,
    "start_time": "2022-11-25T05:33:47.389Z"
   },
   {
    "duration": 6,
    "start_time": "2022-11-25T05:33:47.819Z"
   },
   {
    "duration": 324,
    "start_time": "2022-11-25T05:33:47.838Z"
   },
   {
    "duration": 295,
    "start_time": "2022-11-25T05:33:48.164Z"
   },
   {
    "duration": 288,
    "start_time": "2022-11-25T05:33:48.460Z"
   },
   {
    "duration": 366,
    "start_time": "2022-11-25T05:33:48.750Z"
   },
   {
    "duration": 198,
    "start_time": "2022-11-25T05:33:49.118Z"
   },
   {
    "duration": 207,
    "start_time": "2022-11-25T05:33:49.318Z"
   },
   {
    "duration": 275,
    "start_time": "2022-11-25T05:33:49.527Z"
   },
   {
    "duration": 371,
    "start_time": "2022-11-25T05:33:49.803Z"
   },
   {
    "duration": 302,
    "start_time": "2022-11-25T05:33:50.176Z"
   },
   {
    "duration": 177,
    "start_time": "2022-11-25T05:33:50.481Z"
   },
   {
    "duration": 183,
    "start_time": "2022-11-25T05:33:50.660Z"
   },
   {
    "duration": 130,
    "start_time": "2022-11-25T05:33:50.845Z"
   },
   {
    "duration": 173,
    "start_time": "2022-11-25T05:33:50.976Z"
   },
   {
    "duration": 189,
    "start_time": "2022-11-25T05:33:51.151Z"
   },
   {
    "duration": 179,
    "start_time": "2022-11-25T05:33:51.341Z"
   },
   {
    "duration": 185,
    "start_time": "2022-11-25T05:33:51.522Z"
   },
   {
    "duration": 411,
    "start_time": "2022-11-25T05:33:51.709Z"
   },
   {
    "duration": 58,
    "start_time": "2022-11-25T14:27:49.087Z"
   },
   {
    "duration": 59,
    "start_time": "2022-11-25T14:28:05.468Z"
   },
   {
    "duration": 49,
    "start_time": "2022-11-25T14:28:15.432Z"
   },
   {
    "duration": 773,
    "start_time": "2022-11-25T14:40:43.821Z"
   },
   {
    "duration": 316,
    "start_time": "2022-11-25T14:40:44.597Z"
   },
   {
    "duration": 170,
    "start_time": "2022-11-25T14:40:44.915Z"
   },
   {
    "duration": 2143,
    "start_time": "2022-11-25T14:40:45.301Z"
   },
   {
    "duration": 9,
    "start_time": "2022-11-25T14:40:47.446Z"
   },
   {
    "duration": 38,
    "start_time": "2022-11-25T14:40:47.873Z"
   },
   {
    "duration": 39,
    "start_time": "2022-11-25T14:40:50.009Z"
   },
   {
    "duration": 154,
    "start_time": "2022-11-25T14:40:51.989Z"
   },
   {
    "duration": 298,
    "start_time": "2022-11-25T14:40:53.843Z"
   },
   {
    "duration": 319,
    "start_time": "2022-11-25T14:42:18.007Z"
   },
   {
    "duration": 399,
    "start_time": "2022-11-25T14:47:06.184Z"
   },
   {
    "duration": 56,
    "start_time": "2022-11-25T14:48:59.270Z"
   },
   {
    "duration": 57,
    "start_time": "2022-11-25T14:49:19.028Z"
   },
   {
    "duration": 56,
    "start_time": "2022-11-25T14:50:13.734Z"
   },
   {
    "duration": 346,
    "start_time": "2022-11-25T15:04:43.533Z"
   },
   {
    "duration": 382,
    "start_time": "2022-11-25T15:12:10.958Z"
   },
   {
    "duration": 370,
    "start_time": "2022-11-25T15:12:24.619Z"
   },
   {
    "duration": 349,
    "start_time": "2022-11-25T15:12:39.610Z"
   },
   {
    "duration": 365,
    "start_time": "2022-11-25T15:13:14.668Z"
   },
   {
    "duration": 439,
    "start_time": "2022-11-25T15:14:04.943Z"
   },
   {
    "duration": 1585,
    "start_time": "2022-11-25T15:33:50.658Z"
   },
   {
    "duration": 342,
    "start_time": "2022-11-25T15:33:59.487Z"
   },
   {
    "duration": 329,
    "start_time": "2022-11-25T15:34:46.793Z"
   },
   {
    "duration": 362,
    "start_time": "2022-11-25T15:39:55.131Z"
   },
   {
    "duration": 447,
    "start_time": "2022-11-25T15:40:35.405Z"
   },
   {
    "duration": 350,
    "start_time": "2022-11-25T15:41:08.840Z"
   },
   {
    "duration": 325,
    "start_time": "2022-11-25T15:48:42.869Z"
   },
   {
    "duration": 322,
    "start_time": "2022-11-25T15:49:39.942Z"
   },
   {
    "duration": 377,
    "start_time": "2022-11-25T15:54:14.607Z"
   },
   {
    "duration": 482,
    "start_time": "2022-11-25T16:18:06.240Z"
   },
   {
    "duration": 37,
    "start_time": "2022-11-25T16:18:18.899Z"
   },
   {
    "duration": 493,
    "start_time": "2022-11-25T16:19:47.288Z"
   },
   {
    "duration": 2,
    "start_time": "2022-11-25T16:20:38.511Z"
   },
   {
    "duration": 96,
    "start_time": "2022-11-25T16:20:38.967Z"
   },
   {
    "duration": 158,
    "start_time": "2022-11-25T16:20:39.338Z"
   },
   {
    "duration": 1994,
    "start_time": "2022-11-25T16:20:39.692Z"
   },
   {
    "duration": 11,
    "start_time": "2022-11-25T16:20:41.688Z"
   },
   {
    "duration": 35,
    "start_time": "2022-11-25T16:20:42.036Z"
   },
   {
    "duration": 51,
    "start_time": "2022-11-25T16:20:43.575Z"
   },
   {
    "duration": 165,
    "start_time": "2022-11-25T16:20:45.140Z"
   },
   {
    "duration": 425,
    "start_time": "2022-11-25T16:20:50.020Z"
   },
   {
    "duration": 231,
    "start_time": "2022-11-25T16:20:55.766Z"
   },
   {
    "duration": 358,
    "start_time": "2022-11-25T16:20:59.527Z"
   },
   {
    "duration": 373,
    "start_time": "2022-11-25T16:21:07.572Z"
   },
   {
    "duration": 378,
    "start_time": "2022-11-25T16:22:43.642Z"
   },
   {
    "duration": 537,
    "start_time": "2022-11-25T16:24:43.770Z"
   },
   {
    "duration": 380,
    "start_time": "2022-11-25T16:25:54.739Z"
   },
   {
    "duration": 530,
    "start_time": "2022-11-25T16:26:26.321Z"
   },
   {
    "duration": 364,
    "start_time": "2022-11-25T16:27:08.576Z"
   },
   {
    "duration": 428,
    "start_time": "2022-11-25T16:28:19.144Z"
   },
   {
    "duration": 47,
    "start_time": "2022-11-25T16:28:53.054Z"
   },
   {
    "duration": 303,
    "start_time": "2022-11-25T16:29:15.223Z"
   },
   {
    "duration": 444,
    "start_time": "2022-11-25T16:29:21.172Z"
   },
   {
    "duration": 208,
    "start_time": "2022-11-25T16:29:33.723Z"
   },
   {
    "duration": 354,
    "start_time": "2022-11-25T16:29:38.366Z"
   },
   {
    "duration": 54,
    "start_time": "2022-11-25T16:29:42.169Z"
   },
   {
    "duration": 25,
    "start_time": "2022-11-25T16:32:07.631Z"
   },
   {
    "duration": 358,
    "start_time": "2022-11-25T16:32:23.538Z"
   },
   {
    "duration": 358,
    "start_time": "2022-11-25T16:32:34.549Z"
   },
   {
    "duration": 29,
    "start_time": "2022-11-25T16:35:41.972Z"
   },
   {
    "duration": 559,
    "start_time": "2022-11-25T16:36:00.173Z"
   },
   {
    "duration": 390,
    "start_time": "2022-11-25T16:58:38.432Z"
   },
   {
    "duration": 372,
    "start_time": "2022-11-25T16:59:00.283Z"
   },
   {
    "duration": 358,
    "start_time": "2022-11-25T16:59:42.279Z"
   },
   {
    "duration": 409,
    "start_time": "2022-11-25T16:59:56.701Z"
   },
   {
    "duration": 8,
    "start_time": "2022-11-25T16:59:58.286Z"
   },
   {
    "duration": 382,
    "start_time": "2022-11-25T16:59:59.972Z"
   },
   {
    "duration": 578,
    "start_time": "2022-11-25T17:00:01.903Z"
   },
   {
    "duration": 370,
    "start_time": "2022-11-25T17:00:05.079Z"
   },
   {
    "duration": 308,
    "start_time": "2022-11-25T17:00:23.035Z"
   },
   {
    "duration": 7,
    "start_time": "2022-11-25T17:00:33.009Z"
   },
   {
    "duration": 111,
    "start_time": "2022-11-25T17:00:33.593Z"
   },
   {
    "duration": 230,
    "start_time": "2022-11-25T17:00:34.171Z"
   },
   {
    "duration": 2434,
    "start_time": "2022-11-25T17:00:34.823Z"
   },
   {
    "duration": 14,
    "start_time": "2022-11-25T17:00:39.250Z"
   },
   {
    "duration": 38,
    "start_time": "2022-11-25T17:00:40.527Z"
   },
   {
    "duration": 51,
    "start_time": "2022-11-25T17:00:57.895Z"
   },
   {
    "duration": 202,
    "start_time": "2022-11-25T17:01:05.146Z"
   },
   {
    "duration": 332,
    "start_time": "2022-11-25T17:01:11.128Z"
   },
   {
    "duration": 370,
    "start_time": "2022-11-25T17:01:38.913Z"
   },
   {
    "duration": 322,
    "start_time": "2022-11-25T17:01:44.239Z"
   },
   {
    "duration": 272,
    "start_time": "2022-11-25T17:01:56.268Z"
   },
   {
    "duration": 551,
    "start_time": "2022-11-25T17:02:00.955Z"
   },
   {
    "duration": 36,
    "start_time": "2022-11-25T17:02:05.040Z"
   },
   {
    "duration": 443,
    "start_time": "2022-11-25T17:02:15.944Z"
   },
   {
    "duration": 392,
    "start_time": "2022-11-25T17:02:44.733Z"
   },
   {
    "duration": 367,
    "start_time": "2022-11-25T17:02:50.068Z"
   },
   {
    "duration": 348,
    "start_time": "2022-11-25T17:02:54.247Z"
   },
   {
    "duration": 410,
    "start_time": "2022-11-25T17:02:59.032Z"
   },
   {
    "duration": 335,
    "start_time": "2022-11-25T17:04:30.931Z"
   },
   {
    "duration": 510,
    "start_time": "2022-11-25T17:05:18.041Z"
   },
   {
    "duration": 368,
    "start_time": "2022-11-25T17:07:03.612Z"
   },
   {
    "duration": 314,
    "start_time": "2022-11-25T17:19:22.577Z"
   },
   {
    "duration": 322,
    "start_time": "2022-11-25T17:19:37.793Z"
   },
   {
    "duration": 322,
    "start_time": "2022-11-25T17:20:10.055Z"
   },
   {
    "duration": 237,
    "start_time": "2022-11-25T17:20:57.692Z"
   },
   {
    "duration": 346,
    "start_time": "2022-11-25T17:21:01.204Z"
   },
   {
    "duration": 390,
    "start_time": "2022-11-25T17:21:07.668Z"
   },
   {
    "duration": 413,
    "start_time": "2022-11-25T17:22:02.013Z"
   },
   {
    "duration": 534,
    "start_time": "2022-11-25T17:22:27.739Z"
   },
   {
    "duration": 434,
    "start_time": "2022-11-25T17:22:34.173Z"
   },
   {
    "duration": 350,
    "start_time": "2022-11-25T17:24:23.072Z"
   },
   {
    "duration": 343,
    "start_time": "2022-11-25T17:24:31.456Z"
   },
   {
    "duration": 3,
    "start_time": "2022-11-25T17:25:01.845Z"
   },
   {
    "duration": 81,
    "start_time": "2022-11-25T17:25:02.429Z"
   },
   {
    "duration": 157,
    "start_time": "2022-11-25T17:25:02.828Z"
   },
   {
    "duration": 2225,
    "start_time": "2022-11-25T17:25:03.064Z"
   },
   {
    "duration": 29,
    "start_time": "2022-11-25T17:25:05.291Z"
   },
   {
    "duration": 39,
    "start_time": "2022-11-25T17:25:05.691Z"
   },
   {
    "duration": 47,
    "start_time": "2022-11-25T17:25:08.051Z"
   },
   {
    "duration": 186,
    "start_time": "2022-11-25T17:25:10.478Z"
   },
   {
    "duration": 315,
    "start_time": "2022-11-25T17:25:11.895Z"
   },
   {
    "duration": 308,
    "start_time": "2022-11-25T17:25:17.028Z"
   },
   {
    "duration": 216,
    "start_time": "2022-11-25T17:25:33.639Z"
   },
   {
    "duration": 456,
    "start_time": "2022-11-25T17:25:39.267Z"
   },
   {
    "duration": 40,
    "start_time": "2022-11-25T17:25:45.433Z"
   },
   {
    "duration": 37,
    "start_time": "2022-11-25T17:25:57.146Z"
   },
   {
    "duration": 33,
    "start_time": "2022-11-25T17:26:30.019Z"
   },
   {
    "duration": 384,
    "start_time": "2022-11-25T17:28:20.818Z"
   },
   {
    "duration": 412,
    "start_time": "2022-11-25T17:28:42.022Z"
   },
   {
    "duration": 383,
    "start_time": "2022-11-25T17:29:54.260Z"
   },
   {
    "duration": 614,
    "start_time": "2022-11-25T17:30:14.461Z"
   },
   {
    "duration": 372,
    "start_time": "2022-11-25T17:30:21.379Z"
   },
   {
    "duration": 354,
    "start_time": "2022-11-25T17:30:24.186Z"
   },
   {
    "duration": 381,
    "start_time": "2022-11-25T17:30:26.132Z"
   },
   {
    "duration": 452,
    "start_time": "2022-11-25T17:30:29.462Z"
   },
   {
    "duration": 391,
    "start_time": "2022-11-25T17:30:57.028Z"
   },
   {
    "duration": 4,
    "start_time": "2022-11-25T17:58:43.930Z"
   },
   {
    "duration": 123,
    "start_time": "2022-11-25T17:58:43.947Z"
   },
   {
    "duration": 191,
    "start_time": "2022-11-25T17:58:44.142Z"
   },
   {
    "duration": 2269,
    "start_time": "2022-11-25T17:58:44.493Z"
   },
   {
    "duration": 23,
    "start_time": "2022-11-25T17:58:48.910Z"
   },
   {
    "duration": 30,
    "start_time": "2022-11-25T17:58:48.952Z"
   },
   {
    "duration": 60,
    "start_time": "2022-11-25T17:58:49.044Z"
   },
   {
    "duration": 211,
    "start_time": "2022-11-25T17:58:49.167Z"
   },
   {
    "duration": 320,
    "start_time": "2022-11-25T17:58:51.340Z"
   },
   {
    "duration": 252,
    "start_time": "2022-11-25T17:58:51.897Z"
   },
   {
    "duration": 363,
    "start_time": "2022-11-25T17:58:52.151Z"
   },
   {
    "duration": 427,
    "start_time": "2022-11-25T17:58:52.516Z"
   },
   {
    "duration": 359,
    "start_time": "2022-11-25T17:58:52.945Z"
   },
   {
    "duration": 401,
    "start_time": "2022-11-25T17:58:53.307Z"
   },
   {
    "duration": 379,
    "start_time": "2022-11-25T17:58:53.710Z"
   },
   {
    "duration": 427,
    "start_time": "2022-11-25T17:58:54.091Z"
   },
   {
    "duration": 3,
    "start_time": "2022-11-25T18:03:30.764Z"
   },
   {
    "duration": 109,
    "start_time": "2022-11-25T18:03:31.544Z"
   },
   {
    "duration": 155,
    "start_time": "2022-11-25T18:03:32.429Z"
   },
   {
    "duration": 2204,
    "start_time": "2022-11-25T18:03:33.535Z"
   },
   {
    "duration": 11,
    "start_time": "2022-11-25T18:03:37.727Z"
   },
   {
    "duration": 45,
    "start_time": "2022-11-25T18:03:38.788Z"
   },
   {
    "duration": 61,
    "start_time": "2022-11-25T18:03:47.883Z"
   },
   {
    "duration": 225,
    "start_time": "2022-11-25T18:03:51.439Z"
   },
   {
    "duration": 315,
    "start_time": "2022-11-25T18:03:55.326Z"
   },
   {
    "duration": 324,
    "start_time": "2022-11-25T18:04:01.532Z"
   },
   {
    "duration": 247,
    "start_time": "2022-11-25T18:05:08.391Z"
   },
   {
    "duration": 350,
    "start_time": "2022-11-25T18:05:14.559Z"
   },
   {
    "duration": 420,
    "start_time": "2022-11-25T18:05:21.031Z"
   },
   {
    "duration": 378,
    "start_time": "2022-11-25T18:05:24.365Z"
   },
   {
    "duration": 46,
    "start_time": "2022-11-25T18:07:38.763Z"
   },
   {
    "duration": 63,
    "start_time": "2022-11-25T18:07:54.869Z"
   },
   {
    "duration": 355,
    "start_time": "2022-11-25T18:08:04.139Z"
   },
   {
    "duration": 439,
    "start_time": "2022-11-25T18:08:20.135Z"
   },
   {
    "duration": 518,
    "start_time": "2022-11-25T18:08:27.402Z"
   },
   {
    "duration": 450,
    "start_time": "2022-11-25T18:08:34.292Z"
   },
   {
    "duration": 549,
    "start_time": "2022-11-25T18:08:42.112Z"
   },
   {
    "duration": 507,
    "start_time": "2022-11-25T18:09:00.939Z"
   },
   {
    "duration": 7,
    "start_time": "2022-11-25T18:09:06.952Z"
   },
   {
    "duration": 408,
    "start_time": "2022-11-25T18:09:20.073Z"
   },
   {
    "duration": 374,
    "start_time": "2022-11-25T18:09:23.603Z"
   },
   {
    "duration": 390,
    "start_time": "2022-11-25T18:09:26.161Z"
   },
   {
    "duration": 399,
    "start_time": "2022-11-25T18:09:33.661Z"
   },
   {
    "duration": 209,
    "start_time": "2022-11-25T18:09:37.765Z"
   },
   {
    "duration": 217,
    "start_time": "2022-11-25T18:10:03.935Z"
   },
   {
    "duration": 231,
    "start_time": "2022-11-25T18:10:07.127Z"
   },
   {
    "duration": 204,
    "start_time": "2022-11-25T18:10:12.961Z"
   },
   {
    "duration": 484,
    "start_time": "2022-11-25T18:10:21.213Z"
   },
   {
    "duration": 412,
    "start_time": "2022-11-25T18:10:26.890Z"
   },
   {
    "duration": 218,
    "start_time": "2022-11-25T18:10:30.717Z"
   },
   {
    "duration": 818,
    "start_time": "2022-11-26T11:49:18.574Z"
   },
   {
    "duration": 309,
    "start_time": "2022-11-26T11:49:19.394Z"
   },
   {
    "duration": 165,
    "start_time": "2022-11-26T11:49:19.704Z"
   },
   {
    "duration": 2046,
    "start_time": "2022-11-26T11:49:19.871Z"
   },
   {
    "duration": 15,
    "start_time": "2022-11-26T11:49:21.919Z"
   },
   {
    "duration": 37,
    "start_time": "2022-11-26T11:49:21.937Z"
   },
   {
    "duration": 66,
    "start_time": "2022-11-26T11:49:21.975Z"
   },
   {
    "duration": 156,
    "start_time": "2022-11-26T11:49:22.043Z"
   },
   {
    "duration": 379,
    "start_time": "2022-11-26T11:49:22.201Z"
   },
   {
    "duration": 272,
    "start_time": "2022-11-26T11:49:22.583Z"
   },
   {
    "duration": 329,
    "start_time": "2022-11-26T11:49:22.856Z"
   },
   {
    "duration": 418,
    "start_time": "2022-11-26T11:49:23.186Z"
   },
   {
    "duration": 325,
    "start_time": "2022-11-26T11:49:23.606Z"
   },
   {
    "duration": 304,
    "start_time": "2022-11-26T11:49:23.932Z"
   },
   {
    "duration": 334,
    "start_time": "2022-11-26T11:49:24.238Z"
   },
   {
    "duration": 336,
    "start_time": "2022-11-26T11:49:24.573Z"
   },
   {
    "duration": 448,
    "start_time": "2022-11-26T11:49:24.911Z"
   },
   {
    "duration": 6,
    "start_time": "2022-11-26T11:49:25.361Z"
   },
   {
    "duration": 345,
    "start_time": "2022-11-26T11:49:25.370Z"
   },
   {
    "duration": 347,
    "start_time": "2022-11-26T11:49:25.717Z"
   },
   {
    "duration": 308,
    "start_time": "2022-11-26T11:49:26.066Z"
   },
   {
    "duration": 351,
    "start_time": "2022-11-26T11:49:26.376Z"
   },
   {
    "duration": 280,
    "start_time": "2022-11-26T11:49:26.730Z"
   },
   {
    "duration": 236,
    "start_time": "2022-11-26T11:49:27.012Z"
   },
   {
    "duration": 319,
    "start_time": "2022-11-26T11:49:27.250Z"
   },
   {
    "duration": 452,
    "start_time": "2022-11-26T11:49:27.570Z"
   },
   {
    "duration": 362,
    "start_time": "2022-11-26T11:49:28.024Z"
   },
   {
    "duration": 207,
    "start_time": "2022-11-26T11:49:28.389Z"
   },
   {
    "duration": 172405,
    "start_time": "2022-11-26T11:49:28.598Z"
   },
   {
    "duration": 140,
    "start_time": "2022-11-26T11:52:21.005Z"
   },
   {
    "duration": 171446,
    "start_time": "2022-11-26T11:52:21.147Z"
   },
   {
    "duration": 112703,
    "start_time": "2022-11-26T11:55:12.596Z"
   },
   {
    "duration": 622,
    "start_time": "2022-11-26T11:57:22.470Z"
   },
   {
    "duration": 95,
    "start_time": "2022-11-26T11:57:23.093Z"
   },
   {
    "duration": 153,
    "start_time": "2022-11-26T11:57:23.189Z"
   },
   {
    "duration": 1953,
    "start_time": "2022-11-26T11:57:23.344Z"
   },
   {
    "duration": 10,
    "start_time": "2022-11-26T11:57:25.299Z"
   },
   {
    "duration": 35,
    "start_time": "2022-11-26T11:57:25.310Z"
   },
   {
    "duration": 35,
    "start_time": "2022-11-26T11:57:25.347Z"
   },
   {
    "duration": 161,
    "start_time": "2022-11-26T11:57:25.384Z"
   },
   {
    "duration": 294,
    "start_time": "2022-11-26T11:57:25.546Z"
   },
   {
    "duration": 14,
    "start_time": "2022-11-26T11:57:25.842Z"
   },
   {
    "duration": 272,
    "start_time": "2022-11-26T11:57:25.857Z"
   },
   {
    "duration": 306,
    "start_time": "2022-11-26T11:57:26.131Z"
   },
   {
    "duration": 457,
    "start_time": "2022-11-26T11:57:26.440Z"
   },
   {
    "duration": 341,
    "start_time": "2022-11-26T11:57:26.899Z"
   },
   {
    "duration": 314,
    "start_time": "2022-11-26T11:57:27.242Z"
   },
   {
    "duration": 330,
    "start_time": "2022-11-26T11:57:27.557Z"
   },
   {
    "duration": 328,
    "start_time": "2022-11-26T11:57:27.889Z"
   },
   {
    "duration": 430,
    "start_time": "2022-11-26T11:57:28.219Z"
   },
   {
    "duration": 7,
    "start_time": "2022-11-26T11:57:28.651Z"
   },
   {
    "duration": 342,
    "start_time": "2022-11-26T11:57:28.660Z"
   },
   {
    "duration": 303,
    "start_time": "2022-11-26T11:57:29.004Z"
   },
   {
    "duration": 296,
    "start_time": "2022-11-26T11:57:29.308Z"
   },
   {
    "duration": 322,
    "start_time": "2022-11-26T11:57:29.605Z"
   },
   {
    "duration": 222,
    "start_time": "2022-11-26T11:57:29.929Z"
   },
   {
    "duration": 211,
    "start_time": "2022-11-26T11:57:30.153Z"
   },
   {
    "duration": 308,
    "start_time": "2022-11-26T11:57:30.366Z"
   },
   {
    "duration": 390,
    "start_time": "2022-11-26T11:57:30.675Z"
   },
   {
    "duration": 340,
    "start_time": "2022-11-26T11:57:31.069Z"
   },
   {
    "duration": 187,
    "start_time": "2022-11-26T11:57:31.411Z"
   },
   {
    "duration": 855,
    "start_time": "2022-11-26T18:01:43.228Z"
   },
   {
    "duration": 238,
    "start_time": "2022-11-26T18:01:44.086Z"
   },
   {
    "duration": 222,
    "start_time": "2022-11-26T18:01:44.330Z"
   },
   {
    "duration": 2508,
    "start_time": "2022-11-26T18:01:44.856Z"
   },
   {
    "duration": 13,
    "start_time": "2022-11-26T18:01:47.367Z"
   },
   {
    "duration": 47,
    "start_time": "2022-11-26T18:01:47.382Z"
   },
   {
    "duration": 60,
    "start_time": "2022-11-26T18:01:52.898Z"
   },
   {
    "duration": 269,
    "start_time": "2022-11-26T18:01:56.539Z"
   },
   {
    "duration": 285,
    "start_time": "2022-11-26T18:05:16.855Z"
   },
   {
    "duration": 16,
    "start_time": "2022-11-26T18:06:23.352Z"
   },
   {
    "duration": 3,
    "start_time": "2022-11-26T18:13:32.831Z"
   },
   {
    "duration": 88,
    "start_time": "2022-11-26T18:13:33.063Z"
   },
   {
    "duration": 455,
    "start_time": "2022-11-26T18:13:37.618Z"
   },
   {
    "duration": 186,
    "start_time": "2022-11-26T18:13:55.419Z"
   },
   {
    "duration": 718,
    "start_time": "2022-11-26T18:22:20.985Z"
   },
   {
    "duration": 97,
    "start_time": "2022-11-26T18:22:21.705Z"
   },
   {
    "duration": 170,
    "start_time": "2022-11-26T18:22:21.804Z"
   },
   {
    "duration": 2036,
    "start_time": "2022-11-26T18:22:21.976Z"
   },
   {
    "duration": 10,
    "start_time": "2022-11-26T18:22:24.014Z"
   },
   {
    "duration": 34,
    "start_time": "2022-11-26T18:22:24.026Z"
   },
   {
    "duration": 61,
    "start_time": "2022-11-26T18:22:24.062Z"
   },
   {
    "duration": 196,
    "start_time": "2022-11-26T18:22:24.125Z"
   },
   {
    "duration": 351,
    "start_time": "2022-11-26T18:22:24.324Z"
   },
   {
    "duration": 16,
    "start_time": "2022-11-26T18:22:24.679Z"
   },
   {
    "duration": 257,
    "start_time": "2022-11-26T18:22:24.697Z"
   },
   {
    "duration": 324,
    "start_time": "2022-11-26T18:22:24.956Z"
   },
   {
    "duration": 417,
    "start_time": "2022-11-26T18:22:25.282Z"
   },
   {
    "duration": 354,
    "start_time": "2022-11-26T18:22:25.700Z"
   },
   {
    "duration": 317,
    "start_time": "2022-11-26T18:22:26.056Z"
   },
   {
    "duration": 330,
    "start_time": "2022-11-26T18:22:26.375Z"
   },
   {
    "duration": 345,
    "start_time": "2022-11-26T18:22:26.707Z"
   },
   {
    "duration": 431,
    "start_time": "2022-11-26T18:22:27.054Z"
   },
   {
    "duration": 6,
    "start_time": "2022-11-26T18:22:27.487Z"
   },
   {
    "duration": 348,
    "start_time": "2022-11-26T18:22:27.494Z"
   },
   {
    "duration": 354,
    "start_time": "2022-11-26T18:22:27.844Z"
   },
   {
    "duration": 338,
    "start_time": "2022-11-26T18:22:28.200Z"
   },
   {
    "duration": 364,
    "start_time": "2022-11-26T18:22:28.540Z"
   },
   {
    "duration": 206,
    "start_time": "2022-11-26T18:22:28.906Z"
   },
   {
    "duration": 232,
    "start_time": "2022-11-26T18:22:29.114Z"
   },
   {
    "duration": 325,
    "start_time": "2022-11-26T18:22:29.348Z"
   },
   {
    "duration": 474,
    "start_time": "2022-11-26T18:22:29.675Z"
   },
   {
    "duration": 413,
    "start_time": "2022-11-26T18:22:30.154Z"
   },
   {
    "duration": 227,
    "start_time": "2022-11-26T18:22:30.569Z"
   },
   {
    "duration": 32035,
    "start_time": "2022-11-26T18:22:30.797Z"
   },
   {
    "duration": 149,
    "start_time": "2022-11-26T18:23:02.834Z"
   },
   {
    "duration": 681,
    "start_time": "2022-11-26T18:23:27.487Z"
   },
   {
    "duration": 95,
    "start_time": "2022-11-26T18:23:28.170Z"
   },
   {
    "duration": 147,
    "start_time": "2022-11-26T18:23:28.267Z"
   },
   {
    "duration": 1997,
    "start_time": "2022-11-26T18:23:28.423Z"
   },
   {
    "duration": 10,
    "start_time": "2022-11-26T18:23:30.422Z"
   },
   {
    "duration": 74,
    "start_time": "2022-11-26T18:23:30.433Z"
   },
   {
    "duration": 38,
    "start_time": "2022-11-26T18:23:30.509Z"
   },
   {
    "duration": 166,
    "start_time": "2022-11-26T18:23:30.549Z"
   },
   {
    "duration": 312,
    "start_time": "2022-11-26T18:23:30.718Z"
   },
   {
    "duration": 14,
    "start_time": "2022-11-26T18:23:31.033Z"
   },
   {
    "duration": 235,
    "start_time": "2022-11-26T18:23:31.048Z"
   },
   {
    "duration": 332,
    "start_time": "2022-11-26T18:23:31.285Z"
   },
   {
    "duration": 438,
    "start_time": "2022-11-26T18:23:31.622Z"
   },
   {
    "duration": 322,
    "start_time": "2022-11-26T18:23:32.062Z"
   },
   {
    "duration": 354,
    "start_time": "2022-11-26T18:23:32.386Z"
   },
   {
    "duration": 343,
    "start_time": "2022-11-26T18:23:32.742Z"
   },
   {
    "duration": 335,
    "start_time": "2022-11-26T18:23:33.087Z"
   },
   {
    "duration": 421,
    "start_time": "2022-11-26T18:23:33.423Z"
   },
   {
    "duration": 7,
    "start_time": "2022-11-26T18:23:33.846Z"
   },
   {
    "duration": 399,
    "start_time": "2022-11-26T18:23:33.855Z"
   },
   {
    "duration": 324,
    "start_time": "2022-11-26T18:23:34.256Z"
   },
   {
    "duration": 305,
    "start_time": "2022-11-26T18:23:34.582Z"
   },
   {
    "duration": 326,
    "start_time": "2022-11-26T18:23:34.888Z"
   },
   {
    "duration": 190,
    "start_time": "2022-11-26T18:23:35.221Z"
   },
   {
    "duration": 225,
    "start_time": "2022-11-26T18:23:35.413Z"
   },
   {
    "duration": 333,
    "start_time": "2022-11-26T18:23:35.640Z"
   },
   {
    "duration": 400,
    "start_time": "2022-11-26T18:23:35.975Z"
   },
   {
    "duration": 343,
    "start_time": "2022-11-26T18:23:36.379Z"
   },
   {
    "duration": 202,
    "start_time": "2022-11-26T18:23:36.724Z"
   },
   {
    "duration": 318,
    "start_time": "2022-11-26T20:25:06.249Z"
   },
   {
    "duration": 585,
    "start_time": "2022-11-26T20:25:22.223Z"
   },
   {
    "duration": 357,
    "start_time": "2022-11-26T20:25:22.810Z"
   },
   {
    "duration": 150,
    "start_time": "2022-11-26T20:25:23.169Z"
   },
   {
    "duration": 2148,
    "start_time": "2022-11-26T20:25:23.482Z"
   },
   {
    "duration": 9,
    "start_time": "2022-11-26T20:25:25.771Z"
   },
   {
    "duration": 33,
    "start_time": "2022-11-26T20:25:26.375Z"
   },
   {
    "duration": 41,
    "start_time": "2022-11-26T20:25:29.493Z"
   },
   {
    "duration": 162,
    "start_time": "2022-11-26T20:25:31.790Z"
   },
   {
    "duration": 107,
    "start_time": "2022-11-26T20:25:35.401Z"
   },
   {
    "duration": 51,
    "start_time": "2022-11-26T20:26:03.345Z"
   },
   {
    "duration": 51,
    "start_time": "2022-11-26T20:28:31.133Z"
   },
   {
    "duration": 59,
    "start_time": "2022-11-26T20:28:48.583Z"
   },
   {
    "duration": 57,
    "start_time": "2022-11-26T20:29:38.547Z"
   },
   {
    "duration": 99,
    "start_time": "2022-11-26T20:29:51.905Z"
   },
   {
    "duration": 65,
    "start_time": "2022-11-26T20:29:59.482Z"
   },
   {
    "duration": 44,
    "start_time": "2022-11-26T20:32:45.472Z"
   },
   {
    "duration": 84,
    "start_time": "2022-11-26T20:33:01.811Z"
   },
   {
    "duration": 121,
    "start_time": "2022-11-26T20:34:33.582Z"
   },
   {
    "duration": 74,
    "start_time": "2022-11-26T20:35:56.427Z"
   },
   {
    "duration": 89,
    "start_time": "2022-11-26T20:36:09.629Z"
   },
   {
    "duration": 101,
    "start_time": "2022-11-26T20:38:59.335Z"
   },
   {
    "duration": 68,
    "start_time": "2022-11-26T20:40:30.623Z"
   },
   {
    "duration": 129,
    "start_time": "2022-11-26T20:41:43.655Z"
   },
   {
    "duration": 92,
    "start_time": "2022-11-26T20:44:00.541Z"
   },
   {
    "duration": 87,
    "start_time": "2022-11-26T20:46:10.634Z"
   },
   {
    "duration": 76,
    "start_time": "2022-11-26T20:46:55.570Z"
   },
   {
    "duration": 81,
    "start_time": "2022-11-26T20:48:18.666Z"
   },
   {
    "duration": 87,
    "start_time": "2022-11-26T20:53:40.337Z"
   },
   {
    "duration": 101,
    "start_time": "2022-11-26T21:00:09.069Z"
   },
   {
    "duration": 127,
    "start_time": "2022-11-26T21:00:31.269Z"
   },
   {
    "duration": 82,
    "start_time": "2022-11-26T21:01:42.028Z"
   },
   {
    "duration": 76,
    "start_time": "2022-11-26T21:28:04.756Z"
   },
   {
    "duration": 70,
    "start_time": "2022-11-26T21:35:03.171Z"
   },
   {
    "duration": 59,
    "start_time": "2022-11-26T21:41:06.818Z"
   },
   {
    "duration": 55,
    "start_time": "2022-11-26T21:44:55.631Z"
   },
   {
    "duration": 60,
    "start_time": "2022-11-26T21:50:42.838Z"
   },
   {
    "duration": 2,
    "start_time": "2022-11-26T21:51:20.128Z"
   },
   {
    "duration": 99,
    "start_time": "2022-11-26T21:51:20.540Z"
   },
   {
    "duration": 145,
    "start_time": "2022-11-26T21:51:20.970Z"
   },
   {
    "duration": 2009,
    "start_time": "2022-11-26T21:51:21.423Z"
   },
   {
    "duration": 12,
    "start_time": "2022-11-26T21:51:23.971Z"
   },
   {
    "duration": 37,
    "start_time": "2022-11-26T21:51:24.573Z"
   },
   {
    "duration": 36,
    "start_time": "2022-11-26T21:51:29.276Z"
   },
   {
    "duration": 192,
    "start_time": "2022-11-26T21:51:31.439Z"
   },
   {
    "duration": 136,
    "start_time": "2022-11-26T21:51:33.835Z"
   },
   {
    "duration": 88,
    "start_time": "2022-11-26T21:53:09.018Z"
   },
   {
    "duration": 91,
    "start_time": "2022-11-26T21:57:37.003Z"
   },
   {
    "duration": 58,
    "start_time": "2022-11-26T21:58:14.372Z"
   },
   {
    "duration": 52,
    "start_time": "2022-11-26T21:58:30.768Z"
   },
   {
    "duration": 99,
    "start_time": "2022-11-26T21:58:56.640Z"
   },
   {
    "duration": 97,
    "start_time": "2022-11-26T22:00:12.637Z"
   },
   {
    "duration": 91,
    "start_time": "2022-11-26T22:00:43.305Z"
   },
   {
    "duration": 14,
    "start_time": "2022-11-26T22:01:06.311Z"
   },
   {
    "duration": 110,
    "start_time": "2022-11-26T22:01:23.579Z"
   },
   {
    "duration": 85,
    "start_time": "2022-11-26T22:02:03.028Z"
   },
   {
    "duration": 112,
    "start_time": "2022-11-26T22:02:30.163Z"
   },
   {
    "duration": 36,
    "start_time": "2022-11-26T22:05:20.710Z"
   },
   {
    "duration": 33,
    "start_time": "2022-11-26T22:05:34.971Z"
   },
   {
    "duration": 32,
    "start_time": "2022-11-26T22:06:54.317Z"
   },
   {
    "duration": 2429,
    "start_time": "2022-11-26T22:11:53.319Z"
   },
   {
    "duration": 2,
    "start_time": "2022-11-26T22:12:11.817Z"
   },
   {
    "duration": 104,
    "start_time": "2022-11-26T22:12:12.772Z"
   },
   {
    "duration": 159,
    "start_time": "2022-11-26T22:12:15.318Z"
   },
   {
    "duration": 2195,
    "start_time": "2022-11-26T22:12:30.169Z"
   },
   {
    "duration": 2270,
    "start_time": "2022-11-26T22:12:42.728Z"
   },
   {
    "duration": 9,
    "start_time": "2022-11-26T22:12:57.543Z"
   },
   {
    "duration": 41,
    "start_time": "2022-11-26T22:13:13.009Z"
   },
   {
    "duration": 44,
    "start_time": "2022-11-26T22:13:25.618Z"
   },
   {
    "duration": 182,
    "start_time": "2022-11-26T22:13:34.771Z"
   },
   {
    "duration": 142,
    "start_time": "2022-11-26T22:13:50.670Z"
   },
   {
    "duration": 127,
    "start_time": "2022-11-26T22:14:34.142Z"
   },
   {
    "duration": 105,
    "start_time": "2022-11-26T22:15:03.231Z"
   },
   {
    "duration": 115,
    "start_time": "2022-11-26T22:15:31.271Z"
   },
   {
    "duration": 80,
    "start_time": "2022-11-26T22:21:42.170Z"
   },
   {
    "duration": 47,
    "start_time": "2022-11-26T22:22:38.823Z"
   },
   {
    "duration": 4,
    "start_time": "2022-11-26T22:22:50.323Z"
   },
   {
    "duration": 105,
    "start_time": "2022-11-26T22:22:50.771Z"
   },
   {
    "duration": 154,
    "start_time": "2022-11-26T22:22:51.189Z"
   },
   {
    "duration": 2124,
    "start_time": "2022-11-26T22:22:51.976Z"
   },
   {
    "duration": 11,
    "start_time": "2022-11-26T22:23:01.430Z"
   },
   {
    "duration": 48,
    "start_time": "2022-11-26T22:23:05.966Z"
   },
   {
    "duration": 41,
    "start_time": "2022-11-26T22:23:12.796Z"
   },
   {
    "duration": 196,
    "start_time": "2022-11-26T22:23:16.505Z"
   },
   {
    "duration": 131,
    "start_time": "2022-11-26T22:23:35.001Z"
   },
   {
    "duration": 102,
    "start_time": "2022-11-26T22:23:47.514Z"
   },
   {
    "duration": 16,
    "start_time": "2022-11-26T22:23:52.187Z"
   },
   {
    "duration": 152,
    "start_time": "2022-11-26T22:24:58.521Z"
   },
   {
    "duration": 17,
    "start_time": "2022-11-26T22:25:31.609Z"
   },
   {
    "duration": 597,
    "start_time": "2022-11-26T22:28:01.145Z"
   },
   {
    "duration": 344,
    "start_time": "2022-11-26T22:28:05.094Z"
   },
   {
    "duration": 62,
    "start_time": "2022-11-26T22:28:33.243Z"
   },
   {
    "duration": 385,
    "start_time": "2022-11-26T22:28:43.318Z"
   },
   {
    "duration": 24,
    "start_time": "2022-11-26T22:29:45.909Z"
   },
   {
    "duration": 390,
    "start_time": "2022-11-26T22:29:59.927Z"
   },
   {
    "duration": 414,
    "start_time": "2022-11-26T22:30:29.701Z"
   },
   {
    "duration": 397,
    "start_time": "2022-11-26T22:32:16.696Z"
   },
   {
    "duration": 64,
    "start_time": "2022-11-26T22:34:29.157Z"
   },
   {
    "duration": 555,
    "start_time": "2022-11-26T22:35:46.468Z"
   },
   {
    "duration": 124,
    "start_time": "2022-11-26T22:37:04.761Z"
   },
   {
    "duration": 122,
    "start_time": "2022-11-26T22:37:26.177Z"
   },
   {
    "duration": 103,
    "start_time": "2022-11-26T22:38:07.307Z"
   },
   {
    "duration": 146,
    "start_time": "2022-11-26T22:39:16.451Z"
   },
   {
    "duration": 129,
    "start_time": "2022-11-26T22:40:33.991Z"
   },
   {
    "duration": 3,
    "start_time": "2022-11-26T22:40:57.924Z"
   },
   {
    "duration": 102,
    "start_time": "2022-11-26T22:40:58.311Z"
   },
   {
    "duration": 172,
    "start_time": "2022-11-26T22:40:58.832Z"
   },
   {
    "duration": 2088,
    "start_time": "2022-11-26T22:40:59.371Z"
   },
   {
    "duration": 11,
    "start_time": "2022-11-26T22:41:05.724Z"
   },
   {
    "duration": 55,
    "start_time": "2022-11-26T22:41:07.422Z"
   },
   {
    "duration": 51,
    "start_time": "2022-11-26T22:41:20.026Z"
   },
   {
    "duration": 191,
    "start_time": "2022-11-26T22:41:28.886Z"
   },
   {
    "duration": 113,
    "start_time": "2022-11-26T22:41:31.707Z"
   },
   {
    "duration": 113,
    "start_time": "2022-11-26T22:42:07.194Z"
   },
   {
    "duration": 104,
    "start_time": "2022-11-26T22:42:25.076Z"
   },
   {
    "duration": 3,
    "start_time": "2022-11-26T22:42:39.379Z"
   },
   {
    "duration": 104,
    "start_time": "2022-11-26T22:42:39.813Z"
   },
   {
    "duration": 156,
    "start_time": "2022-11-26T22:42:40.248Z"
   },
   {
    "duration": 2201,
    "start_time": "2022-11-26T22:42:40.645Z"
   },
   {
    "duration": 10,
    "start_time": "2022-11-26T22:42:42.869Z"
   },
   {
    "duration": 54,
    "start_time": "2022-11-26T22:42:43.819Z"
   },
   {
    "duration": 44,
    "start_time": "2022-11-26T22:42:47.382Z"
   },
   {
    "duration": 160,
    "start_time": "2022-11-26T22:42:50.194Z"
   },
   {
    "duration": 102,
    "start_time": "2022-11-26T22:42:52.816Z"
   },
   {
    "duration": 110,
    "start_time": "2022-11-26T22:43:09.979Z"
   },
   {
    "duration": 2,
    "start_time": "2022-11-26T22:43:32.383Z"
   },
   {
    "duration": 100,
    "start_time": "2022-11-26T22:43:32.990Z"
   },
   {
    "duration": 180,
    "start_time": "2022-11-26T22:43:33.598Z"
   },
   {
    "duration": 2223,
    "start_time": "2022-11-26T22:43:34.279Z"
   },
   {
    "duration": 11,
    "start_time": "2022-11-26T22:43:38.101Z"
   },
   {
    "duration": 48,
    "start_time": "2022-11-26T22:43:39.181Z"
   },
   {
    "duration": 44,
    "start_time": "2022-11-26T22:43:42.848Z"
   },
   {
    "duration": 164,
    "start_time": "2022-11-26T22:43:48.421Z"
   },
   {
    "duration": 103,
    "start_time": "2022-11-26T22:43:51.121Z"
   },
   {
    "duration": 119,
    "start_time": "2022-11-26T22:44:15.197Z"
   },
   {
    "duration": 114,
    "start_time": "2022-11-26T22:44:58.668Z"
   },
   {
    "duration": 14,
    "start_time": "2022-11-26T22:45:06.471Z"
   },
   {
    "duration": 361,
    "start_time": "2022-11-26T22:45:26.382Z"
   },
   {
    "duration": 505,
    "start_time": "2022-11-26T22:45:29.678Z"
   },
   {
    "duration": 408,
    "start_time": "2022-11-26T22:45:38.401Z"
   },
   {
    "duration": 57,
    "start_time": "2022-11-26T22:47:54.323Z"
   },
   {
    "duration": 58,
    "start_time": "2022-11-26T22:49:04.832Z"
   },
   {
    "duration": 53,
    "start_time": "2022-11-26T22:49:25.349Z"
   },
   {
    "duration": 52,
    "start_time": "2022-11-26T22:49:33.090Z"
   },
   {
    "duration": 373,
    "start_time": "2022-11-26T22:51:53.244Z"
   },
   {
    "duration": 394,
    "start_time": "2022-11-26T22:52:31.851Z"
   },
   {
    "duration": 399,
    "start_time": "2022-11-26T22:53:24.127Z"
   },
   {
    "duration": 390,
    "start_time": "2022-11-26T22:53:59.132Z"
   },
   {
    "duration": 533,
    "start_time": "2022-11-26T22:55:52.805Z"
   },
   {
    "duration": 383,
    "start_time": "2022-11-26T22:56:25.886Z"
   },
   {
    "duration": 381,
    "start_time": "2022-11-26T22:57:21.601Z"
   },
   {
    "duration": 358,
    "start_time": "2022-11-26T22:57:36.255Z"
   },
   {
    "duration": 68,
    "start_time": "2022-11-26T22:58:26.439Z"
   },
   {
    "duration": 376,
    "start_time": "2022-11-26T22:58:34.545Z"
   },
   {
    "duration": 421,
    "start_time": "2022-11-26T23:05:14.354Z"
   },
   {
    "duration": 520,
    "start_time": "2022-11-26T23:06:08.567Z"
   },
   {
    "duration": 55,
    "start_time": "2022-11-26T23:09:25.787Z"
   },
   {
    "duration": 355,
    "start_time": "2022-11-26T23:09:49.170Z"
   },
   {
    "duration": 328,
    "start_time": "2022-11-26T23:10:03.896Z"
   },
   {
    "duration": 350,
    "start_time": "2022-11-26T23:10:09.454Z"
   },
   {
    "duration": 341,
    "start_time": "2022-11-26T23:10:38.187Z"
   },
   {
    "duration": 364,
    "start_time": "2022-11-26T23:10:43.442Z"
   },
   {
    "duration": 60,
    "start_time": "2022-11-26T23:12:58.551Z"
   },
   {
    "duration": 50,
    "start_time": "2022-11-26T23:13:24.118Z"
   },
   {
    "duration": 315,
    "start_time": "2022-11-26T23:13:30.896Z"
   },
   {
    "duration": 531,
    "start_time": "2022-11-26T23:13:49.038Z"
   },
   {
    "duration": 43,
    "start_time": "2022-11-26T23:14:15.067Z"
   },
   {
    "duration": 321,
    "start_time": "2022-11-26T23:14:21.866Z"
   },
   {
    "duration": 318,
    "start_time": "2022-11-26T23:14:33.967Z"
   },
   {
    "duration": 346,
    "start_time": "2022-11-26T23:14:44.745Z"
   },
   {
    "duration": 338,
    "start_time": "2022-11-26T23:15:01.574Z"
   },
   {
    "duration": 340,
    "start_time": "2022-11-26T23:15:56.897Z"
   },
   {
    "duration": 506,
    "start_time": "2022-11-26T23:16:18.803Z"
   },
   {
    "duration": 307,
    "start_time": "2022-11-26T23:17:27.741Z"
   },
   {
    "duration": 345,
    "start_time": "2022-11-26T23:20:36.285Z"
   },
   {
    "duration": 318,
    "start_time": "2022-11-26T23:20:48.184Z"
   },
   {
    "duration": 332,
    "start_time": "2022-11-26T23:20:56.992Z"
   },
   {
    "duration": 349,
    "start_time": "2022-11-26T23:21:16.052Z"
   },
   {
    "duration": 7,
    "start_time": "2022-11-26T23:21:23.008Z"
   },
   {
    "duration": 331,
    "start_time": "2022-11-26T23:21:32.170Z"
   },
   {
    "duration": 509,
    "start_time": "2022-11-26T23:21:42.582Z"
   },
   {
    "duration": 321,
    "start_time": "2022-11-26T23:24:59.095Z"
   },
   {
    "duration": 338,
    "start_time": "2022-11-26T23:26:30.880Z"
   },
   {
    "duration": 345,
    "start_time": "2022-11-26T23:26:49.620Z"
   },
   {
    "duration": 314,
    "start_time": "2022-11-26T23:26:59.414Z"
   },
   {
    "duration": 312,
    "start_time": "2022-11-26T23:27:17.648Z"
   },
   {
    "duration": 201,
    "start_time": "2022-11-26T23:28:06.531Z"
   },
   {
    "duration": 364,
    "start_time": "2022-11-26T23:28:18.377Z"
   },
   {
    "duration": 199,
    "start_time": "2022-11-26T23:28:50.018Z"
   },
   {
    "duration": 196,
    "start_time": "2022-11-26T23:29:32.974Z"
   },
   {
    "duration": 438,
    "start_time": "2022-11-26T23:29:52.575Z"
   },
   {
    "duration": 364,
    "start_time": "2022-11-26T23:30:05.059Z"
   },
   {
    "duration": 238,
    "start_time": "2022-11-26T23:30:17.941Z"
   },
   {
    "duration": 277742,
    "start_time": "2022-11-26T23:35:00.040Z"
   },
   {
    "duration": 141,
    "start_time": "2022-11-26T23:39:37.784Z"
   },
   {
    "duration": 792,
    "start_time": "2022-11-27T18:38:33.803Z"
   },
   {
    "duration": 677,
    "start_time": "2022-11-27T18:38:34.597Z"
   },
   {
    "duration": 145,
    "start_time": "2022-11-27T18:38:35.276Z"
   },
   {
    "duration": 2077,
    "start_time": "2022-11-27T18:38:35.424Z"
   },
   {
    "duration": 10,
    "start_time": "2022-11-27T18:38:37.503Z"
   },
   {
    "duration": 44,
    "start_time": "2022-11-27T18:38:37.515Z"
   },
   {
    "duration": 38,
    "start_time": "2022-11-27T18:38:37.561Z"
   },
   {
    "duration": 185,
    "start_time": "2022-11-27T18:38:37.600Z"
   },
   {
    "duration": 114,
    "start_time": "2022-11-27T18:38:37.787Z"
   },
   {
    "duration": 12,
    "start_time": "2022-11-27T18:38:37.904Z"
   },
   {
    "duration": 232,
    "start_time": "2022-11-27T18:38:37.936Z"
   },
   {
    "duration": 308,
    "start_time": "2022-11-27T18:38:38.170Z"
   },
   {
    "duration": 361,
    "start_time": "2022-11-27T18:38:38.480Z"
   },
   {
    "duration": 410,
    "start_time": "2022-11-27T18:38:38.843Z"
   },
   {
    "duration": 297,
    "start_time": "2022-11-27T18:38:39.255Z"
   },
   {
    "duration": 323,
    "start_time": "2022-11-27T18:38:39.554Z"
   },
   {
    "duration": 345,
    "start_time": "2022-11-27T18:38:39.878Z"
   },
   {
    "duration": 329,
    "start_time": "2022-11-27T18:38:40.225Z"
   },
   {
    "duration": 7,
    "start_time": "2022-11-27T18:38:40.555Z"
   },
   {
    "duration": 443,
    "start_time": "2022-11-27T18:38:40.564Z"
   },
   {
    "duration": 309,
    "start_time": "2022-11-27T18:38:41.009Z"
   },
   {
    "duration": 309,
    "start_time": "2022-11-27T18:38:41.320Z"
   },
   {
    "duration": 344,
    "start_time": "2022-11-27T18:38:41.635Z"
   },
   {
    "duration": 193,
    "start_time": "2022-11-27T18:38:41.981Z"
   },
   {
    "duration": 226,
    "start_time": "2022-11-27T18:38:42.177Z"
   },
   {
    "duration": 283,
    "start_time": "2022-11-27T18:38:42.405Z"
   },
   {
    "duration": 381,
    "start_time": "2022-11-27T18:38:42.690Z"
   },
   {
    "duration": 416,
    "start_time": "2022-11-27T18:38:43.074Z"
   },
   {
    "duration": 203,
    "start_time": "2022-11-27T18:38:43.492Z"
   },
   {
    "duration": 167891,
    "start_time": "2022-11-27T18:38:43.697Z"
   },
   {
    "duration": 135,
    "start_time": "2022-11-27T18:41:31.590Z"
   },
   {
    "duration": 171455,
    "start_time": "2022-11-27T18:41:31.727Z"
   },
   {
    "duration": 169085,
    "start_time": "2022-11-27T18:44:23.183Z"
   },
   {
    "duration": 301,
    "start_time": "2022-11-28T12:10:25.308Z"
   },
   {
    "duration": 554,
    "start_time": "2022-11-28T12:10:35.945Z"
   },
   {
    "duration": 312,
    "start_time": "2022-11-28T12:10:36.501Z"
   },
   {
    "duration": 159,
    "start_time": "2022-11-28T12:10:36.815Z"
   },
   {
    "duration": 1915,
    "start_time": "2022-11-28T12:10:37.190Z"
   },
   {
    "duration": 10,
    "start_time": "2022-11-28T12:10:39.234Z"
   },
   {
    "duration": 44,
    "start_time": "2022-11-28T12:10:39.936Z"
   },
   {
    "duration": 37,
    "start_time": "2022-11-28T12:10:42.881Z"
   },
   {
    "duration": 137,
    "start_time": "2022-11-28T12:10:44.897Z"
   },
   {
    "duration": 803,
    "start_time": "2022-11-28T12:10:47.512Z"
   },
   {
    "duration": 24,
    "start_time": "2022-11-28T12:11:05.124Z"
   },
   {
    "duration": 224,
    "start_time": "2022-11-28T12:12:11.277Z"
   },
   {
    "duration": 193,
    "start_time": "2022-11-28T12:12:45.059Z"
   },
   {
    "duration": 24,
    "start_time": "2022-11-28T12:13:08.925Z"
   },
   {
    "duration": 26,
    "start_time": "2022-11-28T12:14:08.075Z"
   },
   {
    "duration": 38,
    "start_time": "2022-11-28T12:14:41.861Z"
   },
   {
    "duration": 29,
    "start_time": "2022-11-28T12:15:02.249Z"
   },
   {
    "duration": 19,
    "start_time": "2022-11-28T12:17:44.142Z"
   },
   {
    "duration": 21,
    "start_time": "2022-11-28T12:18:15.618Z"
   },
   {
    "duration": 23,
    "start_time": "2022-11-28T12:18:25.222Z"
   },
   {
    "duration": 24,
    "start_time": "2022-11-28T12:18:42.231Z"
   },
   {
    "duration": 41,
    "start_time": "2022-11-28T12:19:49.093Z"
   },
   {
    "duration": 3,
    "start_time": "2022-11-28T12:20:30.229Z"
   },
   {
    "duration": 119,
    "start_time": "2022-11-28T12:20:30.618Z"
   },
   {
    "duration": 143,
    "start_time": "2022-11-28T12:20:31.003Z"
   },
   {
    "duration": 2030,
    "start_time": "2022-11-28T12:20:31.463Z"
   },
   {
    "duration": 13,
    "start_time": "2022-11-28T12:20:34.896Z"
   },
   {
    "duration": 41,
    "start_time": "2022-11-28T12:20:41.794Z"
   },
   {
    "duration": 37,
    "start_time": "2022-11-28T12:20:46.114Z"
   },
   {
    "duration": 154,
    "start_time": "2022-11-28T12:20:49.892Z"
   },
   {
    "duration": 55,
    "start_time": "2022-11-28T12:20:56.120Z"
   },
   {
    "duration": 64,
    "start_time": "2022-11-28T12:23:13.847Z"
   },
   {
    "duration": 71,
    "start_time": "2022-11-28T12:24:12.867Z"
   },
   {
    "duration": 42,
    "start_time": "2022-11-28T12:24:26.109Z"
   },
   {
    "duration": 106,
    "start_time": "2022-11-28T12:24:38.649Z"
   },
   {
    "duration": 98,
    "start_time": "2022-11-28T12:26:30.879Z"
   },
   {
    "duration": 50,
    "start_time": "2022-11-28T12:28:56.265Z"
   },
   {
    "duration": 16,
    "start_time": "2022-11-28T12:29:04.746Z"
   },
   {
    "duration": 12,
    "start_time": "2022-11-28T12:29:09.407Z"
   },
   {
    "duration": 46,
    "start_time": "2022-11-28T12:30:01.576Z"
   },
   {
    "duration": 24,
    "start_time": "2022-11-28T12:30:15.244Z"
   },
   {
    "duration": 6,
    "start_time": "2022-11-28T12:30:22.943Z"
   },
   {
    "duration": 20,
    "start_time": "2022-11-28T12:30:33.591Z"
   },
   {
    "duration": 4,
    "start_time": "2022-11-28T12:30:43.354Z"
   },
   {
    "duration": 84,
    "start_time": "2022-11-28T12:30:43.707Z"
   },
   {
    "duration": 150,
    "start_time": "2022-11-28T12:30:44.393Z"
   },
   {
    "duration": 1983,
    "start_time": "2022-11-28T12:30:44.834Z"
   },
   {
    "duration": 9,
    "start_time": "2022-11-28T12:30:47.121Z"
   },
   {
    "duration": 40,
    "start_time": "2022-11-28T12:30:48.066Z"
   },
   {
    "duration": 40,
    "start_time": "2022-11-28T12:30:50.380Z"
   },
   {
    "duration": 187,
    "start_time": "2022-11-28T12:30:52.481Z"
   },
   {
    "duration": 65,
    "start_time": "2022-11-28T12:30:55.027Z"
   },
   {
    "duration": 19,
    "start_time": "2022-11-28T12:30:58.121Z"
   },
   {
    "duration": 18,
    "start_time": "2022-11-28T12:31:07.829Z"
   },
   {
    "duration": 17,
    "start_time": "2022-11-28T12:31:44.073Z"
   },
   {
    "duration": 17,
    "start_time": "2022-11-28T12:32:09.443Z"
   },
   {
    "duration": 31,
    "start_time": "2022-11-28T12:32:50.541Z"
   },
   {
    "duration": 32,
    "start_time": "2022-11-28T12:33:40.670Z"
   },
   {
    "duration": 760,
    "start_time": "2022-11-28T16:20:21.777Z"
   },
   {
    "duration": 146,
    "start_time": "2022-11-28T16:20:22.539Z"
   },
   {
    "duration": 142,
    "start_time": "2022-11-28T16:20:22.724Z"
   },
   {
    "duration": 2020,
    "start_time": "2022-11-28T16:20:23.405Z"
   },
   {
    "duration": 10,
    "start_time": "2022-11-28T16:20:25.948Z"
   },
   {
    "duration": 47,
    "start_time": "2022-11-28T16:20:26.709Z"
   },
   {
    "duration": 51,
    "start_time": "2022-11-28T16:20:30.276Z"
   },
   {
    "duration": 139,
    "start_time": "2022-11-28T16:20:34.364Z"
   },
   {
    "duration": 65,
    "start_time": "2022-11-28T16:20:40.695Z"
   },
   {
    "duration": 24,
    "start_time": "2022-11-28T16:21:21.683Z"
   },
   {
    "duration": 16,
    "start_time": "2022-11-28T16:21:28.658Z"
   },
   {
    "duration": 24,
    "start_time": "2022-11-28T16:22:27.668Z"
   },
   {
    "duration": 16,
    "start_time": "2022-11-28T16:22:43.622Z"
   },
   {
    "duration": 48,
    "start_time": "2022-11-28T16:23:25.393Z"
   },
   {
    "duration": 49,
    "start_time": "2022-11-28T16:23:37.008Z"
   },
   {
    "duration": 41,
    "start_time": "2022-11-28T16:23:47.648Z"
   },
   {
    "duration": 24,
    "start_time": "2022-11-28T16:24:02.650Z"
   },
   {
    "duration": 37,
    "start_time": "2022-11-28T16:26:39.996Z"
   },
   {
    "duration": 35,
    "start_time": "2022-11-28T16:27:18.765Z"
   },
   {
    "duration": 25,
    "start_time": "2022-11-28T16:29:50.408Z"
   },
   {
    "duration": 14,
    "start_time": "2022-11-28T16:30:35.235Z"
   },
   {
    "duration": 21,
    "start_time": "2022-11-28T16:30:50.308Z"
   },
   {
    "duration": 12,
    "start_time": "2022-11-28T16:30:54.280Z"
   },
   {
    "duration": 2,
    "start_time": "2022-11-28T16:31:07.080Z"
   },
   {
    "duration": 81,
    "start_time": "2022-11-28T16:31:07.641Z"
   },
   {
    "duration": 140,
    "start_time": "2022-11-28T16:31:08.179Z"
   },
   {
    "duration": 1945,
    "start_time": "2022-11-28T16:31:08.905Z"
   },
   {
    "duration": 9,
    "start_time": "2022-11-28T16:31:11.036Z"
   },
   {
    "duration": 39,
    "start_time": "2022-11-28T16:31:11.483Z"
   },
   {
    "duration": 39,
    "start_time": "2022-11-28T16:31:13.437Z"
   },
   {
    "duration": 135,
    "start_time": "2022-11-28T16:31:15.497Z"
   },
   {
    "duration": 67,
    "start_time": "2022-11-28T16:31:17.096Z"
   },
   {
    "duration": 52,
    "start_time": "2022-11-28T16:31:18.566Z"
   },
   {
    "duration": 31,
    "start_time": "2022-11-28T16:31:22.286Z"
   },
   {
    "duration": 13,
    "start_time": "2022-11-28T16:31:25.498Z"
   },
   {
    "duration": 18,
    "start_time": "2022-11-28T16:31:43.288Z"
   },
   {
    "duration": 18,
    "start_time": "2022-11-28T16:36:48.876Z"
   },
   {
    "duration": 18,
    "start_time": "2022-11-28T16:37:19.556Z"
   },
   {
    "duration": 19,
    "start_time": "2022-11-28T16:37:45.143Z"
   },
   {
    "duration": 15,
    "start_time": "2022-11-28T16:38:47.463Z"
   },
   {
    "duration": 87,
    "start_time": "2022-11-28T16:39:40.752Z"
   },
   {
    "duration": 29,
    "start_time": "2022-11-28T16:39:59.511Z"
   },
   {
    "duration": 3,
    "start_time": "2022-11-28T16:40:22.416Z"
   },
   {
    "duration": 83,
    "start_time": "2022-11-28T16:40:22.824Z"
   },
   {
    "duration": 133,
    "start_time": "2022-11-28T16:40:23.241Z"
   },
   {
    "duration": 2024,
    "start_time": "2022-11-28T16:40:23.625Z"
   },
   {
    "duration": 9,
    "start_time": "2022-11-28T16:40:25.651Z"
   },
   {
    "duration": 42,
    "start_time": "2022-11-28T16:40:25.868Z"
   },
   {
    "duration": 41,
    "start_time": "2022-11-28T16:40:27.911Z"
   },
   {
    "duration": 149,
    "start_time": "2022-11-28T16:40:29.977Z"
   },
   {
    "duration": 68,
    "start_time": "2022-11-28T16:40:30.999Z"
   },
   {
    "duration": 38,
    "start_time": "2022-11-28T16:40:31.420Z"
   },
   {
    "duration": 28,
    "start_time": "2022-11-28T16:40:32.195Z"
   },
   {
    "duration": 44,
    "start_time": "2022-11-28T16:40:36.302Z"
   },
   {
    "duration": 81,
    "start_time": "2022-11-28T16:44:08.795Z"
   },
   {
    "duration": 36,
    "start_time": "2022-11-28T16:45:55.872Z"
   },
   {
    "duration": 29,
    "start_time": "2022-11-28T16:46:11.905Z"
   },
   {
    "duration": 13,
    "start_time": "2022-11-28T16:46:38.698Z"
   },
   {
    "duration": 25,
    "start_time": "2022-11-28T16:46:55.189Z"
   },
   {
    "duration": 2,
    "start_time": "2022-11-28T16:47:12.283Z"
   },
   {
    "duration": 90,
    "start_time": "2022-11-28T16:47:12.723Z"
   },
   {
    "duration": 134,
    "start_time": "2022-11-28T16:47:13.102Z"
   },
   {
    "duration": 1816,
    "start_time": "2022-11-28T16:47:13.466Z"
   },
   {
    "duration": 9,
    "start_time": "2022-11-28T16:47:15.284Z"
   },
   {
    "duration": 185,
    "start_time": "2022-11-28T16:47:15.665Z"
   },
   {
    "duration": 38,
    "start_time": "2022-11-28T16:47:18.642Z"
   },
   {
    "duration": 142,
    "start_time": "2022-11-28T16:47:20.527Z"
   },
   {
    "duration": 62,
    "start_time": "2022-11-28T16:47:22.667Z"
   },
   {
    "duration": 38,
    "start_time": "2022-11-28T16:47:25.138Z"
   },
   {
    "duration": 27,
    "start_time": "2022-11-28T16:47:26.447Z"
   },
   {
    "duration": 28,
    "start_time": "2022-11-28T16:47:27.387Z"
   },
   {
    "duration": 51,
    "start_time": "2022-11-28T16:47:28.580Z"
   },
   {
    "duration": 26,
    "start_time": "2022-11-28T16:47:35.766Z"
   },
   {
    "duration": 37,
    "start_time": "2022-11-28T16:47:48.094Z"
   },
   {
    "duration": 26,
    "start_time": "2022-11-28T16:47:56.660Z"
   },
   {
    "duration": 2,
    "start_time": "2022-11-28T16:48:06.183Z"
   },
   {
    "duration": 89,
    "start_time": "2022-11-28T16:48:06.187Z"
   },
   {
    "duration": 138,
    "start_time": "2022-11-28T16:48:06.278Z"
   },
   {
    "duration": 1817,
    "start_time": "2022-11-28T16:48:06.418Z"
   },
   {
    "duration": 10,
    "start_time": "2022-11-28T16:48:08.238Z"
   },
   {
    "duration": 41,
    "start_time": "2022-11-28T16:48:08.250Z"
   },
   {
    "duration": 53,
    "start_time": "2022-11-28T16:48:08.293Z"
   },
   {
    "duration": 152,
    "start_time": "2022-11-28T16:48:08.348Z"
   },
   {
    "duration": 68,
    "start_time": "2022-11-28T16:48:08.502Z"
   },
   {
    "duration": 55,
    "start_time": "2022-11-28T16:48:08.572Z"
   },
   {
    "duration": 28,
    "start_time": "2022-11-28T16:48:08.629Z"
   },
   {
    "duration": 34,
    "start_time": "2022-11-28T16:48:42.243Z"
   },
   {
    "duration": 45,
    "start_time": "2022-11-28T16:49:09.731Z"
   },
   {
    "duration": 31,
    "start_time": "2022-11-28T16:54:28.012Z"
   },
   {
    "duration": 31,
    "start_time": "2022-11-28T16:55:07.988Z"
   },
   {
    "duration": 25,
    "start_time": "2022-11-28T16:55:30.990Z"
   },
   {
    "duration": 3,
    "start_time": "2022-11-28T16:55:45.505Z"
   },
   {
    "duration": 99,
    "start_time": "2022-11-28T16:55:45.512Z"
   },
   {
    "duration": 141,
    "start_time": "2022-11-28T16:55:45.613Z"
   },
   {
    "duration": 1888,
    "start_time": "2022-11-28T16:55:45.756Z"
   },
   {
    "duration": 9,
    "start_time": "2022-11-28T16:55:47.646Z"
   },
   {
    "duration": 39,
    "start_time": "2022-11-28T16:55:47.656Z"
   },
   {
    "duration": 36,
    "start_time": "2022-11-28T16:55:47.713Z"
   },
   {
    "duration": 153,
    "start_time": "2022-11-28T16:55:47.751Z"
   },
   {
    "duration": 74,
    "start_time": "2022-11-28T16:55:47.905Z"
   },
   {
    "duration": 59,
    "start_time": "2022-11-28T16:55:47.981Z"
   },
   {
    "duration": 28,
    "start_time": "2022-11-28T16:55:48.042Z"
   },
   {
    "duration": 46,
    "start_time": "2022-11-28T16:55:54.894Z"
   },
   {
    "duration": 46,
    "start_time": "2022-11-28T16:56:06.045Z"
   },
   {
    "duration": 31,
    "start_time": "2022-11-28T16:56:18.478Z"
   },
   {
    "duration": 119,
    "start_time": "2022-11-28T16:58:57.572Z"
   },
   {
    "duration": 83,
    "start_time": "2022-11-28T17:00:22.736Z"
   },
   {
    "duration": 79,
    "start_time": "2022-11-28T17:01:06.060Z"
   },
   {
    "duration": 86,
    "start_time": "2022-11-28T17:01:15.220Z"
   },
   {
    "duration": 3,
    "start_time": "2022-11-28T17:01:24.930Z"
   },
   {
    "duration": 86,
    "start_time": "2022-11-28T17:01:24.935Z"
   },
   {
    "duration": 149,
    "start_time": "2022-11-28T17:01:25.023Z"
   },
   {
    "duration": 1884,
    "start_time": "2022-11-28T17:01:25.174Z"
   },
   {
    "duration": 18,
    "start_time": "2022-11-28T17:01:27.059Z"
   },
   {
    "duration": 48,
    "start_time": "2022-11-28T17:01:27.079Z"
   },
   {
    "duration": 38,
    "start_time": "2022-11-28T17:01:27.129Z"
   },
   {
    "duration": 169,
    "start_time": "2022-11-28T17:01:27.168Z"
   },
   {
    "duration": 79,
    "start_time": "2022-11-28T17:01:27.339Z"
   },
   {
    "duration": 36,
    "start_time": "2022-11-28T17:01:27.419Z"
   },
   {
    "duration": 28,
    "start_time": "2022-11-28T17:01:27.457Z"
   },
   {
    "duration": 71,
    "start_time": "2022-11-28T17:01:41.588Z"
   },
   {
    "duration": 71,
    "start_time": "2022-11-28T17:01:53.584Z"
   },
   {
    "duration": 34,
    "start_time": "2022-11-28T17:02:02.142Z"
   },
   {
    "duration": 661,
    "start_time": "2022-11-28T17:02:13.744Z"
   },
   {
    "duration": 29,
    "start_time": "2022-11-28T17:02:45.096Z"
   },
   {
    "duration": 30,
    "start_time": "2022-11-28T17:03:06.454Z"
   },
   {
    "duration": 3,
    "start_time": "2022-11-28T17:03:13.660Z"
   },
   {
    "duration": 86,
    "start_time": "2022-11-28T17:03:13.665Z"
   },
   {
    "duration": 132,
    "start_time": "2022-11-28T17:03:13.753Z"
   },
   {
    "duration": 1931,
    "start_time": "2022-11-28T17:03:13.887Z"
   },
   {
    "duration": 9,
    "start_time": "2022-11-28T17:03:15.820Z"
   },
   {
    "duration": 38,
    "start_time": "2022-11-28T17:03:15.830Z"
   },
   {
    "duration": 57,
    "start_time": "2022-11-28T17:03:15.869Z"
   },
   {
    "duration": 150,
    "start_time": "2022-11-28T17:03:15.927Z"
   },
   {
    "duration": 72,
    "start_time": "2022-11-28T17:03:16.079Z"
   },
   {
    "duration": 35,
    "start_time": "2022-11-28T17:03:16.153Z"
   },
   {
    "duration": 46,
    "start_time": "2022-11-28T17:03:16.190Z"
   },
   {
    "duration": 37,
    "start_time": "2022-11-28T17:03:26.442Z"
   },
   {
    "duration": 22,
    "start_time": "2022-11-28T17:03:40.284Z"
   },
   {
    "duration": 4,
    "start_time": "2022-11-28T17:04:04.295Z"
   },
   {
    "duration": 19,
    "start_time": "2022-11-28T17:04:10.362Z"
   },
   {
    "duration": 7,
    "start_time": "2022-11-28T17:04:29.608Z"
   },
   {
    "duration": 20,
    "start_time": "2022-11-28T17:04:40.994Z"
   },
   {
    "duration": 23,
    "start_time": "2022-11-28T17:05:17.121Z"
   },
   {
    "duration": 2,
    "start_time": "2022-11-28T17:05:23.057Z"
   },
   {
    "duration": 90,
    "start_time": "2022-11-28T17:05:23.061Z"
   },
   {
    "duration": 131,
    "start_time": "2022-11-28T17:05:23.153Z"
   },
   {
    "duration": 1904,
    "start_time": "2022-11-28T17:05:23.285Z"
   },
   {
    "duration": 9,
    "start_time": "2022-11-28T17:05:25.191Z"
   },
   {
    "duration": 46,
    "start_time": "2022-11-28T17:05:25.201Z"
   },
   {
    "duration": 35,
    "start_time": "2022-11-28T17:05:25.249Z"
   },
   {
    "duration": 167,
    "start_time": "2022-11-28T17:05:25.285Z"
   },
   {
    "duration": 78,
    "start_time": "2022-11-28T17:05:25.454Z"
   },
   {
    "duration": 37,
    "start_time": "2022-11-28T17:05:25.533Z"
   },
   {
    "duration": 48,
    "start_time": "2022-11-28T17:05:25.572Z"
   },
   {
    "duration": 37,
    "start_time": "2022-11-28T17:05:51.440Z"
   },
   {
    "duration": 44,
    "start_time": "2022-11-28T17:07:59.365Z"
   },
   {
    "duration": 38,
    "start_time": "2022-11-28T17:14:34.572Z"
   },
   {
    "duration": 7,
    "start_time": "2022-11-28T17:23:29.794Z"
   },
   {
    "duration": 80,
    "start_time": "2022-11-28T17:24:50.491Z"
   },
   {
    "duration": 50,
    "start_time": "2022-11-28T17:26:24.668Z"
   },
   {
    "duration": 93,
    "start_time": "2022-11-28T17:30:07.949Z"
   },
   {
    "duration": 75,
    "start_time": "2022-11-28T17:30:19.416Z"
   },
   {
    "duration": 4,
    "start_time": "2022-11-28T17:31:12.291Z"
   },
   {
    "duration": 100,
    "start_time": "2022-11-28T17:31:12.297Z"
   },
   {
    "duration": 137,
    "start_time": "2022-11-28T17:31:12.400Z"
   },
   {
    "duration": 1820,
    "start_time": "2022-11-28T17:31:12.539Z"
   },
   {
    "duration": 10,
    "start_time": "2022-11-28T17:31:14.360Z"
   },
   {
    "duration": 59,
    "start_time": "2022-11-28T17:31:14.371Z"
   },
   {
    "duration": 34,
    "start_time": "2022-11-28T17:31:14.432Z"
   },
   {
    "duration": 166,
    "start_time": "2022-11-28T17:31:14.468Z"
   },
   {
    "duration": 81,
    "start_time": "2022-11-28T17:31:14.637Z"
   },
   {
    "duration": 40,
    "start_time": "2022-11-28T17:31:14.720Z"
   },
   {
    "duration": 54,
    "start_time": "2022-11-28T17:31:14.763Z"
   },
   {
    "duration": 47,
    "start_time": "2022-11-28T17:31:14.820Z"
   },
   {
    "duration": 38,
    "start_time": "2022-11-28T17:31:23.824Z"
   },
   {
    "duration": 75,
    "start_time": "2022-11-28T17:31:33.720Z"
   },
   {
    "duration": 65,
    "start_time": "2022-11-28T17:32:34.619Z"
   },
   {
    "duration": 53,
    "start_time": "2022-11-28T17:33:06.268Z"
   },
   {
    "duration": 3,
    "start_time": "2022-11-28T17:33:14.265Z"
   },
   {
    "duration": 92,
    "start_time": "2022-11-28T17:33:14.270Z"
   },
   {
    "duration": 133,
    "start_time": "2022-11-28T17:33:14.364Z"
   },
   {
    "duration": 1942,
    "start_time": "2022-11-28T17:33:14.499Z"
   },
   {
    "duration": 9,
    "start_time": "2022-11-28T17:33:16.442Z"
   },
   {
    "duration": 39,
    "start_time": "2022-11-28T17:33:16.453Z"
   },
   {
    "duration": 37,
    "start_time": "2022-11-28T17:33:16.513Z"
   },
   {
    "duration": 164,
    "start_time": "2022-11-28T17:33:16.551Z"
   },
   {
    "duration": 63,
    "start_time": "2022-11-28T17:33:16.717Z"
   },
   {
    "duration": 59,
    "start_time": "2022-11-28T17:33:16.782Z"
   },
   {
    "duration": 30,
    "start_time": "2022-11-28T17:33:16.843Z"
   },
   {
    "duration": 75,
    "start_time": "2022-11-28T17:33:16.875Z"
   },
   {
    "duration": 35,
    "start_time": "2022-11-28T17:33:24.720Z"
   },
   {
    "duration": 55,
    "start_time": "2022-11-28T17:33:28.086Z"
   },
   {
    "duration": 55,
    "start_time": "2022-11-28T17:34:06.977Z"
   },
   {
    "duration": 3,
    "start_time": "2022-11-28T17:34:13.967Z"
   },
   {
    "duration": 83,
    "start_time": "2022-11-28T17:34:14.404Z"
   },
   {
    "duration": 135,
    "start_time": "2022-11-28T17:34:14.838Z"
   },
   {
    "duration": 1871,
    "start_time": "2022-11-28T17:34:15.232Z"
   },
   {
    "duration": 9,
    "start_time": "2022-11-28T17:34:17.112Z"
   },
   {
    "duration": 41,
    "start_time": "2022-11-28T17:34:17.442Z"
   },
   {
    "duration": 37,
    "start_time": "2022-11-28T17:34:19.604Z"
   },
   {
    "duration": 144,
    "start_time": "2022-11-28T17:34:21.455Z"
   },
   {
    "duration": 63,
    "start_time": "2022-11-28T17:34:22.730Z"
   },
   {
    "duration": 43,
    "start_time": "2022-11-28T17:34:24.512Z"
   },
   {
    "duration": 29,
    "start_time": "2022-11-28T17:34:25.312Z"
   },
   {
    "duration": 47,
    "start_time": "2022-11-28T17:34:26.126Z"
   },
   {
    "duration": 54,
    "start_time": "2022-11-28T17:34:28.074Z"
   },
   {
    "duration": 44,
    "start_time": "2022-11-28T17:34:29.317Z"
   },
   {
    "duration": 50,
    "start_time": "2022-11-28T17:34:37.215Z"
   },
   {
    "duration": 56,
    "start_time": "2022-11-28T17:34:43.821Z"
   },
   {
    "duration": 39,
    "start_time": "2022-11-28T17:34:47.731Z"
   },
   {
    "duration": 38,
    "start_time": "2022-11-28T17:34:55.662Z"
   },
   {
    "duration": 52,
    "start_time": "2022-11-28T17:34:56.607Z"
   },
   {
    "duration": 50,
    "start_time": "2022-11-28T17:35:00.650Z"
   },
   {
    "duration": 63,
    "start_time": "2022-11-28T17:36:01.920Z"
   },
   {
    "duration": 48,
    "start_time": "2022-11-28T17:36:40.303Z"
   },
   {
    "duration": 2,
    "start_time": "2022-11-28T17:36:46.724Z"
   },
   {
    "duration": 88,
    "start_time": "2022-11-28T17:36:47.219Z"
   },
   {
    "duration": 130,
    "start_time": "2022-11-28T17:36:47.674Z"
   },
   {
    "duration": 1934,
    "start_time": "2022-11-28T17:36:48.113Z"
   },
   {
    "duration": 9,
    "start_time": "2022-11-28T17:36:50.049Z"
   },
   {
    "duration": 45,
    "start_time": "2022-11-28T17:36:50.469Z"
   },
   {
    "duration": 35,
    "start_time": "2022-11-28T17:36:52.258Z"
   },
   {
    "duration": 176,
    "start_time": "2022-11-28T17:36:54.582Z"
   },
   {
    "duration": 64,
    "start_time": "2022-11-28T17:36:56.166Z"
   },
   {
    "duration": 35,
    "start_time": "2022-11-28T17:36:57.734Z"
   },
   {
    "duration": 28,
    "start_time": "2022-11-28T17:37:01.111Z"
   },
   {
    "duration": 44,
    "start_time": "2022-11-28T17:37:07.334Z"
   },
   {
    "duration": 1839,
    "start_time": "2022-11-28T17:37:12.766Z"
   },
   {
    "duration": 7,
    "start_time": "2022-11-28T17:48:49.930Z"
   },
   {
    "duration": 1281,
    "start_time": "2022-11-28T17:49:19.600Z"
   },
   {
    "duration": 18,
    "start_time": "2022-11-28T17:49:49.456Z"
   },
   {
    "duration": 20,
    "start_time": "2022-11-28T17:50:37.767Z"
   },
   {
    "duration": 16,
    "start_time": "2022-11-28T17:50:51.918Z"
   },
   {
    "duration": 60,
    "start_time": "2022-11-28T17:51:18.899Z"
   },
   {
    "duration": 13,
    "start_time": "2022-11-28T17:58:09.277Z"
   },
   {
    "duration": 22,
    "start_time": "2022-11-28T17:58:21.213Z"
   },
   {
    "duration": 2,
    "start_time": "2022-11-28T17:59:22.988Z"
   },
   {
    "duration": 90,
    "start_time": "2022-11-28T17:59:23.338Z"
   },
   {
    "duration": 138,
    "start_time": "2022-11-28T17:59:23.715Z"
   },
   {
    "duration": 1894,
    "start_time": "2022-11-28T17:59:24.059Z"
   },
   {
    "duration": 9,
    "start_time": "2022-11-28T17:59:25.955Z"
   },
   {
    "duration": 58,
    "start_time": "2022-11-28T17:59:25.965Z"
   },
   {
    "duration": 45,
    "start_time": "2022-11-28T17:59:27.327Z"
   },
   {
    "duration": 156,
    "start_time": "2022-11-28T17:59:28.916Z"
   },
   {
    "duration": 65,
    "start_time": "2022-11-28T17:59:30.096Z"
   },
   {
    "duration": 36,
    "start_time": "2022-11-28T17:59:30.695Z"
   },
   {
    "duration": 30,
    "start_time": "2022-11-28T17:59:31.371Z"
   },
   {
    "duration": 43,
    "start_time": "2022-11-28T17:59:32.819Z"
   },
   {
    "duration": 21,
    "start_time": "2022-11-28T17:59:34.804Z"
   },
   {
    "duration": 20,
    "start_time": "2022-11-28T17:59:50.140Z"
   },
   {
    "duration": 2,
    "start_time": "2022-11-28T18:00:19.010Z"
   },
   {
    "duration": 90,
    "start_time": "2022-11-28T18:00:19.655Z"
   },
   {
    "duration": 179,
    "start_time": "2022-11-28T18:00:20.180Z"
   },
   {
    "duration": 1922,
    "start_time": "2022-11-28T18:00:20.726Z"
   },
   {
    "duration": 11,
    "start_time": "2022-11-28T18:00:23.317Z"
   },
   {
    "duration": 41,
    "start_time": "2022-11-28T18:00:23.977Z"
   },
   {
    "duration": 35,
    "start_time": "2022-11-28T18:00:26.668Z"
   },
   {
    "duration": 211,
    "start_time": "2022-11-28T18:00:30.318Z"
   },
   {
    "duration": 78,
    "start_time": "2022-11-28T18:00:31.956Z"
   },
   {
    "duration": 38,
    "start_time": "2022-11-28T18:00:35.111Z"
   },
   {
    "duration": 29,
    "start_time": "2022-11-28T18:00:37.779Z"
   },
   {
    "duration": 46,
    "start_time": "2022-11-28T18:00:39.982Z"
   },
   {
    "duration": 20,
    "start_time": "2022-11-28T18:00:49.568Z"
   },
   {
    "duration": 16,
    "start_time": "2022-11-28T18:01:07.077Z"
   },
   {
    "duration": 17,
    "start_time": "2022-11-28T18:01:33.635Z"
   },
   {
    "duration": 2,
    "start_time": "2022-11-28T18:02:34.447Z"
   },
   {
    "duration": 88,
    "start_time": "2022-11-28T18:02:34.945Z"
   },
   {
    "duration": 137,
    "start_time": "2022-11-28T18:02:35.577Z"
   },
   {
    "duration": 1828,
    "start_time": "2022-11-28T18:02:36.519Z"
   },
   {
    "duration": 9,
    "start_time": "2022-11-28T18:02:42.432Z"
   },
   {
    "duration": 44,
    "start_time": "2022-11-28T18:02:43.532Z"
   },
   {
    "duration": 38,
    "start_time": "2022-11-28T18:02:47.953Z"
   },
   {
    "duration": 157,
    "start_time": "2022-11-28T18:02:51.661Z"
   },
   {
    "duration": 62,
    "start_time": "2022-11-28T18:02:53.619Z"
   },
   {
    "duration": 40,
    "start_time": "2022-11-28T18:02:54.571Z"
   },
   {
    "duration": 28,
    "start_time": "2022-11-28T18:02:56.039Z"
   },
   {
    "duration": 46,
    "start_time": "2022-11-28T18:02:57.326Z"
   },
   {
    "duration": 18,
    "start_time": "2022-11-28T18:02:58.403Z"
   },
   {
    "duration": 14,
    "start_time": "2022-11-28T18:03:45.828Z"
   },
   {
    "duration": 1300,
    "start_time": "2022-11-28T18:10:49.801Z"
   },
   {
    "duration": 54,
    "start_time": "2022-11-28T18:12:52.547Z"
   },
   {
    "duration": 21,
    "start_time": "2022-11-28T18:14:46.487Z"
   },
   {
    "duration": 20,
    "start_time": "2022-11-28T18:14:53.586Z"
   },
   {
    "duration": 462,
    "start_time": "2022-11-28T18:20:33.709Z"
   },
   {
    "duration": 311,
    "start_time": "2022-11-28T18:20:39.204Z"
   },
   {
    "duration": 303,
    "start_time": "2022-11-28T18:21:18.432Z"
   },
   {
    "duration": 298,
    "start_time": "2022-11-28T18:22:33.273Z"
   },
   {
    "duration": 304,
    "start_time": "2022-11-28T18:22:45.130Z"
   },
   {
    "duration": 2,
    "start_time": "2022-11-28T18:22:57.807Z"
   },
   {
    "duration": 87,
    "start_time": "2022-11-28T18:22:58.291Z"
   },
   {
    "duration": 131,
    "start_time": "2022-11-28T18:22:58.758Z"
   },
   {
    "duration": 1912,
    "start_time": "2022-11-28T18:22:59.242Z"
   },
   {
    "duration": 9,
    "start_time": "2022-11-28T18:23:01.992Z"
   },
   {
    "duration": 41,
    "start_time": "2022-11-28T18:23:02.644Z"
   },
   {
    "duration": 44,
    "start_time": "2022-11-28T18:23:04.936Z"
   },
   {
    "duration": 161,
    "start_time": "2022-11-28T18:23:07.447Z"
   },
   {
    "duration": 65,
    "start_time": "2022-11-28T18:23:08.777Z"
   },
   {
    "duration": 36,
    "start_time": "2022-11-28T18:23:09.496Z"
   },
   {
    "duration": 29,
    "start_time": "2022-11-28T18:23:10.477Z"
   },
   {
    "duration": 45,
    "start_time": "2022-11-28T18:23:11.260Z"
   },
   {
    "duration": 21,
    "start_time": "2022-11-28T18:23:12.778Z"
   },
   {
    "duration": 15,
    "start_time": "2022-11-28T18:23:21.404Z"
   },
   {
    "duration": 15,
    "start_time": "2022-11-28T18:23:43.118Z"
   },
   {
    "duration": 20,
    "start_time": "2022-11-28T18:23:49.912Z"
   },
   {
    "duration": 3,
    "start_time": "2022-11-28T18:23:57.160Z"
   },
   {
    "duration": 90,
    "start_time": "2022-11-28T18:23:57.664Z"
   },
   {
    "duration": 128,
    "start_time": "2022-11-28T18:23:58.133Z"
   },
   {
    "duration": 1899,
    "start_time": "2022-11-28T18:23:58.701Z"
   },
   {
    "duration": 9,
    "start_time": "2022-11-28T18:24:00.969Z"
   },
   {
    "duration": 44,
    "start_time": "2022-11-28T18:24:01.553Z"
   },
   {
    "duration": 45,
    "start_time": "2022-11-28T18:24:03.966Z"
   },
   {
    "duration": 157,
    "start_time": "2022-11-28T18:24:06.412Z"
   },
   {
    "duration": 66,
    "start_time": "2022-11-28T18:24:09.405Z"
   },
   {
    "duration": 37,
    "start_time": "2022-11-28T18:24:10.148Z"
   },
   {
    "duration": 32,
    "start_time": "2022-11-28T18:24:11.340Z"
   },
   {
    "duration": 46,
    "start_time": "2022-11-28T18:24:12.233Z"
   },
   {
    "duration": 20,
    "start_time": "2022-11-28T18:24:15.587Z"
   },
   {
    "duration": 15,
    "start_time": "2022-11-28T18:24:20.753Z"
   },
   {
    "duration": 314,
    "start_time": "2022-11-28T18:25:34.737Z"
   },
   {
    "duration": 318,
    "start_time": "2022-11-28T18:25:44.434Z"
   },
   {
    "duration": 472,
    "start_time": "2022-11-28T18:27:00.088Z"
   },
   {
    "duration": 322,
    "start_time": "2022-11-28T18:27:17.382Z"
   },
   {
    "duration": 330,
    "start_time": "2022-11-28T18:27:31.818Z"
   },
   {
    "duration": 16,
    "start_time": "2022-11-28T18:28:26.021Z"
   },
   {
    "duration": 327,
    "start_time": "2022-11-28T18:28:43.409Z"
   },
   {
    "duration": 290,
    "start_time": "2022-11-28T18:28:50.703Z"
   },
   {
    "duration": 395,
    "start_time": "2022-11-28T18:30:12.128Z"
   },
   {
    "duration": 3,
    "start_time": "2022-11-28T18:30:43.722Z"
   },
   {
    "duration": 84,
    "start_time": "2022-11-28T18:30:44.369Z"
   },
   {
    "duration": 129,
    "start_time": "2022-11-28T18:30:45.005Z"
   },
   {
    "duration": 1828,
    "start_time": "2022-11-28T18:30:45.819Z"
   },
   {
    "duration": 15,
    "start_time": "2022-11-28T18:30:50.299Z"
   },
   {
    "duration": 138,
    "start_time": "2022-11-28T18:30:56.523Z"
   },
   {
    "duration": 36,
    "start_time": "2022-11-28T18:31:01.488Z"
   },
   {
    "duration": 157,
    "start_time": "2022-11-28T18:31:05.228Z"
   },
   {
    "duration": 63,
    "start_time": "2022-11-28T18:31:07.131Z"
   },
   {
    "duration": 38,
    "start_time": "2022-11-28T18:31:11.616Z"
   },
   {
    "duration": 29,
    "start_time": "2022-11-28T18:31:18.754Z"
   },
   {
    "duration": 43,
    "start_time": "2022-11-28T18:31:21.717Z"
   },
   {
    "duration": 21,
    "start_time": "2022-11-28T18:31:26.175Z"
   },
   {
    "duration": 15,
    "start_time": "2022-11-28T18:31:31.380Z"
   },
   {
    "duration": 311,
    "start_time": "2022-11-28T18:31:38.435Z"
   },
   {
    "duration": 352,
    "start_time": "2022-11-28T18:32:41.333Z"
   },
   {
    "duration": 153,
    "start_time": "2022-11-28T18:33:30.347Z"
   },
   {
    "duration": 71,
    "start_time": "2022-11-28T18:34:13.580Z"
   },
   {
    "duration": 85,
    "start_time": "2022-11-28T18:36:38.167Z"
   },
   {
    "duration": 348,
    "start_time": "2022-11-28T18:42:38.807Z"
   },
   {
    "duration": 356,
    "start_time": "2022-11-28T18:43:03.911Z"
   },
   {
    "duration": 228,
    "start_time": "2022-11-28T18:46:07.071Z"
   },
   {
    "duration": 215,
    "start_time": "2022-11-28T18:46:29.979Z"
   },
   {
    "duration": 293,
    "start_time": "2022-11-28T18:46:51.446Z"
   },
   {
    "duration": 216,
    "start_time": "2022-11-28T19:54:10.459Z"
   },
   {
    "duration": 213,
    "start_time": "2022-11-28T19:54:49.824Z"
   },
   {
    "duration": 3,
    "start_time": "2022-11-28T19:55:43.746Z"
   },
   {
    "duration": 86,
    "start_time": "2022-11-28T19:55:44.265Z"
   },
   {
    "duration": 134,
    "start_time": "2022-11-28T19:55:44.788Z"
   },
   {
    "duration": 1909,
    "start_time": "2022-11-28T19:55:45.404Z"
   },
   {
    "duration": 10,
    "start_time": "2022-11-28T19:55:49.468Z"
   },
   {
    "duration": 40,
    "start_time": "2022-11-28T19:55:51.305Z"
   },
   {
    "duration": 3,
    "start_time": "2022-11-28T19:58:56.356Z"
   },
   {
    "duration": 87,
    "start_time": "2022-11-28T19:58:57.229Z"
   },
   {
    "duration": 129,
    "start_time": "2022-11-28T19:58:58.836Z"
   },
   {
    "duration": 1824,
    "start_time": "2022-11-28T19:59:00.024Z"
   },
   {
    "duration": 9,
    "start_time": "2022-11-28T19:59:06.323Z"
   },
   {
    "duration": 37,
    "start_time": "2022-11-28T19:59:11.242Z"
   },
   {
    "duration": 37,
    "start_time": "2022-11-28T19:59:33.540Z"
   },
   {
    "duration": 153,
    "start_time": "2022-11-28T19:59:39.812Z"
   },
   {
    "duration": 63,
    "start_time": "2022-11-28T19:59:59.626Z"
   },
   {
    "duration": 37,
    "start_time": "2022-11-28T20:00:11.952Z"
   },
   {
    "duration": 28,
    "start_time": "2022-11-28T20:00:25.287Z"
   },
   {
    "duration": 46,
    "start_time": "2022-11-28T20:00:34.444Z"
   },
   {
    "duration": 36,
    "start_time": "2022-11-28T20:00:44.472Z"
   },
   {
    "duration": 21,
    "start_time": "2022-11-28T20:00:56.845Z"
   },
   {
    "duration": 14,
    "start_time": "2022-11-28T20:01:05.493Z"
   },
   {
    "duration": 461,
    "start_time": "2022-11-28T20:01:41.337Z"
   },
   {
    "duration": 17,
    "start_time": "2022-11-28T20:06:29.145Z"
   },
   {
    "duration": 15,
    "start_time": "2022-11-28T20:07:55.045Z"
   },
   {
    "duration": 15,
    "start_time": "2022-11-28T20:11:01.497Z"
   },
   {
    "duration": 13,
    "start_time": "2022-11-28T20:18:58.675Z"
   },
   {
    "duration": 2,
    "start_time": "2022-11-28T20:19:56.410Z"
   },
   {
    "duration": 85,
    "start_time": "2022-11-28T20:19:57.053Z"
   },
   {
    "duration": 140,
    "start_time": "2022-11-28T20:19:57.809Z"
   },
   {
    "duration": 1743,
    "start_time": "2022-11-28T20:19:58.652Z"
   },
   {
    "duration": 9,
    "start_time": "2022-11-28T20:20:02.476Z"
   },
   {
    "duration": 125,
    "start_time": "2022-11-28T20:20:05.455Z"
   },
   {
    "duration": 35,
    "start_time": "2022-11-28T20:20:08.487Z"
   },
   {
    "duration": 150,
    "start_time": "2022-11-28T20:20:11.976Z"
   },
   {
    "duration": 77,
    "start_time": "2022-11-28T20:20:14.579Z"
   },
   {
    "duration": 36,
    "start_time": "2022-11-28T20:20:16.368Z"
   },
   {
    "duration": 30,
    "start_time": "2022-11-28T20:20:17.847Z"
   },
   {
    "duration": 44,
    "start_time": "2022-11-28T20:20:18.783Z"
   },
   {
    "duration": 17,
    "start_time": "2022-11-28T20:20:21.603Z"
   },
   {
    "duration": 18,
    "start_time": "2022-11-28T20:21:10.987Z"
   },
   {
    "duration": 13,
    "start_time": "2022-11-28T20:21:24.029Z"
   },
   {
    "duration": 304,
    "start_time": "2022-11-28T20:21:48.445Z"
   },
   {
    "duration": 288,
    "start_time": "2022-11-28T20:22:02.351Z"
   },
   {
    "duration": 229,
    "start_time": "2022-11-28T20:26:06.893Z"
   },
   {
    "duration": 265,
    "start_time": "2022-11-28T20:27:20.156Z"
   },
   {
    "duration": 251,
    "start_time": "2022-11-28T20:27:48.143Z"
   },
   {
    "duration": 258,
    "start_time": "2022-11-28T20:28:26.408Z"
   },
   {
    "duration": 215,
    "start_time": "2022-11-28T20:28:54.781Z"
   },
   {
    "duration": 245,
    "start_time": "2022-11-28T20:29:12.175Z"
   },
   {
    "duration": 314,
    "start_time": "2022-11-28T20:29:58.661Z"
   },
   {
    "duration": 250,
    "start_time": "2022-11-28T20:30:19.115Z"
   },
   {
    "duration": 217,
    "start_time": "2022-11-28T20:30:44.784Z"
   },
   {
    "duration": 212,
    "start_time": "2022-11-28T20:31:26.693Z"
   },
   {
    "duration": 212,
    "start_time": "2022-11-28T20:31:38.713Z"
   },
   {
    "duration": 261,
    "start_time": "2022-11-28T20:36:48.840Z"
   },
   {
    "duration": 72,
    "start_time": "2022-11-28T20:39:40.184Z"
   },
   {
    "duration": 123,
    "start_time": "2022-11-28T20:39:56.316Z"
   },
   {
    "duration": 3,
    "start_time": "2022-11-28T20:40:12.957Z"
   },
   {
    "duration": 85,
    "start_time": "2022-11-28T20:40:13.482Z"
   },
   {
    "duration": 131,
    "start_time": "2022-11-28T20:40:14.029Z"
   },
   {
    "duration": 1905,
    "start_time": "2022-11-28T20:40:14.671Z"
   },
   {
    "duration": 10,
    "start_time": "2022-11-28T20:40:17.704Z"
   },
   {
    "duration": 37,
    "start_time": "2022-11-28T20:40:18.514Z"
   },
   {
    "duration": 37,
    "start_time": "2022-11-28T20:40:22.470Z"
   },
   {
    "duration": 159,
    "start_time": "2022-11-28T20:40:26.724Z"
   },
   {
    "duration": 69,
    "start_time": "2022-11-28T20:40:29.372Z"
   },
   {
    "duration": 37,
    "start_time": "2022-11-28T20:40:30.805Z"
   },
   {
    "duration": 26,
    "start_time": "2022-11-28T20:40:32.169Z"
   },
   {
    "duration": 42,
    "start_time": "2022-11-28T20:40:33.698Z"
   },
   {
    "duration": 17,
    "start_time": "2022-11-28T20:40:34.862Z"
   },
   {
    "duration": 14,
    "start_time": "2022-11-28T20:40:38.629Z"
   },
   {
    "duration": 301,
    "start_time": "2022-11-28T20:40:46.067Z"
   },
   {
    "duration": 303,
    "start_time": "2022-11-28T20:40:49.975Z"
   },
   {
    "duration": 242,
    "start_time": "2022-11-28T20:40:59.378Z"
   },
   {
    "duration": 71,
    "start_time": "2022-11-28T20:41:16.832Z"
   },
   {
    "duration": 404,
    "start_time": "2022-11-28T20:41:37.196Z"
   },
   {
    "duration": 306,
    "start_time": "2022-11-28T20:41:54.339Z"
   },
   {
    "duration": 74,
    "start_time": "2022-11-28T20:42:31.756Z"
   },
   {
    "duration": 311,
    "start_time": "2022-11-28T20:42:37.769Z"
   },
   {
    "duration": 324,
    "start_time": "2022-11-28T20:43:09.970Z"
   },
   {
    "duration": 314,
    "start_time": "2022-11-28T20:43:16.592Z"
   },
   {
    "duration": 400,
    "start_time": "2022-11-28T20:43:25.245Z"
   },
   {
    "duration": 297,
    "start_time": "2022-11-28T20:44:23.050Z"
   },
   {
    "duration": 328,
    "start_time": "2022-11-28T20:45:05.417Z"
   },
   {
    "duration": 340,
    "start_time": "2022-11-28T20:45:54.607Z"
   },
   {
    "duration": 6,
    "start_time": "2022-11-28T20:46:26.482Z"
   },
   {
    "duration": 291,
    "start_time": "2022-11-28T20:46:28.574Z"
   },
   {
    "duration": 308,
    "start_time": "2022-11-28T20:46:41.788Z"
   },
   {
    "duration": 398,
    "start_time": "2022-11-28T20:46:59.704Z"
   },
   {
    "duration": 297,
    "start_time": "2022-11-28T20:48:09.742Z"
   },
   {
    "duration": 308,
    "start_time": "2022-11-28T20:48:59.272Z"
   },
   {
    "duration": 293,
    "start_time": "2022-11-28T20:49:58.564Z"
   },
   {
    "duration": 186,
    "start_time": "2022-11-28T20:50:29.475Z"
   },
   {
    "duration": 196,
    "start_time": "2022-11-28T20:50:38.009Z"
   },
   {
    "duration": 184,
    "start_time": "2022-11-28T20:50:46.496Z"
   },
   {
    "duration": 462,
    "start_time": "2022-11-28T20:51:57.868Z"
   },
   {
    "duration": 388,
    "start_time": "2022-11-28T20:52:39.990Z"
   },
   {
    "duration": 218,
    "start_time": "2022-11-28T20:52:54.454Z"
   },
   {
    "duration": 62,
    "start_time": "2022-11-29T19:26:48.291Z"
   },
   {
    "duration": 840,
    "start_time": "2022-11-29T19:26:52.425Z"
   },
   {
    "duration": 146,
    "start_time": "2022-11-29T19:26:53.267Z"
   },
   {
    "duration": 158,
    "start_time": "2022-11-29T19:26:53.414Z"
   },
   {
    "duration": 2137,
    "start_time": "2022-11-29T19:26:53.575Z"
   },
   {
    "duration": 10,
    "start_time": "2022-11-29T19:26:55.713Z"
   },
   {
    "duration": 41,
    "start_time": "2022-11-29T19:26:55.724Z"
   },
   {
    "duration": 37,
    "start_time": "2022-11-29T19:26:55.767Z"
   },
   {
    "duration": 171,
    "start_time": "2022-11-29T19:26:55.822Z"
   },
   {
    "duration": 82,
    "start_time": "2022-11-29T19:26:55.995Z"
   },
   {
    "duration": 58,
    "start_time": "2022-11-29T19:26:56.079Z"
   },
   {
    "duration": 30,
    "start_time": "2022-11-29T19:26:56.139Z"
   },
   {
    "duration": 73,
    "start_time": "2022-11-29T19:26:56.170Z"
   },
   {
    "duration": 16,
    "start_time": "2022-11-29T19:26:56.245Z"
   },
   {
    "duration": 13,
    "start_time": "2022-11-29T19:26:56.263Z"
   },
   {
    "duration": 366,
    "start_time": "2022-11-29T19:26:56.278Z"
   },
   {
    "duration": 332,
    "start_time": "2022-11-29T19:26:56.645Z"
   },
   {
    "duration": 116,
    "start_time": "2022-11-29T19:26:56.979Z"
   },
   {
    "duration": 0,
    "start_time": "2022-11-29T19:26:57.097Z"
   },
   {
    "duration": 0,
    "start_time": "2022-11-29T19:26:57.098Z"
   },
   {
    "duration": 0,
    "start_time": "2022-11-29T19:26:57.100Z"
   },
   {
    "duration": 0,
    "start_time": "2022-11-29T19:26:57.102Z"
   },
   {
    "duration": 0,
    "start_time": "2022-11-29T19:26:57.104Z"
   },
   {
    "duration": 0,
    "start_time": "2022-11-29T19:26:57.105Z"
   },
   {
    "duration": 0,
    "start_time": "2022-11-29T19:26:57.123Z"
   },
   {
    "duration": 0,
    "start_time": "2022-11-29T19:26:57.125Z"
   },
   {
    "duration": 0,
    "start_time": "2022-11-29T19:26:57.127Z"
   },
   {
    "duration": 0,
    "start_time": "2022-11-29T19:26:57.128Z"
   },
   {
    "duration": 0,
    "start_time": "2022-11-29T19:26:57.130Z"
   },
   {
    "duration": 0,
    "start_time": "2022-11-29T19:26:57.131Z"
   },
   {
    "duration": 0,
    "start_time": "2022-11-29T19:26:57.133Z"
   },
   {
    "duration": 0,
    "start_time": "2022-11-29T19:26:57.134Z"
   },
   {
    "duration": 0,
    "start_time": "2022-11-29T19:26:57.136Z"
   },
   {
    "duration": 0,
    "start_time": "2022-11-29T19:26:57.137Z"
   },
   {
    "duration": 0,
    "start_time": "2022-11-29T19:26:57.138Z"
   },
   {
    "duration": 0,
    "start_time": "2022-11-29T19:26:57.139Z"
   },
   {
    "duration": 0,
    "start_time": "2022-11-29T19:26:57.140Z"
   },
   {
    "duration": 0,
    "start_time": "2022-11-29T19:26:57.141Z"
   },
   {
    "duration": 0,
    "start_time": "2022-11-29T19:26:57.143Z"
   },
   {
    "duration": 0,
    "start_time": "2022-11-29T19:26:57.144Z"
   },
   {
    "duration": 0,
    "start_time": "2022-11-29T19:26:57.145Z"
   },
   {
    "duration": 271,
    "start_time": "2022-11-29T19:27:25.521Z"
   },
   {
    "duration": 390,
    "start_time": "2022-11-29T19:27:28.687Z"
   },
   {
    "duration": 325,
    "start_time": "2022-11-29T19:27:30.135Z"
   },
   {
    "duration": 311,
    "start_time": "2022-11-29T19:27:31.190Z"
   },
   {
    "duration": 340,
    "start_time": "2022-11-29T19:27:32.205Z"
   },
   {
    "duration": 391,
    "start_time": "2022-11-29T19:27:33.932Z"
   },
   {
    "duration": 6,
    "start_time": "2022-11-29T19:27:34.602Z"
   },
   {
    "duration": 409,
    "start_time": "2022-11-29T19:27:35.415Z"
   },
   {
    "duration": 293,
    "start_time": "2022-11-29T19:27:36.014Z"
   },
   {
    "duration": 319,
    "start_time": "2022-11-29T19:27:36.605Z"
   },
   {
    "duration": 346,
    "start_time": "2022-11-29T19:27:37.178Z"
   },
   {
    "duration": 210,
    "start_time": "2022-11-29T19:27:37.754Z"
   },
   {
    "duration": 196,
    "start_time": "2022-11-29T19:27:38.315Z"
   },
   {
    "duration": 190,
    "start_time": "2022-11-29T19:27:38.836Z"
   },
   {
    "duration": 444,
    "start_time": "2022-11-29T19:27:40.101Z"
   },
   {
    "duration": 499,
    "start_time": "2022-11-29T19:27:42.101Z"
   },
   {
    "duration": 234,
    "start_time": "2022-11-29T19:27:43.415Z"
   }
  ],
  "kernelspec": {
   "display_name": "Python 3 (ipykernel)",
   "language": "python",
   "name": "python3"
  },
  "language_info": {
   "codemirror_mode": {
    "name": "ipython",
    "version": 3
   },
   "file_extension": ".py",
   "mimetype": "text/x-python",
   "name": "python",
   "nbconvert_exporter": "python",
   "pygments_lexer": "ipython3",
   "version": "3.9.12"
  },
  "toc": {
   "base_numbering": 1,
   "nav_menu": {},
   "number_sections": true,
   "sideBar": true,
   "skip_h1_title": true,
   "title_cell": "Table of Contents",
   "title_sidebar": "Contents",
   "toc_cell": false,
   "toc_position": {},
   "toc_section_display": true,
   "toc_window_display": false
  }
 },
 "nbformat": 4,
 "nbformat_minor": 2
}
